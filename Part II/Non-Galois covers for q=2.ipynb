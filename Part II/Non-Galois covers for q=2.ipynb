{
 "cells": [
  {
   "cell_type": "markdown",
   "id": "f31c22cc",
   "metadata": {},
   "source": [
    "This notebook is associated with the paper \"The relative class number one problem for function fields, II\" by K.S. Kedlaya. It runs in SageMath (tested using version 9.5rc4) and Magma (tested using version 2.26-9); it also requires the `pandas` and `openpyxl` libraries (`sage --pip install openpyxl/pandas`).\n",
    "\n",
    "In this notebook, we make computations as part of the proof that for $q=2$, there are no non-Galois covers with relative class number 1. This depends on the exhaustion over Weil polynomials performed in \"The relative class number one problem for function fields, I\"."
   ]
  },
  {
   "cell_type": "markdown",
   "id": "dc19a5ec",
   "metadata": {},
   "source": [
    "# Setup"
   ]
  },
  {
   "cell_type": "code",
   "execution_count": 1,
   "id": "71ee0b70",
   "metadata": {},
   "outputs": [],
   "source": [
    "load(\"../Shared/weil_poly_utils.sage\")\n",
    "load(\"splitting_sequences.sage\")"
   ]
  },
  {
   "cell_type": "code",
   "execution_count": 2,
   "id": "a6cdc765",
   "metadata": {},
   "outputs": [],
   "source": [
    "P.<T> = QQ[]"
   ]
  },
  {
   "cell_type": "markdown",
   "id": "126b1688",
   "metadata": {},
   "source": [
    "Read data about the exhaustion from an Excel spreadsheet."
   ]
  },
  {
   "cell_type": "code",
   "execution_count": 3,
   "id": "0802c268",
   "metadata": {},
   "outputs": [],
   "source": [
    "import pandas"
   ]
  },
  {
   "cell_type": "code",
   "execution_count": 4,
   "id": "e724ceac",
   "metadata": {},
   "outputs": [
    {
     "name": "stdout",
     "output_type": "stream",
     "text": [
      "['Unnamed: 0', 'd', 'g', \"g'\", 'Label of J(C)', '#J(C)(F_2)', '#J(C)(F_4)', 'Counts of C', \"Counts of C'\", 'Cyclic']\n"
     ]
    }
   ],
   "source": [
    "df = pandas.read_excel('../Shared/polys.xlsx')\n",
    "assert 'Cyclic' in df\n",
    "print(list(df))"
   ]
  },
  {
   "cell_type": "code",
   "execution_count": 5,
   "id": "9af7e977",
   "metadata": {},
   "outputs": [],
   "source": [
    "candidates = {}\n",
    "for i in range(len(df)):\n",
    "    r = df.iloc[i]\n",
    "    d = r[\"d\"]\n",
    "    g = r[\"g\"]\n",
    "    g1 = r[\"g'\"]\n",
    "    if (d,g,g1) not in candidates:\n",
    "        candidates[d,g,g1] = []\n",
    "    counts1 = eval(r[\"Counts of C\"])\n",
    "    counts2 = eval(r[\"Counts of C'\"])\n",
    "    ordj2 = r[\"#J(C)(F_2)\"]\n",
    "    ordj4 = r[\"#J(C)(F_4)\"]\n",
    "    candidates[d,g,g1].append((counts1, counts2, ordj2, ordj4))"
   ]
  },
  {
   "cell_type": "markdown",
   "id": "b8be1e60",
   "metadata": {},
   "source": [
    "Check that at least one degree-1 place lifts to a degree-$d$ place (Lemma 2.3)."
   ]
  },
  {
   "cell_type": "code",
   "execution_count": 6,
   "id": "1d5603a6",
   "metadata": {},
   "outputs": [
    {
     "name": "stdout",
     "output_type": "stream",
     "text": [
      "5 2 6 [5, 2] [0, 5, 0, 0, 5, 10]\n"
     ]
    }
   ],
   "source": [
    "for (d, g, g1) in candidates:\n",
    "    if d > 2:\n",
    "        for (a,b,_,_) in candidates[d,g,g1]:\n",
    "            ct1 = place_count_from_point_count(a, g)\n",
    "            ct2 = place_count_from_point_count(b, g1)\n",
    "            if not (ct1[0] > sum(ct2[i] for i in range((d-1)//2)) + (0 if d%2 else 1/2*ct2[d//2-1])):\n",
    "                print(d,g,g1,ct1,ct2)\n",
    "                assert (ct2[0] == 0 and ct2[2] == 0)"
   ]
  },
  {
   "cell_type": "markdown",
   "id": "89f16c58",
   "metadata": {},
   "source": [
    "Verify some statements about the data for $d=2$ (Remark 2.4)."
   ]
  },
  {
   "cell_type": "code",
   "execution_count": 7,
   "id": "6ccb8635",
   "metadata": {},
   "outputs": [],
   "source": [
    "for (a,b,_,_) in candidates[2,2,3]:\n",
    "    assert (a[0], a[1], b[0]) in [(2,8,0), (4,8,2)]"
   ]
  },
  {
   "cell_type": "code",
   "execution_count": 8,
   "id": "48c33a4b",
   "metadata": {},
   "outputs": [],
   "source": [
    "for (a,b,_,_) in candidates[2,3,5]:\n",
    "    assert b[0] <= 2\n",
    "    if a[0] == 4:\n",
    "        assert a[1] == 8"
   ]
  },
  {
   "cell_type": "code",
   "execution_count": 9,
   "id": "ca8544bd",
   "metadata": {},
   "outputs": [],
   "source": [
    "for (a,b,_,_) in candidates[2,3,6]:\n",
    "    assert a[0] >= 4"
   ]
  },
  {
   "cell_type": "code",
   "execution_count": 10,
   "id": "35cf2783",
   "metadata": {},
   "outputs": [],
   "source": [
    "for (a,b,_,_) in candidates[2,4,7]:\n",
    "    assert a[0] >= 3"
   ]
  },
  {
   "cell_type": "code",
   "execution_count": 11,
   "id": "5d08ade1",
   "metadata": {},
   "outputs": [],
   "source": [
    "for (a,b,_,_) in candidates[2,5,9]:\n",
    "    assert a[0] >= 2\n",
    "    if a[0] == 2:\n",
    "        assert b[1] == 4"
   ]
  },
  {
   "cell_type": "markdown",
   "id": "b3fe346c",
   "metadata": {},
   "source": [
    "# Case $d=3$ (Lemma 5.2)"
   ]
  },
  {
   "cell_type": "markdown",
   "id": "11a2c3a3",
   "metadata": {},
   "source": [
    "Subcase $(g,g') = (4,10)$."
   ]
  },
  {
   "cell_type": "code",
   "execution_count": 12,
   "id": "c375a558",
   "metadata": {},
   "outputs": [
    {
     "data": {
      "text/plain": [
       "[((6, 6), (0, 0)),\n",
       " ((6, 6), (0, 0)),\n",
       " ((7, 7), (0, 0)),\n",
       " ((7, 9), (0, 2)),\n",
       " ((8, 8), (0, 0))]"
      ]
     },
     "execution_count": 12,
     "metadata": {},
     "output_type": "execute_result"
    }
   ],
   "source": [
    "l = [((a[0], a[1]), (b[0], b[1])) for (a,b,_1,_2) in candidates[3,4,10]]\n",
    "l"
   ]
  },
  {
   "cell_type": "code",
   "execution_count": 13,
   "id": "0e0ca202",
   "metadata": {},
   "outputs": [],
   "source": [
    "for ct1, ct2 in l:\n",
    "    for s in splitting_sequences(ct1, ct2, 3):\n",
    "        trB = splittings_to_quadratic_resolvent(ct1, s)\n",
    "        assert trB[0] <= -7 or (trB[0] == -6 and trB[1] == -6)\n",
    "        assert not weil_polys_from_traces(P, 6, 2, trB)"
   ]
  },
  {
   "cell_type": "markdown",
   "id": "11a3baf7",
   "metadata": {},
   "source": [
    "Subcase $(g,g') = (3,7)$, $\\#C'(\\mathbb{F}_2) > 1$."
   ]
  },
  {
   "cell_type": "code",
   "execution_count": 14,
   "id": "30b66f36",
   "metadata": {},
   "outputs": [
    {
     "data": {
      "text/plain": [
       "[((6, 10), (2, 2))]"
      ]
     },
     "execution_count": 14,
     "metadata": {},
     "output_type": "execute_result"
    }
   ],
   "source": [
    "l = [((a[0], a[1]), (b[0], b[1])) for (a,b,_1,_2) in candidates[3,3,7] if b[0] > 1]\n",
    "l"
   ]
  },
  {
   "cell_type": "code",
   "execution_count": 15,
   "id": "e51dff87",
   "metadata": {},
   "outputs": [],
   "source": [
    "assert all(not splitting_sequences(ct1, ct2, 3) for ct1, ct2 in l)"
   ]
  },
  {
   "cell_type": "markdown",
   "id": "17a9db5b",
   "metadata": {},
   "source": [
    "Subcase $(g,g') = (3,7)$, $\\#C'(\\mathbb{F}_2) = 1$."
   ]
  },
  {
   "cell_type": "code",
   "execution_count": 16,
   "id": "a7d6d2f6",
   "metadata": {},
   "outputs": [
    {
     "data": {
      "text/plain": [
       "[((5, 9), (1, 3))]"
      ]
     },
     "execution_count": 16,
     "metadata": {},
     "output_type": "execute_result"
    }
   ],
   "source": [
    "l = [((a[0], a[1]), (b[0], b[1])) for (a,b,_1,_2) in candidates[3,3,7] if b[0] == 1 and b[1] >= 3]\n",
    "l"
   ]
  },
  {
   "cell_type": "code",
   "execution_count": 17,
   "id": "6c770ce2",
   "metadata": {},
   "outputs": [
    {
     "name": "stdout",
     "output_type": "stream",
     "text": [
      "[[([3], [3], [3], [3], [2, 1]), ([3], [3])]]\n",
      "(-3, -9)\n"
     ]
    }
   ],
   "source": [
    "for ct1, ct2 in l:\n",
    "    tmp = splitting_sequences(ct1, ct2, 3)\n",
    "    print(tmp)\n",
    "    for s in tmp:\n",
    "        trB = splittings_to_quadratic_resolvent(ct1, s)\n",
    "        print(trB)\n",
    "        assert not weil_polys_from_traces(P, 4, 2, trB)"
   ]
  },
  {
   "cell_type": "markdown",
   "id": "4e646c1a",
   "metadata": {},
   "source": [
    "Subcase $(g,g') = (3,7)$, $\\#C'(\\mathbb{F}_2) = 0$, $\\#C'(\\mathbb{F}_4) > 0$."
   ]
  },
  {
   "cell_type": "code",
   "execution_count": 18,
   "id": "1d46042b",
   "metadata": {},
   "outputs": [
    {
     "data": {
      "text/plain": [
       "[((4, 8), (0, 2)), ((4, 10), (0, 2)), ((4, 12), (0, 6))]"
      ]
     },
     "execution_count": 18,
     "metadata": {},
     "output_type": "execute_result"
    }
   ],
   "source": [
    "l = [((a[0], a[1]), (b[0], b[1])) for (a,b,_1,_2) in candidates[3,3,7] if b[0] == 0 and b[1] > 0]\n",
    "l"
   ]
  },
  {
   "cell_type": "code",
   "execution_count": 19,
   "id": "7ecf88c6",
   "metadata": {},
   "outputs": [
    {
     "name": "stdout",
     "output_type": "stream",
     "text": [
      "[[([3], [3], [3], [3]), ([3], [2, 1])]]\n",
      "(-4, -4)\n",
      "[[([3], [3], [3], [3]), ([3], [3], [2, 1])]]\n",
      "(-4, -6)\n",
      "[[([3], [3], [3], [3]), ([3], [3], [3], [1, 1, 1])], [([3], [3], [3], [3]), ([3], [2, 1], [2, 1], [2, 1])]]\n",
      "(-4, -12)\n",
      "(-4, 0)\n"
     ]
    }
   ],
   "source": [
    "for ct1, ct2 in l:\n",
    "    tmp = splitting_sequences(ct1, ct2, 3)\n",
    "    print(tmp)\n",
    "    for s in tmp:\n",
    "        trB = splittings_to_quadratic_resolvent(ct1, s)\n",
    "        print(trB)\n",
    "        assert (not weil_polys_from_traces(P, 4, 2, trB) or ct1[1] != 8)"
   ]
  },
  {
   "cell_type": "markdown",
   "id": "f7ec23f7",
   "metadata": {},
   "source": [
    "Subcase $(g,g') = (3,7)$, $\\#C'(\\mathbb{F}_2) = 0$, $\\#C'(\\mathbb{F}_4) = 0$."
   ]
  },
  {
   "cell_type": "code",
   "execution_count": 20,
   "id": "bbba5cc7",
   "metadata": {},
   "outputs": [
    {
     "data": {
      "text/plain": [
       "[((2, 8), (0, 0)),\n",
       " ((3, 7), (0, 0)),\n",
       " ((3, 7), (0, 0)),\n",
       " ((4, 6), (0, 0)),\n",
       " ((4, 6), (0, 0)),\n",
       " ((4, 8), (0, 0)),\n",
       " ((4, 8), (0, 0)),\n",
       " ((4, 8), (0, 0)),\n",
       " ((4, 8), (0, 0))]"
      ]
     },
     "execution_count": 20,
     "metadata": {},
     "output_type": "execute_result"
    }
   ],
   "source": [
    "l = [((a[0], a[1]), (b[0], b[1])) for (a,b,_1,_2) in candidates[3,3,7] if b[0] == 0 and b[1] == 0]\n",
    "l"
   ]
  },
  {
   "cell_type": "code",
   "execution_count": 21,
   "id": "6b6db98e",
   "metadata": {},
   "outputs": [],
   "source": [
    "for ct1, ct2 in l:\n",
    "    assert not weil_polys_from_traces(P, 4, 2, ct1)"
   ]
  },
  {
   "cell_type": "markdown",
   "id": "7c8c4c98",
   "metadata": {},
   "source": [
    "Subcase $(g,g') = (2,4)$."
   ]
  },
  {
   "cell_type": "code",
   "execution_count": 22,
   "id": "8c1f8c4e",
   "metadata": {},
   "outputs": [
    {
     "data": {
      "text/plain": [
       "[((1, 9), (0, 6)),\n",
       " ((3, 3), (0, 4)),\n",
       " ((3, 9), (0, 10)),\n",
       " ((4, 6), (0, 6)),\n",
       " ((5, 5), (1, 5))]"
      ]
     },
     "execution_count": 22,
     "metadata": {},
     "output_type": "execute_result"
    }
   ],
   "source": [
    "l = [((a[0], a[1]), (b[0], b[1])) for (a,b,_1,_2) in candidates[3,2,4]]\n",
    "l"
   ]
  },
  {
   "cell_type": "code",
   "execution_count": 23,
   "id": "172f2dcf",
   "metadata": {},
   "outputs": [],
   "source": [
    "assert all(trace_from_weil_poly(u, 2)[1] == -3 for u in weil_polys_from_traces(P, 2, 2, [-1]))"
   ]
  },
  {
   "cell_type": "markdown",
   "id": "4c71cdf0",
   "metadata": {},
   "source": [
    "Subcase $(g,g') = (2,6)$."
   ]
  },
  {
   "cell_type": "code",
   "execution_count": 24,
   "id": "e9b40c1b",
   "metadata": {},
   "outputs": [
    {
     "data": {
      "text/plain": [
       "[((3, 9), (0, 2)), ((4, 8), (0, 2)), ((4, 10), (0, 2)), ((5, 5), (0, 2))]"
      ]
     },
     "execution_count": 24,
     "metadata": {},
     "output_type": "execute_result"
    }
   ],
   "source": [
    "l = [((a[0], a[1]), (b[0], b[1])) for (a,b,_1,_2) in candidates[3,2,6]]\n",
    "assert all(ct1[0] >= 3 and ct2[0] == 0 and ct2[1] == 2 for ct1, ct2 in l)\n",
    "l"
   ]
  },
  {
   "cell_type": "markdown",
   "id": "c6f9f472",
   "metadata": {},
   "source": [
    "# Case $d=4$ (Lemma 6.3)"
   ]
  },
  {
   "cell_type": "markdown",
   "id": "33a8291a",
   "metadata": {},
   "source": [
    "Identify possible cases of an intermediate subfield for $d=4$ (Lemma 6.2)."
   ]
  },
  {
   "cell_type": "code",
   "execution_count": 25,
   "id": "cf38c935",
   "metadata": {},
   "outputs": [
    {
     "name": "stdout",
     "output_type": "stream",
     "text": [
      "4 2 5 [2, 8, 8, 24, 52, 56, 100, 256, 476, 968, 2180, 4272, 8140] [0, 0, 12, 16, 60, 24, 84, 160, 444, 840, 2244, 4144, 8268]\n"
     ]
    }
   ],
   "source": [
    "for (d, g, g1) in [(4,3,9), (4,2,5)]:\n",
    "    for (a,b,_1,_2) in candidates[d,g,g1]:\n",
    "        for i in range(len(df)):\n",
    "            if df.loc[i, \"d\"] == 2 and df.loc[i, \"g\"] == g and \\\n",
    "            df.loc[i, \"g'\"] == 2*g-1 and eval(df.loc[i, \"Counts of C\"]) == a:\n",
    "                for j in range(len(df)):\n",
    "                    if df.loc[j, \"d\"] == 2 and df.loc[j, \"g\"] == 2*g-1 and \\\n",
    "                    df.loc[j, \"g'\"] == g1 and \\\n",
    "                    df.loc[i, \"Counts of C'\"] == df.loc[j, \"Counts of C\"] and \\\n",
    "                    eval(df.loc[j, \"Counts of C'\"]) == b:\n",
    "                        print(d,g,g1,a,b)\n",
    "                        assert g == 2\n"
   ]
  },
  {
   "cell_type": "markdown",
   "id": "fc72f9e0",
   "metadata": {},
   "source": [
    "Subcase $(g,g') = (3,9)$ and the quadratic resolvent is constant."
   ]
  },
  {
   "cell_type": "code",
   "execution_count": 26,
   "id": "ddd01ab9",
   "metadata": {},
   "outputs": [
    {
     "data": {
      "text/plain": [
       "[((5, 9, 8, 25), (0, 0, 0, 28))]"
      ]
     },
     "execution_count": 26,
     "metadata": {},
     "output_type": "execute_result"
    }
   ],
   "source": [
    "l = [((a[0], a[1], a[2], a[3]), (b[0], b[1], b[2], b[3])) for (a,b,c2,c4) in candidates[4,3,9] if c4%3 == 0]\n",
    "assert all(ct1[1] == 9 and ct2[1] == 0 for ct1, ct2 in l)\n",
    "assert len(l) == 1\n",
    "l"
   ]
  },
  {
   "cell_type": "code",
   "execution_count": 27,
   "id": "0eed63d4",
   "metadata": {},
   "outputs": [],
   "source": [
    "ct1, ct2 = l[0]\n",
    "assert not splitting_sequences(ct1, ct2,4,alternating=True)"
   ]
  },
  {
   "cell_type": "markdown",
   "id": "b3f392e3",
   "metadata": {},
   "source": [
    "Subcase $(g,g') = (2,5)$ and the quadratic resolvent is constant."
   ]
  },
  {
   "cell_type": "code",
   "execution_count": 28,
   "id": "f01004fa",
   "metadata": {},
   "outputs": [
    {
     "data": {
      "text/plain": [
       "[(5, 1)]"
      ]
     },
     "execution_count": 28,
     "metadata": {},
     "output_type": "execute_result"
    }
   ],
   "source": [
    "l = [(a[0], b[0]) for (a,b,c2,c4) in candidates[4,2,5] if c4%3 == 0]\n",
    "assert all(ct2 == 1 for ct1, ct2 in l)\n",
    "l"
   ]
  },
  {
   "cell_type": "markdown",
   "id": "bbad24c1",
   "metadata": {},
   "source": [
    "Subcase $(g,g') = (3,9)$ and the quadratic resolvent is purely geometric."
   ]
  },
  {
   "cell_type": "code",
   "execution_count": 29,
   "id": "b8e15353",
   "metadata": {},
   "outputs": [
    {
     "data": {
      "text/plain": [
       "[((5, 9), (0, 0)),\n",
       " ((6, 8), (0, 0)),\n",
       " ((6, 8), (0, 2)),\n",
       " ((6, 8), (0, 0)),\n",
       " ((6, 8), (0, 2))]"
      ]
     },
     "execution_count": 29,
     "metadata": {},
     "output_type": "execute_result"
    }
   ],
   "source": [
    "l = [((a[0], a[1]), (b[0], b[1])) for (a,b,_1,_2) in candidates[4,3,9]]\n",
    "assert all(ct1[0] in [5,6] and ct2[0] == 0 and ct2[1] <= 2 for ct1, ct2 in l)\n",
    "l"
   ]
  },
  {
   "cell_type": "markdown",
   "id": "6fe1d316",
   "metadata": {},
   "source": [
    "Subcase $(g,g') = (2,5)$ and the quadratic resolvent is purely geometric."
   ]
  },
  {
   "cell_type": "code",
   "execution_count": 30,
   "id": "ae7bbf6d",
   "metadata": {},
   "outputs": [
    {
     "data": {
      "text/plain": [
       "[((2, 8), (0, 0), 4, 40),\n",
       " ((4, 4), (0, 4), 8, 16),\n",
       " ((4, 4), (1, 1), 8, 16),\n",
       " ((4, 8), (0, 8), 10, 40)]"
      ]
     },
     "execution_count": 30,
     "metadata": {},
     "output_type": "execute_result"
    }
   ],
   "source": [
    "l = [((a[0], a[1]), (b[0], b[1]), c2, c4) for (a,b,c2,c4) in candidates[4,2,5] if c2%2 == 0]\n",
    "assert all(ct1[0] in [2,4] and c2%3 != 0 for ct1, ct2, c2, c4 in l)\n",
    "l"
   ]
  },
  {
   "cell_type": "markdown",
   "id": "7457123c",
   "metadata": {},
   "source": [
    "# Case $d=5$ (Lemma 7.2)"
   ]
  },
  {
   "cell_type": "markdown",
   "id": "6a4c0e7b",
   "metadata": {},
   "source": [
    "Compile a list of all cases that need to be treated."
   ]
  },
  {
   "cell_type": "code",
   "execution_count": 31,
   "id": "6510ef3f",
   "metadata": {},
   "outputs": [
    {
     "data": {
      "text/plain": [
       "[([3, 5, 9, 33, 33, 65, 129], [0, 0, 0, 20, 15, 90, 105], 5, 25),\n",
       " ([3, 7, 9, 31, 33, 43, 129], [0, 0, 9, 8, 30, 33, 168], 6, 36),\n",
       " ([4, 8, 10, 24, 14, 56, 158], [0, 0, 15, 20, 20, 45, 175], 10, 40),\n",
       " ([4, 8, 10, 24, 14, 56, 158], [0, 6, 0, 18, 0, 60, 210], 10, 40),\n",
       " ([4, 10, 7, 18, 24, 55, 172], [0, 2, 15, 18, 40, 23, 140], 11, 55),\n",
       " ([5, 9, 5, 17, 25, 81, 145], [0, 6, 3, 34, 30, 63, 126], 15, 45),\n",
       " ([5, 9, 5, 17, 25, 81, 145], [0, 10, 0, 10, 25, 70, 140], 15, 45),\n",
       " ([6, 6, 9, 10, 36, 87, 90], [1, 3, 7, 27, 41, 69, 71], 19, 19)]"
      ]
     },
     "execution_count": 31,
     "metadata": {},
     "output_type": "execute_result"
    }
   ],
   "source": [
    "all_cases = [(a[:7], b[:7], c2, c4) for (a,b,c2,c4) in candidates[5,2,6]]\n",
    "case_log = {(tuple(ct1), tuple(ct2), c2, c4): False for ct1, ct2, c2, c4 in all_cases}\n",
    "all_cases"
   ]
  },
  {
   "cell_type": "code",
   "execution_count": 32,
   "id": "fb660c24",
   "metadata": {},
   "outputs": [],
   "source": [
    "def certify(ct1, ct2, case_log, alternating=False):\n",
    "    for long1, long2, c2, c4 in case_log:\n",
    "        if long1[:len(ct1)] == tuple(ct1) and long2[:len(ct2)] == tuple(ct2):\n",
    "            if alternating:\n",
    "                assert c2%2 == 1\n",
    "            case_log[long1, long2, c2, c4] = True"
   ]
  },
  {
   "cell_type": "markdown",
   "id": "ea81bd07",
   "metadata": {},
   "source": [
    "Assuming that $d=5$, convert a sequence of splittings to the traces of $B_1$ and $B_2$."
   ]
  },
  {
   "cell_type": "code",
   "execution_count": 33,
   "id": "1b78c2ba",
   "metadata": {},
   "outputs": [],
   "source": [
    "def splittings_to_B1_B2(ct1, ct2, s, return_both=False):\n",
    "    d = {(5,): [(5,1), (5,) * 4],\n",
    "         (3,1,1): [(3,3), (3,) * 6 + (1,) * 2],\n",
    "         (2,2,1): [(2,) * 2 + (1,) * 2, (2,) * 10],\n",
    "         (1,1,1,1,1): [(1,) * 6, (1,) * 20]}\n",
    "    n = len(s)\n",
    "    ct1p = place_count_from_point_count(ct1, n)\n",
    "    ct2p = place_count_from_point_count(ct2, n)\n",
    "    ct3p = [0 for _ in range(n)]\n",
    "    ct4p = [0 for _ in range(n)]\n",
    "    for i in range(n):\n",
    "        for p in s[i]:\n",
    "            pt = tuple(p)\n",
    "            for j in d[pt][0]:\n",
    "                if (i+1)*j <= n:\n",
    "                    ct3p[(i+1)*j-1] += 1\n",
    "            for j in d[pt][1]:\n",
    "                if (i+1)*j <= n:\n",
    "                    ct4p[(i+1)*j-1] += 1\n",
    "    ct3 = point_count_from_place_count(ct3p, n)\n",
    "    ct4 = point_count_from_place_count(ct4p, n)\n",
    "    trA = [ct1[i] - ct2[i] for i in range(n)]\n",
    "    trB1 = [ct1[i] - ct3[i] for i in range(n)]\n",
    "    trB2 = [ct1[i] - ct4[i] - 2*trA[i] - trB1[i] for i in range(n)]\n",
    "    return trB1, trB2"
   ]
  },
  {
   "cell_type": "markdown",
   "id": "71dabc41",
   "metadata": {},
   "source": [
    "Subcase $(\\#C(\\mathbb{F}_2); \\#C'(\\mathbb{F}_2), \\dots, \\#C'(\\mathbb{F}_{32})) = (4; 0,6,0,18,0)$."
   ]
  },
  {
   "cell_type": "code",
   "execution_count": 34,
   "id": "92d049ab",
   "metadata": {},
   "outputs": [],
   "source": [
    "ct1, ct2 = [4,8,10,24,14],[0,6,0,18,0]\n",
    "assert not splitting_sequences(ct1, ct2, 5)\n",
    "certify(ct1, ct2, case_log)"
   ]
  },
  {
   "cell_type": "markdown",
   "id": "ded63353",
   "metadata": {},
   "source": [
    "Subcase $(\\#C(\\mathbb{F}_2), \\#C(\\mathbb{F}_4); \\#C'(\\mathbb{F}_2), \\#C'(\\mathbb{F}_4)) = (6,6;1,3)$."
   ]
  },
  {
   "cell_type": "code",
   "execution_count": 35,
   "id": "c359c8e7",
   "metadata": {},
   "outputs": [],
   "source": [
    "ct1, ct2 = [6,6],[1,3]\n",
    "assert not splitting_sequences(ct1, ct2,5,alternating=True)\n",
    "certify(ct1, ct2, case_log, alternating=True)"
   ]
  },
  {
   "cell_type": "markdown",
   "id": "9c1542d7",
   "metadata": {},
   "source": [
    "Subcase $(\\#C(\\mathbb{F}_2), \\dots, \\#C(\\mathbb{F}_8); \\#C'(\\mathbb{F}_2), \\dots, \\#C'(\\mathbb{F}_8)) = (5,9,5;0,6,3)$."
   ]
  },
  {
   "cell_type": "code",
   "execution_count": 36,
   "id": "6ea06616",
   "metadata": {
    "scrolled": false
   },
   "outputs": [],
   "source": [
    "ct1, ct2 = [5,9,5],[0,6,3]\n",
    "assert not splitting_sequences(ct1, ct2, 5,alternating=True)\n",
    "certify(ct1, ct2, case_log, alternating=True)"
   ]
  },
  {
   "cell_type": "markdown",
   "id": "f3417dc2",
   "metadata": {},
   "source": [
    "Subcase $(\\#C(\\mathbb{F}_2), \\dots, \\#C(\\mathbb{F}_8); \\#C'(\\mathbb{F}_2), \\dots, \\#C'(\\mathbb{F}_8)) = (4,10,7;0,2,15)$,"
   ]
  },
  {
   "cell_type": "code",
   "execution_count": 37,
   "id": "d5eedbe2",
   "metadata": {},
   "outputs": [
    {
     "data": {
      "text/plain": [
       "[[([5], [5], [5], [5]), ([5], [5], [2, 2, 1]), ([1, 1, 1, 1, 1],)]]"
      ]
     },
     "execution_count": 37,
     "metadata": {},
     "output_type": "execute_result"
    }
   ],
   "source": [
    "ct1, ct2 = [4,10,7],[0,2,15]\n",
    "l = splitting_sequences(ct1,ct2,5,alternating=True)\n",
    "assert all(s[2] == ([1,1,1,1,1],) for s in l)\n",
    "certify(ct1, ct2, case_log, alternating=True)\n",
    "l"
   ]
  },
  {
   "cell_type": "markdown",
   "id": "995795a4",
   "metadata": {},
   "source": [
    "Subcase $(\\#C(\\mathbb{F}_2),\\dots \\#C(\\mathbb{F}_{32}); \\#C'(\\mathbb{F}_2), \\dots, \\#C'(\\mathbb{F}_{32}))  = (3, 5, 9, 33, 33; 0, 0, 0, 20, 15)$."
   ]
  },
  {
   "cell_type": "code",
   "execution_count": 38,
   "id": "391a589f",
   "metadata": {},
   "outputs": [
    {
     "name": "stdout",
     "output_type": "stream",
     "text": [
      "{([5], [5], [5])}\n",
      "{([5],)}\n",
      "{([5], [5])}\n",
      "{([5], [5], [5], [5], [5], [5])}\n"
     ]
    }
   ],
   "source": [
    "ct1, ct2 = [3,5,9,33,33],[0,0,0,20,15]\n",
    "l = splitting_sequences(ct1,ct2,5,alternating=True)\n",
    "print(set(s[0] for s in l))\n",
    "print(set(s[1] for s in l))\n",
    "print(set(s[2] for s in l))\n",
    "print(set(s[4] for s in l))"
   ]
  },
  {
   "cell_type": "code",
   "execution_count": 39,
   "id": "3e89097a",
   "metadata": {},
   "outputs": [
    {
     "data": {
      "text/plain": [
       "[([0, 0, 0, -20, -15], [-3, -5, -9, -53, -48]),\n",
       " ([0, 0, 0, 4, -15], [-3, -5, -9, -13, -48]),\n",
       " ([0, 0, 0, -8, -15], [-3, -5, -9, 7, -48]),\n",
       " ([0, 0, 0, -20, -15], [-3, -5, -9, 27, -48])]"
      ]
     },
     "execution_count": 39,
     "metadata": {},
     "output_type": "execute_result"
    }
   ],
   "source": [
    "tmp = [splittings_to_B1_B2(ct1, ct2, s) for s in l]\n",
    "assert all(trB2[:3] == [-3, -5, -9] for trB1, trB2 in tmp)\n",
    "tmp"
   ]
  },
  {
   "cell_type": "code",
   "execution_count": 40,
   "id": "d8ab519e",
   "metadata": {},
   "outputs": [
    {
     "data": {
      "text/plain": [
       "{-13, -8, -3, 2, 7, 12, 17, 22, 27, 32, 37, 47, 57}"
      ]
     },
     "execution_count": 40,
     "metadata": {},
     "output_type": "execute_result"
    }
   ],
   "source": [
    "tmp2 = set(trace_from_weil_poly(u, 5)[4] for u in weil_polys_from_traces(P, 12, 2, [-3, -5, -9]))\n",
    "assert not any(trB2[4] in tmp2 for trB1, trB2 in tmp)\n",
    "tmp2"
   ]
  },
  {
   "cell_type": "code",
   "execution_count": 41,
   "id": "915bc6af",
   "metadata": {},
   "outputs": [],
   "source": [
    "certify(ct1, ct2, case_log, alternating=True)"
   ]
  },
  {
   "cell_type": "markdown",
   "id": "7929fbb0",
   "metadata": {},
   "source": [
    "Subcase $(\\#C(\\mathbb{F}_2),\\dots \\#C(\\mathbb{F}_{8}); \\#C'(\\mathbb{F}_2), \\dots, \\#C'(\\mathbb{F}_{8}))  = (4, 8, 10; 0, 0, 15)$,"
   ]
  },
  {
   "cell_type": "code",
   "execution_count": 42,
   "id": "434ac3c1",
   "metadata": {},
   "outputs": [
    {
     "data": {
      "text/plain": [
       "{([5], [5], [5], [5])}"
      ]
     },
     "execution_count": 42,
     "metadata": {},
     "output_type": "execute_result"
    }
   ],
   "source": [
    "ct1, ct2 = [4,8,10],[0,0,15]\n",
    "set(s[0] for s in splitting_sequences(ct1,ct2,5))"
   ]
  },
  {
   "cell_type": "code",
   "execution_count": 43,
   "id": "d69062c7",
   "metadata": {},
   "outputs": [
    {
     "data": {
      "text/plain": [
       "[[([5], [5], [5], [5]), ([5], [5]), ([5], [1, 1, 1, 1, 1])]]"
      ]
     },
     "execution_count": 43,
     "metadata": {},
     "output_type": "execute_result"
    }
   ],
   "source": [
    "l = splitting_sequences(ct1,ct2,5,alternating=True)\n",
    "l"
   ]
  },
  {
   "cell_type": "code",
   "execution_count": 44,
   "id": "ef57cf3d",
   "metadata": {},
   "outputs": [
    {
     "data": {
      "text/plain": [
       "[([0, 0, -15], [-4, -8, -25])]"
      ]
     },
     "execution_count": 44,
     "metadata": {},
     "output_type": "execute_result"
    }
   ],
   "source": [
    "tmp = [splittings_to_B1_B2(ct1,ct2, s) for s in l]\n",
    "tmp"
   ]
  },
  {
   "cell_type": "code",
   "execution_count": 45,
   "id": "5975338a",
   "metadata": {},
   "outputs": [],
   "source": [
    "assert all(not weil_polys_from_traces(P, 12, 2, trB2) for trB1, trB2 in tmp)"
   ]
  },
  {
   "cell_type": "code",
   "execution_count": 46,
   "id": "e1730a60",
   "metadata": {},
   "outputs": [],
   "source": [
    "certify(ct1, ct2, case_log)"
   ]
  },
  {
   "cell_type": "markdown",
   "id": "14ce1ce2",
   "metadata": {},
   "source": [
    "Subcase $(\\#C(\\mathbb{F}_2),\\dots \\#C(\\mathbb{F}_{8}); \\#C'(\\mathbb{F}_2), \\dots, \\#C'(\\mathbb{F}_{8}))  = (5, 9, 5; 0, 10, 0)$."
   ]
  },
  {
   "cell_type": "code",
   "execution_count": 47,
   "id": "159ed9be",
   "metadata": {},
   "outputs": [
    {
     "data": {
      "text/plain": [
       "[[([5], [5], [5], [5], [5]), ([5], [1, 1, 1, 1, 1]), ()],\n",
       " [([5], [5], [5], [5], [5]), ([3, 2], [1, 1, 1, 1, 1]), ()],\n",
       " [([5], [5], [5], [5], [5]), ([3, 1, 1], [2, 1, 1, 1]), ()]]"
      ]
     },
     "execution_count": 47,
     "metadata": {},
     "output_type": "execute_result"
    }
   ],
   "source": [
    "ct1, ct2 = [5,9,5],[0,10,0]\n",
    "splitting_sequences(ct1,ct2,5)"
   ]
  },
  {
   "cell_type": "code",
   "execution_count": 48,
   "id": "99a5fcdb",
   "metadata": {
    "scrolled": true
   },
   "outputs": [
    {
     "data": {
      "text/plain": [
       "[[([5], [5], [5], [5], [5]), ([5], [1, 1, 1, 1, 1]), ()]]"
      ]
     },
     "execution_count": 48,
     "metadata": {},
     "output_type": "execute_result"
    }
   ],
   "source": [
    "l = splitting_sequences(ct1,ct2,5,alternating=True)\n",
    "l"
   ]
  },
  {
   "cell_type": "code",
   "execution_count": 49,
   "id": "ad1265de",
   "metadata": {},
   "outputs": [
    {
     "data": {
      "text/plain": [
       "[([0, -10, 0], [-5, -19, -5])]"
      ]
     },
     "execution_count": 49,
     "metadata": {},
     "output_type": "execute_result"
    }
   ],
   "source": [
    "tmp = [splittings_to_B1_B2(ct1,ct2, s) for s in l]\n",
    "tmp"
   ]
  },
  {
   "cell_type": "code",
   "execution_count": 50,
   "id": "db1dd3cf",
   "metadata": {},
   "outputs": [],
   "source": [
    "assert all(not weil_polys_from_traces(P, 12, 2, trB2) for trB1, trB2 in tmp)"
   ]
  },
  {
   "cell_type": "code",
   "execution_count": 51,
   "id": "3458e3d0",
   "metadata": {},
   "outputs": [],
   "source": [
    "certify(ct1, ct2, case_log, alternating=True)"
   ]
  },
  {
   "cell_type": "markdown",
   "id": "1ed071b3",
   "metadata": {},
   "source": [
    "Subcase $(\\#C(\\mathbb{F}_2), \\dots, \\#C(\\mathbb{F}_{128}); \\#C'(\\mathbb{F}_2), \\dots, \\#C'(\\mathbb{F}_{128})) = (3,7,9,31,33,43,129;0,0,9,8,30,33,168)$."
   ]
  },
  {
   "cell_type": "code",
   "execution_count": 52,
   "id": "5add0c91",
   "metadata": {},
   "outputs": [
    {
     "data": {
      "text/plain": [
       "{([5], [5], [5])}"
      ]
     },
     "execution_count": 52,
     "metadata": {},
     "output_type": "execute_result"
    }
   ],
   "source": [
    "ct1, ct2 = [3,7,9,31,33,43,129],[0,0,9,8,30,33,168]\n",
    "l = splitting_sequences(ct1[:3],ct2[:3],5)\n",
    "set([s[0] for s in l])"
   ]
  },
  {
   "cell_type": "code",
   "execution_count": 53,
   "id": "eb2791f7",
   "metadata": {},
   "outputs": [
    {
     "data": {
      "text/plain": [
       "({([5], [5])},\n",
       " {([3, 1, 1], [2, 2, 1])},\n",
       " {([5], [5], [5], [5], [2, 2, 1], [2, 2, 1]),\n",
       "  ([5], [5], [5], [5], [5], [3, 1, 1])},\n",
       " {([5], [5], [5], [2, 2, 1], [2, 2, 1], [2, 2, 1]),\n",
       "  ([5], [5], [5], [5], [3, 1, 1], [2, 2, 1])},\n",
       " {([5], [5], [5], [2, 2, 1], [2, 2, 1]), ([5], [5], [5], [5], [3, 1, 1])})"
      ]
     },
     "execution_count": 53,
     "metadata": {},
     "output_type": "execute_result"
    }
   ],
   "source": [
    "l = splitting_sequences(ct1,ct2,5,alternating=True)\n",
    "set([s[1] for s in l]), set([s[2] for s in l]), set([s[3] for s in l]), set([s[4] for s in l]), set([s[5] for s in l])"
   ]
  },
  {
   "cell_type": "code",
   "execution_count": 54,
   "id": "5138c43e",
   "metadata": {},
   "outputs": [
    {
     "data": {
      "text/plain": [
       "([[0, 0, 0, -8, -30, -24, 42],\n",
       "  [0, 0, 0, -8, -30, -24, -42],\n",
       "  [0, 0, 0, -8, -30, -24, -126]],\n",
       " [[-3, -7, 3, -7, -3, -19, 25],\n",
       "  [-3, -7, 3, -7, -3, -19, 25],\n",
       "  [-3, -7, 3, -7, -3, -19, 25]])"
      ]
     },
     "execution_count": 54,
     "metadata": {},
     "output_type": "execute_result"
    }
   ],
   "source": [
    "tmp = [splittings_to_B1_B2(ct1, ct2, s) for s in l]\n",
    "tmp2 = [(trB1, trB2) for (trB1, trB2) in tmp if weil_polys_from_traces(P, 12, 2, trB2)]\n",
    "tmp3 = [trB1 for (trB1, trB2) in tmp2]\n",
    "tmp4 = [trB2 for (trB1, trB2) in tmp2]\n",
    "tmp3, tmp4"
   ]
  },
  {
   "cell_type": "code",
   "execution_count": 55,
   "id": "c5f0c7e6",
   "metadata": {},
   "outputs": [],
   "source": [
    "assert not any(weil_polys_from_traces(P, 10, 2, trB1) for trB1 in tmp3)"
   ]
  },
  {
   "cell_type": "code",
   "execution_count": 56,
   "id": "9751925b",
   "metadata": {},
   "outputs": [],
   "source": [
    "certify(ct1, ct2, case_log)"
   ]
  },
  {
   "cell_type": "markdown",
   "id": "1c4af8f9",
   "metadata": {},
   "source": [
    "Check that we have handled all subcases."
   ]
  },
  {
   "cell_type": "code",
   "execution_count": 57,
   "id": "6e7e3992",
   "metadata": {},
   "outputs": [],
   "source": [
    "assert all(case_log.values())"
   ]
  },
  {
   "cell_type": "markdown",
   "id": "5aee139e",
   "metadata": {},
   "source": [
    "# Case $d=6$ (Lemma 8.3)"
   ]
  },
  {
   "cell_type": "markdown",
   "id": "b64ad9b3",
   "metadata": {},
   "source": [
    "Identify possible cases of an intermediate subfield for $d=6$ (Lemma 8.2)."
   ]
  },
  {
   "cell_type": "code",
   "execution_count": 58,
   "id": "651a6694",
   "metadata": {},
   "outputs": [
    {
     "name": "stdout",
     "output_type": "stream",
     "text": [
      "[4, 8, 10, 24, 14, 56, 158, 256, 550, 968, 1918, 4272, 8246] [0, 0, 6, 8, 30, 24, 126, 192, 582, 840, 2046, 4400, 8502]\n"
     ]
    }
   ],
   "source": [
    "for (a,b,_1,_2) in candidates[6,2,7]:\n",
    "    for i in range(len(df)):\n",
    "        if df.loc[i, \"d\"] == 2 and df.loc[i, \"g\"] == 2 and \\\n",
    "        df.loc[i, \"g'\"] == 3 and eval(df.loc[i, \"Counts of C\"]) == a:\n",
    "            for j in range(len(df)):\n",
    "                if df.loc[j, \"d\"] == 3 and df.loc[j, \"g\"] == 3 and \\\n",
    "                df.loc[j, \"g'\"] == 7 and \\\n",
    "                df.loc[i, \"Counts of C'\"] == df.loc[j, \"Counts of C\"] and \\\n",
    "                eval(df.loc[j, \"Counts of C'\"]) == b:\n",
    "                    print(a,b)\n",
    "                    assert (b[3] == 8)"
   ]
  },
  {
   "cell_type": "code",
   "execution_count": 59,
   "id": "84fe8c3a",
   "metadata": {},
   "outputs": [],
   "source": [
    "for (a,b,_1,_2) in candidates[6,2,7]:\n",
    "    for i in range(len(df)):\n",
    "        if df.loc[i, \"d\"] == 3 and df.loc[i, \"g\"] == 2 and \\\n",
    "        df.loc[i, \"g'\"] == 4 and eval(df.loc[i, \"Counts of C\"]) == a: \n",
    "            for j in range(len(df)):\n",
    "                if df.loc[j, \"d\"] == 4 and df.loc[j, \"g\"] == 2 and \\\n",
    "                df.loc[j, \"g'\"] == 7 and \\\n",
    "                df.loc[i, \"Counts of C'\"] == df.loc[j, \"Counts of C\"] and \\\n",
    "                eval(df.loc[j, \"Counts of C'\"]) == b:\n",
    "                    print(a,b)\n",
    "                    assert False"
   ]
  },
  {
   "cell_type": "markdown",
   "id": "82d70338",
   "metadata": {},
   "source": [
    "Assuming $d=6$, convert a splitting sequence into the traces of the Prym for the sextic twin. \n",
    "If `S6 == False`, assume that $G \\not\\subseteq \\mathrm{PGL}(2,5)$, so that the sextic twin becomes reducible."
   ]
  },
  {
   "cell_type": "code",
   "execution_count": 60,
   "id": "7b5d67d5",
   "metadata": {},
   "outputs": [],
   "source": [
    "def splittings_to_sextic_twin(ct1, s, S6=True):\n",
    "    n = len(ct1)\n",
    "    d = {(6,): [3,2,1],\n",
    "         (3,2,1): [6],\n",
    "         (4,1,1): [4,1,1],\n",
    "         (2,2,2): [2,1,1,1,1],\n",
    "         (2,1,1,1,1): [2,2,2],\n",
    "         (5,1): [5,1],\n",
    "         (4,2): [4,2],\n",
    "         (3,3): [3,1,1,1],\n",
    "         (3,1,1,1): [3,3],\n",
    "         (2,2,1,1): [2,2,1,1],\n",
    "         (1,1,1,1,1,1): [1,1,1,1,1,1]}\n",
    "    s2 = [[d[tuple(p)] for p in s[i]] for i in range(len(s))]\n",
    "    ct2p = place_count_from_splittings(s2)\n",
    "    ct2 = point_count_from_place_count(ct2p, n)\n",
    "    if S6:\n",
    "        return [ct1[i] - ct2[i] for i in range(n)]\n",
    "    return [2*ct1[i] - ct2[i] for i in range(n)]"
   ]
  },
  {
   "cell_type": "markdown",
   "id": "53783037",
   "metadata": {},
   "source": [
    "Remove subcases based on the reduced resultant."
   ]
  },
  {
   "cell_type": "code",
   "execution_count": 61,
   "id": "2634594b",
   "metadata": {},
   "outputs": [
    {
     "data": {
      "text/plain": [
       "[([5, 5, 17, 9, 25, 65], [0, 0, 3, 12, 35, 87], 13, 13),\n",
       " ([5, 9, 5, 17, 25, 81], [0, 2, 9, 2, 30, 71], 15, 45),\n",
       " ([5, 9, 5, 17, 25, 81], [0, 4, 0, 12, 15, 106], 15, 45),\n",
       " ([6, 6, 9, 10, 36, 87], [0, 0, 15, 20, 30, 87], 19, 19)]"
      ]
     },
     "execution_count": 61,
     "metadata": {},
     "output_type": "execute_result"
    }
   ],
   "source": [
    "l = []\n",
    "for (a,b,c2,c4) in candidates[6,2,7]:\n",
    "    u1 = weil_poly_from_point_count(a, 2)\n",
    "    u2 = weil_poly_from_point_count(b, 7)\n",
    "    v1 = u1.trace_polynomial()[0]\n",
    "    v2 = (u2//u1).trace_polynomial()[0]\n",
    "    if modified_reduced_resultant(v1, v2)%3 != 0:\n",
    "        l.append((a, b, c2, c4))\n",
    "[(a[:6], b[:6], c2, c4) for (a,b,c2,c4) in l]"
   ]
  },
  {
   "cell_type": "markdown",
   "id": "f0d296e1",
   "metadata": {},
   "source": [
    "Identify remaining cases."
   ]
  },
  {
   "cell_type": "code",
   "execution_count": 62,
   "id": "404fddc5",
   "metadata": {},
   "outputs": [
    {
     "data": {
      "text/plain": [
       "[([4, 8, 10, 24, 14, 56], [0, 0, 6, 8, 30, 24], 10, 40),\n",
       " ([5, 5, 17, 9, 25, 65], [0, 0, 12, 4, 15, 90], 13, 13),\n",
       " ([5, 5, 17, 9, 25, 65], [0, 2, 3, 10, 30, 47], 13, 13),\n",
       " ([5, 7, 11, 15, 15, 91], [0, 2, 6, 10, 5, 116], 14, 28),\n",
       " ([5, 9, 5, 17, 25, 81], [1, 1, 1, 1, 41, 49], 15, 45),\n",
       " ([6, 6, 9, 10, 36, 87], [0, 2, 3, 14, 35, 131], 19, 19),\n",
       " ([6, 6, 9, 10, 36, 87], [0, 4, 3, 12, 30, 91], 19, 19)]"
      ]
     },
     "execution_count": 62,
     "metadata": {},
     "output_type": "execute_result"
    }
   ],
   "source": [
    "all_cases = [(a[:6], b[:6], c2, c4) for (a,b,c2,c4) in candidates[6,2,7] if (a,b,c2,c4) not in l]\n",
    "case_log = {(tuple(ct1), tuple(ct2), c2, c4): False for ct1, ct2, c2, c4 in all_cases}\n",
    "all_cases"
   ]
  },
  {
   "cell_type": "markdown",
   "id": "578bc8bf",
   "metadata": {},
   "source": [
    "Subcases with the quadratic resolvent constant which require only consideration of splitting sequences."
   ]
  },
  {
   "cell_type": "code",
   "execution_count": 63,
   "id": "841476ca",
   "metadata": {},
   "outputs": [],
   "source": [
    "ct1, ct2 = [5,5], [0, 2]\n",
    "assert not splitting_sequences(ct1, ct2, 6, alternating=True)\n",
    "certify(ct1, ct2, case_log)"
   ]
  },
  {
   "cell_type": "code",
   "execution_count": 64,
   "id": "f02e46fd",
   "metadata": {},
   "outputs": [],
   "source": [
    "ct1, ct2 = [5,9], [1, 1]\n",
    "assert not splitting_sequences(ct1, ct2, 6, alternating=True)\n",
    "certify(ct1, ct2, case_log)"
   ]
  },
  {
   "cell_type": "code",
   "execution_count": 65,
   "id": "b85f6e1f",
   "metadata": {},
   "outputs": [],
   "source": [
    "ct1, ct2 = [6,6], [0,2]\n",
    "assert not splitting_sequences(ct1, ct2, 6, alternating=True)\n",
    "certify(ct1, ct2, case_log)"
   ]
  },
  {
   "cell_type": "code",
   "execution_count": 66,
   "id": "6bf98435",
   "metadata": {},
   "outputs": [],
   "source": [
    "ct1, ct2 = [6,6], [0,4]\n",
    "assert not splitting_sequences(ct1, ct2, 6, alternating=True)\n",
    "certify(ct1, ct2, case_log)"
   ]
  },
  {
   "cell_type": "code",
   "execution_count": 67,
   "id": "072489ea",
   "metadata": {},
   "outputs": [
    {
     "data": {
      "text/plain": [
       "[[([6], [6], [6], [6]), ([4, 2], [4, 2]), ([6], [4, 1, 1])],\n",
       " [([6], [6], [6], [6]), ([4, 2], [4, 2]), ([4, 1, 1], [2, 2, 2])],\n",
       " [([6], [6], [6], [6]), ([4, 2], [4, 2]), ([3, 2, 1], [3, 2, 1])],\n",
       " [([6], [6], [6], [6]), ([4, 2], [3, 3]), ([6], [4, 1, 1])],\n",
       " [([6], [6], [6], [6]), ([4, 2], [3, 3]), ([4, 1, 1], [2, 2, 2])],\n",
       " [([6], [6], [6], [6]), ([4, 2], [3, 3]), ([3, 2, 1], [3, 2, 1])],\n",
       " [([6], [6], [6], [6]), ([3, 3], [3, 3]), ([6], [4, 1, 1])],\n",
       " [([6], [6], [6], [6]), ([3, 3], [3, 3]), ([4, 1, 1], [2, 2, 2])],\n",
       " [([6], [6], [6], [6]), ([3, 3], [3, 3]), ([3, 2, 1], [3, 2, 1])]]"
      ]
     },
     "execution_count": 67,
     "metadata": {},
     "output_type": "execute_result"
    }
   ],
   "source": [
    "ct1, ct2 = [4, 8,10,24,14,56], [0, 0, 6, 8, 30,24]\n",
    "splitting_sequences(ct1[:3], ct2[:3], 6, alternating=True)"
   ]
  },
  {
   "cell_type": "code",
   "execution_count": 68,
   "id": "4cf79f27",
   "metadata": {
    "scrolled": true
   },
   "outputs": [],
   "source": [
    "assert not splitting_sequences(ct1, ct2, 6, alternating=True)\n",
    "certify(ct1, ct2, case_log)"
   ]
  },
  {
   "cell_type": "markdown",
   "id": "a54cc223",
   "metadata": {},
   "source": [
    "Subcase $(\\#C(\\mathbb{F}_2),\\dots \\#C(\\mathbb{F}_{32}); \\#C'(\\mathbb{F}_2), \\dots, \\#C'(\\mathbb{F}_{32})) = (5,7,11, 15,15; 0, 2, 6, 10,5)$ and quadratic resolvent constant."
   ]
  },
  {
   "cell_type": "code",
   "execution_count": 69,
   "id": "f93c9fd1",
   "metadata": {},
   "outputs": [
    {
     "data": {
      "text/plain": [
       "{([6], [6], [6], [6], [6])}"
      ]
     },
     "execution_count": 69,
     "metadata": {},
     "output_type": "execute_result"
    }
   ],
   "source": [
    "ct1, ct2 = [5,7,11,15,15], [0,2,6,10,5]\n",
    "l = splitting_sequences(ct1[:3], ct2[:3], 6, alternating=True)\n",
    "set([s[0] for s in l])"
   ]
  },
  {
   "cell_type": "code",
   "execution_count": 70,
   "id": "2e8d596d",
   "metadata": {},
   "outputs": [
    {
     "name": "stdout",
     "output_type": "stream",
     "text": [
      "{([5, 1],)}\n",
      "{([3, 2, 1], [3, 2, 1])}\n",
      "{([3, 3], [2, 2, 1, 1]), ([4, 2], [2, 2, 1, 1]), ([5, 1], [5, 1])}\n",
      "{([3, 2, 1], [2, 2, 2]), ([6], [3, 2, 1])}\n"
     ]
    }
   ],
   "source": [
    "l = splitting_sequences(ct1[:5], ct2[:5], 6, alternating=True)\n",
    "l = [s for s in l if [4,1,1] not in s[2]]\n",
    "print(set([s[1] for s in l]))\n",
    "print(set([s[2] for s in l]))\n",
    "print(set([s[3] for s in l]))\n",
    "print(set([s[4] for s in l]))"
   ]
  },
  {
   "cell_type": "code",
   "execution_count": 71,
   "id": "72617b0d",
   "metadata": {},
   "outputs": [
    {
     "data": {
      "text/plain": [
       "{(0, -10, -9, -22), (0, -10, -9, -10)}"
      ]
     },
     "execution_count": 71,
     "metadata": {},
     "output_type": "execute_result"
    }
   ],
   "source": [
    "tmp = set([tuple(splittings_to_sextic_twin(ct1[:4], s)) for s in l])\n",
    "tmp"
   ]
  },
  {
   "cell_type": "code",
   "execution_count": 72,
   "id": "f7945f31",
   "metadata": {},
   "outputs": [],
   "source": [
    "assert not any(weil_polys_from_traces(P, 10, 2, u) for u in tmp)"
   ]
  },
  {
   "cell_type": "code",
   "execution_count": 73,
   "id": "b98ab9c1",
   "metadata": {},
   "outputs": [],
   "source": [
    "certify(ct1, ct2, case_log)"
   ]
  },
  {
   "cell_type": "markdown",
   "id": "0db23cfa",
   "metadata": {},
   "source": [
    "Subcase $(\\#C(\\mathbb{F}_2),\\dots \\#C(\\mathbb{F}_{64}); \\#C'(\\mathbb{F}_2), \\dots, \\#C'(\\mathbb{F}_{64})) = (5,5,17,9,25,65; 0,0,12,4,15,90)$ and quadratic resolvent constant."
   ]
  },
  {
   "cell_type": "code",
   "execution_count": 74,
   "id": "06099312",
   "metadata": {},
   "outputs": [
    {
     "data": {
      "text/plain": [
       "{([6], [6], [6], [6], [6])}"
      ]
     },
     "execution_count": 74,
     "metadata": {},
     "output_type": "execute_result"
    }
   ],
   "source": [
    "ct1, ct2 = [5,5,17,9,25,65], [0,0,12,4,15,90]\n",
    "l = splitting_sequences(ct1[:4], ct2[:4], 6, alternating=True)\n",
    "set([s[0] for s in l])"
   ]
  },
  {
   "cell_type": "code",
   "execution_count": 75,
   "id": "764b53ae",
   "metadata": {},
   "outputs": [
    {
     "name": "stdout",
     "output_type": "stream",
     "text": [
      "{()}\n",
      "{([6], [4, 1, 1], [3, 2, 1], [3, 2, 1]), ([4, 1, 1], [3, 2, 1], [3, 2, 1], [2, 2, 2]), ([3, 2, 1], [3, 2, 1], [3, 2, 1], [3, 2, 1])}\n",
      "{([5, 1],)}\n",
      "{([6], [3, 2, 1], [3, 2, 1], [3, 2, 1]), ([6], [6], [4, 1, 1], [3, 2, 1]), ([6], [4, 1, 1], [3, 2, 1], [2, 2, 2]), ([3, 2, 1], [3, 2, 1], [3, 2, 1], [2, 2, 2]), ([4, 1, 1], [3, 2, 1], [2, 2, 2], [2, 2, 2])}\n"
     ]
    }
   ],
   "source": [
    "l = splitting_sequences(ct1[:5], ct2[:5], 6, alternating=True)\n",
    "l = [s for s in l if [2,1,1,1,1] not in s[2] and s[2].count([4,1,1]) <= 1]\n",
    "print(set([s[1] for s in l]))\n",
    "print(set([s[2] for s in l]))\n",
    "print(set([s[3] for s in l]))\n",
    "print(set([s[4] for s in l]))"
   ]
  },
  {
   "cell_type": "code",
   "execution_count": 76,
   "id": "a82e76cf",
   "metadata": {},
   "outputs": [
    {
     "data": {
      "text/plain": [
       "{(0, -10, -21, -10, -30),\n",
       " (0, -10, -21, -10, -15),\n",
       " (0, -10, -21, -10, 0),\n",
       " (0, -10, -21, -10, 15),\n",
       " (0, -10, -12, -10, -30),\n",
       " (0, -10, -12, -10, -15),\n",
       " (0, -10, -12, -10, 0),\n",
       " (0, -10, -12, -10, 15),\n",
       " (0, -10, -3, -10, -30),\n",
       " (0, -10, -3, -10, -15),\n",
       " (0, -10, -3, -10, 0),\n",
       " (0, -10, -3, -10, 15)}"
      ]
     },
     "execution_count": 76,
     "metadata": {},
     "output_type": "execute_result"
    }
   ],
   "source": [
    "tmp = set(tuple(splittings_to_sextic_twin(ct1[:5], s)) for s in l)\n",
    "tmp"
   ]
  },
  {
   "cell_type": "code",
   "execution_count": 77,
   "id": "a9f9bf0d",
   "metadata": {},
   "outputs": [
    {
     "data": {
      "text/plain": [
       "[[0, -10, -3, -10, 15, 23]]"
      ]
     },
     "execution_count": 77,
     "metadata": {},
     "output_type": "execute_result"
    }
   ],
   "source": [
    "tmp2 = [trace_from_weil_poly(u, 6) for trB in tmp for u in weil_polys_from_traces(P, 10, 2, list(trB))]\n",
    "assert len(tmp2) == 1\n",
    "tmp2"
   ]
  },
  {
   "cell_type": "code",
   "execution_count": 78,
   "id": "42e3fb77",
   "metadata": {},
   "outputs": [
    {
     "data": {
      "text/plain": [
       "[[([6], [6], [6], [6], [6]),\n",
       "  (),\n",
       "  ([3, 2, 1], [3, 2, 1], [3, 2, 1], [3, 2, 1]),\n",
       "  ([5, 1],),\n",
       "  ([6], [3, 2, 1], [3, 2, 1], [3, 2, 1])]]"
      ]
     },
     "execution_count": 78,
     "metadata": {},
     "output_type": "execute_result"
    }
   ],
   "source": [
    "l = [s for s in l if splittings_to_sextic_twin(ct1[:5], s) == tmp2[0][:5]]\n",
    "l"
   ]
  },
  {
   "cell_type": "code",
   "execution_count": 79,
   "id": "64d81efd",
   "metadata": {},
   "outputs": [],
   "source": [
    "l2 = splitting_sequences(ct1, ct2, 6, alternating=True, seed=l)\n",
    "assert all(splittings_to_sextic_twin(ct1,s) != tmp2[0] for s in l2)"
   ]
  },
  {
   "cell_type": "code",
   "execution_count": 80,
   "id": "bc95c61f",
   "metadata": {},
   "outputs": [],
   "source": [
    "certify(ct1, ct2, case_log)"
   ]
  },
  {
   "cell_type": "markdown",
   "id": "7ef3d62f",
   "metadata": {},
   "source": [
    "Check that all cases with the quadratic resolvent constant have been settled."
   ]
  },
  {
   "cell_type": "code",
   "execution_count": 81,
   "id": "8255ab64",
   "metadata": {},
   "outputs": [],
   "source": [
    "assert all(case_log.values())"
   ]
  },
  {
   "cell_type": "markdown",
   "id": "39cf23ae",
   "metadata": {},
   "source": [
    "Subcases with the quadratic resolvent purely geometric."
   ]
  },
  {
   "cell_type": "code",
   "execution_count": 82,
   "id": "3c017cc4",
   "metadata": {},
   "outputs": [
    {
     "data": {
      "text/plain": [
       "[((4, 8, 10, 24, 14), (0, 0, 6, 8, 30)),\n",
       " ((5, 7, 11, 15, 15), (0, 2, 6, 10, 5))]"
      ]
     },
     "execution_count": 82,
     "metadata": {},
     "output_type": "execute_result"
    }
   ],
   "source": [
    "counts = [(long1[:5], long2[:5]) for long1, long2, c2, c4 in case_log if c2%2 == 0]\n",
    "counts"
   ]
  },
  {
   "cell_type": "code",
   "execution_count": 83,
   "id": "9fced8cd",
   "metadata": {},
   "outputs": [
    {
     "name": "stdout",
     "output_type": "stream",
     "text": [
      "Point counts: (4, 8, 10, 24, 14), (0, 0, 6, 8, 30)\n",
      "Splittings in degree 1: {([6], [6], [6], [3, 3])}\n",
      "Traces of B: [2, 0, -4, -8]\n",
      "Splittings in degree 2: {([6], [6]), ([6], [2, 2, 2]), ([2, 2, 2], [2, 2, 2])}\n",
      "Splittings in degree 3: {([4, 2], [3, 3]), ([4, 2], [4, 2]), ([3, 3], [3, 3])}\n",
      "Traces of B1 (based on splitting): [{-2}, {-8, -14, -20}, {-8, -26, -17}]\n",
      "Traces of B1' (based on splitting): [{2}, {0, -6, -12}, {-16}]\n",
      "Traces of B1 (by exhaustion): [{-2}, {-8}, {-8}, {0, 4, 8, 12, 16, -4}]\n",
      "Traces of B1' (by exhaustion): [{2}, {0}, {-16}, {-8, -4}]\n",
      "Splittings in degree 4 (S6): {([5, 1], [4, 2], [4, 2], [3, 2, 1]), ([4, 2], [4, 2], [3, 2, 1], [3, 2, 1]), ([6], [4, 2], [3, 2, 1], [3, 2, 1])}\n",
      "Traces of B1 (based on splitting): [{-2}, {-8}, {-8}, {0, -4}]\n",
      "Splittings in degree 4 (PGL25): {([6], [5, 1], [5, 1], [2, 2, 2]), ([6], [6], [2, 2, 2], [2, 2, 1, 1]), ([5, 1], [5, 1], [3, 3], [3, 3]), ([6], [6], [4, 1, 1], [2, 2, 2]), ([6], [6], [4, 1, 1], [3, 3]), ([6], [6], [3, 3], [2, 2, 1, 1])}\n",
      "Traces of B1' (based on splitting): [{2}, {0}, {-16}, {-8, -4}]\n",
      "Splittings in degree 5 (S6): none\n",
      "Splittings in degree 5 (PGL25): none\n",
      "This case complete!\n",
      "\n",
      "Point counts: (5, 7, 11, 15, 15), (0, 2, 6, 10, 5)\n",
      "Splittings in degree 1: {([6], [6], [6], [4, 2], [3, 3])}\n",
      "Traces of B: [1, -3, -5, 1]\n",
      "Splittings in degree 2: {([2, 2, 2],), ([6],)}\n",
      "Splittings in degree 3: {([4, 2], [3, 3]), ([4, 2], [4, 2]), ([3, 3], [3, 3])}\n",
      "Traces of B1 (based on splitting): [{-1}, {-15, -9}, {-16, -7, -25}]\n",
      "Traces of B1' (based on splitting): [{4}, {-8, -2}, {-14}]\n",
      "Traces of B1 (by exhaustion): [{-1}, {-9}, {-7}, {3, 7, 11, 15, -13, 19, -9, -5, -1}]\n",
      "Traces of B1' (by exhaustion): [set(), set(), set(), set()]\n",
      "Splittings in degree 4 (S6): {([4, 2], [3, 2, 1]), ([5, 1], [4, 2]), ([6], [3, 2, 1])}\n",
      "Traces of B1 (based on splitting): [{-1}, {-9}, {-7}, {-13, -9}]\n",
      "Splittings in degree 4 (PGL25): none\n",
      "Splittings in degree 5 (S6): none\n",
      "This case complete!\n",
      "\n"
     ]
    }
   ],
   "source": [
    "PGL25_avoid = [[3,2,1],[4,2],[2,1,1,1,1],[3,1,1,1]]\n",
    "for (ct1, ct2) in counts:\n",
    "    print(\"Point counts: {}, {}\".format(ct1, ct2))\n",
    "    l = splitting_sequences(ct1[:3], ct2[:3], 6)\n",
    "    l = [s for s in l if splittings_to_quadratic_resolvent(ct1[:3], s)[0] <= 2]\n",
    "    print(\"Splittings in degree 1: {}\".format(set(s[0] for s in l)))\n",
    "    tmp = set(splittings_to_quadratic_resolvent(ct1[:3], s)[0] for s in l)\n",
    "    assert len(tmp) == 1\n",
    "    trB = list(tmp)[0]\n",
    "    tmp = weil_polys_from_traces(P, 2, 2, [trB])\n",
    "    assert len(tmp) == 1\n",
    "    trB = trace_from_weil_poly(tmp[0], 4)\n",
    "    print(\"Traces of B: {}\".format(trB))\n",
    "    l = [s for s in l if splittings_to_quadratic_resolvent(ct1[:3], s) == tuple(trB[:3])]\n",
    "    print(\"Splittings in degree 2: {}\".format(set(s[1] for s in l)))\n",
    "    print(\"Splittings in degree 3: {}\".format(set(s[2] for s in l)))\n",
    "    trB1 = [splittings_to_sextic_twin(ct1[:3], s) for s in l]\n",
    "    print(\"Traces of B1 (based on splitting): {}\".format([set(t[i] for t in trB1) for i in range(3)]))\n",
    "    lprime = [s for s in l if not any(i in s[2] for i in PGL25_avoid)]\n",
    "    trB1prime = [splittings_to_sextic_twin(ct1[:3], s, S6=False) for s in lprime]\n",
    "    print(\"Traces of B1' (based on splitting): {}\".format([set(t[i] for t in trB1prime) for i in range(3)]))\n",
    "    trB1 = [trace_from_weil_poly(t, 5) for t1 in trB1 for t in weil_polys_from_traces(P, 10, 2, t1)]\n",
    "    print(\"Traces of B1 (by exhaustion): {}\".format([set(t[i] for t in trB1) for i in range(4)]))\n",
    "    trB1prime = [trace_from_weil_poly(t, 5) for t1 in trB1prime for t in weil_polys_from_traces(P, 8, 2, t1)]\n",
    "    print(\"Traces of B1' (by exhaustion): {}\".format([set(t[i] for t in trB1prime) for i in range(4)]))\n",
    "    tmp = [s for s in splitting_sequences(ct1[:4], ct2[:4], 6, seed=l)]\n",
    "    l1 = [s for s in tmp if splittings_to_sextic_twin(ct1[:4], s) in [t[:4] for t in trB1]]\n",
    "    print(\"Splittings in degree 4 (S6): {}\".format(set([s[3] for s in l1])))\n",
    "    trB1 = [t1 for t1 in trB1 if any(splittings_to_sextic_twin(ct1[:4], s) == t1[:4] for s in l1)]\n",
    "    print(\"Traces of B1 (based on splitting): {}\".format([set(t[i] for t in trB1) for i in range(4)]))\n",
    "    tmp = [s for s in splitting_sequences(ct1[:4], ct2[:4], 6, seed=lprime, avoid=PGL25_avoid)]\n",
    "    l1prime = [s for s in tmp if splittings_to_sextic_twin(ct1[:4], s, S6=False) in [t[:4] for t in trB1prime]]\n",
    "    if l1prime:\n",
    "        print(\"Splittings in degree 4 (PGL25): {}\".format(set([s[3] for s in l1prime])))\n",
    "        trB1prime = [t1 for t1 in trB1prime if any(splittings_to_sextic_twin(ct1[:4], s, S6=False) == t1[:4] for s in l1prime)]\n",
    "        print(\"Traces of B1' (based on splitting): {}\".format([set(t[i] for t in trB1prime) for i in range(4)]))\n",
    "    else: \n",
    "        print(\"Splittings in degree 4 (PGL25): none\")\n",
    "    tmp = [s for s in splitting_sequences(ct1[:5], ct2[:5], 6, seed=l1)]\n",
    "    l1 = [s for s in tmp if splittings_to_sextic_twin(ct1[:5], s) in trB1]\n",
    "    assert not l1\n",
    "    print(\"Splittings in degree 5 (S6): none\")\n",
    "    if l1prime:\n",
    "        tmp = [s for s in splitting_sequences(ct1[:5], ct2[:5], 6, seed=l1prime, avoid=PGL25_avoid)]\n",
    "        l1prime = [s for s in tmp if splittings_to_sextic_twin(ct1[:5], s, S6=False) in trB1prime]\n",
    "        assert not l1prime\n",
    "        print(\"Splittings in degree 5 (PGL25): none\")\n",
    "    print(\"This case complete!\")\n",
    "    print(\"\")"
   ]
  },
  {
   "cell_type": "markdown",
   "id": "4ef84fab",
   "metadata": {},
   "source": [
    "# Case $d=7$ (Lemma 9.1)"
   ]
  },
  {
   "cell_type": "code",
   "execution_count": 84,
   "id": "1ff939dd",
   "metadata": {},
   "outputs": [
    {
     "data": {
      "text/plain": [
       "[([5, 7, 11, 15, 15, 91, 131, 255, 479, 987, 2227, 3999, 8143],\n",
       "  [0, 0, 0, 0, 0, 84, 133, 336, 378, 980, 2310, 4032, 8008],\n",
       "  14,\n",
       "  28)]"
      ]
     },
     "execution_count": 84,
     "metadata": {},
     "output_type": "execute_result"
    }
   ],
   "source": [
    "(d, g, g1) = (7, 2, 8)\n",
    "candidates[d, g, g1]"
   ]
  },
  {
   "cell_type": "code",
   "execution_count": 85,
   "id": "9cddbf11",
   "metadata": {},
   "outputs": [
    {
     "data": {
      "text/plain": [
       "T^4 + 2*T^3 + 3*T^2 + 4*T + 4"
      ]
     },
     "execution_count": 85,
     "metadata": {},
     "output_type": "execute_result"
    }
   ],
   "source": [
    "u = weil_poly_from_point_count(candidates[d, g, g1][0][0], g); u"
   ]
  },
  {
   "cell_type": "code",
   "execution_count": 86,
   "id": "523034a2",
   "metadata": {},
   "outputs": [
    {
     "data": {
      "text/plain": [
       "T^16 - 3*T^15 + 2*T^14 + 14*T^10 - 23*T^9 + 13*T^8 - 46*T^7 + 56*T^6 + 128*T^2 - 384*T + 256"
      ]
     },
     "execution_count": 86,
     "metadata": {},
     "output_type": "execute_result"
    }
   ],
   "source": [
    "v = weil_poly_from_point_count(candidates[d, g, g1][0][1], g1); v"
   ]
  },
  {
   "cell_type": "code",
   "execution_count": 87,
   "id": "23d8641b",
   "metadata": {},
   "outputs": [],
   "source": [
    "K1 = magma.NumberField(u)\n",
    "a  = K1.gen(1)\n",
    "O1 = K1.MaximalOrder()\n",
    "O1a = O1.sub([a, 2/a])\n",
    "assert O1a == O1\n",
    "assert O1.ClassNumber() == 1"
   ]
  },
  {
   "cell_type": "code",
   "execution_count": 88,
   "id": "f6fd6ce2",
   "metadata": {},
   "outputs": [],
   "source": [
    "K2 = magma.NumberField(v//u)\n",
    "b = K2.gen(1)\n",
    "O2 = K2.MaximalOrder()\n",
    "O2a = O2.sub([b, 2/b])\n",
    "assert O2a == O2\n",
    "assert O2.ClassNumber() == 1"
   ]
  },
  {
   "cell_type": "code",
   "execution_count": 89,
   "id": "89324b03",
   "metadata": {},
   "outputs": [],
   "source": [
    "K2s = K2.sage()\n",
    "l = K2s.primes_above(7)\n",
    "assert(len(l) == 1)\n",
    "p = l[0]\n",
    "z = cyclotomic_polynomial(7).roots(K2s)[0][0]\n",
    "assert K2s(z-1).valuation(p) == 1\n",
    "assert K2s(7).valuation(p) == 6"
   ]
  },
  {
   "cell_type": "markdown",
   "id": "b3295efd",
   "metadata": {},
   "source": [
    "## Lemma 9.3"
   ]
  },
  {
   "cell_type": "code",
   "execution_count": 90,
   "id": "7a94e74b",
   "metadata": {},
   "outputs": [
    {
     "data": {
      "text/plain": [
       "T^12 - 3*T^11 + 2*T^10 + 5*T^8 - 12*T^7 + 16*T^6 - 24*T^5 + 20*T^4 + 32*T^2 - 96*T + 64"
      ]
     },
     "execution_count": 90,
     "metadata": {},
     "output_type": "execute_result"
    }
   ],
   "source": [
    "u = weil_poly_from_point_count([0,0,0,20,15,90], 6); u"
   ]
  },
  {
   "cell_type": "code",
   "execution_count": 91,
   "id": "86ed4db6",
   "metadata": {},
   "outputs": [
    {
     "data": {
      "text/plain": [
       "T^8 - 3*T^7 + 2*T^6 + T^4 + 8*T^2 - 24*T + 16"
      ]
     },
     "execution_count": 91,
     "metadata": {},
     "output_type": "execute_result"
    }
   ],
   "source": [
    "v = u.factor()[-1][0]; v"
   ]
  },
  {
   "cell_type": "code",
   "execution_count": 92,
   "id": "eb764bce",
   "metadata": {},
   "outputs": [],
   "source": [
    "K2 = magma.NumberField(v)\n",
    "b = K2.gen(1)\n",
    "O2 = K2.MaximalOrder()\n",
    "O2a = O2.sub([b, 2/b])\n",
    "assert O2a == O2\n",
    "assert O2.ClassNumber() == 1"
   ]
  },
  {
   "cell_type": "code",
   "execution_count": 93,
   "id": "c323efbd",
   "metadata": {},
   "outputs": [],
   "source": [
    "K2s = K2.sage()\n",
    "l = K2s.primes_above(5)\n",
    "assert K2s(5).valuation(l[0]) == 4\n",
    "assert K2s(5).valuation(l[1]) == 4\n",
    "z = cyclotomic_polynomial(5).roots(K2s)[0][0]\n",
    "assert K2s(z-1).valuation(l[0]) == 1\n",
    "assert K2s(z-1).valuation(l[1]) == 1"
   ]
  }
 ],
 "metadata": {
  "kernelspec": {
   "display_name": "SageMath 9.5.rc4",
   "language": "sage",
   "name": "sagemath"
  },
  "language_info": {
   "codemirror_mode": {
    "name": "ipython",
    "version": 3
   },
   "file_extension": ".py",
   "mimetype": "text/x-python",
   "name": "python",
   "nbconvert_exporter": "python",
   "pygments_lexer": "ipython3",
   "version": "3.9.7"
  }
 },
 "nbformat": 4,
 "nbformat_minor": 5
}
