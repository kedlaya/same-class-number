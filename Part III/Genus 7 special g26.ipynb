{
 "cells": [
  {
   "cell_type": "markdown",
   "metadata": {},
   "source": [
    "Insert explanatory text here. Allow 5 minutes for completion."
   ]
  },
  {
   "cell_type": "code",
   "execution_count": 1,
   "metadata": {},
   "outputs": [],
   "source": [
    "load(\"preamble.sage\")"
   ]
  },
  {
   "cell_type": "markdown",
   "metadata": {},
   "source": [
    "Construct the set of $\\mathbb{F}_2$-rational points of $\\mathbf{P}(1:1:1:2)$."
   ]
  },
  {
   "cell_type": "code",
   "execution_count": 2,
   "metadata": {},
   "outputs": [],
   "source": [
    "F = GF(2)\n",
    "P.<x0,x1,x2,y> = PolynomialRing(F, 4)"
   ]
  },
  {
   "cell_type": "code",
   "execution_count": 3,
   "metadata": {
    "scrolled": true
   },
   "outputs": [
    {
     "data": {
      "text/plain": [
       "15"
      ]
     },
     "execution_count": 3,
     "metadata": {},
     "output_type": "execute_result"
    }
   ],
   "source": [
    "S = [vector(F,t) for t in itertools.product(F, repeat=4) if not all(i==0 for i in t)]\n",
    "for v in S:\n",
    "    v.set_immutable()\n",
    "len(S)"
   ]
  },
  {
   "cell_type": "markdown",
   "metadata": {},
   "source": [
    "Construct pairs of cubic and quartic hypersurfaces in $\\mathbb{P}(1:1:1:2)$ whose $\\mathbb{F}_2$-rational points match a given 6-tuple or 7-tuple not including the singular point $[0:0:0:1]$."
   ]
  },
  {
   "cell_type": "code",
   "execution_count": 4,
   "metadata": {},
   "outputs": [],
   "source": [
    "gens1 = [a+b for a in [0, x0*y] for b in [x1*x2*(x1+x2), x1*(x1^2+x1*x2+x2^2), x1^3+x1*x2^2+x2^3]]\n",
    "mons4 = [prod(P.gens()[i]^w[i] for i in range(4)) for w in WeightedIntegerVectors(4, [1,1,1,2])]"
   ]
  },
  {
   "cell_type": "code",
   "execution_count": 5,
   "metadata": {},
   "outputs": [],
   "source": [
    "coords4 = {x: vector(mu(*x) for mu in mons4) for x in S}"
   ]
  },
  {
   "cell_type": "code",
   "execution_count": 6,
   "metadata": {},
   "outputs": [],
   "source": [
    "def redundancy(gen1, P=P, F=F, mons4=mons4):\n",
    "    tmp = [gen1*x for x in P.gens()[:3]]\n",
    "    return [vector(F, (gen.coefficient(mu) for mu in mons4)) for gen in tmp]"
   ]
  },
  {
   "cell_type": "code",
   "execution_count": 7,
   "metadata": {},
   "outputs": [
    {
     "data": {
      "text/plain": [
       "202496"
      ]
     },
     "execution_count": 7,
     "metadata": {},
     "output_type": "execute_result"
    }
   ],
   "source": [
    "l = []\n",
    "V0 = VectorSpace(F, len(mons4))\n",
    "for v1 in gens1:\n",
    "    pts = [x for x in S if v1(*x) == 0]\n",
    "    perp = Matrix([coords4[x] for x in pts])\n",
    "    for ct in [6, 7]:\n",
    "        for pts1 in itertools.combinations([x for x in pts if x != S[0]], ct):\n",
    "            target = vector(F, (0 if x in pts1 else 1 for x in pts))\n",
    "            for w2 in solve_right_iterator(perp, target, redundancy, v1):\n",
    "                v2 = sum(w2[i]*mons4[i] for i in range(len(mons4)))\n",
    "                l.append((ct,v1,v2))\n",
    "len(l)"
   ]
  },
  {
   "cell_type": "markdown",
   "metadata": {},
   "source": [
    "Enforce the desired point counts over $\\mathbb{F}_{2^i}$ for $i=2,3$."
   ]
  },
  {
   "cell_type": "code",
   "execution_count": 8,
   "metadata": {},
   "outputs": [],
   "source": [
    "def count_by_ideal(gens, n):\n",
    "    J = P.ideal(list(gens) + [y^(2^n) + y for y in P.gens()])\n",
    "    return (J.vector_space_dimension() - 1) // (2^n-1)"
   ]
  },
  {
   "cell_type": "code",
   "execution_count": 9,
   "metadata": {},
   "outputs": [
    {
     "data": {
      "text/plain": [
       "(61952, 140544)"
      ]
     },
     "execution_count": 9,
     "metadata": {},
     "output_type": "execute_result"
    }
   ],
   "source": [
    "l1a = [vecs[1:] for vecs in l if vecs[0] == 6]\n",
    "l1b = [vecs[1:] for vecs in l if vecs[0] == 7]\n",
    "len(l1a), len(l1b)"
   ]
  },
  {
   "cell_type": "code",
   "execution_count": 10,
   "metadata": {},
   "outputs": [
    {
     "data": {
      "text/plain": [
       "202"
      ]
     },
     "execution_count": 10,
     "metadata": {},
     "output_type": "execute_result"
    }
   ],
   "source": [
    "l2a = [vecs for vecs in l1a if count_by_ideal(vecs, 2) == 18]\n",
    "len(l2a)"
   ]
  },
  {
   "cell_type": "code",
   "execution_count": 11,
   "metadata": {},
   "outputs": [
    {
     "data": {
      "text/plain": [
       "25350"
      ]
     },
     "execution_count": 11,
     "metadata": {},
     "output_type": "execute_result"
    }
   ],
   "source": [
    "l2b = [vecs for vecs in l1b if count_by_ideal(vecs, 2) == 15]\n",
    "len(l2b)"
   ]
  },
  {
   "cell_type": "code",
   "execution_count": 12,
   "metadata": {},
   "outputs": [
    {
     "data": {
      "text/plain": [
       "(48, 102)"
      ]
     },
     "execution_count": 12,
     "metadata": {},
     "output_type": "execute_result"
    }
   ],
   "source": [
    "l3a = [vecs for vecs in l2a if count_by_ideal(vecs, 3) == 12]\n",
    "l3b = [vecs for vecs in l2b if count_by_ideal(vecs, 3) == 7]\n",
    "len(l3a), len(l3b)"
   ]
  },
  {
   "cell_type": "markdown",
   "metadata": {},
   "source": [
    "Use Magma to compute the full zeta functions of the resulting curves and compare these to our targets, finding no results."
   ]
  },
  {
   "cell_type": "code",
   "execution_count": 13,
   "metadata": {},
   "outputs": [
    {
     "data": {
      "text/plain": [
       "Toric variety of dimension 3 over Finite field of size 2\n",
       "Variables: x0, x1, x2, y\n",
       "The irrelevant ideal is:\n",
       "(y, x2, x1, x0)\n",
       "The grading is:\n",
       "1, 1, 1, 2"
      ]
     },
     "execution_count": 13,
     "metadata": {},
     "output_type": "execute_result"
    }
   ],
   "source": [
    "I1 = P.ideal([x0,x1,x2,y])\n",
    "CR = magma.CoxRing(P, [I1], [[1,1,1,2]], [])\n",
    "proj = CR.ToricVariety()\n",
    "proj"
   ]
  },
  {
   "cell_type": "code",
   "execution_count": 14,
   "metadata": {},
   "outputs": [],
   "source": [
    "for gens in l3a:\n",
    "    X = proj.Scheme(gens)\n",
    "    if X.Dimension() > 1 or str(X.IsIrreducible()) == \"false\":\n",
    "        continue\n",
    "    C = X.Curve()\n",
    "    ct = tuple(Integer(C.NumberOfPlacesOfDegreeOneECF(i)) for i in range(1, 8))\n",
    "    assert ct not in targets7"
   ]
  },
  {
   "cell_type": "code",
   "execution_count": 15,
   "metadata": {},
   "outputs": [
    {
     "name": "stdout",
     "output_type": "stream",
     "text": [
      "This stage complete!\n"
     ]
    }
   ],
   "source": [
    "print(\"This stage complete!\")"
   ]
  }
 ],
 "metadata": {
  "kernelspec": {
   "display_name": "SageMath 9.4",
   "language": "sage",
   "name": "sagemath"
  },
  "language_info": {
   "codemirror_mode": {
    "name": "ipython",
    "version": 3
   },
   "file_extension": ".py",
   "mimetype": "text/x-python",
   "name": "python",
   "nbconvert_exporter": "python",
   "pygments_lexer": "ipython3",
   "version": "3.9.5"
  }
 },
 "nbformat": 4,
 "nbformat_minor": 4
}
