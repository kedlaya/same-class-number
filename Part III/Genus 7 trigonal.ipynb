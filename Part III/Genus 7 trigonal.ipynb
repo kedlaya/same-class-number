{
 "cells": [
  {
   "cell_type": "markdown",
   "metadata": {},
   "source": [
    "This notebook is associated with the paper \"The relative class number one problem for function fields, III\" by K.S. Kedlaya. It runs in SageMath (tested using version 9.5) and depends on Magma (tested using version\n",
    "2.26-9).\n",
    "\n",
    "In this notebook, we identify trigonal curves of genus 7 with Maroni invariant 1 which are candidates for the curve $C$ in a purely geometric quadratic extension $F'/F$ of relative class number 1. Allow 5 minutes for completion. "
   ]
  },
  {
   "cell_type": "code",
   "execution_count": 1,
   "metadata": {},
   "outputs": [],
   "source": [
    "load(\"preamble.sage\")"
   ]
  },
  {
   "cell_type": "markdown",
   "metadata": {},
   "source": [
    "Construct the set of $\\mathbb{F}_2$-rational points of $\\mathbf{P}^1 \\times \\mathbf{P}^2$."
   ]
  },
  {
   "cell_type": "code",
   "execution_count": 2,
   "metadata": {},
   "outputs": [],
   "source": [
    "F = GF(2)\n",
    "P.<x0,x1,y0,y1,y2> = PolynomialRing(F, 5)"
   ]
  },
  {
   "cell_type": "code",
   "execution_count": 3,
   "metadata": {},
   "outputs": [
    {
     "data": {
      "text/plain": [
       "21"
      ]
     },
     "execution_count": 3,
     "metadata": {},
     "output_type": "execute_result"
    }
   ],
   "source": [
    "#S1 = [vector(F,t) for t in itertools.product(F, repeat=2) if not all(i==0 for i in t)]\n",
    "S1 = [vector(t) for t in ProjectiveSpace(F, 1)]\n",
    "#S2 = [vector(F,t) for t in itertools.product(F, repeat=3) if not all(i==0 for i in t)]\n",
    "S2 = [vector(t) for t in ProjectiveSpace(F, 2)]\n",
    "for v in S1 + S2:\n",
    "    v.set_immutable()\n",
    "S = list(itertools.product(S1, S2))\n",
    "len(S)"
   ]
  },
  {
   "cell_type": "markdown",
   "metadata": {},
   "source": [
    "Construct the group $\\mathrm{GL}(2, \\mathbb{F}_2) \\times \\mathrm{GL}(3, \\mathbb{F}_2)$ as a subgroup of $\\mathrm{GL}(5, \\mathbb{F}_2)$."
   ]
  },
  {
   "cell_type": "code",
   "execution_count": 4,
   "metadata": {},
   "outputs": [
    {
     "data": {
      "text/plain": [
       "1008"
      ]
     },
     "execution_count": 4,
     "metadata": {},
     "output_type": "execute_result"
    }
   ],
   "source": [
    "G = GL(5, F)\n",
    "G1 = GL(2, F)\n",
    "G2 = GL(3, F)\n",
    "l0 = [block_matrix(2,2,[g.matrix(),0,0,identity_matrix(3)], subdivide=False) for g in G1.gens()] + \\\n",
    "    [block_matrix(2,2,[identity_matrix(2),0,0,g.matrix()], subdivide=False) for g in G2.gens()]\n",
    "G0 = G.subgroup(l0)\n",
    "G0.order()"
   ]
  },
  {
   "cell_type": "markdown",
   "metadata": {},
   "source": [
    "Use an orbit lookup tree to find $\\mathrm{GL}(2,\\mathbb{F}_2) \\times \\mathrm{GL}(3, \\mathbb{F}_2)$-orbit representatives for 7-tuples of $\\mathbb{F}_2$-points in $\\mathbb{P}^1 \\times \\mathbb{P}^2$. We exclude tuples in which some 4 points have the same image in $\\mathbb{P}^1$."
   ]
  },
  {
   "cell_type": "code",
   "execution_count": 5,
   "metadata": {},
   "outputs": [],
   "source": [
    "def apply_group_elem(g, x):\n",
    "    g1 = g.matrix().submatrix(nrows=2,ncols=2)\n",
    "    g2 = g.matrix().submatrix(row=2,col=2)\n",
    "    v1 = g1*x[0]\n",
    "    v2 = g2*x[1]\n",
    "    v1.set_immutable()\n",
    "    v2.set_immutable()\n",
    "    return (v1, v2)"
   ]
  },
  {
   "cell_type": "code",
   "execution_count": 6,
   "metadata": {},
   "outputs": [],
   "source": [
    "def stabilizer(x):\n",
    "    G1 = vec_stab(Matrix(F, x[0]), transpose=True)\n",
    "    G2 = vec_stab(Matrix(F, x[1]), transpose=True)\n",
    "    l0 = [block_matrix(2,2,[g.matrix(),0,0,identity_matrix(3)], subdivide=False) for g in G1.gens()] + \\\n",
    "        [block_matrix(2,2,[identity_matrix(2),0,0,g.matrix()], subdivide=False) for g in G2.gens()]\n",
    "    return GL(5, F).subgroup(l0)"
   ]
  },
  {
   "cell_type": "code",
   "execution_count": 7,
   "metadata": {},
   "outputs": [],
   "source": [
    "def optimized_rep(g):\n",
    "    return g.matrix()"
   ]
  },
  {
   "cell_type": "code",
   "execution_count": 8,
   "metadata": {},
   "outputs": [],
   "source": [
    "def forbid(vecs, easy=False):\n",
    "    if len(vecs) == 4:\n",
    "        if len(set([x[0] for x in vecs])) == 1:\n",
    "            return True    \n",
    "    return False"
   ]
  },
  {
   "cell_type": "code",
   "execution_count": 9,
   "metadata": {},
   "outputs": [
    {
     "data": {
      "text/plain": [
       "113"
      ]
     },
     "execution_count": 9,
     "metadata": {},
     "output_type": "execute_result"
    }
   ],
   "source": [
    "methods = {'apply_group_elem': apply_group_elem,\n",
    "           'stabilizer': stabilizer,\n",
    "           'forbid': forbid}\n",
    "tree = build_orbit_tree(G0, S, 7, methods, verbose=False)\n",
    "l = green_nodes(tree, 7)\n",
    "len(l)"
   ]
  },
  {
   "cell_type": "markdown",
   "metadata": {},
   "source": [
    "For each orbit of 7-tuples, find complete intersections of type $(1,1), (3,3)$ passing through these points. \n",
    "We use the following facts.\n",
    "- The first hypersurface is a $\\mathbf{P}^1$-bundle over $\\mathbf{P}^1$.\n",
    "- The second hypersurface is only specified modulo the ideal generated by the first.\n",
    "- Given the first hypersurface, every $\\mathbb{F}_2$-point of $\\mathbf{P}^1 \\times \\mathbf{P}^2$ lying on it but not on the second defines an *affine* condition on the third hypersurface. We can thus find candidates for the second hypersurface by solving a system of linear equations."
   ]
  },
  {
   "cell_type": "code",
   "execution_count": 10,
   "metadata": {},
   "outputs": [],
   "source": [
    "monos11 = [prod(i) for i in itertools.product([x0,x1],[y0,y1,y2])]\n",
    "monos22 = [prod(i) for i in itertools.product([prod(j) for j in itertools.combinations_with_replacement([x0,x1],2)], \n",
    "                                              [prod(j) for j in itertools.combinations_with_replacement([y0,y1,y2],2)])]\n",
    "monos33 = [prod(i) for i in itertools.product([prod(j) for j in itertools.combinations_with_replacement([x0,x1],3)], \n",
    "                                              [prod(j) for j in itertools.combinations_with_replacement([y0,y1,y2],3)])]"
   ]
  },
  {
   "cell_type": "code",
   "execution_count": 11,
   "metadata": {},
   "outputs": [
    {
     "data": {
      "text/plain": [
       "(6, 40)"
      ]
     },
     "execution_count": 11,
     "metadata": {},
     "output_type": "execute_result"
    }
   ],
   "source": [
    "len(monos11), len(monos33)"
   ]
  },
  {
   "cell_type": "code",
   "execution_count": 12,
   "metadata": {},
   "outputs": [],
   "source": [
    "coords1 = {x: vector(F, (mu(*x[0], *x[1]) for mu in monos11)) for x in S}\n",
    "coords2 = {x: vector(F, (mu(*x[0], *x[1]) for mu in monos33)) for x in S}"
   ]
  },
  {
   "cell_type": "code",
   "execution_count": 13,
   "metadata": {},
   "outputs": [],
   "source": [
    "def redundancy(v1, F=F, monos11=monos11, monos22=monos22, monos33=monos33):\n",
    "    gens1 = sum(v1[i]*monos11[i] for i in range(6))\n",
    "    return [vector(F, ((gens1*y).coefficient(mu) for mu in monos33)) for y in monos22]"
   ]
  },
  {
   "cell_type": "code",
   "execution_count": 14,
   "metadata": {},
   "outputs": [
    {
     "data": {
      "text/plain": [
       "40960"
      ]
     },
     "execution_count": 14,
     "metadata": {},
     "output_type": "execute_result"
    }
   ],
   "source": [
    "l2 = []\n",
    "for vecs in l:\n",
    "    V1 = Matrix([coords1[x] for x in vecs]).right_kernel()\n",
    "    for v1 in V1:\n",
    "        # Check that this vector defines a smooth (1,1)-hypersurface.\n",
    "        if v1[:3] == 0 or v1[3:] == 0 or v1[:3] == v1[3:]:\n",
    "            continue\n",
    "        pts = [x for x in S if coords1[x]*v1 == 0]\n",
    "        perp = Matrix([coords2[x] for x in pts])\n",
    "        target = vector(F, (0 if x in vecs else 1 for x in pts))\n",
    "        for v2 in solve_right_iterator(perp, target, redundancy, v1):\n",
    "            l2.append([sum(v1[i]*monos11[i] for i in range(6)),\n",
    "                sum(v2[i]*monos33[i] for i in range(40))])\n",
    "len(l2)"
   ]
  },
  {
   "cell_type": "markdown",
   "metadata": {},
   "source": [
    "Enforce the desired point counts over $\\mathbb{F}_{2^i}$ for $i=2,3$ using commutative algebra."
   ]
  },
  {
   "cell_type": "code",
   "execution_count": 15,
   "metadata": {},
   "outputs": [],
   "source": [
    "def count_by_ideal(gens, n):\n",
    "    J = P.ideal(gens + [y^(2^n) + y for y in P.gens()])\n",
    "    return (J.vector_space_dimension() - 2^(3*n) - 2^(2*n) + 1) // (2^n-1)^2"
   ]
  },
  {
   "cell_type": "code",
   "execution_count": 16,
   "metadata": {},
   "outputs": [
    {
     "data": {
      "text/plain": [
       "4664"
      ]
     },
     "execution_count": 16,
     "metadata": {},
     "output_type": "execute_result"
    }
   ],
   "source": [
    "l3 = [gens for gens in l2 if count_by_ideal(gens, 2) == 15]\n",
    "len(l3)"
   ]
  },
  {
   "cell_type": "code",
   "execution_count": 17,
   "metadata": {},
   "outputs": [
    {
     "data": {
      "text/plain": [
       "8"
      ]
     },
     "execution_count": 17,
     "metadata": {},
     "output_type": "execute_result"
    }
   ],
   "source": [
    "l4 = [gens for gens in l3 if count_by_ideal(gens, 3) == 7]\n",
    "len(l4)"
   ]
  },
  {
   "cell_type": "markdown",
   "metadata": {},
   "source": [
    "Close out this case."
   ]
  },
  {
   "cell_type": "code",
   "execution_count": 18,
   "metadata": {},
   "outputs": [],
   "source": [
    "I1 = P.ideal([x0,x1])\n",
    "I2 = P.ideal([y0,y1,y2])\n",
    "CR = magma.CoxRing(P, [I1, I2], [[1,1,0,0,0],[0,0,1,1,1]], [])\n",
    "proj = CR.ToricVariety()"
   ]
  },
  {
   "cell_type": "code",
   "execution_count": 19,
   "metadata": {},
   "outputs": [
    {
     "name": "stdout",
     "output_type": "stream",
     "text": [
      "Number of curves found: 0\n",
      "Number of isomorphism classes found: 0\n",
      "No covers found in this case!\n",
      "Total time: 167 seconds\n"
     ]
    }
   ],
   "source": [
    "curves = {(7,15,7): l4}\n",
    "closeout(curves, X=proj)"
   ]
  }
 ],
 "metadata": {
  "kernelspec": {
   "display_name": "SageMath 9.5",
   "language": "sage",
   "name": "sagemath"
  },
  "language_info": {
   "codemirror_mode": {
    "name": "ipython",
    "version": 3
   },
   "file_extension": ".py",
   "mimetype": "text/x-python",
   "name": "python",
   "nbconvert_exporter": "python",
   "pygments_lexer": "ipython3",
   "version": "3.9.7"
  }
 },
 "nbformat": 4,
 "nbformat_minor": 4
}
