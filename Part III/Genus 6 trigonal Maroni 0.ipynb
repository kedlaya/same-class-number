{
 "cells": [
  {
   "cell_type": "markdown",
   "metadata": {},
   "source": [
    "This notebook is associated with the paper \"The relative class number one problem for function fields, III\" by K.S. Kedlaya. It runs in SageMath (tested using version 9.4) and depends on Magma (tested using version\n",
    "2.25-5).\n",
    "\n",
    "In this notebook, we identify trigonal curves of genus 6 and Maroni invariant 0 which are candidates for the curve $C$ in a purely geometric quadratic extension $F'/F$ of relative class number 1. Allow 5 minutes for completion."
   ]
  },
  {
   "cell_type": "code",
   "execution_count": 1,
   "metadata": {},
   "outputs": [],
   "source": [
    "load(\"preamble.sage\")"
   ]
  },
  {
   "cell_type": "markdown",
   "metadata": {},
   "source": [
    "Construct the set of $\\mathbb{F}_2$-rational points of $\\mathbb{P}^1 \\times \\mathbb{P}^1$."
   ]
  },
  {
   "cell_type": "code",
   "execution_count": 2,
   "metadata": {},
   "outputs": [],
   "source": [
    "F = GF(2)\n",
    "P.<x0,x1,y0,y1> = PolynomialRing(F, 4)"
   ]
  },
  {
   "cell_type": "code",
   "execution_count": 3,
   "metadata": {},
   "outputs": [
    {
     "data": {
      "text/plain": [
       "9"
      ]
     },
     "execution_count": 3,
     "metadata": {},
     "output_type": "execute_result"
    }
   ],
   "source": [
    "S1 = [vector(F,t) for t in itertools.product(F, repeat=2) if not all(i==0 for i in t)]\n",
    "S2 = [vector(F,t) for t in itertools.product(F, repeat=2) if not all(i==0 for i in t)]\n",
    "for v in S1 + S2:\n",
    "    v.set_immutable()\n",
    "S = list(itertools.product(S1, S2))\n",
    "len(S)"
   ]
  },
  {
   "cell_type": "markdown",
   "metadata": {},
   "source": [
    "Construct the group $\\mathrm{GL}(2,\\mathbb{F}_2) \\times \\mathrm{GL}(2, \\mathbb{F}_2)$, presented as a subgroup of $\\mathrm{GL}(4, \\mathbb{F}_2)$."
   ]
  },
  {
   "cell_type": "code",
   "execution_count": 4,
   "metadata": {},
   "outputs": [
    {
     "data": {
      "text/plain": [
       "36"
      ]
     },
     "execution_count": 4,
     "metadata": {},
     "output_type": "execute_result"
    }
   ],
   "source": [
    "l0 = [block_matrix(2,2,[g.matrix(),0,0,identity_matrix(2)], subdivide=False) for g in GL(2,F).gens()] +\\\n",
    "       [block_matrix(2,2,[identity_matrix(2),0,0,g.matrix()], subdivide=False) for g in GL(2,F).gens()]\n",
    "G0 = GL(4,F).subgroup(l0)\n",
    "G0.order()"
   ]
  },
  {
   "cell_type": "markdown",
   "metadata": {},
   "source": [
    "Use an orbit lookup tree to find $\\mathrm{GL}(2,\\mathbb{F}_2) \\times \\mathrm{GL}(2, \\mathbb{F}_2)$-orbit representatives for 6-tuples of $\\mathbb{F}_2$-points in $\\mathbb{P}^1 \\times \\mathbb{P}^1$."
   ]
  },
  {
   "cell_type": "code",
   "execution_count": 5,
   "metadata": {},
   "outputs": [],
   "source": [
    "def apply_group_elem(g, x):\n",
    "    g1 = g.submatrix(nrows=2,ncols=2)\n",
    "    g2 = g.submatrix(row=2,col=2)\n",
    "    v1 = g1*x[0]\n",
    "    v2 = g2*x[1]\n",
    "    v1.set_immutable()\n",
    "    v2.set_immutable()\n",
    "    return (v1, v2)"
   ]
  },
  {
   "cell_type": "code",
   "execution_count": 6,
   "metadata": {},
   "outputs": [],
   "source": [
    "def stabilizer(x):\n",
    "    G1 = vec_stab(Matrix(F, x[0]), transpose=True)\n",
    "    G2 = vec_stab(Matrix(F, x[1]), transpose=True)\n",
    "    l0 = [block_matrix(2,2,[g.matrix(),0,0,identity_matrix(2)], subdivide=False) for g in G1.gens()] + \\\n",
    "        [block_matrix(2,2,[identity_matrix(2),0,0,g.matrix()], subdivide=False) for g in G2.gens()]\n",
    "    return GL(4, F).subgroup(l0)"
   ]
  },
  {
   "cell_type": "code",
   "execution_count": 7,
   "metadata": {},
   "outputs": [],
   "source": [
    "def optimized_rep(g):\n",
    "    return g.matrix()"
   ]
  },
  {
   "cell_type": "code",
   "execution_count": 8,
   "metadata": {},
   "outputs": [],
   "source": [
    "methods = {'apply_group_elem': apply_group_elem,\n",
    "           'stabilizer': stabilizer,\n",
    "           'optimized_rep': optimized_rep}\n",
    "tree = build_orbit_tree(G0, S, 6, methods, verbose=False)"
   ]
  },
  {
   "cell_type": "markdown",
   "metadata": {},
   "source": [
    "For each orbit representative of $k$-tuples with $k \\in \\{4,5,6\\}$, find $(3,4)$-curves passing through precisely those points."
   ]
  },
  {
   "cell_type": "code",
   "execution_count": 9,
   "metadata": {},
   "outputs": [
    {
     "data": {
      "text/plain": [
       "20"
      ]
     },
     "execution_count": 9,
     "metadata": {},
     "output_type": "execute_result"
    }
   ],
   "source": [
    "monos3 = [prod(x) for x in itertools.combinations_with_replacement([x0,x1],3)]\n",
    "monos4 = [prod(x) for x in itertools.combinations_with_replacement([y0,y1],4)]\n",
    "monos34 = [prod(x) for x in itertools.product(monos3, monos4)]\n",
    "len(monos34)"
   ]
  },
  {
   "cell_type": "code",
   "execution_count": 10,
   "metadata": {},
   "outputs": [],
   "source": [
    "coords34 = {x: vector(F, (mu(*x[0], *x[1]) for mu in monos34)) for x in S}"
   ]
  },
  {
   "cell_type": "code",
   "execution_count": 11,
   "metadata": {},
   "outputs": [],
   "source": [
    "def vec_to_gen(vec):\n",
    "    return sum(vec[i]*monos34[i] for i in range(20))"
   ]
  },
  {
   "cell_type": "code",
   "execution_count": 12,
   "metadata": {},
   "outputs": [],
   "source": [
    "curves = defaultdict(list)\n",
    "perp = Matrix([coords34[x] for x in S])\n",
    "for i in range(4,7):\n",
    "    for vecs in green_nodes(tree, i):\n",
    "        target = vector(F, (0 if x in vecs else 1 for x in S))\n",
    "        for w in solve_right_iterator(perp, target):\n",
    "            curves[(i,)].append(vec_to_gen(w))"
   ]
  },
  {
   "cell_type": "code",
   "execution_count": 13,
   "metadata": {},
   "outputs": [
    {
     "data": {
      "text/plain": [
       "[((4,), 14336), ((5,), 14336), ((6,), 12288)]"
      ]
     },
     "execution_count": 13,
     "metadata": {},
     "output_type": "execute_result"
    }
   ],
   "source": [
    "[(s, len(curves[s])) for s in curves]"
   ]
  },
  {
   "cell_type": "markdown",
   "metadata": {},
   "source": [
    "Enforce the desired point counts over $\\mathbb{F}_{2^i}$ for $i=2,3,4$."
   ]
  },
  {
   "cell_type": "code",
   "execution_count": 14,
   "metadata": {},
   "outputs": [],
   "source": [
    "def count_by_ideal(gen, n):\n",
    "    J = P.ideal([gen] + [y^(2^n) + y for y in P.gens()])\n",
    "    return (J.vector_space_dimension() - 2^(2*n+1) + 1) // (2^n-1)^2"
   ]
  },
  {
   "cell_type": "code",
   "execution_count": 15,
   "metadata": {},
   "outputs": [
    {
     "name": "stdout",
     "output_type": "stream",
     "text": [
      "[((4, 14), 326), ((4, 16), 20), ((5, 13), 1350), ((5, 15), 322), ((5, 11), 2970), ((6, 10), 3420), ((6, 14), 720)]\n",
      "[((4, 14, 16), 47), ((4, 16, 16), 5), ((5, 13, 14), 264), ((5, 15, 5), 12), ((5, 11, 11), 641), ((6, 10, 9), 563), ((6, 14, 12), 52), ((6, 14, 6), 23)]\n",
      "[((4, 14, 16, 18), 8), ((5, 13, 14, 25), 31), ((5, 15, 5, 35), 1), ((5, 11, 11, 31), 156), ((5, 11, 11, 39), 10), ((6, 10, 9, 38), 5), ((6, 14, 12, 26), 1), ((6, 14, 6, 34), 1), ((6, 14, 6, 26), 2)]\n"
     ]
    }
   ],
   "source": [
    "for n in range(2, 5):\n",
    "    tmp = [t[:n] for t in targets6]\n",
    "    tmp2 = [s for s in curves if len(s) == n-1]\n",
    "    for s in tmp2:\n",
    "        for gen in curves[s]:\n",
    "            i = count_by_ideal(gen, n)\n",
    "            s1 = s + (i,)\n",
    "            if s1 in tmp:\n",
    "                curves[s1].append(gen)\n",
    "    print([(s, len(curves[s])) for s in curves if len(s) == n])"
   ]
  },
  {
   "cell_type": "markdown",
   "metadata": {},
   "source": [
    "Use Magma to compute the full zeta functions of the resulting curves (discarding cases that do not lead to smooth curves of the right genus), and compare these to our targets."
   ]
  },
  {
   "cell_type": "code",
   "execution_count": 16,
   "metadata": {},
   "outputs": [
    {
     "data": {
      "text/plain": [
       "Toric variety of dimension 2 over Finite field of size 2\n",
       "Variables: x0, x1, y0, y1\n",
       "The components of the irrelevant ideal are:\n",
       "(y1, y0), (x1, x0)\n",
       "The 2 gradings are:\n",
       "1, 1, 0, 0,\n",
       "0, 0, 1, 1"
      ]
     },
     "execution_count": 16,
     "metadata": {},
     "output_type": "execute_result"
    }
   ],
   "source": [
    "I1 = P.ideal([x0,x1])\n",
    "I2 = P.ideal([y0,y1])\n",
    "CR = magma.CoxRing(P, [I1, I2], [[1,1,0,0],[0,0,1,1]], [])\n",
    "proj = CR.ToricVariety()\n",
    "proj"
   ]
  },
  {
   "cell_type": "code",
   "execution_count": 17,
   "metadata": {},
   "outputs": [
    {
     "data": {
      "text/plain": [
       "20"
      ]
     },
     "execution_count": 17,
     "metadata": {},
     "output_type": "execute_result"
    }
   ],
   "source": [
    "l = []\n",
    "for s in curves:\n",
    "    if len(s) == 4:\n",
    "        for gen in curves[s]:\n",
    "            X = proj.Scheme([gen])\n",
    "            if X.Dimension() > 1 or str(X.IsIrreducible()) == \"false\" or str(X.IsNonsingular()) == \"false\":\n",
    "                continue\n",
    "            C = X.Curve()\n",
    "            if C.Genus() != 6:\n",
    "                continue\n",
    "            ct = tuple(Integer(C.NumberOfPlacesOfDegreeOneECF(i)) for i in range(1, 7))\n",
    "            assert ct[:len(s)] == s\n",
    "            if ct in targets6:\n",
    "                l.append(C)\n",
    "len(l)  "
   ]
  },
  {
   "cell_type": "code",
   "execution_count": 18,
   "metadata": {},
   "outputs": [
    {
     "data": {
      "text/plain": [
       "9"
      ]
     },
     "execution_count": 18,
     "metadata": {},
     "output_type": "execute_result"
    }
   ],
   "source": [
    "l = isomorphism_class_reps(l)\n",
    "len(l)"
   ]
  },
  {
   "cell_type": "markdown",
   "metadata": {},
   "source": [
    "Search for extensions of relative class number 1."
   ]
  },
  {
   "cell_type": "code",
   "execution_count": 19,
   "metadata": {},
   "outputs": [],
   "source": [
    "l2 = []\n",
    "for C in l:\n",
    "    F0 = magma.FunctionField(C)\n",
    "    F1 = F0.AlgorithmicFunctionField()\n",
    "    l2 = l2 + match_weil_poly(F1, 2)\n",
    "assert not l2"
   ]
  },
  {
   "cell_type": "markdown",
   "metadata": {},
   "source": [
    "Finish up."
   ]
  },
  {
   "cell_type": "code",
   "execution_count": 21,
   "metadata": {},
   "outputs": [
    {
     "name": "stdout",
     "output_type": "stream",
     "text": [
      "This stage complete!\n"
     ]
    }
   ],
   "source": [
    "closeout(l2, genus=6)"
   ]
  }
 ],
 "metadata": {
  "kernelspec": {
   "display_name": "SageMath 9.4",
   "language": "sage",
   "name": "sagemath"
  },
  "language_info": {
   "codemirror_mode": {
    "name": "ipython",
    "version": 3
   },
   "file_extension": ".py",
   "mimetype": "text/x-python",
   "name": "python",
   "nbconvert_exporter": "python",
   "pygments_lexer": "ipython3",
   "version": "3.9.5"
  }
 },
 "nbformat": 4,
 "nbformat_minor": 4
}
