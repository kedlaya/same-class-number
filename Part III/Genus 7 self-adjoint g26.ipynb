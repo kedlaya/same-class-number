{
 "cells": [
  {
   "cell_type": "markdown",
   "metadata": {},
   "source": [
    "This notebook is associated with the paper \"The relative class number one problem for function fields, III\" by K.S. Kedlaya. It runs in SageMath (tested using version 9.4) and depends on Magma (tested using version\n",
    "2.25-5).\n",
    "\n",
    "In this notebook, we identify curves of genus 7 with a self-adjoint $g^2_6$ (i.e., one which squares to the canonical class) which are candidates for the curve $C$ in a purely geometric quadratic extension $F'/F$ of relative class number 1. Allow 5 minutes for completion."
   ]
  },
  {
   "cell_type": "code",
   "execution_count": 1,
   "metadata": {},
   "outputs": [],
   "source": [
    "load(\"preamble.sage\")"
   ]
  },
  {
   "cell_type": "markdown",
   "metadata": {},
   "source": [
    "Construct the set of $\\mathbb{F}_2$-rational points of $\\mathbf{P}(1:1:1:2)$."
   ]
  },
  {
   "cell_type": "code",
   "execution_count": 2,
   "metadata": {},
   "outputs": [],
   "source": [
    "F = GF(2)\n",
    "P.<x0,x1,x2,y> = PolynomialRing(F, 4)"
   ]
  },
  {
   "cell_type": "code",
   "execution_count": 3,
   "metadata": {},
   "outputs": [],
   "source": [
    "S = [vector(t) for t in ProjectiveSpace(F, 3)]\n",
    "for v in S:\n",
    "    v.set_immutable()\n",
    "assert list(S[0]) == [0,0,0,1]"
   ]
  },
  {
   "cell_type": "markdown",
   "metadata": {},
   "source": [
    "Construct pairs of cubic and quartic hypersurfaces in $\\mathbf{P}(1:1:1:2)$ whose $\\mathbb{F}_2$-rational points match a given 6-tuple or 7-tuple not including the singular point $[0:0:0:1]$."
   ]
  },
  {
   "cell_type": "code",
   "execution_count": 4,
   "metadata": {},
   "outputs": [],
   "source": [
    "gens1 = [a+b for a in [0, x0*y] for b in [x1*x2*(x1+x2), x1*(x1^2+x1*x2+x2^2), x1^3+x1*x2^2+x2^3]]\n",
    "mons4 = [prod(P.gens()[i]^w[i] for i in range(4)) for w in WeightedIntegerVectors(4, [1,1,1,2])]"
   ]
  },
  {
   "cell_type": "code",
   "execution_count": 5,
   "metadata": {},
   "outputs": [],
   "source": [
    "coords4 = {x: vector(mu(*x) for mu in mons4) for x in S}"
   ]
  },
  {
   "cell_type": "code",
   "execution_count": 6,
   "metadata": {},
   "outputs": [],
   "source": [
    "def redundancy(gen1, P=P, F=F, mons4=mons4):\n",
    "    tmp = [gen1*x for x in P.gens()[:3]]\n",
    "    return [vector(F, (gen.coefficient(mu) for mu in mons4)) for gen in tmp]"
   ]
  },
  {
   "cell_type": "code",
   "execution_count": 7,
   "metadata": {},
   "outputs": [],
   "source": [
    "l = []\n",
    "V0 = VectorSpace(F, len(mons4))\n",
    "curves = defaultdict(list)\n",
    "for gen1 in gens1:\n",
    "    pts = [x for x in S if gen1(*x) == 0]\n",
    "    perp = Matrix([coords4[x] for x in pts])\n",
    "    for s in [6, 7]:\n",
    "        for pts1 in itertools.combinations([x for x in pts if x != S[0]], s):\n",
    "            target = vector(F, (0 if x in pts1 else 1 for x in pts))\n",
    "            for v2 in solve_right_iterator(perp, target, redundancy, gen1):\n",
    "                gen2 = sum(v2[i]*mons4[i] for i in range(len(mons4)))\n",
    "                curves[(s,)].append([gen1, gen2])"
   ]
  },
  {
   "cell_type": "code",
   "execution_count": 8,
   "metadata": {},
   "outputs": [
    {
     "data": {
      "text/plain": [
       "[((7,), 140544), ((6,), 61952)]"
      ]
     },
     "execution_count": 8,
     "metadata": {},
     "output_type": "execute_result"
    }
   ],
   "source": [
    "[(s, len(curves[s])) for s in curves]"
   ]
  },
  {
   "cell_type": "markdown",
   "metadata": {},
   "source": [
    "Enforce the desired point counts over $\\mathbb{F}_{2^i}$ for $i=2,3$ using commutative algebra."
   ]
  },
  {
   "cell_type": "code",
   "execution_count": 9,
   "metadata": {},
   "outputs": [],
   "source": [
    "def count_by_ideal(gens, n):\n",
    "    J = P.ideal(gens + [y^(2^n) + y for y in P.gens()])\n",
    "    return (J.vector_space_dimension() - 1) // (2^n-1)"
   ]
  },
  {
   "cell_type": "code",
   "execution_count": 10,
   "metadata": {},
   "outputs": [
    {
     "name": "stdout",
     "output_type": "stream",
     "text": [
      "[((7, 15), 25350), ((6, 18), 202)]\n",
      "[((7, 15, 7), 102), ((6, 18, 12), 48)]\n"
     ]
    }
   ],
   "source": [
    "for n in range(2, 4):\n",
    "    tmp = set(t[:n] for t in targets7)\n",
    "    tmp2 = [s for s in curves if len(s) == n-1]    \n",
    "    for s in tmp2:\n",
    "        for gens in curves[s]:\n",
    "            i = count_by_ideal(gens, n)\n",
    "            s1 = s + (i,)\n",
    "            if s1 in tmp:\n",
    "                curves[s1].append(gens)\n",
    "        del curves[s]\n",
    "    print([(s, len(curves[s])) for s in curves if len(s) == n])"
   ]
  },
  {
   "cell_type": "markdown",
   "metadata": {},
   "source": [
    "Close out this case."
   ]
  },
  {
   "cell_type": "code",
   "execution_count": 11,
   "metadata": {},
   "outputs": [],
   "source": [
    "I1 = P.ideal([x0,x1,x2,y])\n",
    "CR = magma.CoxRing(P, [I1], [[1,1,1,2]], [])\n",
    "proj = CR.ToricVariety()"
   ]
  },
  {
   "cell_type": "code",
   "execution_count": 12,
   "metadata": {},
   "outputs": [
    {
     "name": "stdout",
     "output_type": "stream",
     "text": [
      "Number of curves found: 0\n",
      "Number of isomorphism classes found: 0\n",
      "No covers found in this case!\n",
      "Total time: 5 minutes\n"
     ]
    }
   ],
   "source": [
    "closeout(curves, X=proj, genus=7)"
   ]
  }
 ],
 "metadata": {
  "kernelspec": {
   "display_name": "SageMath 9.4",
   "language": "sage",
   "name": "sagemath"
  },
  "language_info": {
   "codemirror_mode": {
    "name": "ipython",
    "version": 3
   },
   "file_extension": ".py",
   "mimetype": "text/x-python",
   "name": "python",
   "nbconvert_exporter": "python",
   "pygments_lexer": "ipython3",
   "version": "3.9.5"
  }
 },
 "nbformat": 4,
 "nbformat_minor": 4
}
