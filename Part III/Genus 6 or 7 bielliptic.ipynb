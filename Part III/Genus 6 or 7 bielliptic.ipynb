{
 "cells": [
  {
   "cell_type": "markdown",
   "metadata": {},
   "source": [
    "This notebook is associated with the paper \"The relative class number one problem for function fields, III\" by K.S. Kedlaya. It runs in SageMath (tested using version 9.5) and depends on Magma (tested using version\n",
    "2.26-9).\n",
    "\n",
    "In this notebook, we identify bielliptic curves of genus 6 or 7 which are candidates for the curve $C$ in a purely geometric quadratic extension $F'/F$ of relative class number 1.  Allow 5 minutes for completion."
   ]
  },
  {
   "cell_type": "code",
   "execution_count": 1,
   "metadata": {},
   "outputs": [],
   "source": [
    "load(\"preamble.sage\")"
   ]
  },
  {
   "cell_type": "markdown",
   "metadata": {},
   "source": [
    "Apply the resultant criterion to genus 6 curves and report the resulting point counts."
   ]
  },
  {
   "cell_type": "code",
   "execution_count": 2,
   "metadata": {},
   "outputs": [
    {
     "data": {
      "text/plain": [
       "[(5, {(5, 13, 14, 25), (6, 10, 9, 38)}),\n",
       " (3, {(5, 13, 14, 25), (6, 10, 9, 38)}),\n",
       " (1, {(6, 10, 9, 38)})]"
      ]
     },
     "execution_count": 2,
     "metadata": {},
     "output_type": "execute_result"
    }
   ],
   "source": [
    "d = defaultdict(list)\n",
    "for t in targets6:\n",
    "    u = weil_poly_from_point_count(t, 6)\n",
    "    for (f,_) in u.factor():\n",
    "        if f.degree() == 2:\n",
    "            g = u//f\n",
    "            h1 = f.trace_polynomial()[0]\n",
    "            h2 = g.trace_polynomial()[0]\n",
    "            if h1.resultant(h2) %2 == 0:\n",
    "                c = f[1]+3\n",
    "                d[c].append(t[:4])\n",
    "[(c, set(d[c])) for c in d]"
   ]
  },
  {
   "cell_type": "markdown",
   "metadata": {},
   "source": [
    "Apply the resultant criterion to genus 7 curves and report the resulting point counts."
   ]
  },
  {
   "cell_type": "code",
   "execution_count": 3,
   "metadata": {},
   "outputs": [
    {
     "data": {
      "text/plain": [
       "[(3, {(6, 18, 12, 18)}), (5, {(6, 18, 12, 18)})]"
      ]
     },
     "execution_count": 3,
     "metadata": {},
     "output_type": "execute_result"
    }
   ],
   "source": [
    "d = defaultdict(list)\n",
    "for t in targets7:\n",
    "    u = weil_poly_from_point_count(t, 7)\n",
    "    for (f,_) in u.factor():\n",
    "        if f.degree() == 2:\n",
    "            g = u//f\n",
    "            h1 = f.trace_polynomial()[0]\n",
    "            h2 = g.trace_polynomial()[0]\n",
    "            if h1.resultant(h2) %2 == 0:\n",
    "                c = f[1]+3\n",
    "                d[c].append(t[:4])\n",
    "[(c, set(d[c])) for c in d]"
   ]
  },
  {
   "cell_type": "markdown",
   "metadata": {},
   "source": [
    "Construct the function field of the unique elliptic curve $E$ with $\\#E(\\mathbb{F}_2) = 3$."
   ]
  },
  {
   "cell_type": "code",
   "execution_count": 4,
   "metadata": {},
   "outputs": [],
   "source": [
    "P.<x> = GF(2)[]\n",
    "E = HyperellipticCurve(x^3,P(1))\n",
    "E1 = magma(E)\n",
    "F0 = E1.FunctionField().AlgorithmicFunctionField()\n",
    "assert F0.NumberOfPlacesOfDegreeOneECF(1) == 3"
   ]
  },
  {
   "cell_type": "markdown",
   "metadata": {},
   "source": [
    "Collect double covers of $E$ ramified at the two degree-3 places."
   ]
  },
  {
   "cell_type": "code",
   "execution_count": 5,
   "metadata": {},
   "outputs": [],
   "source": [
    "curves = {tuple(): []}"
   ]
  },
  {
   "cell_type": "code",
   "execution_count": 6,
   "metadata": {},
   "outputs": [],
   "source": [
    "places3 = [i for i in F0.Places(3)]\n",
    "assert len(places3) == 2\n",
    "z = F0.DivisorGroup().Identity() + places3[0] + places3[1]\n",
    "for F in cyclic_covers_by_ramification(F0, 2, 2*z, delta=6):\n",
    "    ct = tuple(Integer(F.NumberOfPlacesOfDegreeOneECF(j)) for j in range(1, 8))\n",
    "    if ct in targets_dict[7]:\n",
    "        curves[tuple()].append(F)"
   ]
  },
  {
   "cell_type": "markdown",
   "metadata": {},
   "source": [
    "Collect double covers of $E$ ramified at a degree-6 place."
   ]
  },
  {
   "cell_type": "code",
   "execution_count": 7,
   "metadata": {},
   "outputs": [],
   "source": [
    "places6 = [i for i in F0.Places(6)]\n",
    "for i in places6:\n",
    "    z = F0.DivisorGroup().Identity() + i\n",
    "    for F in cyclic_covers_by_ramification(F0, 2, 2*z, delta=6):\n",
    "        ct = tuple(Integer(F.NumberOfPlacesOfDegreeOneECF(j)) for j in range(1, 8))\n",
    "        if ct in targets_dict[7]:\n",
    "            curves[tuple()].append(F)"
   ]
  },
  {
   "cell_type": "markdown",
   "metadata": {},
   "source": [
    "Close out this case."
   ]
  },
  {
   "cell_type": "code",
   "execution_count": 8,
   "metadata": {},
   "outputs": [
    {
     "name": "stdout",
     "output_type": "stream",
     "text": [
      "Number of curves found: 3\n",
      "Number of isomorphism classes found: 2\n",
      "Number of covers found: 1\n",
      "(6, 18, 12, 18, 6, 60, 174) $.1^4 + (x^6 + x^4 + x^3 + x^2 + 1)*$.1^2 + (x^6 + x^4 + x^3 + x^2)*$.1 + x^10 + x^9 + x^7 + x^6\n",
      "All covers recorded!\n",
      "Total time: 5 minutes\n"
     ]
    }
   ],
   "source": [
    "closeout(curves)"
   ]
  }
 ],
 "metadata": {
  "kernelspec": {
   "display_name": "SageMath 9.5",
   "language": "sage",
   "name": "sagemath"
  },
  "language_info": {
   "codemirror_mode": {
    "name": "ipython",
    "version": 3
   },
   "file_extension": ".py",
   "mimetype": "text/x-python",
   "name": "python",
   "nbconvert_exporter": "python",
   "pygments_lexer": "ipython3",
   "version": "3.9.7"
  }
 },
 "nbformat": 4,
 "nbformat_minor": 4
}
