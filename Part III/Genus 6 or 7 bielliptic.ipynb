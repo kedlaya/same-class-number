{
 "cells": [
  {
   "cell_type": "markdown",
   "metadata": {},
   "source": [
    "Insert explanatory text here. Allow 10 minutes for completion."
   ]
  },
  {
   "cell_type": "code",
   "execution_count": 1,
   "metadata": {},
   "outputs": [],
   "source": [
    "load(\"preamble.sage\")"
   ]
  },
  {
   "cell_type": "markdown",
   "metadata": {},
   "source": [
    "Apply the resultant criterion to genus 6 curves and report the resulting point counts."
   ]
  },
  {
   "cell_type": "code",
   "execution_count": 2,
   "metadata": {},
   "outputs": [
    {
     "data": {
      "text/plain": [
       "[(5, {(5, 13, 14, 25), (6, 10, 9, 38)}),\n",
       " (3, {(5, 13, 14, 25), (6, 10, 9, 38)}),\n",
       " (1, {(6, 10, 9, 38)})]"
      ]
     },
     "execution_count": 2,
     "metadata": {},
     "output_type": "execute_result"
    }
   ],
   "source": [
    "d = defaultdict(list)\n",
    "for t in targets6:\n",
    "    u = weil_poly_from_point_count(t, 6)\n",
    "    for (f,_) in u.factor():\n",
    "        if f.degree() == 2:\n",
    "            g = u//f\n",
    "            h1 = f.trace_polynomial()[0]\n",
    "            h2 = g.trace_polynomial()[0]\n",
    "            if h1.resultant(h2) %2 == 0:\n",
    "                c = f[1]+3\n",
    "                d[c].append(t[:4])\n",
    "[(c, set(d[c])) for c in d]"
   ]
  },
  {
   "cell_type": "markdown",
   "metadata": {},
   "source": [
    "Apply the resultant criterion to genus 7 curves and report the resulting point counts."
   ]
  },
  {
   "cell_type": "code",
   "execution_count": 3,
   "metadata": {},
   "outputs": [
    {
     "data": {
      "text/plain": [
       "[(3, {(6, 18, 12, 18)}), (5, {(6, 18, 12, 18)})]"
      ]
     },
     "execution_count": 3,
     "metadata": {},
     "output_type": "execute_result"
    }
   ],
   "source": [
    "d = defaultdict(list)\n",
    "for t in targets7:\n",
    "    u = weil_poly_from_point_count(t, 7)\n",
    "    for (f,_) in u.factor():\n",
    "        if f.degree() == 2:\n",
    "            g = u//f\n",
    "            h1 = f.trace_polynomial()[0]\n",
    "            h2 = g.trace_polynomial()[0]\n",
    "            if h1.resultant(h2) %2 == 0:\n",
    "                c = f[1]+3\n",
    "                d[c].append(t[:4])\n",
    "[(c, set(d[c])) for c in d]"
   ]
  },
  {
   "cell_type": "markdown",
   "metadata": {},
   "source": [
    "Construct the function field of the unique elliptic curve $E$ with $\\#E(\\mathbb{F}_2) = 3$."
   ]
  },
  {
   "cell_type": "code",
   "execution_count": 4,
   "metadata": {},
   "outputs": [],
   "source": [
    "P.<x> = GF(2)[]\n",
    "E = HyperellipticCurve(x^3,P(1))\n",
    "E1 = magma(E)\n",
    "F0 = E1.FunctionField().AlgorithmicFunctionField()\n",
    "assert F0.NumberOfPlacesOfDegreeOneECF(1) == 3"
   ]
  },
  {
   "cell_type": "markdown",
   "metadata": {},
   "source": [
    "Collect double covers of $E$ ramified at the two degree-3 places with the desired point counts."
   ]
  },
  {
   "cell_type": "code",
   "execution_count": 5,
   "metadata": {},
   "outputs": [
    {
     "data": {
      "text/plain": [
       "1"
      ]
     },
     "execution_count": 5,
     "metadata": {},
     "output_type": "execute_result"
    }
   ],
   "source": [
    "l = []\n",
    "places3 = [i for i in F0.Places(3)]\n",
    "assert len(places3) == 2\n",
    "z = F0.DivisorGroup().Identity() + places3[0] + places3[1]\n",
    "for F in cyclic_covers_by_ramification(F0, 2, 2*z, delta=6):\n",
    "    t = tuple(F.NumberOfPlacesOfDegreeOneECF(i) for i in range(1,8))\n",
    "    if t in targets7:\n",
    "        l.append(F)\n",
    "len(l)"
   ]
  },
  {
   "cell_type": "markdown",
   "metadata": {},
   "source": [
    "Collect double covers of $E$ ramified at a degree-6 place with the desired point counts."
   ]
  },
  {
   "cell_type": "code",
   "execution_count": 6,
   "metadata": {},
   "outputs": [
    {
     "data": {
      "text/plain": [
       "3"
      ]
     },
     "execution_count": 6,
     "metadata": {},
     "output_type": "execute_result"
    }
   ],
   "source": [
    "places6 = [i for i in F0.Places(6)]\n",
    "for i in places6:\n",
    "    z = F0.DivisorGroup().Identity() + i\n",
    "    for F in cyclic_covers_by_ramification(F0, 2, 2*z, delta=6):\n",
    "        t = tuple(F.NumberOfPlacesOfDegreeOneECF(i) for i in range(1,8))\n",
    "        if t in targets7:\n",
    "            l.append(F)\n",
    "len(l)"
   ]
  },
  {
   "cell_type": "code",
   "execution_count": 7,
   "metadata": {},
   "outputs": [
    {
     "data": {
      "text/plain": [
       "2"
      ]
     },
     "execution_count": 7,
     "metadata": {},
     "output_type": "execute_result"
    }
   ],
   "source": [
    "l = isomorphism_class_reps(l)\n",
    "len(l)"
   ]
  },
  {
   "cell_type": "markdown",
   "metadata": {},
   "source": [
    "Search for extensions of relative class number 1."
   ]
  },
  {
   "cell_type": "code",
   "execution_count": 8,
   "metadata": {},
   "outputs": [
    {
     "data": {
      "text/plain": [
       "1"
      ]
     },
     "execution_count": 8,
     "metadata": {},
     "output_type": "execute_result"
    }
   ],
   "source": [
    "l2 = []\n",
    "for F in l:\n",
    "    l2 += match_weil_poly(F, 2)\n",
    "len(l2)"
   ]
  },
  {
   "cell_type": "code",
   "execution_count": 20,
   "metadata": {},
   "outputs": [
    {
     "name": "stdout",
     "output_type": "stream",
     "text": [
      "(6, 18, 12, 18, 6, 60, 174) Algebraic function field defined over Univariate rational function field over GF(2) by\n",
      "$.1^4 + (x^6 + x^4 + x^3 + x^2 + 1)*$.1^2 + (x^6 + x^4 + x^3 + x^2)*$.1 + x^10 + x^9 + x^7 + x^6\n"
     ]
    }
   ],
   "source": [
    "for (F1, F2) in l2:\n",
    "    t = tuple(F1.NumberOfPlacesOfDegreeOneECF(i) for i in range(1,8))\n",
    "    print(t, F1.RationalExtensionRepresentation())"
   ]
  },
  {
   "cell_type": "markdown",
   "metadata": {},
   "source": [
    "Convert the covers into numerical data in preparation for writing out to the spreadsheet."
   ]
  },
  {
   "cell_type": "code",
   "execution_count": 10,
   "metadata": {},
   "outputs": [],
   "source": [
    "l3 = []\n",
    "Q.<T> = QQ[]\n",
    "for (F, F1) in l2:\n",
    "    u1 = T.parent()(magma_poly_list(F.ZetaFunction().Numerator())).reverse()\n",
    "    v1 = T.parent()(magma_poly_list(F1.ZetaFunction().Numerator())).reverse()\n",
    "    l3.append((2, 7, 13, point_count_from_weil_poly(u1, 13), point_count_from_weil_poly(v1, 13)))"
   ]
  },
  {
   "cell_type": "markdown",
   "metadata": {},
   "source": [
    "Write the results back to the spreadsheet. In the process, we check that every covering we found gives a pair of Weil polynomials from our original list."
   ]
  },
  {
   "cell_type": "code",
   "execution_count": 11,
   "metadata": {},
   "outputs": [],
   "source": [
    "used_pols = []\n",
    "for i in range(len(df)):\n",
    "    r = df.iloc[i]\n",
    "    d = r[\"d\"]\n",
    "    g = r[\"g\"]\n",
    "    g1 = r[\"g'\"]\n",
    "    ct1 = eval(r[\"Counts of C\"])\n",
    "    ct2 = eval(r[\"Counts of C'\"])\n",
    "    if (d, g, g1, ct1, ct2) in l3:\n",
    "        df.loc[i, \"Cyclic\"] = \"Yes\"\n",
    "        used_pols.append((d, g, g1, ct1, ct2))\n",
    "assert all(t in used_pols for t in l3)"
   ]
  },
  {
   "cell_type": "code",
   "execution_count": 12,
   "metadata": {},
   "outputs": [],
   "source": [
    "df.to_excel('../Shared/polys.xlsx', sheet_name='Weil polynomials', merge_cells=True, freeze_panes=(int(1),int(1)))"
   ]
  },
  {
   "cell_type": "code",
   "execution_count": 13,
   "metadata": {},
   "outputs": [
    {
     "name": "stdout",
     "output_type": "stream",
     "text": [
      "This stage complete!\n"
     ]
    }
   ],
   "source": [
    "print(\"This stage complete!\")"
   ]
  },
  {
   "cell_type": "code",
   "execution_count": null,
   "metadata": {},
   "outputs": [],
   "source": []
  }
 ],
 "metadata": {
  "kernelspec": {
   "display_name": "SageMath 9.4",
   "language": "sage",
   "name": "sagemath"
  },
  "language_info": {
   "codemirror_mode": {
    "name": "ipython",
    "version": 3
   },
   "file_extension": ".py",
   "mimetype": "text/x-python",
   "name": "python",
   "nbconvert_exporter": "python",
   "pygments_lexer": "ipython3",
   "version": "3.9.5"
  }
 },
 "nbformat": 4,
 "nbformat_minor": 4
}
