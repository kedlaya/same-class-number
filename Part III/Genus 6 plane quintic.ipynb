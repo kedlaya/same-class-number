{
 "cells": [
  {
   "cell_type": "markdown",
   "metadata": {},
   "source": [
    "This notebook is associated with the paper \"The relative class number one problem for function fields, III\" by K.S. Kedlaya. It runs in SageMath (tested using version 9.4) and depends on Magma (tested using version\n",
    "2.25-5).\n",
    "\n",
    "In this notebook, we identify plane quintic curves (of genus 6) which are candidates for the curve $C$ in a purely geometric quadratic extension $F'/F$ of relative class number 1. Allow 5 minutes for completion."
   ]
  },
  {
   "cell_type": "code",
   "execution_count": 1,
   "metadata": {},
   "outputs": [],
   "source": [
    "load(\"preamble.sage\")"
   ]
  },
  {
   "cell_type": "markdown",
   "metadata": {},
   "source": [
    "Construct the set of $\\mathbb{F}_2$-rational points of $\\mathbf{P}^2$."
   ]
  },
  {
   "cell_type": "code",
   "execution_count": 2,
   "metadata": {},
   "outputs": [],
   "source": [
    "F = GF(2)\n",
    "P.<x0,x1,x2> = F[]"
   ]
  },
  {
   "cell_type": "code",
   "execution_count": 3,
   "metadata": {},
   "outputs": [
    {
     "data": {
      "text/plain": [
       "7"
      ]
     },
     "execution_count": 3,
     "metadata": {},
     "output_type": "execute_result"
    }
   ],
   "source": [
    "S = [vector(t) for t in ProjectiveSpace(F, 2).rational_points()]\n",
    "for v in S:\n",
    "    v.set_immutable()\n",
    "len(S)"
   ]
  },
  {
   "cell_type": "markdown",
   "metadata": {},
   "source": [
    "Use an orbit lookup tree to find $\\mathrm{GL}(3,\\mathbb{F}_2)$-orbit representatives for 6-tuples of $\\mathbb{F}_2$-points in $\\mathbf{P}^2$."
   ]
  },
  {
   "cell_type": "code",
   "execution_count": 4,
   "metadata": {},
   "outputs": [],
   "source": [
    "def apply_group_elem(g, x):\n",
    "    x1 = g*x\n",
    "    x1.set_immutable()\n",
    "    return x1"
   ]
  },
  {
   "cell_type": "code",
   "execution_count": 5,
   "metadata": {},
   "outputs": [],
   "source": [
    "def stabilizer(x):\n",
    "    return GL(3, 2).subgroup([g.matrix().transpose() for g in vec_stab(Matrix(x)).gens()])"
   ]
  },
  {
   "cell_type": "code",
   "execution_count": 6,
   "metadata": {},
   "outputs": [],
   "source": [
    "def optimized_rep(g):\n",
    "    return g.matrix()"
   ]
  },
  {
   "cell_type": "code",
   "execution_count": 7,
   "metadata": {},
   "outputs": [],
   "source": [
    "methods = {'apply_group_elem': apply_group_elem,\n",
    "           'stabilizer': stabilizer,\n",
    "           'optimized_rep': optimized_rep}"
   ]
  },
  {
   "cell_type": "code",
   "execution_count": 8,
   "metadata": {},
   "outputs": [],
   "source": [
    "G = GL(3, F)\n",
    "tree = build_orbit_tree(G, S, 6, methods, verbose=False)"
   ]
  },
  {
   "cell_type": "markdown",
   "metadata": {},
   "source": [
    "For each representative tuple, solve a linear system to find all quintics passing through exactly these $\\mathbb{F}_2$-rational points."
   ]
  },
  {
   "cell_type": "code",
   "execution_count": 9,
   "metadata": {},
   "outputs": [
    {
     "data": {
      "text/plain": [
       "21"
      ]
     },
     "execution_count": 9,
     "metadata": {},
     "output_type": "execute_result"
    }
   ],
   "source": [
    "monos5 = [prod(x) for x in itertools.combinations_with_replacement(P.gens(), 5)]\n",
    "len(monos5)"
   ]
  },
  {
   "cell_type": "code",
   "execution_count": 10,
   "metadata": {},
   "outputs": [],
   "source": [
    "coords5 = {x: vector(mu(*x) for mu in monos5) for x in S}"
   ]
  },
  {
   "cell_type": "code",
   "execution_count": 11,
   "metadata": {},
   "outputs": [],
   "source": [
    "def vec_to_gen(v):\n",
    "    return sum(v[i]*monos5[i] for i in range(len(monos5)))"
   ]
  },
  {
   "cell_type": "code",
   "execution_count": 12,
   "metadata": {},
   "outputs": [],
   "source": [
    "curves = defaultdict(list)\n",
    "perp = Matrix([coords5[x] for x in S])\n",
    "for s in range(4, 7):\n",
    "    for vecs in green_nodes(tree, s):\n",
    "        target = vector(F, (0 if x in vecs else 1 for x in S))\n",
    "        for w in solve_right_iterator(perp, target):\n",
    "            curves[(s,)].append(vec_to_gen(w))"
   ]
  },
  {
   "cell_type": "code",
   "execution_count": 13,
   "metadata": {},
   "outputs": [
    {
     "data": {
      "text/plain": [
       "[((4,), 32768), ((5,), 16384), ((6,), 16384)]"
      ]
     },
     "execution_count": 13,
     "metadata": {},
     "output_type": "execute_result"
    }
   ],
   "source": [
    "[(s, len(curves[s])) for s in curves]"
   ]
  },
  {
   "cell_type": "markdown",
   "metadata": {},
   "source": [
    "Compute point counts over $\\mathbb{F}_{q^i}$ for $i=2,3,4$, retaining cases that fit our targets."
   ]
  },
  {
   "cell_type": "code",
   "execution_count": 14,
   "metadata": {},
   "outputs": [],
   "source": [
    "def count_by_ideal(gen, n):\n",
    "    J = P.ideal([gen] + [y^(2^n) + y for y in P.gens()])\n",
    "    return (J.vector_space_dimension() - 1) // (2^n-1)"
   ]
  },
  {
   "cell_type": "code",
   "execution_count": 15,
   "metadata": {},
   "outputs": [
    {
     "name": "stdout",
     "output_type": "stream",
     "text": [
      "[((4, 14), 360), ((4, 16), 24), ((5, 11), 2880), ((5, 13), 920), ((5, 15), 192), ((6, 10), 5064), ((6, 14), 920)]\n",
      "[((4, 14, 16), 63), ((4, 16, 16), 3), ((5, 11, 11), 768), ((5, 13, 14), 200), ((5, 15, 5), 16), ((6, 10, 9), 888), ((6, 14, 12), 56), ((6, 14, 6), 36)]\n",
      "[((4, 14, 16, 18), 24), ((5, 11, 11, 31), 196), ((5, 11, 11, 39), 4), ((5, 13, 14, 25), 32), ((6, 14, 12, 26), 4)]\n"
     ]
    }
   ],
   "source": [
    "for n in range(2, 5):\n",
    "    tmp = set(t[:n] for t in targets6)\n",
    "    tmp2 = list(curves.keys())\n",
    "    for s in tmp2:\n",
    "        for gen in curves[s]:\n",
    "            i = count_by_ideal(gen, n)\n",
    "            s1 = s + (i,)\n",
    "            if s1 in tmp:\n",
    "                curves[s1].append(gen)\n",
    "        del curves[s]\n",
    "    print([(s, len(curves[s])) for s in curves])"
   ]
  },
  {
   "cell_type": "markdown",
   "metadata": {},
   "source": [
    "Close out this case."
   ]
  },
  {
   "cell_type": "code",
   "execution_count": 16,
   "metadata": {},
   "outputs": [
    {
     "name": "stdout",
     "output_type": "stream",
     "text": [
      "Number of curves found: 8\n",
      "Number of isomorphism classes found: 1\n",
      "No covers found in this case!\n",
      "Total time: 58 seconds\n"
     ]
    }
   ],
   "source": [
    "proj = magma.ProjectiveSpace(P)\n",
    "closeout(curves, X=proj)"
   ]
  }
 ],
 "metadata": {
  "kernelspec": {
   "display_name": "SageMath 9.4",
   "language": "sage",
   "name": "sagemath"
  },
  "language_info": {
   "codemirror_mode": {
    "name": "ipython",
    "version": 3
   },
   "file_extension": ".py",
   "mimetype": "text/x-python",
   "name": "python",
   "nbconvert_exporter": "python",
   "pygments_lexer": "ipython3",
   "version": "3.9.5"
  }
 },
 "nbformat": 4,
 "nbformat_minor": 4
}
