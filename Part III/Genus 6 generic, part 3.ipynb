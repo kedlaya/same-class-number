{
 "cells": [
  {
   "cell_type": "markdown",
   "metadata": {},
   "source": [
    "This notebook is associated with the paper \"The relative class number one problem for function fields, III\" by K.S. Kedlaya. It runs in SageMath (tested using version 9.5) and depends on Magma (tested using version\n",
    "2.26-9).\n",
    "\n",
    "In this notebook, we find generic curves of genus 6 which are candidates for the curve $C$ in a purely geometric quadratic extension $F'/F$ of relative class number 1 with $\\#C(\\mathbb{F}_2) \\in \\{4,6\\}$.  Allow 1.5 hours for completion."
   ]
  },
  {
   "cell_type": "code",
   "execution_count": 1,
   "metadata": {},
   "outputs": [],
   "source": [
    "load(\"preamble.sage\")"
   ]
  },
  {
   "cell_type": "code",
   "execution_count": 2,
   "metadata": {},
   "outputs": [],
   "source": [
    "F = GF(2)"
   ]
  },
  {
   "cell_type": "code",
   "execution_count": 3,
   "metadata": {},
   "outputs": [],
   "source": [
    "P.<x01,x02,x03,x04,x12,x13,x14,x23,x24,x34> = PolynomialRing(F, 10)\n",
    "quads = (x01*x23 + x02*x13 + x03*x12,\n",
    "         x01*x24 + x02*x14 + x04*x12,\n",
    "         x01*x34 + x03*x14 + x04*x13,\n",
    "         x02*x34 + x03*x24 + x04*x23,\n",
    "         x12*x34 + x13*x24 + x14*x23)"
   ]
  },
  {
   "cell_type": "code",
   "execution_count": 4,
   "metadata": {},
   "outputs": [],
   "source": [
    "def vecs_to_gens(vecs):\n",
    "    return tuple(sum(P.gens()[i] * v[i] for i in range(10)) for v in vecs)"
   ]
  },
  {
   "cell_type": "code",
   "execution_count": 5,
   "metadata": {},
   "outputs": [
    {
     "data": {
      "text/plain": [
       "57"
      ]
     },
     "execution_count": 5,
     "metadata": {},
     "output_type": "execute_result"
    }
   ],
   "source": [
    "with open(\"genus6-flats.txt\", \"r\") as f:\n",
    "    s = f.read()\n",
    "    l = sage_eval(s)\n",
    "    l = [[vector(F, v) for v in vecs] for vecs in l]\n",
    "len(l)"
   ]
  },
  {
   "cell_type": "code",
   "execution_count": 6,
   "metadata": {},
   "outputs": [
    {
     "data": {
      "text/plain": [
       "55"
      ]
     },
     "execution_count": 6,
     "metadata": {},
     "output_type": "execute_result"
    }
   ],
   "source": [
    "monos2 = [prod(x) for x in itertools.combinations_with_replacement(P.gens(), 2)]\n",
    "len(monos2)"
   ]
  },
  {
   "cell_type": "code",
   "execution_count": 7,
   "metadata": {},
   "outputs": [
    {
     "data": {
      "text/plain": [
       "155"
      ]
     },
     "execution_count": 7,
     "metadata": {},
     "output_type": "execute_result"
    }
   ],
   "source": [
    "coords = {}\n",
    "for V in VectorSpace(F, 5).subspaces(2):\n",
    "    M = V.matrix()\n",
    "    M.set_immutable()\n",
    "    coords[M] = vector(M.minors(2))\n",
    "S = list(coords.keys())\n",
    "len(S)"
   ]
  },
  {
   "cell_type": "code",
   "execution_count": 8,
   "metadata": {},
   "outputs": [],
   "source": [
    "coords2 = {}\n",
    "V0 = VectorSpace(F, 10)\n",
    "for x in V0:\n",
    "    x.set_immutable()\n",
    "    coords2[x] = vector(F, (mu(*x) for mu in monos2))"
   ]
  },
  {
   "cell_type": "code",
   "execution_count": 9,
   "metadata": {},
   "outputs": [],
   "source": [
    "def redundancy(gens, F=F, P=P, monos2=monos2, quads=quads):\n",
    "    return [vector(F, ((gen*y).coefficient(mu) for mu in monos2)) for gen in gens for y in P.gens()] + \\\n",
    "       [vector(F, (gen.coefficient(mu) for mu in monos2)) for gen in quads]"
   ]
  },
  {
   "cell_type": "code",
   "execution_count": 10,
   "metadata": {},
   "outputs": [
    {
     "name": "stdout",
     "output_type": "stream",
     "text": [
      "9 []\n",
      "9 [((4,), 16128), ((6,), 10752)]\n",
      "11 [((4,), 32256), ((6,), 21504)]\n",
      "7 [((4,), 42816), ((6,), 36288)]\n",
      "9 [((4,), 60736), ((6,), 39872)]\n",
      "7 [((4,), 76864), ((6,), 50624)]\n",
      "11 [((4,), 94784), ((6,), 54208)]\n",
      "15 [((4,), 105344), ((6,), 68992)]\n",
      "7 [((4,), 108032), ((6,), 79072)]\n",
      "5 [((4,), 125952), ((6,), 82656)]\n",
      "13 [((4,), 136192), ((6,), 82656)]\n",
      "13 [((4,), 141912), ((6,), 96384)]\n",
      "13 [((4,), 147632), ((6,), 110112)]\n",
      "9 [((4,), 153232), ((6,), 124000)]\n",
      "5 [((4,), 169360), ((6,), 134752)]\n",
      "7 [((4,), 179600), ((6,), 134752)]\n",
      "11 [((4,), 197520), ((6,), 138336)]\n",
      "11 [((4,), 208272), ((6,), 152672)]\n",
      "15 [((4,), 219024), ((6,), 167008)]\n",
      "9 [((4,), 221712), ((6,), 177088)]\n",
      "13 [((4,), 237840), ((6,), 187840)]\n",
      "17 [((4,), 243560), ((6,), 201568)]\n",
      "7 [((4,), 244750), ((6,), 207742)]\n",
      "7 [((4,), 262670), ((6,), 211326)]\n",
      "19 [((4,), 280590), ((6,), 214910)]\n",
      "11 [((4,), 281086), ((6,), 218270)]\n",
      "15 [((4,), 291646), ((6,), 233054)]\n",
      "11 [((4,), 294376), ((6,), 243064)]\n",
      "11 [((4,), 304936), ((6,), 257848)]\n",
      "15 [((4,), 315496), ((6,), 272632)]\n",
      "15 [((4,), 318312), ((6,), 282360)]\n",
      "7 [((4,), 321000), ((6,), 292440)]\n",
      "9 [((4,), 338920), ((6,), 296024)]\n",
      "13 [((4,), 355048), ((6,), 306776)]\n",
      "9 [((4,), 360648), ((6,), 320664)]\n",
      "11 [((4,), 378568), ((6,), 331416)]\n",
      "11 [((4,), 389128), ((6,), 346200)]\n",
      "19 [((4,), 399688), ((6,), 360984)]\n",
      "11 [((4,), 400224), ((6,), 364400)]\n",
      "23 [((4,), 410464), ((6,), 378736)]\n",
      "19 [((4,), 410588), ((6,), 380464)]\n",
      "11 [((4,), 411100), ((6,), 384048)]\n",
      "15 [((4,), 421852), ((6,), 398384)]\n",
      "11 [((4,), 424540), ((6,), 408464)]\n",
      "27 [((4,), 434780), ((6,), 422800)]\n",
      "23 [((4,), 434780), ((6,), 422800)]\n",
      "11 [((4,), 434860), ((6,), 423648)]\n",
      "11 [((4,), 445612), ((6,), 437984)]\n",
      "15 [((4,), 456172), ((6,), 452768)]\n",
      "15 [((4,), 458902), ((6,), 462778)]\n",
      "7 [((4,), 458902), ((6,), 462778)]\n",
      "19 [((4,), 458902), ((6,), 462778)]\n",
      "21 [((4,), 459974), ((6,), 469610)]\n",
      "19 [((4,), 459974), ((6,), 469610)]\n",
      "19 [((4,), 459974), ((6,), 469610)]\n",
      "7 [((4,), 459974), ((6,), 469610)]\n",
      "35 [((4,), 459974), ((6,), 469610)]\n"
     ]
    }
   ],
   "source": [
    "curves = defaultdict(list)\n",
    "for vecs in l:\n",
    "    V1 = Matrix(vecs).row_space()\n",
    "    V = Matrix(vecs).right_kernel()\n",
    "    gens = vecs_to_gens(V1.basis())\n",
    "    pts = [coords[x] for x in S if coords[x] in V]\n",
    "    print(len(pts), [(s, len(curves[s])) for s in curves])\n",
    "    for v in pts:\n",
    "        v.set_immutable()\n",
    "    W = VectorSpace(F, 55)\n",
    "    W1 = W.quotient(redundancy(gens))\n",
    "    perp = Matrix([coords2[x] for x in pts])\n",
    "    for s in [4, 6]:\n",
    "        for pts1 in itertools.combinations(pts, s):\n",
    "            target = vector(F, (0 if x in pts1 else 1 for x in pts))\n",
    "            for w in solve_right_iterator(perp, target, redundancy, gens):\n",
    "                gens1 = sum(w[i]*monos2[i] for i in range(55))\n",
    "                curves[(s,)].append(gens + (gens1,))"
   ]
  },
  {
   "cell_type": "code",
   "execution_count": 11,
   "metadata": {},
   "outputs": [
    {
     "data": {
      "text/plain": [
       "5797"
      ]
     },
     "execution_count": 11,
     "metadata": {},
     "output_type": "execute_result"
    }
   ],
   "source": [
    "F4 = GF(4)\n",
    "S4 = []\n",
    "for V in VectorSpace(F4, 5).subspaces(2):\n",
    "    M = V.matrix()\n",
    "    v = vector(M.minors(2))\n",
    "    i = min(j for j in range(10) if v[j])\n",
    "    assert v[i] == 1\n",
    "    v.set_immutable()\n",
    "    S4.append(v)\n",
    "len(S4)"
   ]
  },
  {
   "cell_type": "code",
   "execution_count": 12,
   "metadata": {},
   "outputs": [],
   "source": [
    "tmp = [s for s in curves if len(s) == 1]\n",
    "tmp2 = set(t[:2] for t in targets6)\n",
    "for (s1,) in tmp:\n",
    "    gens1 = 0\n",
    "    for gens in curves[(s1,)]:\n",
    "        if gens1 != gens[:-1]:\n",
    "            gens1 = gens[:-1]\n",
    "            pts2 = [x for x in S4 if all(gen(*x) == 0 for gen in gens1)]\n",
    "        s2 = sum(1 for x in pts2 if gens[-1](*x) == 0)\n",
    "        if (s1, s2) in tmp2:\n",
    "            curves[(s1,s2)].append(gens)\n",
    "    del curves[(s1,)]"
   ]
  },
  {
   "cell_type": "code",
   "execution_count": 13,
   "metadata": {},
   "outputs": [
    {
     "data": {
      "text/plain": [
       "[((4, 14), 32577), ((4, 16), 21823), ((6, 14), 62493), ((6, 10), 86568)]"
      ]
     },
     "execution_count": 13,
     "metadata": {},
     "output_type": "execute_result"
    }
   ],
   "source": [
    "[(s, len(curves[s])) for s in curves]"
   ]
  },
  {
   "cell_type": "code",
   "execution_count": 14,
   "metadata": {},
   "outputs": [],
   "source": [
    "def count_by_ideal(gens, n):\n",
    "    J = P.ideal(gens + quads + tuple(y^(2^n) + y for y in P.gens()))\n",
    "    return (J.vector_space_dimension() - 1) // (2^n-1)"
   ]
  },
  {
   "cell_type": "code",
   "execution_count": 15,
   "metadata": {},
   "outputs": [
    {
     "name": "stdout",
     "output_type": "stream",
     "text": [
      "[((4, 14, 16), 8435), ((4, 16, 16), 6557), ((6, 14, 12), 3647), ((6, 14, 6), 1393), ((6, 10, 9), 4789)]\n",
      "[((4, 14, 16, 18), 82), ((4, 14, 16, 26), 38), ((6, 14, 12, 26), 24), ((6, 14, 6, 34), 18), ((6, 14, 6, 26), 105), ((6, 10, 9, 38), 66)]\n"
     ]
    }
   ],
   "source": [
    "for n in range(3, 5):\n",
    "    tmp = set(t[:n] for t in targets6)\n",
    "    tmp2 = list(curves.keys())    \n",
    "    for s in tmp2:\n",
    "        for gens in curves[s]:\n",
    "            i = count_by_ideal(gens, n)\n",
    "            s1 = s + (i,)\n",
    "            if s1 in tmp:\n",
    "                curves[s1].append(gens)\n",
    "        del curves[s]\n",
    "    print([(s, len(curves[s])) for s in curves])"
   ]
  },
  {
   "cell_type": "code",
   "execution_count": 16,
   "metadata": {},
   "outputs": [
    {
     "name": "stdout",
     "output_type": "stream",
     "text": [
      "Number of curves found: 20\n",
      "Number of isomorphism classes found: 7\n",
      "Number of covers found: 1\n",
      "(6, 14, 12, 26, 6, 56) ($.1^5 + $.1^3 + $.1)*$.1^4 + ($.1^6 + $.1^2 + $.1)*$.1^3 + ($.1^7 + $.1^2 + $.1)*$.1^2 + ($.1^8 + $.1^7 + $.1^6 + $.1^2 + 1)*$.1 + $.1^7 + $.1^6 + $.1^5 + $.1^2 + $.1 + 1\n",
      "All covers recorded!\n",
      "Total time: 86 minutes\n"
     ]
    }
   ],
   "source": [
    "proj = magma.ProjectiveSpace(P)\n",
    "curves = {s: [gens + quads for gens in curves[s]] for s in curves}\n",
    "closeout(curves, X=proj, genus=6)"
   ]
  }
 ],
 "metadata": {
  "kernelspec": {
   "display_name": "SageMath 9.5",
   "language": "sage",
   "name": "sagemath"
  },
  "language_info": {
   "codemirror_mode": {
    "name": "ipython",
    "version": 3
   },
   "file_extension": ".py",
   "mimetype": "text/x-python",
   "name": "python",
   "nbconvert_exporter": "python",
   "pygments_lexer": "ipython3",
   "version": "3.9.7"
  }
 },
 "nbformat": 4,
 "nbformat_minor": 4
}
