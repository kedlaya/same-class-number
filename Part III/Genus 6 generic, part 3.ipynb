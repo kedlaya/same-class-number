{
 "cells": [
  {
   "cell_type": "markdown",
   "metadata": {},
   "source": [
    "This notebook is associated with the paper \"The relative class number one problem for function fields, III\" by K.S. Kedlaya. It runs in SageMath (tested using version 9.5rc3) and depends on Magma (tested using version\n",
    "2.26-9).\n",
    "\n",
    "In this notebook, we identify generic curves of genus 6 which are candidates for the curve $C$ in a purely geometric quadratic extension $F'/F$ of relative class number 1 under the assumption that either $\\#C(\\mathbb{F}_2) > 4$, or $\\#C(\\mathbb{F}_2) = 4$ and the $\\mathbb{F}_2$-points do not form a $g^1_4$.  Allow 3 hours for completion."
   ]
  },
  {
   "cell_type": "code",
   "execution_count": 1,
   "metadata": {},
   "outputs": [],
   "source": [
    "load(\"preamble.sage\")"
   ]
  },
  {
   "cell_type": "markdown",
   "metadata": {},
   "source": [
    "Construct the set of $\\mathbb{F}_2$-rational points of $G(2,5)$, represented as $2 \\times 5$ echelon matrices,\n",
    "together with their Plucker coordinates."
   ]
  },
  {
   "cell_type": "code",
   "execution_count": 2,
   "metadata": {},
   "outputs": [],
   "source": [
    "F = GF(2)"
   ]
  },
  {
   "cell_type": "code",
   "execution_count": 3,
   "metadata": {},
   "outputs": [
    {
     "data": {
      "text/plain": [
       "155"
      ]
     },
     "execution_count": 3,
     "metadata": {},
     "output_type": "execute_result"
    }
   ],
   "source": [
    "coords = {}\n",
    "for V in VectorSpace(F, 5).subspaces(2):\n",
    "    M = V.matrix()\n",
    "    M.set_immutable()\n",
    "    coords[M] = vector(M.minors(2))\n",
    "S = list(coords.keys())\n",
    "len(S)"
   ]
  },
  {
   "cell_type": "markdown",
   "metadata": {},
   "source": [
    "Construct the Plucker relations defining $G(2,5)$ inside $\\mathbb{P}^9$."
   ]
  },
  {
   "cell_type": "code",
   "execution_count": 4,
   "metadata": {},
   "outputs": [],
   "source": [
    "P.<x01,x02,x03,x04,x12,x13,x14,x23,x24,x34> = PolynomialRing(F, 10)\n",
    "quads = (x01*x23 + x02*x13 + x03*x12,\n",
    "         x01*x24 + x02*x14 + x04*x12,\n",
    "         x01*x34 + x03*x14 + x04*x13,\n",
    "         x02*x34 + x03*x24 + x04*x23,\n",
    "         x12*x34 + x13*x24 + x14*x23)"
   ]
  },
  {
   "cell_type": "markdown",
   "metadata": {},
   "source": [
    "Reat representative tuples of points on $G(2,5)$ from a file."
   ]
  },
  {
   "cell_type": "code",
   "execution_count": 5,
   "metadata": {},
   "outputs": [
    {
     "data": {
      "text/plain": [
       "2475"
      ]
     },
     "execution_count": 5,
     "metadata": {},
     "output_type": "execute_result"
    }
   ],
   "source": [
    "with open(\"genus6-tuples.txt\", \"r\") as f:\n",
    "    s = f.read()\n",
    "    l = sage_eval(s)\n",
    "    l = [[vector(F, v) for v in vecs] for vecs in l]\n",
    "len(l)"
   ]
  },
  {
   "cell_type": "markdown",
   "metadata": {},
   "source": [
    "Construct the linear spans of the tuples of length greater than 4."
   ]
  },
  {
   "cell_type": "code",
   "execution_count": 6,
   "metadata": {},
   "outputs": [],
   "source": [
    "d = {}\n",
    "for vecs in l:\n",
    "    if len(vecs) == 4:\n",
    "        m = Matrix(vecs).echelon_form()\n",
    "        W = m.row_space()\n",
    "        for v in vecs:\n",
    "            v.set_immutable()\n",
    "        d[tuple(vecs)] = W"
   ]
  },
  {
   "cell_type": "code",
   "execution_count": 7,
   "metadata": {},
   "outputs": [
    {
     "data": {
      "text/plain": [
       "[(0, 0), (1, 0), (2, 0), (3, 7), (4, 32), (5, 0), (6, 0)]"
      ]
     },
     "execution_count": 7,
     "metadata": {},
     "output_type": "execute_result"
    }
   ],
   "source": [
    "[(i, sum(1 for vecs in d if d[vecs].dimension() == i)) for i in range(7)]"
   ]
  },
  {
   "cell_type": "markdown",
   "metadata": {},
   "source": [
    "Construct 6-dimensional extensions of these subspaces (in terms of bases thereof)."
   ]
  },
  {
   "cell_type": "code",
   "execution_count": 8,
   "metadata": {},
   "outputs": [],
   "source": [
    "def vecs_to_gens(vecs):\n",
    "    return tuple(sum(P.gens()[i] * v[i] for i in range(10)) for v in vecs)"
   ]
  },
  {
   "cell_type": "code",
   "execution_count": 9,
   "metadata": {},
   "outputs": [],
   "source": [
    "def linear_section(vecs):\n",
    "    V = Matrix(vecs).right_kernel()\n",
    "    tmp2 = vecs_to_gens(V.gens()) + quads\n",
    "    return P.ideal(tmp2)"
   ]
  },
  {
   "cell_type": "code",
   "execution_count": 10,
   "metadata": {},
   "outputs": [],
   "source": [
    "d2 = defaultdict(list)\n",
    "V0 = VectorSpace(F, 10)\n",
    "for vecs in d:\n",
    "    V1 = d[vecs]\n",
    "    if V1.dimension() <= 3:\n",
    "        continue\n",
    "    for V2 in subspaces_containing(V0, V1, 6-V1.dimension()):\n",
    "        J = linear_section(V2.gens())\n",
    "        if J.dimension() > 3:\n",
    "            continue\n",
    "        d2[vecs].append(V2)"
   ]
  },
  {
   "cell_type": "code",
   "execution_count": 11,
   "metadata": {},
   "outputs": [
    {
     "data": {
      "text/plain": [
       "[18982, 0, 0]"
      ]
     },
     "execution_count": 11,
     "metadata": {},
     "output_type": "execute_result"
    }
   ],
   "source": [
    "[sum(len(d2[vecs]) for vecs in d2 if len(vecs) == i) for i in range(4,7)]"
   ]
  },
  {
   "cell_type": "markdown",
   "metadata": {},
   "source": [
    "For each 6-dimensional subspace, identify quadrics which meet this subspace in exactly the specified set of $\\mathbb{F}_2$-rational points, modulo multiples of the linear relations cutting out the subspaces and the quadrics cutting out the Grassmannian."
   ]
  },
  {
   "cell_type": "code",
   "execution_count": 12,
   "metadata": {},
   "outputs": [
    {
     "data": {
      "text/plain": [
       "55"
      ]
     },
     "execution_count": 12,
     "metadata": {},
     "output_type": "execute_result"
    }
   ],
   "source": [
    "monos2 = [prod(x) for x in itertools.combinations_with_replacement(P.gens(), 2)]\n",
    "len(monos2)"
   ]
  },
  {
   "cell_type": "code",
   "execution_count": 13,
   "metadata": {},
   "outputs": [],
   "source": [
    "coords2 = {}\n",
    "for x in V0:\n",
    "    x.set_immutable()\n",
    "    coords2[x] = vector(F, (mu(*x) for mu in monos2))"
   ]
  },
  {
   "cell_type": "code",
   "execution_count": 14,
   "metadata": {},
   "outputs": [],
   "source": [
    "def redundancy(gens, F=F, P=P, monos2=monos2, quads=quads):\n",
    "    return [vector(F, ((gen*y).coefficient(mu) for mu in monos2)) for gen in gens for y in P.gens()] + \\\n",
    "       [vector(F, (gen.coefficient(mu) for mu in monos2)) for gen in quads]"
   ]
  },
  {
   "cell_type": "code",
   "execution_count": null,
   "metadata": {},
   "outputs": [],
   "source": [
    "curves = defaultdict(list)\n",
    "for vecs in d2:\n",
    "    s = len(vecs)\n",
    "    for V in d2[vecs]:\n",
    "        V1 = V.matrix().right_kernel()\n",
    "        gens = vecs_to_gens(V1.basis())\n",
    "        pts = []\n",
    "        for x in V:\n",
    "            if x != 0:\n",
    "                x.set_immutable()\n",
    "                if all(gen(*x) == 0 for gen in quads):\n",
    "                    pts.append(x)\n",
    "        perp = Matrix([coords2[x] for x in pts])\n",
    "        target = vector(F, (0 if x in vecs else 1 for x in pts))\n",
    "        for w in solve_right_iterator(perp, target, redundancy, gens):\n",
    "            gens1 = sum(w[i]*monos2[i] for i in range(55))\n",
    "            curves[(s,)].append(gens + (gens1,))"
   ]
  },
  {
   "cell_type": "code",
   "execution_count": null,
   "metadata": {},
   "outputs": [],
   "source": [
    "[(s, len(curves[s])) for s in curves]"
   ]
  },
  {
   "cell_type": "markdown",
   "metadata": {},
   "source": [
    "Enforce the desired point counts over $\\mathbb{F}_{2^i}$ for $i=2$ using point counting and for $i=3,4$ using commutative algebra."
   ]
  },
  {
   "cell_type": "code",
   "execution_count": null,
   "metadata": {},
   "outputs": [],
   "source": [
    "F4 = GF(4)\n",
    "S4 = []\n",
    "for V in VectorSpace(F4, 5).subspaces(2):\n",
    "    M = V.matrix()\n",
    "    v = vector(M.minors(2))\n",
    "    i = min(j for j in range(10) if v[j])\n",
    "    assert v[i] == 1\n",
    "    v.set_immutable()\n",
    "    S4.append(v)\n",
    "len(S4)"
   ]
  },
  {
   "cell_type": "code",
   "execution_count": null,
   "metadata": {},
   "outputs": [],
   "source": [
    "tmp = [s for s in curves if len(s) == 1]\n",
    "tmp2 = set(t[:2] for t in targets6)\n",
    "for (s1,) in tmp:\n",
    "    gens1 = 0\n",
    "    for gens in curves[(s1,)]:\n",
    "        if gens1 != gens[:-1]:\n",
    "            gens1 = gens[:-1]\n",
    "            pts2 = [x for x in S4 if all(gen(*x) == 0 for gen in gens1)]\n",
    "        s2 = sum(1 for x in pts2 if gens[-1](*x) == 0)\n",
    "        if (s1, s2) in tmp2:\n",
    "            curves[(s1,s2)].append(gens)\n",
    "    del curves[(s1,)]"
   ]
  },
  {
   "cell_type": "code",
   "execution_count": null,
   "metadata": {},
   "outputs": [],
   "source": [
    "[(s, len(curves[s])) for s in curves]"
   ]
  },
  {
   "cell_type": "code",
   "execution_count": null,
   "metadata": {},
   "outputs": [],
   "source": [
    "def count_by_ideal(gens, n):\n",
    "    J = P.ideal(gens + quads + tuple(y^(2^n) + y for y in P.gens()))\n",
    "    return (J.vector_space_dimension() - 1) // (2^n-1)"
   ]
  },
  {
   "cell_type": "code",
   "execution_count": null,
   "metadata": {},
   "outputs": [],
   "source": [
    "for n in range(3, 5):\n",
    "    tmp = set(t[:n] for t in targets6)\n",
    "    tmp2 = list(curves.keys())    \n",
    "    for s in tmp2:\n",
    "        for gens in curves[s]:\n",
    "            i = count_by_ideal(gens, n)\n",
    "            s1 = s + (i,)\n",
    "            if s1 in tmp:\n",
    "                curves[s1].append(gens)\n",
    "        del curves[s]\n",
    "    print([(s, len(curves[s])) for s in curves])"
   ]
  },
  {
   "cell_type": "markdown",
   "metadata": {},
   "source": [
    "Close out this case."
   ]
  },
  {
   "cell_type": "code",
   "execution_count": null,
   "metadata": {},
   "outputs": [],
   "source": [
    "proj = magma.ProjectiveSpace(P)\n",
    "curves = {s: [gens + quads for gens in curves[s]] for s in curves}\n",
    "closeout(curves, X=proj, genus=6)"
   ]
  }
 ],
 "metadata": {
  "kernelspec": {
   "display_name": "SageMath 9.5.rc3",
   "language": "sage",
   "name": "sagemath"
  },
  "language_info": {
   "codemirror_mode": {
    "name": "ipython",
    "version": 3
   },
   "file_extension": ".py",
   "mimetype": "text/x-python",
   "name": "python",
   "nbconvert_exporter": "python",
   "pygments_lexer": "ipython3",
   "version": "3.9.7"
  }
 },
 "nbformat": 4,
 "nbformat_minor": 4
}
