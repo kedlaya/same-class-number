{
 "cells": [
  {
   "cell_type": "markdown",
   "metadata": {},
   "source": [
    "This notebook is associated with the paper \"The relative class number one problem for function fields, III\" by K.S. Kedlaya. It runs in SageMath (tested using version 9.7) and depends on Magma (tested using version\n",
    "2.27-1).\n",
    "\n",
    "In this notebook, we find generic curves of genus 6 which are candidates for the curve $C$ in a purely geometric quadratic extension $F'/F$ of relative class number 1 with $\\#C(\\mathbb{F}_2) \\in \\{4,6\\}$.  Allow 40 minutes for completion."
   ]
  },
  {
   "cell_type": "code",
   "execution_count": 1,
   "metadata": {},
   "outputs": [],
   "source": [
    "load(\"preamble.sage\")"
   ]
  },
  {
   "cell_type": "markdown",
   "metadata": {},
   "source": [
    "Read from disk the precomputed data about codimension-4 flats in $\\mathbf{P}^9$."
   ]
  },
  {
   "cell_type": "code",
   "execution_count": 2,
   "metadata": {},
   "outputs": [],
   "source": [
    "F = GF(2)"
   ]
  },
  {
   "cell_type": "code",
   "execution_count": 3,
   "metadata": {},
   "outputs": [
    {
     "data": {
      "text/plain": [
       "20"
      ]
     },
     "execution_count": 3,
     "metadata": {},
     "output_type": "execute_result"
    }
   ],
   "source": [
    "with open(\"genus6-flats.txt\", \"r\") as f:\n",
    "    s = f.read()\n",
    "    l = sage_eval(s)\n",
    "    l = [[vector(F, v) for v in vecs] for vecs in l]\n",
    "len(l)"
   ]
  },
  {
   "cell_type": "markdown",
   "metadata": {},
   "source": [
    "Construct the points of the Grassmannian $X$ in $\\mathbf{P}^9$, then verify the Plucker relations."
   ]
  },
  {
   "cell_type": "code",
   "execution_count": 4,
   "metadata": {},
   "outputs": [
    {
     "data": {
      "text/plain": [
       "155"
      ]
     },
     "execution_count": 4,
     "metadata": {},
     "output_type": "execute_result"
    }
   ],
   "source": [
    "coords = {}\n",
    "for V in VectorSpace(F, 5).subspaces(2):\n",
    "    M = V.matrix()\n",
    "    M.set_immutable()\n",
    "    coords[M] = vector(M.minors(2))\n",
    "S = list(coords.keys())\n",
    "len(S)"
   ]
  },
  {
   "cell_type": "code",
   "execution_count": 5,
   "metadata": {},
   "outputs": [],
   "source": [
    "P.<x01,x02,x03,x04,x12,x13,x14,x23,x24,x34> = PolynomialRing(F, 10)\n",
    "quads = (x01*x23 + x02*x13 + x03*x12,\n",
    "         x01*x24 + x02*x14 + x04*x12,\n",
    "         x01*x34 + x03*x14 + x04*x13,\n",
    "         x02*x34 + x03*x24 + x04*x23,\n",
    "         x12*x34 + x13*x24 + x14*x23)"
   ]
  },
  {
   "cell_type": "code",
   "execution_count": 6,
   "metadata": {},
   "outputs": [],
   "source": [
    "assert all(gen(*coords[M]) == 0 for M in coords for gen in quads)"
   ]
  },
  {
   "cell_type": "markdown",
   "metadata": {},
   "source": [
    "Generate all quadratic monomials, then evaluate these on the points of $X$."
   ]
  },
  {
   "cell_type": "code",
   "execution_count": 7,
   "metadata": {},
   "outputs": [
    {
     "data": {
      "text/plain": [
       "55"
      ]
     },
     "execution_count": 7,
     "metadata": {},
     "output_type": "execute_result"
    }
   ],
   "source": [
    "monos2 = [prod(x) for x in itertools.combinations_with_replacement(P.gens(), 2)]\n",
    "len(monos2)"
   ]
  },
  {
   "cell_type": "code",
   "execution_count": 8,
   "metadata": {},
   "outputs": [],
   "source": [
    "coords2 = {}\n",
    "V0 = VectorSpace(F, 10)\n",
    "for x in V0:\n",
    "    x.set_immutable()\n",
    "    coords2[x] = vector(F, (mu(*x) for mu in monos2))"
   ]
  },
  {
   "cell_type": "markdown",
   "metadata": {},
   "source": [
    "For each flat in the list, iterate over 4-tuples and 6-tuples of rational points on the intersection of the flat with the Grassmannian and solve for quadrics passing through exactly those points."
   ]
  },
  {
   "cell_type": "code",
   "execution_count": 9,
   "metadata": {},
   "outputs": [],
   "source": [
    "def vecs_to_gens(vecs):\n",
    "    return tuple(sum(P.gens()[i] * v[i] for i in range(10)) for v in vecs)"
   ]
  },
  {
   "cell_type": "code",
   "execution_count": 10,
   "metadata": {},
   "outputs": [],
   "source": [
    "def redundancy(gens, F=F, P=P, monos2=monos2, quads=quads):\n",
    "    return [vector(F, ((gen*y).coefficient(mu) for mu in monos2)) for gen in gens for y in P.gens()] + \\\n",
    "       [vector(F, (gen.coefficient(mu) for mu in monos2)) for gen in quads]"
   ]
  },
  {
   "cell_type": "code",
   "execution_count": 11,
   "metadata": {},
   "outputs": [
    {
     "name": "stdout",
     "output_type": "stream",
     "text": [
      "9 []\n",
      "9 [((4,), 16128), ((6,), 10752)]\n",
      "11 [((4,), 32256), ((6,), 21504)]\n",
      "7 [((4,), 42816), ((6,), 36288)]\n",
      "9 [((4,), 60736), ((6,), 39872)]\n",
      "7 [((4,), 76864), ((6,), 50624)]\n",
      "11 [((4,), 94784), ((6,), 54208)]\n",
      "7 [((4,), 105344), ((6,), 68992)]\n",
      "5 [((4,), 123264), ((6,), 72576)]\n",
      "13 [((4,), 133504), ((6,), 72576)]\n",
      "9 [((4,), 139224), ((6,), 86304)]\n",
      "5 [((4,), 155352), ((6,), 97056)]\n",
      "7 [((4,), 165592), ((6,), 97056)]\n",
      "9 [((4,), 183512), ((6,), 100640)]\n",
      "7 [((4,), 199640), ((6,), 111392)]\n",
      "7 [((4,), 217560), ((6,), 114976)]\n",
      "11 [((4,), 235480), ((6,), 118560)]\n",
      "7 [((4,), 246040), ((6,), 133344)]\n",
      "9 [((4,), 263960), ((6,), 136928)]\n",
      "15 [((4,), 280088), ((6,), 147680)]\n"
     ]
    }
   ],
   "source": [
    "curves = defaultdict(list)\n",
    "W = VectorSpace(F, 55)\n",
    "for vecs in l:\n",
    "    V1 = Matrix(vecs).row_space()\n",
    "    V = Matrix(vecs).right_kernel()\n",
    "    gens = vecs_to_gens(V1.basis())\n",
    "    pts = [coords[x] for x in S if coords[x] in V]\n",
    "    print(len(pts), [(s, len(curves[s])) for s in curves])\n",
    "    for v in pts:\n",
    "        v.set_immutable()\n",
    "    W1 = W.quotient(redundancy(gens))\n",
    "    perp = Matrix([coords2[x] for x in pts])\n",
    "    for s in [4, 6]:\n",
    "        for pts1 in itertools.combinations(pts, s):\n",
    "            target = vector(F, (0 if x in set(pts1) else 1 for x in pts))\n",
    "            for w in solve_right_iterator(perp, target, redundancy, gens):\n",
    "                gens1 = sum(w[i]*monos2[i] for i in range(55))\n",
    "                curves[(s,)].append(gens + (gens1,))"
   ]
  },
  {
   "cell_type": "markdown",
   "metadata": {},
   "source": [
    "Enforce the desired point counts over $\\mathbb{F}_{2^i}$ for $i=2$ using point counting and for $i=3,4$ using commutative algebra."
   ]
  },
  {
   "cell_type": "code",
   "execution_count": 12,
   "metadata": {},
   "outputs": [
    {
     "data": {
      "text/plain": [
       "5797"
      ]
     },
     "execution_count": 12,
     "metadata": {},
     "output_type": "execute_result"
    }
   ],
   "source": [
    "F4 = GF(4)\n",
    "S4 = []\n",
    "for V in VectorSpace(F4, 5).subspaces(2):\n",
    "    M = V.matrix()\n",
    "    v = vector(M.minors(2))\n",
    "    i = min(j for j in range(10) if v[j])\n",
    "    assert v[i] == 1\n",
    "    v.set_immutable()\n",
    "    S4.append(v)\n",
    "len(S4)"
   ]
  },
  {
   "cell_type": "code",
   "execution_count": 13,
   "metadata": {},
   "outputs": [],
   "source": [
    "tmp = [s for s in curves if len(s) == 1]\n",
    "tmp2 = set(t[:2] for t in targets6)\n",
    "for (s1,) in tmp:\n",
    "    gens1 = 0\n",
    "    for gens in curves[(s1,)]:\n",
    "        if gens1 != gens[:-1]:\n",
    "            gens1 = gens[:-1]\n",
    "            pts2 = [x for x in S4 if all(gen(*x) == 0 for gen in gens1)]\n",
    "        s2 = sum(1 for x in pts2 if gens[-1](*x) == 0)\n",
    "        if (s1, s2) in tmp2:\n",
    "            curves[(s1,s2)].append(gens)\n",
    "    del curves[(s1,)]"
   ]
  },
  {
   "cell_type": "code",
   "execution_count": 14,
   "metadata": {},
   "outputs": [
    {
     "data": {
      "text/plain": [
       "[((4, 14), 11021), ((4, 16), 3413), ((6, 14), 16947), ((6, 10), 45583)]"
      ]
     },
     "execution_count": 14,
     "metadata": {},
     "output_type": "execute_result"
    }
   ],
   "source": [
    "[(s, len(curves[s])) for s in curves]"
   ]
  },
  {
   "cell_type": "code",
   "execution_count": 15,
   "metadata": {},
   "outputs": [],
   "source": [
    "def count_by_ideal(gens, n):\n",
    "    J = P.ideal(gens + quads + tuple(y^(2^n) + y for y in P.gens()))\n",
    "    return (J.vector_space_dimension() - 1) // (2^n-1)"
   ]
  },
  {
   "cell_type": "code",
   "execution_count": 16,
   "metadata": {},
   "outputs": [
    {
     "name": "stdout",
     "output_type": "stream",
     "text": [
      "[((4, 14, 16), 2179), ((4, 16, 16), 743), ((6, 14, 12), 1481), ((6, 14, 6), 586), ((6, 10, 9), 4665)]\n",
      "[((4, 14, 16, 18), 82), ((4, 14, 16, 26), 38), ((6, 14, 12, 26), 24), ((6, 14, 6, 34), 18), ((6, 14, 6, 26), 105), ((6, 10, 9, 38), 50)]\n"
     ]
    }
   ],
   "source": [
    "for n in range(3, 5):\n",
    "    tmp = set(t[:n] for t in targets6)\n",
    "    tmp2 = list(curves.keys())    \n",
    "    for s in tmp2:\n",
    "        for gens in curves[s]:\n",
    "            i = count_by_ideal(gens, n)\n",
    "            s1 = s + (i,)\n",
    "            if s1 in tmp:\n",
    "                curves[s1].append(gens)\n",
    "        del curves[s]\n",
    "    print([(s, len(curves[s])) for s in curves])"
   ]
  },
  {
   "cell_type": "markdown",
   "metadata": {},
   "source": [
    "Close out this case."
   ]
  },
  {
   "cell_type": "code",
   "execution_count": 17,
   "metadata": {},
   "outputs": [
    {
     "name": "stdout",
     "output_type": "stream",
     "text": [
      "Number of curves found: 20\n",
      "Number of isomorphism classes found: 7\n",
      "Number of covers found: 1\n",
      "(6, 14, 12, 26, 6, 56) ($.1^5 + $.1^3 + $.1)*$.1^4 + ($.1^6 + $.1^2 + $.1)*$.1^3 + ($.1^7 + $.1^2 + $.1)*$.1^2 + ($.1^8 + $.1^7 + $.1^6 + $.1^2 + 1)*$.1 + $.1^7 + $.1^6 + $.1^5 + $.1^2 + $.1 + 1 <3, 1>\n",
      "All covers recorded!\n",
      "Total time: 43 minutes\n"
     ]
    }
   ],
   "source": [
    "proj = magma.ProjectiveSpace(P)\n",
    "curves = {s: [gens + quads for gens in curves[s]] for s in curves}\n",
    "closeout(curves, X=proj, genus=6)"
   ]
  }
 ],
 "metadata": {
  "kernelspec": {
   "display_name": "SageMath 9.7.beta8",
   "language": "sage",
   "name": "sagemath"
  },
  "language_info": {
   "codemirror_mode": {
    "name": "ipython",
    "version": 3
   },
   "file_extension": ".py",
   "mimetype": "text/x-python",
   "name": "python",
   "nbconvert_exporter": "python",
   "pygments_lexer": "ipython3",
   "version": "3.10.4"
 },
 "nbformat": 4,
 "nbformat_minor": 4
}
