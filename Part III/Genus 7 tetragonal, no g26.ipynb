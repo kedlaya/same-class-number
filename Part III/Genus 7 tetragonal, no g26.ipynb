{
 "cells": [
  {
   "cell_type": "markdown",
   "metadata": {},
   "source": [
    "This notebook is associated with the paper \"The relative class number one problem for function fields, III\" by K.S. Kedlaya. It runs in SageMath (tested using version 9.4) and depends on Magma (tested using version\n",
    "2.25-5).\n",
    "\n",
    "In this notebook, we identify tetragonal curves of genus 7 with no $g^2_6$ which are candidates for the curve $C$ in a purely geometric quadratic extension $F'/F$ of relative class number 1. Allow 4 hours for completion."
   ]
  },
  {
   "cell_type": "code",
   "execution_count": 1,
   "metadata": {},
   "outputs": [],
   "source": [
    "load(\"preamble.sage\")"
   ]
  },
  {
   "cell_type": "markdown",
   "metadata": {},
   "source": [
    "Fix a smooth $(1,1)$-hypersurface $X_1$ in $\\mathbb{P}^1 \\times \\mathbb{P}^3$ and find the rational points on it."
   ]
  },
  {
   "cell_type": "code",
   "execution_count": 2,
   "metadata": {},
   "outputs": [],
   "source": [
    "F = GF(2)\n",
    "P.<x0,x1,y0,y1,y2,y3> = PolynomialRing(F, 6)"
   ]
  },
  {
   "cell_type": "code",
   "execution_count": 3,
   "metadata": {},
   "outputs": [],
   "source": [
    "gens1 = x0*y0 + x1*y1"
   ]
  },
  {
   "cell_type": "code",
   "execution_count": 4,
   "metadata": {},
   "outputs": [
    {
     "data": {
      "text/plain": [
       "21"
      ]
     },
     "execution_count": 4,
     "metadata": {},
     "output_type": "execute_result"
    }
   ],
   "source": [
    "S1 = [vector(F,t) for t in itertools.product(F, repeat=2) if not all(i==0 for i in t)]\n",
    "S2 = [vector(F,t) for t in itertools.product(F, repeat=4) if not all(i==0 for i in t)]\n",
    "for v in S1 + S2:\n",
    "    v.set_immutable()\n",
    "S0 = list(itertools.product(S1, S2))\n",
    "S = [x for x in S0 if gens1(*x[0], *x[1]) == 0]\n",
    "len(S)"
   ]
  },
  {
   "cell_type": "markdown",
   "metadata": {},
   "source": [
    "Construct the rational points on $X_1$ over $\\mathbb{F}_4$."
   ]
  },
  {
   "cell_type": "code",
   "execution_count": 5,
   "metadata": {},
   "outputs": [
    {
     "data": {
      "text/plain": [
       "105"
      ]
     },
     "execution_count": 5,
     "metadata": {},
     "output_type": "execute_result"
    }
   ],
   "source": [
    "F4 = GF(4)\n",
    "S14 = [vector(F4,t) for t in itertools.product(F4, repeat=2) if not all(i==0 for i in t) and t[min(i for i in range(2) if t[i] != 0)] == 1]\n",
    "S24 = [vector(F4,t) for t in itertools.product(F4, repeat=4) if not all(i==0 for i in t) and t[min(i for i in range(4) if t[i] != 0)] == 1]\n",
    "S04 = list(itertools.product(S14, S24))\n",
    "S4 = [x for x in S04 if gens1(*x[0], *x[1]) == 0]\n",
    "len(S4)"
   ]
  },
  {
   "cell_type": "markdown",
   "metadata": {},
   "source": [
    "Construct the subgroup of $\\mathrm{GL}(2,\\mathbb{F}_2) \\times \\mathrm{GL}(4, \\mathbb{F}_2)$ fixing $X_1$, presented as a subgroup of $\\mathrm{GL}(6, \\mathbb{F}_2)$."
   ]
  },
  {
   "cell_type": "code",
   "execution_count": 6,
   "metadata": {},
   "outputs": [
    {
     "data": {
      "text/plain": [
       "576"
      ]
     },
     "execution_count": 6,
     "metadata": {},
     "output_type": "execute_result"
    }
   ],
   "source": [
    "l0 = [block_matrix(2,2,[identity_matrix(4),0,0,g.matrix()], subdivide=False) for g in GL(2,F).gens()] +\\\n",
    "      [block_matrix(3,3,[Matrix([[0,1],[1,0]]),0,0,0,Matrix([[0,1],[1,0]]),0,0,0,identity_matrix(2)],subdivide=False)] +\\\n",
    "      [block_matrix(3,3,[Matrix([[1,1],[0,1]]),0,0,0,Matrix([[1,0],[1,1]]),0,0,0,identity_matrix(2)],subdivide=False)] +\\\n",
    "      [identity_matrix(6)]\n",
    "l0[-1][5,3] = 1\n",
    "G0 = GL(6,F).subgroup(l0)\n",
    "G0.order()"
   ]
  },
  {
   "cell_type": "markdown",
   "metadata": {},
   "source": [
    "Use an orbit lookup tree to find $\\mathrm{GL}(2,\\mathbb{F}_2) \\times \\mathrm{GL}(4, \\mathbb{F}_2)$-orbit representatives for 7-tuples of $\\mathbb{F}_2$-points in $\\mathbb{P}^1 \\times \\mathbb{P}^3$. We exclude tuples in which some 5 points have the same image in $\\mathbb{P}^1$."
   ]
  },
  {
   "cell_type": "code",
   "execution_count": 7,
   "metadata": {},
   "outputs": [],
   "source": [
    "def apply_group_elem(g, x):\n",
    "    g1 = g.submatrix(nrows=2,ncols=2)\n",
    "    g2 = g.submatrix(row=2,col=2)\n",
    "    v1 = g1*x[0]\n",
    "    v2 = g2*x[1]\n",
    "    v1.set_immutable()\n",
    "    v2.set_immutable()\n",
    "    return (v1, v2)"
   ]
  },
  {
   "cell_type": "code",
   "execution_count": 8,
   "metadata": {},
   "outputs": [],
   "source": [
    "assert all(apply_group_elem(g.matrix(),x) in S for g in G0.gens() for x in S)"
   ]
  },
  {
   "cell_type": "code",
   "execution_count": 9,
   "metadata": {},
   "outputs": [],
   "source": [
    "def stabilizer(x):\n",
    "    G1 = vec_stab(Matrix(F, x[0]), transpose=True)\n",
    "    G2 = vec_stab(Matrix(F, x[1]), transpose=True)\n",
    "    l0 = [block_matrix(2,2,[g.matrix(),0,0,identity_matrix(4)], subdivide=False) for g in G1.gens()] + \\\n",
    "        [block_matrix(2,2,[identity_matrix(2),0,0,g.matrix()], subdivide=False) for g in G2.gens()]\n",
    "    return GL(6, F).subgroup(l0)"
   ]
  },
  {
   "cell_type": "code",
   "execution_count": 10,
   "metadata": {},
   "outputs": [],
   "source": [
    "def forbid(vecs, easy=False):\n",
    "    if len(vecs) == 5:\n",
    "        if len(set([x[0] for x in vecs])) == 1:\n",
    "            return True    \n",
    "    return False"
   ]
  },
  {
   "cell_type": "code",
   "execution_count": 11,
   "metadata": {},
   "outputs": [],
   "source": [
    "def optimized_rep(g):\n",
    "    return g.matrix()"
   ]
  },
  {
   "cell_type": "code",
   "execution_count": 12,
   "metadata": {},
   "outputs": [],
   "source": [
    "methods = {'apply_group_elem': apply_group_elem,\n",
    "           'stabilizer': stabilizer,\n",
    "           'optimized_rep': optimized_rep,\n",
    "           'forbid': forbid}\n",
    "tree = build_orbit_tree(G0, S, 7, methods, verbose=False)"
   ]
  },
  {
   "cell_type": "code",
   "execution_count": 13,
   "metadata": {},
   "outputs": [
    {
     "data": {
      "text/plain": [
       "(254, 423)"
      ]
     },
     "execution_count": 13,
     "metadata": {},
     "output_type": "execute_result"
    }
   ],
   "source": [
    "l6 = green_nodes(tree, 6)\n",
    "l7 = green_nodes(tree, 7)\n",
    "len(l6), len(l7)"
   ]
  },
  {
   "cell_type": "markdown",
   "metadata": {},
   "source": [
    "For each orbit of 6-tuples or 7-tuples, find complete intersections of type $(1,1), (1,2), (1,2)$ passing through exactly these $\\mathbb{F}_2$-rational points of $X_1$. We use the following facts.\n",
    "- The second hypersurface $X_2$ is only specified modulo the ideal generated by the first polynomial. Similarly, the third hypersurface is only specified modulo the ideal generated by the first two.\n",
    "- Given the first two hypersurfaces, every $\\mathbb{F}_2$-point of $\\mathbb{P}^1 \\times \\mathbb{P}^3$ lying on the intersection of the first two hypersurfaces but not belonging to our tuple defines an *affine* condition on the third hypersurface. We can thus find candidates for the third hypersurface by solving a system of linear equations.\n",
    "\n",
    "We also impose the desired point count over $\\mathbb{F}_4$."
   ]
  },
  {
   "cell_type": "code",
   "execution_count": 14,
   "metadata": {},
   "outputs": [],
   "source": [
    "monos11 = [prod(i) for i in itertools.product([x0,x1],[y0,y1,y2,y3])]\n",
    "monos12 = [prod(i) for i in itertools.product([x0,x1], [prod(j) for j in itertools.combinations_with_replacement([y0,y1,y2,y3],2)])]"
   ]
  },
  {
   "cell_type": "code",
   "execution_count": 15,
   "metadata": {},
   "outputs": [],
   "source": [
    "coords1 = {x: vector(F, (mu(*x[0], *x[1]) for mu in monos11)) for x in S}\n",
    "coords2 = {x: vector(F, (mu(*x[0], *x[1]) for mu in monos12)) for x in S}"
   ]
  },
  {
   "cell_type": "code",
   "execution_count": 16,
   "metadata": {},
   "outputs": [],
   "source": [
    "redundancy1 = [vector(F, ((gens1*y).coefficient(mu) for mu in monos12)) for y in [y0,y1,y2,y3]]"
   ]
  },
  {
   "cell_type": "code",
   "execution_count": 17,
   "metadata": {},
   "outputs": [],
   "source": [
    "def redundancy(v1, redundancy1=redundancy1):\n",
    "    return redundancy1 + [v1]"
   ]
  },
  {
   "cell_type": "code",
   "execution_count": 18,
   "metadata": {},
   "outputs": [],
   "source": [
    "l2a = []\n",
    "l2b = []\n",
    "assert Matrix(redundancy1).rank() == 4\n",
    "V1 = Matrix(F, [coords2[x] for x in S]).right_kernel()\n",
    "assert all(w in V1 for w in redundancy1)\n",
    "for vecs in l6 + l7:\n",
    "#    print(len(l2a), len(l2b))\n",
    "    d2 = {}\n",
    "    coo = [coords2[x] for x in vecs]\n",
    "    V1a = Matrix(coo).right_kernel()\n",
    "    for (v1,) in subspaces_containing(V1a, V1a.subspace(redundancy1), 1, basis=True):\n",
    "        pts = [x for x in S if coords2[x]*v1 == 0]\n",
    "        pts2 = 0\n",
    "        perp = Matrix([coords2[x] for x in pts])\n",
    "        target = vector(F, (0 if x in vecs else 1 for x in pts))\n",
    "        for w in solve_right_iterator(perp, target, redundancy, v1):\n",
    "            if pts2 == 0:\n",
    "                gens2 = sum(v1[i]*monos12[i] for i in range(20))\n",
    "                pts2 = [x for x in S4 if x not in S and gens2(*x[0], *x[1]) == 0]\n",
    "            gens3 = sum(w[i]*monos12[i] for i in range(20))\n",
    "            s = sum(1 for x in pts2 if gens3(*x[0], *x[1]) == 0)\n",
    "            if (vecs in l6 and s != 12) or (vecs in l7 and s != 8):\n",
    "                continue\n",
    "            M = Matrix(F, coo + [v1, w]).echelon_form()\n",
    "            if M not in d2:\n",
    "                d2[M] = (v1, w)\n",
    "    if vecs in l6:\n",
    "        for M in d2:\n",
    "            l2a.append(d2[M])\n",
    "    else:\n",
    "        for M in d2:\n",
    "            l2b.append(d2[M])"
   ]
  },
  {
   "cell_type": "code",
   "execution_count": 19,
   "metadata": {},
   "outputs": [
    {
     "data": {
      "text/plain": [
       "(32119, 137874)"
      ]
     },
     "execution_count": 19,
     "metadata": {},
     "output_type": "execute_result"
    }
   ],
   "source": [
    "len(l2a), len(l2b)"
   ]
  },
  {
   "cell_type": "markdown",
   "metadata": {},
   "source": [
    "Enforce the desired point counts over $\\mathbb{F}_{2^i}$ for $i=3,4$."
   ]
  },
  {
   "cell_type": "code",
   "execution_count": 20,
   "metadata": {},
   "outputs": [],
   "source": [
    "def vecs_to_gens(vecs):\n",
    "    return [gens1,\n",
    "            sum(vecs[0][i]*monos12[i] for i in range(20)),\n",
    "            sum(vecs[1][i]*monos12[i] for i in range(20))]"
   ]
  },
  {
   "cell_type": "code",
   "execution_count": 21,
   "metadata": {},
   "outputs": [],
   "source": [
    "def count_by_ideal(vecs, n):\n",
    "    J = P.ideal(vecs_to_gens(vecs) + [y^(2^n) + y for y in P.gens()])\n",
    "    return (J.vector_space_dimension() - 2^(4*n) - 2^(2*n) + 1) // (2^n-1)^2"
   ]
  },
  {
   "cell_type": "code",
   "execution_count": 22,
   "metadata": {},
   "outputs": [
    {
     "data": {
      "text/plain": [
       "3165"
      ]
     },
     "execution_count": 22,
     "metadata": {},
     "output_type": "execute_result"
    }
   ],
   "source": [
    "l4a = [vecs for vecs in l2a if count_by_ideal(vecs, 3) == 12]\n",
    "len(l4a)"
   ]
  },
  {
   "cell_type": "code",
   "execution_count": 23,
   "metadata": {},
   "outputs": [
    {
     "data": {
      "text/plain": [
       "1404"
      ]
     },
     "execution_count": 23,
     "metadata": {},
     "output_type": "execute_result"
    }
   ],
   "source": [
    "l4b = [vecs for vecs in l2b if count_by_ideal(vecs, 3) == 7]\n",
    "len(l4b)"
   ]
  },
  {
   "cell_type": "code",
   "execution_count": 24,
   "metadata": {},
   "outputs": [],
   "source": [
    "del l2a, l2b"
   ]
  },
  {
   "cell_type": "code",
   "execution_count": 25,
   "metadata": {},
   "outputs": [
    {
     "data": {
      "text/plain": [
       "3"
      ]
     },
     "execution_count": 25,
     "metadata": {},
     "output_type": "execute_result"
    }
   ],
   "source": [
    "l5a = [vecs for vecs in l4a if count_by_ideal(vecs, 4) == 18]\n",
    "len(l5a)"
   ]
  },
  {
   "cell_type": "code",
   "execution_count": 26,
   "metadata": {},
   "outputs": [
    {
     "data": {
      "text/plain": [
       "455"
      ]
     },
     "execution_count": 26,
     "metadata": {},
     "output_type": "execute_result"
    }
   ],
   "source": [
    "l5b = [vecs for vecs in l4b if count_by_ideal(vecs, 4) == 31]\n",
    "len(l5b)"
   ]
  },
  {
   "cell_type": "markdown",
   "metadata": {},
   "source": [
    "Use Magma to compute the full zeta functions of the resulting curves, and compare these to our targets."
   ]
  },
  {
   "cell_type": "code",
   "execution_count": 27,
   "metadata": {},
   "outputs": [
    {
     "data": {
      "text/plain": [
       "Toric variety of dimension 4 over Finite field of size 2\n",
       "Variables: x0, x1, y0, y1, y2, y3\n",
       "The components of the irrelevant ideal are:\n",
       "(y3, y2, y1, y0), (x1, x0)\n",
       "The 2 gradings are:\n",
       "1, 1, 0, 0, 0, 0,\n",
       "0, 0, 1, 1, 1, 1"
      ]
     },
     "execution_count": 27,
     "metadata": {},
     "output_type": "execute_result"
    }
   ],
   "source": [
    "I1 = P.ideal([x0,x1])\n",
    "I2 = P.ideal([y0,y1,y2,y3])\n",
    "CR = magma.CoxRing(P, [I1, I2], [[1,1,0,0,0,0],[0,0,1,1,1,1]], [])\n",
    "proj = CR.ToricVariety()\n",
    "proj"
   ]
  },
  {
   "cell_type": "code",
   "execution_count": 28,
   "metadata": {},
   "outputs": [
    {
     "data": {
      "text/plain": [
       "4"
      ]
     },
     "execution_count": 28,
     "metadata": {},
     "output_type": "execute_result"
    }
   ],
   "source": [
    "l = []\n",
    "for vecs in l5a+l5b:\n",
    "    X = proj.Scheme(vecs_to_gens(vecs))\n",
    "    if X.Dimension() > 1 or str(X.IsIrreducible()) == \"false\" or str(X.IsNonsingular()) == \"false\":\n",
    "        continue\n",
    "    C = X.Curve()\n",
    "    ct = tuple(Integer(C.NumberOfPlacesOfDegreeOneECF(i)) for i in range(1, 8))\n",
    "    if ct in targets7:\n",
    "        l.append(C)\n",
    "len(l)"
   ]
  },
  {
   "cell_type": "code",
   "execution_count": 29,
   "metadata": {},
   "outputs": [
    {
     "data": {
      "text/plain": [
       "1"
      ]
     },
     "execution_count": 29,
     "metadata": {},
     "output_type": "execute_result"
    }
   ],
   "source": [
    "l = isomorphism_class_reps(l)\n",
    "len(l)"
   ]
  },
  {
   "cell_type": "markdown",
   "metadata": {},
   "source": [
    "Search for extensions of relative class number 1, finding no results."
   ]
  },
  {
   "cell_type": "code",
   "execution_count": 30,
   "metadata": {},
   "outputs": [],
   "source": [
    "l2 = []\n",
    "for C in l:\n",
    "    F0 = C.FunctionField()\n",
    "    F1 = F0.AlgorithmicFunctionField()\n",
    "    l2 += match_weil_poly(F1, 2)\n",
    "assert not l2"
   ]
  },
  {
   "cell_type": "code",
   "execution_count": 31,
   "metadata": {},
   "outputs": [
    {
     "name": "stdout",
     "output_type": "stream",
     "text": [
      "This stage complete!\n"
     ]
    }
   ],
   "source": [
    "closeout(l2, genus=7)"
   ]
  }
 ],
 "metadata": {
  "kernelspec": {
   "display_name": "SageMath 9.4",
   "language": "sage",
   "name": "sagemath"
  },
  "language_info": {
   "codemirror_mode": {
    "name": "ipython",
    "version": 3
   },
   "file_extension": ".py",
   "mimetype": "text/x-python",
   "name": "python",
   "nbconvert_exporter": "python",
   "pygments_lexer": "ipython3",
   "version": "3.9.5"
  }
 },
 "nbformat": 4,
 "nbformat_minor": 4
}
