{
 "cells": [
  {
   "cell_type": "markdown",
   "metadata": {},
   "source": [
    "This notebook is associated with the paper \"The relative class number one problem for function fields, III\" by K.S. Kedlaya. It runs in SageMath (tested using version 9.5beta9) and depends on Magma (tested using version\n",
    "2.26-9).\n",
    "\n",
    "In this notebook, we identify curves of genus 7 with a rational $g^2_6$ (which does not square to the canonical class) which are candidates for the curve $C$ in a purely geometric quadratic extension $F'/F$ of relative class number 1. Allow 30 minutes for completion."
   ]
  },
  {
   "cell_type": "code",
   "execution_count": 1,
   "metadata": {},
   "outputs": [],
   "source": [
    "load(\"preamble.sage\")"
   ]
  },
  {
   "cell_type": "markdown",
   "metadata": {},
   "source": [
    "Construct the sets of $\\mathbb{F}_{2^i}$-rational points of $\\mathbf{P}^2 \\times \\mathbf{P}^2$ for $i=1,2$."
   ]
  },
  {
   "cell_type": "code",
   "execution_count": 2,
   "metadata": {},
   "outputs": [],
   "source": [
    "F = GF(2)\n",
    "P.<x0,x1,x2,y0,y1,y2> = PolynomialRing(F, 6)"
   ]
  },
  {
   "cell_type": "code",
   "execution_count": 3,
   "metadata": {},
   "outputs": [
    {
     "data": {
      "text/plain": [
       "49"
      ]
     },
     "execution_count": 3,
     "metadata": {},
     "output_type": "execute_result"
    }
   ],
   "source": [
    "S1 = [vector(v) for v in ProjectiveSpace(F, 2)]\n",
    "for v in S1:\n",
    "    v.set_immutable()\n",
    "S = list(itertools.product(S1, S1))\n",
    "len(S)"
   ]
  },
  {
   "cell_type": "markdown",
   "metadata": {},
   "source": [
    "Construct the group $\\mathrm{GL}(3,\\mathbb{F}_2) \\times \\mathrm{GL}(3, \\mathbb{F}_2)$, presented as a subgroup of $\\mathrm{GL}(6, \\mathbb{F}_2)$."
   ]
  },
  {
   "cell_type": "code",
   "execution_count": 4,
   "metadata": {},
   "outputs": [
    {
     "data": {
      "text/plain": [
       "28224"
      ]
     },
     "execution_count": 4,
     "metadata": {},
     "output_type": "execute_result"
    }
   ],
   "source": [
    "l0 = [block_matrix(2,2,[g.matrix(),0,0,identity_matrix(3)], subdivide=False) for g in GL(3,F).gens()] +\\\n",
    "       [block_matrix(2,2,[identity_matrix(3),0,0,g.matrix()], subdivide=False) for g in GL(3,F).gens()]\n",
    "G0 = GL(6,F).subgroup(l0)\n",
    "G0.order()"
   ]
  },
  {
   "cell_type": "markdown",
   "metadata": {},
   "source": [
    "Use an orbit lookup tree to find $\\mathrm{GL}(3,\\mathbb{F}_2) \\times \\mathrm{GL}(3, \\mathbb{F}_2)$-orbit representatives for 7-tuples of $\\mathbb{F}_2$-points in $\\mathbb{P}^2 \\times \\mathbb{P}^2$. We require that no three points have the same image in either factor."
   ]
  },
  {
   "cell_type": "code",
   "execution_count": 5,
   "metadata": {},
   "outputs": [],
   "source": [
    "def apply_group_elem(g, x):\n",
    "    g1 = g.submatrix(nrows=3,ncols=3)\n",
    "    g2 = g.submatrix(row=3,col=3)\n",
    "    v1 = g1*x[0]\n",
    "    v2 = g2*x[1]\n",
    "    v1.set_immutable()\n",
    "    v2.set_immutable()\n",
    "    return (v1, v2)"
   ]
  },
  {
   "cell_type": "code",
   "execution_count": 6,
   "metadata": {},
   "outputs": [],
   "source": [
    "def stabilizer(x):\n",
    "    G1 = vec_stab(Matrix(F, x[0]), transpose=True)\n",
    "    G2 = vec_stab(Matrix(F, x[1]), transpose=True)\n",
    "    l0 = [block_matrix(2,2,[g.matrix(),0,0,identity_matrix(3)], subdivide=False) for g in G1.gens()] + \\\n",
    "        [block_matrix(2,2,[identity_matrix(3),0,0,g.matrix()], subdivide=False) for g in G2.gens()]\n",
    "    return GL(6, F).subgroup(l0)"
   ]
  },
  {
   "cell_type": "code",
   "execution_count": 7,
   "metadata": {},
   "outputs": [],
   "source": [
    "def optimized_rep(g):\n",
    "    return g.matrix()"
   ]
  },
  {
   "cell_type": "code",
   "execution_count": 8,
   "metadata": {},
   "outputs": [],
   "source": [
    "def forbid(vecs, easy=False):\n",
    "    if len(vecs) == 3:\n",
    "        if len(set(x[0] for x in vecs)) == 1 or len(set(x[1] for x in vecs)) == 1:\n",
    "            return True\n",
    "    return False"
   ]
  },
  {
   "cell_type": "code",
   "execution_count": 9,
   "metadata": {},
   "outputs": [],
   "source": [
    "methods = {'apply_group_elem': apply_group_elem,\n",
    "           'stabilizer': stabilizer,\n",
    "           'optimized_rep': optimized_rep,\n",
    "           'forbid': forbid}\n",
    "tree = build_orbit_tree(G0, S, 7, methods, verbose=False)"
   ]
  },
  {
   "cell_type": "code",
   "execution_count": 10,
   "metadata": {},
   "outputs": [
    {
     "data": {
      "text/plain": [
       "(455, 1530)"
      ]
     },
     "execution_count": 10,
     "metadata": {},
     "output_type": "execute_result"
    }
   ],
   "source": [
    "nodes = {6: green_nodes(tree, 6), 7: green_nodes(tree, 7)}\n",
    "len(nodes[6]), len(nodes[7])"
   ]
  },
  {
   "cell_type": "markdown",
   "metadata": {},
   "source": [
    "For each 2-dimensional space of $(1,1)$-hypersurfaces passing through a representative tuple, solve linear equations to find candidates for a third hypersurface such that the triple intersection is exactly the given set. We also impose the desired point count over $\\mathbb{F}_4$."
   ]
  },
  {
   "cell_type": "code",
   "execution_count": 11,
   "metadata": {},
   "outputs": [],
   "source": [
    "monos11 = [prod(i) for i in itertools.product([x0,x1,x2],[y0,y1,y2])]\n",
    "monos22 = [prod(i) for i in itertools.product([prod(j) for j in itertools.combinations_with_replacement([x0,x1,x2],2)], \n",
    "                                              [prod(j) for j in itertools.combinations_with_replacement([y0,y1,y2],2)])]"
   ]
  },
  {
   "cell_type": "code",
   "execution_count": 12,
   "metadata": {},
   "outputs": [],
   "source": [
    "coords1 = {x: vector(F, (mu(*x[0], *x[1]) for mu in monos11)) for x in S}\n",
    "coords2 = {x: vector(F, (mu(*x[0], *x[1]) for mu in monos22)) for x in S}"
   ]
  },
  {
   "cell_type": "code",
   "execution_count": 13,
   "metadata": {},
   "outputs": [],
   "source": [
    "def redundancy(gens, F=F, monos11=monos11, monos22=monos22):\n",
    "    return [vector(F, ((v*m).coefficient(mu) for mu in monos22)) for v in gens for m in monos11]"
   ]
  },
  {
   "cell_type": "code",
   "execution_count": 14,
   "metadata": {},
   "outputs": [],
   "source": [
    "def vecs_to_gens(vecs):\n",
    "    return [sum(vecs[0][i]*monos11[i] for i in range(9)),\n",
    "            sum(vecs[1][i]*monos11[i] for i in range(9)),\n",
    "            sum(vecs[2][i]*monos22[i] for i in range(36))]"
   ]
  },
  {
   "cell_type": "code",
   "execution_count": 15,
   "metadata": {
    "scrolled": true
   },
   "outputs": [],
   "source": [
    "curves = defaultdict(list)\n",
    "for s1 in [6, 7]:\n",
    "    for vecs in nodes[s1]:\n",
    "        V = Matrix([coords1[x] for x in vecs]).right_kernel()\n",
    "        for V1 in V.subspaces(2):\n",
    "            (v1, v2) = V1.basis()\n",
    "            gens1 = sum(v1[i]*monos11[i] for i in range(9))\n",
    "            gens2 = sum(v2[i]*monos11[i] for i in range(9))\n",
    "            pts = [x for x in S if gens1(*x[0], *x[1]) == 0 and gens2(*x[0], *x[1]) == 0]\n",
    "            perp = Matrix([coords2[x] for x in pts])\n",
    "            target = vector(F, (0 if x in vecs else 1 for x in pts))\n",
    "            for w in solve_right_iterator(perp, target, redundancy, [gens1, gens2]):\n",
    "                gens3 = sum(w[i]*monos22[i] for i in range(36))\n",
    "                curves[(s1,)].append((gens1, gens2, gens3))"
   ]
  },
  {
   "cell_type": "code",
   "execution_count": 16,
   "metadata": {},
   "outputs": [
    {
     "data": {
      "text/plain": [
       "[((6,), 126834), ((7,), 57636)]"
      ]
     },
     "execution_count": 16,
     "metadata": {},
     "output_type": "execute_result"
    }
   ],
   "source": [
    "[(s, len(curves[s])) for s in curves]"
   ]
  },
  {
   "cell_type": "markdown",
   "metadata": {},
   "source": [
    "Enforce the desired point counts over $\\mathbb{F}_{2^i}$ for $i=2$ using point counting and for $i=3,4$ using commutative algebra."
   ]
  },
  {
   "cell_type": "code",
   "execution_count": 17,
   "metadata": {},
   "outputs": [
    {
     "data": {
      "text/plain": [
       "441"
      ]
     },
     "execution_count": 17,
     "metadata": {},
     "output_type": "execute_result"
    }
   ],
   "source": [
    "F4 = GF(4)\n",
    "S14 = [vector(v) for v in ProjectiveSpace(F4, 2)]\n",
    "for v in S14:\n",
    "    v.set_immutable()\n",
    "S4 = list(itertools.product(S14, S14))\n",
    "len(S4)"
   ]
  },
  {
   "cell_type": "code",
   "execution_count": 18,
   "metadata": {},
   "outputs": [],
   "source": [
    "tmp = [s for s in curves if len(s) == 1]\n",
    "for (s1,) in tmp:\n",
    "    gens1 = 0\n",
    "    gens2 = 0\n",
    "    for gens in curves[(s1,)]:\n",
    "        if (gens1, gens2) != (gens[0], gens[1]):\n",
    "            (gens1, gens2) = (gens[0], gens[1])\n",
    "            pts2 = [x for x in S4 if gens1(*x[0], *x[1]) == 0 and gens2(*x[0], *x[1]) == 0]\n",
    "        gens3 = gens[2]\n",
    "        s2 = sum(1 for x in pts2 if gens3(*x[0], *x[1]) == 0)\n",
    "        if (s1 == 6 and s2 == 18) or (s1 == 7 and s2 == 15):\n",
    "            curves[(s1,s2)].append((gens1, gens2, gens3))\n",
    "    del curves[(s1,)]"
   ]
  },
  {
   "cell_type": "code",
   "execution_count": 19,
   "metadata": {},
   "outputs": [
    {
     "data": {
      "text/plain": [
       "[((6, 18), 1774), ((7, 15), 4719)]"
      ]
     },
     "execution_count": 19,
     "metadata": {},
     "output_type": "execute_result"
    }
   ],
   "source": [
    "[(s, len(curves[s])) for s in curves if len(s) == 2]"
   ]
  },
  {
   "cell_type": "code",
   "execution_count": 20,
   "metadata": {},
   "outputs": [],
   "source": [
    "def count_by_ideal(gens, n):\n",
    "    J = P.ideal(gens + tuple(y^(2^n) + y for y in P.gens()))\n",
    "    return (J.vector_space_dimension() - 2^(3*n+1) + 1) // (2^n-1)^2"
   ]
  },
  {
   "cell_type": "code",
   "execution_count": 21,
   "metadata": {},
   "outputs": [
    {
     "name": "stdout",
     "output_type": "stream",
     "text": [
      "[((6, 18, 12), 448), ((7, 15, 7), 356)]\n",
      "[((6, 18, 12, 18), 1), ((7, 15, 7, 31), 135)]\n"
     ]
    }
   ],
   "source": [
    "for n in range(3, 5):\n",
    "    tmp = set(t[:n] for t in targets7)\n",
    "    tmp2 = [s for s in curves if len(s) == n-1]    \n",
    "    for s in tmp2:\n",
    "        for gens in curves[s]:\n",
    "            i = count_by_ideal(gens, n)\n",
    "            s1 = s + (i,)\n",
    "            if s1 in tmp:\n",
    "                curves[s1].append(gens)\n",
    "        del curves[s]\n",
    "    print([(s, len(curves[s])) for s in curves if len(s) == n])"
   ]
  },
  {
   "cell_type": "markdown",
   "metadata": {},
   "source": [
    "Close out this case."
   ]
  },
  {
   "cell_type": "code",
   "execution_count": 22,
   "metadata": {},
   "outputs": [],
   "source": [
    "I1 = P.ideal([x0,x1,x2])\n",
    "I2 = P.ideal([y0,y1,y2])\n",
    "CR = magma.CoxRing(P, [I1, I2], [[1,1,1,0,0,0],[0,0,0,1,1,1]], [])\n",
    "proj = CR.ToricVariety()"
   ]
  },
  {
   "cell_type": "code",
   "execution_count": 23,
   "metadata": {},
   "outputs": [
    {
     "name": "stdout",
     "output_type": "stream",
     "text": [
      "Number of curves found: 0\n",
      "Number of isomorphism classes found: 0\n",
      "No covers found in this case!\n",
      "Total time: 24 minutes\n"
     ]
    }
   ],
   "source": [
    "closeout(curves, X=proj, genus=7)"
   ]
  }
 ],
 "metadata": {
  "kernelspec": {
   "display_name": "SageMath 9.5.beta9",
   "language": "sage",
   "name": "sagemath"
  },
  "language_info": {
   "codemirror_mode": {
    "name": "ipython",
    "version": 3
   },
   "file_extension": ".py",
   "mimetype": "text/x-python",
   "name": "python",
   "nbconvert_exporter": "python",
   "pygments_lexer": "ipython3",
   "version": "3.9.7"
  }
 },
 "nbformat": 4,
 "nbformat_minor": 4
}
