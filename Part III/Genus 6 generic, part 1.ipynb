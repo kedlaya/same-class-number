{
 "cells": [
  {
   "cell_type": "markdown",
   "metadata": {},
   "source": [
    "This notebook is associated with the paper \"The relative class number one problem for function fields, III\" by K.S. Kedlaya. It runs in SageMath (tested using version 9.7) and depends on Magma (tested using version\n",
    "2.27-1).\n",
    "\n",
    "In this notebook, we make an intermediate calculation towards finding generic curves of genus 6 which are candidates for the curve $C$ in a purely geometric quadratic extension $F'/F$ of relative class number 1: we compute orbit representatives for 3-dimensional flats in the dual of $\\mathbf{P}^{9}$.  Allow 40 minutes for completion."
   ]
  },
  {
   "cell_type": "code",
   "execution_count": 1,
   "metadata": {},
   "outputs": [],
   "source": [
    "load(\"preamble.sage\")"
   ]
  },
  {
   "cell_type": "markdown",
   "metadata": {},
   "source": [
    "Construct generators for $\\mathrm{GL}(5, \\mathbb{F}_2)$ acting on $\\wedge^2 \\mathbb{F}_2^5$."
   ]
  },
  {
   "cell_type": "code",
   "execution_count": 2,
   "metadata": {},
   "outputs": [],
   "source": [
    "F = GF(2)"
   ]
  },
  {
   "cell_type": "code",
   "execution_count": 3,
   "metadata": {},
   "outputs": [],
   "source": [
    "G0 = SymmetricGroup(10)\n",
    "g1 = G0([(1,5,8,10,4),(2,6,9,3,7)]).matrix().change_ring(F)\n",
    "g2 = identity_matrix(F, 10)\n",
    "g2[1,4] = 1\n",
    "g2[2,5] = 1\n",
    "g2[3,6] = 1\n",
    "G = MatrixGroup([g1,g2])"
   ]
  },
  {
   "cell_type": "markdown",
   "metadata": {},
   "source": [
    "Construct an orbit lookup tree of depth 4 for the action of $G$ on the dual of $\\mathbf{P}^9$."
   ]
  },
  {
   "cell_type": "code",
   "execution_count": 4,
   "metadata": {},
   "outputs": [],
   "source": [
    "def apply_group_elem(g, x):\n",
    "    x1 = g*x\n",
    "    x1.set_immutable()\n",
    "    return x1"
   ]
  },
  {
   "cell_type": "code",
   "execution_count": 5,
   "metadata": {},
   "outputs": [],
   "source": [
    "def stabilizer(x):\n",
    "    return vec_stab(Matrix(F, x), transpose=True)"
   ]
  },
  {
   "cell_type": "code",
   "execution_count": 6,
   "metadata": {},
   "outputs": [],
   "source": [
    "def optimized_rep(g):\n",
    "    return g.matrix()"
   ]
  },
  {
   "cell_type": "code",
   "execution_count": 7,
   "metadata": {},
   "outputs": [],
   "source": [
    "def forbid(vecs, easy=False):\n",
    "    return (Matrix(vecs).rank() < len(vecs))"
   ]
  },
  {
   "cell_type": "code",
   "execution_count": 8,
   "metadata": {},
   "outputs": [],
   "source": [
    "methods = {'apply_group_elem': apply_group_elem,\n",
    "           'stabilizer': stabilizer,\n",
    "           'optimized_rep': optimized_rep,\n",
    "           'forbid': forbid}"
   ]
  },
  {
   "cell_type": "code",
   "execution_count": 9,
   "metadata": {},
   "outputs": [],
   "source": [
    "S = [x for x in VectorSpace(F, 10) if x != 0]\n",
    "for x in S:\n",
    "    x.set_immutable()"
   ]
  },
  {
   "cell_type": "code",
   "execution_count": 10,
   "metadata": {
    "scrolled": true
   },
   "outputs": [
    {
     "data": {
      "text/plain": [
       "6306"
      ]
     },
     "execution_count": 10,
     "metadata": {},
     "output_type": "execute_result"
    }
   ],
   "source": [
    "tree = build_orbit_tree(G, S, 4, methods, verbose=False)\n",
    "len(green_nodes(tree, 4))"
   ]
  },
  {
   "cell_type": "markdown",
   "metadata": {},
   "source": [
    "Construct generators of the group $\\mathrm{GL}(4, \\mathbb{F}_2)$."
   ]
  },
  {
   "cell_type": "code",
   "execution_count": 11,
   "metadata": {},
   "outputs": [
    {
     "data": {
      "text/plain": [
       "3"
      ]
     },
     "execution_count": 11,
     "metadata": {},
     "output_type": "execute_result"
    }
   ],
   "source": [
    "H = GL(4,F)\n",
    "gens = []\n",
    "while H.subgroup(gens).order() != H.order():\n",
    "    gens.append(H.random_element().matrix())\n",
    "len(gens)"
   ]
  },
  {
   "cell_type": "markdown",
   "metadata": {},
   "source": [
    "Use the action of $\\mathrm{GL}(4, \\mathbb{F}_2)$ to identify 4-tuples whose spans are $G$-equivalent."
   ]
  },
  {
   "cell_type": "code",
   "execution_count": 12,
   "metadata": {
    "scrolled": true
   },
   "outputs": [],
   "source": [
    "edges = []\n",
    "for mats in green_nodes(tree, 4):\n",
    "    for g in gens:\n",
    "        mats0 = tuple(sum(g[i,j]*mats[j] for j in range(4)) for i in range(4))\n",
    "        for v in mats0:\n",
    "            v.set_immutable()\n",
    "        mats1, g1 = orbit_rep_from_tree(G, tree, mats0, apply_group_elem, optimized_rep)\n",
    "        edges.append((mats, mats1))"
   ]
  },
  {
   "cell_type": "code",
   "execution_count": 13,
   "metadata": {},
   "outputs": [
    {
     "data": {
      "text/plain": [
       "57"
      ]
     },
     "execution_count": 13,
     "metadata": {},
     "output_type": "execute_result"
    }
   ],
   "source": [
    "Gamma = Graph(edges, loops=True)\n",
    "l = [cc[0] for cc in Gamma.connected_components(sort=False)]\n",
    "len(l)"
   ]
  },
  {
   "cell_type": "markdown",
   "metadata": {},
   "source": [
    "Write coordinates of representative tuples to a file."
   ]
  },
  {
   "cell_type": "code",
   "execution_count": 14,
   "metadata": {},
   "outputs": [],
   "source": [
    "with open(\"genus6-flats.txt\", \"w\") as f:\n",
    "    f.write(str(l))"
   ]
  }
 ],
 "metadata": {
  "kernelspec": {
   "display_name": "SageMath 9.7.beta8",
   "language": "sage",
   "name": "sagemath"
  },
  "language_info": {
   "codemirror_mode": {
    "name": "ipython",
    "version": 3
   },
   "file_extension": ".py",
   "mimetype": "text/x-python",
   "name": "python",
   "nbconvert_exporter": "python",
   "pygments_lexer": "ipython3",
   "version": "3.10.4"
  }
 },
 "nbformat": 4,
 "nbformat_minor": 4
}
