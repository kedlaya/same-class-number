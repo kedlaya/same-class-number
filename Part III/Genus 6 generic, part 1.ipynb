{
 "cells": [
  {
   "cell_type": "markdown",
   "metadata": {},
   "source": [
    "This notebook is associated with the paper \"The relative class number one problem for function fields, III\" by K.S. Kedlaya. It runs in SageMath (tested using version 9.5rc3) and depends on Magma (tested using version\n",
    "2.26-9).\n",
    "\n",
    "In this notebook, we make an intermediate calculation towards finding generic curves of genus 6 which are candidates for the curve $C$ in a purely geometric quadratic extension $F'/F$ of relative class number 1.  Allow 10 minutes for completion."
   ]
  },
  {
   "cell_type": "code",
   "execution_count": 1,
   "metadata": {},
   "outputs": [],
   "source": [
    "load(\"preamble.sage\")"
   ]
  },
  {
   "cell_type": "markdown",
   "metadata": {},
   "source": [
    "Construct the set of $\\mathbb{F}_2$-rational points of $G(2,5)$, represented as $2 \\times 5$ echelon matrices,\n",
    "together with their Plucker coordinates."
   ]
  },
  {
   "cell_type": "code",
   "execution_count": 2,
   "metadata": {},
   "outputs": [],
   "source": [
    "F = GF(2)"
   ]
  },
  {
   "cell_type": "code",
   "execution_count": 3,
   "metadata": {},
   "outputs": [
    {
     "data": {
      "text/plain": [
       "155"
      ]
     },
     "execution_count": 3,
     "metadata": {},
     "output_type": "execute_result"
    }
   ],
   "source": [
    "coords = {}\n",
    "for V in VectorSpace(F, 5).subspaces(2):\n",
    "    M = V.matrix()\n",
    "    M.set_immutable()\n",
    "    coords[M] = vector(M.minors(2))\n",
    "S = list(coords.keys())\n",
    "len(S)"
   ]
  },
  {
   "cell_type": "markdown",
   "metadata": {},
   "source": [
    "Construct the Plucker relations defining $G(2,5)$ inside $\\mathbb{P}^9$, then verify that these relations vanish on the points we have constructed."
   ]
  },
  {
   "cell_type": "code",
   "execution_count": 4,
   "metadata": {},
   "outputs": [],
   "source": [
    "P.<x01,x02,x03,x04,x12,x13,x14,x23,x24,x34> = PolynomialRing(F, 10)\n",
    "quads = (x01*x23 + x02*x13 + x03*x12,\n",
    "         x01*x24 + x02*x14 + x04*x12,\n",
    "         x01*x34 + x03*x14 + x04*x13,\n",
    "         x02*x34 + x03*x24 + x04*x23,\n",
    "         x12*x34 + x13*x24 + x14*x23)\n",
    "assert all(f(*v) == 0 for f in quads for v in coords.values())"
   ]
  },
  {
   "cell_type": "markdown",
   "metadata": {},
   "source": [
    "Construct an orbit lookup tree of depth 6. We forbid 5-tuples whose linear span is only 3-dimensional, as these can only occur for plane quintics."
   ]
  },
  {
   "cell_type": "code",
   "execution_count": 5,
   "metadata": {},
   "outputs": [],
   "source": [
    "def vecs_to_gens(vecs):\n",
    "    return tuple(sum(P.gens()[i] * v[i] for i in range(10)) for v in vecs)"
   ]
  },
  {
   "cell_type": "code",
   "execution_count": 6,
   "metadata": {},
   "outputs": [],
   "source": [
    "def linear_section(coords):\n",
    "    V = Matrix(coords).right_kernel()\n",
    "    tmp2 = vecs_to_gens(V.gens()) + quads\n",
    "    return P.ideal(tmp2)"
   ]
  },
  {
   "cell_type": "code",
   "execution_count": 7,
   "metadata": {},
   "outputs": [],
   "source": [
    "def apply_group_elem(g, M):\n",
    "    M1 = (M*~g).echelon_form()\n",
    "    M1.set_immutable()\n",
    "    return M1"
   ]
  },
  {
   "cell_type": "code",
   "execution_count": 8,
   "metadata": {},
   "outputs": [],
   "source": [
    "def stabilizer(M):\n",
    "    # First construct the stabilizer of the span of e1, e2.\n",
    "    l0 = [block_matrix(2,2,[g.matrix(),0,0,identity_matrix(3)], subdivide=False) for g in GL(2, F).gens()] + \\\n",
    "        [block_matrix(2,2,[identity_matrix(2),0,0,g.matrix()], subdivide=False) for g in GL(3, F).gens()]\n",
    "    l0.append(identity_matrix(5))\n",
    "    l0[-1][3,0] = 1\n",
    "    # Construct a matrix to conjugate these generators.\n",
    "    l = M.rows()\n",
    "    for i in range(5):\n",
    "        if i not in M.pivots():\n",
    "            l.append(vector(1 if j==i else 0 for j in range(5)))\n",
    "    M1 = Matrix(F, l)\n",
    "    G = GL(5, F).subgroup([~M1*g*M1 for g in l0])\n",
    "    assert all((M*g.matrix()).echelon_form() == M for g in G.gens())\n",
    "    return G"
   ]
  },
  {
   "cell_type": "code",
   "execution_count": 9,
   "metadata": {},
   "outputs": [],
   "source": [
    "def optimized_rep(g):\n",
    "    return g.matrix()"
   ]
  },
  {
   "cell_type": "code",
   "execution_count": 10,
   "metadata": {},
   "outputs": [],
   "source": [
    "def forbid(mats, easy=False, coords=coords):\n",
    "    tmp = [coords[M] for M in mats]\n",
    "    if len(mats) == 5 and Matrix(tmp).rank() <= 3:\n",
    "        return True\n",
    "    J = linear_section(tmp)\n",
    "    if J.dimension() > 3:\n",
    "        return True\n",
    "    if easy:\n",
    "        return False\n",
    "    return False"
   ]
  },
  {
   "cell_type": "code",
   "execution_count": 11,
   "metadata": {},
   "outputs": [],
   "source": [
    "methods = {'apply_group_elem': apply_group_elem,\n",
    "           'stabilizer': vec_stab,\n",
    "           'optimized_rep': optimized_rep,\n",
    "           'forbid': forbid}"
   ]
  },
  {
   "cell_type": "code",
   "execution_count": 12,
   "metadata": {},
   "outputs": [],
   "source": [
    "G = GL(5, F)\n",
    "tree = build_orbit_tree(G, S, 6, methods, verbose=False)"
   ]
  },
  {
   "cell_type": "code",
   "execution_count": 13,
   "metadata": {},
   "outputs": [
    {
     "data": {
      "text/plain": [
       "[39, 235, 2201]"
      ]
     },
     "execution_count": 13,
     "metadata": {},
     "output_type": "execute_result"
    }
   ],
   "source": [
    "[len(green_nodes(tree, i)) for i in range(4,7)]"
   ]
  },
  {
   "cell_type": "markdown",
   "metadata": {},
   "source": [
    "Write coordinates of representative tuples to a file."
   ]
  },
  {
   "cell_type": "code",
   "execution_count": 14,
   "metadata": {},
   "outputs": [],
   "source": [
    "l = [[coords[M] for M in mats] for i in range(4, 7) for mats in green_nodes(tree, i)]\n",
    "with open(\"genus6-tuples.txt\", \"w\") as f:\n",
    "    f.write(str(l))"
   ]
  },
  {
   "cell_type": "code",
   "execution_count": 15,
   "metadata": {},
   "outputs": [
    {
     "name": "stdout",
     "output_type": "stream",
     "text": [
      "This stage complete!\n"
     ]
    }
   ],
   "source": [
    "print(\"This stage complete!\")"
   ]
  }
 ],
 "metadata": {
  "kernelspec": {
   "display_name": "SageMath 9.5.rc3",
   "language": "sage",
   "name": "sagemath"
  },
  "language_info": {
   "codemirror_mode": {
    "name": "ipython",
    "version": 3
   },
   "file_extension": ".py",
   "mimetype": "text/x-python",
   "name": "python",
   "nbconvert_exporter": "python",
   "pygments_lexer": "ipython3",
   "version": "3.9.7"
  }
 },
 "nbformat": 4,
 "nbformat_minor": 4
}
