{
 "cells": [
  {
   "cell_type": "markdown",
   "metadata": {},
   "source": [
    "This notebook is associated with the paper \"The relative class number one problem for function fields, III\" by K.S. Kedlaya. It runs in SageMath (tested using version 9.4) and depends on Magma (tested using version\n",
    "2.25-5).\n",
    "\n",
    "In this notebook, we identify curves of genus 7 with an irrational $g^2_6$ which are candidates for the curve $C$ in a purely geometric quadratic extension $F'/F$ of relative class number 1. Allow 1 hour for completion."
   ]
  },
  {
   "cell_type": "code",
   "execution_count": 1,
   "metadata": {},
   "outputs": [],
   "source": [
    "load(\"preamble.sage\")"
   ]
  },
  {
   "cell_type": "markdown",
   "metadata": {},
   "source": [
    "Construct the sets of $\\mathbb{F}_{2^i}$-rational points of the quadratic twist $X$ of $\\mathbb{P}^2 \\times \\mathbb{P}^2$ for $i=1,2,3$."
   ]
  },
  {
   "cell_type": "code",
   "execution_count": 2,
   "metadata": {},
   "outputs": [],
   "source": [
    "F = GF(2)\n",
    "P.<x0,x1,x2,y0,y1,y2> = PolynomialRing(F, 6)"
   ]
  },
  {
   "cell_type": "code",
   "execution_count": 3,
   "metadata": {},
   "outputs": [
    {
     "data": {
      "text/plain": [
       "21"
      ]
     },
     "execution_count": 3,
     "metadata": {},
     "output_type": "execute_result"
    }
   ],
   "source": [
    "F4.<a> = GF(4)\n",
    "S14 = [vector(t) for t in ProjectiveSpace(F4, 2).rational_points()]\n",
    "S = [(x, vector(F4, tuple(i.conjugate() for i in x))) for x in S14]\n",
    "for v in S:\n",
    "    for x in v:\n",
    "        x.set_immutable()\n",
    "len(S)"
   ]
  },
  {
   "cell_type": "code",
   "execution_count": 4,
   "metadata": {},
   "outputs": [
    {
     "data": {
      "text/plain": [
       "441"
      ]
     },
     "execution_count": 4,
     "metadata": {},
     "output_type": "execute_result"
    }
   ],
   "source": [
    "F16.<a2> = F4.extension(2)\n",
    "S4 = list(itertools.product(S14, repeat=2))\n",
    "len(S4)"
   ]
  },
  {
   "cell_type": "code",
   "execution_count": 5,
   "metadata": {},
   "outputs": [
    {
     "data": {
      "text/plain": [
       "4161"
      ]
     },
     "execution_count": 5,
     "metadata": {},
     "output_type": "execute_result"
    }
   ],
   "source": [
    "F64.<a3> = F4.extension(3)\n",
    "S164 = [vector(t) for t in ProjectiveSpace(F64, 2).rational_points()]\n",
    "S8 = [(x, vector(F64, tuple(i.conjugate() for i in x))) for x in S164]\n",
    "len(S8)"
   ]
  },
  {
   "cell_type": "markdown",
   "metadata": {},
   "source": [
    "Construct the group $\\mathrm{GL}(3,\\mathbb{F}_4)$, presented as a subgroup of $\\mathrm{GL}(6, \\mathbb{F}_4)$."
   ]
  },
  {
   "cell_type": "code",
   "execution_count": 6,
   "metadata": {},
   "outputs": [
    {
     "data": {
      "text/plain": [
       "181440"
      ]
     },
     "execution_count": 6,
     "metadata": {},
     "output_type": "execute_result"
    }
   ],
   "source": [
    "l0 = [block_matrix(2,2,[g.matrix(), 0, 0, g.matrix().conjugate()], subdivide=False) for g in GL(3,F4).gens()]\n",
    "G0 = GL(6,F4).subgroup(l0)\n",
    "G0.order()"
   ]
  },
  {
   "cell_type": "markdown",
   "metadata": {},
   "source": [
    "Use an orbit lookup tree to find $\\mathrm{GL}(3,\\mathbb{F}_4)$-orbit representatives for 7-tuples of $\\mathbb{F}_2$-points in $X$."
   ]
  },
  {
   "cell_type": "code",
   "execution_count": 7,
   "metadata": {},
   "outputs": [],
   "source": [
    "def apply_group_elem(g, x, S=S, a=a):\n",
    "    g1 = g.submatrix(nrows=3,ncols=3)\n",
    "    g2 = g.submatrix(row=3,col=3)\n",
    "    v1 = g1*x[0]\n",
    "    v2 = g2*x[1]\n",
    "    for i in range(3):\n",
    "        if (v1, v2) in S:\n",
    "            v1.set_immutable()\n",
    "            v2.set_immutable()\n",
    "            return (v1, v2)\n",
    "        v1 = a*v1\n",
    "        v2 = (a+1)*v2\n",
    "    raise ValueError"
   ]
  },
  {
   "cell_type": "code",
   "execution_count": 8,
   "metadata": {},
   "outputs": [],
   "source": [
    "amat = diagonal_matrix(F4, [a,a,a,a+1,a+1,a+1])"
   ]
  },
  {
   "cell_type": "code",
   "execution_count": 9,
   "metadata": {},
   "outputs": [],
   "source": [
    "def stabilizer(x):\n",
    "    G1 = vec_stab(Matrix(F4, x[0]), transpose=True)\n",
    "    l0 = [block_matrix(2,2,[g.matrix(),0,0,g.matrix().conjugate()], subdivide=False) for g in G1.gens()]\n",
    "    return GL(6, F4).subgroup(l0)"
   ]
  },
  {
   "cell_type": "code",
   "execution_count": 10,
   "metadata": {},
   "outputs": [],
   "source": [
    "def optimized_rep(g):\n",
    "    return g.matrix()"
   ]
  },
  {
   "cell_type": "code",
   "execution_count": 11,
   "metadata": {},
   "outputs": [],
   "source": [
    "methods = {'apply_group_elem': apply_group_elem,\n",
    "           'stabilizer': stabilizer,\n",
    "           'optimized_rep': optimized_rep}\n",
    "tree = build_orbit_tree(G0, S, 7, methods, verbose=False)"
   ]
  },
  {
   "cell_type": "code",
   "execution_count": 12,
   "metadata": {},
   "outputs": [
    {
     "data": {
      "text/plain": [
       "(8, 10)"
      ]
     },
     "execution_count": 12,
     "metadata": {},
     "output_type": "execute_result"
    }
   ],
   "source": [
    "nodes = {6: green_nodes(tree, 6), 7: green_nodes(tree, 7)}\n",
    "len(nodes[6]), len(nodes[7])"
   ]
  },
  {
   "cell_type": "markdown",
   "metadata": {},
   "source": [
    "For each orbit representative, for each 2-dimensional space of $(1,1)$-hypersurfaces passing through those points, solve for $(2,2)$-hypersurfaces passing through exactly those $\\mathbb{F}_2$-rational points, and impose the desired point counts over $\\mathbb{F}_4$ and $\\mathbb{F}_8$."
   ]
  },
  {
   "cell_type": "code",
   "execution_count": 13,
   "metadata": {},
   "outputs": [
    {
     "data": {
      "text/plain": [
       "36"
      ]
     },
     "execution_count": 13,
     "metadata": {},
     "output_type": "execute_result"
    }
   ],
   "source": [
    "monos11 = [x0*y0, x1*y1, x2*y2,\n",
    "           x1*y0 + x0*y1, a*x1*y0 + (a+1)*x0*y1,\n",
    "           x2*y0 + x0*y2, a*x2*y0 + (a+1)*x0*y2,\n",
    "           x1*y2 + x2*y1, a*x1*y2 + (a+1)*x2*y1]\n",
    "monos2a = [prod(i) for i in itertools.product([prod(j) for j in itertools.combinations_with_replacement([x0,x1,x2],2)], \n",
    "                                              [prod(j) for j in itertools.combinations_with_replacement([y0,y1,y2],2)])]\n",
    "monos2b = [prod(t) for t in itertools.product(monos11, repeat=2)]\n",
    "tmp = [vector(F4, (x.coefficient(mu.exponents()[0]) for mu in monos2a)) for x in monos2b]\n",
    "tmp2 = []\n",
    "monos2 = []\n",
    "for i in range(len(monos2b)):\n",
    "    if Matrix(F4, tmp2 + [tmp[i]]).rank() > Matrix(F4, tmp2).rank():\n",
    "        tmp2.append(tmp[i])\n",
    "        monos2.append(monos2b[i])\n",
    "len(monos2)"
   ]
  },
  {
   "cell_type": "code",
   "execution_count": 14,
   "metadata": {},
   "outputs": [],
   "source": [
    "coords1 = {x: vector(F, (mu(*x[0], *x[1]) for mu in monos11)) for x in S}\n",
    "coords2 = {x: vector(F, (mu(*x[0], *x[1]) for mu in monos2)) for x in S}"
   ]
  },
  {
   "cell_type": "code",
   "execution_count": 15,
   "metadata": {},
   "outputs": [],
   "source": [
    "def redundancy(gens, F=F, F4=F4, monos11=monos11, monos2a=monos2a, tmp2=tmp2):\n",
    "    ans = []\n",
    "    for m in monos11:\n",
    "        for v in gens:\n",
    "            tmp3 = vector(F4, ((v*m).coefficient(mu.exponents()[0]) for mu in monos2a))\n",
    "            w = Matrix(tmp2 + [tmp3]).left_kernel().gens()[0][:-1]\n",
    "            ans.append(vector(F, (w[i] for i in range(len(w)))))\n",
    "    return ans"
   ]
  },
  {
   "cell_type": "code",
   "execution_count": null,
   "metadata": {},
   "outputs": [],
   "source": [
    "curves = defaultdict(list)\n",
    "for s1 in [6, 7]:\n",
    "    for vecs in nodes[s1]:\n",
    "        V = Matrix([coords1[x] for x in vecs]).right_kernel()\n",
    "        for W in V.subspaces(2):\n",
    "            (v1, v2) = W.basis()\n",
    "            gens1 = sum(v1[i]*monos11[i] for i in range(9))\n",
    "            gens2 = sum(v2[i]*monos11[i] for i in range(9))\n",
    "            pts = [x for x in S if gens1(*x[0], *x[1]) == 0 and gens2(*x[0], *x[1]) == 0]\n",
    "            perp = Matrix([coords2[x] for x in pts])\n",
    "            target = vector(F, (0 if x in vecs else 1 for x in pts))\n",
    "            pts2 = 0\n",
    "            pts3 = 0\n",
    "            for w in solve_right_iterator(perp, target, redundancy, [gens1, gens2]):\n",
    "                gens3 = sum(w[i]*monos2[i] for i in range(36))\n",
    "                if pts2 == 0:\n",
    "                    pts2 = [x for x in S4 if gens1(*x[0], *x[1]) == 0 and gens2(*x[0], *x[1]) == 0]\n",
    "                s2 = sum(1 for x in pts2 if gens3(*x[0], *x[1]) == 0)\n",
    "                if (s1 == 6 and s2 == 18) or (s1 == 7 and s2 == 15):\n",
    "                    if pts3 == 0:\n",
    "                        pts3 = [x for x in S8 if gens1(*x[0], *x[1]) == 0 and gens2(*x[0], *x[1]) == 0]\n",
    "                    s3 = sum(1 for x in pts3 if gens3(*x[0], *x[1]) == 0)\n",
    "                    if (s1 == 6 and s3 == 12) or (s1 == 7 and s3 == 7):\n",
    "                        curves[(s1,s2,s3)].append([gens1, gens2, gens3])"
   ]
  },
  {
   "cell_type": "code",
   "execution_count": null,
   "metadata": {},
   "outputs": [],
   "source": [
    "[(s, len(curves[s])) for s in curves]"
   ]
  },
  {
   "cell_type": "markdown",
   "metadata": {},
   "source": [
    "Enforce the desired point count conditions over $\\mathbb{F}_{2^i}$ for $i=4,5$, yielding no results."
   ]
  },
  {
   "cell_type": "code",
   "execution_count": null,
   "metadata": {},
   "outputs": [],
   "source": [
    "count_gens = {}\n",
    "for n in range(1, 6):\n",
    "    if n%2 == 1:\n",
    "        count_gens[n] = [x0^(2^n)+y0, x1^(2^n)+y1, x2^(2^n)+y2, y0^(2^n)+x0, y1^(2^n)+x1, y2^(2^n)+x2]\n",
    "    else:\n",
    "        count_gens[n] = [x^(2^n)+x for x in P.gens()]\n",
    "\n",
    "def count_by_ideal(gens, n):\n",
    "    J = P.change_ring(F4).ideal(gens + count_gens[n])\n",
    "    if n%2 == 1:\n",
    "        return (J.vector_space_dimension() - 1) // (2^(2*n)-1)\n",
    "    else:\n",
    "        return (J.vector_space_dimension() - 2^(3*n+1) + 1) // (2^n-1)^2"
   ]
  },
  {
   "cell_type": "code",
   "execution_count": null,
   "metadata": {},
   "outputs": [],
   "source": [
    "for n in range(4, 6):\n",
    "    tmp = [t[:n] for t in targets7]\n",
    "    tmp2 = [s for s in curves if len(s) == n-1]    \n",
    "    for s in tmp2:\n",
    "        for gens in curves[s]:\n",
    "            i = count_by_ideal(gens, n)\n",
    "            s1 = s + (i,)\n",
    "            if s1 in tmp:\n",
    "                curves[s1].append(gens)\n",
    "    print([(s, len(curves[s])) for s in curves if len(s) == n])"
   ]
  },
  {
   "cell_type": "code",
   "execution_count": null,
   "metadata": {},
   "outputs": [],
   "source": [
    "assert all(len(s) < 5 for s in curves)"
   ]
  },
  {
   "cell_type": "markdown",
   "metadata": {},
   "source": [
    "Close out this case."
   ]
  },
  {
   "cell_type": "code",
   "execution_count": null,
   "metadata": {},
   "outputs": [],
   "source": [
    "closeout()"
   ]
  }
 ],
 "metadata": {
  "kernelspec": {
   "display_name": "SageMath 9.5.beta9",
   "language": "sage",
   "name": "sagemath"
  },
  "language_info": {
   "codemirror_mode": {
    "name": "ipython",
    "version": 3
   },
   "file_extension": ".py",
   "mimetype": "text/x-python",
   "name": "python",
   "nbconvert_exporter": "python",
   "pygments_lexer": "ipython3",
   "version": "3.9.9"
  }
 },
 "nbformat": 4,
 "nbformat_minor": 4
}
