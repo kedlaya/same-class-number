{
 "cells": [
  {
   "cell_type": "markdown",
   "metadata": {},
   "source": [
    "This notebook is associated with the paper \"The relative class number one problem for function fields, III\" by K.S. Kedlaya. It runs in SageMath (tested using version 9.4) and depends on Magma (tested using version\n",
    "2.25-5).\n",
    "\n",
    "In this notebook, we identify curves of genus 7 with an irrational $g^2_6$ which are candidates for the curve $C$ in a purely geometric quadratic extension $F'/F$ of relative class number 1. Allow 1 hour for completion."
   ]
  },
  {
   "cell_type": "code",
   "execution_count": 1,
   "metadata": {},
   "outputs": [],
   "source": [
    "load(\"preamble.sage\")"
   ]
  },
  {
   "cell_type": "markdown",
   "metadata": {},
   "source": [
    "Construct the set of $\\mathbb{F}_2$-rational points of the quadratic twist $X$ of $\\mathbb{P}^2 \\times \\mathbb{P}^2$. These can be identified with the $\\mathbb{F}_4$-points of $\\mathbb{P}^2$."
   ]
  },
  {
   "cell_type": "code",
   "execution_count": 2,
   "metadata": {},
   "outputs": [],
   "source": [
    "F = GF(2)\n",
    "P.<x0,x1,x2,y0,y1,y2> = PolynomialRing(F, 6)"
   ]
  },
  {
   "cell_type": "code",
   "execution_count": 3,
   "metadata": {},
   "outputs": [
    {
     "data": {
      "text/plain": [
       "21"
      ]
     },
     "execution_count": 3,
     "metadata": {},
     "output_type": "execute_result"
    }
   ],
   "source": [
    "F4.<a> = GF(4)\n",
    "S14 = [vector(F4,t) for t in itertools.product(F4, repeat=3) if not all(i==0 for i in t) and [i for i in t if i != 0][0] == 1]\n",
    "S = [(x, vector(F4, tuple(i.conjugate() for i in x))) for x in S14]\n",
    "for v in S:\n",
    "    for x in v:\n",
    "        x.set_immutable()\n",
    "len(S)"
   ]
  },
  {
   "cell_type": "code",
   "execution_count": 4,
   "metadata": {},
   "outputs": [
    {
     "data": {
      "text/plain": [
       "441"
      ]
     },
     "execution_count": 4,
     "metadata": {},
     "output_type": "execute_result"
    }
   ],
   "source": [
    "F16.<a2> = F4.extension(2)\n",
    "S4 = list(itertools.product(S14, repeat=2))\n",
    "for v in S4:\n",
    "    for x in v:\n",
    "        x.set_immutable()\n",
    "len(S4)"
   ]
  },
  {
   "cell_type": "code",
   "execution_count": 5,
   "metadata": {},
   "outputs": [
    {
     "data": {
      "text/plain": [
       "4161"
      ]
     },
     "execution_count": 5,
     "metadata": {},
     "output_type": "execute_result"
    }
   ],
   "source": [
    "F64.<a3> = F4.extension(3)\n",
    "S164 = [vector(F64,t) for t in itertools.product(F64, repeat=3) if not all(i==0 for i in t) and [i for i in t if i != 0][0] == 1]\n",
    "S8 = [(x, vector(F64, tuple(i.conjugate() for i in x))) for x in S164]\n",
    "for v in S8:\n",
    "    for x in v:\n",
    "        x.set_immutable()\n",
    "len(S8)"
   ]
  },
  {
   "cell_type": "markdown",
   "metadata": {},
   "source": [
    "Construct the group $\\mathrm{GL}(3,\\mathbb{F}_4)$, presented as a subgroup of $\\mathrm{GL}(6, \\mathbb{F}_4)$."
   ]
  },
  {
   "cell_type": "code",
   "execution_count": 6,
   "metadata": {},
   "outputs": [
    {
     "data": {
      "text/plain": [
       "181440"
      ]
     },
     "execution_count": 6,
     "metadata": {},
     "output_type": "execute_result"
    }
   ],
   "source": [
    "l0 = [block_matrix(2,2,[g.matrix(), 0, 0, g.matrix().conjugate()], subdivide=False) for g in GL(3,F4).gens()]\n",
    "G0 = GL(6,F4).subgroup(l0)\n",
    "G0.order()"
   ]
  },
  {
   "cell_type": "markdown",
   "metadata": {},
   "source": [
    "Use an orbit lookup tree to find $\\mathrm{GL}(3,\\mathbb{F}_4)$-orbit representatives for 7-tuples of $\\mathbb{F}_2$-points in $X$."
   ]
  },
  {
   "cell_type": "code",
   "execution_count": 7,
   "metadata": {},
   "outputs": [],
   "source": [
    "def apply_group_elem(g, x, S=S, a=a):\n",
    "    g1 = g.submatrix(nrows=3,ncols=3)\n",
    "    g2 = g.submatrix(row=3,col=3)\n",
    "    v1 = g1*x[0]\n",
    "    v2 = g2*x[1]\n",
    "    for i in range(3):\n",
    "        if (v1, v2) in S:\n",
    "            v1.set_immutable()\n",
    "            v2.set_immutable()\n",
    "            return (v1, v2)\n",
    "        v1 = a*v1\n",
    "        v2 = (a+1)*v2\n",
    "    raise ValueError"
   ]
  },
  {
   "cell_type": "code",
   "execution_count": 8,
   "metadata": {},
   "outputs": [],
   "source": [
    "amat = diagonal_matrix(F4, [a,a,a,a+1,a+1,a+1])"
   ]
  },
  {
   "cell_type": "code",
   "execution_count": 9,
   "metadata": {},
   "outputs": [],
   "source": [
    "def stabilizer(x):\n",
    "    G1 = vec_stab(Matrix(F4, x[0]), transpose=True)\n",
    "    l0 = [block_matrix(2,2,[g.matrix(),0,0,g.matrix().conjugate()], subdivide=False) for g in G1.gens()]\n",
    "    return GL(6, F4).subgroup(l0)"
   ]
  },
  {
   "cell_type": "code",
   "execution_count": 10,
   "metadata": {},
   "outputs": [],
   "source": [
    "def optimized_rep(g):\n",
    "    return g.matrix()"
   ]
  },
  {
   "cell_type": "code",
   "execution_count": 11,
   "metadata": {},
   "outputs": [],
   "source": [
    "methods = {'apply_group_elem': apply_group_elem,\n",
    "           'stabilizer': stabilizer,\n",
    "           'optimized_rep': optimized_rep}\n",
    "tree = build_orbit_tree(G0, S, 7, methods, verbose=False)"
   ]
  },
  {
   "cell_type": "code",
   "execution_count": 12,
   "metadata": {},
   "outputs": [
    {
     "data": {
      "text/plain": [
       "8"
      ]
     },
     "execution_count": 12,
     "metadata": {},
     "output_type": "execute_result"
    }
   ],
   "source": [
    "l6 = green_nodes(tree, 6)\n",
    "len(l6)"
   ]
  },
  {
   "cell_type": "code",
   "execution_count": 13,
   "metadata": {},
   "outputs": [
    {
     "data": {
      "text/plain": [
       "10"
      ]
     },
     "execution_count": 13,
     "metadata": {},
     "output_type": "execute_result"
    }
   ],
   "source": [
    "l7 = green_nodes(tree, 7)\n",
    "len(l7)"
   ]
  },
  {
   "cell_type": "markdown",
   "metadata": {},
   "source": [
    "For each orbit representative, for each 2-dimensional space of $(1,1)$-hypersurfaces passing through those points, solve for $(2,2)$-hypersurfaces passing through exactly those $\\mathbb{F}_2$-rational points, and impose the desired point counts over $\\mathbb{F}_4$ and $\\mathbb{F}_8$."
   ]
  },
  {
   "cell_type": "code",
   "execution_count": 14,
   "metadata": {},
   "outputs": [
    {
     "data": {
      "text/plain": [
       "36"
      ]
     },
     "execution_count": 14,
     "metadata": {},
     "output_type": "execute_result"
    }
   ],
   "source": [
    "monos11 = [x0*y0, x1*y1, x2*y2,\n",
    "           x1*y0 + x0*y1, a*x1*y0 + (a+1)*x0*y1,\n",
    "           x2*y0 + x0*y2, a*x2*y0 + (a+1)*x0*y2,\n",
    "           x1*y2 + x2*y1, a*x1*y2 + (a+1)*x2*y1]\n",
    "monos2a = [prod(i) for i in itertools.product([prod(j) for j in itertools.combinations_with_replacement([x0,x1,x2],2)], \n",
    "                                              [prod(j) for j in itertools.combinations_with_replacement([y0,y1,y2],2)])]\n",
    "monos2b = [prod(t) for t in itertools.product(monos11, repeat=2)]\n",
    "tmp = [vector(F4, (x.coefficient(mu.exponents()[0]) for mu in monos2a)) for x in monos2b]\n",
    "tmp2 = []\n",
    "monos2 = []\n",
    "for i in range(len(monos2b)):\n",
    "    if Matrix(F4, tmp2 + [tmp[i]]).rank() > Matrix(F4, tmp2).rank():\n",
    "        tmp2.append(tmp[i])\n",
    "        monos2.append(monos2b[i])\n",
    "len(monos2)"
   ]
  },
  {
   "cell_type": "code",
   "execution_count": 15,
   "metadata": {},
   "outputs": [],
   "source": [
    "coords1 = {x: vector(F, (mu(*x[0], *x[1]) for mu in monos11)) for x in S}\n",
    "coords2 = {x: vector(F, (mu(*x[0], *x[1]) for mu in monos2)) for x in S}"
   ]
  },
  {
   "cell_type": "code",
   "execution_count": 16,
   "metadata": {},
   "outputs": [],
   "source": [
    "def redundancy(gens, F=F, F4=F4, monos11=monos11, monos2a=monos2a, tmp2=tmp2):\n",
    "    ans = []\n",
    "    for m in monos11:\n",
    "        for v in gens:\n",
    "            tmp3 = vector(F4, ((v*m).coefficient(mu.exponents()[0]) for mu in monos2a))\n",
    "            w = Matrix(tmp2 + [tmp3]).left_kernel().gens()[0][:-1]\n",
    "            ans.append(vector(F, (w[i] for i in range(len(w)))))\n",
    "    return ans"
   ]
  },
  {
   "cell_type": "code",
   "execution_count": 17,
   "metadata": {},
   "outputs": [],
   "source": [
    "l2a = []\n",
    "l2b = []\n",
    "for vecs in l6+l7:\n",
    "#    print(len(l2a), len(l2b))\n",
    "    V = Matrix([coords1[x] for x in vecs]).right_kernel()\n",
    "    for W in V.subspaces(2):\n",
    "        (v1, v2) = W.basis()\n",
    "        pts = [x for x in S if coords1[x]*v1 == 0 and coords1[x]*v2 == 0]\n",
    "        perp = Matrix([coords2[x] for x in pts])\n",
    "        target = vector(F, (0 if x in vecs else 1 for x in pts))\n",
    "        gens1 = sum(v1[i]*monos11[i] for i in range(9))\n",
    "        gens2 = sum(v2[i]*monos11[i] for i in range(9))\n",
    "        pts2 = 0\n",
    "        pts3 = 0\n",
    "        for w in solve_right_iterator(perp, target, redundancy, [gens1, gens2]):\n",
    "            gens3 = sum(w[i]*monos2[i] for i in range(36))\n",
    "            if pts2 == 0:\n",
    "                pts2 = [x for x in S4 if x not in S and gens1(*x[0], *x[1]) == 0 and gens2(*x[0], *x[1]) == 0]\n",
    "            s = sum(1 for x in pts2 if gens3(*x[0], *x[1]) == 0)\n",
    "            if (vecs in l6 and s != 12) or (vecs in l7 and s != 8):\n",
    "                continue\n",
    "            if pts3 == 0:\n",
    "                pts3 = [x for x in S8 if x not in S and gens1(*x[0], *x[1]) == 0 and gens2(*x[0], *x[1]) == 0]\n",
    "            s = sum(1 for x in pts3 if gens3(*x[0], *x[1]) == 0)\n",
    "            if (vecs in l6 and s != 6) or (vecs in l7 and s != 0):\n",
    "                continue\n",
    "            if vecs in l6:\n",
    "                l2a.append((v1, v2, w))\n",
    "            elif vecs in l7:\n",
    "                l2b.append((v1, v2, w))"
   ]
  },
  {
   "cell_type": "code",
   "execution_count": 18,
   "metadata": {},
   "outputs": [
    {
     "data": {
      "text/plain": [
       "(886, 134)"
      ]
     },
     "execution_count": 18,
     "metadata": {},
     "output_type": "execute_result"
    }
   ],
   "source": [
    "len(l2a), len(l2b)"
   ]
  },
  {
   "cell_type": "markdown",
   "metadata": {},
   "source": [
    "Impose the desired point count conditions over $\\mathbb{F}_{2^i}$ for $i=4,5$, yielding no results."
   ]
  },
  {
   "cell_type": "code",
   "execution_count": 19,
   "metadata": {},
   "outputs": [],
   "source": [
    "def vecs_to_gens(vecs):\n",
    "    return [sum(vecs[0][i]*monos11[i] for i in range(9)),\n",
    "            sum(vecs[1][i]*monos11[i] for i in range(9)),\n",
    "            sum(vecs[2][i]*monos2[i] for i in range(36))]"
   ]
  },
  {
   "cell_type": "code",
   "execution_count": 20,
   "metadata": {},
   "outputs": [],
   "source": [
    "count_gens = {}\n",
    "for n in range(1, 6):\n",
    "    if n%2 == 1:\n",
    "        count_gens[n] = [x0^(2^n)+y0, x1^(2^n)+y1, x2^(2^n)+y2, y0^(2^n)+x0, y1^(2^n)+x1, y2^(2^n)+x2]\n",
    "    else:\n",
    "        count_gens[n] = [x^(2^n)+x for x in P.gens()]\n",
    "\n",
    "def count_by_ideal(vecs, n):\n",
    "    J = P.change_ring(F4).ideal(vecs_to_gens(vecs) + count_gens[n])\n",
    "    if n%2 == 1:\n",
    "        return (J.vector_space_dimension() - 1) // (2^(2*n)-1)\n",
    "    else:\n",
    "        return (J.vector_space_dimension() - 2^(3*n+1) + 1) // (2^n-1)^2"
   ]
  },
  {
   "cell_type": "code",
   "execution_count": 21,
   "metadata": {},
   "outputs": [
    {
     "data": {
      "text/plain": [
       "1"
      ]
     },
     "execution_count": 21,
     "metadata": {},
     "output_type": "execute_result"
    }
   ],
   "source": [
    "l4a = [vecs for vecs in l2a if count_by_ideal(vecs, 4) == 18]\n",
    "len(l4a)"
   ]
  },
  {
   "cell_type": "code",
   "execution_count": 22,
   "metadata": {},
   "outputs": [
    {
     "data": {
      "text/plain": [
       "12"
      ]
     },
     "execution_count": 22,
     "metadata": {},
     "output_type": "execute_result"
    }
   ],
   "source": [
    "l4b = [vecs for vecs in l2b if count_by_ideal(vecs, 4) == 31]\n",
    "len(l4b)"
   ]
  },
  {
   "cell_type": "code",
   "execution_count": 23,
   "metadata": {},
   "outputs": [],
   "source": [
    "l5a = [vecs for vecs in l4a if count_by_ideal(vecs, 5) == 6]\n",
    "assert not l5a"
   ]
  },
  {
   "cell_type": "code",
   "execution_count": 24,
   "metadata": {},
   "outputs": [],
   "source": [
    "l5b = [vecs for vecs in l4b if count_by_ideal(vecs, 5) in [12, 22]]\n",
    "assert not l5b"
   ]
  },
  {
   "cell_type": "markdown",
   "metadata": {},
   "source": [
    "Finish up."
   ]
  },
  {
   "cell_type": "code",
   "execution_count": null,
   "metadata": {},
   "outputs": [],
   "source": [
    "closeout([], genus=7)"
   ]
  }
 ],
 "metadata": {
  "kernelspec": {
   "display_name": "SageMath 9.4",
   "language": "sage",
   "name": "sagemath"
  },
  "language_info": {
   "codemirror_mode": {
    "name": "ipython",
    "version": 3
   },
   "file_extension": ".py",
   "mimetype": "text/x-python",
   "name": "python",
   "nbconvert_exporter": "python",
   "pygments_lexer": "ipython3",
   "version": "3.9.5"
  }
 },
 "nbformat": 4,
 "nbformat_minor": 4
}
