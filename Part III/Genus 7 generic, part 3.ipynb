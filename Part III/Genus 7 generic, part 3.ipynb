{
 "cells": [
  {
   "cell_type": "markdown",
   "metadata": {},
   "source": [
    "This notebook is associated with the paper \"The relative class number one problem for function fields, III\" by K.S. Kedlaya. It runs in SageMath (tested using version 9.5) and depends on Magma (tested using version\n",
    "2.26-9).\n",
    "\n",
    "In this notebook, we complete the identification of generic curves of genus 7 with 7 $\\mathbb{F}_2$-points which are candidates for the curve $C$ in a purely geometric quadratic extension $F'/F$ of relative class number 1. Allow 20 minutes for completion."
   ]
  },
  {
   "cell_type": "code",
   "execution_count": 1,
   "metadata": {},
   "outputs": [],
   "source": [
    "load(\"preamble.sage\")"
   ]
  },
  {
   "cell_type": "markdown",
   "metadata": {},
   "source": [
    "Construct the quadratic relations cutting out the orthogonal Grassmannian $OG$."
   ]
  },
  {
   "cell_type": "code",
   "execution_count": 2,
   "metadata": {},
   "outputs": [],
   "source": [
    "F = GF(2)\n",
    "P.<x0,x12,x13,x14,x15,x23,x24,x25,x34,x35,x45,x1234,x1235,x1245,x1345,x2345> = PolynomialRing(F, 16)\n",
    "quads = [x0*x2345 + x23*x45 + x24*x35 + x25*x34,\n",
    "         x12*x1345 + x13*x1245 + x14*x1235 + x15*x1234,\n",
    "         x0*x1345 + x13*x45 + x14*x35 + x15*x34,\n",
    "         x12*x2345 + x23*x1245 + x24*x1235 + x25*x1234,\n",
    "         x0*x1245 + x12*x45 + x14*x25 + x15*x24,\n",
    "         x13*x2345 + x23*x1345 + x34*x1235 + x35*x1234,\n",
    "         x0*x1235 + x12*x35 + x13*x25 + x15*x23,\n",
    "         x14*x2345 + x24*x1345 + x34*x1245 + x45*x1234,\n",
    "         x0*x1234 + x12*x34 + x13*x24 + x14*x23,\n",
    "         x15*x2345 + x25*x1345 + x35*x1245 + x45*x1235]"
   ]
  },
  {
   "cell_type": "code",
   "execution_count": 3,
   "metadata": {},
   "outputs": [],
   "source": [
    "def linear_section(coords):\n",
    "    V = Matrix(coords).right_kernel()\n",
    "    return [sum(P.gens()[i] * v[-1-i] for i in range(16)) for v in V.gens()] + quads"
   ]
  },
  {
   "cell_type": "markdown",
   "metadata": {},
   "source": [
    "Read in data about 6-tuples of points on $OG$."
   ]
  },
  {
   "cell_type": "code",
   "execution_count": 4,
   "metadata": {},
   "outputs": [
    {
     "data": {
      "text/plain": [
       "494"
      ]
     },
     "execution_count": 4,
     "metadata": {},
     "output_type": "execute_result"
    }
   ],
   "source": [
    "with open(\"6-tuples.txt\", \"r\") as f:\n",
    "    s = f.read()\n",
    "    l = sage_eval(s)\n",
    "    l = [[vector(F, v) for v in vecs] for vecs in l]\n",
    "len(l)"
   ]
  },
  {
   "cell_type": "markdown",
   "metadata": {},
   "source": [
    "Confirm that in all 6-tuples whose linear span is not 6-dimensional, there is no 7th point of $OG$ in the linear span (which means we can start with a different 6-tuple whose linear span is 6-dimensional)."
   ]
  },
  {
   "cell_type": "code",
   "execution_count": 5,
   "metadata": {},
   "outputs": [
    {
     "data": {
      "text/plain": [
       "3"
      ]
     },
     "execution_count": 5,
     "metadata": {},
     "output_type": "execute_result"
    }
   ],
   "source": [
    "l2 = [vecs for vecs in l if Matrix(F, vecs).rank() < 6]\n",
    "len(l2)"
   ]
  },
  {
   "cell_type": "code",
   "execution_count": 6,
   "metadata": {},
   "outputs": [],
   "source": [
    "for vecs in l2:\n",
    "    gens = linear_section(vecs)\n",
    "    J = P.ideal(gens)\n",
    "    tmp = J.primary_decomposition()\n",
    "    assert len([(J2.radical().hilbert_polynomial(), J2.hilbert_polynomial()) for J2 in tmp]) <= 6"
   ]
  },
  {
   "cell_type": "markdown",
   "metadata": {},
   "source": [
    "Remove cases where the linear span is not 6-dimensional. Without loss of generality, we can always start with one of the remaining cases."
   ]
  },
  {
   "cell_type": "code",
   "execution_count": 7,
   "metadata": {},
   "outputs": [
    {
     "data": {
      "text/plain": [
       "491"
      ]
     },
     "execution_count": 7,
     "metadata": {},
     "output_type": "execute_result"
    }
   ],
   "source": [
    "l2 = [vecs for vecs in l if Matrix(F, vecs).rank() == 6]\n",
    "len(l2)"
   ]
  },
  {
   "cell_type": "code",
   "execution_count": 8,
   "metadata": {},
   "outputs": [
    {
     "data": {
      "text/plain": [
       "2295"
      ]
     },
     "execution_count": 8,
     "metadata": {},
     "output_type": "execute_result"
    }
   ],
   "source": [
    "proj = ProjectiveSpace(P)\n",
    "OG = proj.subscheme(quads)\n",
    "rp = [vector(pt) for pt in OG.rational_points()]\n",
    "len(rp)"
   ]
  },
  {
   "cell_type": "markdown",
   "metadata": {},
   "source": [
    "Identify extensions of a given 6-tuple to a 7-tuple whose linear span contains no other $\\mathbb{F}_2$-points of $OG$."
   ]
  },
  {
   "cell_type": "code",
   "execution_count": 9,
   "metadata": {},
   "outputs": [
    {
     "data": {
      "text/plain": [
       "123606"
      ]
     },
     "execution_count": 9,
     "metadata": {},
     "output_type": "execute_result"
    }
   ],
   "source": [
    "l3a = []\n",
    "for vecs in l:\n",
    "    d = defaultdict(list)\n",
    "    for pt in rp:\n",
    "        if pt not in vecs:\n",
    "            M = Matrix(F, vecs + [pt]).echelon_form()\n",
    "            M.set_immutable()\n",
    "            d[M].append(pt)\n",
    "    for M in d:\n",
    "        if len(d[M]) == 1:\n",
    "            vecs2 = vecs + d[M]\n",
    "            if Matrix(F, vecs2).rank() == 7:\n",
    "                l3a.append(linear_section(vecs2))\n",
    "len(l3a)"
   ]
  },
  {
   "cell_type": "markdown",
   "metadata": {},
   "source": [
    "Identify 6-tuples for which the linear span contains a 7th $\\mathbb{F}_2$-rational point of $OG$ *and* either:\n",
    "- the linear span is transversal to $OG$ at all 7 of the $\\mathbb{F}_2$-rational points; or\n",
    "- the highest order of tangency among $\\mathbb{F}_2$-rational points occurs for the point not listed in the original 6-tuple.\n"
   ]
  },
  {
   "cell_type": "code",
   "execution_count": 10,
   "metadata": {},
   "outputs": [
    {
     "data": {
      "text/plain": [
       "(2, 42)"
      ]
     },
     "execution_count": 10,
     "metadata": {},
     "output_type": "execute_result"
    }
   ],
   "source": [
    "l2a = []\n",
    "l2b = []\n",
    "for vecs in l:\n",
    "    gens = linear_section(vecs)\n",
    "    J = P.ideal(gens)\n",
    "    if J.dimension() > 1:\n",
    "        continue\n",
    "    tmp = J.primary_decomposition()\n",
    "    tmp2 = [(J2.radical().hilbert_polynomial(), J2.hilbert_polynomial()) for J2 in tmp]\n",
    "    if sum(1 for (a,b) in tmp2 if a==1) >= 7:\n",
    "        m = max(b for (a,b) in tmp2 if a==1)\n",
    "        if m == 1:\n",
    "            l2a.append(vecs)\n",
    "        else:\n",
    "            tmp3 = [i for i in range(len(tmp)) if tmp2[i][0] == 1]\n",
    "            tmp3 = [i for i in tmp3 if all(tmp[i].radical() != P.ideal(linear_section([v])) for v in vecs)]\n",
    "            assert len(tmp3) == 1\n",
    "            if tmp2[tmp3[0]][1] == m:\n",
    "                l2b.append(vecs)\n",
    "len(l2a), len(l2b)"
   ]
  },
  {
   "cell_type": "markdown",
   "metadata": {},
   "source": [
    "Compute 7-dimensional extensions of the 6-dimensional linear spans, then enforce the condition that $\\#C(\\mathbb{F}_2) = 7$."
   ]
  },
  {
   "cell_type": "code",
   "execution_count": 11,
   "metadata": {},
   "outputs": [
    {
     "data": {
      "text/plain": [
       "45012"
      ]
     },
     "execution_count": 11,
     "metadata": {},
     "output_type": "execute_result"
    }
   ],
   "source": [
    "l3b = []\n",
    "V0 = VectorSpace(F, 16)\n",
    "for vecs in l2a + l2b:\n",
    "    for (v,) in subspaces_containing(V0, V0.subspace(vecs), 1, basis=True):\n",
    "        l3b.append(linear_section(vecs + [v]))\n",
    "len(l3b)"
   ]
  },
  {
   "cell_type": "code",
   "execution_count": 12,
   "metadata": {},
   "outputs": [],
   "source": [
    "def count_by_ideal(gens, n):\n",
    "    J = P.ideal(gens + [y^(2^n) + y for y in P.gens()])\n",
    "    return (J.vector_space_dimension() - 1) // (2^n-1)"
   ]
  },
  {
   "cell_type": "code",
   "execution_count": 13,
   "metadata": {},
   "outputs": [
    {
     "data": {
      "text/plain": [
       "7092"
      ]
     },
     "execution_count": 13,
     "metadata": {},
     "output_type": "execute_result"
    }
   ],
   "source": [
    "l3c = [gens for gens in l3b if count_by_ideal(gens, 1) == 7]\n",
    "len(l3c)"
   ]
  },
  {
   "cell_type": "markdown",
   "metadata": {},
   "source": [
    "Merge the two lists, then enforce the conditions that $\\#C(\\mathbb{F}_4) = 15$ and $\\#C(\\mathbb{F}_8) = 7$."
   ]
  },
  {
   "cell_type": "code",
   "execution_count": 14,
   "metadata": {},
   "outputs": [
    {
     "data": {
      "text/plain": [
       "5038"
      ]
     },
     "execution_count": 14,
     "metadata": {},
     "output_type": "execute_result"
    }
   ],
   "source": [
    "l4 = [gens for gens in l3a+l3c if count_by_ideal(gens, 2) == 15]\n",
    "len(l4)"
   ]
  },
  {
   "cell_type": "code",
   "execution_count": 15,
   "metadata": {},
   "outputs": [
    {
     "data": {
      "text/plain": [
       "447"
      ]
     },
     "execution_count": 15,
     "metadata": {},
     "output_type": "execute_result"
    }
   ],
   "source": [
    "l5 = [gens for gens in l4 if count_by_ideal(gens, 3) == 7]\n",
    "len(l5)"
   ]
  },
  {
   "cell_type": "markdown",
   "metadata": {},
   "source": [
    "Close out this case."
   ]
  },
  {
   "cell_type": "code",
   "execution_count": 16,
   "metadata": {},
   "outputs": [
    {
     "name": "stdout",
     "output_type": "stream",
     "text": [
      "Number of curves found: 0\n",
      "Number of isomorphism classes found: 0\n",
      "No covers found in this case!\n",
      "Total time: 19 minutes\n"
     ]
    }
   ],
   "source": [
    "proj = magma.ProjectiveSpace(P)\n",
    "curves = {(7,15,7): l5}\n",
    "closeout(curves, X=proj, genus=7)"
   ]
  }
 ],
 "metadata": {
  "kernelspec": {
   "display_name": "SageMath 9.5",
   "language": "sage",
   "name": "sagemath"
  },
  "language_info": {
   "codemirror_mode": {
    "name": "ipython",
    "version": 3
   },
   "file_extension": ".py",
   "mimetype": "text/x-python",
   "name": "python",
   "nbconvert_exporter": "python",
   "pygments_lexer": "ipython3",
   "version": "3.9.7"
  }
 },
 "nbformat": 4,
 "nbformat_minor": 4
}
