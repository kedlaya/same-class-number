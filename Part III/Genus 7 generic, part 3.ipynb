{
 "cells": [
  {
   "cell_type": "markdown",
   "metadata": {},
   "source": [
    "Insert explanatory text here. Allow 30 minutes for completion."
   ]
  },
  {
   "cell_type": "code",
   "execution_count": 1,
   "metadata": {},
   "outputs": [],
   "source": [
    "load(\"preamble.sage\")"
   ]
  },
  {
   "cell_type": "markdown",
   "metadata": {},
   "source": [
    "Construct the quadratic relations cutting out the orthogonal Grassmannian $OG$."
   ]
  },
  {
   "cell_type": "code",
   "execution_count": 2,
   "metadata": {},
   "outputs": [],
   "source": [
    "F = GF(2)\n",
    "P.<x0,x12,x13,x14,x15,x23,x24,x25,x34,x35,x45,x1234,x1235,x1245,x1345,x2345> = PolynomialRing(F, 16)\n",
    "quads = [x0*x2345 + x23*x45 + x24*x35 + x25*x34,\n",
    "         x12*x1345 + x13*x1245 + x14*x1235 + x15*x1234,\n",
    "         x0*x1345 + x13*x45 + x14*x35 + x15*x34,\n",
    "         x12*x2345 + x23*x1245 + x24*x1235 + x25*x1234,\n",
    "         x0*x1245 + x12*x45 + x14*x25 + x15*x24,\n",
    "         x13*x2345 + x23*x1345 + x34*x1235 + x35*x1234,\n",
    "         x0*x1235 + x12*x35 + x13*x25 + x15*x23,\n",
    "         x14*x2345 + x24*x1345 + x34*x1245 + x45*x1234,\n",
    "         x0*x1234 + x12*x34 + x13*x24 + x14*x23,\n",
    "         x15*x2345 + x25*x1345 + x35*x1245 + x45*x1235]"
   ]
  },
  {
   "cell_type": "code",
   "execution_count": 3,
   "metadata": {},
   "outputs": [],
   "source": [
    "def linear_section(coords):\n",
    "    V = Matrix(coords).right_kernel()\n",
    "    return [sum(P.gens()[i] * v[-1-i] for i in range(16)) for v in V.gens()] + quads"
   ]
  },
  {
   "cell_type": "markdown",
   "metadata": {},
   "source": [
    "Read in data about 6-tuples of points on $OG$."
   ]
  },
  {
   "cell_type": "code",
   "execution_count": 4,
   "metadata": {},
   "outputs": [
    {
     "data": {
      "text/plain": [
       "494"
      ]
     },
     "execution_count": 4,
     "metadata": {},
     "output_type": "execute_result"
    }
   ],
   "source": [
    "with open(\"6-tuples.txt\", \"r\") as f:\n",
    "    s = f.read()\n",
    "    l = sage_eval(s)\n",
    "    l = [[vector(F, v) for v in vecs] for vecs in l]\n",
    "len(l)"
   ]
  },
  {
   "cell_type": "markdown",
   "metadata": {},
   "source": [
    "For each of these tuples, compute the dimension of the linear span, and tabulate the effect on the linear span of adding any one $\\mathbb{F}_2$-rational point."
   ]
  },
  {
   "cell_type": "code",
   "execution_count": 5,
   "metadata": {},
   "outputs": [
    {
     "data": {
      "text/plain": [
       "2295"
      ]
     },
     "execution_count": 5,
     "metadata": {},
     "output_type": "execute_result"
    }
   ],
   "source": [
    "proj = ProjectiveSpace(P)\n",
    "OG = proj.subscheme(quads)\n",
    "rp = [vector(pt) for pt in OG.rational_points()]\n",
    "len(rp)"
   ]
  },
  {
   "cell_type": "code",
   "execution_count": 6,
   "metadata": {},
   "outputs": [
    {
     "data": {
      "text/plain": [
       "(491, 3)"
      ]
     },
     "execution_count": 6,
     "metadata": {},
     "output_type": "execute_result"
    }
   ],
   "source": [
    "d = {}\n",
    "l2a = []\n",
    "l2b = []\n",
    "V0 = VectorSpace(F, 16)\n",
    "for vecs in l:\n",
    "    M0 = Matrix(F, vecs).echelon_form()\n",
    "    M0.set_immutable()\n",
    "    if M0.rank() == 6:\n",
    "        l2a.append(vecs)\n",
    "    elif M0.rank() == 5:\n",
    "        l2b.append(vecs)\n",
    "    else:\n",
    "        raise AssertionError\n",
    "    d[M0] = []\n",
    "    for (v,) in subspaces_containing(V0, V0.subspace(vecs), 1, basis=True):\n",
    "        M = Matrix(F, vecs + [v]).echelon_form()\n",
    "        M.set_immutable()\n",
    "        d[M0].append(M)\n",
    "    for pt in rp:\n",
    "        if pt not in vecs:\n",
    "            M = Matrix(F, vecs + [pt]).echelon_form()\n",
    "            M.set_immutable()\n",
    "            if M in d[M0]:\n",
    "                d[M0].remove(M)\n",
    "len(l2a), len(l2b)"
   ]
  },
  {
   "cell_type": "markdown",
   "metadata": {},
   "source": [
    "In cases where the linear span is 6-dimensional, identify 7-dimensional extensions which do not pick up any more $\\mathbb{F}_2$-points."
   ]
  },
  {
   "cell_type": "code",
   "execution_count": 7,
   "metadata": {},
   "outputs": [
    {
     "data": {
      "text/plain": [
       "76916"
      ]
     },
     "execution_count": 7,
     "metadata": {},
     "output_type": "execute_result"
    }
   ],
   "source": [
    "l3a = []\n",
    "for vecs in l2a:\n",
    "    M0 = Matrix(F, vecs).echelon_form()\n",
    "    M0.set_immutable()\n",
    "    for M in d[M0]:\n",
    "        l3a.append(M.rows())\n",
    "len(l3a)"
   ]
  },
  {
   "cell_type": "markdown",
   "metadata": {},
   "source": [
    "In cases where the linear span is 5-dimensional, identify 6-dimensional extensions whose intersection with $OG$ is zero-dimensional with no extra degree-1 points."
   ]
  },
  {
   "cell_type": "code",
   "execution_count": 8,
   "metadata": {},
   "outputs": [],
   "source": [
    "for vecs in l2b:\n",
    "    M0 = Matrix(F, vecs).echelon_form()\n",
    "    M0.set_immutable()\n",
    "    for M in d[M0][:]:\n",
    "        J = P.ideal(linear_section(M.rows()))\n",
    "        if J.dimension() > 1:\n",
    "            d[M0].remove(M)\n",
    "            continue"
   ]
  },
  {
   "cell_type": "markdown",
   "metadata": {},
   "source": [
    "In cases where the linear span is 5-dimensional, identify options for pairs of generators which do not add any $\\mathbb{F}_2$-points to the linear span."
   ]
  },
  {
   "cell_type": "code",
   "execution_count": 9,
   "metadata": {},
   "outputs": [
    {
     "data": {
      "text/plain": [
       "101503"
      ]
     },
     "execution_count": 9,
     "metadata": {},
     "output_type": "execute_result"
    }
   ],
   "source": [
    "l3b = []\n",
    "for vecs in l2b:\n",
    "    M0 = Matrix(F, vecs).echelon_form()\n",
    "    M0.set_immutable()\n",
    "    b = []\n",
    "    d2 = defaultdict(int)\n",
    "    for M1, M2 in itertools.combinations(d[M0], 2):\n",
    "        M = Matrix(F, M1.rows() + M2.rows()).echelon_form()\n",
    "        M.set_immutable()\n",
    "        d2[M] += 1\n",
    "    for M in d2:\n",
    "        assert d2[M] <= 3\n",
    "        if d2[M] == 3:\n",
    "            l3b.append(M)\n",
    "len(l3b)"
   ]
  },
  {
   "cell_type": "code",
   "execution_count": 10,
   "metadata": {},
   "outputs": [],
   "source": [
    "del d, d2"
   ]
  },
  {
   "cell_type": "markdown",
   "metadata": {},
   "source": [
    "Enforce the condition that $\\#C(\\mathbb{F}_4) = 18$."
   ]
  },
  {
   "cell_type": "code",
   "execution_count": 11,
   "metadata": {},
   "outputs": [],
   "source": [
    "def count_by_ideal(vecs, n):\n",
    "    gens = linear_section(vecs)\n",
    "    J = P.ideal(gens + [y^(2^n) + y for y in P.gens()])\n",
    "    return (J.vector_space_dimension() - 1) // (2^n-1)"
   ]
  },
  {
   "cell_type": "code",
   "execution_count": 12,
   "metadata": {},
   "outputs": [
    {
     "data": {
      "text/plain": [
       "503"
      ]
     },
     "execution_count": 12,
     "metadata": {},
     "output_type": "execute_result"
    }
   ],
   "source": [
    "l4a = [vecs for vecs in l3a if count_by_ideal(vecs, 2) == 18]\n",
    "len(l4a)"
   ]
  },
  {
   "cell_type": "code",
   "execution_count": 13,
   "metadata": {},
   "outputs": [
    {
     "data": {
      "text/plain": [
       "576"
      ]
     },
     "execution_count": 13,
     "metadata": {},
     "output_type": "execute_result"
    }
   ],
   "source": [
    "l4b = [vecs for vecs in l3b if count_by_ideal(vecs, 2) == 18]\n",
    "len(l4b)"
   ]
  },
  {
   "cell_type": "markdown",
   "metadata": {},
   "source": [
    "Merge the two lists, then enforce the condition that $\\#C(\\mathbb{F}_8) = 12$."
   ]
  },
  {
   "cell_type": "code",
   "execution_count": null,
   "metadata": {},
   "outputs": [],
   "source": [
    "l5 = [vecs for vecs in l4a+l4b if count_by_ideal(vecs, 3) == 12]\n",
    "len(l5)"
   ]
  },
  {
   "cell_type": "markdown",
   "metadata": {},
   "source": [
    "Use Magma to compute the full zeta functions of the resulting curves and compare these to our targets, finding no results."
   ]
  },
  {
   "cell_type": "code",
   "execution_count": null,
   "metadata": {},
   "outputs": [],
   "source": [
    "proj_magma = magma.ProjectiveSpace(P)\n",
    "l6 = []\n",
    "for vecs in l5:\n",
    "    gens = linear_section(vecs)\n",
    "    X = proj_magma.Scheme(gens)\n",
    "    C = X.Curve()\n",
    "    if str(X.IsIrreducible()) == \"false\" or C.Genus() != 7:\n",
    "        continue\n",
    "    ct = tuple(Integer(C.NumberOfPlacesOfDegreeOneECF(i)) for i in range(1, 8))\n",
    "    if ct in targets7:\n",
    "        l6.append(C)\n",
    "len(l6)"
   ]
  },
  {
   "cell_type": "code",
   "execution_count": null,
   "metadata": {},
   "outputs": [],
   "source": [
    "l6 = isomorphism_class_reps(l6)\n",
    "len(l6)"
   ]
  },
  {
   "cell_type": "markdown",
   "metadata": {},
   "source": [
    "Search for extensions of relative class number 1."
   ]
  },
  {
   "cell_type": "code",
   "execution_count": null,
   "metadata": {},
   "outputs": [],
   "source": [
    "l7 = []\n",
    "for C in l6:\n",
    "    F0 = C.FunctionField()\n",
    "    F1 = F0.AlgorithmicFunctionField()\n",
    "    l7 += match_weil_poly(F1, 2)\n",
    "assert not l7"
   ]
  },
  {
   "cell_type": "code",
   "execution_count": null,
   "metadata": {},
   "outputs": [],
   "source": [
    "print(\"This stage complete!\")"
   ]
  }
 ],
 "metadata": {
  "kernelspec": {
   "display_name": "SageMath 9.4",
   "language": "sage",
   "name": "sagemath"
  },
  "language_info": {
   "codemirror_mode": {
    "name": "ipython",
    "version": 3
   },
   "file_extension": ".py",
   "mimetype": "text/x-python",
   "name": "python",
   "nbconvert_exporter": "python",
   "pygments_lexer": "ipython3",
   "version": "3.9.5"
  }
 },
 "nbformat": 4,
 "nbformat_minor": 4
}
