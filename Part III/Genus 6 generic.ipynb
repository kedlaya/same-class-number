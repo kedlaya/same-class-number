{
 "cells": [
  {
   "cell_type": "markdown",
   "metadata": {},
   "source": [
    "This notebook is associated with the paper \"The relative class number one problem for function fields, III\" by K.S. Kedlaya. It runs in SageMath (tested using version 9.4) and depends on Magma (tested using version\n",
    "2.25-5).\n",
    "\n",
    "In this notebook, we identify generic curves of genus 6 which are candidates for the curve $C$ in a purely geometric quadratic extension $F'/F$ of relative class number 1.  Allow 30 minutes for completion."
   ]
  },
  {
   "cell_type": "code",
   "execution_count": 1,
   "metadata": {},
   "outputs": [],
   "source": [
    "load(\"preamble.sage\")"
   ]
  },
  {
   "cell_type": "markdown",
   "metadata": {},
   "source": [
    "Construct the set of $\\mathbb{F}_2$-rational points of $G(2,5)$, represented as $2 \\times 5$ echelon matrices,\n",
    "together with their Plucker coordinates."
   ]
  },
  {
   "cell_type": "code",
   "execution_count": 2,
   "metadata": {},
   "outputs": [],
   "source": [
    "F = GF(2)"
   ]
  },
  {
   "cell_type": "code",
   "execution_count": 3,
   "metadata": {},
   "outputs": [
    {
     "data": {
      "text/plain": [
       "155"
      ]
     },
     "execution_count": 3,
     "metadata": {},
     "output_type": "execute_result"
    }
   ],
   "source": [
    "coords = {}\n",
    "for V in VectorSpace(F, 5).subspaces(2):\n",
    "    M = V.matrix()\n",
    "    M.set_immutable()\n",
    "    coords[M] = vector(M.minors(2))\n",
    "S = list(coords.keys())\n",
    "len(S)"
   ]
  },
  {
   "cell_type": "markdown",
   "metadata": {},
   "source": [
    "Construct the Plucker relations defining $G(2,5)$ inside $\\mathbb{P}^9$, then verify that these relations vanish on the points we have constructed."
   ]
  },
  {
   "cell_type": "code",
   "execution_count": 4,
   "metadata": {},
   "outputs": [],
   "source": [
    "P.<x01,x02,x03,x04,x12,x13,x14,x23,x24,x34> = PolynomialRing(F, 10)\n",
    "quads = (x01*x23 + x02*x13 + x03*x12,\n",
    "         x01*x24 + x02*x14 + x04*x12,\n",
    "         x01*x34 + x03*x14 + x04*x13,\n",
    "         x02*x34 + x03*x24 + x04*x23,\n",
    "         x12*x34 + x13*x24 + x14*x23)\n",
    "assert all(f(*v) == 0 for f in quads for v in coords.values())"
   ]
  },
  {
   "cell_type": "markdown",
   "metadata": {},
   "source": [
    "Construct an orbit lookup tree of depth 6. We forbid 5-tuples whose linear span is only 3-dimensional, as these can only occur for plane quintics."
   ]
  },
  {
   "cell_type": "code",
   "execution_count": 5,
   "metadata": {},
   "outputs": [],
   "source": [
    "def vecs_to_gens(vecs):\n",
    "    return tuple(sum(P.gens()[i] * v[i] for i in range(10)) for v in vecs)"
   ]
  },
  {
   "cell_type": "code",
   "execution_count": 6,
   "metadata": {},
   "outputs": [],
   "source": [
    "def linear_section(coords):\n",
    "    V = Matrix(coords).right_kernel()\n",
    "    tmp2 = vecs_to_gens(V.gens()) + quads\n",
    "    return P.ideal(tmp2)"
   ]
  },
  {
   "cell_type": "code",
   "execution_count": 7,
   "metadata": {},
   "outputs": [],
   "source": [
    "def apply_group_elem(g, M):\n",
    "    M1 = (M*~g).echelon_form()\n",
    "    M1.set_immutable()\n",
    "    return M1"
   ]
  },
  {
   "cell_type": "code",
   "execution_count": 8,
   "metadata": {},
   "outputs": [],
   "source": [
    "def stabilizer(M):\n",
    "    # First construct the stabilizer of the span of e1, e2.\n",
    "    l0 = [block_matrix(2,2,[g.matrix(),0,0,identity_matrix(3)], subdivide=False) for g in GL(2, F).gens()] + \\\n",
    "        [block_matrix(2,2,[identity_matrix(2),0,0,g.matrix()], subdivide=False) for g in GL(3, F).gens()]\n",
    "    l0.append(identity_matrix(5))\n",
    "    l0[-1][3,0] = 1\n",
    "    # Construct a matrix to conjugate these generators.\n",
    "    l = M.rows()\n",
    "    for i in range(5):\n",
    "        if i not in M.pivots():\n",
    "            l.append(vector(1 if j==i else 0 for j in range(5)))\n",
    "    M1 = Matrix(F, l)\n",
    "    G = GL(5, F).subgroup([~M1*g*M1 for g in l0])\n",
    "    assert all((M*g.matrix()).echelon_form() == M for g in G.gens())\n",
    "    return G"
   ]
  },
  {
   "cell_type": "code",
   "execution_count": 9,
   "metadata": {},
   "outputs": [],
   "source": [
    "def optimized_rep(g):\n",
    "    return g.matrix()"
   ]
  },
  {
   "cell_type": "code",
   "execution_count": 10,
   "metadata": {},
   "outputs": [],
   "source": [
    "def forbid(mats, easy=False, coords=coords):\n",
    "    tmp = [coords[M] for M in mats]\n",
    "    if len(mats) == 5 and Matrix(tmp).rank() <= 3:\n",
    "        return True\n",
    "    J = linear_section(tmp)\n",
    "    if J.dimension() > 3:\n",
    "        return True\n",
    "    if easy:\n",
    "        return False\n",
    "    return False"
   ]
  },
  {
   "cell_type": "code",
   "execution_count": 11,
   "metadata": {},
   "outputs": [],
   "source": [
    "methods = {'apply_group_elem': apply_group_elem,\n",
    "           'stabilizer': vec_stab,\n",
    "           'optimized_rep': optimized_rep,\n",
    "           'forbid': forbid}"
   ]
  },
  {
   "cell_type": "code",
   "execution_count": 12,
   "metadata": {},
   "outputs": [],
   "source": [
    "G = GL(5, F)\n",
    "tree = build_orbit_tree(G, S, 6, methods, verbose=False)"
   ]
  },
  {
   "cell_type": "code",
   "execution_count": 13,
   "metadata": {},
   "outputs": [
    {
     "data": {
      "text/plain": [
       "[39, 235, 2201]"
      ]
     },
     "execution_count": 13,
     "metadata": {},
     "output_type": "execute_result"
    }
   ],
   "source": [
    "[len(green_nodes(tree, i)) for i in range(4,7)]"
   ]
  },
  {
   "cell_type": "markdown",
   "metadata": {},
   "source": [
    "Construct the linear spans of these tuples."
   ]
  },
  {
   "cell_type": "code",
   "execution_count": 14,
   "metadata": {},
   "outputs": [],
   "source": [
    "d = defaultdict(list)\n",
    "for i in range(4, 7):\n",
    "    for mats in green_nodes(tree, i):\n",
    "        tmp = [coords[M] for M in mats]\n",
    "        m = Matrix(tmp).echelon_form()\n",
    "        W = m.row_space()\n",
    "        d[mats].append(W)"
   ]
  },
  {
   "cell_type": "markdown",
   "metadata": {},
   "source": [
    "Construct 6-dimensional extensions of these subspaces (in terms of bases thereof)."
   ]
  },
  {
   "cell_type": "code",
   "execution_count": 15,
   "metadata": {},
   "outputs": [],
   "source": [
    "d2 = defaultdict(list)\n",
    "V0 = VectorSpace(F, 10)\n",
    "for mats in d:\n",
    "    V1 = V0.subspace([coords[M] for M in mats])\n",
    "    for V2 in subspaces_containing(V0, V1, 6-V1.dimension()):\n",
    "        J = linear_section(V2.gens())\n",
    "        if J.dimension() > 3:\n",
    "            continue\n",
    "        d2[mats].append(V2)"
   ]
  },
  {
   "cell_type": "code",
   "execution_count": 16,
   "metadata": {},
   "outputs": [
    {
     "data": {
      "text/plain": [
       "151917"
      ]
     },
     "execution_count": 16,
     "metadata": {},
     "output_type": "execute_result"
    }
   ],
   "source": [
    "sum(len(d2[mats]) for mats in d2)"
   ]
  },
  {
   "cell_type": "markdown",
   "metadata": {},
   "source": [
    "For each 6-dimensional subspace, identify quadrics which meet this subspace in exactly the specified set of $\\mathbb{F}_2$-rational points, modulo multiples of the linear relations cutting out the subspaces and the quadrics cutting out the Grassmannian."
   ]
  },
  {
   "cell_type": "code",
   "execution_count": 17,
   "metadata": {},
   "outputs": [
    {
     "data": {
      "text/plain": [
       "55"
      ]
     },
     "execution_count": 17,
     "metadata": {},
     "output_type": "execute_result"
    }
   ],
   "source": [
    "monos2 = [prod(x) for x in itertools.combinations_with_replacement(P.gens(), 2)]\n",
    "len(monos2)"
   ]
  },
  {
   "cell_type": "code",
   "execution_count": 18,
   "metadata": {},
   "outputs": [],
   "source": [
    "coords2 = {x: vector(F, (mu(*coords[x]) for mu in monos2)) for x in S}"
   ]
  },
  {
   "cell_type": "code",
   "execution_count": 19,
   "metadata": {},
   "outputs": [],
   "source": [
    "def redundancy(gens, F=F, P=P, monos2=monos2):\n",
    "    return [vector(F, ((gen*y).coefficient(mu) for mu in monos2)) for gen in gens for y in P.gens()] + \\\n",
    "       [vector(F, (gen.coefficient(mu) for mu in monos2)) for gen in quads]"
   ]
  },
  {
   "cell_type": "code",
   "execution_count": 20,
   "metadata": {},
   "outputs": [],
   "source": [
    "curves = defaultdict(list)\n",
    "tmp2 = set(t[:2] for t in targets6)\n",
    "for mats in d2:\n",
    "    s = len(mats)\n",
    "    for V in d[mats]:\n",
    "        V1 = V.matrix().right_kernel()\n",
    "        gens = vecs_to_gens(V1.basis())\n",
    "        pts = [x for x in S if coords[x] in V]\n",
    "        perp = Matrix([coords2[x] for x in pts])\n",
    "        target = vector(F, (0 if x in mats else 1 for x in pts))\n",
    "        for w in solve_right_iterator(perp, target, redundancy, gens):\n",
    "            gens1 = sum(w[i]*monos2[i] for i in range(55))\n",
    "            curves[(s,)].append(gens + (gens1,))"
   ]
  },
  {
   "cell_type": "code",
   "execution_count": 21,
   "metadata": {},
   "outputs": [
    {
     "data": {
      "text/plain": [
       "[((4,), 62), ((5,), 630), ((6,), 19217)]"
      ]
     },
     "execution_count": 21,
     "metadata": {},
     "output_type": "execute_result"
    }
   ],
   "source": [
    "[(s, len(curves[s])) for s in curves]"
   ]
  },
  {
   "cell_type": "markdown",
   "metadata": {},
   "source": [
    "Enforce the desired point counts over $\\mathbb{F}_{2^i}$ for $i=2$ using point counting and for $i=3,4$ using commutative algebra."
   ]
  },
  {
   "cell_type": "code",
   "execution_count": 22,
   "metadata": {},
   "outputs": [
    {
     "data": {
      "text/plain": [
       "5797"
      ]
     },
     "execution_count": 22,
     "metadata": {},
     "output_type": "execute_result"
    }
   ],
   "source": [
    "F4 = GF(4)\n",
    "S4 = []\n",
    "for V in VectorSpace(F4, 5).subspaces(2):\n",
    "    M = V.matrix()\n",
    "    v = vector(M.minors(2))\n",
    "    i = min(j for j in range(10) if v[j])\n",
    "    assert v[i] == 1\n",
    "    v.set_immutable()\n",
    "    S4.append(v)\n",
    "len(S4)"
   ]
  },
  {
   "cell_type": "code",
   "execution_count": 23,
   "metadata": {},
   "outputs": [],
   "source": [
    "tmp = [s for s in curves if len(s) == 1]\n",
    "tmp2 = [t[:2] for t in targets6]\n",
    "for (s1,) in tmp:\n",
    "    gens1 = 0\n",
    "    for gens in curves[(s1,)]:\n",
    "        if gens1 != gens[:-1]:\n",
    "            gens1 = gens[:-1]\n",
    "            pts2 = [x for x in S4 if all(gen(*x) == 0 for gen in gens1)]\n",
    "        s2 = sum(1 for x in pts2 if gens[-1](*x) == 0)\n",
    "        if (s1, s2) in tmp2:\n",
    "            curves[(s1,s2)].append(gens)\n",
    "    del curves[(s1,)]"
   ]
  },
  {
   "cell_type": "code",
   "execution_count": 24,
   "metadata": {},
   "outputs": [],
   "source": [
    "def count_by_ideal(gens, n):\n",
    "    J = P.ideal(gens + quads + tuple(y^(2^n) + y for y in P.gens()))\n",
    "    return (J.vector_space_dimension() - 1) // (2^n-1)"
   ]
  },
  {
   "cell_type": "code",
   "execution_count": 25,
   "metadata": {},
   "outputs": [
    {
     "name": "stdout",
     "output_type": "stream",
     "text": [
      "[((5, 11, 11), 17), ((5, 15, 5), 2), ((6, 14, 12), 255), ((6, 14, 6), 121), ((6, 10, 9), 791)]\n",
      "[((5, 11, 11, 31), 4), ((6, 14, 12, 26), 5), ((6, 14, 6, 26), 7), ((6, 14, 6, 34), 3), ((6, 10, 9, 38), 10)]\n"
     ]
    }
   ],
   "source": [
    "for n in range(3, 5):\n",
    "    tmp = set(t[:n] for t in targets6)\n",
    "    tmp2 = list(curves.keys())    \n",
    "    for s in tmp2:\n",
    "        for gens in curves[s]:\n",
    "            i = count_by_ideal(gens, n)\n",
    "            s1 = s + (i,)\n",
    "            if s1 in tmp:\n",
    "                curves[s1].append(gens)\n",
    "        del curves[s]\n",
    "    print([(s, len(curves[s])) for s in curves])"
   ]
  },
  {
   "cell_type": "markdown",
   "metadata": {},
   "source": [
    "Close out this case."
   ]
  },
  {
   "cell_type": "code",
   "execution_count": 26,
   "metadata": {},
   "outputs": [
    {
     "name": "stdout",
     "output_type": "stream",
     "text": [
      "Number of curves found: 6\n",
      "Number of isomorphism classes found: 4\n",
      "Number of covers found: 1\n",
      "(6, 14, 12, 26, 6, 56) Algebraic function field defined over Univariate rational function field over GF(2) by\n",
      "($.1^2 + $.1 + 1)*$.1^4 + ($.1^3 + $.1 + 1)*$.1^3 + ($.1^4 + $.1^2 + 1)*$.1^2 + ($.1^5 + $.1^4 + 1)*$.1 + $.1^5 + $.1^4 + $.1^3 + $.1\n",
      "All covers recorded!\n",
      "Total time: 23 minutes\n"
     ]
    }
   ],
   "source": [
    "proj = magma.ProjectiveSpace(P)\n",
    "curves = {s: [gens + quads for gens in curves[s]] for s in curves}\n",
    "closeout(curves, X=proj, genus=6)"
   ]
  }
 ],
 "metadata": {
  "kernelspec": {
   "display_name": "SageMath 9.4",
   "language": "sage",
   "name": "sagemath"
  },
  "language_info": {
   "codemirror_mode": {
    "name": "ipython",
    "version": 3
   },
   "file_extension": ".py",
   "mimetype": "text/x-python",
   "name": "python",
   "nbconvert_exporter": "python",
   "pygments_lexer": "ipython3",
   "version": "3.9.5"
  }
 },
 "nbformat": 4,
 "nbformat_minor": 4
}
