{
 "cells": [
  {
   "cell_type": "markdown",
   "metadata": {},
   "source": [
    "Insert explanatory text here. Allow 1 hour for completion."
   ]
  },
  {
   "cell_type": "code",
   "execution_count": 1,
   "metadata": {},
   "outputs": [],
   "source": [
    "load(\"preamble.sage\")"
   ]
  },
  {
   "cell_type": "markdown",
   "metadata": {},
   "source": [
    "Construct the set of $\\mathbb{F}_2$-rational points of $G(2,5)$, represented as $2 \\times 5$ echelon matrices,\n",
    "together with their Plucker coordinates."
   ]
  },
  {
   "cell_type": "code",
   "execution_count": 2,
   "metadata": {},
   "outputs": [],
   "source": [
    "F = GF(2)"
   ]
  },
  {
   "cell_type": "code",
   "execution_count": 3,
   "metadata": {},
   "outputs": [
    {
     "data": {
      "text/plain": [
       "155"
      ]
     },
     "execution_count": 3,
     "metadata": {},
     "output_type": "execute_result"
    }
   ],
   "source": [
    "coords = {}\n",
    "for V in VectorSpace(F, 5).subspaces(2):\n",
    "    M = V.matrix()\n",
    "    M.set_immutable()\n",
    "    coords[M] = vector(M.minors(2))\n",
    "S = list(coords.keys())\n",
    "len(S)"
   ]
  },
  {
   "cell_type": "markdown",
   "metadata": {},
   "source": [
    "Construct the set of $\\mathbb{F}_4$-rational points of $G(2,5)$, retaining only the Plucker coordinates."
   ]
  },
  {
   "cell_type": "code",
   "execution_count": 4,
   "metadata": {},
   "outputs": [
    {
     "data": {
      "text/plain": [
       "5797"
      ]
     },
     "execution_count": 4,
     "metadata": {},
     "output_type": "execute_result"
    }
   ],
   "source": [
    "F4 = GF(4)\n",
    "S4 = []\n",
    "for V in VectorSpace(F4, 5).subspaces(2):\n",
    "    M = V.matrix()\n",
    "    v = vector(M.minors(2))\n",
    "    i = min(j for j in range(10) if v[j])\n",
    "    assert v[i] == 1\n",
    "    S4.append(v)\n",
    "len(S4)"
   ]
  },
  {
   "cell_type": "markdown",
   "metadata": {},
   "source": [
    "Construct the Plucker relations defining $G(2,5)$ inside $\\mathbb{P}^9$, then verify that these relations vanish on the points we have constructed."
   ]
  },
  {
   "cell_type": "code",
   "execution_count": 5,
   "metadata": {},
   "outputs": [],
   "source": [
    "P.<x01,x02,x03,x04,x12,x13,x14,x23,x24,x34> = PolynomialRing(F, 10)\n",
    "quads = [x01*x23 + x02*x13 + x03*x12,\n",
    "         x01*x24 + x02*x14 + x04*x12,\n",
    "         x01*x34 + x03*x14 + x04*x13,\n",
    "         x02*x34 + x03*x24 + x04*x23,\n",
    "         x12*x34 + x13*x24 + x14*x23]\n",
    "assert all(f(*v) == 0 for f in quads for v in coords.values())"
   ]
  },
  {
   "cell_type": "markdown",
   "metadata": {},
   "source": [
    "Construct an orbit lookup tree of depth 6. We forbid 5-tuples whose linear span is only 3-dimensional, as these can only occur for plane quintics."
   ]
  },
  {
   "cell_type": "code",
   "execution_count": 6,
   "metadata": {},
   "outputs": [],
   "source": [
    "def vecs_to_gens(vecs):\n",
    "    return [sum(P.gens()[i] * v[i] for i in range(10)) for v in vecs]"
   ]
  },
  {
   "cell_type": "code",
   "execution_count": 7,
   "metadata": {},
   "outputs": [],
   "source": [
    "def linear_section(coords):\n",
    "    V = Matrix(coords).right_kernel()\n",
    "    tmp2 = vecs_to_gens(V.gens()) + quads\n",
    "    return P.ideal(tmp2)"
   ]
  },
  {
   "cell_type": "code",
   "execution_count": 8,
   "metadata": {},
   "outputs": [],
   "source": [
    "def apply_group_elem(g, M, set_immutable=True):\n",
    "    M1 = (M*~g).echelon_form()\n",
    "    if set_immutable:\n",
    "        M1.set_immutable()\n",
    "    return M1"
   ]
  },
  {
   "cell_type": "code",
   "execution_count": 9,
   "metadata": {},
   "outputs": [],
   "source": [
    "def stabilizer(M):\n",
    "    # First construct the stabilizer of the span of e1, e2.\n",
    "    l0 = [block_matrix(2,2,[g.matrix(),0,0,identity_matrix(3)], subdivide=False) for g in GL(2, F).gens()] + \\\n",
    "        [block_matrix(2,2,[identity_matrix(2),0,0,g.matrix()], subdivide=False) for g in GL(3, F).gens()]\n",
    "    l0.append(identity_matrix(5))\n",
    "    l0[-1][3,0] = 1\n",
    "    # Construct a matrix to conjugate these generators.\n",
    "    l = M.rows()\n",
    "    for i in range(5):\n",
    "        if i not in M.pivots():\n",
    "            l.append(vector(1 if j==i else 0 for j in range(5)))\n",
    "    M1 = Matrix(F, l)\n",
    "    G = GL(5, F).subgroup([~M1*g*M1 for g in l0])\n",
    "    assert all((M*g.matrix()).echelon_form() == M for g in G.gens())\n",
    "    return G"
   ]
  },
  {
   "cell_type": "code",
   "execution_count": 10,
   "metadata": {},
   "outputs": [],
   "source": [
    "def optimized_rep(g):\n",
    "    return g.matrix()"
   ]
  },
  {
   "cell_type": "code",
   "execution_count": 11,
   "metadata": {},
   "outputs": [],
   "source": [
    "def forbid(mats, easy=False, coords=coords):\n",
    "    tmp = [coords[M] for M in mats]\n",
    "    if len(mats) == 5 and Matrix(tmp).rank() <= 3:\n",
    "        return True\n",
    "    J = linear_section(tmp)\n",
    "    if J.dimension() > 3:\n",
    "        return True\n",
    "    if easy:\n",
    "        return False\n",
    "    return False"
   ]
  },
  {
   "cell_type": "code",
   "execution_count": 12,
   "metadata": {},
   "outputs": [],
   "source": [
    "methods = {'apply_group_elem': apply_group_elem,\n",
    "           'stabilizer': vec_stab,\n",
    "           'optimized_rep': optimized_rep,\n",
    "           'forbid': forbid}"
   ]
  },
  {
   "cell_type": "code",
   "execution_count": 13,
   "metadata": {},
   "outputs": [],
   "source": [
    "G = GL(5, F)\n",
    "tree = build_orbit_tree(G, S, 6, methods, verbose=False)"
   ]
  },
  {
   "cell_type": "code",
   "execution_count": 14,
   "metadata": {},
   "outputs": [
    {
     "data": {
      "text/plain": [
       "[39, 235, 2201]"
      ]
     },
     "execution_count": 14,
     "metadata": {},
     "output_type": "execute_result"
    }
   ],
   "source": [
    "[len(green_nodes(tree, i)) for i in range(4,7)]"
   ]
  },
  {
   "cell_type": "markdown",
   "metadata": {},
   "source": [
    "Construct the linear spans of these tuples."
   ]
  },
  {
   "cell_type": "code",
   "execution_count": 15,
   "metadata": {},
   "outputs": [],
   "source": [
    "d = defaultdict(list)\n",
    "for i in range(4, 7):\n",
    "    for mats in green_nodes(tree, i):\n",
    "        tmp = [coords[M] for M in mats]\n",
    "        m = Matrix(tmp).echelon_form()\n",
    "        W = m.row_space()\n",
    "        d[mats].append(W)"
   ]
  },
  {
   "cell_type": "markdown",
   "metadata": {},
   "source": [
    "Construct 6-dimensional extensions of these subspaces (in terms of bases thereof)."
   ]
  },
  {
   "cell_type": "code",
   "execution_count": 16,
   "metadata": {},
   "outputs": [],
   "source": [
    "d2 = defaultdict(list)\n",
    "V0 = VectorSpace(F, 10)\n",
    "for mats in d:\n",
    "    V1 = V0.subspace([coords[M] for M in mats])\n",
    "    for V2 in subspaces_containing(V0, V1, 6-V1.dimension()):\n",
    "        J = linear_section(V2.gens())\n",
    "        if J.dimension() > 3:\n",
    "            continue\n",
    "        d2[mats].append(V2)"
   ]
  },
  {
   "cell_type": "code",
   "execution_count": 17,
   "metadata": {},
   "outputs": [
    {
     "data": {
      "text/plain": [
       "151917"
      ]
     },
     "execution_count": 17,
     "metadata": {},
     "output_type": "execute_result"
    }
   ],
   "source": [
    "sum(len(d2[mats]) for mats in d2)"
   ]
  },
  {
   "cell_type": "markdown",
   "metadata": {},
   "source": [
    "For each 6-dimensional subspace, identify quadrics which meet this subspace in exactly the specified set of $\\mathbb{F}_2$-rational points, modulo multiples of the linear relations cutting out the subspaces and the quadrics cutting out the Grassmannian. Then count $\\mathbb{F}_4$-points and retain cases fitting our targets."
   ]
  },
  {
   "cell_type": "code",
   "execution_count": 18,
   "metadata": {},
   "outputs": [
    {
     "data": {
      "text/plain": [
       "55"
      ]
     },
     "execution_count": 18,
     "metadata": {},
     "output_type": "execute_result"
    }
   ],
   "source": [
    "monos2 = [prod(x) for x in itertools.combinations_with_replacement(P.gens(), 2)]\n",
    "len(monos2)"
   ]
  },
  {
   "cell_type": "code",
   "execution_count": 19,
   "metadata": {},
   "outputs": [],
   "source": [
    "coords2 = {x: vector(F, (mu(*coords[x]) for mu in monos2)) for x in S}"
   ]
  },
  {
   "cell_type": "code",
   "execution_count": 20,
   "metadata": {},
   "outputs": [],
   "source": [
    "def redundancy(gens, F=F, P=P, monos2=monos2):\n",
    "    return [vector(F, ((gen*y).coefficient(mu) for mu in monos2)) for gen in gens for y in P.gens()] + \\\n",
    "       [vector(F, (gen.coefficient(mu) for mu in monos2)) for gen in quads]"
   ]
  },
  {
   "cell_type": "code",
   "execution_count": 21,
   "metadata": {},
   "outputs": [],
   "source": [
    "curves = defaultdict(list)\n",
    "tmp2 = [t[:2] for t in targets6]\n",
    "for mats in d2:\n",
    "    s = len(mats)\n",
    "    for V in d[mats]:\n",
    "        V1 = V.matrix().right_kernel()\n",
    "        gens = vecs_to_gens(V1.basis())\n",
    "        pts = [x for x in S if coords[x] in V]\n",
    "        pts2 = 0\n",
    "        perp = Matrix([coords2[x] for x in pts])\n",
    "        target = vector(F, (0 if x in mats else 1 for x in pts))\n",
    "        for w in solve_right_iterator(perp, target, redundancy, gens):\n",
    "            if pts2 == 0:\n",
    "                pts2 = [x for x in S4 if all(gen(*x) == 0 for gen in gens)]\n",
    "            gens1 = sum(w[i]*monos2[i] for i in range(55))\n",
    "            s2 = sum(1 for x in pts2 if gens1(*x) == 0)\n",
    "            if (s,s2) in tmp2:\n",
    "                curves[(s,s2)].append(gens + [gens1])"
   ]
  },
  {
   "cell_type": "code",
   "execution_count": 22,
   "metadata": {},
   "outputs": [
    {
     "data": {
      "text/plain": [
       "[((5, 13), 17), ((5, 11), 21), ((5, 15), 9), ((6, 14), 1600), ((6, 10), 5172)]"
      ]
     },
     "execution_count": 22,
     "metadata": {},
     "output_type": "execute_result"
    }
   ],
   "source": [
    "[(s, len(curves[s])) for s in curves]"
   ]
  },
  {
   "cell_type": "markdown",
   "metadata": {},
   "source": [
    "Compute point counts over $\\mathbb{F}_{q^i}$ for $i=3,4$, retaining cases that fit our targets."
   ]
  },
  {
   "cell_type": "code",
   "execution_count": 23,
   "metadata": {},
   "outputs": [],
   "source": [
    "def count_by_ideal(gens, n):\n",
    "    J = P.ideal(gens + quads + [y^(2^n) + y for y in P.gens()])\n",
    "    return (J.vector_space_dimension() - 1) // (2^n-1)"
   ]
  },
  {
   "cell_type": "code",
   "execution_count": 24,
   "metadata": {},
   "outputs": [
    {
     "name": "stdout",
     "output_type": "stream",
     "text": [
      "[((5, 11, 11), 17), ((5, 15, 5), 2), ((6, 14, 12), 255), ((6, 14, 6), 121), ((6, 10, 9), 791)]\n",
      "[((5, 11, 11, 31), 4), ((6, 14, 12, 26), 5), ((6, 14, 6, 26), 7), ((6, 14, 6, 34), 3), ((6, 10, 9, 38), 10)]\n"
     ]
    }
   ],
   "source": [
    "for n in range(3, 5):\n",
    "    tmp = [t[:n] for t in targets6]\n",
    "    tmp2 = list(curves.keys())    \n",
    "    for s in tmp2:\n",
    "        for gens in curves[s]:\n",
    "            i = count_by_ideal(gens, n)\n",
    "            s1 = s + (i,)\n",
    "            if s1 in tmp:\n",
    "                curves[s1].append(gens)\n",
    "        del curves[s]\n",
    "    print([(s, len(curves[s])) for s in curves])"
   ]
  },
  {
   "cell_type": "markdown",
   "metadata": {},
   "source": [
    "Use Magma to compute the full zeta functions of the resulting curves (discarding cases that do not lead to smooth curves of the right genus), and compare these to our targets."
   ]
  },
  {
   "cell_type": "code",
   "execution_count": 25,
   "metadata": {},
   "outputs": [
    {
     "data": {
      "text/plain": [
       "6"
      ]
     },
     "execution_count": 25,
     "metadata": {},
     "output_type": "execute_result"
    }
   ],
   "source": [
    "proj_magma = magma.ProjectiveSpace(P)\n",
    "l = []\n",
    "for s in curves:\n",
    "    for gens in curves[s]:\n",
    "        X = proj_magma.Scheme(gens + quads)\n",
    "        if X.Dimension() > 1 or str(X.IsIrreducible()) == \"false\":\n",
    "            continue\n",
    "        C = X.Curve()\n",
    "        if C.Genus() != 6:\n",
    "            continue\n",
    "        ct = tuple(Integer(C.NumberOfPlacesOfDegreeOneECF(i)) for i in range(1, 7))\n",
    "        if ct in targets6:\n",
    "            l.append(C)\n",
    "len(l)"
   ]
  },
  {
   "cell_type": "code",
   "execution_count": 26,
   "metadata": {},
   "outputs": [
    {
     "data": {
      "text/plain": [
       "4"
      ]
     },
     "execution_count": 26,
     "metadata": {},
     "output_type": "execute_result"
    }
   ],
   "source": [
    "l = isomorphism_class_reps(l)\n",
    "len(l)"
   ]
  },
  {
   "cell_type": "markdown",
   "metadata": {},
   "source": [
    "Search for extensions of relative class number 1."
   ]
  },
  {
   "cell_type": "code",
   "execution_count": 27,
   "metadata": {},
   "outputs": [],
   "source": [
    "l2 = []\n",
    "for C in l:\n",
    "    F0 = magma.FunctionField(C)\n",
    "    F1 = F0.AlgorithmicFunctionField()\n",
    "    l2 = l2 + match_weil_poly(F1, 2)"
   ]
  },
  {
   "cell_type": "code",
   "execution_count": 28,
   "metadata": {},
   "outputs": [
    {
     "data": {
      "text/plain": [
       "1"
      ]
     },
     "execution_count": 28,
     "metadata": {},
     "output_type": "execute_result"
    }
   ],
   "source": [
    "len(l2)"
   ]
  },
  {
   "cell_type": "code",
   "execution_count": 34,
   "metadata": {},
   "outputs": [
    {
     "name": "stdout",
     "output_type": "stream",
     "text": [
      "(6, 14, 12, 26, 6, 56) Algebraic function field defined over Univariate rational function field over GF(2) by\n",
      "($.1^2 + $.1 + 1)*$.1^4 + ($.1^3 + $.1 + 1)*$.1^3 + ($.1^4 + $.1^2 + 1)*$.1^2 + ($.1^5 + $.1^4 + 1)*$.1 + $.1^5 + $.1^4 + $.1^3 + $.1\n"
     ]
    }
   ],
   "source": [
    "for (F1, F2) in l2:\n",
    "    t = tuple(F1.NumberOfPlacesOfDegreeOneECF(i) for i in range(1,7))\n",
    "    print(t, F1.RationalExtensionRepresentation())"
   ]
  },
  {
   "cell_type": "markdown",
   "metadata": {},
   "source": [
    "Convert the covers into numerical data in preparation for writing out to the spreadsheet."
   ]
  },
  {
   "cell_type": "code",
   "execution_count": 30,
   "metadata": {},
   "outputs": [],
   "source": [
    "l3 = []\n",
    "Q.<T> = QQ[]\n",
    "for (F, F1) in l2:\n",
    "    u1 = T.parent()(magma_poly_list(F.ZetaFunction().Numerator())).reverse()\n",
    "    v1 = T.parent()(magma_poly_list(F1.ZetaFunction().Numerator())).reverse()\n",
    "    l3.append((2, 6, 11, point_count_from_weil_poly(u1, 13), point_count_from_weil_poly(v1, 13)))"
   ]
  },
  {
   "cell_type": "markdown",
   "metadata": {},
   "source": [
    "Write the results back to the spreadsheet. In the process, we check that every covering we found gives a pair of Weil polynomials from our original list."
   ]
  },
  {
   "cell_type": "code",
   "execution_count": 33,
   "metadata": {},
   "outputs": [],
   "source": [
    "used_pols = []\n",
    "for i in range(len(df)):\n",
    "    r = df.iloc[i]\n",
    "    d = r[\"d\"]\n",
    "    g = r[\"g\"]\n",
    "    g1 = r[\"g'\"]\n",
    "    ct1 = eval(r[\"Counts of C\"])\n",
    "    ct2 = eval(r[\"Counts of C'\"])\n",
    "    if (d, g, g1, ct1, ct2) in l3:\n",
    "        df.loc[i, \"Cyclic\"] = \"Yes\"\n",
    "        used_pols.append((d, g, g1, ct1, ct2))\n",
    "assert all(t in used_pols for t in l3)"
   ]
  },
  {
   "cell_type": "code",
   "execution_count": 32,
   "metadata": {},
   "outputs": [],
   "source": [
    "df.to_excel('../Shared/polys.xlsx', sheet_name='Weil polynomials', merge_cells=True, freeze_panes=(int(1),int(1)))"
   ]
  },
  {
   "cell_type": "code",
   "execution_count": null,
   "metadata": {},
   "outputs": [],
   "source": []
  }
 ],
 "metadata": {
  "kernelspec": {
   "display_name": "SageMath 9.4",
   "language": "sage",
   "name": "sagemath"
  },
  "language_info": {
   "codemirror_mode": {
    "name": "ipython",
    "version": 3
   },
   "file_extension": ".py",
   "mimetype": "text/x-python",
   "name": "python",
   "nbconvert_exporter": "python",
   "pygments_lexer": "ipython3",
   "version": "3.9.5"
  }
 },
 "nbformat": 4,
 "nbformat_minor": 4
}
