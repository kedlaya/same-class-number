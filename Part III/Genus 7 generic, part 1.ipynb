{
 "cells": [
  {
   "cell_type": "markdown",
   "metadata": {},
   "source": [
    "Insert explanation here. Allow 15 minutes for completion."
   ]
  },
  {
   "cell_type": "code",
   "execution_count": 1,
   "metadata": {},
   "outputs": [],
   "source": [
    "load(\"preamble.sage\")"
   ]
  },
  {
   "cell_type": "markdown",
   "metadata": {},
   "source": [
    "## The orthogonal group"
   ]
  },
  {
   "cell_type": "markdown",
   "metadata": {},
   "source": [
    "Produce a copy of $\\mathrm{SO}(10)$ with invariant form\n",
    "$$\n",
    "x_1 x_6 + x_2 x_7 + x_3 x_8 + x_4 x_9 + x_5 x_{10}.\n",
    "$$"
   ]
  },
  {
   "cell_type": "code",
   "execution_count": 2,
   "metadata": {},
   "outputs": [],
   "source": [
    "F = GF(2)"
   ]
  },
  {
   "cell_type": "code",
   "execution_count": 3,
   "metadata": {},
   "outputs": [
    {
     "data": {
      "text/plain": [
       "46998591897600"
      ]
     },
     "execution_count": 3,
     "metadata": {},
     "output_type": "execute_result"
    }
   ],
   "source": [
    "G = SO(10,2,e=1)\n",
    "G.order()"
   ]
  },
  {
   "cell_type": "code",
   "execution_count": 4,
   "metadata": {},
   "outputs": [
    {
     "data": {
      "text/plain": [
       "[0 1 0 0 0 0 0 0 0 0]\n",
       "[1 0 0 0 0 0 0 0 0 0]\n",
       "[0 0 0 1 0 0 0 0 0 0]\n",
       "[0 0 1 0 0 0 0 0 0 0]\n",
       "[0 0 0 0 0 1 0 0 0 0]\n",
       "[0 0 0 0 1 0 0 0 0 0]\n",
       "[0 0 0 0 0 0 0 1 0 0]\n",
       "[0 0 0 0 0 0 1 0 0 0]\n",
       "[0 0 0 0 0 0 0 0 0 1]\n",
       "[0 0 0 0 0 0 0 0 1 0]"
      ]
     },
     "execution_count": 4,
     "metadata": {},
     "output_type": "execute_result"
    }
   ],
   "source": [
    "J = G.invariant_form(); J"
   ]
  },
  {
   "cell_type": "code",
   "execution_count": 5,
   "metadata": {},
   "outputs": [],
   "source": [
    "J1 = block_matrix(2,2, [0, identity_matrix(F, 5), identity_matrix(F, 5), 0], subdivide=False)\n",
    "Pg = SymmetricGroup(10)([(2,6,8,9,5,3),(4,7)])\n",
    "l1 = []\n",
    "for g in G.gens():\n",
    "    M = copy(g.matrix())\n",
    "    M.permute_rows_and_columns(~Pg, ~Pg)\n",
    "    assert M*J1*M.transpose() == J1\n",
    "    l1.append(M)\n",
    "G0 = GL(10, F).subgroup(l1)"
   ]
  },
  {
   "cell_type": "code",
   "execution_count": 6,
   "metadata": {},
   "outputs": [],
   "source": [
    "assert all(g*J1*g.matrix().transpose() == J1 for g in G0.gens())"
   ]
  },
  {
   "cell_type": "markdown",
   "metadata": {},
   "source": [
    "Construct the index-2 subgroup of $\\mathrm{SO}$ stabilizing one component of $OG$."
   ]
  },
  {
   "cell_type": "code",
   "execution_count": 7,
   "metadata": {},
   "outputs": [],
   "source": [
    "l2 = [identity_matrix(10, F)]\n",
    "l2[0][3,9] = 1\n",
    "l2[0][4,8] = 1\n",
    "l2.append(Matrix(F, [[0,1,0,0,0,1,0,0,1,0],\n",
    "                     [0,0,0,1,1,0,1,1,0,0],\n",
    "                     [0,1,0,0,0,1,0,1,0,1],\n",
    "                     [1,0,1,0,1,0,1,1,0,1],\n",
    "                     [0,1,0,1,1,0,1,0,1,0],\n",
    "                     [0,0,1,0,0,0,1,0,0,1],\n",
    "                     [1,1,0,1,1,0,0,0,0,0],\n",
    "                     [0,0,0,0,1,0,0,1,0,0],\n",
    "                     [0,1,0,0,0,1,0,1,1,0],\n",
    "                     [1,0,0,1,1,0,0,1,0,0]]))\n",
    "G1 = G0.subgroup(l2)\n",
    "assert G0.order() // G1.order() == 2"
   ]
  },
  {
   "cell_type": "markdown",
   "metadata": {},
   "source": [
    "## Lagrangian subspaces"
   ]
  },
  {
   "cell_type": "markdown",
   "metadata": {},
   "source": [
    "Apply a group element to a Lagrangian subspace represented by an echelon matrix."
   ]
  },
  {
   "cell_type": "markdown",
   "metadata": {},
   "source": [
    "## The orthogonal Grassmannian"
   ]
  },
  {
   "cell_type": "markdown",
   "metadata": {},
   "source": [
    "Construct the Plucker relations for $OG$ in terms of Pfaffians."
   ]
  },
  {
   "cell_type": "code",
   "execution_count": 8,
   "metadata": {},
   "outputs": [],
   "source": [
    "P.<x0,x12,x13,x14,x15,x23,x24,x25,x34,x35,x45,x1234,x1235,x1245,x1345,x2345> = PolynomialRing(F, 16)\n",
    "quads = [x0*x2345 + x23*x45 + x24*x35 + x25*x34,\n",
    "         x12*x1345 + x13*x1245 + x14*x1235 + x15*x1234,\n",
    "         x0*x1345 + x13*x45 + x14*x35 + x15*x34,\n",
    "         x12*x2345 + x23*x1245 + x24*x1235 + x25*x1234,\n",
    "         x0*x1245 + x12*x45 + x14*x25 + x15*x24,\n",
    "         x13*x2345 + x23*x1345 + x34*x1235 + x35*x1234,\n",
    "         x0*x1235 + x12*x35 + x13*x25 + x15*x23,\n",
    "         x14*x2345 + x24*x1345 + x34*x1245 + x45*x1234,\n",
    "         x0*x1234 + x12*x34 + x13*x24 + x14*x23,\n",
    "         x15*x2345 + x25*x1345 + x35*x1245 + x45*x1235]"
   ]
  },
  {
   "cell_type": "markdown",
   "metadata": {},
   "source": [
    "Lagrangian subspaces in $\\mathbb{F}_2^{10}$ are represented by $5 \\times 10$ echelon matrices."
   ]
  },
  {
   "cell_type": "markdown",
   "metadata": {},
   "source": [
    "Given a Lagrangian subspace of $\\mathbb{F}_2^{10}$, compute the *spinor coordinate* in $S^+$. If `verify` is `True`, we check that the intersection is one-dimensional and that the resulting coordinate satisfies the Plucker relations."
   ]
  },
  {
   "cell_type": "code",
   "execution_count": 9,
   "metadata": {},
   "outputs": [],
   "source": [
    "def spinor_coordinate(M, verify=True, set_immutable=True):\n",
    "    coord1 = [_ for i in [0,2,4] for _ in itertools.combinations(range(5), i)]\n",
    "    coord2 = [_ for i in [1,3,5] for _ in itertools.combinations(range(5), i)]\n",
    "    ops = []\n",
    "    # Annihilation operators.\n",
    "    for i in range(5):\n",
    "        ops.append(Matrix(F, 16, 16, [[1 if \n",
    "                                       i not in coord2[k] and set(coord2[k]).union(set([i])) == set(coord1[j]) \n",
    "                                       else 0 for k in range(16)] for j in range(16)]))\n",
    "    # Creation operators.\n",
    "    for i in range(5):\n",
    "        ops.append(Matrix(F, 16, 16, [[1 if \n",
    "                                       i not in coord1[j] and set(coord1[j]).union(set([i])) == set(coord2[k]) \n",
    "                                       else 0 for k in range(16)] for j in range(16)]))\n",
    "    l = [sum(ops[j]*M[i,j] for j in range(10)) for i in range(5)]\n",
    "    l2 = [N.right_kernel() for N in l]\n",
    "    K = l2[0]\n",
    "    for V in l2:\n",
    "        K = K.intersection(V)\n",
    "    if K.dimension() != 1:\n",
    "        if verify:\n",
    "            raise ValueError\n",
    "        else:\n",
    "            return None\n",
    "    v = K.gens()[0]\n",
    "    if verify:\n",
    "        assert all(P(*v) == 0 for P in quads)\n",
    "    if set_immutable:\n",
    "        v.set_immutable()\n",
    "    return v"
   ]
  },
  {
   "cell_type": "markdown",
   "metadata": {},
   "source": [
    "Given spinor coordinates of some Lagrangian subspaces, compute the intersection of their linear span with $OG$ as an ideal in $P$."
   ]
  },
  {
   "cell_type": "code",
   "execution_count": 10,
   "metadata": {},
   "outputs": [],
   "source": [
    "def linear_section(coords):\n",
    "    V = Matrix(coords).right_kernel()\n",
    "    tmp2 = [sum(P.gens()[i] * v[-1-i] for i in range(16)) for v in V.gens()] + quads\n",
    "    return P.ideal(tmp2)"
   ]
  },
  {
   "cell_type": "markdown",
   "metadata": {},
   "source": [
    "## Points of the orthogonal Grassmannian"
   ]
  },
  {
   "cell_type": "markdown",
   "metadata": {},
   "source": [
    "Construct a point on $OG$."
   ]
  },
  {
   "cell_type": "code",
   "execution_count": 11,
   "metadata": {},
   "outputs": [
    {
     "name": "stdout",
     "output_type": "stream",
     "text": [
      "[1 0 0 0 0 0 0 0 0 0]\n",
      "[0 1 0 0 0 0 0 0 0 0]\n",
      "[0 0 1 0 0 0 0 0 0 0]\n",
      "[0 0 0 1 0 0 0 0 0 0]\n",
      "[0 0 0 0 1 0 0 0 0 0]\n",
      "(0, 0, 0, 0, 0, 0, 0, 0, 0, 0, 0, 0, 0, 0, 0, 1)\n"
     ]
    }
   ],
   "source": [
    "M0 = block_matrix(1, 2, [identity_matrix(F, 5), Matrix(F,5)], subdivide=False)\n",
    "M0.set_immutable()\n",
    "print(M0)\n",
    "print(spinor_coordinate(M0))\n",
    "assert M0.echelon_form() == M0"
   ]
  },
  {
   "cell_type": "markdown",
   "metadata": {},
   "source": [
    "Construct the orbit of $M_0$ under the action of (conjugated) $\\mathrm{SO}(10)$."
   ]
  },
  {
   "cell_type": "code",
   "execution_count": 12,
   "metadata": {},
   "outputs": [],
   "source": [
    "def apply_group_elem(g, M, set_immutable=False):\n",
    "    M1 = (M*~g).echelon_form()\n",
    "    if set_immutable:\n",
    "        M1.set_immutable()\n",
    "    return M1"
   ]
  },
  {
   "cell_type": "code",
   "execution_count": 13,
   "metadata": {},
   "outputs": [
    {
     "name": "stdout",
     "output_type": "stream",
     "text": [
      "2295\n"
     ]
    }
   ],
   "source": [
    "vertices = []\n",
    "new_vertices = [M0]\n",
    "while new_vertices:\n",
    "    M = new_vertices.pop()\n",
    "    vertices.append(M)\n",
    "    for g in G1.gens():\n",
    "        M1 = apply_group_elem(g, M, set_immutable=True)\n",
    "        if M1 not in vertices + new_vertices:\n",
    "            new_vertices.append(M1)\n",
    "print(len(vertices))"
   ]
  },
  {
   "cell_type": "markdown",
   "metadata": {},
   "source": [
    "Compute spinor coordinates of these spaces (with verification)."
   ]
  },
  {
   "cell_type": "code",
   "execution_count": 14,
   "metadata": {},
   "outputs": [],
   "source": [
    "S = vertices\n",
    "coords = {M: spinor_coordinate(M) for M in S}"
   ]
  },
  {
   "cell_type": "markdown",
   "metadata": {},
   "source": [
    "## Computation of orbits"
   ]
  },
  {
   "cell_type": "markdown",
   "metadata": {},
   "source": [
    "Forbid orbits of Lagrangian subspaces according to the following criteria:  \n",
    "- No two can have intersection of dimension $\\neq 1$.\n",
    "- No three can have coplanar spinor coordinates.\n",
    "- No five or six can have spinor coordinates whose linear span has positive-dimensional intersection with $OG$.\n",
    "- No six can have spinor cordinates whose linear span meets $OG$ in $> 7$ rational points."
   ]
  },
  {
   "cell_type": "code",
   "execution_count": 15,
   "metadata": {},
   "outputs": [],
   "source": [
    "def forbid(mats, easy=False, coords=coords):\n",
    "    if len(mats) == 2:\n",
    "        vecs = [M.row_space() for M in mats]\n",
    "        if vecs[0].intersection(vecs[1]).dimension() != 1:\n",
    "            return True\n",
    "    tmp = [coords[M] for M in mats]\n",
    "    if len(mats) == 3:\n",
    "        if Matrix(tmp).rank() < 3:\n",
    "            return True\n",
    "    if len(mats) in [5,6]:\n",
    "        J = linear_section(tmp)\n",
    "        if J.dimension() > 1:\n",
    "            return True\n",
    "    if easy:\n",
    "        return False\n",
    "    if len(mats) == 6:\n",
    "        tmp2 = [(J2.radical().hilbert_polynomial(), J2.hilbert_polynomial()) \\\n",
    "             for J2 in J.primary_decomposition()]\n",
    "        if sum(1 for (a,b) in tmp2 if a==1) >= 8:\n",
    "            return True\n",
    "    return False"
   ]
  },
  {
   "cell_type": "markdown",
   "metadata": {},
   "source": [
    "Compute an orbit lookup tree of depth 6."
   ]
  },
  {
   "cell_type": "code",
   "execution_count": 16,
   "metadata": {},
   "outputs": [],
   "source": [
    "def optimized_rep(g):\n",
    "    return g.matrix()"
   ]
  },
  {
   "cell_type": "code",
   "execution_count": 17,
   "metadata": {},
   "outputs": [],
   "source": [
    "methods = {'apply_group_elem': apply_group_elem,\n",
    "           'stabilizer': vec_stab,\n",
    "           'optimized_rep': optimized_rep,\n",
    "           'forbid': forbid}"
   ]
  },
  {
   "cell_type": "code",
   "execution_count": 18,
   "metadata": {},
   "outputs": [
    {
     "name": "stdout",
     "output_type": "stream",
     "text": [
      "A\n",
      "A\n",
      "A\n",
      "A\n",
      "A\n"
     ]
    }
   ],
   "source": [
    "tree = build_orbit_tree(G1, vertices, 6, methods, verbose=False)"
   ]
  },
  {
   "cell_type": "markdown",
   "metadata": {},
   "source": [
    "Write spinor coordinates of representative 6-tuples to a file."
   ]
  },
  {
   "cell_type": "code",
   "execution_count": 19,
   "metadata": {},
   "outputs": [],
   "source": [
    "l = [[coords[M] for M in mats] for mats in green_nodes(tree, 6)]\n",
    "with open(\"6-tuples.txt\", \"w\") as f:\n",
    "    f.write(str(l))"
   ]
  },
  {
   "cell_type": "code",
   "execution_count": 20,
   "metadata": {},
   "outputs": [
    {
     "data": {
      "text/plain": [
       "494"
      ]
     },
     "execution_count": 20,
     "metadata": {},
     "output_type": "execute_result"
    }
   ],
   "source": [
    "len(l)"
   ]
  },
  {
   "cell_type": "code",
   "execution_count": 21,
   "metadata": {},
   "outputs": [
    {
     "name": "stdout",
     "output_type": "stream",
     "text": [
      "This stage complete!\n"
     ]
    }
   ],
   "source": [
    "print(\"This stage complete!\")"
   ]
  }
 ],
 "metadata": {
  "kernelspec": {
   "display_name": "SageMath 9.4",
   "language": "sage",
   "name": "sagemath"
  },
  "language_info": {
   "codemirror_mode": {
    "name": "ipython",
    "version": 3
   },
   "file_extension": ".py",
   "mimetype": "text/x-python",
   "name": "python",
   "nbconvert_exporter": "python",
   "pygments_lexer": "ipython3",
   "version": "3.9.5"
  }
 },
 "nbformat": 4,
 "nbformat_minor": 4
}
