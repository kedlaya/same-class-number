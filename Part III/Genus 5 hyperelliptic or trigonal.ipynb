{
 "cells": [
  {
   "cell_type": "markdown",
   "metadata": {},
   "source": [
    "This notebook is associated with the paper \"The relative class number one problem for function fields, III\" by K.S. Kedlaya. It runs in SageMath (tested using version 9.4) and depends on Magma (tested using version\n",
    "2.25-5).\n",
    "\n",
    "In this notebook, we identify hyperelliptic and trigonal curves of genus 5 which are candidates for the curve $C$ in a purely geometric quadratic extension $F'/F$ of relative class number 1. Allow 30 minutes for completion."
   ]
  },
  {
   "cell_type": "code",
   "execution_count": 5,
   "metadata": {},
   "outputs": [],
   "source": [
    "load(\"preamble.sage\")"
   ]
  },
  {
   "cell_type": "markdown",
   "metadata": {},
   "source": [
    "Read Dragutinovic's data on hyperelliptic curves, then compare their Frobenius polynomials to `targets5`."
   ]
  },
  {
   "cell_type": "code",
   "execution_count": 6,
   "metadata": {},
   "outputs": [
    {
     "data": {
      "text/plain": [
       "1070"
      ]
     },
     "execution_count": 6,
     "metadata": {},
     "output_type": "execute_result"
    }
   ],
   "source": [
    "F = GF(2)\n",
    "P.<x> = F[]\n",
    "with open(\"../Shared/HyperellipticCurvesData.txt\", \"r\") as f:\n",
    "    s = f.read()\n",
    "    l = sage_eval(s, locals={'x':x})\n",
    "len(l)"
   ]
  },
  {
   "cell_type": "code",
   "execution_count": 9,
   "metadata": {},
   "outputs": [
    {
     "data": {
      "text/plain": [
       "32"
      ]
     },
     "execution_count": 9,
     "metadata": {},
     "output_type": "execute_result"
    }
   ],
   "source": [
    "l2 = []\n",
    "Q.<T> = QQ[]\n",
    "for (h, f) in l:\n",
    "    C = HyperellipticCurve(f,h)\n",
    "    assert C.genus() == 5\n",
    "    frob = C.frobenius_polynomial()(T)\n",
    "    ct = tuple(point_count_from_weil_poly(frob, 5))\n",
    "    if ct in targets5:\n",
    "        l2.append(magma(C))\n",
    "len(l2)"
   ]
  },
  {
   "cell_type": "markdown",
   "metadata": {},
   "source": [
    "Search for extensions of relative class number 1."
   ]
  },
  {
   "cell_type": "code",
   "execution_count": 11,
   "metadata": {},
   "outputs": [
    {
     "data": {
      "text/plain": [
       "3"
      ]
     },
     "execution_count": 11,
     "metadata": {},
     "output_type": "execute_result"
    }
   ],
   "source": [
    "l3a = []\n",
    "for C in l2:\n",
    "    F0 = C.FunctionField()\n",
    "    F1 = F0.AlgorithmicFunctionField()\n",
    "    l3a = l3a + match_weil_poly(F1, 2)\n",
    "len(l3a)"
   ]
  },
  {
   "cell_type": "code",
   "execution_count": 12,
   "metadata": {},
   "outputs": [
    {
     "name": "stdout",
     "output_type": "stream",
     "text": [
      "(4, 8, 16, 32, 24) Algebraic function field defined over Univariate rational function field over GF(2) by\n",
      "$.1^2 + x^3*$.1 + x^11 + x^9 + x^5 + x^3 + x^2 + x\n",
      "(5, 9, 8, 33, 35) Algebraic function field defined over Univariate rational function field over GF(2) by\n",
      "$.1^2 + (x^3 + x + 1)*$.1 + x^12 + x^11 + x^10 + x^7 + x^5 + x^3\n",
      "(6, 10, 12, 34, 6) Algebraic function field defined over Univariate rational function field over GF(2) by\n",
      "$.1^2 + (x^6 + x^5 + x^4 + x^3 + x^2 + x + 1)*$.1 + x^10 + x^6 + x^4 + x^3\n"
     ]
    }
   ],
   "source": [
    "for (F1, F2) in l3a:\n",
    "    t = tuple(F1.NumberOfPlacesOfDegreeOneECF(i) for i in range(1,6))\n",
    "    print(t, F1.RationalExtensionRepresentation())"
   ]
  },
  {
   "cell_type": "markdown",
   "metadata": {},
   "source": [
    "Read Dragutinovic's data on trigonal curves, then compare their Frobenius polynomials to `targets5`."
   ]
  },
  {
   "cell_type": "code",
   "execution_count": 13,
   "metadata": {},
   "outputs": [
    {
     "data": {
      "text/plain": [
       "2854"
      ]
     },
     "execution_count": 13,
     "metadata": {},
     "output_type": "execute_result"
    }
   ],
   "source": [
    "with open(\"../Shared/TrigonalCurvesWithAutomorphisms.txt\", \"r\") as f:\n",
    "    s = f.read()\n",
    "    l = sage_eval(s)\n",
    "len(l)"
   ]
  },
  {
   "cell_type": "code",
   "execution_count": 14,
   "metadata": {},
   "outputs": [
    {
     "data": {
      "text/plain": [
       "21"
      ]
     },
     "execution_count": 14,
     "metadata": {},
     "output_type": "execute_result"
    }
   ],
   "source": [
    "P.<x0,x1,x2> = F[]\n",
    "monos5 = [prod(t) for t in itertools.combinations_with_replacement(P.gens(), 5)]\n",
    "len(monos5)"
   ]
  },
  {
   "cell_type": "code",
   "execution_count": 15,
   "metadata": {},
   "outputs": [],
   "source": [
    "proj = magma.ProjectiveSpace(P)\n",
    "l2 = []\n",
    "for (v, _) in l:\n",
    "    gen = sum(v[i]*monos5[i] for i in range(len(monos5)))\n",
    "    X = proj.Scheme([gen])\n",
    "    assert X.Dimension() == 1\n",
    "    C = X.Curve()\n",
    "    assert C.Genus() == 5\n",
    "    ct = tuple(Integer(C.NumberOfPlacesOfDegreeOneECF(i)) for i in range(1, 6))\n",
    "    if ct in targets5:\n",
    "        l2.append(C)"
   ]
  },
  {
   "cell_type": "code",
   "execution_count": 16,
   "metadata": {},
   "outputs": [
    {
     "data": {
      "text/plain": [
       "73"
      ]
     },
     "execution_count": 16,
     "metadata": {},
     "output_type": "execute_result"
    }
   ],
   "source": [
    "len(l2)"
   ]
  },
  {
   "cell_type": "markdown",
   "metadata": {},
   "source": [
    "Search for extensions of relative class number 1."
   ]
  },
  {
   "cell_type": "code",
   "execution_count": null,
   "metadata": {},
   "outputs": [],
   "source": [
    "l3b = []\n",
    "for C in l2:\n",
    "    F0 = C.FunctionField()\n",
    "    F1 = F0.AlgorithmicFunctionField()\n",
    "    l3b = l3b + match_weil_poly(F1, 2)\n",
    "len(l3b)"
   ]
  },
  {
   "cell_type": "markdown",
   "metadata": {},
   "source": [
    "Finish up."
   ]
  },
  {
   "cell_type": "code",
   "execution_count": null,
   "metadata": {},
   "outputs": [],
   "source": [
    "closeout(l3b, genus=5)"
   ]
  }
 ],
 "metadata": {
  "kernelspec": {
   "display_name": "SageMath 9.4",
   "language": "sage",
   "name": "sagemath"
  },
  "language_info": {
   "codemirror_mode": {
    "name": "ipython",
    "version": 3
   },
   "file_extension": ".py",
   "mimetype": "text/x-python",
   "name": "python",
   "nbconvert_exporter": "python",
   "pygments_lexer": "ipython3",
   "version": "3.9.5"
  }
 },
 "nbformat": 4,
 "nbformat_minor": 4
}
