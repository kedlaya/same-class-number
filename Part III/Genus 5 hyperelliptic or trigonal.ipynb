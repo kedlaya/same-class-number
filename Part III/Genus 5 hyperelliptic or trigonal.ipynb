{
 "cells": [
  {
   "cell_type": "markdown",
   "metadata": {},
   "source": [
    "This notebook is associated with the paper \"The relative class number one problem for function fields, III\" by K.S. Kedlaya. It runs in SageMath (tested using version 9.4) and depends on Magma (tested using version\n",
    "2.25-5).\n",
    "\n",
    "In this notebook, we identify hyperelliptic and trigonal curves of genus 5 which are candidates for the curve $C$ in a purely geometric quadratic extension $F'/F$ of relative class number 1. Allow 30 minutes for completion."
   ]
  },
  {
   "cell_type": "code",
   "execution_count": 1,
   "metadata": {},
   "outputs": [],
   "source": [
    "load(\"preamble.sage\")"
   ]
  },
  {
   "cell_type": "markdown",
   "metadata": {},
   "source": [
    "Read Dragutinovic's data on hyperelliptic curves, then compare their Frobenius polynomials to `targets5`."
   ]
  },
  {
   "cell_type": "code",
   "execution_count": 2,
   "metadata": {},
   "outputs": [
    {
     "data": {
      "text/plain": [
       "1070"
      ]
     },
     "execution_count": 2,
     "metadata": {},
     "output_type": "execute_result"
    }
   ],
   "source": [
    "F = GF(2)\n",
    "P.<x> = F[]\n",
    "with open(\"../Shared/HyperellipticCurvesData.txt\", \"r\") as f:\n",
    "    s = f.read()\n",
    "    l = sage_eval(s, locals={'x':x})\n",
    "len(l)"
   ]
  },
  {
   "cell_type": "code",
   "execution_count": 3,
   "metadata": {},
   "outputs": [
    {
     "data": {
      "text/plain": [
       "32"
      ]
     },
     "execution_count": 3,
     "metadata": {},
     "output_type": "execute_result"
    }
   ],
   "source": [
    "l2a = []\n",
    "Q.<T> = QQ[]\n",
    "for (h, f) in l:\n",
    "    C = HyperellipticCurve(f,h)\n",
    "    assert C.genus() == 5\n",
    "    frob = C.frobenius_polynomial()(T)\n",
    "    ct = tuple(point_count_from_weil_poly(frob, 5))\n",
    "    if ct in targets5:\n",
    "        l2a.append(magma(C))\n",
    "len(l2a)"
   ]
  },
  {
   "cell_type": "markdown",
   "metadata": {},
   "source": [
    "Finish this case."
   ]
  },
  {
   "cell_type": "code",
   "execution_count": 4,
   "metadata": {},
   "outputs": [
    {
     "name": "stdout",
     "output_type": "stream",
     "text": [
      "Number of curves found: 32\n",
      "Number of covers found: 3\n",
      "(4, 8, 16, 32, 24) Algebraic function field defined over Univariate rational function field over GF(2) by\n",
      "$.1^2 + x^3*$.1 + x^11 + x^9 + x^5 + x^3 + x^2 + x\n",
      "(5, 9, 8, 33, 35) Algebraic function field defined over Univariate rational function field over GF(2) by\n",
      "$.1^2 + (x^3 + x + 1)*$.1 + x^12 + x^11 + x^10 + x^7 + x^5 + x^3\n",
      "(6, 10, 12, 34, 6) Algebraic function field defined over Univariate rational function field over GF(2) by\n",
      "$.1^2 + (x^6 + x^5 + x^4 + x^3 + x^2 + x + 1)*$.1 + x^10 + x^6 + x^4 + x^3\n",
      "All covers recorded!\n",
      "Total time: {} seconds 68.84398698806763\n"
     ]
    }
   ],
   "source": [
    "closeout(l2a)"
   ]
  },
  {
   "cell_type": "markdown",
   "metadata": {},
   "source": [
    "Read Dragutinovic's data on trigonal curves, then compare their Frobenius polynomials to `targets5`."
   ]
  },
  {
   "cell_type": "code",
   "execution_count": 5,
   "metadata": {},
   "outputs": [
    {
     "data": {
      "text/plain": [
       "2854"
      ]
     },
     "execution_count": 5,
     "metadata": {},
     "output_type": "execute_result"
    }
   ],
   "source": [
    "with open(\"../Shared/TrigonalCurvesWithAutomorphisms.txt\", \"r\") as f:\n",
    "    s = f.read()\n",
    "    l = sage_eval(s)\n",
    "len(l)"
   ]
  },
  {
   "cell_type": "code",
   "execution_count": 6,
   "metadata": {},
   "outputs": [
    {
     "data": {
      "text/plain": [
       "21"
      ]
     },
     "execution_count": 6,
     "metadata": {},
     "output_type": "execute_result"
    }
   ],
   "source": [
    "P.<x0,x1,x2> = F[]\n",
    "monos5 = [prod(t) for t in itertools.combinations_with_replacement(P.gens(), 5)]\n",
    "len(monos5)"
   ]
  },
  {
   "cell_type": "code",
   "execution_count": 7,
   "metadata": {},
   "outputs": [
    {
     "data": {
      "text/plain": [
       "73"
      ]
     },
     "execution_count": 7,
     "metadata": {},
     "output_type": "execute_result"
    }
   ],
   "source": [
    "proj = magma.ProjectiveSpace(P)\n",
    "l2b = []\n",
    "for (v, _) in l:\n",
    "    gen = sum(v[i]*monos5[i] for i in range(len(monos5)))\n",
    "    X = proj.Scheme([gen])\n",
    "    assert X.Dimension() == 1\n",
    "    C = X.Curve()\n",
    "    assert C.Genus() == 5\n",
    "    ct = tuple(Integer(C.NumberOfPlacesOfDegreeOneECF(i)) for i in range(1, 6))\n",
    "    if ct in targets5:\n",
    "        l2b.append(C)\n",
    "len(l2b)"
   ]
  },
  {
   "cell_type": "markdown",
   "metadata": {},
   "source": [
    "Finish this case."
   ]
  },
  {
   "cell_type": "code",
   "execution_count": 8,
   "metadata": {},
   "outputs": [
    {
     "name": "stdout",
     "output_type": "stream",
     "text": [
      "Number of curves found: 73\n",
      "No covers found in this case!\n",
      "Total time: {} seconds 1797.0514662265778\n"
     ]
    }
   ],
   "source": [
    "closeout(l2b)"
   ]
  }
 ],
 "metadata": {
  "kernelspec": {
   "display_name": "SageMath 9.4",
   "language": "sage",
   "name": "sagemath"
  },
  "language_info": {
   "codemirror_mode": {
    "name": "ipython",
    "version": 3
   },
   "file_extension": ".py",
   "mimetype": "text/x-python",
   "name": "python",
   "nbconvert_exporter": "python",
   "pygments_lexer": "ipython3",
   "version": "3.9.5"
  }
 },
 "nbformat": 4,
 "nbformat_minor": 4
}
