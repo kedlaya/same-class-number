{
 "cells": [
  {
   "cell_type": "markdown",
   "metadata": {},
   "source": [
    "Insert explanatory text here."
   ]
  },
  {
   "cell_type": "code",
   "execution_count": 1,
   "metadata": {},
   "outputs": [],
   "source": [
    "load(\"../Shared/weil_poly_utils.sage\")\n",
    "load(\"../Shared/cyclic_covers.sage\")"
   ]
  },
  {
   "cell_type": "markdown",
   "metadata": {},
   "source": [
    "Tabulate the possible point counts for the curve corresponding to $F$."
   ]
  },
  {
   "cell_type": "code",
   "execution_count": 2,
   "metadata": {},
   "outputs": [],
   "source": [
    "import pandas"
   ]
  },
  {
   "cell_type": "code",
   "execution_count": 3,
   "metadata": {},
   "outputs": [
    {
     "name": "stdout",
     "output_type": "stream",
     "text": [
      "['Unnamed: 0', 'Unnamed: 0.1', 'Unnamed: 0.1.1', 'd', 'g', \"g'\", 'Label of J(C)', '#J(C)(F_2)', '#J(C)(F_4)', 'Counts of C', \"Counts of C'\", 'Cyclic']\n"
     ]
    }
   ],
   "source": [
    "df = pandas.read_excel('../Shared/polys.xlsx')\n",
    "assert 'Cyclic' in df\n",
    "print(list(df))"
   ]
  },
  {
   "cell_type": "code",
   "execution_count": 4,
   "metadata": {},
   "outputs": [],
   "source": [
    "candidates = {}\n",
    "for i in range(len(df)):\n",
    "    r = df.iloc[i]\n",
    "    d = r[\"d\"]\n",
    "    g = r[\"g\"]\n",
    "    g1 = r[\"g'\"]\n",
    "    if (d,g,g1) not in candidates:\n",
    "        candidates[d,g,g1] = []\n",
    "    counts1 = tuple(eval(r[\"Counts of C\"]))\n",
    "    candidates[d,g,g1].append(counts1)"
   ]
  },
  {
   "cell_type": "code",
   "execution_count": 5,
   "metadata": {},
   "outputs": [],
   "source": [
    "targets = [t[:5] for t in candidates[2, 5, 9]]"
   ]
  },
  {
   "cell_type": "markdown",
   "metadata": {},
   "source": [
    "Read Dragutinovic's data on hyperelliptic curves, then compare their Frobenius polynomials to `targets`."
   ]
  },
  {
   "cell_type": "code",
   "execution_count": 6,
   "metadata": {},
   "outputs": [
    {
     "data": {
      "text/plain": [
       "1070"
      ]
     },
     "execution_count": 6,
     "metadata": {},
     "output_type": "execute_result"
    }
   ],
   "source": [
    "F = GF(2)\n",
    "P.<x> = F[]\n",
    "with open(\"HyperellipticCurvesData.txt\", \"r\") as f:\n",
    "    s = f.read()\n",
    "    l = sage_eval(s, locals={'x':x})\n",
    "len(l)"
   ]
  },
  {
   "cell_type": "code",
   "execution_count": 7,
   "metadata": {},
   "outputs": [],
   "source": [
    "Q.<T> = QQ[]\n",
    "for (h, f) in l:\n",
    "    C = HyperellipticCurve(f,h)\n",
    "    assert C.genus() == 5\n",
    "    frob = C.frobenius_polynomial()(T)\n",
    "    ct = point_count_from_weil_poly(frob, 5)\n",
    "    assert ct not in targets"
   ]
  },
  {
   "cell_type": "markdown",
   "metadata": {},
   "source": [
    "Read Dragutinovic's data on trigonal curves, then compare their Frobenius polynomials to `targets`."
   ]
  },
  {
   "cell_type": "code",
   "execution_count": 8,
   "metadata": {},
   "outputs": [
    {
     "data": {
      "text/plain": [
       "2854"
      ]
     },
     "execution_count": 8,
     "metadata": {},
     "output_type": "execute_result"
    }
   ],
   "source": [
    "with open(\"TrigonalCurvesWithAutomorphisms.txt\", \"r\") as f:\n",
    "    s = f.read()\n",
    "    l = sage_eval(s)\n",
    "len(l)"
   ]
  },
  {
   "cell_type": "code",
   "execution_count": 9,
   "metadata": {},
   "outputs": [
    {
     "data": {
      "text/plain": [
       "21"
      ]
     },
     "execution_count": 9,
     "metadata": {},
     "output_type": "execute_result"
    }
   ],
   "source": [
    "P.<x0,x1,x2> = F[]\n",
    "monos5 = [prod(t) for t in itertools.combinations_with_replacement(P.gens(), 5)]\n",
    "len(monos5)"
   ]
  },
  {
   "cell_type": "code",
   "execution_count": 10,
   "metadata": {},
   "outputs": [],
   "source": [
    "proj = magma.ProjectiveSpace(P)\n",
    "l2 = []\n",
    "for (v, _) in l:\n",
    "    gen = sum(v[i]*monos5[i] for i in range(len(monos5)))\n",
    "    X = proj.Scheme([gen])\n",
    "    assert X.Dimension() == 1\n",
    "    C = X.Curve()\n",
    "    assert C.Genus() == 5\n",
    "    ct = tuple(Integer(C.NumberOfPlacesOfDegreeOneECF(i)) for i in range(1, 6))\n",
    "    if ct in targets:\n",
    "        l2.append(C)"
   ]
  },
  {
   "cell_type": "code",
   "execution_count": 11,
   "metadata": {},
   "outputs": [
    {
     "data": {
      "text/plain": [
       "73"
      ]
     },
     "execution_count": 11,
     "metadata": {},
     "output_type": "execute_result"
    }
   ],
   "source": [
    "len(l2)"
   ]
  },
  {
   "cell_type": "markdown",
   "metadata": {},
   "source": [
    "Compute cyclic covers of the resulting curves. This requires a conversion between Magma's category of function fields associated to schemes and Magma's category of algebraic function fields (i.e., finite extensions of a univariate rational function field)."
   ]
  },
  {
   "cell_type": "code",
   "execution_count": 12,
   "metadata": {},
   "outputs": [],
   "source": [
    "l3 = []\n",
    "for C in l2:\n",
    "    F0 = C.FunctionField()\n",
    "    F1 = F0.AlgorithmicFunctionField()\n",
    "    l3 = l3 + match_weil_poly(F1, 2)"
   ]
  },
  {
   "cell_type": "code",
   "execution_count": 13,
   "metadata": {},
   "outputs": [],
   "source": [
    "assert not l3"
   ]
  },
  {
   "cell_type": "code",
   "execution_count": 14,
   "metadata": {},
   "outputs": [
    {
     "name": "stdout",
     "output_type": "stream",
     "text": [
      "All tests completed!\n"
     ]
    }
   ],
   "source": [
    "print(\"All tests completed!\")"
   ]
  }
 ],
 "metadata": {
  "kernelspec": {
   "display_name": "SageMath 9.4",
   "language": "sage",
   "name": "sagemath"
  },
  "language_info": {
   "codemirror_mode": {
    "name": "ipython",
    "version": 3
   },
   "file_extension": ".py",
   "mimetype": "text/x-python",
   "name": "python",
   "nbconvert_exporter": "python",
   "pygments_lexer": "ipython3",
   "version": "3.9.5"
  }
 },
 "nbformat": 4,
 "nbformat_minor": 4
}
