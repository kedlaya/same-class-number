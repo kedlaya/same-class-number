{
 "cells": [
  {
   "cell_type": "markdown",
   "metadata": {},
   "source": [
    "Insert explanatory text here. Insert timing here."
   ]
  },
  {
   "cell_type": "code",
   "execution_count": 1,
   "metadata": {},
   "outputs": [],
   "source": [
    "load(\"preamble.sage\")"
   ]
  },
  {
   "cell_type": "markdown",
   "metadata": {},
   "source": [
    "Construct the set of $\\mathbb{F}_2$-rational points of a specific $(2,1)$-hypersurface $X_1$ in $\\mathbb{P}^1 \\times \\mathbb{P}^2$."
   ]
  },
  {
   "cell_type": "code",
   "execution_count": 2,
   "metadata": {},
   "outputs": [],
   "source": [
    "F = GF(2)\n",
    "P.<x0,x1,y0,y1,y2> = F[]\n",
    "gen1 = x0^2*y0 + x0*x1*y1 + x1^2*y2"
   ]
  },
  {
   "cell_type": "code",
   "execution_count": 3,
   "metadata": {},
   "outputs": [
    {
     "data": {
      "text/plain": [
       "9"
      ]
     },
     "execution_count": 3,
     "metadata": {},
     "output_type": "execute_result"
    }
   ],
   "source": [
    "S1 = [vector(F,t) for t in itertools.product(F, repeat=2) if not all(i==0 for i in t)]\n",
    "S2 = [vector(F,t) for t in itertools.product(F, repeat=3) if not all(i==0 for i in t)]\n",
    "for v in S1 + S2:\n",
    "    v.set_immutable()\n",
    "S0 = list(itertools.product(S1, S2))\n",
    "S = [x for x in S0 if gen1(*x[0], *x[1]) == 0]\n",
    "len(S)"
   ]
  },
  {
   "cell_type": "markdown",
   "metadata": {},
   "source": [
    "Construct the sets of $\\mathbb{F}_4$-points and $\\mathbb{F}_8$-points of $X_1$."
   ]
  },
  {
   "cell_type": "code",
   "execution_count": 4,
   "metadata": {},
   "outputs": [
    {
     "data": {
      "text/plain": [
       "25"
      ]
     },
     "execution_count": 4,
     "metadata": {},
     "output_type": "execute_result"
    }
   ],
   "source": [
    "F4 = GF(4)\n",
    "S14 = [vector(F4,t) for t in itertools.product(F4, repeat=2) if not all(i==0 for i in t) and [i for i in t if i != 0][0] == 1]\n",
    "S24 = [vector(F4,t) for t in itertools.product(F4, repeat=3) if not all(i==0 for i in t) and [i for i in t if i != 0][0] == 1]\n",
    "for v in S14 + S24:\n",
    "    v.set_immutable()\n",
    "S04 = list(itertools.product(S14, S24))\n",
    "S4 = [x for x in S04 if gen1(*x[0], *x[1]) == 0]\n",
    "len(S4)"
   ]
  },
  {
   "cell_type": "code",
   "execution_count": 5,
   "metadata": {},
   "outputs": [
    {
     "data": {
      "text/plain": [
       "81"
      ]
     },
     "execution_count": 5,
     "metadata": {},
     "output_type": "execute_result"
    }
   ],
   "source": [
    "F8 = GF(8)\n",
    "S18 = [vector(F8,t) for t in itertools.product(F8, repeat=2) if not all(i==0 for i in t) and [i for i in t if i != 0][0] == 1]\n",
    "S28 = [vector(F8,t) for t in itertools.product(F8, repeat=3) if not all(i==0 for i in t) and [i for i in t if i != 0][0] == 1]\n",
    "for v in S18 + S28:\n",
    "    v.set_immutable()\n",
    "S08 = list(itertools.product(S18, S28))\n",
    "S8 = [x for x in S08 if gen1(*x[0], *x[1]) == 0]\n",
    "len(S8)"
   ]
  },
  {
   "cell_type": "markdown",
   "metadata": {},
   "source": [
    "Construct a subgroup $G$ of $\\mathrm{GL}(2, \\mathbb{F}_2) \\times \\mathrm{GL}(3, \\mathbb{F}_2)$ fixing $X_1$."
   ]
  },
  {
   "cell_type": "code",
   "execution_count": 6,
   "metadata": {},
   "outputs": [
    {
     "data": {
      "text/plain": [
       "6"
      ]
     },
     "execution_count": 6,
     "metadata": {},
     "output_type": "execute_result"
    }
   ],
   "source": [
    "l0 = [Matrix(F,[[1,1,0,0,0],[0,1,0,0,0],[0,0,1,0,0],[0,0,0,1,0],[0,0,1,1,1]]),\n",
    "      Matrix(F,[[0,1,0,0,0],[1,0,0,0,0],[0,0,0,0,1],[0,0,0,1,0],[0,0,1,0,0]])]\n",
    "G0 = GL(5,F).subgroup(l0)\n",
    "G0.order()"
   ]
  },
  {
   "cell_type": "markdown",
   "metadata": {},
   "source": [
    "Use an orbit lookup tree to find $G$-orbit representatives for 6-tuples of $\\mathbb{F}_2$-points in $X_1$."
   ]
  },
  {
   "cell_type": "code",
   "execution_count": 7,
   "metadata": {},
   "outputs": [],
   "source": [
    "def apply_group_elem(g, x):\n",
    "    g1 = g.submatrix(nrows=2,ncols=2)\n",
    "    g2 = g.submatrix(row=2,col=2)\n",
    "    v1 = g1*x[0]\n",
    "    v2 = g2*x[1]\n",
    "    v1.set_immutable()\n",
    "    v2.set_immutable()\n",
    "    return (v1, v2)"
   ]
  },
  {
   "cell_type": "code",
   "execution_count": 8,
   "metadata": {},
   "outputs": [],
   "source": [
    "assert all(apply_group_elem(g, x) in S for g in l0[:1] for x in S)"
   ]
  },
  {
   "cell_type": "code",
   "execution_count": 9,
   "metadata": {},
   "outputs": [],
   "source": [
    "def stabilizer(x):\n",
    "    G1 = vec_stab(Matrix(F, x[0]), transpose=True)\n",
    "    G2 = vec_stab(Matrix(F, x[1]), transpose=True)\n",
    "    l0 = [block_matrix(2,2,[g.matrix(),0,0,identity_matrix(3)], subdivide=False) for g in G1.gens()] + \\\n",
    "        [block_matrix(2,2,[identity_matrix(2),0,0,g.matrix()], subdivide=False) for g in G2.gens()]\n",
    "    return GL(5, F).subgroup(l0)"
   ]
  },
  {
   "cell_type": "code",
   "execution_count": 10,
   "metadata": {},
   "outputs": [],
   "source": [
    "def optimized_rep(g):\n",
    "    return g.matrix()"
   ]
  },
  {
   "cell_type": "code",
   "execution_count": 11,
   "metadata": {},
   "outputs": [],
   "source": [
    "methods = {'apply_group_elem': apply_group_elem,\n",
    "           'stabilizer': stabilizer,\n",
    "           'optimized_rep': optimized_rep}\n",
    "tree = build_orbit_tree(G0, S, 6, methods, verbose=False)"
   ]
  },
  {
   "cell_type": "code",
   "execution_count": 12,
   "metadata": {},
   "outputs": [
    {
     "data": {
      "text/plain": [
       "[24, 24, 17]"
      ]
     },
     "execution_count": 12,
     "metadata": {},
     "output_type": "execute_result"
    }
   ],
   "source": [
    "[len(green_nodes(tree, s)) for s in range(4, 7)]"
   ]
  },
  {
   "cell_type": "markdown",
   "metadata": {},
   "source": [
    "For $k=4,5,6$, for each $k$-tuple of $\\mathbb{F}_2$-rational points of $X_1$, find $(2,3)$-surfaces $X_2$ such that $X_1 \\cap X_2$ contains precisely the chosen set of $\\mathbb{F}_2$-points. We also enforce the desired point counts over $\\mathbb{F}_4$."
   ]
  },
  {
   "cell_type": "code",
   "execution_count": 13,
   "metadata": {},
   "outputs": [
    {
     "data": {
      "text/plain": [
       "30"
      ]
     },
     "execution_count": 13,
     "metadata": {},
     "output_type": "execute_result"
    }
   ],
   "source": [
    "monos02 = [prod(x) for x in itertools.combinations_with_replacement([y0,y1,y2], 2)]\n",
    "#monos22 = [prod(x) for x in itertools.product([x0^2,x0*x1,x1^2],[y0^2,y0*y1,y1^2,y0*y2,y1*y2,y2^2])]\n",
    "monos23 = [prod(x) for x in itertools.product([prod(y) for y in itertools.combinations_with_replacement([x0,x1],2)],\n",
    "                                              [prod(y) for y in itertools.combinations_with_replacement([y0,y1,y2],3)])]\n",
    "#monos43 = [prod(x) for x in itertools.product([prod(y) for y in itertools.combinations_with_replacement([x0,x1],4)],\n",
    "#                                              [prod(y) for y in itertools.combinations_with_replacement([y0,y1,y2],3)])]\n",
    "len(monos23)"
   ]
  },
  {
   "cell_type": "code",
   "execution_count": 14,
   "metadata": {},
   "outputs": [
    {
     "data": {
      "text/plain": [
       "6"
      ]
     },
     "execution_count": 14,
     "metadata": {},
     "output_type": "execute_result"
    }
   ],
   "source": [
    "def redundancy(x, F=F, monos02=monos02, monos23=monos23):\n",
    "    return [vector(F, ((gen1*mu).coefficient(mu2) for mu2 in monos23)) for mu in monos02]\n",
    "\n",
    "len(redundancy(x))"
   ]
  },
  {
   "cell_type": "code",
   "execution_count": 15,
   "metadata": {},
   "outputs": [],
   "source": [
    "coords23 = {x: vector(F, (mu(*x[0], *x[1]) for mu in monos23)) for x in S}"
   ]
  },
  {
   "cell_type": "code",
   "execution_count": null,
   "metadata": {},
   "outputs": [],
   "source": [
    "perp = Matrix([coords23[x] for x in S])\n",
    "curves = defaultdict(list)\n",
    "V = VectorSpace(F, len(monos23))\n",
    "tmp2 = [t[:2] for t in targets6]\n",
    "tmp3 = [t[:3] for t in targets6]\n",
    "for s in range(4,7):\n",
    "    for vecs in green_nodes(tree, s):\n",
    "#        print(s, vecs)\n",
    "        target = vector(F, (0 if x in vecs else 1 for x in S))\n",
    "        for v2 in solve_right_iterator(perp, target, redundancy, None):\n",
    "            gen2 = sum(v2[i]*monos23[i] for i in range(len(monos23)))\n",
    "            s2 = sum(1 for x in S4 if gen2(*x[0], *x[1]) == 0)\n",
    "            if (s,s2) in tmp2:\n",
    "                s3 = sum(1 for x in S8 if gen2(*x[0], *x[1]) == 0)\n",
    "                if (s,s2,s3) in tmp3:\n",
    "                    curves[(s,s2,s3)].append((gen1, gen2))"
   ]
  },
  {
   "cell_type": "code",
   "execution_count": null,
   "metadata": {},
   "outputs": [],
   "source": [
    "[(s, len(curves[s])) for s in curves]"
   ]
  },
  {
   "cell_type": "markdown",
   "metadata": {},
   "source": [
    "Compute point counts over $\\mathbb{F}_{q^i}$ for $i=4,5$, retaining cases that fit our targets."
   ]
  },
  {
   "cell_type": "code",
   "execution_count": null,
   "metadata": {},
   "outputs": [],
   "source": [
    "def count_by_ideal(gens, n):\n",
    "    J = P.ideal(list(gens) + [y^(2^n) + y for y in P.gens()])\n",
    "    return (J.vector_space_dimension() - 2^(2*n) - 2^(3*n) + 1) // (2^n-1)^2"
   ]
  },
  {
   "cell_type": "code",
   "execution_count": null,
   "metadata": {},
   "outputs": [],
   "source": [
    "for n in range(4, 6):\n",
    "    tmp = [t[:n] for t in targets6]\n",
    "    tmp2 = list(curves.keys())    \n",
    "    for s in tmp2:\n",
    "        if len(s) == n-1:\n",
    "            for gens in curves[s]:\n",
    "                i = count_by_ideal(gens, n)\n",
    "                s1 = s + (i,)\n",
    "                if s1 in tmp:\n",
    "                    curves[s1].append(gens)\n",
    "    print([(s, len(curves[s])) for s in curves if len(s) == n])"
   ]
  },
  {
   "cell_type": "markdown",
   "metadata": {},
   "source": [
    "Use Magma to compute the full zeta functions of the resulting curves (discarding cases that do not lead to smooth curves of the right genus), and compare these to our targets."
   ]
  },
  {
   "cell_type": "code",
   "execution_count": null,
   "metadata": {},
   "outputs": [],
   "source": [
    "I1 = P.ideal([x0,x1])\n",
    "I2 = P.ideal([y0,y1,y2])\n",
    "CR = magma.CoxRing(P, [I1,I2], [[1,1,0,0,0],[0,0,1,1,1]], [])\n",
    "proj = CR.ToricVariety()\n",
    "proj"
   ]
  },
  {
   "cell_type": "code",
   "execution_count": null,
   "metadata": {},
   "outputs": [],
   "source": [
    "l = []\n",
    "for s in curves:\n",
    "    if len(s) == 4:\n",
    "        for gens in curves[s]:\n",
    "            X = proj.Scheme(gens)\n",
    "            if X.Dimension() > 1:\n",
    "                continue\n",
    "            C = X.Curve()\n",
    "            g = C.Genus()\n",
    "            assert g <= 6\n",
    "            if g != 6:\n",
    "                continue\n",
    "            ct = tuple(Integer(C.NumberOfPlacesOfDegreeOneECF(i)) for i in range(1, 7))\n",
    "            if ct in targets7:\n",
    "                l.append(C)\n",
    "len(l)"
   ]
  },
  {
   "cell_type": "code",
   "execution_count": null,
   "metadata": {},
   "outputs": [],
   "source": [
    "l = isomorphism_class_reps(l)\n",
    "len(l)"
   ]
  },
  {
   "cell_type": "markdown",
   "metadata": {},
   "source": [
    "Search for extensions of relative class number 1."
   ]
  },
  {
   "cell_type": "code",
   "execution_count": null,
   "metadata": {},
   "outputs": [],
   "source": [
    "l2 = []\n",
    "for C in l:\n",
    "    F0 = C.FunctionField()\n",
    "    F1 = F0.AlgorithmicFunctionField()\n",
    "    l2 += match_weil_poly(F1, 2)\n",
    "len(l2)"
   ]
  },
  {
   "cell_type": "code",
   "execution_count": null,
   "metadata": {},
   "outputs": [],
   "source": [
    "for (F1, F2) in l2:\n",
    "    t = tuple(F1.NumberOfPlacesOfDegreeOneECF(i) for i in range(1,7))\n",
    "    print(t, F1.RationalExtensionRepresentation())"
   ]
  },
  {
   "cell_type": "code",
   "execution_count": null,
   "metadata": {},
   "outputs": [],
   "source": [
    "print(\"This case complete!\")"
   ]
  }
 ],
 "metadata": {
  "kernelspec": {
   "display_name": "SageMath 9.4",
   "language": "sage",
   "name": "sagemath"
  },
  "language_info": {
   "codemirror_mode": {
    "name": "ipython",
    "version": 3
   },
   "file_extension": ".py",
   "mimetype": "text/x-python",
   "name": "python",
   "nbconvert_exporter": "python",
   "pygments_lexer": "ipython3",
   "version": "3.9.5"
  }
 },
 "nbformat": 4,
 "nbformat_minor": 4
}
