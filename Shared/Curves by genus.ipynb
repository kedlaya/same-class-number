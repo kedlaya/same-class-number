{
 "cells": [
  {
   "cell_type": "markdown",
   "id": "e26f6c09",
   "metadata": {},
   "source": [
    "This notebook is associated with the papers \"The relative class number one problem for function fields, I, II, III\" by K.S. Kedlaya. It runs in SageMath (tested using version 9.5) and depends on Magma (tested using version 2.26-9).\n",
    "\n",
    "In this notebook, we generate a dictionary of curves of genus up to 5 over F_2. This uses data of Xarles in genus 4 and Dragutinović in genus 5. In each genus, the keys are the LMFDB labels of Weil polynomials.\n",
    "- Each hyperelliptic curve is represented as a pair $(f,h)$ as in Sage, in the variable `x`.\n",
    "- Each nonhyperelliptic curve in genus 3 is represented by a polynomial in `x0, x1, x2`.\n",
    "- Each nonhyperelliptic curve in genus 4 is represented by a pair of polynomials in `x0, x1, x2, x3`.\n",
    "- Each trigonal curve in genus 5 is represented by a polynomial in `x0, x1, x2`.\n",
    "- Each nontrigonal curve in genus 5 is represented by a triple of polynomials in `x0, x1, x2, x3, x4`.\n",
    "- We also include sporadic nonhyperelliptic curves in genus 6 and 7, each represented by a polynomial in `x,y`.\n",
    "\n",
    "In the process, we verify the zeta functions of all curves in the dictionary. Allow 30 minutes for completion."
   ]
  },
  {
   "cell_type": "code",
   "execution_count": 1,
   "id": "14577a27",
   "metadata": {},
   "outputs": [],
   "source": [
    "load(\"weil_poly_utils.sage\")\n",
    "load(\"function_fields.sage\")\n",
    "import itertools\n",
    "from collections import defaultdict"
   ]
  },
  {
   "cell_type": "code",
   "execution_count": 2,
   "id": "6eea77b4",
   "metadata": {},
   "outputs": [],
   "source": [
    "curves_by_poly = {}"
   ]
  },
  {
   "cell_type": "markdown",
   "id": "f81e2ee7",
   "metadata": {},
   "source": [
    "# Genus 1 and 2"
   ]
  },
  {
   "cell_type": "markdown",
   "id": "31291949",
   "metadata": {},
   "source": [
    "Construct genus 1 curves."
   ]
  },
  {
   "cell_type": "code",
   "execution_count": 3,
   "id": "422de1a4",
   "metadata": {},
   "outputs": [],
   "source": [
    "P1.<x> = GF(2)[]\n",
    "curves_by_poly[1] = {\n",
    "    '1.2.ac': [(P1(1), x^3+x+1)],\n",
    "    '1.2.ab': [(x, x^3+x^2+1)],\n",
    "    '1.2.a': [(P1(1), x^3)],\n",
    "    '1.2.b': [(x, x^3+1)],\n",
    "    '1.2.c': [(P1(1), x^3+x)],\n",
    "}"
   ]
  },
  {
   "cell_type": "markdown",
   "id": "784eca4b",
   "metadata": {},
   "source": [
    "Construct genus 2 curves, taken from LMFDB."
   ]
  },
  {
   "cell_type": "code",
   "execution_count": 4,
   "id": "0c3fb68d",
   "metadata": {},
   "outputs": [],
   "source": [
    "curves_by_poly[2] = {\n",
    "    '2.2.ad_f': [(x^3+x+1, x^6+x^5+x^4+x^3+x^2+x+1)],\n",
    "    '2.2.ac_c': [(P1(1), x^5+x^3+1)],\n",
    "    '2.2.ac_d': [(x^2+x+1, x^5+x+1)],\n",
    "    '2.2.ac_e': [(P1(1), x^5+x^4+1)],\n",
    "    '2.2.ab_a': [(x,x^5+x^2+x)],\n",
    "    '2.2.ab_b': [(x^3+x+1, x^3+x+1)],\n",
    "    '2.2.ab_c': [(x, x^5+x^3+x)],\n",
    "    '2.2.ab_d': [(x^3+x+1, x^5+x^4+1)],\n",
    "    '2.2.a_ab': [(x^2+x, x^5+x^3+x^2+x)],\n",
    "    '2.2.a_a': [(P1(1), x^5)],\n",
    "    '2.2.a_b': [(x^2+x+1, x^5+x^3+x^2+1)],\n",
    "    '2.2.a_c': [(P1(1), x^5+x^4+x^3)],\n",
    "    '2.2.b_a': [(x, x^5+x)],\n",
    "    '2.2.b_b': [(x^3+x+1, x^6+x^3+x^2+x)],\n",
    "    '2.2.b_c': [(x, x^5+x^3+x^2+x)],\n",
    "    '2.2.b_d': [(x^3+x+1, x^6+x^5+x^4+x^2)],\n",
    "    '2.2.c_c': [(P1(1), x^5+x^3)],\n",
    "    '2.2.c_d': [(x^2+x+1, x^5+x^4+x^2+x)], \n",
    "    '2.2.c_e': [(P1(1),x^5+x^4)],\n",
    "    '2.2.d_f': [(x^3+x+1,x^5+x^4+x^3+x)],\n",
    "}"
   ]
  },
  {
   "cell_type": "markdown",
   "id": "9ebed91b",
   "metadata": {},
   "source": [
    "# Genus 3"
   ]
  },
  {
   "cell_type": "markdown",
   "id": "47a69ffd",
   "metadata": {},
   "source": [
    "Construct genus 3 curves, taken from LMFDB."
   ]
  },
  {
   "cell_type": "code",
   "execution_count": 5,
   "id": "4a592956",
   "metadata": {},
   "outputs": [],
   "source": [
    "P3.<x0,x1,x2> = GF(2)[]\n",
    "curves_by_poly[3] = {\n",
    "    '3.2.ad_c_b': [[], [x0^4+x0^3*x1+x0^2*x1*x2+x0*x2^3+x1^4+x1^3*x2+x2^4]],\n",
    "    '3.2.ad_d_ac': [[], [x0^4+x0^3*x1+x0^3*x2+x0^2*x1*x2+x1^4+x1^3*x2+x2^4]],\n",
    "    '3.2.ad_e_ae': [[], [x0^4+x0^3*x1+x0^2*x1*x2+x0^2*x2^2+x1^4+x1^3*x2+x2^4]],\n",
    "    '3.2.ad_f_ah': [[(x^4+x+1, x^8+x^7+x^5+x^4+x^3+x+1)], []],\n",
    "    '3.2.ad_g_ak': [[(x^4+x^2+1, x^8+x^5+x^4+x^2+1)], []],\n",
    "    '3.2.ad_g_ai': [[(x^4+x^2+1, x^8+x+1)], []],\n",
    "    '3.2.ad_h_al': [[(x^4+x+1, x^8+x^6+x^5+x^3+x^2+x+1)], []],\n",
    "    '3.2.ad_j_an': [[], [x0^4+x0^2*x1^2+x0^2*x1*x2+x0^2*x2^2+x0*x1^2*x2+x0*x1*x2^2+x1^4+x1^2*x2^2+x2^4]],\n",
    "    '3.2.ac_a_d': [[], [x0^4+x0^3*x2+x0^2*x1*x2+x0*x1^3+x0*x1^2*x2+x0*x2^3+x1^4]],\n",
    "    '3.2.ac_a_e': [[], [x0^4+x0^3*x1+x0^3*x2+x0*x2^3+x1^4]],\n",
    "    '3.2.ac_b_a': [[], [x0^4+x0^3*x2+x0*x1^3+x0*x2^3+x1^4]],\n",
    "    '3.2.ac_b_b': [[], [x0^4+x0^3*x1+x0^3*x2+x0*x2^3+x1^4+x1^3*x2+x1^2*x2^2]],\n",
    "    '3.2.ac_c_ad': [[(x^4+x^2+x, x^8+x^6+x^4+x^3+x)], []],\n",
    "    '3.2.ac_c_ac': [[(P1(1), x^7+x^6+1)], [x0^4+x0^2*x1^2+x0^2*x2^2+x0*x2^3+x1^4+x1^3*x2+x1^2*x2^2]],\n",
    "    '3.2.ac_c_ab': [[(x^4+x^2+x+1, x^8+x^7+x^5+x^3+x^2+1)],\n",
    "                    [x0^4+x0^3*x1+x0^2*x2^2+x0*x2^3+x1^4+x1^3*x2+x1^2*x2^2]],\n",
    "    '3.2.ac_d_ag': [[(x^2+x+1, x^7+x^6+x^5+x^4+x^3+x+1)], []],\n",
    "    '3.2.ac_d_ae': [[(x^2+x+1, x^7+x^5+x^4+x+1)], [x0^4+x0^3*x1+x0^3*x2+x0^2*x1*x2+x0*x1^2*x2+x0*x2^3+x1^4]],\n",
    "    '3.2.ac_e_ah': [[(x^4+x^2+x+1, x^8+x^5+x^4+x^3+x+1)], []],\n",
    "    '3.2.ac_e_ag': [[(P1(1), x^7+x^4+1)], []],\n",
    "    '3.2.ac_e_af': [[(x^4+x^2+x,x^8+x^7+x^5+x^4+x)], []],\n",
    "    '3.2.ab_ab_c': [[], [x0^3*x1+x0*x1^3+x0*x1^2*x2+x0*x2^3+x1^4]],\n",
    "    '3.2.ab_ab_d': [[], [x0^4+x0^3*x2+x0^2*x1^2+x0^2*x1*x2+x0*x1^3+x0*x2^3+x1^2*x2^2]],\n",
    "    '3.2.ab_ab_e': [[], [x0^4+x0^3*x1+x0^3*x2+x0*x1^3+x0*x1^2*x2+x0*x2^3+x1^2*x2^2]],\n",
    "    '3.2.ab_ab_f': [[], [x0^3*x1+x0^2*x1*x2+x0*x1^3+x0*x2^3+x1^4]],\n",
    "    '3.2.ab_a_a': [[(x, x^7+x^6+x), (x^4+x^2,x^8+x^5+x^3+x)],\n",
    "                   [x0^4+x0^3*x1+x0^2*x1*x2+x0*x2^3+x1^4]],\n",
    "    '3.2.ab_a_b': [[], [x0^4+x0^3*x1+x0^2*x1^2+x0^2*x2^2+x0*x1*x2^2+x0*x2^3+x1^3*x2]],\n",
    "    '3.2.ab_a_c': [[(x, x^7+x^6+x^5+x^2+x)], \n",
    "                   [x0^3*x1+x0^2*x1^2+x0^2*x1*x2+x0*x2^3+x1^4,\n",
    "                    x0^3*x1+x0^2*x1^2+x0*x1^2*x2+x0*x2^3+x1^4]],\n",
    "    '3.2.ab_a_d': [[], [x0^4+x0^3*x1+x0^2*x1^2+x0^2*x1*x2+x0^2*x2^2+x0*x2^3+x1^3*x2]],\n",
    "    '3.2.ab_a_e': [[], \n",
    "                   [x0^4+x0^3*x1+x0^3*x2+x0^2*x1*x2+x0*x1^3+x0*x1^2*x2+x0*x1*x2^2+x0*x2^3+x1^2*x2^2]],\n",
    "    '3.2.ab_b_ad': [[(x^4+x+1,x^8+x^5+x+1), (x^4+x, x^8+x^7+x^5+x)], []],\n",
    "    '3.2.ab_b_ab': [[(x^4+x+1, x^7+x^5+x^3+x^2+1)], [x0^4+x0^3*x2+x0^2*x1*x2+x0*x1^3+x0*x2^3+x1^4]],\n",
    "    '3.2.ab_b_a': [[], [x0^4+x0*x1^3+x0*x1^2*x2+x0*x2^3+x1^4, \n",
    "                        x0^4+x0^3*x1+x0^3*x2+x0^2*x1^2+x0*x1*x2^2+x0*x2^3+x1^3*x2]],\n",
    "    '3.2.ab_b_b': [[(x^3+1, x^7+x^6+x^4+1), (x^4+x+1, x^8+x^6+x^4+x^3+x)], \n",
    "                   [x0^4+x0^2*x1*x2+x0*x1^3+x0*x2^3+x1^4]],\n",
    "    '3.2.ab_b_c': [[], [x0^4+x0^3*x2+x0*x1^3+x0*x1^2*x2+x0*x2^3+x1^4]],\n",
    "    '3.2.ab_c_ae': [[(x, x^7+x^2+x), (x^4+x^2, x^8+x^4+x^2+x), (x^4+x^2+1, x^2+x+1)], []],\n",
    "    '3.2.ab_c_ac': [[(x, x^7+x^5+x), (x^4+x^2+1, x^5+x+1)],\n",
    "                    [x0^4+x0^2*x1^2+x0^2*x1*x2+x0*x2^3+x1^4]],\n",
    "    '3.2.ab_c_ab': [[], \n",
    "                    [x0^4+x0^3*x1+x0^2*x1*x2+x0*x2^3+x1^4+x1^3*x2+x1^2*x2^2]],\n",
    "    '3.2.ab_c_a': [[(x^4+x^2,x^8+x)], []],\n",
    "    '3.2.ab_d_af': [[(x^4+x+1, x^6+x^5+x^4+x^3+1)], []],\n",
    "    '3.2.ab_d_ad': [[(x^4+x+1, x^8+x^7+x^4+x^3+x^2+1), (x^4+x+1, x^8+x^7+x^3+x^2+x)], []],\n",
    "    '3.2.ab_d_ab': [[(x^4+x+1, x^4+x+1)], []],\n",
    "    '3.2.ab_e_ae': [[], [x0^4+x0^2*x1^2+x0^2*x1*x2+x0^2*x2^2+x0*x2^3+x1^4+x1^3*x2+x1^2*x2^2]],\n",
    "    '3.2.a_ab_ac': [[(x^2+x, x^7+x^6+x^5+x)], []],\n",
    "    '3.2.a_ab_b': [[], [x0^4+x0^3*x1+x0^3*x2+x0*x2^3+x1^3*x2]],\n",
    "    '3.2.a_ab_c': [[(x^2+x, x^7+x^6+x^5+x^4+x^2+x)], [x0^3*x1+x0^3*x2+x0*x1^3+x0*x2^3+x1^4]],\n",
    "    '3.2.a_a_ac': [[(P1(1), x^7)], []],\n",
    "    '3.2.a_a_ab': [[(x^3+x+1, x^7+x^5+x^4+x^3+x+1)], []],\n",
    "    '3.2.a_a_a': [[], [x0^3*x1+x0*x2^3+x1^4, x0^3*x1+x0^2*x1^2+x0*x2^3+x1^4]],\n",
    "    '3.2.a_a_b': [[(x^3+x+1, x^7+x^6+x^5+x^4+x^3+x^2+x)],\n",
    "                  [x0^4+x0^3*x2+x0^2*x1^2+x0^2*x1*x2+x0*x1*x2^2+x0*x2^3+x1^3*x2]],\n",
    "    '3.2.a_a_c': [[(P1(1), x^7+1)], [x0^4+x0^2*x1^2+x0^2*x2^2+x0*x2^3+x1^3*x2]],\n",
    "    '3.2.a_a_d': [[], [x0^4+x0^3*x1+x0^3*x2+x0^2*x1*x2+x0*x1^3+x0*x1^2*x2+x0*x2^3+x1^4,\n",
    "                       x0^3*x2+x0^2*x1^2+x0^2*x1*x2+x0^2*x2^2+x0*x1*x2^2+x0*x2^3+x1^3*x2]],\n",
    "    '3.2.a_a_e': [[], [x0^3*x1+x0^3*x2+x0^2*x1^2+x0*x2^3+x1^4]],\n",
    "    '3.2.a_a_f': [[], [x0^3*x1+x0*x2^3+x1^3*x2]],\n",
    "    '3.2.a_b_ac': [[(x^2+x+1, x^7+x^6+x^5+x^2+x+1)], []],\n",
    "    '3.2.a_b_a': [[(x^2+x, x^7+x^5+x^2+x), (x^2+x+1, x^7+x^5+x^3+x^2+x+1)],\n",
    "                  [x0^4+x0*x1^3+x0*x2^3+x1^4]],\n",
    "    '3.2.a_b_b': [[], [x0^3*x1+x0^3*x2+x0^2*x2^2+x0*x2^3+x1^3*x2]],\n",
    "    '3.2.a_b_c': [[(x^2+x+1, x^7+x^6+x^5+x^4+x)], [x0^3*x2+x0^2*x1^2+x0^2*x2^2+x0*x2^3+x1^3*x2]],\n",
    "    '3.2.a_b_d': [[], [x0^4+x0^3*x1+x0^3*x2+x0^2*x1^2+x0*x2^3+x1^3*x2, \n",
    "                       x0^4+x0^3*x1+x0^3*x2+x0^2*x1^2+x0*x2^3+x1^3*x2+x1^2*x2^2]],\n",
    "    '3.2.a_b_e': [[], [x0^4+x0^3*x1+x0^2*x1*x2+x0*x1^2*x2+x0*x2^3+x1^4]],\n",
    "    '3.2.a_c_ac': [[(P1(1), x^7+x^6+x^4+1)], []],\n",
    "    '3.2.a_c_ab': [[(x^4+x^2+x+1, x^8+x^7+x^4+x^2),\n",
    "                    (x^4+x^2+x+1, x^6+x^5+x^2+1)],\n",
    "                   [x0^4+x0^2*x1*x2+x0*x1^3+x0*x1^2*x2+x0*x2^3+x1^4]],\n",
    "    '3.2.a_c_b': [[(x^4+x^2+x+1, x^7+1), (x^4+x^2+x+1, x^8+x^6+x^5+x^4)],\n",
    "                  [x0^4+x0^3*x2+x0^2*x1*x2+x0*x1^3+x0*x1^2*x2+x0*x2^3+x1^2*x2^2]],\n",
    "    '3.2.a_c_c': [[(P1(1), x^7+x^6+x^4)], [x0^4+x0^3*x1+x0^3*x2+x0^2*x1*x2+x0*x1*x2^2+x0*x2^3+x1^3*x2]],\n",
    "    '3.2.a_d_ac': [[], [x0^4+x0^2*x1^2+x0^2*x1*x2+x0*x1^2*x2+x0*x2^3+x1^4]],\n",
    "    '3.2.a_d_ab': [[], [x0^4+x0^3*x1+x0^2*x1^2+x0^2*x1*x2+x0*x1*x2^2+x0*x2^3+x1^3*x2]],\n",
    "    '3.2.a_d_a': [[], [x0^3*x1+x0*x1^3+x0*x2^3+x1^4]],\n",
    "    '3.2.a_e_a': [[], [x0^4+x0^3*x1+x0*x2^3+x1^4]],\n",
    "    '3.2.b_a_ac': [[(x, x^7+x^6+x^5+x)], []],\n",
    "    '3.2.b_a_a': [[(x, x^7+x^6+x^2+x), (x^4+x^2, x^5+x^4+x^3+x)], []],\n",
    "    '3.2.b_a_b': [[], [x0^3*x1+x0^2*x1^2+x0^2*x1*x2+x0*x2^3+x1^3*x2]],\n",
    "    '3.2.b_b_ab': [[(x^3+1, x^7+x^4), (x^4+x+1, x^6+x^4+x^3+x^2+x+1)], []],\n",
    "    '3.2.b_b_b': [[(x^4+x+1, x^8+x^7+x^5+x^3)],\n",
    "                    [x0^3*x2+x0^2*x1*x2+x0*x1^3+x0*x2^3+x1^4]],\n",
    "    '3.2.b_b_c': [[], [x0^3*x1+x0^3*x2+x0*x1^3+x0*x1^2*x2+x0*x2^3+x1^4]],\n",
    "    '3.2.b_b_d': [[(x^4+x+1, x^5+x^2+x), (x^4+x, x^7+x^5+x^2+x)], [x0^3*x2+x0^2*x1^2+x0*x1*x2^2+x0*x2^3+x1^3*x2]],\n",
    "    '3.2.b_b_e': [[], [x0^3*x2+x0^2*x1^2+x0^2*x1*x2+x0*x2^3+x1^3*x2]],\n",
    "    '3.2.b_c_a': [[(x^4+x^2,x^4+x)], []],\n",
    "    '3.2.b_c_b': [[], [x0^3*x1+x0^2*x1*x2+x0*x2^3+x1^3*x2]],\n",
    "    '3.2.b_c_c': [[(x,x^7+x^5+x^2+x), (x^4+x^2+1, x^8+x^5+x^4+x)],\n",
    "                  [x0^4+x0^3*x1+x0^2*x1^2+x0*x1^2*x2+x0*x2^3+x1^4]],\n",
    "    '3.2.b_c_d': [[], [x0^4+x0^3*x1+x0^2*x1^2+x0*x1*x2^2+x0*x2^3+x1^3*x2]],\n",
    "    '3.2.b_c_e': [[(x, x^7+x), (x^4+x^2, x^2+x), (x^4+x^2+1, x^8+x^4+x^2+x)],\n",
    "                  [x0^4+x0^2*x1*x2+x0*x2^3+x1^4]],\n",
    "    '3.2.b_c_f': [[], [x0^4+x0^3*x1+x0^2*x1*x2+x0^2*x2^2+x0*x2^3+x1^3*x2]],\n",
    "    '3.2.b_c_b': [[], [x0^3*x1+x0^2*x1*x2+x0*x2^3+x1^3*x2]],\n",
    "    '3.2.b_c_c': [[(x, x^7+x^5+x^2+x), (x^4+x^2+1, x^8+x^5+x^4+x)], \n",
    "                  [x0^4+x0^3*x1+x0^2*x1^2+x0*x1^2*x2+x0*x2^3+x1^4]],\n",
    "    '3.2.b_c_d': [[], [x0^4+x0^3*x1+x0^2*x1^2+x0*x1*x2^2+x0*x2^3+x1^3*x2]],\n",
    "    '3.2.b_c_e': [[(x, x^7+x), (x^4+x^2, x^2+x), (x^4+x^2+1, x^8+x^4+x^2+x)], \n",
    "                  [x0^4+x0^2*x1*x2+x0*x2^3+x1^4]],\n",
    "    '3.2.b_c_f': [[], [x0^4+x0^3*x1+x0^2*x1*x2+x0^2*x2^2+x0*x2^3+x1^3*x2]],\n",
    "    '3.2.b_d_b': [[(x^4+x+1, x^8+x^4+x^2+x)], [x0^3*x2+x0^2*x1^2+x0^2*x2^2+x0*x1*x2^2+x0*x2^3+x1^3*x2]],\n",
    "    '3.2.b_d_c': [[], [x0^4+x0^3*x2+x0^2*x1^2+x0^2*x1*x2+x0^2*x2^2+x0*x2^3+x1^3*x2]],\n",
    "    '3.2.b_d_d': [[(x^4+x+1, x^7+x^4+x^3), (x^4+x+1, x^7+x^3+x+1)], [x0^4+x0^3*x1+x0^2*x1*x2+x0*x1^3+x0*x2^3+x1^4]],\n",
    "    '3.2.b_d_e': [[], [x0^4+x0^3*x2+x0*x1^3+x0*x1^2*x2+x0*x2^3+x1^2*x2^2]],\n",
    "    '3.2.b_d_f': [[(x^4+x+1, x^8+x^6+x^5+x^4+x^3+x^2)], []],\n",
    "    '3.2.b_e_d': [[], [x0^4+x0^3*x1+x0^2*x1^2+x0^2*x1*x2+x0*x2^3+x1^3*x2]],\n",
    "    '3.2.b_e_e': [[], [x0^4+x0^2*x1^2+x0*x1*x2^2+x0*x2^3+x1^3*x2]],\n",
    "    '3.2.b_f_d': [[], [x0^4+x0^2*x1*x2+x0*x1^3+x0*x2^3+x1^2*x2^2]],\n",
    "    '3.2.c_c_b': [[(x^4+x^2+x+1, x^7+x^5+x^4+x^3)], []],\n",
    "    '3.2.c_c_c': [[(P1(1), x^7+x^6)], []],\n",
    "    '3.2.c_c_d': [[(x^4+x^2+x, x^6+x^3+x^2+x)], []],\n",
    "    '3.2.c_d_d': [[], [x0^3*x1+x0^3*x2+x0*x2^3+x1^3*x2]],\n",
    "    '3.2.c_d_e': [[(x^2+x+1, x^7+x^5+x^2+x)], []],\n",
    "    '3.2.c_d_f': [[], [x0^3*x1+x0^3*x2+x0^2*x1^2+x0^2*x2^2+x0*x2^3+x1^3*x2]],\n",
    "    '3.2.c_d_g': [[(x^2+x+1, x^7+x^6+x^5+x^3+x^2+x)], []],\n",
    "    '3.2.c_e_e': [[], [x0^3*x1+x0^3*x2+x0*x2^3+x1^4]],\n",
    "    '3.2.c_e_f': [[(x^4+x^2+x, x^7+x^5+x^2+x)],\n",
    "                    [x0^3*x1+x0^2*x1^2+x0^2*x2^2+x0*x2^3+x1^3*x2]],\n",
    "    '3.2.c_e_g': [[(P1(1), x^7+x^4)], [x0^4+x0^2*x1^2+x0*x2^3+x1^3*x2]],\n",
    "    '3.2.c_e_h': [[(x^4+x^2+x+1, x^5+x^3+x^2+x)], []],\n",
    "    '3.2.c_f_g': [[], [x0^3*x2+x0^2*x1^2+x0^2*x1*x2+x0*x1^2*x2+x0*x2^3+x1^4]],\n",
    "    '3.2.c_f_h': [[], [x0^3*x1+x0^3*x2+x0^2*x1^2+x0*x2^3+x1^3*x2]],\n",
    "    '3.2.d_f_h': [[(x^4+x+1, x^7+x^5+x^4+x^3+x^2+x)], []],\n",
    "    '3.2.d_g_i': [[(x^4+x^2+1, x^4+x)], []],\n",
    "    '3.2.d_g_j': [[], [x0^3*x1+x0^2*x1^2+x0^2*x1*x2+x0^2*x2^2+x0*x2^3+x1^3*x2]],\n",
    "    '3.2.d_g_k': [[(x^4+x^2+1, x^5+x^2)], []],\n",
    "    '3.2.d_h_l': [[(x^4+x+1,x^6+x^5+x^3+x)], []],\n",
    "    '3.2.e_j_p': [[], [x0^3*x1+x0^3*x2+x0^2*x1^2+x0*x2^3+x1^3*x2+x1^2*x2^2]],\n",
    "}"
   ]
  },
  {
   "cell_type": "markdown",
   "id": "79ffe571",
   "metadata": {},
   "source": [
    "# Genus 4"
   ]
  },
  {
   "cell_type": "markdown",
   "id": "1cc58748",
   "metadata": {},
   "source": [
    "Read and process data on genus 4 curves, using precomputed zeta functions."
   ]
  },
  {
   "cell_type": "code",
   "execution_count": 6,
   "id": "d58b8ba6",
   "metadata": {},
   "outputs": [],
   "source": [
    "with open(\"ListCurvesGenus4p2.txt\", \"r\") as f:\n",
    "    s = f.read()\n",
    "l = s.split('\\n')\n",
    "i1 = l.index(']')\n",
    "i2 = l.index(']', i1+1)\n",
    "i1, i2\n",
    "t = [\"\".join(l[:i1+1]), \"\".join(l[i1+1:i2+1]), \"\".join(l[i2+1:])]\n",
    "t[0] = sage_eval(t[0])\n",
    "t[1] = sage_eval(t[1], locals={'x': P1.gen()})\n",
    "P4.<x0, x1, x2, x3> = GF(2)[]\n",
    "t[2] = sage_eval(t[2], locals={'X': P4.gens()[0], 'Y': P4.gens()[1], 'Z': P4.gens()[2], 'T': P4.gens()[3]})"
   ]
  },
  {
   "cell_type": "code",
   "execution_count": 7,
   "id": "88cbbc44",
   "metadata": {},
   "outputs": [],
   "source": [
    "P.<T> = QQ[]\n",
    "curves_by_poly[4] = {}\n",
    "for i in range(len(t[0])):\n",
    "    u = weil_poly_from_point_count(t[0][i], 4)\n",
    "    s = label_from_weil_poly(u)\n",
    "    curves_by_poly[4][s] = [[(j[1],j[0]) for j in t[1][i]], [tuple(j) for j in t[2][i]]]"
   ]
  },
  {
   "cell_type": "markdown",
   "id": "7ac87f9a",
   "metadata": {},
   "source": [
    "# Genus 5"
   ]
  },
  {
   "cell_type": "markdown",
   "id": "7d2f485a",
   "metadata": {},
   "source": [
    "Read and process data on hyperelliptic curves of genus 5, computing zeta functions using Sage."
   ]
  },
  {
   "cell_type": "code",
   "execution_count": 8,
   "id": "a5e841ff",
   "metadata": {},
   "outputs": [],
   "source": [
    "hyperelliptic_curves_by_poly = defaultdict(list)\n",
    "trigonal_curves_by_poly = defaultdict(list)\n",
    "ci_curves_by_poly = defaultdict(list)"
   ]
  },
  {
   "cell_type": "code",
   "execution_count": 9,
   "id": "a5ff39a9",
   "metadata": {},
   "outputs": [],
   "source": [
    "with open(\"HyperellipticCurvesData.txt\", \"r\") as f:\n",
    "    s = f.read()\n",
    "    l = sage_eval(s, locals={'x':P1.gen()})\n",
    "for (h, g) in l:\n",
    "    C = HyperellipticCurve(g,h)\n",
    "    assert C.genus() == 5\n",
    "    u = C.frobenius_polynomial()(T)\n",
    "    hyperelliptic_curves_by_poly[u].append((h,g))"
   ]
  },
  {
   "cell_type": "markdown",
   "id": "66362cb7",
   "metadata": {},
   "source": [
    "Read and process data on trigonal curves of genus 5, represented as plane quintics with a single double point (not necessarily a node), computing zeta functions using Magma."
   ]
  },
  {
   "cell_type": "code",
   "execution_count": 10,
   "id": "839cc0a8",
   "metadata": {},
   "outputs": [],
   "source": [
    "P3.<x0,x1,x2> = GF(2)[]\n",
    "with open(\"TrigonalCurvesWithAutomorphisms.txt\", \"r\") as f:\n",
    "    s = f.read()\n",
    "    l = sage_eval(s)\n",
    "monos5 = [prod(t) for t in itertools.combinations_with_replacement(P3.gens(), 5)]\n",
    "proj = magma.ProjectiveSpace(P3)\n",
    "for (v, _) in l:\n",
    "    gen = sum(v[i]*monos5[i] for i in range(len(monos5)))\n",
    "    X = proj.Scheme([gen])\n",
    "    assert X.Dimension() == 1\n",
    "    C = X.Curve()\n",
    "    assert C.Genus() == 5\n",
    "    ct = tuple(Integer(C.NumberOfPlacesOfDegreeOneECF(i)) for i in range(1, 6))\n",
    "    u = weil_poly_from_point_count(ct, 5)(T)\n",
    "    trigonal_curves_by_poly[u].append(gen)"
   ]
  },
  {
   "cell_type": "markdown",
   "id": "8fe9cc5e",
   "metadata": {},
   "source": [
    "Read and process data on complete intersections of genus 5 of type $(2,2,2)$ in $\\mathbb{P}^4$, using precomputed zeta functions."
   ]
  },
  {
   "cell_type": "code",
   "execution_count": 11,
   "id": "adb85989",
   "metadata": {},
   "outputs": [],
   "source": [
    "P5.<x0,x1,x2,x3,x4> = GF(2)[]\n",
    "with open(\"Complete_Intersections.txt\", \"r\") as f:\n",
    "    s = f.read()\n",
    "    l1 = sage_eval(s)\n",
    "with open(\"Pts_Count_Complete_Intersections.txt\", \"r\") as f:\n",
    "    s = f.read()\n",
    "    l2 = sage_eval(s)\n",
    "monos2 = [prod(t) for t in itertools.combinations_with_replacement(P5.gens(), 2)]\n",
    "for i in range(len(l1)):\n",
    "    gens = [sum(v[j]*monos2[j] for j in range(len(monos2))) for v in l1[i]]\n",
    "    u = weil_poly_from_point_count(l2[i], 5)(T)\n",
    "    ci_curves_by_poly[u].append(gens)"
   ]
  },
  {
   "cell_type": "code",
   "execution_count": 12,
   "id": "fe87ac29",
   "metadata": {},
   "outputs": [],
   "source": [
    "curves_by_poly[5] = {label_from_weil_poly(u): [hyperelliptic_curves_by_poly[u], \n",
    "                                               trigonal_curves_by_poly[u], \n",
    "                                               ci_curves_by_poly[u]] \\\n",
    "     for u in set(hyperelliptic_curves_by_poly) | set(trigonal_curves_by_poly) | set(ci_curves_by_poly)}"
   ]
  },
  {
   "cell_type": "markdown",
   "id": "59779833",
   "metadata": {},
   "source": [
    "# Genus 6 and 7"
   ]
  },
  {
   "cell_type": "markdown",
   "id": "cbdf5a02",
   "metadata": {},
   "source": [
    "Manually construct curves of genus 6 and 7 that will give rise to extensions with relative class number 1."
   ]
  },
  {
   "cell_type": "code",
   "execution_count": 13,
   "id": "8b8b79ca",
   "metadata": {},
   "outputs": [],
   "source": [
    "Pxy.<x,y> = GF(2)[]\n",
    "curves_by_poly[6] = {}\n",
    "curves_by_poly[6]['6.2.c_h_k_z_bd_cg'] = [[], [x^2*y^5 + (x^3+x)*y^4 + x^4*y^3 + \n",
    "                                               (x^5+x^4+x^3+x^2+x+1)*y^2 + \n",
    "                                               (x^6+x^3+x^2)*y + x^7+x^3+x+1]]\n",
    "curves_by_poly[6]['6.2.d_j_t_bn_cl_du'] = [[], [(x^2+x+1)*y^4 + (x^3+x+1)*y^3 + (x^4+x^2+1)*y^2 + \n",
    "                                                (x^5+x^4+1)*y + x^5+x^4+x^3+x]]"
   ]
  },
  {
   "cell_type": "code",
   "execution_count": 14,
   "id": "41c026ad",
   "metadata": {},
   "outputs": [
    {
     "data": {
      "text/plain": [
       "'7.2.d_l_z_cf_dx_gs_js'"
      ]
     },
     "execution_count": 14,
     "metadata": {},
     "output_type": "execute_result"
    }
   ],
   "source": [
    "u = weil_poly_from_point_count((6,18,12,18,6,60,174), 7)\n",
    "s = label_from_weil_poly(u)\n",
    "s"
   ]
  },
  {
   "cell_type": "code",
   "execution_count": 15,
   "id": "f77c2a4c",
   "metadata": {},
   "outputs": [],
   "source": [
    "curves_by_poly[7] = {}\n",
    "curves_by_poly[7][s] = [[], [y^4 + (x^6+x^4+x^3+x^2+1)*y^2 + (x^6+x^4+x^3+x^2)*y + x^10+x^9+x^7+x^6]]"
   ]
  },
  {
   "cell_type": "markdown",
   "id": "4badcc34",
   "metadata": {},
   "source": [
    "# Consistency checks"
   ]
  },
  {
   "cell_type": "markdown",
   "id": "272026f1",
   "metadata": {},
   "source": [
    "Check that the zeta functions of these curves are as indicated."
   ]
  },
  {
   "cell_type": "code",
   "execution_count": 16,
   "id": "484c0f41",
   "metadata": {},
   "outputs": [
    {
     "name": "stdout",
     "output_type": "stream",
     "text": [
      "1\n",
      "2\n",
      "3\n",
      "4\n",
      "5\n",
      "6\n",
      "7\n"
     ]
    }
   ],
   "source": [
    "P.<T> = QQ[]\n",
    "for g in range(1, 8):\n",
    "    print(g)\n",
    "    for s in curves_by_poly[g]:\n",
    "        for F in function_fields_by_weil_poly(s):\n",
    "            u = F.ZetaFunction().Numerator().sage()(T).reverse()\n",
    "            assert label_from_weil_poly(u) == s"
   ]
  },
  {
   "cell_type": "markdown",
   "id": "61b4d352",
   "metadata": {},
   "source": [
    "# Output to file"
   ]
  },
  {
   "cell_type": "markdown",
   "id": "c7fb16dc",
   "metadata": {},
   "source": [
    "Generate the output file."
   ]
  },
  {
   "cell_type": "code",
   "execution_count": 17,
   "id": "1798323f",
   "metadata": {},
   "outputs": [],
   "source": [
    "with open('curves.txt', 'w') as f:\n",
    "    f.write(str(curves_by_poly))"
   ]
  }
 ],
 "metadata": {
  "kernelspec": {
   "display_name": "SageMath 9.5",
   "language": "sage",
   "name": "sagemath"
  },
  "language_info": {
   "codemirror_mode": {
    "name": "ipython",
    "version": 3
   },
   "file_extension": ".py",
   "mimetype": "text/x-python",
   "name": "python",
   "nbconvert_exporter": "python",
   "pygments_lexer": "ipython3",
   "version": "3.9.7"
  }
 },
 "nbformat": 4,
 "nbformat_minor": 5
}
