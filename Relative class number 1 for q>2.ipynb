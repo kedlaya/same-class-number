{
 "cells": [
  {
   "cell_type": "markdown",
   "metadata": {},
   "source": [
    "This notebook is associated with the paper \"The relative class number one problem for function fields, I\" by K.S. Kedlaya. It runs in SageMath (tested using version 9.4) and also depends on Magma (tested using version\n",
    "2.25-5).\n",
    "\n",
    "In this notebook, we run the exhaustion over Weil polynomials for $q=3$ and $q=4$, and compute all cyclic covers with relative class number 1. Equations for curves with a given Weil polynomial are taken from LMFDB."
   ]
  },
  {
   "cell_type": "code",
   "execution_count": 1,
   "metadata": {},
   "outputs": [],
   "source": [
    "load(\"auxiliary.sage\")"
   ]
  },
  {
   "cell_type": "markdown",
   "metadata": {},
   "source": [
    "Compute possible Weil polynomials for $C$ when $q=3, g=4$."
   ]
  },
  {
   "cell_type": "code",
   "execution_count": 2,
   "metadata": {},
   "outputs": [],
   "source": [
    "P.<x> = QQ[]"
   ]
  },
  {
   "cell_type": "code",
   "execution_count": 3,
   "metadata": {},
   "outputs": [
    {
     "name": "stdout",
     "output_type": "stream",
     "text": [
      "10963\n"
     ]
    }
   ],
   "source": [
    "l = P.weil_polynomials(q=3,d=8)\n",
    "print(len(l))"
   ]
  },
  {
   "cell_type": "code",
   "execution_count": 4,
   "metadata": {},
   "outputs": [
    {
     "name": "stdout",
     "output_type": "stream",
     "text": [
      "1\n"
     ]
    }
   ],
   "source": [
    "l2 = []\n",
    "for u in l:\n",
    "    tmp = point_count_from_weil_poly(u, 2, q=3)\n",
    "    if tmp[0] >= 9 and tmp[1] >= 27:\n",
    "        l2.append(u)\n",
    "print(len(l2))"
   ]
  },
  {
   "cell_type": "code",
   "execution_count": 5,
   "metadata": {},
   "outputs": [
    {
     "data": {
      "text/plain": [
       "'4.3.f_v_ca_eg'"
      ]
     },
     "execution_count": 5,
     "metadata": {},
     "output_type": "execute_result"
    }
   ],
   "source": [
    "label_from_weil_poly(l2[0])"
   ]
  },
  {
   "cell_type": "markdown",
   "metadata": {},
   "source": [
    "Compute possible Weil polynomials for $C$ when $q=3, g=3, g'=6$."
   ]
  },
  {
   "cell_type": "code",
   "execution_count": 6,
   "metadata": {},
   "outputs": [
    {
     "name": "stdout",
     "output_type": "stream",
     "text": [
      "677\n"
     ]
    }
   ],
   "source": [
    "l = P.weil_polynomials(q=3,d=6)\n",
    "print(len(l))"
   ]
  },
  {
   "cell_type": "code",
   "execution_count": 7,
   "metadata": {},
   "outputs": [
    {
     "name": "stdout",
     "output_type": "stream",
     "text": [
      "0\n"
     ]
    }
   ],
   "source": [
    "l2 = []\n",
    "for u in l:\n",
    "    tmp = point_count_from_weil_poly(u, 2, q=3)\n",
    "    if tmp[0] >= 9 and tmp[1] >= 25:\n",
    "        l2.append(u)\n",
    "print(len(l2))"
   ]
  },
  {
   "cell_type": "markdown",
   "metadata": {},
   "source": [
    "Exhaust over unramified abelian extensions of a Magma function field of a fixed prime degree to find instances of a particular relative Weil polynomial."
   ]
  },
  {
   "cell_type": "code",
   "execution_count": 8,
   "metadata": {},
   "outputs": [],
   "source": [
    "import itertools\n",
    "\n",
    "def match_weil_poly(F, d):\n",
    "    ans = []\n",
    "    for F1 in cyclic_covers(F, d):\n",
    "        F1.AssignNames('w')\n",
    "        if F1.Genus() > F.Genus() and F1.ClassNumber() == F.ClassNumber():\n",
    "            ans.append((F, magma_poly_list(F1.1.MinimalPolynomial(F))))\n",
    "    return(ans)"
   ]
  },
  {
   "cell_type": "markdown",
   "metadata": {},
   "source": [
    "Compute possible Weil polynomials for $C$ when $q=3, g=3, g'=5$, then use Magma to check the resulting covers."
   ]
  },
  {
   "cell_type": "code",
   "execution_count": 9,
   "metadata": {
    "scrolled": true
   },
   "outputs": [
    {
     "name": "stdout",
     "output_type": "stream",
     "text": [
      "[x^6 + 2*x^5 + 9*x^4 + 12*x^3 + 27*x^2 + 18*x + 27, x^6 + 2*x^5 + 8*x^4 + 10*x^3 + 24*x^2 + 18*x + 27, x^6 + 2*x^5 + 7*x^4 + 12*x^3 + 21*x^2 + 18*x + 27, x^6 + 2*x^5 + 7*x^4 + 10*x^3 + 21*x^2 + 18*x + 27, x^6 + 2*x^5 + 7*x^4 + 8*x^3 + 21*x^2 + 18*x + 27, x^6 + 2*x^5 + 6*x^4 + 12*x^3 + 18*x^2 + 18*x + 27, x^6 + 2*x^5 + 6*x^4 + 10*x^3 + 18*x^2 + 18*x + 27, x^6 + 2*x^5 + 6*x^4 + 8*x^3 + 18*x^2 + 18*x + 27]\n"
     ]
    }
   ],
   "source": [
    "l2 = []\n",
    "u1 = (x^2 - 3*x + 3)^2\n",
    "for u in l:\n",
    "    tmp = point_count_from_weil_poly(u, 3, q=3)\n",
    "    if tmp[0] >= 6 and tmp[1] >= 2*tmp[0] + 6 and tmp[2] >= tmp[0] and \\\n",
    "        not _nojac_serre(u, 3) and u(1)%2 == 0:\n",
    "        l2.append(u)\n",
    "print(l2)"
   ]
  },
  {
   "cell_type": "code",
   "execution_count": 10,
   "metadata": {},
   "outputs": [
    {
     "name": "stdout",
     "output_type": "stream",
     "text": [
      "Hyperelliptics\n",
      "3.3.c_g_i []\n",
      "3.3.c_g_i []\n",
      "3.3.c_g_i [(Algebraic function field defined over Univariate rational function field over GF(3) by\n",
      "y^2 + 2*x^8 + x^7 + x^5 + x^3 + 2*x^2 + 2*x, [2*$.1 + 2*x^4 + 2*x^3 + 2*x + 1, 0, 1])]\n",
      "3.3.c_g_i []\n",
      "3.3.c_g_i []\n",
      "3.3.c_g_m [(Algebraic function field defined over Univariate rational function field over GF(3) by\n",
      "y^2 + x^7 + 2*x^5 + x^4 + x^3 + x^2 + 2, [2*$.1 + x^4 + 2*x^3 + 2, 0, 1])]\n",
      "3.3.c_g_m []\n",
      "3.3.c_h_i []\n",
      "3.3.c_h_k []\n",
      "3.3.c_h_m []\n",
      "3.3.c_h_m []\n",
      "Plane quartics\n",
      "3.3.c_g_i []\n",
      "3.3.c_g_i []\n",
      "3.3.c_g_i []\n",
      "3.3.c_g_i []\n",
      "3.3.c_g_i []\n",
      "3.3.c_g_k []\n",
      "3.3.c_g_m []\n",
      "3.3.c_g_m []\n",
      "3.3.c_h_i []\n",
      "3.3.c_h_i []\n",
      "3.3.c_h_i []\n",
      "3.3.c_h_m []\n",
      "3.3.c_i_k []\n",
      "3.3.c_i_k []\n",
      "3.3.c_j_m []\n"
     ]
    }
   ],
   "source": [
    "Q.<x,y,z> = PolynomialRing(GF(3), 3)\n",
    "d = {\n",
    "    '3.3.c_g_i': [[2*x^8+2*x^7+x^5+x^3+x^2+2*x+1, \n",
    "                   x^8+2*x^7+2*x^5+x^4+2*x^3+2*x+1,\n",
    "                   x^8+2*x^7+2*x^5+2*x^3+x^2+x,\n",
    "                   x^8+x^7+x^4+2*x^3+x+1, \n",
    "                   x^7+2*x^6+x^5+2*x^3+2*x^2+2*x],\n",
    "                  [2*x^3*z+x^2*y^2+x*y*z^2+x*z^3+y^4, \n",
    "                   x^3*y+x^3*z+2*x^2*y^2+2*x^2*y*z+x*y^2*z+x*y*z^2+x*z^3+y^3*z,\n",
    "                   x^3*y+2*x^3*z+2*x^2*y^2+2*x*y^2*z+x*y*z^2+x*z^3+y^3*z, \n",
    "                   x^4+x^3*z+x^2*y^2+x*y^3+x*z^3+y^2*z^2,\n",
    "                   x^3*y+x^3*z+x^2*y^2+x^2*y*z+x^2*z^2+x*y^3+x*z^3+y^2*z^2]],\n",
    "    '3.3.c_g_k': [[], \n",
    "                  [x^4+2*x^2*y^2+x*y^2*z+x*y*z^2+x*z^3+y^3*z]],\n",
    "    '3.3.c_g_m': [[2*x^7+x^5+2*x^4+2*x^3+2*x^2+1,\n",
    "                   x^8+2*x^7+x^4+2*x],\n",
    "                  [x^3*y+x^3*z+2*x^2*z^2+x*y*z^2+x*z^3+y^4,\n",
    "                   x^3*y+x^2*y^2+x^2*z^2+2*x*y^2*z+x*z^3+y^3*z]],\n",
    "    '3.3.c_h_i': [[x^8+x^4+2],\n",
    "                  [2*x^4+2*x^3*y+x^3*z+2*x^2*y^2+x^2*y*z+x*y^2*z+x*y*z^2+x*z^3+y^3*z,\n",
    "                   x^4+2*x^3*z+2*x^2*y^2+2*x^2*y*z+2*x*y^2*z+x*y*z^2+x*z^3+y^3*z,\n",
    "                   x^3*y+x^3*z+2*x^2*y^2+2*x^2*z^2+x*y^3+x*z^3+y^2*z^2]],\n",
    "    '3.3.c_h_k': [[x^8+2*x^7+x^6+x^5+2*x^4+2*x^3+x^2+x+2], \n",
    "                  []],\n",
    "    '3.3.c_h_m': [[x^8+x^6+2, \n",
    "                   x^8+2*x^7+2*x^6+x^5+x^4+x^3+x^2+x+1], \n",
    "                  [x^4+x^3*z+x^2*z^2+x*y^2*z+x*z^3+y^4]],\n",
    "    '3.3.c_i_k': [[], \n",
    "                  [2*x^4+x^3*z+2*x^2*z^2+2*x*y^2*z+x*z^3+y^4,\n",
    "                   x^4+2*x^3*y+x^3*z+x*y^2*z+x*y*z^2+x*z^3+y^3*z]],\n",
    "    '3.3.c_j_m': [[], [2*x^4+x^3*y+x^3*z+x*y^3+x*z^3+y^2*z^2]]\n",
    "}\n",
    "F0 = magma.FunctionField(GF(3))\n",
    "F0.AssignNames('x')\n",
    "S = magma.PolynomialRing(F0)\n",
    "S.AssignNames('y')\n",
    "print(\"Hyperelliptics\")\n",
    "for s in d:\n",
    "    for u in d[s][0]: #hyperelliptic\n",
    "        F = magma.FunctionField(S.1^2 - u(F0.1, 0, 0))\n",
    "        print(s, match_weil_poly(F, 2))\n",
    "print(\"Plane quartics\")\n",
    "for s in d:\n",
    "    for u in d[s][1]: #plane quartic\n",
    "        F = magma.FunctionField(u(F0.1, S.1, 1))\n",
    "        print(s, match_weil_poly(F, 2))\n"
   ]
  },
  {
   "cell_type": "code",
   "execution_count": 11,
   "metadata": {},
   "outputs": [
    {
     "name": "stdout",
     "output_type": "stream",
     "text": [
      "[x^6 + 3*x^5 + 12*x^4 + 24*x^3 + 48*x^2 + 48*x + 64, x^6 + 3*x^5 + 12*x^4 + 22*x^3 + 48*x^2 + 48*x + 64, x^6 + 3*x^5 + 12*x^4 + 20*x^3 + 48*x^2 + 48*x + 64]\n"
     ]
    }
   ],
   "source": [
    "P.<x> = QQ[]\n",
    "l = P.weil_polynomials(q=4,d=6)\n",
    "l2 = []\n",
    "for u in l:\n",
    "    tmp = point_count_from_weil_poly(u, 3, q=4)\n",
    "    if tmp[0] >= 8 and tmp[1] >= 2*tmp[0] + 16 and tmp[2] >= tmp[0] and \\\n",
    "        not _nojac_serre(u, q=4) and u(1)%2 == 0 and u[4]%2 == 0:\n",
    "        l2.append(u)\n",
    "print(l2)"
   ]
  },
  {
   "cell_type": "code",
   "execution_count": 12,
   "metadata": {},
   "outputs": [
    {
     "name": "stdout",
     "output_type": "stream",
     "text": [
      "3.4.d_m_u []\n",
      "3.4.d_m_u []\n",
      "3.4.d_m_u []\n",
      "3.4.d_m_u []\n",
      "3.4.d_m_y []\n"
     ]
    }
   ],
   "source": [
    "K.<a> = GF(4)\n",
    "Q.<x,y,z> = PolynomialRing(K, 3)\n",
    "d = {\n",
    "    '3.4.d_m_u': [a*x^4+a*x^3*y+a*x^3*z+a*x^2*y^2+a*x^2*y*z+x^2*z^2+x*y*z^2+x*z^3+y^3*z,\n",
    "                  a^2*x^4+a^2*x^3*y+a^2*x^3*z+a^2*x^2*y^2+a^2*x^2*y*z+x^2*z^2+x*y*z^2+x*z^3+y^3*z,\n",
    "                  a^2*x^4+x^3*y+x^3*z+a*x^2*y*z+x*y^3+x*y^2*z+x*y*z^2+x*z^3+y^2*z^2,\n",
    "                  a*x^4+x^3*y+x^3*z+a^2*x^2*y*z+x*y^3+x*y^2*z+x*y*z^2+x*z^3+y^2*z^2],\n",
    "    '3.4.d_m_y': [a^2*x^4+a*x^3*y+a*x^3*z+x^2*y*z+x*y^3+x*y^2*z+x*y*z^2+x*z^3+y^2*z^2]\n",
    "}\n",
    "F0 = magma.FunctionField(K)\n",
    "F0.AssignNames('x')\n",
    "S = magma.PolynomialRing(F0)\n",
    "S.AssignNames('y')\n",
    "for s in d:\n",
    "    for u in d[s]:\n",
    "        u0 = sum(F0.1^e[0]*S.1^e[1]*F0(c) for e, c in u.dict().items())\n",
    "        F = magma.FunctionField(u0)\n",
    "        print(s, match_weil_poly(F, 2))\n"
   ]
  },
  {
   "cell_type": "markdown",
   "metadata": {},
   "source": [
    "Compute possible Weil polynomials for $C$ when $q=3, g=2, g'=4, d=3$, then use Magma to check the resulting covers."
   ]
  },
  {
   "cell_type": "code",
   "execution_count": 13,
   "metadata": {},
   "outputs": [
    {
     "name": "stdout",
     "output_type": "stream",
     "text": [
      "[x^4 + 2*x^3 + 6*x^2 + 6*x + 9, x^4 + 2*x^3 + 3*x^2 + 6*x + 9]\n"
     ]
    }
   ],
   "source": [
    "P.<x> = QQ[]\n",
    "l = P.weil_polynomials(q=3,d=4)\n",
    "l2 = []\n",
    "for u in l:\n",
    "    tmp = point_count_from_weil_poly(u, 3, q=3)\n",
    "    if tmp[0] >= 6 and tmp[1] >= tmp[0] and tmp[2] >= 9 and \\\n",
    "        (not _nojac_serre(u, q=3)) and u(1)%3 == 0 and u[2]%3 == 0:\n",
    "        l2.append(u)\n",
    "print(l2)"
   ]
  },
  {
   "cell_type": "code",
   "execution_count": 14,
   "metadata": {},
   "outputs": [
    {
     "name": "stdout",
     "output_type": "stream",
     "text": [
      "2.3.c_d [(Algebraic function field defined over Univariate rational function field over GF(3) by\n",
      "y^2 + 2*x^6 + 2*x^4 + x^3 + x + 2, [2*$.1 + x^3 + 2*x, 2, 0, 1])]\n",
      "2.3.c_d []\n",
      "2.3.c_g []\n",
      "2.3.c_g [(Algebraic function field defined over Univariate rational function field over GF(3) by\n",
      "y^2 + 2*x^6 + 2*x^5 + x^4 + x^3 + x^2 + 2*x + 2, [(2*x^3 + 2*x^2 + x + 2)*$.1 + x^6 + x^3 + 2*x^2 + 2*x, 2, 0, 1])]\n"
     ]
    }
   ],
   "source": [
    "Q.<x,y,z> = PolynomialRing(GF(3))\n",
    "d = {\n",
    "    '2.3.c_d': [x^6+x^4+2*x^3+2*x+1, x^6+x^5+2*x^4+2*x^2+x+1],\n",
    "    '2.3.c_g': [x^5+2*x^4+x^3+2*x^2+x, x^6+x^5+2*x^4+2*x^3+2*x^2+x+1]\n",
    "}\n",
    "F0 = magma.FunctionField(GF(3))\n",
    "F0.AssignNames('x')\n",
    "S = magma.PolynomialRing(F0)\n",
    "S.AssignNames('y')\n",
    "for s in d:\n",
    "    for u in d[s]:\n",
    "        F = magma.FunctionField(S.1^2 - u(F0.1, 0, 0))\n",
    "        print(s, match_weil_poly(F, 3))"
   ]
  },
  {
   "cell_type": "markdown",
   "metadata": {},
   "source": [
    "Compute possible Weil polynomials for $C$ when $q=4, g=2, g'=4, d=3$, then use Magma to check the resulting covers."
   ]
  },
  {
   "cell_type": "code",
   "execution_count": 15,
   "metadata": {},
   "outputs": [
    {
     "name": "stdout",
     "output_type": "stream",
     "text": [
      "[x^4 + 6*x^3 + 16*x^2 + 24*x + 16, x^4 + 5*x^3 + 12*x^2 + 20*x + 16, x^4 + 4*x^3 + 11*x^2 + 16*x + 16, x^4 + 4*x^3 + 8*x^2 + 16*x + 16, x^4 + 3*x^3 + 7*x^2 + 12*x + 16, x^4 + 3*x^3 + 4*x^2 + 12*x + 16, x^4 + 2*x^3 + 6*x^2 + 8*x + 16, x^4 + 2*x^3 + 3*x^2 + 8*x + 16, x^4 + 2*x^3 + 8*x + 16, x^4 + x^3 + 5*x^2 + 4*x + 16, x^4 + x^3 + 2*x^2 + 4*x + 16, x^4 + x^3 - x^2 + 4*x + 16, x^4 + x^3 - 4*x^2 + 4*x + 16]\n"
     ]
    }
   ],
   "source": [
    "P.<x> = QQ[]\n",
    "l = P.weil_polynomials(q=4,d=4)\n",
    "l2 = []\n",
    "for u in l:\n",
    "    tmp = point_count_from_weil_poly(u, 3, q=4)\n",
    "    if tmp[0] >= 6 and tmp[1] >= tmp[0] and tmp[2] >= 12+16+16 and \\\n",
    "        not _nojac_serre(u, q=4) and u(1)%3 == 0:\n",
    "        l2.append(u)\n",
    "print(l2)"
   ]
  },
  {
   "cell_type": "code",
   "execution_count": 16,
   "metadata": {},
   "outputs": [
    {
     "name": "stdout",
     "output_type": "stream",
     "text": [
      "2.4.b_ab []\n",
      "2.4.b_c []\n",
      "2.4.b_f []\n",
      "2.4.b_f []\n",
      "2.4.c_d []\n",
      "2.4.c_d []\n",
      "2.4.c_d []\n",
      "2.4.d_h [(Algebraic function field defined over Univariate rational function field over GF(2^2) by\n",
      "y^2 + (x^3 + x + 1)*y + a*x^5 + a*x^4 + a*x^3 + a*x, [$.1 + a^2*x^3 + a*x^2 + x + a^2, 0, 0, 1])]\n",
      "2.4.d_h []\n",
      "2.4.e_i []\n",
      "2.4.e_l []\n",
      "2.4.e_l []\n"
     ]
    }
   ],
   "source": [
    "K.<a> = GF(4)\n",
    "Q.<x,y,z> = PolynomialRing(K, 3)\n",
    "d = {\n",
    "    '2.4.b_ab': [(x^3+a+1, a*x^6+(a+1)*x^4+a*x^3+a*x+a)],\n",
    "    '2.4.b_c': [(x, a*x^5+x)],\n",
    "    '2.4.b_f': [(x^3+x+1, x^3+x+1), (x^3+a, a*x^4+(a+1)*x)],\n",
    "    '2.4.c_d': [(x^2+x+a, a*x^5+(a+1)*x^4+x^3+(a+1)*x^2+(a+1)*x+a+1),\n",
    "                (x^2+x+a+1, (a+1)*x^5+(a+1)*x^4+x^3+(a+1)*x^2+a*x),\n",
    "                (x^2+x+a, a*x^5+a+1)],\n",
    "    '2.4.d_h': [(x^3+x+1, a*x^5+a*x^4+a*x^3+a*x), (x^3+x+1, a*x^5+a*x^4+(a+1)*x^3+(a+1)*x+1)],\n",
    "    '2.4.e_i': [(Q(1), x^5+x^4)],\n",
    "    '2.4.e_l': [(x^2+x+a+1, x^5+x^3+(a+1)*x^2+x+a), (x^2+x+a+1, x^5+(a+1)*x^4+x^3+x^2)]\n",
    "}\n",
    "F0 = magma.FunctionField(K)\n",
    "F0.AssignNames('x')\n",
    "S = magma.PolynomialRing(F0)\n",
    "S.AssignNames('y')\n",
    "for s in d:\n",
    "    for u in d[s]:\n",
    "        u0 = [sum(F0.1^e[0]*F0(c) for e, c in u[i].dict().items()) for i in range(2)]\n",
    "        F = magma.FunctionField(S.1^2 + S.1*u0[0] + u0[1])\n",
    "        print(s, match_weil_poly(F, 3))"
   ]
  },
  {
   "cell_type": "markdown",
   "metadata": {},
   "source": [
    "Compute possible Weil polynomials for $C$ when $q=3, g=2, g'=3$, then use Magma to check the resulting covers."
   ]
  },
  {
   "cell_type": "code",
   "execution_count": 17,
   "metadata": {},
   "outputs": [
    {
     "name": "stdout",
     "output_type": "stream",
     "text": [
      "[x^4 + 2*x^3 + 6*x^2 + 6*x + 9, x^4 + x^3 + 4*x^2 + 3*x + 9, x^4 + x^3 + 2*x^2 + 3*x + 9, x^4 + 6*x^2 + 9, x^4 + 4*x^2 + 9, x^4 + 2*x^2 + 9, x^4 - x^3 + 4*x^2 - 3*x + 9, x^4 - x^3 + 2*x^2 - 3*x + 9, x^4 - x^3 - 3*x + 9]\n"
     ]
    }
   ],
   "source": [
    "P.<x> = QQ[]\n",
    "l = P.weil_polynomials(q=3,d=4)\n",
    "l2 = []\n",
    "for u in l:\n",
    "    tmp = point_count_from_weil_poly(u, 3, q=3)\n",
    "    if tmp[0] >= 3 and tmp[1] >= 2*tmp[0]+3 and \\\n",
    "        not _nojac_serre(u, q=3) and u(1)%2 == 0:\n",
    "        l2.append(u)\n",
    "print(l2)"
   ]
  },
  {
   "cell_type": "code",
   "execution_count": 18,
   "metadata": {},
   "outputs": [
    {
     "name": "stdout",
     "output_type": "stream",
     "text": [
      "2.3.ab_a []\n",
      "2.3.ab_c []\n",
      "2.3.ab_c [(Algebraic function field defined over Univariate rational function field over GF(3) by\n",
      "y^2 + x^5 + 2*x^2 + x, [2*x, 0, 1])]\n",
      "2.3.ab_e [(Algebraic function field defined over Univariate rational function field over GF(3) by\n",
      "y^2 + x^6 + x^4 + 2*x^3 + x^2 + 2*x, [2*x^2 + 2*x + 1, 0, 1])]\n",
      "2.3.a_c []\n",
      "2.3.a_c []\n",
      "2.3.a_e []\n",
      "2.3.b_c []\n",
      "2.3.b_c [(Algebraic function field defined over Univariate rational function field over GF(3) by\n",
      "y^2 + 2*x^5 + x^2 + 2*x, [x, 0, 1])]\n",
      "2.3.b_e [(Algebraic function field defined over Univariate rational function field over GF(3) by\n",
      "y^2 + 2*x^6 + 2*x^4 + x^3 + 2*x^2 + x, [x^2 + x + 2, 0, 1])]\n",
      "2.3.c_g []\n",
      "2.3.c_g []\n"
     ]
    }
   ],
   "source": [
    "Q.<x,y,z> = PolynomialRing(GF(3))\n",
    "d = {\n",
    "    '2.3.ab_a': [2*x^6+x^4+2*x],\n",
    "    '2.3.ab_c': [x^6+x^5+2*x^3+x^2+x+2, 2*x^5+x^2+2*x],\n",
    "    '2.3.ab_e': [2*x^6+2*x^4+x^3+2*x^2+x],\n",
    "    '2.3.a_c': [x^5+x, x^6+x^5+2*x^3+x+2],\n",
    "    '2.3.a_e': [x^6+2*x^5+x+2],\n",
    "    '2.3.b_c': [2*x^6+2*x^5+x^3+2*x^2+2*x+1, x^5+2*x^2+x],\n",
    "    '2.3.b_e': [x^6+x^4+2*x^3+x^2+2*x],\n",
    "    '2.3.c_g': [x^5+2*x^4+x^3+2*x^2+x, x^6+x^5+2*x^4+2*x^3+2*x^2+x+1],\n",
    "}\n",
    "F0 = magma.FunctionField(GF(3))\n",
    "F0.AssignNames('x')\n",
    "S = magma.PolynomialRing(F0)\n",
    "S.AssignNames('y')\n",
    "for s in d:\n",
    "    for u in d[s]:\n",
    "        F = magma.FunctionField(S.1^2 - u(F0.1, 0, 0))\n",
    "        print(s, match_weil_poly(F, 2))"
   ]
  },
  {
   "cell_type": "markdown",
   "metadata": {},
   "source": [
    "Compute possible Weil polynomials for $C$ when $q=4, g=2, g'=3$, then use Magma to check the resulting covers."
   ]
  },
  {
   "cell_type": "code",
   "execution_count": 19,
   "metadata": {},
   "outputs": [
    {
     "name": "stdout",
     "output_type": "stream",
     "text": [
      "[x^4 + 3*x^3 + 8*x^2 + 12*x + 16, x^4 + x^3 + 6*x^2 + 4*x + 16, x^4 + x^3 + 4*x^2 + 4*x + 16, x^4 + x^3 + 2*x^2 + 4*x + 16, x^4 - x^3 + 6*x^2 - 4*x + 16, x^4 - x^3 + 4*x^2 - 4*x + 16, x^4 - x^3 + 2*x^2 - 4*x + 16, x^4 - x^3 - 4*x + 16]\n"
     ]
    }
   ],
   "source": [
    "P.<x> = QQ[]\n",
    "l = P.weil_polynomials(q=4,d=4)\n",
    "l2 = []\n",
    "for u in l:\n",
    "    tmp = point_count_from_weil_poly(u, 3, q=4)\n",
    "    if tmp[0] >= 4 and tmp[1] >= 2*tmp[0]+8 and tmp[2] >= tmp[0] and \\\n",
    "        not _nojac_serre(u, q=4) and u(1)%2 == 0 and u[2]%2 == 0:\n",
    "        l2.append(u)\n",
    "print(l2)"
   ]
  },
  {
   "cell_type": "code",
   "execution_count": 20,
   "metadata": {},
   "outputs": [
    {
     "name": "stdout",
     "output_type": "stream",
     "text": [
      "2.4.ab_a []\n",
      "2.4.ab_c []\n",
      "2.4.ab_e [(Algebraic function field defined over Univariate rational function field over GF(2^2) by\n",
      "y^2 + x*y + x^5 + x, [x^3 + a, 1, 1])]\n",
      "2.4.ab_g []\n",
      "2.4.b_c []\n",
      "2.4.b_c []\n",
      "2.4.b_e [(Algebraic function field defined over Univariate rational function field over GF(2^2) by\n",
      "y^2 + x*y + x^5 + a*x^2 + x, [x^3 + a, 1, 1])]\n",
      "2.4.b_g []\n",
      "2.4.b_g []\n",
      "2.4.d_i []\n"
     ]
    }
   ],
   "source": [
    "K.<a> = GF(4)\n",
    "Q.<x,y,z> = PolynomialRing(K, 3)\n",
    "d = {\n",
    "    '2.4.ab_a': [(x, x^5+a*x^3+x)],\n",
    "    '2.4.ab_c': [(x, a*x^5+a*x^2+x)],\n",
    "    '2.4.ab_e': [(x, x^5+x)],\n",
    "    '2.4.ab_g': [(x, a*x^5+a*x^3+a*x^2+x)],\n",
    "    '2.4.b_c': [(x, a*x^5+x), (x, (a+1)*x^5+x)],\n",
    "    '2.4.b_e': [(x, x^5+a*x^2+x)],\n",
    "    '2.4.b_g': [(x, a*x^5+a*x^3+x), (x, (a+1)*x^5+(a+1)*x^3+x)],\n",
    "    '2.4.d_i': [(x, x^5+x^3+x)],\n",
    "}\n",
    "F0 = magma.FunctionField(K)\n",
    "F0.AssignNames('x')\n",
    "S = magma.PolynomialRing(F0)\n",
    "S.AssignNames('y')\n",
    "for s in d:\n",
    "    for u in d[s]:\n",
    "        u0 = [sum(F0.1^e[0]*F0(c) for e, c in u[i].dict().items()) for i in range(2)]\n",
    "        F = magma.FunctionField(S.1^2 + S.1*u0[0] + u0[1])\n",
    "        print(s, match_weil_poly(F, 2))"
   ]
  }
 ],
 "metadata": {
  "kernelspec": {
   "display_name": "SageMath 9.4",
   "language": "sage",
   "name": "sagemath"
  },
  "language_info": {
   "codemirror_mode": {
    "name": "ipython",
    "version": 3
   },
   "file_extension": ".py",
   "mimetype": "text/x-python",
   "name": "python",
   "nbconvert_exporter": "python",
   "pygments_lexer": "ipython3",
   "version": "3.9.5"
  }
 },
 "nbformat": 4,
 "nbformat_minor": 5
}
