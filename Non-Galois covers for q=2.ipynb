{
 "cells": [
  {
   "cell_type": "markdown",
   "metadata": {},
   "source": [
    "This notebook is associated with the paper \"The relative class number one problem for function fields, II\" by K.S. Kedlaya. It runs in SageMath (tested using version 9.4) and Magma (tested using version 2.26-9); it also requires the pandas and openpyxl libraries (`sage --pip install openpyxl/pandas`).\n",
    "\n",
    "In this notebook, we make computations as part of the proof that for $q=2$, there are no non-Galois covers with relative class number 1. This depends on the exhaustion over Weil polynomials performed in \"The relative class number one problem for function fields, I\"."
   ]
  },
  {
   "cell_type": "code",
   "execution_count": 311,
   "metadata": {},
   "outputs": [],
   "source": [
    "load(\"auxiliary.sage\")"
   ]
  },
  {
   "cell_type": "code",
   "execution_count": 312,
   "metadata": {},
   "outputs": [],
   "source": [
    "P.<T> = QQ[]"
   ]
  },
  {
   "cell_type": "markdown",
   "metadata": {},
   "source": [
    "Read data about the exhaustion from an Excel spreadsheet."
   ]
  },
  {
   "cell_type": "code",
   "execution_count": 313,
   "metadata": {},
   "outputs": [],
   "source": [
    "import pandas"
   ]
  },
  {
   "cell_type": "code",
   "execution_count": 314,
   "metadata": {},
   "outputs": [
    {
     "name": "stdout",
     "output_type": "stream",
     "text": [
      "['Unnamed: 0', 'd', 'g', \"g'\", 'Label of J(C)', '#J(C)', 'Counts of C', \"Counts of C'\", 'Cyclic']\n"
     ]
    }
   ],
   "source": [
    "df = pandas.read_excel('polys.xlsx')\n",
    "assert 'Cyclic' in df\n",
    "print(list(df))"
   ]
  },
  {
   "cell_type": "code",
   "execution_count": 315,
   "metadata": {},
   "outputs": [],
   "source": [
    "candidates = {}\n",
    "for i in range(len(df)):\n",
    "    r = df.iloc[i]\n",
    "    d = r[\"d\"]\n",
    "    g = r[\"g\"]\n",
    "    g1 = r[\"g'\"]\n",
    "    if (d,g,g1) not in candidates:\n",
    "        candidates[d,g,g1] = []\n",
    "    counts1 = eval(r[\"Counts of C\"])\n",
    "    counts2 = eval(r[\"Counts of C'\"])\n",
    "    ordj = r[\"#J(C)\"]\n",
    "    candidates[d,g,g1].append((counts1, counts2, ordj))"
   ]
  },
  {
   "cell_type": "markdown",
   "metadata": {},
   "source": [
    "Identify all Weil polynomials with specified initial Frobenius traces."
   ]
  },
  {
   "cell_type": "code",
   "execution_count": 316,
   "metadata": {},
   "outputs": [],
   "source": [
    "def weil_polys_from_traces(P, d, q, l):\n",
    "    Q.<t> = PowerSeriesRing(QQ)\n",
    "    u = sum(-l[i-1]*t^i/i for i in range(1,len(l)+1))\n",
    "    v = exp(u)\n",
    "    l2 = v.polynomial().list()[:len(l)+1]\n",
    "    l2 = [ZZ(i) for i in l2]\n",
    "    l3 = P.weil_polynomials(d=d, q=q, lead=l2)\n",
    "    if len(l2) < d//2+1:\n",
    "        return l3\n",
    "    return [w for w in l3 if w.is_weil_polynomial()]"
   ]
  },
  {
   "cell_type": "code",
   "execution_count": 317,
   "metadata": {},
   "outputs": [],
   "source": [
    "def weil_polys_from_point_counts(P, d, q, l):\n",
    "    return weil_polys_from_traces(P, d, q, [q^i+1-l[i-1] for i in range(1, len(l)+1)])"
   ]
  },
  {
   "cell_type": "markdown",
   "metadata": {},
   "source": [
    "Confirm that for $d>2$, the Galois group contains a $d$-cycle."
   ]
  },
  {
   "cell_type": "code",
   "execution_count": 318,
   "metadata": {},
   "outputs": [
    {
     "name": "stdout",
     "output_type": "stream",
     "text": [
      "5 2 6 [5, 2, 0, 2, 4] [0, 5, 0, 0, 5]\n"
     ]
    }
   ],
   "source": [
    "for (d, g, g1) in candidates:\n",
    "    if d > 2:\n",
    "        for (a,b,_) in candidates[d,g,g1]:\n",
    "            u = weil_poly_from_point_count(a, g)\n",
    "            v = weil_poly_from_point_count(b, g1)\n",
    "            ct1 = place_count_from_weil_poly(u, 5)\n",
    "            ct2 = place_count_from_weil_poly(v, 5)\n",
    "            if not (ct1[0] > sum(ct2[i] for i in range((d-1)//2)) + (0 if d%2 else 1/2*ct2[d//2-1])):\n",
    "                print(d,g,g1,ct1,ct2)"
   ]
  },
  {
   "cell_type": "markdown",
   "metadata": {},
   "source": [
    "Compute possible splitting sequences given the point counts for $C$ and $C'$ and the degree $d$ of the morphism.\n",
    "\n",
    "- `alternating`: if $d$ is odd, assume the Galois group is contained in $A_d$; if $d$ is even, assume the quadratic resolvent is constant.\n",
    "- `seed`: if specified, only return sequences that extend one in this list. Assumes all specified sequences are of the same length.\n",
    "- `avoid`: a list of splitting types that must be avoided."
   ]
  },
  {
   "cell_type": "code",
   "execution_count": 424,
   "metadata": {},
   "outputs": [],
   "source": [
    "def splitting_sequences(ct1, ct2, d, alternating=False, seed=[[]], avoid=[]):\n",
    "    n = len(ct1)\n",
    "    assert n == len(ct2)\n",
    "    ct1 = place_count_from_point_count(ct1, n)\n",
    "    parts = Partitions(d)\n",
    "    parts0 = [k for k in parts if (len(k)-d)%2 == 0]\n",
    "    parts1 = [k for k in parts if (len(k)-d)%2 == 1]\n",
    "    l = seed[:]\n",
    "    for i in range(len(l[0])+1, n+1):\n",
    "        l2 = []\n",
    "        for t in l:\n",
    "            if not alternating:\n",
    "                tmp = parts\n",
    "            elif d%2 == 1 or i%2 == 0:\n",
    "                tmp = parts0\n",
    "            else:\n",
    "                tmp = parts1\n",
    "            tmp = [p for p in tmp if p not in avoid]\n",
    "            for u in itertools.combinations_with_replacement(tmp, ct1[i-1]):\n",
    "                t2 = t + [u]\n",
    "                ct = [0 for j in range(i)]\n",
    "                for j in range(1, i+1):\n",
    "                    for k in t2[j-1]:\n",
    "                        for c in k:\n",
    "                            for c2 in range(1, i//(j*c) + 1):\n",
    "                                ct[j*c*c2-1] += j*c\n",
    "                if ct[i-1] == ct2[i-1]:\n",
    "                    l2.append(t2)\n",
    "        l = l2\n",
    "    return l"
   ]
  },
  {
   "cell_type": "markdown",
   "metadata": {},
   "source": [
    "Convert a splitting sequence to a count of places in the covering curve."
   ]
  },
  {
   "cell_type": "code",
   "execution_count": 320,
   "metadata": {},
   "outputs": [],
   "source": [
    "def place_count_from_splittings(s):\n",
    "    n = len(s)\n",
    "    ctp = [0 for _ in range(n)]\n",
    "    for i in range(n):\n",
    "        for p in s[i]:\n",
    "            for j in p:\n",
    "                if (i+1)*j <= n:\n",
    "                    ctp[(i+1)*j-1] += 1\n",
    "    return ctp"
   ]
  },
  {
   "cell_type": "markdown",
   "metadata": {},
   "source": [
    "Convert a splitting sequence to the traces of the quadratic resolvent. This assumes that the quadratic resolvent is purely geometric."
   ]
  },
  {
   "cell_type": "code",
   "execution_count": 321,
   "metadata": {},
   "outputs": [],
   "source": [
    "def splittings_to_quadratic_resolvent(ct1, s):\n",
    "    n = max(len(ct1), len(s))\n",
    "    s2 = [tuple([1,1] if (sum(p)-len(p))%2==0 else [2] for p in t) for t in s]\n",
    "    ctp = place_count_from_splittings(s2)\n",
    "    ct = point_count_from_place_count(ctp, n)\n",
    "    return tuple(ct1[i] - ct[i] for i in range(n))"
   ]
  },
  {
   "cell_type": "markdown",
   "metadata": {},
   "source": [
    "Case $d=3$."
   ]
  },
  {
   "cell_type": "markdown",
   "metadata": {},
   "source": [
    "Subcase $(g,g') = (4,10)$."
   ]
  },
  {
   "cell_type": "code",
   "execution_count": 322,
   "metadata": {},
   "outputs": [
    {
     "data": {
      "text/plain": [
       "[(6, 6, 0, 0), (6, 6, 0, 0), (7, 7, 0, 0), (7, 9, 0, 2), (8, 8, 0, 0)]"
      ]
     },
     "execution_count": 322,
     "metadata": {},
     "output_type": "execute_result"
    }
   ],
   "source": [
    "[(a[0], a[1], b[0], b[1]) for (a,b,_) in candidates[3,4,10]]"
   ]
  },
  {
   "cell_type": "markdown",
   "metadata": {},
   "source": [
    "Subcase $(g,g') = (3,7)$ and $C'(\\mathbb{F}_2) > 1$."
   ]
  },
  {
   "cell_type": "code",
   "execution_count": 323,
   "metadata": {},
   "outputs": [
    {
     "data": {
      "text/plain": [
       "[(6, 10, 2, 2)]"
      ]
     },
     "execution_count": 323,
     "metadata": {},
     "output_type": "execute_result"
    }
   ],
   "source": [
    "[(a[0], a[1], b[0], b[1]) for (a,b,_) in candidates[3,3,7] if b[0] > 1]"
   ]
  },
  {
   "cell_type": "markdown",
   "metadata": {},
   "source": [
    "Subcase $(g,g') = (3,7)$ if $C'(\\mathbb{F}_2) = 1$."
   ]
  },
  {
   "cell_type": "code",
   "execution_count": 324,
   "metadata": {},
   "outputs": [
    {
     "data": {
      "text/plain": [
       "[(5, 9, 14, 1, 3, 16)]"
      ]
     },
     "execution_count": 324,
     "metadata": {},
     "output_type": "execute_result"
    }
   ],
   "source": [
    "[(a[0], a[1], a[2], b[0], b[1], b[2]) for (a,b,_) in candidates[3,3,7] if b[0] == 1 and b[1] >= 3]"
   ]
  },
  {
   "cell_type": "code",
   "execution_count": 325,
   "metadata": {},
   "outputs": [
    {
     "data": {
      "text/plain": [
       "[[([3], [3], [3], [3], [2, 1]), ([3], [3]), ([3], [3], [2, 1])]]"
      ]
     },
     "execution_count": 325,
     "metadata": {},
     "output_type": "execute_result"
    }
   ],
   "source": [
    "splitting_sequences([5,9,14],[1,3,16],3)"
   ]
  },
  {
   "cell_type": "code",
   "execution_count": 326,
   "metadata": {},
   "outputs": [],
   "source": [
    "assert not weil_polys_from_traces(P, 4, 2, [-3, -5, 0])"
   ]
  },
  {
   "cell_type": "markdown",
   "metadata": {},
   "source": [
    "Subcase $(g,g') = (3,7)$ if $C'(\\mathbb{F}_2) = 0$."
   ]
  },
  {
   "cell_type": "code",
   "execution_count": 327,
   "metadata": {},
   "outputs": [
    {
     "data": {
      "text/plain": [
       "[(2, 8, 0, 0),\n",
       " (3, 7, 0, 0),\n",
       " (3, 7, 0, 0),\n",
       " (4, 6, 0, 0),\n",
       " (4, 6, 0, 0),\n",
       " (4, 8, 0, 0),\n",
       " (4, 8, 0, 0),\n",
       " (4, 8, 0, 0),\n",
       " (4, 10, 0, 2),\n",
       " (4, 12, 0, 6)]"
      ]
     },
     "execution_count": 327,
     "metadata": {},
     "output_type": "execute_result"
    }
   ],
   "source": [
    "[(a[0], a[1], b[0], b[1]) for (a,b,_) in candidates[3,3,7] if b[0] == 0]"
   ]
  },
  {
   "cell_type": "code",
   "execution_count": 328,
   "metadata": {},
   "outputs": [],
   "source": [
    "assert not weil_polys_from_traces(P, 4, 2, [-2, -8])"
   ]
  },
  {
   "cell_type": "code",
   "execution_count": 329,
   "metadata": {},
   "outputs": [],
   "source": [
    "assert not weil_polys_from_traces(P, 4, 2, [-3, -7])"
   ]
  },
  {
   "cell_type": "code",
   "execution_count": 330,
   "metadata": {},
   "outputs": [],
   "source": [
    "assert not weil_polys_from_traces(P, 4, 2, [-4, -6])"
   ]
  },
  {
   "cell_type": "code",
   "execution_count": 331,
   "metadata": {},
   "outputs": [],
   "source": [
    "assert not weil_polys_from_traces(P, 4, 2, [-4, -8])"
   ]
  },
  {
   "cell_type": "markdown",
   "metadata": {},
   "source": [
    "Subcase $(g,g') = (2,4)$."
   ]
  },
  {
   "cell_type": "code",
   "execution_count": 332,
   "metadata": {},
   "outputs": [
    {
     "data": {
      "text/plain": [
       "[(1, 0), (3, 0), (4, 0)]"
      ]
     },
     "execution_count": 332,
     "metadata": {},
     "output_type": "execute_result"
    }
   ],
   "source": [
    "[(a[0], b[0]) for (a,b,_) in candidates[3,2,4]]"
   ]
  },
  {
   "cell_type": "markdown",
   "metadata": {},
   "source": [
    "Subcase $(g,g') = (2,6)$."
   ]
  },
  {
   "cell_type": "code",
   "execution_count": 333,
   "metadata": {},
   "outputs": [
    {
     "data": {
      "text/plain": [
       "[(3, 0, 2), (4, 0, 2), (4, 0, 2), (5, 0, 2)]"
      ]
     },
     "execution_count": 333,
     "metadata": {},
     "output_type": "execute_result"
    }
   ],
   "source": [
    "[(a[0], b[0], b[1]) for (a,b,_) in candidates[3,2,6]]"
   ]
  },
  {
   "cell_type": "markdown",
   "metadata": {},
   "source": [
    "Case $d=4$."
   ]
  },
  {
   "cell_type": "markdown",
   "metadata": {},
   "source": [
    "Show that $G \\neq D_4$ by looking for iterated extensions."
   ]
  },
  {
   "cell_type": "code",
   "execution_count": 334,
   "metadata": {},
   "outputs": [
    {
     "name": "stdout",
     "output_type": "stream",
     "text": [
      "4 2 5 [2, 8, 8, 24, 52, 56, 100, 256, 476, 968, 2180, 4272, 8140] [0, 0, 12, 16, 60, 24, 84, 160, 444, 840, 2244, 4144, 8268]\n"
     ]
    }
   ],
   "source": [
    "for (d, g, g1) in [(4,3,9), (4,2,5)]:\n",
    "    for (a,b,_) in candidates[d,g,g1]:\n",
    "        for i in range(len(df)):\n",
    "            if df.loc[i, \"d\"] == 2 and df.loc[i, \"g\"] == g and \\\n",
    "            df.loc[i, \"g'\"] == 2*g-1 and eval(df.loc[i, \"Counts of C\"]) == a and \\\n",
    "            df.loc[i, \"Cyclic\"] in [\"Yes\", \"Unknown\"]:\n",
    "                for j in range(len(df)):\n",
    "                    if df.loc[j, \"d\"] == 2 and df.loc[j, \"g\"] == 2*g-1 and \\\n",
    "                    df.loc[j, \"g'\"] == g1 and df.loc[j, \"Cyclic\"] in [\"Yes\", \"Unknown\"] and\\\n",
    "                    df.loc[i, \"Counts of C'\"] == df.loc[j, \"Counts of C\"] and \\\n",
    "                    eval(df.loc[j, \"Counts of C'\"]) == b:\n",
    "                        print(d,g,g1,a,b)"
   ]
  },
  {
   "cell_type": "markdown",
   "metadata": {},
   "source": [
    "Subcase $(g,g') = (3,9)$ and the quadratic resolvent is constant."
   ]
  },
  {
   "cell_type": "code",
   "execution_count": 335,
   "metadata": {},
   "outputs": [
    {
     "data": {
      "text/plain": [
       "[(5, 9, 0, 0)]"
      ]
     },
     "execution_count": 335,
     "metadata": {},
     "output_type": "execute_result"
    }
   ],
   "source": [
    "[(a[0], a[1], b[0], b[1]) for (a,b,c) in candidates[4,3,9] if c%3 == 0]"
   ]
  },
  {
   "cell_type": "markdown",
   "metadata": {},
   "source": [
    "Subcase $(g,g') = (2,5)$ and the quadratic resolvent is constant."
   ]
  },
  {
   "cell_type": "code",
   "execution_count": 337,
   "metadata": {},
   "outputs": [
    {
     "data": {
      "text/plain": [
       "[(4, 1), (5, 1)]"
      ]
     },
     "execution_count": 337,
     "metadata": {},
     "output_type": "execute_result"
    }
   ],
   "source": [
    "[(a[0], b[0]) for (a,b,c) in candidates[4,2,5] if c%3 == 0]"
   ]
  },
  {
   "cell_type": "markdown",
   "metadata": {},
   "source": [
    "Subcase $(g,g') = (3,9)$ and the quadratic resolvent is purely geometric."
   ]
  },
  {
   "cell_type": "code",
   "execution_count": 336,
   "metadata": {},
   "outputs": [
    {
     "data": {
      "text/plain": [
       "[(5, 0, 0, 0), (6, 0, 0, 6), (6, 0, 2, 0), (6, 0, 0, 0), (6, 0, 2, 0)]"
      ]
     },
     "execution_count": 336,
     "metadata": {},
     "output_type": "execute_result"
    }
   ],
   "source": [
    "[(a[0], b[0], b[1], b[2]) for (a,b,_) in candidates[4,3,9]]"
   ]
  },
  {
   "cell_type": "markdown",
   "metadata": {},
   "source": [
    "Subcase $(g,g') = (2,5)$ and the quadratic resolvent is purely geometric."
   ]
  },
  {
   "cell_type": "code",
   "execution_count": 338,
   "metadata": {},
   "outputs": [
    {
     "data": {
      "text/plain": [
       "[(2, 8, 0, 0, 12, 4),\n",
       " (4, 4, 0, 4, 12, 8),\n",
       " (4, 4, 1, 1, 10, 8),\n",
       " (4, 8, 0, 8, 6, 10),\n",
       " (4, 8, 1, 5, 4, 10)]"
      ]
     },
     "execution_count": 338,
     "metadata": {},
     "output_type": "execute_result"
    }
   ],
   "source": [
    "[(a[0], a[1], b[0], b[1], b[2], c) for (a,b,c) in candidates[4,2,5] if c%2 == 0]"
   ]
  },
  {
   "cell_type": "markdown",
   "metadata": {},
   "source": [
    "Case $d=5$."
   ]
  },
  {
   "cell_type": "code",
   "execution_count": 339,
   "metadata": {},
   "outputs": [
    {
     "data": {
      "text/plain": [
       "[([3, 5, 9, 33, 33, 65], [0, 0, 0, 20, 15, 90], 5),\n",
       " ([3, 7, 9, 31, 33, 43], [0, 0, 9, 8, 30, 33], 6),\n",
       " ([4, 8, 10, 24, 14, 56], [0, 0, 15, 20, 20, 45], 10),\n",
       " ([4, 8, 10, 24, 14, 56], [0, 6, 0, 18, 0, 60], 10),\n",
       " ([4, 10, 7, 18, 24, 55], [0, 2, 15, 18, 40, 23], 11),\n",
       " ([5, 9, 5, 17, 25, 81], [0, 6, 3, 34, 30, 63], 15),\n",
       " ([5, 9, 5, 17, 25, 81], [0, 10, 0, 10, 25, 70], 15),\n",
       " ([6, 6, 9, 10, 36, 87], [1, 3, 7, 27, 41, 69], 19)]"
      ]
     },
     "execution_count": 339,
     "metadata": {},
     "output_type": "execute_result"
    }
   ],
   "source": [
    "[(a[:6], b[:6], c) for (a,b,c) in candidates[5,2,6]]"
   ]
  },
  {
   "cell_type": "markdown",
   "metadata": {},
   "source": [
    "Assuming that $d=5$, convert a sequence of splittings to the traces of $B_1$ and $B_2$."
   ]
  },
  {
   "cell_type": "code",
   "execution_count": 344,
   "metadata": {},
   "outputs": [],
   "source": [
    "def splittings_to_B1_B2(ct1, ct2, s, return_both=False):\n",
    "    d = {(5,): [(5,1), (5,) * 4],\n",
    "         (3,1,1): [(3,3), (3,) * 6 + (1,) * 2],\n",
    "         (2,2,1): [(2,) * 2 + (1,) * 2, (2,) * 10],\n",
    "         (1,1,1,1,1): [(1,) * 6, (1,) * 20]}\n",
    "    n = len(s)\n",
    "    ct1p = place_count_from_point_count(ct1, n)\n",
    "    ct2p = place_count_from_point_count(ct2, n)\n",
    "    ct3p = [0 for _ in range(n)]\n",
    "    ct4p = [0 for _ in range(n)]\n",
    "    for i in range(n):\n",
    "        for p in s[i]:\n",
    "            pt = tuple(p)\n",
    "            for j in d[pt][0]:\n",
    "                if (i+1)*j <= n:\n",
    "                    ct3p[(i+1)*j-1] += 1\n",
    "            for j in d[pt][1]:\n",
    "                if (i+1)*j <= n:\n",
    "                    ct4p[(i+1)*j-1] += 1\n",
    "    ct3 = point_count_from_place_count(ct3p, n)\n",
    "    ct4 = point_count_from_place_count(ct4p, n)\n",
    "    trA = [ct1[i] - ct2[i] for i in range(n)]\n",
    "    trB1 = [ct1[i] - ct3[i] for i in range(n)]\n",
    "    trB2 = [ct1[i] - ct4[i] - 2*trA[i] - trB1[i] for i in range(n)]\n",
    "    return trB1, trB2"
   ]
  },
  {
   "cell_type": "markdown",
   "metadata": {},
   "source": [
    "Subcase $(\\#C(\\mathbb{F}_2); \\#C'(\\mathbb{F}_2), \\dots, \\#C'(\\mathbb{F}_{32})) = (4; 0,6,0,18,0)$."
   ]
  },
  {
   "cell_type": "code",
   "execution_count": 340,
   "metadata": {},
   "outputs": [
    {
     "data": {
      "text/plain": [
       "[]"
      ]
     },
     "execution_count": 340,
     "metadata": {},
     "output_type": "execute_result"
    }
   ],
   "source": [
    "splitting_sequences([4,8,10,24,14],[0,6,0,18,0],5)"
   ]
  },
  {
   "cell_type": "markdown",
   "metadata": {},
   "source": [
    "Subcase $(\\#C(\\mathbb{F}_2), \\dots, \\#C(\\mathbb{F}_8); \\#C'(\\mathbb{F}_2), \\dots, \\#C'(\\mathbb{F}_8)) = (4,10,7;0,2,15)$,"
   ]
  },
  {
   "cell_type": "code",
   "execution_count": 341,
   "metadata": {},
   "outputs": [
    {
     "data": {
      "text/plain": [
       "[[([5], [5], [5], [5]), ([5], [5], [2, 2, 1]), ([1, 1, 1, 1, 1],)]]"
      ]
     },
     "execution_count": 341,
     "metadata": {},
     "output_type": "execute_result"
    }
   ],
   "source": [
    "splitting_sequences([4,10,7],[0,2,15],5,alternating=True)"
   ]
  },
  {
   "cell_type": "markdown",
   "metadata": {},
   "source": [
    "Subcase $(\\#C(\\mathbb{F}_2), \\#C(\\mathbb{F}_4); \\#C'(\\mathbb{F}_2), \\#C'(\\mathbb{F}_4)) = (6,6;1,3)$."
   ]
  },
  {
   "cell_type": "code",
   "execution_count": 342,
   "metadata": {},
   "outputs": [
    {
     "data": {
      "text/plain": [
       "[]"
      ]
     },
     "execution_count": 342,
     "metadata": {},
     "output_type": "execute_result"
    }
   ],
   "source": [
    "splitting_sequences([6,6],[1,3],5,alternating=True)"
   ]
  },
  {
   "cell_type": "markdown",
   "metadata": {},
   "source": [
    "Subcase $(\\#C(\\mathbb{F}_2), \\dots, \\#C(\\mathbb{F}_8); \\#C'(\\mathbb{F}_2), \\dots, \\#C'(\\mathbb{F}_8)) = (5,9,5;0,6,3)$."
   ]
  },
  {
   "cell_type": "code",
   "execution_count": 343,
   "metadata": {
    "scrolled": false
   },
   "outputs": [
    {
     "data": {
      "text/plain": [
       "[]"
      ]
     },
     "execution_count": 343,
     "metadata": {},
     "output_type": "execute_result"
    }
   ],
   "source": [
    "splitting_sequences([5,9,5],[0,6,3],5,alternating=True)"
   ]
  },
  {
   "cell_type": "markdown",
   "metadata": {},
   "source": [
    "Subcase $(\\#C(\\mathbb{F}_2),\\dots \\#C(\\mathbb{F}_{32}); \\#C'(\\mathbb{F}_2), \\dots, \\#C'(\\mathbb{F}_{32}))  = (3, 5, 9, 33, 33; 0, 0, 0, 20, 15)$."
   ]
  },
  {
   "cell_type": "code",
   "execution_count": 410,
   "metadata": {},
   "outputs": [
    {
     "name": "stdout",
     "output_type": "stream",
     "text": [
      "{([5], [5], [5])}\n",
      "{([5],)}\n",
      "{([5], [5])}\n",
      "{([5], [5], [5], [5], [5], [5])}\n"
     ]
    }
   ],
   "source": [
    "l = splitting_sequences([3,5,9,33,33],[0,0,0,20,15],5,alternating=True)\n",
    "print(set(s[0] for s in l))\n",
    "print(set(s[1] for s in l))\n",
    "print(set(s[2] for s in l))\n",
    "print(set(s[4] for s in l))"
   ]
  },
  {
   "cell_type": "code",
   "execution_count": 411,
   "metadata": {},
   "outputs": [
    {
     "data": {
      "text/plain": [
       "[([0, 0, 0, -20, -15], [-3, -5, -9, -53, -48]),\n",
       " ([0, 0, 0, 4, -15], [-3, -5, -9, -13, -48]),\n",
       " ([0, 0, 0, -8, -15], [-3, -5, -9, 7, -48]),\n",
       " ([0, 0, 0, -20, -15], [-3, -5, -9, 27, -48])]"
      ]
     },
     "execution_count": 411,
     "metadata": {},
     "output_type": "execute_result"
    }
   ],
   "source": [
    "[splittings_to_B1_B2([3,5,9,33,33], [0,0,0,20,15], s) for s in l]"
   ]
  },
  {
   "cell_type": "code",
   "execution_count": 347,
   "metadata": {},
   "outputs": [
    {
     "data": {
      "text/plain": [
       "{-13, -8, -3, 2, 7, 12, 17, 22, 27, 32, 37, 47, 57}"
      ]
     },
     "execution_count": 347,
     "metadata": {},
     "output_type": "execute_result"
    }
   ],
   "source": [
    "set(trace_from_weil_poly(u, 5)[4] for u in weil_polys_from_traces(P, 12, 2, [-3, -5, -9]))"
   ]
  },
  {
   "cell_type": "markdown",
   "metadata": {},
   "source": [
    "Subcase $(\\#C(\\mathbb{F}_2),\\dots \\#C(\\mathbb{F}_{8}); \\#C'(\\mathbb{F}_2), \\dots, \\#C'(\\mathbb{F}_{8}))  = (4, 8, 10; 0, 0, 15)$,"
   ]
  },
  {
   "cell_type": "code",
   "execution_count": 348,
   "metadata": {},
   "outputs": [
    {
     "data": {
      "text/plain": [
       "{([5], [5], [5], [5])}"
      ]
     },
     "execution_count": 348,
     "metadata": {},
     "output_type": "execute_result"
    }
   ],
   "source": [
    "set(s[0] for s in splitting_sequences([4,8,10],[0,0,15],5))"
   ]
  },
  {
   "cell_type": "code",
   "execution_count": 349,
   "metadata": {},
   "outputs": [
    {
     "data": {
      "text/plain": [
       "[[([5], [5], [5], [5]), ([5], [5]), ([5], [1, 1, 1, 1, 1])]]"
      ]
     },
     "execution_count": 349,
     "metadata": {},
     "output_type": "execute_result"
    }
   ],
   "source": [
    "l = splitting_sequences([4,8,10],[0,0,15],5,alternating=True)\n",
    "l"
   ]
  },
  {
   "cell_type": "code",
   "execution_count": 350,
   "metadata": {},
   "outputs": [
    {
     "data": {
      "text/plain": [
       "[([0, 0, -15], [-4, -8, -25])]"
      ]
     },
     "execution_count": 350,
     "metadata": {},
     "output_type": "execute_result"
    }
   ],
   "source": [
    "[splittings_to_B1_B2([4,8,10],[0,0,15], s) for s in l]"
   ]
  },
  {
   "cell_type": "code",
   "execution_count": 351,
   "metadata": {},
   "outputs": [],
   "source": [
    "assert not weil_polys_from_traces(P, 12, 2, [-4,-8,-25])"
   ]
  },
  {
   "cell_type": "markdown",
   "metadata": {},
   "source": [
    "Subcase $(\\#C(\\mathbb{F}_2),\\dots \\#C(\\mathbb{F}_{8}); \\#C'(\\mathbb{F}_2), \\dots, \\#C'(\\mathbb{F}_{8}))  = (5, 9, 5; 0, 10, 0)$."
   ]
  },
  {
   "cell_type": "code",
   "execution_count": 352,
   "metadata": {},
   "outputs": [
    {
     "data": {
      "text/plain": [
       "[[([5], [5], [5], [5], [5]), ([5], [1, 1, 1, 1, 1]), ()],\n",
       " [([5], [5], [5], [5], [5]), ([3, 2], [1, 1, 1, 1, 1]), ()],\n",
       " [([5], [5], [5], [5], [5]), ([3, 1, 1], [2, 1, 1, 1]), ()]]"
      ]
     },
     "execution_count": 352,
     "metadata": {},
     "output_type": "execute_result"
    }
   ],
   "source": [
    "splitting_sequences([5,9,5],[0,10,0],5)"
   ]
  },
  {
   "cell_type": "code",
   "execution_count": 353,
   "metadata": {
    "scrolled": true
   },
   "outputs": [
    {
     "data": {
      "text/plain": [
       "[[([5], [5], [5], [5], [5]), ([5], [1, 1, 1, 1, 1]), ()]]"
      ]
     },
     "execution_count": 353,
     "metadata": {},
     "output_type": "execute_result"
    }
   ],
   "source": [
    "l = splitting_sequences([5,9,5],[0,10,0],5,alternating=True)\n",
    "l"
   ]
  },
  {
   "cell_type": "code",
   "execution_count": 354,
   "metadata": {},
   "outputs": [
    {
     "data": {
      "text/plain": [
       "[([0, -10, 0], [-5, -19, -5])]"
      ]
     },
     "execution_count": 354,
     "metadata": {},
     "output_type": "execute_result"
    }
   ],
   "source": [
    "[splittings_to_B1_B2([5,9,5],[0,10,0], s) for s in l]"
   ]
  },
  {
   "cell_type": "code",
   "execution_count": 355,
   "metadata": {},
   "outputs": [],
   "source": [
    "assert not weil_polys_from_traces(P, 12, 2, [-5,-19,-5])"
   ]
  },
  {
   "cell_type": "markdown",
   "metadata": {},
   "source": [
    "Subcase $(\\#C(\\mathbb{F}_2), \\dots, \\#C(\\mathbb{F}_{128}); \\#C'(\\mathbb{F}_2), \\dots, \\#C'(\\mathbb{F}_{128})) = (3,7,9,31,33,43,129;0,0,9,8,30,33,168)$."
   ]
  },
  {
   "cell_type": "code",
   "execution_count": 356,
   "metadata": {},
   "outputs": [
    {
     "data": {
      "text/plain": [
       "{([5], [5], [5])}"
      ]
     },
     "execution_count": 356,
     "metadata": {},
     "output_type": "execute_result"
    }
   ],
   "source": [
    "l = splitting_sequences([3,7,9],[0,0,9],5)\n",
    "set([s[0] for s in l])"
   ]
  },
  {
   "cell_type": "code",
   "execution_count": 357,
   "metadata": {},
   "outputs": [
    {
     "data": {
      "text/plain": [
       "[[([5], [5], [5]), ([5], [5]), ([3, 1, 1], [2, 2, 1])]]"
      ]
     },
     "execution_count": 357,
     "metadata": {},
     "output_type": "execute_result"
    }
   ],
   "source": [
    "l = splitting_sequences([3,7,9],[0,0,9],5,alternating=True)\n",
    "l"
   ]
  },
  {
   "cell_type": "code",
   "execution_count": 358,
   "metadata": {},
   "outputs": [
    {
     "data": {
      "text/plain": [
       "[([0, 0, 0], [-3, -7, 3])]"
      ]
     },
     "execution_count": 358,
     "metadata": {},
     "output_type": "execute_result"
    }
   ],
   "source": [
    "[splittings_to_B1_B2([3,7,9],[0,0,9], s) for s in l]"
   ]
  },
  {
   "cell_type": "code",
   "execution_count": 359,
   "metadata": {},
   "outputs": [
    {
     "data": {
      "text/plain": [
       "[[([5], [5], [5]),\n",
       "  ([5], [5]),\n",
       "  ([3, 1, 1], [2, 2, 1]),\n",
       "  ([5], [5], [5], [5], [5], [3, 1, 1]),\n",
       "  ([5], [5], [5], [5], [3, 1, 1], [2, 2, 1])],\n",
       " [([5], [5], [5]),\n",
       "  ([5], [5]),\n",
       "  ([3, 1, 1], [2, 2, 1]),\n",
       "  ([5], [5], [5], [5], [5], [3, 1, 1]),\n",
       "  ([5], [5], [5], [2, 2, 1], [2, 2, 1], [2, 2, 1])],\n",
       " [([5], [5], [5]),\n",
       "  ([5], [5]),\n",
       "  ([3, 1, 1], [2, 2, 1]),\n",
       "  ([5], [5], [5], [5], [2, 2, 1], [2, 2, 1]),\n",
       "  ([5], [5], [5], [5], [3, 1, 1], [2, 2, 1])],\n",
       " [([5], [5], [5]),\n",
       "  ([5], [5]),\n",
       "  ([3, 1, 1], [2, 2, 1]),\n",
       "  ([5], [5], [5], [5], [2, 2, 1], [2, 2, 1]),\n",
       "  ([5], [5], [5], [2, 2, 1], [2, 2, 1], [2, 2, 1])]]"
      ]
     },
     "execution_count": 359,
     "metadata": {},
     "output_type": "execute_result"
    }
   ],
   "source": [
    "l = splitting_sequences([3,7,9,31,33],[0,0,9,8,30],5,alternating=True)\n",
    "l"
   ]
  },
  {
   "cell_type": "code",
   "execution_count": 360,
   "metadata": {},
   "outputs": [
    {
     "data": {
      "text/plain": [
       "[([0, 0, 0, 4, -15], [-3, -7, 3, -27, -28]),\n",
       " ([0, 0, 0, 4, -30], [-3, -7, 3, -27, -3]),\n",
       " ([0, 0, 0, -8, -15], [-3, -7, 3, -7, -28]),\n",
       " ([0, 0, 0, -8, -30], [-3, -7, 3, -7, -3])]"
      ]
     },
     "execution_count": 360,
     "metadata": {},
     "output_type": "execute_result"
    }
   ],
   "source": [
    "[splittings_to_B1_B2([3,7,9,31,33],[0,0,9,8,30], s) for s in l]"
   ]
  },
  {
   "cell_type": "code",
   "execution_count": 361,
   "metadata": {},
   "outputs": [],
   "source": [
    "assert not weil_polys_from_traces(P, 12, 2, [-3,-7,3,-27,-28])"
   ]
  },
  {
   "cell_type": "code",
   "execution_count": 362,
   "metadata": {},
   "outputs": [],
   "source": [
    "assert not weil_polys_from_traces(P, 12, 2, [-3,-7,3,-27,-3])"
   ]
  },
  {
   "cell_type": "code",
   "execution_count": 363,
   "metadata": {},
   "outputs": [],
   "source": [
    "assert not weil_polys_from_traces(P, 12, 2, [-3,-7,3,-7,-28])"
   ]
  },
  {
   "cell_type": "code",
   "execution_count": 364,
   "metadata": {},
   "outputs": [
    {
     "data": {
      "text/plain": [
       "[[-3, -7, 3, -7, -3, -19, 25],\n",
       " [-3, -7, 3, -7, -3, -13, 4],\n",
       " [-3, -7, 3, -7, -3, -7, -17]]"
      ]
     },
     "execution_count": 364,
     "metadata": {},
     "output_type": "execute_result"
    }
   ],
   "source": [
    "[trace_from_weil_poly(u,7) for u in weil_polys_from_traces(P, 12, 2, [-3,-7,3,-7,-3])]"
   ]
  },
  {
   "cell_type": "code",
   "execution_count": 365,
   "metadata": {},
   "outputs": [
    {
     "data": {
      "text/plain": [
       "[[0, 0, 0, -8, -30, -24, 0]]"
      ]
     },
     "execution_count": 365,
     "metadata": {},
     "output_type": "execute_result"
    }
   ],
   "source": [
    "l2 = [trace_from_weil_poly(u,7) for u in weil_polys_from_traces(P, 10, 2, [0,0,0,-8,-30])]\n",
    "l2"
   ]
  },
  {
   "cell_type": "code",
   "execution_count": 366,
   "metadata": {},
   "outputs": [
    {
     "data": {
      "text/plain": [
       "248"
      ]
     },
     "execution_count": 366,
     "metadata": {},
     "output_type": "execute_result"
    }
   ],
   "source": [
    "l = splitting_sequences([3,7,9,31,33,43,129],[0,0,9,8,30,33,168],5,alternating=True)\n",
    "len(l)"
   ]
  },
  {
   "cell_type": "code",
   "execution_count": 367,
   "metadata": {},
   "outputs": [
    {
     "data": {
      "text/plain": [
       "2"
      ]
     },
     "execution_count": 367,
     "metadata": {},
     "output_type": "execute_result"
    }
   ],
   "source": [
    "l3 = [s for s in l if splittings_to_B1_B2([3,7,9,31,33,43,129],[0,0,9,8,30,33,168],s)[0] in l2]\n",
    "len(l3)"
   ]
  },
  {
   "cell_type": "code",
   "execution_count": 407,
   "metadata": {},
   "outputs": [
    {
     "data": {
      "text/plain": [
       "[([0, 0, 0, -8, -30, -24, 0], [-3, -7, 3, -7, -3, -19, -45]),\n",
       " ([0, 0, 0, -8, -30, -24, 0], [-3, -7, 3, -7, -3, -19, 95])]"
      ]
     },
     "execution_count": 407,
     "metadata": {},
     "output_type": "execute_result"
    }
   ],
   "source": [
    "[splittings_to_B1_B2([3,7,9,31,33,43,129],[0,0,9,8,30,33,168],s) for s in l3]"
   ]
  },
  {
   "cell_type": "markdown",
   "metadata": {},
   "source": [
    "Case $d=6$."
   ]
  },
  {
   "cell_type": "markdown",
   "metadata": {},
   "source": [
    "Assuming $d=6$, convert a splitting sequence into the traces of the Prym for the sextic twin. \n",
    "If `S6` is False, assume that $G \\not\\subseteq \\mathrm{PGL}(2,5)$, so that the sextic twin becomes reducible."
   ]
  },
  {
   "cell_type": "code",
   "execution_count": 414,
   "metadata": {},
   "outputs": [],
   "source": [
    "def splittings_to_sextic_twin(ct1, s, S6=True):\n",
    "    d = {(6,): [3,2,1],\n",
    "         (3,2,1): [6],\n",
    "         (4,1,1): [4,1,1],\n",
    "         (2,2,2): [2,1,1,1,1],\n",
    "         (2,1,1,1,1): [2,2,2],\n",
    "         (5,1): [5,1],\n",
    "         (4,2): [4,2],\n",
    "         (3,3): [3,1,1,1],\n",
    "         (3,1,1,1): [3,3],\n",
    "         (2,2,1,1): [2,2,1,1],\n",
    "         (1,1,1,1,1,1): [1,1,1,1,1,1]}\n",
    "    n = len(ct1)\n",
    "    ct2p = [0 for _ in range(n)]\n",
    "    for i in range(n):\n",
    "        for p in s[i]:\n",
    "            pt = tuple(p)\n",
    "            for j in d[pt]:\n",
    "                if (i+1)*j <= n:\n",
    "                    ct2p[(i+1)*j-1] += 1\n",
    "    ct2 = point_count_from_place_count(ct2p, n)\n",
    "    if S6:\n",
    "        return [ct1[i] - ct2[i] for i in range(n)]\n",
    "    return [2*ct1[i] - ct2[i] for i in range(n)]"
   ]
  },
  {
   "cell_type": "markdown",
   "metadata": {},
   "source": [
    "Check for intermediate subfields."
   ]
  },
  {
   "cell_type": "code",
   "execution_count": 369,
   "metadata": {},
   "outputs": [],
   "source": [
    "for (a,b,_) in candidates[6,2,7]:\n",
    "    for i in range(len(df)):\n",
    "        if df.loc[i, \"d\"] == 2 and df.loc[i, \"g\"] == 2 and \\\n",
    "        df.loc[i, \"g'\"] == 3 and eval(df.loc[i, \"Counts of C\"]) == a and \\\n",
    "        df.loc[i, \"Cyclic\"] == \"Yes\":\n",
    "            for j in range(len(df)):\n",
    "                if df.loc[j, \"d\"] == 3 and df.loc[j, \"g\"] == 3 and \\\n",
    "                df.loc[j, \"g'\"] == 7 and df.loc[j, \"Cyclic\"] == \"Yes\" and\\\n",
    "                df.loc[i, \"Counts of C'\"] == df.loc[j, \"Counts of C\"] and \\\n",
    "                eval(df.loc[j, \"Counts of C'\"]) == b:\n",
    "                    print(a,b)"
   ]
  },
  {
   "cell_type": "markdown",
   "metadata": {},
   "source": [
    "Remove subcases based on the reduced resultant."
   ]
  },
  {
   "cell_type": "code",
   "execution_count": 371,
   "metadata": {},
   "outputs": [
    {
     "data": {
      "text/plain": [
       "[([5, 5, 17, 9, 25, 65], [0, 0, 3, 12, 35, 87], 13),\n",
       " ([5, 9, 5, 17, 25, 81], [0, 2, 9, 2, 30, 71], 15),\n",
       " ([5, 9, 5, 17, 25, 81], [0, 4, 0, 12, 15, 106], 15),\n",
       " ([6, 6, 9, 10, 36, 87], [0, 0, 15, 20, 30, 87], 19)]"
      ]
     },
     "execution_count": 371,
     "metadata": {},
     "output_type": "execute_result"
    }
   ],
   "source": [
    "l = []\n",
    "for (a,b,c) in candidates[6,2,7]:\n",
    "    u1 = weil_poly_from_point_count(a, 2)\n",
    "    u2 = weil_poly_from_point_count(b, 7)\n",
    "    v1 = u1.trace_polynomial()[0]\n",
    "    v2 = (u2//u1).trace_polynomial()[0]\n",
    "    if modified_reduced_resultant(v1, v2)%3 != 0:\n",
    "        l.append((a, b, c))\n",
    "[(a[:6], b[:6], c) for (a,b,c) in l]"
   ]
  },
  {
   "cell_type": "code",
   "execution_count": 372,
   "metadata": {},
   "outputs": [
    {
     "data": {
      "text/plain": [
       "[([4, 8, 10, 24, 14, 56], [0, 0, 6, 8, 30, 24], 10),\n",
       " ([5, 5, 17, 9, 25, 65], [0, 0, 12, 4, 15, 90], 13),\n",
       " ([5, 5, 17, 9, 25, 65], [0, 2, 3, 10, 30, 47], 13),\n",
       " ([5, 7, 11, 15, 15, 91], [0, 2, 6, 10, 5, 116], 14),\n",
       " ([5, 9, 5, 17, 25, 81], [1, 1, 1, 1, 41, 49], 15),\n",
       " ([6, 6, 9, 10, 36, 87], [0, 2, 3, 14, 35, 131], 19),\n",
       " ([6, 6, 9, 10, 36, 87], [0, 4, 3, 12, 30, 91], 19)]"
      ]
     },
     "execution_count": 372,
     "metadata": {},
     "output_type": "execute_result"
    }
   ],
   "source": [
    "[(a[:6], b[:6], c) for (a,b,c) in candidates[6,2,7] if (a,b,c) not in l]"
   ]
  },
  {
   "cell_type": "markdown",
   "metadata": {},
   "source": [
    "Subcases with the quadratic resolvent constant which require only consideration of splitting sequences."
   ]
  },
  {
   "cell_type": "code",
   "execution_count": 373,
   "metadata": {},
   "outputs": [
    {
     "data": {
      "text/plain": [
       "[]"
      ]
     },
     "execution_count": 373,
     "metadata": {},
     "output_type": "execute_result"
    }
   ],
   "source": [
    "splitting_sequences([5,5], [0, 2], 6, alternating=True)"
   ]
  },
  {
   "cell_type": "code",
   "execution_count": 374,
   "metadata": {},
   "outputs": [
    {
     "data": {
      "text/plain": [
       "[]"
      ]
     },
     "execution_count": 374,
     "metadata": {},
     "output_type": "execute_result"
    }
   ],
   "source": [
    "splitting_sequences([5,9], [1, 1], 6, alternating=True)"
   ]
  },
  {
   "cell_type": "code",
   "execution_count": 375,
   "metadata": {},
   "outputs": [
    {
     "data": {
      "text/plain": [
       "[]"
      ]
     },
     "execution_count": 375,
     "metadata": {},
     "output_type": "execute_result"
    }
   ],
   "source": [
    "splitting_sequences([6,6], [0, 2], 6, alternating=True)"
   ]
  },
  {
   "cell_type": "code",
   "execution_count": 376,
   "metadata": {},
   "outputs": [
    {
     "data": {
      "text/plain": [
       "[]"
      ]
     },
     "execution_count": 376,
     "metadata": {},
     "output_type": "execute_result"
    }
   ],
   "source": [
    "splitting_sequences([6,6], [0, 4], 6, alternating=True)"
   ]
  },
  {
   "cell_type": "code",
   "execution_count": 377,
   "metadata": {},
   "outputs": [
    {
     "data": {
      "text/plain": [
       "[[([6], [6], [6], [6]), ([4, 2], [4, 2]), ([6], [4, 1, 1])],\n",
       " [([6], [6], [6], [6]), ([4, 2], [4, 2]), ([4, 1, 1], [2, 2, 2])],\n",
       " [([6], [6], [6], [6]), ([4, 2], [4, 2]), ([3, 2, 1], [3, 2, 1])],\n",
       " [([6], [6], [6], [6]), ([4, 2], [3, 3]), ([6], [4, 1, 1])],\n",
       " [([6], [6], [6], [6]), ([4, 2], [3, 3]), ([4, 1, 1], [2, 2, 2])],\n",
       " [([6], [6], [6], [6]), ([4, 2], [3, 3]), ([3, 2, 1], [3, 2, 1])],\n",
       " [([6], [6], [6], [6]), ([3, 3], [3, 3]), ([6], [4, 1, 1])],\n",
       " [([6], [6], [6], [6]), ([3, 3], [3, 3]), ([4, 1, 1], [2, 2, 2])],\n",
       " [([6], [6], [6], [6]), ([3, 3], [3, 3]), ([3, 2, 1], [3, 2, 1])]]"
      ]
     },
     "execution_count": 377,
     "metadata": {},
     "output_type": "execute_result"
    }
   ],
   "source": [
    "splitting_sequences([4, 8,10], [0, 0, 6], 6, alternating=True)"
   ]
  },
  {
   "cell_type": "code",
   "execution_count": 378,
   "metadata": {
    "scrolled": true
   },
   "outputs": [
    {
     "data": {
      "text/plain": [
       "[]"
      ]
     },
     "execution_count": 378,
     "metadata": {},
     "output_type": "execute_result"
    }
   ],
   "source": [
    "splitting_sequences([4, 8,10,24,14,56], [0, 0, 6, 8, 30,24], 6, alternating=True)"
   ]
  },
  {
   "cell_type": "markdown",
   "metadata": {},
   "source": [
    "Subcase $(\\#C(\\mathbb{F}_2),\\dots \\#C(\\mathbb{F}_{32}); \\#C'(\\mathbb{F}_2), \\dots, \\#C'(\\mathbb{F}_{32})) = (5,7,11, 15,15; 0, 2, 6, 10,5)$ and quadratic resolvent constant."
   ]
  },
  {
   "cell_type": "code",
   "execution_count": 381,
   "metadata": {},
   "outputs": [
    {
     "data": {
      "text/plain": [
       "{([6], [6], [6], [6], [6])}"
      ]
     },
     "execution_count": 381,
     "metadata": {},
     "output_type": "execute_result"
    }
   ],
   "source": [
    "l = splitting_sequences([5,7,11,15], [0,2,6,10], 6, alternating=True)\n",
    "set([s[0] for s in l])"
   ]
  },
  {
   "cell_type": "code",
   "execution_count": 382,
   "metadata": {},
   "outputs": [
    {
     "data": {
      "text/plain": [
       "[[([6], [6], [6], [6], [6]), ([5, 1],), ([6], [4, 1, 1])],\n",
       " [([6], [6], [6], [6], [6]), ([5, 1],), ([4, 1, 1], [2, 2, 2])],\n",
       " [([6], [6], [6], [6], [6]), ([5, 1],), ([3, 2, 1], [3, 2, 1])]]"
      ]
     },
     "execution_count": 382,
     "metadata": {},
     "output_type": "execute_result"
    }
   ],
   "source": [
    "l = splitting_sequences([5,7,11], [0,2,6], 6, alternating=True)\n",
    "l"
   ]
  },
  {
   "cell_type": "code",
   "execution_count": 383,
   "metadata": {},
   "outputs": [
    {
     "data": {
      "text/plain": [
       "[[0, -10, -18], [0, -10, -27], [0, -10, -9]]"
      ]
     },
     "execution_count": 383,
     "metadata": {},
     "output_type": "execute_result"
    }
   ],
   "source": [
    "[splittings_to_sextic_twin([5,7,11], s) for s in l]"
   ]
  },
  {
   "cell_type": "code",
   "execution_count": 384,
   "metadata": {},
   "outputs": [
    {
     "data": {
      "text/plain": [
       "({([3, 2, 1], [3, 2, 1]), ([4, 1, 1], [2, 2, 2]), ([6], [4, 1, 1])},\n",
       " {([3, 3], [2, 2, 1, 1]), ([4, 2], [2, 2, 1, 1]), ([5, 1], [5, 1])})"
      ]
     },
     "execution_count": 384,
     "metadata": {},
     "output_type": "execute_result"
    }
   ],
   "source": [
    "l = splitting_sequences([5,7,11,15], [0,2,6,10], 6, alternating=True)\n",
    "set([s[2] for s in l]), set([s[3] for s in l])"
   ]
  },
  {
   "cell_type": "code",
   "execution_count": 385,
   "metadata": {
    "scrolled": true
   },
   "outputs": [
    {
     "data": {
      "text/plain": [
       "[[0, -10, -18, -10],\n",
       " [0, -10, -18, -10],\n",
       " [0, -10, -18, -22],\n",
       " [0, -10, -27, -10],\n",
       " [0, -10, -27, -10],\n",
       " [0, -10, -27, -22],\n",
       " [0, -10, -9, -10],\n",
       " [0, -10, -9, -10],\n",
       " [0, -10, -9, -22]]"
      ]
     },
     "execution_count": 385,
     "metadata": {},
     "output_type": "execute_result"
    }
   ],
   "source": [
    "[splittings_to_sextic_twin([5,7,11,15], s) for s in l]"
   ]
  },
  {
   "cell_type": "code",
   "execution_count": 386,
   "metadata": {},
   "outputs": [
    {
     "data": {
      "text/plain": [
       "[18]"
      ]
     },
     "execution_count": 386,
     "metadata": {},
     "output_type": "execute_result"
    }
   ],
   "source": [
    "[trace_from_weil_poly(u,4)[3] for u in weil_polys_from_traces(P, 10, 2, [0,-10,-18])]"
   ]
  },
  {
   "cell_type": "code",
   "execution_count": 387,
   "metadata": {},
   "outputs": [
    {
     "data": {
      "text/plain": [
       "[-6, -2, 2, 6, 10]"
      ]
     },
     "execution_count": 387,
     "metadata": {},
     "output_type": "execute_result"
    }
   ],
   "source": [
    "[trace_from_weil_poly(u,4)[3] for u in weil_polys_from_traces(P, 10, 2, [0,-10,-9])]"
   ]
  },
  {
   "cell_type": "markdown",
   "metadata": {},
   "source": [
    "Subcase $(\\#C(\\mathbb{F}_2),\\dots \\#C(\\mathbb{F}_{64}); \\#C'(\\mathbb{F}_2), \\dots, \\#C'(\\mathbb{F}_{64})) = (5,5,17,9,25,65; 0,0,12,4,15,90)$ and quadratic resolvent constant."
   ]
  },
  {
   "cell_type": "code",
   "execution_count": 433,
   "metadata": {},
   "outputs": [
    {
     "data": {
      "text/plain": [
       "{([6], [6], [6], [6], [6])}"
      ]
     },
     "execution_count": 433,
     "metadata": {},
     "output_type": "execute_result"
    }
   ],
   "source": [
    "l = splitting_sequences([5,5,17,9], [0,0,12,4], 6, alternating=True)\n",
    "set([s[0] for s in l])"
   ]
  },
  {
   "cell_type": "code",
   "execution_count": 434,
   "metadata": {},
   "outputs": [
    {
     "name": "stdout",
     "output_type": "stream",
     "text": [
      "{()}\n",
      "{([6], [4, 1, 1], [3, 2, 1], [3, 2, 1]), ([3, 2, 1], [3, 2, 1], [3, 2, 1], [3, 2, 1]), ([6], [6], [4, 1, 1], [4, 1, 1])}\n",
      "{([5, 1],)}\n"
     ]
    }
   ],
   "source": [
    "l = splitting_sequences([5,5,17,9], [0,0,12,4], 6, alternating=True)\n",
    "l = [s for s in l if [2,2,2] not in s[2] and [2,1,1,1,1] not in s[2]]\n",
    "print(set([s[1] for s in l]))\n",
    "print(set([s[2] for s in l]))\n",
    "print(set([s[3] for s in l]))"
   ]
  },
  {
   "cell_type": "code",
   "execution_count": 390,
   "metadata": {},
   "outputs": [
    {
     "data": {
      "text/plain": [
       "[[0, -10, -21, -10], [0, -10, -12, -10], [0, -10, -3, -10]]"
      ]
     },
     "execution_count": 390,
     "metadata": {},
     "output_type": "execute_result"
    }
   ],
   "source": [
    "[splittings_to_sextic_twin([5,5,17,9], s) for s in l]"
   ]
  },
  {
   "cell_type": "code",
   "execution_count": 391,
   "metadata": {},
   "outputs": [],
   "source": [
    "assert not weil_polys_from_traces(P, 10, 2, [0,-10,-21,-10])"
   ]
  },
  {
   "cell_type": "code",
   "execution_count": 392,
   "metadata": {},
   "outputs": [],
   "source": [
    "assert not weil_polys_from_traces(P, 10, 2, [0,-10,-12,-10])"
   ]
  },
  {
   "cell_type": "code",
   "execution_count": 393,
   "metadata": {},
   "outputs": [
    {
     "data": {
      "text/plain": [
       "[10, 15]"
      ]
     },
     "execution_count": 393,
     "metadata": {},
     "output_type": "execute_result"
    }
   ],
   "source": [
    "[trace_from_weil_poly(u,5)[4] for u in weil_polys_from_traces(P, 10, 2, [0,-10,-3,-10])]"
   ]
  },
  {
   "cell_type": "code",
   "execution_count": 394,
   "metadata": {},
   "outputs": [
    {
     "data": {
      "text/plain": [
       "[[([6], [6], [6], [6], [6]),\n",
       "  (),\n",
       "  ([3, 2, 1], [3, 2, 1], [3, 2, 1], [3, 2, 1]),\n",
       "  ([5, 1],),\n",
       "  ([6], [6], [4, 1, 1], [3, 2, 1])],\n",
       " [([6], [6], [6], [6], [6]),\n",
       "  (),\n",
       "  ([3, 2, 1], [3, 2, 1], [3, 2, 1], [3, 2, 1]),\n",
       "  ([5, 1],),\n",
       "  ([6], [4, 1, 1], [3, 2, 1], [2, 2, 2])],\n",
       " [([6], [6], [6], [6], [6]),\n",
       "  (),\n",
       "  ([3, 2, 1], [3, 2, 1], [3, 2, 1], [3, 2, 1]),\n",
       "  ([5, 1],),\n",
       "  ([6], [3, 2, 1], [3, 2, 1], [3, 2, 1])],\n",
       " [([6], [6], [6], [6], [6]),\n",
       "  (),\n",
       "  ([3, 2, 1], [3, 2, 1], [3, 2, 1], [3, 2, 1]),\n",
       "  ([5, 1],),\n",
       "  ([4, 1, 1], [3, 2, 1], [2, 2, 2], [2, 2, 2])],\n",
       " [([6], [6], [6], [6], [6]),\n",
       "  (),\n",
       "  ([3, 2, 1], [3, 2, 1], [3, 2, 1], [3, 2, 1]),\n",
       "  ([5, 1],),\n",
       "  ([3, 2, 1], [3, 2, 1], [3, 2, 1], [2, 2, 2])]]"
      ]
     },
     "execution_count": 394,
     "metadata": {},
     "output_type": "execute_result"
    }
   ],
   "source": [
    "l = splitting_sequences([5,5,17,9,25], [0,0,12,4,15], 6, alternating=True)\n",
    "l = [s for s in l if [2,2,2] not in s[2] and [2,1,1,1,1] not in s[2] and [6] not in s[2]]\n",
    "l"
   ]
  },
  {
   "cell_type": "code",
   "execution_count": 395,
   "metadata": {},
   "outputs": [
    {
     "data": {
      "text/plain": [
       "{-30, -15, 0, 15}"
      ]
     },
     "execution_count": 395,
     "metadata": {},
     "output_type": "execute_result"
    }
   ],
   "source": [
    "set([splittings_to_sextic_twin([5,5,17,9,25], s)[4] for s in l])"
   ]
  },
  {
   "cell_type": "code",
   "execution_count": 396,
   "metadata": {},
   "outputs": [
    {
     "data": {
      "text/plain": [
       "[[0, -10, -3, -10, 15, 23]]"
      ]
     },
     "execution_count": 396,
     "metadata": {},
     "output_type": "execute_result"
    }
   ],
   "source": [
    "[trace_from_weil_poly(u,6) for u in weil_polys_from_traces(P, 10, 2, [0,-10,-3,-10,15])]"
   ]
  },
  {
   "cell_type": "code",
   "execution_count": 397,
   "metadata": {},
   "outputs": [
    {
     "data": {
      "text/plain": [
       "25"
      ]
     },
     "execution_count": 397,
     "metadata": {},
     "output_type": "execute_result"
    }
   ],
   "source": [
    "l = splitting_sequences([5,5,17,9,25,65], [0,0,12,4,15,90], 6, alternating=True)\n",
    "l = [s for s in l if splittings_to_sextic_twin([5,5,17,9,25],s) == [0,-10,-3,-10,15]]\n",
    "len(l)"
   ]
  },
  {
   "cell_type": "code",
   "execution_count": 398,
   "metadata": {},
   "outputs": [
    {
     "data": {
      "text/plain": [
       "{-97, -79, -61, -43, -25, -7, 11, 29}"
      ]
     },
     "execution_count": 398,
     "metadata": {},
     "output_type": "execute_result"
    }
   ],
   "source": [
    "set([splittings_to_sextic_twin([5,5,17,9,25,65],s)[5] for s in l])"
   ]
  },
  {
   "cell_type": "markdown",
   "metadata": {},
   "source": [
    "Subcases with the quadratic resolvent purely geometric."
   ]
  },
  {
   "cell_type": "code",
   "execution_count": 399,
   "metadata": {},
   "outputs": [],
   "source": [
    "counts = [([4,8,10,24,14],[0,0,6,8,30]), ([5,7,11,15,15],[0,2,6,10,5])]"
   ]
  },
  {
   "cell_type": "code",
   "execution_count": 429,
   "metadata": {},
   "outputs": [
    {
     "name": "stdout",
     "output_type": "stream",
     "text": [
      "Point counts: [4, 8, 10, 24, 14], [0, 0, 6, 8, 30]\n",
      "Splittings in degree 1: {([6], [6], [6], [3, 3])}\n",
      "Traces of B: [2, 0, -4, -8]\n",
      "Splittings in degree 2: {([6], [6]), ([6], [2, 2, 2]), ([2, 2, 2], [2, 2, 2])}\n",
      "Splittings in degree 3: {([4, 2], [3, 3]), ([4, 2], [4, 2]), ([3, 3], [3, 3])}\n",
      "Traces of B1 (based on splitting): [{-2}, {-8, -14, -20}, {-8, -26, -17}]\n",
      "Traces of B1' (based on splitting): [{2}, {0, -6, -12}, {-16, -7, 2}]\n",
      "Traces of B1 (by exhaustion): [{-2}, {-8}, {-8}]\n",
      "Traces of B1' (by exhaustion): [{2}, {0, -6, -12}, {-16, -7, 2}]\n",
      "Splittings in degree 4 (S6): {([5, 1], [4, 2], [4, 2], [3, 2, 1]), ([4, 2], [4, 2], [3, 2, 1], [3, 2, 1]), ([6], [4, 2], [3, 2, 1], [3, 2, 1])}\n",
      "Splittings in degree 4: {([6], [4, 1, 1], [3, 3], [3, 3]), ([6], [5, 1], [5, 1], [2, 2, 2]), ([5, 1], [5, 1], [3, 3], [2, 2, 2]), ([6], [6], [2, 2, 2], [2, 2, 1, 1]), ([6], [6], [6], [4, 1, 1]), ([6], [3, 3], [3, 3], [2, 2, 1, 1]), ([5, 1], [5, 1], [3, 3], [3, 3]), ([6], [6], [4, 1, 1], [2, 2, 2]), ([6], [6], [5, 1], [5, 1]), ([6], [6], [4, 1, 1], [3, 3]), ([6], [5, 1], [5, 1], [3, 3]), ([6], [6], [6], [2, 2, 1, 1]), ([6], [6], [3, 3], [2, 2, 1, 1])}\n",
      "Splittings in degree 5 (S6): set()\n",
      "Splittings in degree 5 (PGL25): set()\n",
      "This case complete!\n",
      "\n",
      "Point counts: [5, 7, 11, 15, 15], [0, 2, 6, 10, 5]\n",
      "Splittings in degree 1: {([6], [6], [6], [4, 2], [3, 3])}\n",
      "Traces of B: [1, -3, -5, 1]\n",
      "Splittings in degree 2: {([2, 2, 2],), ([6],)}\n",
      "Splittings in degree 3: {([4, 2], [3, 3]), ([4, 2], [4, 2]), ([3, 3], [3, 3])}\n",
      "Traces of B1 (based on splitting): [{-1}, {-15, -9}, {-16, -7, -25}]\n",
      "Traces of B1' (based on splitting): [{4}, {-8, -2}, {-14, -5, 4}]\n",
      "Traces of B1 (by exhaustion): [{-1}, {-9}, {-7}]\n",
      "Traces of B1' (by exhaustion): [{4}, {-8, -2}, {-5, 4}]\n",
      "Splittings in degree 4 (S6): {([4, 2], [3, 2, 1]), ([5, 1], [4, 2]), ([6], [3, 2, 1])}\n",
      "Splittings in degree 4: {([6], [5, 1])}\n",
      "Splittings in degree 5 (S6): set()\n",
      "Splittings in degree 5 (PGL25): set()\n",
      "This case complete!\n",
      "\n"
     ]
    }
   ],
   "source": [
    "for (ct1, ct2) in counts:\n",
    "    print(\"Point counts: {}, {}\".format(ct1, ct2))\n",
    "    l = splitting_sequences(ct1[:3], ct2[:3], 6)\n",
    "    l = [s for s in l if splittings_to_quadratic_resolvent(ct1[:3], s)[0] <= 2]\n",
    "    print(\"Splittings in degree 1: {}\".format(set(s[0] for s in l)))\n",
    "    tmp = set(splittings_to_quadratic_resolvent(ct1[:3], s)[0] for s in l)\n",
    "    assert len(tmp) == 1\n",
    "    trB = list(tmp)[0]\n",
    "    tmp = weil_polys_from_traces(P, 2, 2, [trB])\n",
    "    assert len(tmp) == 1\n",
    "    trB = trace_from_weil_poly(tmp[0], 4)\n",
    "    print(\"Traces of B: {}\".format(trB))\n",
    "    l = [s for s in l if splittings_to_quadratic_resolvent(ct1[:3], s) == tuple(trB[:3])]\n",
    "    print(\"Splittings in degree 2: {}\".format(set(s[1] for s in l)))\n",
    "    print(\"Splittings in degree 3: {}\".format(set(s[2] for s in l)))\n",
    "    trB1 = [splittings_to_sextic_twin(ct1[:3], s) for s in l]\n",
    "    print(\"Traces of B1 (based on splitting): {}\".format([set(t[i] for t in trB1) for i in range(3)]))\n",
    "    trB1prime = [splittings_to_sextic_twin(ct1[:3], s, S6=False) for s in l]\n",
    "    print(\"Traces of B1' (based on splitting): {}\".format([set(t[i] for t in trB1prime) for i in range(3)]))\n",
    "    trB1 = [trace_from_weil_poly(t, 5) for t1 in trB1 for t in weil_polys_from_traces(P, 10, 2, t1)]\n",
    "    print(\"Traces of B1 (by exhaustion): {}\".format([set(t[i] for t in trB1) for i in range(3)]))\n",
    "    trB1prime = [trace_from_weil_poly(t, 5) for t1 in trB1prime for t in weil_polys_from_traces(P, 8, 2, t1)]\n",
    "    print(\"Traces of B1' (by exhaustion): {}\".format([set(t[i] for t in trB1prime) for i in range(3)]))\n",
    "    tmp = [s for s in splitting_sequences(ct1[:4], ct2[:4], 6, seed=l)]\n",
    "    l1 = [s for s in tmp if splittings_to_sextic_twin(ct1[:4], s) in [t[:4] for t in trB1]]\n",
    "    tmp = [s for s in splitting_sequences(ct1[:4], ct2[:4], 6, seed=l, avoid=[[3,2,1],[4,2],[2,1,1,1,1],[3,1,1,1]])]\n",
    "    l1prime = [s for s in tmp if splittings_to_sextic_twin(ct1[:4], s, S6=False) in [t[:4] for t in trB1prime]]\n",
    "    print(\"Splittings in degree 4 (S6): {}\".format(set([s[3] for s in l1])))\n",
    "    print(\"Splittings in degree 4 (PGL25): {}\".format(set([s[3] for s in l1prime])))\n",
    "    tmp = [s for s in splitting_sequences(ct1[:5], ct2[:5], 6, seed=l)]\n",
    "    l1 = [s for s in tmp if splittings_to_sextic_twin(ct1[:5], s) in trB1]\n",
    "    tmp = [s for s in splitting_sequences(ct1[:5], ct2[:5], 6, seed=l, avoid=[[3,2,1],[4,2],[2,1,1,1,1],[3,1,1,1]])]\n",
    "    l1prime = [s for s in tmp if splittings_to_sextic_twin(ct1[:5], s, S6=False) in trB1prime]\n",
    "    assert not l1\n",
    "    print(\"Splittings in degree 5 (S6): {}\".format(set(s[4] for s in l1)))\n",
    "    assert not l1prime\n",
    "    print(\"Splittings in degree 5 (PGL25): {}\".format(set(s[3] for s in l1prime)))\n",
    "    print(\"This case complete!\")\n",
    "    print(\"\")"
   ]
  },
  {
   "cell_type": "markdown",
   "metadata": {},
   "source": [
    "Case $d=7$."
   ]
  },
  {
   "cell_type": "code",
   "execution_count": 401,
   "metadata": {},
   "outputs": [
    {
     "data": {
      "text/plain": [
       "[([5, 7, 11, 15, 15, 91, 131, 255, 479, 987, 2227, 3999, 8143],\n",
       "  [0, 0, 0, 0, 0, 84, 133, 336, 378, 980, 2310, 4032, 8008],\n",
       "  14)]"
      ]
     },
     "execution_count": 401,
     "metadata": {},
     "output_type": "execute_result"
    }
   ],
   "source": [
    "(d, g, g1) = (7, 2, 8)\n",
    "candidates[d, g, g1]"
   ]
  },
  {
   "cell_type": "code",
   "execution_count": 402,
   "metadata": {},
   "outputs": [
    {
     "data": {
      "text/plain": [
       "T^4 + 2*T^3 + 3*T^2 + 4*T + 4"
      ]
     },
     "execution_count": 402,
     "metadata": {},
     "output_type": "execute_result"
    }
   ],
   "source": [
    "u = weil_poly_from_point_count(candidates[d, g, g1][0][0], g); u"
   ]
  },
  {
   "cell_type": "code",
   "execution_count": 403,
   "metadata": {},
   "outputs": [
    {
     "data": {
      "text/plain": [
       "T^16 - 3*T^15 + 2*T^14 + 14*T^10 - 23*T^9 + 13*T^8 - 46*T^7 + 56*T^6 + 128*T^2 - 384*T + 256"
      ]
     },
     "execution_count": 403,
     "metadata": {},
     "output_type": "execute_result"
    }
   ],
   "source": [
    "v = weil_poly_from_point_count(candidates[d, g, g1][0][1], g1); v"
   ]
  },
  {
   "cell_type": "code",
   "execution_count": 404,
   "metadata": {},
   "outputs": [],
   "source": [
    "K1 = magma.NumberField(u)\n",
    "a  = K1.gen(1)\n",
    "O1 = K1.MaximalOrder()\n",
    "O1a = O1.sub([a, 2/a])\n",
    "assert O1a == O1\n",
    "assert O1.ClassNumber() == 1"
   ]
  },
  {
   "cell_type": "code",
   "execution_count": 405,
   "metadata": {},
   "outputs": [],
   "source": [
    "K2 = magma.NumberField(v//u)\n",
    "b = K2.gen(1)\n",
    "O2 = K2.MaximalOrder()\n",
    "O2a = O2.sub([b, 2/b])\n",
    "assert O2a == O2\n",
    "assert O2.ClassNumber() == 1"
   ]
  },
  {
   "cell_type": "code",
   "execution_count": 406,
   "metadata": {},
   "outputs": [
    {
     "data": {
      "text/plain": [
       "6"
      ]
     },
     "execution_count": 406,
     "metadata": {},
     "output_type": "execute_result"
    }
   ],
   "source": [
    "K2s = K2.sage()\n",
    "l = K2s.primes_above(7)\n",
    "assert(len(l) == 1)\n",
    "p = l[0]\n",
    "K2s(7).valuation(p)"
   ]
  }
 ],
 "metadata": {
  "kernelspec": {
   "display_name": "SageMath 9.4",
   "language": "sage",
   "name": "sagemath"
  },
  "language_info": {
   "codemirror_mode": {
    "name": "ipython",
    "version": 3
   },
   "file_extension": ".py",
   "mimetype": "text/x-python",
   "name": "python",
   "nbconvert_exporter": "python",
   "pygments_lexer": "ipython3",
   "version": "3.9.5"
  }
 },
 "nbformat": 4,
 "nbformat_minor": 5
}
