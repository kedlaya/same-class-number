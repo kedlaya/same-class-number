{
 "cells": [
  {
   "cell_type": "markdown",
   "metadata": {},
   "source": [
    "This notebook is associated with the paper \"The relative class number one problem for function fields, II\" by K.S. Kedlaya. It runs in SageMath (tested using version 9.4) and Magma (tested using version 2.25-5); it also requires the pandas and openpyxl libraries (`sage --pip install openpyxl/pandas`).\n",
    "\n",
    "In this notebook, we make computations as part of the proof that for $q=2$, there are no non-Galois covers with relative class number 1. This depends on the exhaustion over Weil polynomials performed in \"The relative class number one problem for function fields, I\"."
   ]
  },
  {
   "cell_type": "code",
   "execution_count": 47,
   "metadata": {},
   "outputs": [],
   "source": [
    "load(\"auxiliary.sage\")"
   ]
  },
  {
   "cell_type": "code",
   "execution_count": 48,
   "metadata": {},
   "outputs": [],
   "source": [
    "P.<T> = QQ[]"
   ]
  },
  {
   "cell_type": "markdown",
   "metadata": {},
   "source": [
    "Read data about the exhaustion from an Excel spreadsheet."
   ]
  },
  {
   "cell_type": "code",
   "execution_count": 49,
   "metadata": {},
   "outputs": [],
   "source": [
    "import pandas"
   ]
  },
  {
   "cell_type": "code",
   "execution_count": 50,
   "metadata": {},
   "outputs": [
    {
     "name": "stdout",
     "output_type": "stream",
     "text": [
      "['Unnamed: 0', 'd', 'g', \"g'\", 'Label of J(C)', '#J(C)', 'Counts of C', \"Counts of C'\", 'Cyclic']\n"
     ]
    }
   ],
   "source": [
    "df = pandas.read_excel('polys.xlsx')\n",
    "print(list(df))"
   ]
  },
  {
   "cell_type": "code",
   "execution_count": 51,
   "metadata": {},
   "outputs": [],
   "source": [
    "candidates = {}\n",
    "for i in range(len(df)):\n",
    "    r = df.iloc[i]\n",
    "    d = r[\"d\"]\n",
    "    g = r[\"g\"]\n",
    "    g1 = r[\"g'\"]\n",
    "    if (d,g,g1) not in candidates:\n",
    "        candidates[d,g,g1] = []\n",
    "    counts1 = eval(r[\"Counts of C\"])\n",
    "    counts2 = eval(r[\"Counts of C'\"])\n",
    "    ordj = r[\"#J(C)\"]\n",
    "    candidates[d,g,g1].append((counts1, counts2, ordj))"
   ]
  },
  {
   "cell_type": "markdown",
   "metadata": {},
   "source": [
    "Identify all Weil polynomials with specified initial Frobenius traces."
   ]
  },
  {
   "cell_type": "code",
   "execution_count": 52,
   "metadata": {},
   "outputs": [],
   "source": [
    "def weil_polys_from_traces(P, d, q, l):\n",
    "    Q.<t> = PowerSeriesRing(QQ)\n",
    "    u = sum(-l[i-1]*t^i/i for i in range(1,len(l)+1))\n",
    "    v = exp(u)\n",
    "    l2 = v.polynomial().list()[:len(l)+1]\n",
    "    l2 = [ZZ(i) for i in l2]\n",
    "    l3 = P.weil_polynomials(d=d, q=q, lead=l2)\n",
    "    if len(l2) < d//2+1:\n",
    "        return l3\n",
    "    return [w for w in l3 if w.is_weil_polynomial()]"
   ]
  },
  {
   "cell_type": "code",
   "execution_count": 53,
   "metadata": {},
   "outputs": [],
   "source": [
    "def weil_polys_from_point_counts(P, d, q, l):\n",
    "    return weil_polys_from_traces(P, d, q, [q^i+1-l[i-1] for i in range(1, len(l)+1)])"
   ]
  },
  {
   "cell_type": "markdown",
   "metadata": {},
   "source": [
    "Confirm that for $d>2$, the Galois group contains a $d$-cycle."
   ]
  },
  {
   "cell_type": "code",
   "execution_count": 54,
   "metadata": {},
   "outputs": [
    {
     "name": "stdout",
     "output_type": "stream",
     "text": [
      "5 2 6 [5, 2, 0, 2, 4] [0, 5, 0, 0, 5]\n"
     ]
    }
   ],
   "source": [
    "for (d, g, g1) in candidates:\n",
    "    if d > 2:\n",
    "        for (a,b,_) in candidates[d,g,g1]:\n",
    "            u = weil_poly_from_point_count(a, g)\n",
    "            v = weil_poly_from_point_count(b, g1)\n",
    "            ct1 = place_count_from_weil_poly(u, 5)\n",
    "            ct2 = place_count_from_weil_poly(v, 5)\n",
    "            if not (ct1[0] > sum(ct2[i] for i in range((d-1)//2)) + (0 if d%2 else 1/2*ct2[d//2-1])):\n",
    "                print(d,g,g1,ct1,ct2)"
   ]
  },
  {
   "cell_type": "markdown",
   "metadata": {},
   "source": [
    "Case $d=3$."
   ]
  },
  {
   "cell_type": "code",
   "execution_count": 55,
   "metadata": {},
   "outputs": [
    {
     "data": {
      "text/plain": [
       "[(6, 6, 0, 0), (6, 6, 0, 0), (7, 7, 0, 0), (7, 9, 0, 2), (8, 8, 0, 0)]"
      ]
     },
     "execution_count": 55,
     "metadata": {},
     "output_type": "execute_result"
    }
   ],
   "source": [
    "[(a[0], a[1], b[0], b[1]) for (a,b,_) in candidates[3,4,10]]"
   ]
  },
  {
   "cell_type": "code",
   "execution_count": 56,
   "metadata": {},
   "outputs": [
    {
     "data": {
      "text/plain": [
       "[(6, 10, 2, 2)]"
      ]
     },
     "execution_count": 56,
     "metadata": {},
     "output_type": "execute_result"
    }
   ],
   "source": [
    "[(a[0], a[1], b[0], b[1]) for (a,b,_) in candidates[3,3,7] if b[0] > 1]"
   ]
  },
  {
   "cell_type": "code",
   "execution_count": 57,
   "metadata": {},
   "outputs": [
    {
     "data": {
      "text/plain": [
       "[(5, 9, 14, 1, 3, 16)]"
      ]
     },
     "execution_count": 57,
     "metadata": {},
     "output_type": "execute_result"
    }
   ],
   "source": [
    "[(a[0], a[1], a[2], b[0], b[1], b[2]) for (a,b,_) in candidates[3,3,7] if b[0] == 1 and b[1] >= 3]"
   ]
  },
  {
   "cell_type": "code",
   "execution_count": 58,
   "metadata": {},
   "outputs": [],
   "source": [
    "assert not weil_polys_from_traces(P, 4, 2, [-3, -3, 0])"
   ]
  },
  {
   "cell_type": "code",
   "execution_count": 59,
   "metadata": {},
   "outputs": [
    {
     "data": {
      "text/plain": [
       "[(2, 8, 0, 0),\n",
       " (3, 7, 0, 0),\n",
       " (3, 7, 0, 0),\n",
       " (4, 6, 0, 0),\n",
       " (4, 6, 0, 0),\n",
       " (4, 8, 0, 0),\n",
       " (4, 8, 0, 0),\n",
       " (4, 8, 0, 0),\n",
       " (4, 10, 0, 2),\n",
       " (4, 12, 0, 6)]"
      ]
     },
     "execution_count": 59,
     "metadata": {},
     "output_type": "execute_result"
    }
   ],
   "source": [
    "[(a[0], a[1], b[0], b[1]) for (a,b,_) in candidates[3,3,7] if b[0] == 0]"
   ]
  },
  {
   "cell_type": "code",
   "execution_count": 60,
   "metadata": {},
   "outputs": [],
   "source": [
    "assert not weil_polys_from_traces(P, 4, 2, [-2, -8])"
   ]
  },
  {
   "cell_type": "code",
   "execution_count": 61,
   "metadata": {},
   "outputs": [],
   "source": [
    "assert not weil_polys_from_traces(P, 4, 2, [-3, -7])"
   ]
  },
  {
   "cell_type": "code",
   "execution_count": 62,
   "metadata": {},
   "outputs": [],
   "source": [
    "assert not weil_polys_from_traces(P, 4, 2, [-4, -6])"
   ]
  },
  {
   "cell_type": "code",
   "execution_count": 63,
   "metadata": {},
   "outputs": [],
   "source": [
    "assert not weil_polys_from_traces(P, 4, 2, [-4, -8])"
   ]
  },
  {
   "cell_type": "code",
   "execution_count": 64,
   "metadata": {},
   "outputs": [
    {
     "data": {
      "text/plain": [
       "[(1, 0), (3, 0), (4, 0)]"
      ]
     },
     "execution_count": 64,
     "metadata": {},
     "output_type": "execute_result"
    }
   ],
   "source": [
    "[(a[0], b[0]) for (a,b,_) in candidates[3,2,4]]"
   ]
  },
  {
   "cell_type": "code",
   "execution_count": 65,
   "metadata": {},
   "outputs": [
    {
     "data": {
      "text/plain": [
       "[(3, 0, 2), (4, 0, 2), (4, 0, 2), (5, 0, 2)]"
      ]
     },
     "execution_count": 65,
     "metadata": {},
     "output_type": "execute_result"
    }
   ],
   "source": [
    "[(a[0], b[0], b[1]) for (a,b,_) in candidates[3,2,6]]"
   ]
  },
  {
   "cell_type": "markdown",
   "metadata": {},
   "source": [
    "Case $d=4$."
   ]
  },
  {
   "cell_type": "code",
   "execution_count": 66,
   "metadata": {},
   "outputs": [
    {
     "name": "stdout",
     "output_type": "stream",
     "text": [
      "4 2 5 [2, 8, 8, 24, 52, 56, 100, 256, 476, 968, 2180, 4272, 8140] [0, 0, 12, 16, 60, 24, 84, 160, 444, 840, 2244, 4144, 8268]\n"
     ]
    }
   ],
   "source": [
    "for (d, g, g1) in [(4,3,9), (4,2,5)]:\n",
    "    for (a,b,_) in candidates[d,g,g1]:\n",
    "        for i in range(len(df)):\n",
    "            if df.loc[i, \"d\"] == 2 and df.loc[i, \"g\"] == g and \\\n",
    "            df.loc[i, \"g'\"] == 2*g-1 and eval(df.loc[i, \"Counts of C\"]) == a and \\\n",
    "            df.loc[i, \"Cyclic\"] == \"Yes\":\n",
    "                for j in range(len(df)):\n",
    "                    if df.loc[j, \"d\"] == 2 and df.loc[j, \"g\"] == 2*g-1 and \\\n",
    "                    df.loc[j, \"g'\"] == g1 and df.loc[j, \"Cyclic\"] == \"Yes\" and\\\n",
    "                    df.loc[i, \"Counts of C'\"] == df.loc[j, \"Counts of C\"] and \\\n",
    "                    eval(df.loc[j, \"Counts of C'\"]) == b:\n",
    "                        print(d,g,g1,a,b)"
   ]
  },
  {
   "cell_type": "code",
   "execution_count": 67,
   "metadata": {},
   "outputs": [
    {
     "data": {
      "text/plain": [
       "[(5, 9, 0, 0)]"
      ]
     },
     "execution_count": 67,
     "metadata": {},
     "output_type": "execute_result"
    }
   ],
   "source": [
    "[(a[0], a[1], b[0], b[1]) for (a,b,c) in candidates[4,3,9] if c%3 == 0]"
   ]
  },
  {
   "cell_type": "code",
   "execution_count": 68,
   "metadata": {},
   "outputs": [
    {
     "data": {
      "text/plain": [
       "[(5, 0, 0, 0), (6, 0, 0, 6), (6, 0, 2, 0), (6, 0, 0, 0), (6, 0, 2, 0)]"
      ]
     },
     "execution_count": 68,
     "metadata": {},
     "output_type": "execute_result"
    }
   ],
   "source": [
    "[(a[0], b[0], b[1], b[2]) for (a,b,_) in candidates[4,3,9]]"
   ]
  },
  {
   "cell_type": "code",
   "execution_count": 69,
   "metadata": {},
   "outputs": [
    {
     "data": {
      "text/plain": [
       "[(4, 1), (5, 1)]"
      ]
     },
     "execution_count": 69,
     "metadata": {},
     "output_type": "execute_result"
    }
   ],
   "source": [
    "[(a[0], b[0]) for (a,b,c) in candidates[4,2,5] if c%3 == 0]"
   ]
  },
  {
   "cell_type": "code",
   "execution_count": 70,
   "metadata": {},
   "outputs": [
    {
     "data": {
      "text/plain": [
       "[(2, 0, 0, 12, 4),\n",
       " (4, 0, 4, 12, 8),\n",
       " (4, 1, 1, 10, 8),\n",
       " (4, 0, 8, 6, 10),\n",
       " (4, 1, 5, 4, 10)]"
      ]
     },
     "execution_count": 70,
     "metadata": {},
     "output_type": "execute_result"
    }
   ],
   "source": [
    "[(a[0], b[0], b[1], b[2], c) for (a,b,c) in candidates[4,2,5] if c%2 == 0]"
   ]
  },
  {
   "cell_type": "markdown",
   "metadata": {},
   "source": [
    "Case $d=5$."
   ]
  },
  {
   "cell_type": "code",
   "execution_count": 71,
   "metadata": {},
   "outputs": [
    {
     "data": {
      "text/plain": [
       "[([3, 5, 9, 33, 33, 65], [0, 0, 0, 20, 15, 90], 5),\n",
       " ([3, 7, 9, 31, 33, 43], [0, 0, 9, 8, 30, 33], 6),\n",
       " ([4, 8, 10, 24, 14, 56], [0, 0, 15, 20, 20, 45], 10),\n",
       " ([4, 8, 10, 24, 14, 56], [0, 6, 0, 18, 0, 60], 10),\n",
       " ([4, 10, 7, 18, 24, 55], [0, 2, 15, 18, 40, 23], 11),\n",
       " ([5, 9, 5, 17, 25, 81], [0, 6, 3, 34, 30, 63], 15),\n",
       " ([5, 9, 5, 17, 25, 81], [0, 10, 0, 10, 25, 70], 15),\n",
       " ([6, 6, 9, 10, 36, 87], [1, 3, 7, 27, 41, 69], 19)]"
      ]
     },
     "execution_count": 71,
     "metadata": {},
     "output_type": "execute_result"
    }
   ],
   "source": [
    "[(a[:6], b[:6], c) for (a,b,c) in candidates[5,2,6]]"
   ]
  },
  {
   "cell_type": "code",
   "execution_count": 72,
   "metadata": {},
   "outputs": [
    {
     "data": {
      "text/plain": [
       "{-13, -8, -3, 2, 7, 12, 17, 22, 27, 32, 37, 47, 57}"
      ]
     },
     "execution_count": 72,
     "metadata": {},
     "output_type": "execute_result"
    }
   ],
   "source": [
    "set(trace_from_weil_poly(u, 5)[4] for u in weil_polys_from_traces(P, 12, 2, [-3, -5, -9]))"
   ]
  },
  {
   "cell_type": "code",
   "execution_count": 73,
   "metadata": {},
   "outputs": [],
   "source": [
    "assert not weil_polys_from_traces(P, 12, 2, [-3,-7,0,-27,-18])"
   ]
  },
  {
   "cell_type": "code",
   "execution_count": 74,
   "metadata": {},
   "outputs": [],
   "source": [
    "assert not weil_polys_from_traces(P, 12, 2, [-3,-7,0,-15,-18])"
   ]
  },
  {
   "cell_type": "code",
   "execution_count": 75,
   "metadata": {},
   "outputs": [],
   "source": [
    "assert not weil_polys_from_traces(P, 12, 2, [-4,-8,14,-52])"
   ]
  },
  {
   "cell_type": "code",
   "execution_count": 76,
   "metadata": {},
   "outputs": [],
   "source": [
    "assert not weil_polys_from_traces(P, 12, 2, [-5,-19,-5])"
   ]
  },
  {
   "cell_type": "markdown",
   "metadata": {},
   "source": [
    "Case $d=6$."
   ]
  },
  {
   "cell_type": "code",
   "execution_count": 77,
   "metadata": {},
   "outputs": [],
   "source": [
    "for (a,b,_) in candidates[6,2,7]:\n",
    "    for i in range(len(df)):\n",
    "        if df.loc[i, \"d\"] == 2 and df.loc[i, \"g\"] == 2 and \\\n",
    "        df.loc[i, \"g'\"] == 3 and eval(df.loc[i, \"Counts of C\"]) == a and \\\n",
    "        df.loc[i, \"Cyclic\"] == \"Yes\":\n",
    "            for j in range(len(df)):\n",
    "                if df.loc[j, \"d\"] == 3 and df.loc[j, \"g\"] == 3 and \\\n",
    "                df.loc[j, \"g'\"] == 7 and df.loc[j, \"Cyclic\"] == \"Yes\" and\\\n",
    "                df.loc[i, \"Counts of C'\"] == df.loc[j, \"Counts of C\"] and \\\n",
    "                eval(df.loc[j, \"Counts of C'\"]) == b:\n",
    "                    print(a,b)"
   ]
  },
  {
   "cell_type": "code",
   "execution_count": 78,
   "metadata": {},
   "outputs": [
    {
     "data": {
      "text/plain": [
       "[([5, 5, 17, 9, 25, 65], [0, 0, 3, 12, 35, 87], 13),\n",
       " ([5, 9, 5, 17, 25, 81], [0, 2, 9, 2, 30, 71], 15),\n",
       " ([5, 9, 5, 17, 25, 81], [0, 4, 0, 12, 15, 106], 15),\n",
       " ([6, 6, 9, 10, 36, 87], [0, 0, 15, 20, 30, 87], 19)]"
      ]
     },
     "execution_count": 78,
     "metadata": {},
     "output_type": "execute_result"
    }
   ],
   "source": [
    "l = []\n",
    "for (a,b,c) in candidates[6,2,7]:\n",
    "    u1 = weil_poly_from_point_count(a, 2)\n",
    "    u2 = weil_poly_from_point_count(b, 7)\n",
    "    v1 = u1.trace_polynomial()[0]\n",
    "    v2 = (u2//u1).trace_polynomial()[0]\n",
    "    if modified_reduced_resultant(v1, v2)%3 != 0:\n",
    "        l.append((a, b, c))\n",
    "[(a[:6], b[:6], c) for (a,b,c) in l]"
   ]
  },
  {
   "cell_type": "code",
   "execution_count": 79,
   "metadata": {},
   "outputs": [
    {
     "data": {
      "text/plain": [
       "[([4, 8, 10, 24, 14, 56], [0, 0, 6, 8, 30, 24], 10),\n",
       " ([5, 5, 17, 9, 25, 65], [0, 0, 12, 4, 15, 90], 13),\n",
       " ([5, 5, 17, 9, 25, 65], [0, 2, 3, 10, 30, 47], 13),\n",
       " ([5, 7, 11, 15, 15, 91], [0, 2, 6, 10, 5, 116], 14),\n",
       " ([5, 9, 5, 17, 25, 81], [1, 1, 1, 1, 41, 49], 15),\n",
       " ([6, 6, 9, 10, 36, 87], [0, 2, 3, 14, 35, 131], 19),\n",
       " ([6, 6, 9, 10, 36, 87], [0, 4, 3, 12, 30, 91], 19)]"
      ]
     },
     "execution_count": 79,
     "metadata": {},
     "output_type": "execute_result"
    }
   ],
   "source": [
    "[(a[:6], b[:6], c) for (a,b,c) in candidates[6,2,7] if (a,b,c) not in l]"
   ]
  },
  {
   "cell_type": "code",
   "execution_count": 80,
   "metadata": {},
   "outputs": [],
   "source": [
    "assert not weil_polys_from_traces(P, 10, 2, [0,-4,-15,4,0])"
   ]
  },
  {
   "cell_type": "code",
   "execution_count": 81,
   "metadata": {},
   "outputs": [],
   "source": [
    "assert not weil_polys_from_traces(P, 10, 2, [0,-4,-15,-20,0])"
   ]
  },
  {
   "cell_type": "code",
   "execution_count": 82,
   "metadata": {},
   "outputs": [],
   "source": [
    "assert not weil_polys_from_traces(P, 10, 2, [0,-4,-15,-8,0])"
   ]
  },
  {
   "cell_type": "code",
   "execution_count": 83,
   "metadata": {},
   "outputs": [
    {
     "name": "stdout",
     "output_type": "stream",
     "text": [
      "-3 15\n"
     ]
    }
   ],
   "source": [
    "l = []\n",
    "for i in [-3, -12, -21]:\n",
    "    for j in [15, 5, 0, -10]:\n",
    "        l2 = weil_polys_from_traces(P, 10, 2, [0, -10, i, -10, j])\n",
    "        if l2:\n",
    "            print(i,j)\n",
    "            l += l2"
   ]
  },
  {
   "cell_type": "code",
   "execution_count": 84,
   "metadata": {},
   "outputs": [
    {
     "data": {
      "text/plain": [
       "[T^10 + 5*T^8 + T^7 + 15*T^6 + 2*T^5 + 30*T^4 + 4*T^3 + 40*T^2 + 32]"
      ]
     },
     "execution_count": 84,
     "metadata": {},
     "output_type": "execute_result"
    }
   ],
   "source": [
    "l"
   ]
  },
  {
   "cell_type": "code",
   "execution_count": 85,
   "metadata": {},
   "outputs": [
    {
     "data": {
      "text/plain": [
       "23"
      ]
     },
     "execution_count": 85,
     "metadata": {},
     "output_type": "execute_result"
    }
   ],
   "source": [
    "trace_from_weil_poly(l[0], 6)[5]"
   ]
  },
  {
   "cell_type": "code",
   "execution_count": 86,
   "metadata": {},
   "outputs": [],
   "source": [
    "assert not weil_polys_from_traces(P, 10, 2, [0,-10,-15,-10])"
   ]
  },
  {
   "cell_type": "markdown",
   "metadata": {},
   "source": [
    "Case $d=7$."
   ]
  },
  {
   "cell_type": "code",
   "execution_count": 87,
   "metadata": {},
   "outputs": [
    {
     "data": {
      "text/plain": [
       "[([5, 7, 11, 15, 15, 91, 131, 255, 479, 987, 2227, 3999, 8143],\n",
       "  [0, 0, 0, 0, 0, 84, 133, 336, 378, 980, 2310, 4032, 8008],\n",
       "  14)]"
      ]
     },
     "execution_count": 87,
     "metadata": {},
     "output_type": "execute_result"
    }
   ],
   "source": [
    "(d, g, g1) = (7, 2, 8)\n",
    "candidates[d, g, g1]"
   ]
  },
  {
   "cell_type": "code",
   "execution_count": 88,
   "metadata": {},
   "outputs": [
    {
     "data": {
      "text/plain": [
       "T^4 + 2*T^3 + 3*T^2 + 4*T + 4"
      ]
     },
     "execution_count": 88,
     "metadata": {},
     "output_type": "execute_result"
    }
   ],
   "source": [
    "u = weil_poly_from_point_count(candidates[d, g, g1][0][0], g); u"
   ]
  },
  {
   "cell_type": "code",
   "execution_count": 89,
   "metadata": {},
   "outputs": [
    {
     "data": {
      "text/plain": [
       "T^16 - 3*T^15 + 2*T^14 + 14*T^10 - 23*T^9 + 13*T^8 - 46*T^7 + 56*T^6 + 128*T^2 - 384*T + 256"
      ]
     },
     "execution_count": 89,
     "metadata": {},
     "output_type": "execute_result"
    }
   ],
   "source": [
    "v = weil_poly_from_point_count(candidates[d, g, g1][0][1], g1); v"
   ]
  },
  {
   "cell_type": "code",
   "execution_count": 90,
   "metadata": {},
   "outputs": [],
   "source": [
    "K1 = magma.NumberField(u)\n",
    "a  = K1.gen(1)\n",
    "O1 = K1.MaximalOrder()\n",
    "O1a = O1.sub([a, 2/a])\n",
    "assert O1a == O1\n",
    "assert O1.ClassNumber() == 1"
   ]
  },
  {
   "cell_type": "code",
   "execution_count": 91,
   "metadata": {},
   "outputs": [],
   "source": [
    "K2 = magma.NumberField(v//u)\n",
    "b = K2.gen(1)\n",
    "O2 = K2.MaximalOrder()\n",
    "O2a = O2.sub([b, 2/b])\n",
    "assert O2a == O2\n",
    "assert O2.ClassNumber() == 1"
   ]
  },
  {
   "cell_type": "code",
   "execution_count": 92,
   "metadata": {},
   "outputs": [
    {
     "data": {
      "text/plain": [
       "6"
      ]
     },
     "execution_count": 92,
     "metadata": {},
     "output_type": "execute_result"
    }
   ],
   "source": [
    "K2s = K2.sage()\n",
    "l = K2s.primes_above(7)\n",
    "assert(len(l) == 1)\n",
    "p = l[0]\n",
    "K2s(7).valuation(p)"
   ]
  }
 ],
 "metadata": {
  "kernelspec": {
   "display_name": "SageMath 9.4",
   "language": "sage",
   "name": "sagemath"
  },
  "language_info": {
   "codemirror_mode": {
    "name": "ipython",
    "version": 3
   },
   "file_extension": ".py",
   "mimetype": "text/x-python",
   "name": "python",
   "nbconvert_exporter": "python",
   "pygments_lexer": "ipython3",
   "version": "3.9.5"
  }
 },
 "nbformat": 4,
 "nbformat_minor": 5
}
