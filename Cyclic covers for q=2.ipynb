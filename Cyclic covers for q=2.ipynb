{
 "cells": [
  {
   "cell_type": "markdown",
   "metadata": {},
   "source": [
    "This notebook is associated with the paper \"The relative class number one problem for function fields, I\" by K.S. Kedlaya. It runs in SageMath (tested using version 9.4) and depends on Magma (tested using version\n",
    "2.25-5); it also requires the pandas and openpyxl libraries (`sage --pip install openpyxl/pandas`).\n",
    "\n",
    "In this notebook, we compute cyclic purely geometric extensions with $q=2$ using the upper bound on Weil polynomials. Allow about 2 hours for completion."
   ]
  },
  {
   "cell_type": "code",
   "execution_count": 1,
   "metadata": {},
   "outputs": [],
   "source": [
    "load(\"auxiliary.sage\")"
   ]
  },
  {
   "cell_type": "markdown",
   "metadata": {},
   "source": [
    "Read data about the exhaustion from an Excel spreadsheet. Note that we only use the data about base curves $C$, not covering curves $C'$ (except at the end to match up the results)."
   ]
  },
  {
   "cell_type": "code",
   "execution_count": 2,
   "metadata": {},
   "outputs": [],
   "source": [
    "import pandas"
   ]
  },
  {
   "cell_type": "code",
   "execution_count": 3,
   "metadata": {},
   "outputs": [],
   "source": [
    "df = pandas.read_excel('polys.xlsx', index_col=int(0))"
   ]
  },
  {
   "cell_type": "code",
   "execution_count": 4,
   "metadata": {},
   "outputs": [
    {
     "name": "stdout",
     "output_type": "stream",
     "text": [
      "['d', 'g', \"g'\", 'Label of J(C)', '#J(C)', 'Counts of C', \"Counts of C'\"]\n"
     ]
    }
   ],
   "source": [
    "if \"Unnamed: 0\" in df:\n",
    "    del df[\"Unnamed: 0\"]\n",
    "if \"Cyclic\" in df:\n",
    "    del df[\"Cyclic\"]\n",
    "print(list(df))"
   ]
  },
  {
   "cell_type": "code",
   "execution_count": 5,
   "metadata": {},
   "outputs": [],
   "source": [
    "candidates = {}\n",
    "for i in range(len(df)):\n",
    "    r = df.iloc[i]\n",
    "    d = r[\"d\"]\n",
    "    g = r[\"g\"]\n",
    "    g1 = r[\"g'\"]\n",
    "    if (d,g,g1) not in candidates:\n",
    "        candidates[d,g,g1] = []\n",
    "    s = r[\"Label of J(C)\"]\n",
    "    if s not in candidates[d,g,g1]:\n",
    "        candidates[d,g,g1].append(s)"
   ]
  },
  {
   "cell_type": "markdown",
   "metadata": {},
   "source": [
    "Table of curves with a given Weil polynomial, taken from LMFDB."
   ]
  },
  {
   "cell_type": "code",
   "execution_count": 6,
   "metadata": {},
   "outputs": [],
   "source": [
    "P.<x,y,z,t> = GF(2)[]\n",
    "curves_by_poly = {}"
   ]
  },
  {
   "cell_type": "code",
   "execution_count": 7,
   "metadata": {},
   "outputs": [],
   "source": [
    "curves_by_poly[1] = {\n",
    "    '1.2.ac': [(P(1), x^3+x+1)],\n",
    "    '1.2.ab': [(x, x^3+x^2+1)],\n",
    "    '1.2.a': [(P(1), x^3)],\n",
    "    '1.2.b': [(x, x^3+1)],\n",
    "    '1.2.c': [(P(1), x^3+x)]\n",
    "}"
   ]
  },
  {
   "cell_type": "code",
   "execution_count": 8,
   "metadata": {},
   "outputs": [],
   "source": [
    "curves_by_poly[2] = {\n",
    "    '2.2.ab_a': [(x,x^5+x^2+x)],\n",
    "    '2.2.ab_c': [(x, x^5+x^3+x)],\n",
    "    '2.2.ab_d': [(x^3+x+1, x^5+x^4+1)],\n",
    "    '2.2.ac_e': [(P(1), x^5+x^4+1)],\n",
    "    '2.2.a_ab': [(x^2+x, x^5+x^3+x^2+x)],\n",
    "    '2.2.a_a': [(P(1), x^5)],\n",
    "    '2.2.a_b': [(x^2+x+1, x^5+x^3+x^2+1)],\n",
    "    '2.2.a_c': [(P(1), x^5+x^4+x^3)],\n",
    "    '2.2.b_a': [(x, x^5+x)],\n",
    "    '2.2.b_b': [(x^3+x+1, x^6+x^3+x^2+x)],\n",
    "    '2.2.b_c': [(x, x^5+x^3+x^2+x)],\n",
    "    '2.2.b_d': [(x^3+x+1, x^6+x^5+x^4+x^2)],\n",
    "    '2.2.c_c': [(P(1), x^5+x^3)],\n",
    "    '2.2.c_d': [(x^2+x+1, x^5+x^4+x^2+x)], \n",
    "    '2.2.c_e': [(P(1),x^5+x^4)],\n",
    "    '2.2.d_f': [(x^3+x+1,x^5+x^4+x^3+x)],\n",
    "}"
   ]
  },
  {
   "cell_type": "code",
   "execution_count": 9,
   "metadata": {},
   "outputs": [],
   "source": [
    "curves_by_poly[3] = {\n",
    "    '3.2.ad_g_ai': [[(x^4+x^2+1,x^8+x+1)], []],\n",
    "    '3.2.ac_c_ab': [[(x^4+x^2+x+1, x^8+x^7+x^5+x^3+x^2+1)],\n",
    "                    [x^4+x^3*y+x^2*z^2+x*z^3+y^4+y^3*z+y^2*z^2]],\n",
    "    '3.2.ac_e_af': [[(x^4+x^2+x,x^8+x^7+x^5+x^4+x)], []],\n",
    "    '3.2.ab_a_a': [[(x, x^7+x^6+x), (x^4+x^2,x^8+x^5+x^3+x)],\n",
    "                   [x^4+x^3*y+x^2*y*z+x*z^3+y^4]],\n",
    "    '3.2.ab_a_c': [[(x, x^7+x^6+x^5+x^2+x)], \n",
    "                   [x^3*y+x^2*y^2+x^2*y*z+x*z^3+y^4,\n",
    "                    x^3*y+x^2*y^2+x*y^2*z+x*z^3+y^4]],\n",
    "    '3.2.ab_a_e': [[], [x^4+x^3*y+x^3*z+x^2*y*z+x*y^3+x*y^2*z+x*y*z^2+x*z^3+y^2*z^2]],\n",
    "    '3.2.ab_c_ac': [[(x, x^7+x^5+x), (x^4+x^2+1, x^5+x+1)],\n",
    "                    [x^4+x^2*y^2+x^2*y*z+x*z^3+y^4]],\n",
    "    '3.2.ab_c_ab': [[], [x^4+x^3*y+x^2*y*z+x*z^3+y^4+y^3*z+y^2*z^2]],\n",
    "    '3.2.ab_c_a': [[(x^4+x^2,x^8+x)], []],\n",
    "    '3.2.a_a_ab': [[(x^3+x+1, x^7+x^5+x^4+x^3+x+1)], []],\n",
    "    '3.2.a_a_b': [[(x^3+x+1, x^7+x^6+x^5+x^4+x^3+x^2+x)],\n",
    "                  [x^4+x^3*z+x^2*y^2+x^2*y*z+x*y*z^2+x*z^3+y^3*z]],\n",
    "    '3.2.a_a_d': [[], [x^4+x^3*y+x^3*z+x^2*y*z+x*y^3+x*y^2*z+x*z^3+y^4,\n",
    "                       x^3*z+x^2*y^2+x^2*y*z+x^2*z^2+x*y*z^2+x*z^3+y^3*z]],\n",
    "    '3.2.a_a_f': [[], [x^3*y+x*z^3+y^3*z]],\n",
    "    '3.2.a_b_a': [[(x^2+x, x^7+x^5+x^2+x), (x^2+x+1, x^7+x^5+x^3+x^2+x+1)],\n",
    "                  [x^4+x*y^3+x*z^3+y^4]],\n",
    "    '3.2.a_b_d': [[], [x^4+x^3*y+x^3*z+x^2*y^2+x*z^3+y^3*z, \n",
    "                       x^4+x^3*y+x^3*z+x^2*y^2+x*z^3+y^3*z+y^2*z^2]],\n",
    "    '3.2.a_c_ab': [[(x^4+x^2+x+1, x^8+x^7+x^4+x^2),\n",
    "                    (x^4+x^2+x+1, x^6+x^5+x^2+1)],\n",
    "                   [x^4+x^2*y*z+x*y^3+x*y^2*z+x*z^3+y^4]],\n",
    "    '3.2.a_c_b': [[(x^4+x^2+x+1, x^7+1), (x^4+x^2+x+1, x^8+x^6+x^5+x^4)],\n",
    "                  [x^4+x^3*z+x^2*y*z+x*y^3+x*y^2*z+x*z^3+y^2*z^2]],\n",
    "    '3.2.b_b_b': [[(x^4+x+1, x^8+x^7+x^5+x^3)],\n",
    "                    [x^3*z+x^2*y*z+x*y^3+x*z^3+y^4]],\n",
    "    '3.2.b_b_e': [[], [x^3*z+x^2*y^2+x^2*y*z+x*z^3+y^3*z]],\n",
    "    '3.2.b_c_a': [[(x^4+x^2,x^4+x)], []],\n",
    "    '3.2.b_c_b': [[], [x^3*y+x^2*y*z+x*z^3+y^3*z]],\n",
    "    '3.2.b_c_c': [[(x,x^7+x^5+x^2+x), (x^4+x^2+1, x^8+x^5+x^4+x)],\n",
    "                  [x^4+x^3*y+x^2*y^2+x*y^2*z+x*z^3+y^4]],\n",
    "    '3.2.b_c_d': [[], [x^4+x^3*y+x^2*y^2+x*y*z^2+x*z^3+y^3*z]],\n",
    "    '3.2.b_c_e': [[(x, x^7+x), (x^4+x^2, x^2+x), (x^4+x^2+1, x^8+x^4+x^2+x)],\n",
    "                  [x^4+x^2*y*z+x*z^3+y^4]],\n",
    "    '3.2.b_d_c': [[], [x^4+x^3*z+x^2*y^2+x^2*y*z+x^2*z^2+x*z^3+y^3*z]],\n",
    "    '3.2.b_d_e': [[], [x^4+x^3*z+x*y^3+x*y^2*z+x*z^3+y^2*z^2]],\n",
    "    '3.2.b_e_d': [[], [x^4+x^3*y+x^2*y^2+x^2*y*z+x*z^3+y^3*z]],\n",
    "    '3.2.b_e_e': [[], [x^4+x^2*y^2+x*y*z^2+x*z^3+y^3*z]],\n",
    "    '3.2.c_d_d': [[], [x^3*y+x^3*z+x*z^3+y^3*z]],\n",
    "    '3.2.c_d_f': [[], [x^3*y+x^3*z+x^2*y^2+x^2*z^2+x*z^3+y^3*z]],\n",
    "    '3.2.c_e_e': [[], [x^3*y+x^3*z+x*z^3+y^4]],\n",
    "    '3.2.c_e_f': [[(x^4+x^2+x, x^7+x^5+x^2+x)],\n",
    "                    [x^3*y+x^2*y^2+x^2*z^2+x*z^3+y^3*z]],\n",
    "    '3.2.c_e_g': [[(P(1), x^7+x^4)], [x^4+x^2*y^2+x*z^3+y^3*z]],\n",
    "    '3.2.c_e_h': [[(x^4+x^2+x+1, x^5+x^3+x^2+x)], []],\n",
    "    '3.2.d_g_i': [[(x^4+x^2+1, x^4+x)], []],\n",
    "    '3.2.d_g_k': [[(x^4+x^2+1, x^5+x^2)], []],\n",
    "    '3.2.d_h_l': [[(x^4+x+1,x^6+x^5+x^3+x)], []],\n",
    "}"
   ]
  },
  {
   "cell_type": "code",
   "execution_count": 10,
   "metadata": {},
   "outputs": [],
   "source": [
    "curves_by_poly[4] = {\n",
    "    '4.2.a_c_ab_c': [[(x^3+x+1, x^9+x^7+x^2)],\n",
    "                     [(x*y+t^2, x^3+y^3+x*y*z+z^3+x*y*t+x*z*t),\n",
    "                      (x*y+t^2, x^3+x^2*y+y^3+x*y*z+z^3+x*y*t+x*z*t)]],\n",
    "    '4.2.a_c_ab_e': [[(x^3+x+1, x^9+x^6+x^2)], \n",
    "                     [(x^2+x*y+y^2+z*t, x^2*z+x*y*z+y^2*z+x*z^2+x*y*t+x*t^2)]],\n",
    "    '4.2.a_c_ab_g': [[(x^3+x+1, x^9+x^7+x+1)],\n",
    "                     [(x*y+t^2, y^3+x*y*z+z^3+x^2*t+x*y*t+x*z*t),\n",
    "                      (x^2+x*y+y^2+z*t, x^3+x^2*y+y^3+y^2*z+x*z^2+x*y*t+x*t^2)]],\n",
    "    '4.2.a_c_b_c': [[(x^3+x+1, x^9+x^7+x^6+1)],\n",
    "                    [(x*y+z*t, x^3+y^3+x^2*z+y^2*z+x*z^2+y*z^2+x*t^2),\n",
    "                     (x*y+z*t, x*y^2+y^3+x^2*z+x*y*z+y^2*z+x*z^2+z^3+x^2*t+x*t^2),\n",
    "                     (x*y+t^2, x^3+y^3+x*y*z+y^2*z+z^3+x*z*t),\n",
    "                     (x^2+x*y+y^2+z*t, x^2*y+x*y^2+y*z^2+x^2*t+x*t^2)]],\n",
    "    '4.2.a_c_b_e': [[(x^3+x+1, x^9+1)],\n",
    "                    [(x^2+x*y+y^2+z*t, x^3+x^2*y+x*y^2+y^2*z+x*z^2+x^2*t+x*t^2),\n",
    "                     (x^2+x*y+y^2+z*t, x^2*y+x*y^2+x^2*z+y*z^2+x^2*t+x*t^2)]],\n",
    "    '4.2.a_c_b_g': [[(x^3+x+1, x^9+x^7+x^6+x^2+x)],\n",
    "                    [(x^2+x*y+y^2+z*t, y^3+x^2*z+x*z^2+x*t^2)]],\n",
    "    '4.2.a_c_d_a': [[], [(x^2+x*y+y^2+z*t, x^3+x^2*y+x*y^2+y*z^2+x^2*t+x*t^2)]],\n",
    "    '4.2.a_c_d_c': [[], [(x^2+x*y+y^2+z*t, x^3+y^3+x^2*z+x*y*z+x*z^2+x*y*t+x*t^2)]],\n",
    "    '4.2.a_d_ab_f': [[], [(x^2+x*y+y^2+z*t, x^3+x^2*y+x^2*z+y^2*z+x*z^2+x*y*t+x*t^2)]],\n",
    "    '4.2.a_d_ab_h': [[], [(x*y+t^2, x^3+x^2*y+x*y^2+y^3+x*y*z+z^3+y^2*t+x*z*t)]],\n",
    "    '4.2.a_d_b_f': [[],\n",
    "                    [(x*y+z*t, x^3+x*y^2+y^3+x^2*z+x*y*z+y^2*z+x*z^2+y*z^2+x*t^2),\n",
    "                     (x*y+t^2, x^3+x*y*z+z^3+x^2*t+y^2*t+x*z*t),\n",
    "                     (x*y+t^2, x^3+y^3+x*y*z+z^3+y^2*t+x*z*t),\n",
    "                     (x*y+t^2, x^3+x^2*y+y^3+x*y*z+z^3+y^2*t+x*z*t),\n",
    "                     (x^2+x*y+y^2+z*t, x^3+x^2*y+y^3+x^2*z+x*y*z+x*z^2+x*t^2)]],\n",
    "    '4.2.a_d_b_h': [[], [(x*y+z*t, x^3+x*y^2+y^3+x^2*z+y^2*z+x*z^2+x^2*t+x*y*t+x*t^2),\n",
    "                          (x^2+x*y+y^2+z*t, x^3+x^2*y+y^2*z+x*z^2+x*y*t+x*t^2),\n",
    "                          (x^2+x*y+y^2+z*t, x^3+y^3+x*y*z+y^2*z+x*z^2+x*y*t+x*t^2)]],\n",
    "    '4.2.a_d_d_f': [[], [(x*y+t^2, x^2*y+y^3+x^2*z+x*y*z+z^3+y^2*t+x*z*t)]],\n",
    "    '4.2.a_e_b_k': [[], [(x*y+t^2, x^3+x^2*y+y^3+x*y*z+z^3+x^2*t+x*y*t+x*z*t)]],\n",
    "    '4.2.b_b_a_b': [[], [(x*y+t^2, x^2*y+y^2*z+z^3+x^2*t+y^2*t+x*z*t)]],\n",
    "    '4.2.b_b_a_d': [[], [(x*y+z*t, x^3+x^2*y+y^3+x^2*z+x*y*z+y^2*z+x*z^2+x*y*t+x*t^2)]],\n",
    "    '4.2.b_b_c_d': [[], [(x*y+z*t, x*y^2+y^3+x^2*z+x*y*z+x*z^2+x*y*t+x*t^2),\n",
    "                         (x*y+t^2, x^2*z+y^2*z+z^3+y^2*t+x*z*t)]],\n",
    "    '4.2.b_b_c_f': [[], [(x*y+z*t, x^2*y+x*y^2+y^3+x^2*z+x*y*z+x*z^2+x*t^2),\n",
    "                         (x*y+t^2, x^3+x^2*y+x^2*z+y^2*z+z^3+x^2*t+y^2*t+x*z*t)]],\n",
    "    '4.2.b_b_c_h': [[], [(x*y+t^2, x^3+y^2*z+z^3+y^2*t+x*z*t),\n",
    "                         (x^2+x*y+y^2+z*t, y^3+x*y*z+x*z^2+x*t^2)]],\n",
    "    '4.2.b_b_a_b': [[], [(x*y+t^2, x^2*y+y^2*z+z^3+x^2*t+y^2*t+x*z*t)]],\n",
    "    '4.2.b_b_a_d': [[], [(x*y+z*t, x^3+x^2*y+y^3+x^2*z+x*y*z+y^2*z+x*z^2+x*y*t+x*t^2)]],\n",
    "    '4.2.b_c_a_a': [[(x^2, x^9+x^7+x+1)], []],\n",
    "    '4.2.b_c_a_c': [[(x, x^9+x^7+x^5+x^3+x^2+1)], []],\n",
    "    '4.2.b_c_a_e': [[], [(x^2+x*y+y^2+z*t, x*y*z+y^2*z+x*z^2+x*t^2)]],\n",
    "    '4.2.b_c_c_c': [[(x, x^9+x^7+x^3+1)], []],\n",
    "    '4.2.b_c_c_e': [[(x^2, x^9+x^5+x^4+x), (x^2, x^9+x^4+x+1)], []],\n",
    "    '4.2.b_c_c_g': [[(x, x^9+1)],\n",
    "                    [(x*y+z*t, x^3+x*y^2+x^2*z+y^2*z+x*z^2+y^2*t+x*t^2),\n",
    "                     (x*y+z*t, y^3+x^2*z+x*y*z+y^2*z+y*z^2+x^2*t+x*t^2),\n",
    "                     (x*y+t^2, y^3+x^2*z+x*y*z+z^3+x^2*t),\n",
    "                     (x^2+x*y+y^2+z*t, x^3+x^2*y+y^3+x^2*z+x*y*z+x*z^2+x*y*t+x*t^2)]],\n",
    "    '4.2.b_b_c_h': [[], [(x*y+t^2, x^3+y^2*z+z^3+y^2*t+x*z*t),\n",
    "                         (x^2+x*y+y^2+z*t, y^3+x*y*z+x*z^2+x*t^2)]],\n",
    "    '4.2.b_c_d_h': [[(x^4+x^2+x, x^9+x^8+x^2+1)], \n",
    "                    [(x*y+z*t, x^3+x*y^2+y^3+x*y*z+x*z^2+x*y*t+x*t^2),\n",
    "                     (x^2+x*y+y^2+z*t, x^2*y+y^3+x*y*z+y^2*z+x*z^2+x*y*t+x*t^2)]],\n",
    "    '4.2.b_c_d_j': [[], [(x*y+t^2, x^3+x^2*y+z^3+x^2*t+y^2*t+x*z*t)]],\n",
    "    '4.2.b_c_e_e': [[(x^2, x^9+x^7+x^5+x)], []],\n",
    "    '4.2.b_d_c_h': [[], [(x*y+z*t, x^3+x^2*y+x*y^2+x*y*z+y^2*z+x*z^2+x^2*t+y^2*t+x*t^2),\n",
    "                         (x*y+z*t, x^3+y^3+x^2*z+x*y*z+y^2*z+x*z^2+x^2*t+y^2*t+x*t^2),\n",
    "                         (x*y+t^2, x^3+x^2*y+x*y^2+y^3+z^3+x*y*t+y^2*t+x*z*t)]],\n",
    "    '4.2.b_d_e_j': [[], [(x*y+t^2, x^3+y^3+z^3+x*y*t+y^2*t+x*z*t)]],\n",
    "    '4.2.b_e_c_i': [[], [(x*y+t^2, x^3+y^3+z^3+x*z*t)]],\n",
    "    '4.2.b_e_e_k': [[], [(x*y+t^2, x^2*y+y^3+x^2*z+x*y*z+z^3+x^2*t),\n",
    "                         (x^2+x*y+y^2+z*t, x^2*y+y^3+x^2*z+x*y*z+y^2*z+x*z^2+x*y*t+x*t^2)]],\n",
    "    '4.2.c_e_h_k': [[(x^3+x+1, x^9+x^7)], []],\n",
    "    '4.2.c_g_i_q': [[], \n",
    "                    [(x*y+z*t,x^3+x*y^2+x^2*z+y^2*z+x*z^2+y*z^2+x^2*t+x*y*t+y^2*t+x*t^2),\n",
    "                     (x*y+z*t,y^3+x*y*z+y^2*z+x*z^2+y*z^2+x^2*t+x*y*t+y^2*t+x*t^2)]],\n",
    "    '4.2.d_f_i_n': [[], [(x*y+z*t, x^2*y+x*y^2+x^2*z+x*y*z+y^2*z+y*z^2+x^2*t+y^2*t+x*t^2)]],\n",
    "    '4.2.d_f_k_s': [[], \n",
    "                    [(x*y+t^2, x^2*y+x^2*z+x*y*z+y^2*z+z^3+x^2*t+x*y*t+y^2*t)]],\n",
    "    '4.2.d_h_l_r': [[(x^5+x^2+1, x^4+x^2)], \n",
    "                    [(x*y+z*t,x^2*y+x*y^2+y^3+x*y*z+y^2*z+x*z^2+x^2*t+y^2*t+x*t^2)]],\n",
    "    '4.2.d_i_o_x': [[],\n",
    "                    [(x*y+z*t,x^2*z+x*y*z+x*z^2+y*z^2+x^2*t+y^2*t+x*t^2)]],\n",
    "    '4.2.e_j_q_z': [[], [(x*y+z*t, x^2*y+y^3+x*y*z+y^2*z+x*z^2+x^2*t+y^2*t+x*t^2)]],\n",
    "    '4.2.e_k_u_bg': [[], [(x*y+z*t, x^2*z+y^2*z+y*z^2+x^2*t+y^2*t+x*t^2)]],\n",
    "    '4.2.f_o_bc_bs': [[], [(x*y+z*t, x*y^2+y^3+x^2*z+y^2*z+x*z^2+x^2*t+y^2*t+x*t^2)]]\n",
    "}"
   ]
  },
  {
   "cell_type": "code",
   "execution_count": 11,
   "metadata": {},
   "outputs": [],
   "source": [
    "curves_by_poly[5] = {\n",
    "}"
   ]
  },
  {
   "cell_type": "markdown",
   "metadata": {},
   "source": [
    "Produce Magma function fields of curves with a given zeta function."
   ]
  },
  {
   "cell_type": "code",
   "execution_count": 12,
   "metadata": {},
   "outputs": [],
   "source": [
    "def function_fields_by_weil_poly(s, m=1):\n",
    "    if m == 1:\n",
    "        F0 = magma.FunctionField(GF(2))\n",
    "    else:\n",
    "        K.<a> = GF(2^m)\n",
    "        F0 = magma.FunctionField(K)\n",
    "    F0.AssignNames('x')\n",
    "    S = magma.PolynomialRing(F0)\n",
    "    S.AssignNames('y')\n",
    "    l = s.split(\".\")\n",
    "    g = Integer(l[0])\n",
    "    ans = []\n",
    "    # Hyperelliptics.\n",
    "    m = curves_by_poly[g][s] if g <= 2 else curves_by_poly[g][s][0]\n",
    "    for (u,v) in m:\n",
    "        yield magma.FunctionField(S.1^2 + u(F0.1, 0, 0, 0)*S.1 + v(F0.1, 0, 0, 0))\n",
    "    # Plane quartics for g=3.\n",
    "    if g == 3:\n",
    "        for u in curves_by_poly[g][s][1]:\n",
    "            yield magma.FunctionField(u(F0.1, S.1, 1, 0))\n",
    "    # Genus 4 curves.\n",
    "    if g == 4:\n",
    "        for (u,v) in curves_by_poly[g][s][1]:\n",
    "            if u == x*y + z*t:\n",
    "                yield magma.FunctionField(v(F0.1, S.1, F0.1*S.1, 1))\n",
    "            elif u == x*y + t^2:\n",
    "                yield magma.FunctionField(v(F0.1, S.1^2/F0.1, 1, S.1))\n",
    "            elif u == x^2 + x*y + y^2 + z*t:\n",
    "                yield magma.FunctionField(v(F0.1, S.1, 1, F0.1^2 + F0.1*S.1 + S.1^2))\n",
    "            else:\n",
    "                raise ValueError"
   ]
  },
  {
   "cell_type": "markdown",
   "metadata": {},
   "source": [
    "Check that the zeta functions of these curves are as indicated."
   ]
  },
  {
   "cell_type": "code",
   "execution_count": 13,
   "metadata": {},
   "outputs": [],
   "source": [
    "P.<T> = QQ[]\n",
    "for g in range(1, 5):\n",
    "    for s in curves_by_poly[g]:\n",
    "        for F in function_fields_by_weil_poly(s):\n",
    "            u = F.ZetaFunction().Numerator().sage()(T).reverse()\n",
    "            assert label_from_weil_poly(u) == s"
   ]
  },
  {
   "cell_type": "markdown",
   "metadata": {},
   "source": [
    "Exhaust over abelian extensions of a Magma function field of a fixed prime degree to find instances of a particular relative Weil polynomial."
   ]
  },
  {
   "cell_type": "code",
   "execution_count": 14,
   "metadata": {},
   "outputs": [],
   "source": [
    "def match_weil_poly(F, d, delta=0, verbose=False):\n",
    "    P.<T> = PolynomialRing(QQ)\n",
    "    ans = []\n",
    "    g = F.Genus()\n",
    "    g1 = g + (d-1)*(g-1) + delta\n",
    "    for F1 in cyclic_covers(F, d, delta=delta):\n",
    "        if verbose:\n",
    "            print(F1.ZetaFunction().Numerator() // F.ZetaFunction().Numerator())\n",
    "        if F1.ClassNumber() == F.ClassNumber():\n",
    "            ans.append((F, F1))\n",
    "    return(ans)"
   ]
  },
  {
   "cell_type": "code",
   "execution_count": 15,
   "metadata": {},
   "outputs": [],
   "source": [
    "covers_by_poly = {}"
   ]
  },
  {
   "cell_type": "code",
   "execution_count": 16,
   "metadata": {},
   "outputs": [],
   "source": [
    "def match_weil_poly_general(s, d, delta=0, verbose=False):\n",
    "    l = s.split(\".\")\n",
    "    g = Integer(l[0])\n",
    "    g1 = g + (d-1)*(g-1) + delta\n",
    "    ans = []\n",
    "    for F in function_fields_by_weil_poly(s):\n",
    "        ans.append((s, match_weil_poly(F, d, delta=delta, verbose=verbose)))\n",
    "    if ans:\n",
    "        if (d, g, g1) not in covers_by_poly:\n",
    "            covers_by_poly[d, g, g1] = {}\n",
    "        if s not in covers_by_poly[d, g, g1]:\n",
    "            covers_by_poly[d, g, g1][s] = {}\n",
    "        for (_, l) in ans:\n",
    "            for (F, F1) in l:\n",
    "                if F not in covers_by_poly[d, g, g1][s]:\n",
    "                    covers_by_poly[d, g, g1][s][F] = []\n",
    "                if F1 not in covers_by_poly[d, g, g1][s][F]:\n",
    "                    covers_by_poly[d, g, g1][s][F].append(F1)\n",
    "    return ans"
   ]
  },
  {
   "cell_type": "code",
   "execution_count": 17,
   "metadata": {},
   "outputs": [
    {
     "name": "stdout",
     "output_type": "stream",
     "text": [
      "2 2 3\n",
      "2 2 4\n",
      "2 2 5\n",
      "2 3 5\n",
      "2 3 6\n",
      "2 4 7\n",
      "2 4 8\n",
      "2 5 9\n",
      "2 6 11\n",
      "2 7 13\n",
      "3 2 4\n",
      "3 2 6\n",
      "3 3 7\n",
      "3 4 10\n",
      "4 2 5\n",
      "4 3 9\n",
      "5 2 6\n",
      "6 2 7\n",
      "7 2 8\n"
     ]
    }
   ],
   "source": [
    "for (d, g, g1) in candidates:\n",
    "    print(d, g, g1)\n",
    "    delta = g1-g-(d-1)*(g-1)\n",
    "    if g <= 4:\n",
    "        covers_by_poly[d, g, g1] = {}\n",
    "        for s in candidates[d,g,g1]:\n",
    "            match_weil_poly_general(s, d, delta=g1-g-(d-1)*(g-1))"
   ]
  },
  {
   "cell_type": "markdown",
   "metadata": {},
   "source": [
    "Check that no covers that occur for $d=4, g=2, g'=5$ are dihedral, by comparing options for the intermediate covers with $(d,g,g') = (2,2,3)$ and $(d,g,g') = (2,3,5)$."
   ]
  },
  {
   "cell_type": "code",
   "execution_count": 18,
   "metadata": {},
   "outputs": [
    {
     "data": {
      "text/plain": [
       "{Algebraic function field defined over Univariate rational function field over GF(2) by\n",
       " y^2 + x*y + x^5 + x^3 + x: [Algebraic function field defined over Algebraic function field defined over Univariate rational function field over GF(2) by\n",
       "  y^2 + x*y + x^5 + x^3 + x by\n",
       "  $.1^2 + $.1 + x^3 + x + 1]}"
      ]
     },
     "execution_count": 18,
     "metadata": {},
     "output_type": "execute_result"
    }
   ],
   "source": [
    "covers_by_poly[2,2,3]['2.2.ab_c']"
   ]
  },
  {
   "cell_type": "code",
   "execution_count": 19,
   "metadata": {},
   "outputs": [
    {
     "data": {
      "text/plain": [
       "{Algebraic function field defined over Univariate rational function field over GF(2) by\n",
       " y^2 + (x^4 + x^2 + 1)*y + x^8 + x + 1: [Algebraic function field defined over Algebraic function field defined over Univariate rational function field over GF(2) by\n",
       "  y^2 + (x^4 + x^2 + 1)*y + x^8 + x + 1 by\n",
       "  $.1^2 + $.1 + $.1 + x^2 + 1,\n",
       "  Algebraic function field defined over Algebraic function field defined over Univariate rational function field over GF(2) by\n",
       "  y^2 + (x^4 + x^2 + 1)*y + x^8 + x + 1 by\n",
       "  $.1^2 + $.1 + $.1 + x^2]}"
      ]
     },
     "execution_count": 19,
     "metadata": {},
     "output_type": "execute_result"
    }
   ],
   "source": [
    "covers_by_poly[2,3,5]['3.2.ad_g_ai']"
   ]
  },
  {
   "cell_type": "code",
   "execution_count": 20,
   "metadata": {},
   "outputs": [
    {
     "data": {
      "text/plain": [
       "{Algebraic function field defined over Univariate rational function field over GF(2) by\n",
       " y^2 + x*y + x^5 + x^3 + x: [Algebraic function field defined over Algebraic function field defined over Univariate rational function field over GF(2) by\n",
       "  y^2 + x*y + x^5 + x^3 + x by\n",
       "  $.1^4 + (x^3 + x)*$.1^2 + (x^3 + x + 1)*$.1 + (x^4 + x)*$.1 + x^10 + x^8 + x^7 + x^3 + x^2 + x + 1,\n",
       "  Algebraic function field defined over Algebraic function field defined over Univariate rational function field over GF(2) by\n",
       "  y^2 + x*y + x^5 + x^3 + x by\n",
       "  $.1^4 + (x^3 + x)*$.1^2 + (x^3 + x + 1)*$.1 + (x^4 + x)*$.1 + x^10 + x^8 + x^7 + x^2 + 1]}"
      ]
     },
     "execution_count": 20,
     "metadata": {},
     "output_type": "execute_result"
    }
   ],
   "source": [
    "covers_by_poly[4,2,5]['2.2.ab_c']"
   ]
  },
  {
   "cell_type": "code",
   "execution_count": 21,
   "metadata": {},
   "outputs": [
    {
     "name": "stdout",
     "output_type": "stream",
     "text": [
      "true\n",
      "true\n",
      "true\n",
      "true\n"
     ]
    }
   ],
   "source": [
    "for _, l1 in covers_by_poly[2,3,5]['3.2.ad_g_ai'].items():\n",
    "    for _, l2 in covers_by_poly[4,2,5]['2.2.ab_c'].items():\n",
    "        for F1 in l1:\n",
    "            for F2 in l2:\n",
    "                print(F1.IsIsomorphic(F2))"
   ]
  },
  {
   "cell_type": "markdown",
   "metadata": {},
   "source": [
    "Identify base curves $C$ when $(d,g,g') = (2,7,13)$ and $\\#C(\\mathbb{F}_2) = 6$."
   ]
  },
  {
   "cell_type": "code",
   "execution_count": 22,
   "metadata": {},
   "outputs": [],
   "source": [
    "P.<T> = QQ[]\n",
    "u0 = T^6 + 3*T^5 - 3*T^4 - 11*T^3 + 3*T^2 + 9*T - 4\n",
    "l1 = []\n",
    "for F in function_fields_by_weil_poly('1.2.a'):\n",
    "    places3 = [i for i in F.Places(3)]\n",
    "    z = F.DivisorGroup().Identity()\n",
    "    M = z + 2*places3[0] + 2*places3[1]\n",
    "    for F1 in cyclic_covers_by_ramification(F, 2, M, delta=6):\n",
    "        s = magma_poly_list(F1.ZetaFunction().Numerator() // F.ZetaFunction().Numerator())\n",
    "        u = P(s).reverse()\n",
    "        u1 = u.trace_polynomial()[0]\n",
    "        if u1 == u0:\n",
    "            l1 += match_weil_poly(F1, 2)"
   ]
  },
  {
   "cell_type": "code",
   "execution_count": 23,
   "metadata": {},
   "outputs": [
    {
     "name": "stdout",
     "output_type": "stream",
     "text": [
      "[(Algebraic function field defined over Algebraic function field defined over Univariate rational function field over GF(2) by\n",
      "y^2 + y + x^3 by\n",
      "$.1^2 + $.1 + x^2/(x^3 + x^2 + 1), Algebraic function field defined over Algebraic function field defined over Algebraic function field defined over Univariate rational function field over GF(2) by\n",
      "y^2 + y + x^3 by\n",
      "$.1^2 + $.1 + x^2/(x^3 + x^2 + 1) by\n",
      "$.1^2 + $.1 + ((x^6 + x^4 + x^3 + x^2)*$.1 + (x^9 + x^7 + x^4 + x))*w + (x^5 + x^2 + x)*$.1 + x^8 + x^2 + x + 1)]\n"
     ]
    }
   ],
   "source": [
    "print(l1)"
   ]
  },
  {
   "cell_type": "code",
   "execution_count": 24,
   "metadata": {},
   "outputs": [],
   "source": [
    "covers_by_poly[2, 7, 13] = {}\n",
    "for (F, F1) in l1:\n",
    "    u = P(magma_poly_list(F.ZetaFunction().Numerator())).reverse()\n",
    "    s = label_from_weil_poly(u)\n",
    "    if s not in covers_by_poly[2, 7, 13]:\n",
    "        covers_by_poly[2, 7, 13][s] = {}\n",
    "    if F not in covers_by_poly[2, 7, 13][s]:\n",
    "        covers_by_poly[2, 7, 13][s][F] = []\n",
    "    if F1 not in covers_by_poly[2, 7, 13][s][F]:\n",
    "        covers_by_poly[2, 7, 13][s][F].append(F1)"
   ]
  },
  {
   "cell_type": "markdown",
   "metadata": {},
   "source": [
    "Find all cyclic covers with $(d,g,g') = (2,7,13)$ for which $\\#C(\\mathbb{F}_2) = 6$."
   ]
  },
  {
   "cell_type": "code",
   "execution_count": 25,
   "metadata": {},
   "outputs": [
    {
     "name": "stdout",
     "output_type": "stream",
     "text": [
      "T^7 + 3*T^6 - 3*T^5 - 11*T^4 + 3*T^3 + 9*T^2 - 4*T\n",
      "T^7 + 3*T^6 - 3*T^5 - 11*T^4 + 3*T^3 + 9*T^2 - 2*T\n",
      "T^7 + 3*T^6 - 3*T^5 - 11*T^4 + 3*T^3 + 9*T^2\n"
     ]
    }
   ],
   "source": [
    "P.<T> = QQ[]\n",
    "u0 = weil_poly_from_point_count([6,18,12,18,6,60,174],7).trace_polynomial()[0]\n",
    "u1 = weil_poly_from_point_count([6,18,12,18,6,72,132],7).trace_polynomial()[0]\n",
    "u2 = weil_poly_from_point_count([6,18,12,18,6,84,90],7).trace_polynomial()[0]\n",
    "print(u0)\n",
    "print(u1)\n",
    "print(u2)"
   ]
  },
  {
   "cell_type": "code",
   "execution_count": 30,
   "metadata": {},
   "outputs": [
    {
     "name": "stdout",
     "output_type": "stream",
     "text": [
      "4*(x^3 + x^2 + 1, $.1 + x^2 + x)\n",
      "2*(x^3 + x^2 + 1, $.1 + x^2 + x) + 2*(x^3 + x^2 + 1, $.1 + x^2 + x + 1)\n",
      "T^7 + 3*T^6 - 3*T^5 - 11*T^4 + 3*T^3 + 9*T^2 - 4*T Algebraic function field defined over Algebraic function field defined over Univariate rational function field over GF(2) by\n",
      "y^2 + y + x^3 by\n",
      "$.1^2 + $.1 + x^2/(x^3 + x^2 + 1)\n",
      "4*(x^3 + x^2 + 1, $.1 + x^2 + x + 1)\n",
      "2*(x^3 + x + 1)\n",
      "2*(x^6 + x^5 + x^4 + x^2 + 1, $.1 + x^5 + x^4 + x^2)\n",
      "2*(x^6 + x^5 + x^4 + x^2 + 1, $.1 + x^5 + x^4 + x^2 + 1)\n",
      "2*(x^6 + x + 1, $.1 + x^4 + x^2 + 1)\n",
      "2*(x^6 + x + 1, $.1 + x^4 + x^2)\n",
      "2*(x^6 + x^5 + x^4 + x + 1, $.1 + x^5 + x^4 + x^3 + x^2 + 1)\n",
      "2*(x^6 + x^5 + x^4 + x + 1, $.1 + x^5 + x^4 + x^3 + x^2)\n",
      "2*(x^6 + x^4 + x^2 + x + 1, $.1 + x^5 + x^4 + x^3)\n",
      "2*(x^6 + x^4 + x^2 + x + 1, $.1 + x^5 + x^4 + x^3 + 1)\n",
      "2*(x^6 + x^5 + x^3 + x^2 + 1, $.1 + x^5 + x^4 + x^3 + x^2 + x)\n",
      "2*(x^6 + x^5 + x^3 + x^2 + 1, $.1 + x^5 + x^4 + x^3 + x^2 + x + 1)\n",
      "(x^3 + x + 1)\n",
      "(x^3 + x^2 + 1)\n",
      "(x^6 + x^3 + 1, $.1 + x^5 + x^3 + x^2 + x + 1)\n",
      "(x^6 + x^3 + 1, $.1 + x^5 + x^3 + x^2 + 1)\n",
      "(x^6 + x^5 + x^2 + x + 1, $.1 + x^5 + x^3 + x + 1)\n",
      "T^7 + 3*T^6 - 3*T^5 - 11*T^4 + 3*T^3 + 9*T^2 Algebraic function field defined over Algebraic function field defined over Univariate rational function field over GF(2) by\n",
      "y^2 + x*y + x^3 + 1 by\n",
      "$.1^3 + ((x + 1)*$.1 + (x^4 + x^3 + x))*$.1 + (x^3 + x^2 + 1)*$.1 + x^5 + x^2\n",
      "(x^6 + x^5 + x^2 + x + 1, $.1 + x^5 + x^3 + 1)\n",
      "T^7 + 3*T^6 - 3*T^5 - 11*T^4 + 3*T^3 + 9*T^2 Algebraic function field defined over Algebraic function field defined over Univariate rational function field over GF(2) by\n",
      "y^2 + x*y + x^3 + 1 by\n",
      "$.1^3 + ((x + 1)*$.1 + (x^4 + x^3 + x^2))*$.1 + (x^3 + x^2 + 1)*$.1 + x^5 + x^4 + x^3 + x^2 + x\n",
      "(x^6 + x^5 + x^4 + x + 1, $.1 + x^4 + 1)\n",
      "T^7 + 3*T^6 - 3*T^5 - 11*T^4 + 3*T^3 + 9*T^2 Algebraic function field defined over Algebraic function field defined over Univariate rational function field over GF(2) by\n",
      "y^2 + x*y + x^3 + 1 by\n",
      "$.1^3 + ((x^2 + x)*$.1 + (x^4 + x^2 + 1))*$.1 + (x^4 + x^2 + x)*$.1 + x^6 + x^4 + x^3 + x^2\n",
      "(x^6 + x^5 + x^4 + x + 1, $.1 + x^4 + x + 1)\n",
      "T^7 + 3*T^6 - 3*T^5 - 11*T^4 + 3*T^3 + 9*T^2 Algebraic function field defined over Algebraic function field defined over Univariate rational function field over GF(2) by\n",
      "y^2 + x*y + x^3 + 1 by\n",
      "$.1^3 + ((x^2 + x)*$.1 + (x^4 + x^3 + 1))*$.1 + (x^4 + x^2 + x)*$.1 + x^6 + x^5 + x^4\n"
     ]
    }
   ],
   "source": [
    "l1 = []\n",
    "for s,d in [('1.2.a', 2), ('1.2.b', 3)]:\n",
    "    for F in function_fields_by_weil_poly(s):\n",
    "        places3 = [i for i in F.Places(3)]\n",
    "        places6 = [i for i in F.Places(6)]\n",
    "        z = F.DivisorGroup().Identity()\n",
    "        m = [z + 2*i + 2*j for (i,j) in itertools.combinations_with_replacement(places3, 2)] + \\\n",
    "            [z + (4-d)*i for i in places6]\n",
    "        for M in m:\n",
    "            print(M)\n",
    "            for F1 in cyclic_covers_by_ramification(F, d, M, delta=6):\n",
    "                tmp = magma_poly_list(F1.ZetaFunction().Numerator())\n",
    "                u = P(tmp).reverse()\n",
    "                u3 = u.trace_polynomial()[0]\n",
    "                if (d, u3) in [(2, u0), (2, u1), (3, u2)]:\n",
    "                    print(u3, F1)\n",
    "                    l1 += match_weil_poly(F1, 2)"
   ]
  },
  {
   "cell_type": "code",
   "execution_count": 31,
   "metadata": {},
   "outputs": [],
   "source": [
    "covers_by_poly[2, 7, 13] = {}\n",
    "for (F, F1) in l1:\n",
    "    u = P(magma_poly_list(F.ZetaFunction().Numerator())).reverse()\n",
    "    s = label_from_weil_poly(u)\n",
    "    if s not in covers_by_poly[2, 7, 13]:\n",
    "        covers_by_poly[2, 7, 13][s] = {}\n",
    "    if F not in covers_by_poly[2, 7, 13][s]:\n",
    "        covers_by_poly[2, 7, 13][s][F] = []\n",
    "    if F1 not in covers_by_poly[2, 7, 13][s][F]:\n",
    "        covers_by_poly[2, 7, 13][s][F].append(F1)"
   ]
  },
  {
   "cell_type": "code",
   "execution_count": 32,
   "metadata": {},
   "outputs": [
    {
     "data": {
      "text/plain": [
       "{'7.2.d_l_z_cf_dx_gs_js': {Algebraic function field defined over Algebraic function field defined over Univariate rational function field over GF(2) by\n",
       "  y^2 + y + x^3 by\n",
       "  $.1^2 + $.1 + x^2/(x^3 + x^2 + 1): [Algebraic function field defined over Algebraic function field defined over Algebraic function field defined over Univariate rational function field over GF(2) by\n",
       "   y^2 + y + x^3 by\n",
       "   $.1^2 + $.1 + x^2/(x^3 + x^2 + 1) by\n",
       "   $.1^2 + $.1 + ((x^6 + x^4 + x^3 + x^2)*$.1 + (x^9 + x^7 + x^4 + x))*w + (x^5 + x^2 + x)*$.1 + x^8 + x^2 + x + 1]}}"
      ]
     },
     "execution_count": 32,
     "metadata": {},
     "output_type": "execute_result"
    }
   ],
   "source": [
    "covers_by_poly[2, 7, 13]"
   ]
  },
  {
   "cell_type": "markdown",
   "metadata": {},
   "source": [
    "Convert the covers into numerical data in preparation for writing out to the spreadsheet."
   ]
  },
  {
   "cell_type": "code",
   "execution_count": 33,
   "metadata": {},
   "outputs": [
    {
     "name": "stdout",
     "output_type": "stream",
     "text": [
      "2 2 3\n",
      "2 2 4\n",
      "2 2 5\n",
      "2 3 5\n",
      "2 3 6\n",
      "2 4 7\n",
      "2 4 8\n",
      "2 5 9\n",
      "2 6 11\n",
      "2 7 13\n",
      "3 2 4\n",
      "3 2 6\n",
      "3 3 7\n",
      "3 4 10\n",
      "4 2 5\n",
      "4 3 9\n",
      "5 2 6\n",
      "6 2 7\n",
      "7 2 8\n"
     ]
    }
   ],
   "source": [
    "l = []\n",
    "for (d, g, g1) in candidates:\n",
    "    print(d, g, g1)\n",
    "    if (d, g, g1) in covers_by_poly:\n",
    "        for s in covers_by_poly[d, g, g1]:\n",
    "            for F in covers_by_poly[d, g, g1][s]:\n",
    "                for F1 in covers_by_poly[d, g, g1][s][F]:\n",
    "                    u1 = T.parent()(magma_poly_list(F.ZetaFunction().Numerator())).reverse()\n",
    "                    v1 = T.parent()(magma_poly_list(F1.ZetaFunction().Numerator())).reverse()\n",
    "                    l.append((d, g, g1, point_count_from_weil_poly(u1, 13),\n",
    "                              point_count_from_weil_poly(v1, 13)))"
   ]
  },
  {
   "cell_type": "markdown",
   "metadata": {},
   "source": [
    "Write the results back to the spreadsheet. In the process, we check that every covering we found gives a pair of Weil polynomials from our original list."
   ]
  },
  {
   "cell_type": "code",
   "execution_count": 34,
   "metadata": {},
   "outputs": [],
   "source": [
    "df['Cyclic'] = 'No'\n",
    "used_pols = []\n",
    "for i in range(len(df)):\n",
    "    r = df.iloc[i]\n",
    "    d = r[\"d\"]\n",
    "    g = r[\"g\"]\n",
    "    g1 = r[\"g'\"]\n",
    "    ct1 = eval(r[\"Counts of C\"])\n",
    "    ct2 = eval(r[\"Counts of C'\"])\n",
    "    if (d, g, g1, ct1, ct2) in l:\n",
    "        df.loc[i, \"Cyclic\"] = \"Yes\"\n",
    "        used_pols.append((d, g, g1, ct1, ct2))\n",
    "    elif d == 2 and (g == 5 or g == 6 or (g == 7 and ct1[0] == 7)):\n",
    "        df.loc[i, \"Cyclic\"] = \"Unknown\"\n",
    "assert all(t in used_pols for t in l)"
   ]
  },
  {
   "cell_type": "code",
   "execution_count": 35,
   "metadata": {},
   "outputs": [],
   "source": [
    "df.to_excel('polys.xlsx', sheet_name='Weil polynomials', merge_cells=True, freeze_panes=(int(1),int(1)))"
   ]
  },
  {
   "cell_type": "code",
   "execution_count": null,
   "metadata": {},
   "outputs": [],
   "source": []
  }
 ],
 "metadata": {
  "kernelspec": {
   "display_name": "SageMath 9.4",
   "language": "sage",
   "name": "sagemath"
  },
  "language_info": {
   "codemirror_mode": {
    "name": "ipython",
    "version": 3
   },
   "file_extension": ".py",
   "mimetype": "text/x-python",
   "name": "python",
   "nbconvert_exporter": "python",
   "pygments_lexer": "ipython3",
   "version": "3.9.5"
  }
 },
 "nbformat": 4,
 "nbformat_minor": 5
}
