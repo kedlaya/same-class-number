{
 "cells": [
  {
   "cell_type": "markdown",
   "id": "c2c767d3",
   "metadata": {},
   "source": [
    "This notebook is associated with the paper \"The relative class number one problem for function fields, I\" by K.S. Kedlaya. It runs in SageMath (tested using version 9.5beta9).\n",
    "\n",
    "In this notebook, we use the linear programming method (a/k/a Weil's explicit formulas) to compute some effective upper bounds on the number of rational points on a curve over a finite field. These bounds are ultimately derived from the positivity condition: for each positive integer $i$, the number of degree-$i$ places of the curve must be nonnegative."
   ]
  },
  {
   "cell_type": "code",
   "execution_count": 1,
   "id": "0b72c6af",
   "metadata": {},
   "outputs": [],
   "source": [
    "load(\"../Shared/weil_poly_utils.sage\")"
   ]
  },
  {
   "cell_type": "code",
   "execution_count": 2,
   "id": "51b0c72e",
   "metadata": {},
   "outputs": [],
   "source": [
    "def psi(t, l, n=1):\n",
    "    P.<z> = LaurentPolynomialRing(RR)\n",
    "    c = 1 + 2*sum(i^2 for i in l)\n",
    "    f = 1/c*(1 + sum(l[i]*(z^(i+1)+z^(-i-1)) for i in range(len(l))))^2\n",
    "    d = f.degree()\n",
    "    s = f.coefficients()\n",
    "    return sum(t^i*s[d+i] for i in range(1, d+1) if i%n==0)"
   ]
  },
  {
   "cell_type": "markdown",
   "id": "f36de79c",
   "metadata": {},
   "source": [
    "Compute constants in a bound of the form\n",
    "$$\n",
    "    \\#C(\\mathbb{F}_q) \\leq c_0 g + c_1\n",
    "$$\n",
    "where $C$ is a curve of genus $g$ over $\\mathbb{F}_q$."
   ]
  },
  {
   "cell_type": "code",
   "execution_count": 3,
   "id": "f0752fbe",
   "metadata": {},
   "outputs": [
    {
     "name": "stdout",
     "output_type": "stream",
     "text": [
      "0.825950883211498 5.34527346707773\n",
      "1.15251691701741 11.6683862113728\n",
      "1.43462897526502 21.7491166077738\n"
     ]
    }
   ],
   "source": [
    "l = [1, .7, .2]\n",
    "for q in [2,3,4]:\n",
    "    print(1/psi(q^-0.5, l), 1 + psi(q^0.5, l)/psi(q^-0.5, l))"
   ]
  },
  {
   "cell_type": "code",
   "execution_count": 4,
   "id": "5f4ceb83",
   "metadata": {},
   "outputs": [
    {
     "name": "stdout",
     "output_type": "stream",
     "text": [
      "2.24313315986426 182.808168035954\n"
     ]
    }
   ],
   "source": [
    "l = [1.05, 0.8, .4]\n",
    "q = 8\n",
    "print(1/psi(q^-0.5, l), 1 + psi(q^0.5, l)/psi(q^-0.5, l))"
   ]
  },
  {
   "cell_type": "markdown",
   "id": "0c05ea18",
   "metadata": {},
   "source": [
    "Compute constants in a bound of the form\n",
    "$$\n",
    "    a_1 + c_2 (2a_2) + c_3 (3a_3) + c_4 (4a_4) \\leq c_0 g + c_1\n",
    "$$\n",
    "where $a_i$ is the number of degree $i$-places on some curve of genus $g$ over $\\mathbb{F}_2$. For convenience, in practice we will round $c_0$ and $c_1$ up and round $c_2,c_3,c_4$ down."
   ]
  },
  {
   "cell_type": "code",
   "execution_count": 5,
   "id": "eec8d871",
   "metadata": {},
   "outputs": [
    {
     "name": "stdout",
     "output_type": "stream",
     "text": [
      "[0.804200000000000, 5.61900000000000]\n",
      "[1.00000000000000, 0.336600000000000, 0.138200000000000, 0.0537000000000000]\n"
     ]
    }
   ],
   "source": [
    "l = [1, 0.85, 0.25]\n",
    "c = [1/psi(1/2^0.5, l), psi(2^0.5, l)/psi(1/2^0.5, l)+1]\n",
    "print([ceil(i*10^4)/10^4.0 for i in c])\n",
    "c = [psi(1/2^0.5, l, i)/psi(1/2^0.5, l) for i in range(1,5)]\n",
    "print([floor(i*10^4)/10^4.0 for i in c])"
   ]
  },
  {
   "cell_type": "markdown",
   "id": "1d243a9a",
   "metadata": {},
   "source": [
    "Table of Weil polynomials of simple abelian varieties of order 1 and dimension at most 6, taken from LMFDB."
   ]
  },
  {
   "cell_type": "code",
   "execution_count": 6,
   "id": "8a83e35a",
   "metadata": {},
   "outputs": [],
   "source": [
    "P.<T> = QQ[]\n",
    "simple_poly = {'1.2.ac': T^2 - 2*T + 2,\n",
    "               '2.2.a_ae': T^4 - 4*T^2 + 4,\n",
    "               '2.2.ad_f': T^4 - 3*T^3 + 5*T^2 - 6*T + 4,\n",
    "               '2.2.ac_c': T^4 - 2*T^3 + 2*T^2 - 4*T + 4,\n",
    "               '2.2.ab_ab': T^4 - T^3 - T^2 - 2*T + 4,\n",
    "               '3.2.ad_c_b': T^6 - 3*T^5 + 2*T^4 + T^3 + 4*T^2 - 12*T + 8,\n",
    "               '3.2.ae_j_ap': T^6 - 4*T^5 + 9*T^4 - 15*T^3 + 18*T^2 - 16*T + 8,\n",
    "               '4.2.af_m_au_bd': T^8 - 5*T^7 + 12*T^6 - 20*T^5 + 29*T^4 - 40*T^3 + 48*T^2 - 40*T + 16,\n",
    "               '4.2.ae_g_ae_c': T^8 - 4*T^7 + 6*T^6 - 4*T^5 + 2*T^4 - 8*T^3 + 24*T^2 - 32*T + 16,\n",
    "               '4.2.ad_c_a_b': T^8 - 3*T^7 + 2*T^6 + T^4 + 8*T^2 - 24*T + 16,\n",
    "               '4.2.ae_f_c_al': T^8 - 4*T^7 + 5*T^6 + 2*T^5 - 11*T^4 + 4*T^3 + 20*T^2 - 32*T + 16,\n",
    "               '4.2.ae_e_h_av': T^8 - 4*T^7 + 4*T^6 + 7*T^5 - 21*T^4 + 14*T^3 + 16*T^2 - 32*T + 16,\n",
    "               '4.2.af_n_az_bn': T^8 - 5*T^7 + 13*T^6 - 25*T^5 + 39*T^4 - 50*T^3 + 52*T^2 - 40*T + 16,\n",
    "               '6.2.ag_p_av_y_abn_cn': T^12 - 6*T^11 + 15*T^10 - 21*T^9 + 24*T^8 - 39*T^7 + 65*T^6 - 78*T^5 + 96*T^4 - 168*T^3 + 240*T^2 - 192*T + 64,\n",
    "               '6.2.af_j_ah_d_ab_ab': T^12 - 5*T^11 + 9*T^10 - 7*T^9 + 3*T^8 - T^7 - T^6 - 2*T^5 + 12*T^4 - 56*T^3 + 144*T^2 - 160*T + 64,\n",
    "               '6.2.ag_p_at_g_bb_acj': T^12 - 6*T^11 + 15*T^10 - 19*T^9 + 6*T^8 + 27*T^7 - 61*T^6 + 54*T^5 + 24*T^4 - 152*T^3 + 240*T^2 - 192*T + 64\n",
    "              }"
   ]
  },
  {
   "cell_type": "markdown",
   "id": "c11a9028",
   "metadata": {},
   "source": [
    "Generate statistics about simple abelian varieties of order 1, including the $\\LaTeX$ table."
   ]
  },
  {
   "cell_type": "code",
   "execution_count": 7,
   "id": "6223b0f9",
   "metadata": {},
   "outputs": [],
   "source": [
    "def trace_from_weil_poly(u, n):\n",
    "    Q.<t> = PowerSeriesRing(QQ)\n",
    "    v = u.reverse()(t).log()\n",
    "    l = v.list()\n",
    "    while len(l) <= n+1:\n",
    "        l.append(0)\n",
    "    return [-l[i]*i for i in range(1, n+1)]"
   ]
  },
  {
   "cell_type": "code",
   "execution_count": 8,
   "id": "cff304bf",
   "metadata": {},
   "outputs": [
    {
     "name": "stdout",
     "output_type": "stream",
     "text": [
      "1.56120000000000\n"
     ]
    }
   ],
   "source": [
    "cc = [0.8042, 5.619, 1, 0.3366, 0.1137, 0.0537]\n",
    "min_excess = 5\n",
    "for u in simple_poly.values():\n",
    "    d = u.degree() // 2\n",
    "    tmp = trace_from_weil_poly(u, 4)\n",
    "    excess = (1 + cc[3])*tmp[0] + cc[3]*tmp[1] + cc[4]*(tmp[2]-tmp[0]) + cc[5]*(tmp[3]-tmp[1])\n",
    "    excess_scaled = excess / d\n",
    "    excess_scaled = (excess_scaled*10^4).trunc() * 10.0^(-4)\n",
    "    min_excess = min(min_excess, excess_scaled)\n",
    "print(min_excess)"
   ]
  },
  {
   "cell_type": "code",
   "execution_count": 9,
   "id": "c67585ca",
   "metadata": {},
   "outputs": [
    {
     "name": "stdout",
     "output_type": "stream",
     "text": [
      "\\begin{tabular}{c||c||c|c|c|c||c|c|c|c}\n",
      "Label & $n$ & $T_{A,2}$ & $T_{A,4}$ & $T_{A,8}$ & $T_{A,16}$ & $T_{A,2} + T_{A,4}$ & $2T_{A,2} + T_{A,4}$ & $3 T_{A,2} + T_{A,4} $ & excess\\\\\n",
      "\\hline\n",
      "\\hline\n",
      "\\avlink{1.2.ac} & $2$ & $2$ & $0$ & $-4$ & $-8$ & $2$ & $4$ & $6$ & 0.0002 \\\\\n",
      "\\hline\n",
      "\\avlink{2.2.a\\_ae} & $1$ & $0$ & $8$ & $0$ & $16$ & $8$ & $8$ & $8$ & 0.0000 \\\\\n",
      "\\avlink{2.2.ad\\_f} & $3$ & $3$ & $-1$ & $0$ & $7$ & $2$ & $5$ & $8$ & 0.6393 \\\\\n",
      "\\avlink{2.2.ac\\_c} & $4$ & $2$ & $0$ & $8$ & $8$ & $2$ & $4$ & $6$ & 0.6626 \\\\\n",
      "\\avlink{2.2.ab\\_ab} & $6$ & $1$ & $3$ & $10$ & $-1$ & $4$ & $5$ & $6$ & 0.0325 \\\\\n",
      "\\hline\n",
      "\\avlink{3.2.ad\\_c\\_b} & $7$ & $3$ & $5$ & $6$ & $-11$ & $8$ & $11$ & $14$ & 0.4911 \\\\\n",
      "\\avlink{3.2.ae\\_j\\_ap} & $7$ & $4$ & $-2$ & $1$ & $10$ & $2$ & $6$ & $10$ & 0.2929 \\\\\n",
      "\\hline\n",
      "\\avlink{4.2.af\\_m\\_au\\_bd} & $5$ & $5$ & $1$ & $5$ & $-3$ & $6$ & $11$ & $16$ & 0.5600 \\\\\n",
      "\\avlink{4.2.ae\\_g\\_ae\\_c} & $8$ & $4$ & $4$ & $4$ & $0$ & $8$ & $12$ & $16$ & 0.2332 \\\\\n",
      "\\avlink{4.2.ad\\_c\\_a\\_b} & $10$ & $3$ & $5$ & $9$ & $13$ & $8$ & $11$ & $14$ & 0.5598 \\\\\n",
      "\\avlink{4.2.ae\\_f\\_c\\_al} & $12$ & $4$ & $6$ & $-2$ & $-2$ & $10$ & $14$ & $18$ & 0.0094 \\\\\n",
      "\\avlink{4.2.ae\\_e\\_h\\_av} & $30$ & $4$ & $8$ & $-5$ & $4$ & $12$ & $16$ & $20$ & 0.5563 \\\\\n",
      "\\avlink{4.2.af\\_n\\_az\\_bn} & $30$ & $5$ & $-1$ & $5$ & $7$ & $4$ & $9$ & $14$ & 0.5312 \\\\\n",
      "\\hline\n",
      "\\avlink{6.2.ag\\_p\\_av\\_y\\_abn\\_cn} & $9$ & $6$ & $6$ & $9$ & $-6$ & $12$ & $18$ & $24$ & 0.3687 \\\\\n",
      "\\avlink{6.2.af\\_j\\_ah\\_d\\_ab\\_ab} & $14$ & $5$ & $7$ & $11$ & $15$ & $12$ & $17$ & $22$ & 0.7838 \\\\\n",
      "\\avlink{6.2.ag\\_p\\_at\\_g\\_bb\\_acj} & $18$ & $6$ & $6$ & $3$ & $18$ & $12$ & $18$ & $24$ & 0.9753 \\\\\n",
      "\\end{tabular}\n"
     ]
    }
   ],
   "source": [
    "import re\n",
    "\n",
    "print(r'\\begin{tabular}{c||c||c|c|c|c||c|c|c|c}')\n",
    "print(r'Label & $n$ & $T_{A,2}$ & $T_{A,4}$ & $T_{A,8}$ & $T_{A,16}$ & $T_{A,2} + T_{A,4}$ & $2T_{A,2} + T_{A,4}$ & $3 T_{A,2} + T_{A,4} $ & excess\\\\')\n",
    "print(r'\\hline')\n",
    "d0 = 0\n",
    "for label, u in simple_poly.items():\n",
    "    tmp = u.factor()\n",
    "    assert len(tmp) == 1\n",
    "    F.<a> = NumberField(tmp[0][0])\n",
    "    eta = (a^2-a)/(2-a)\n",
    "    n = eta.multiplicative_order()\n",
    "    assert (n < Infinity)\n",
    "    tmp = trace_from_weil_poly(u, 4)\n",
    "    excess = (1 + cc[3])*tmp[0] + cc[3]*tmp[1] + cc[4]*(tmp[2]-tmp[0]) + cc[5]*(tmp[3]-tmp[1])\n",
    "    excess = (excess*10^4).round() * 10.0^(-4)\n",
    "    d = u.degree() // 2\n",
    "    if d0 < d:\n",
    "        print(r'\\hline')\n",
    "        d0 = d\n",
    "    excess = excess - d*min_excess\n",
    "    ans = (n, tmp[0], tmp[1], tmp[2], tmp[3], tmp[0]+tmp[1], 2*tmp[0]+tmp[1], 3*tmp[0]+tmp[1])\n",
    "    ans = ' & '.join('$' + str(i) + '$' for i in ans)\n",
    "    ans = r'\\avlink{' + re.sub(r'_', r'\\_', label) + '} & ' + ans + ' & ' + f'{excess:.4f}'\n",
    "    print(ans + r' \\\\')\n",
    "print(r'\\end{tabular}')"
   ]
  },
  {
   "cell_type": "markdown",
   "id": "09df5cb9",
   "metadata": {},
   "source": [
    "Compute upper bounds on $g$ and $g'$ for $q=2$ with no restriction on $d$."
   ]
  },
  {
   "cell_type": "code",
   "execution_count": 10,
   "id": "23aa61b5",
   "metadata": {},
   "outputs": [
    {
     "name": "stdout",
     "output_type": "stream",
     "text": [
      "[1.86180000000000, 6.02210000000000]\n"
     ]
    }
   ],
   "source": [
    "tmp1 = 1 + 2*cc[3]\n",
    "tmp = [1 + tmp1*cc[0] / min_excess, tmp1*cc[1] / min_excess]\n",
    "tmp = [floor(i * 10^4) / 10^4.0 for i in tmp]\n",
    "print(tmp)"
   ]
  },
  {
   "cell_type": "code",
   "execution_count": 11,
   "id": "9ac652f8",
   "metadata": {},
   "outputs": [
    {
     "name": "stdout",
     "output_type": "stream",
     "text": [
      "[6, 7, 9, 11, 13, 15, 17, 19]\n"
     ]
    }
   ],
   "source": [
    "print([floor(tmp[0]*g + tmp[1]) for g in range(8)])"
   ]
  },
  {
   "cell_type": "markdown",
   "id": "9b8aed14",
   "metadata": {},
   "source": [
    "Improve these bounds using better upper bounds on point counts."
   ]
  },
  {
   "cell_type": "code",
   "execution_count": 12,
   "id": "58cf0a7d",
   "metadata": {},
   "outputs": [],
   "source": [
    "point_count_bounds = [(3,5), (5,9), (6,10), (7,14), (8,15), (9, 17), \\\n",
    "                      (10, 20), (10, 21), (11, 23), (12, 26), (13, 27)]"
   ]
  },
  {
   "cell_type": "code",
   "execution_count": 13,
   "id": "7fad1276",
   "metadata": {},
   "outputs": [
    {
     "name": "stdout",
     "output_type": "stream",
     "text": [
      "[4, 7, 9, 11, 13, 15, 17, 18]\n"
     ]
    }
   ],
   "source": [
    "print([g + floor((cc[0]*g + cc[1] + 0.6732*point_count_bounds[g][0]) / min_excess) for g in range(8)])"
   ]
  },
  {
   "cell_type": "markdown",
   "id": "bfa0e002",
   "metadata": {},
   "source": [
    "Compute upper bounds on $g$ and $g'$ for $q=2$ when $d=2$."
   ]
  },
  {
   "cell_type": "code",
   "execution_count": 14,
   "id": "6144891b",
   "metadata": {},
   "outputs": [
    {
     "name": "stdout",
     "output_type": "stream",
     "text": [
      "9\n",
      "[6, 7, 9, 10, 11, 13, 14, 15, 17]\n"
     ]
    }
   ],
   "source": [
    "top = floor((min_excess + cc[1]) / (min_excess - cc[0]))\n",
    "print(top)\n",
    "print([floor((cc[0]*g + cc[1] - min_excess*(g-1))/(min_excess - cc[3])) + 2*g-1 \\\n",
    "             for g in range(1, top+1)])"
   ]
  },
  {
   "cell_type": "code",
   "execution_count": null,
   "id": "4b4ae903",
   "metadata": {},
   "outputs": [],
   "source": []
  }
 ],
 "metadata": {
  "kernelspec": {
   "display_name": "SageMath 9.5.beta9",
   "language": "sage",
   "name": "sagemath"
  },
  "language_info": {
   "codemirror_mode": {
    "name": "ipython",
    "version": 3
   },
   "file_extension": ".py",
   "mimetype": "text/x-python",
   "name": "python",
   "nbconvert_exporter": "python",
   "pygments_lexer": "ipython3",
   "version": "3.9.7"
  }
 },
 "nbformat": 4,
 "nbformat_minor": 5
}
