{
 "cells": [
  {
   "cell_type": "markdown",
   "id": "c2c767d3",
   "metadata": {},
   "source": [
    "This notebook is associated with the paper \"The relative class number one problem for function fields, I\" by K.S. Kedlaya. It runs in SageMath (tested using version 9.6).\n",
    "\n",
    "In this notebook, we use the linear programming method (a/k/a Weil's explicit formulas) to compute some effective upper bounds on the number of rational points on a curve over a finite field. These bounds are ultimately derived from the positivity condition: for each positive integer $i$, the number of degree-$i$ places of the curve must be nonnegative."
   ]
  },
  {
   "cell_type": "code",
   "execution_count": 1,
   "id": "0b72c6af",
   "metadata": {},
   "outputs": [],
   "source": [
    "load(\"../Shared/weil_poly_utils.sage\")"
   ]
  },
  {
   "cell_type": "markdown",
   "id": "a85ecf13",
   "metadata": {},
   "source": [
    "## Abelian varieties of order 1 (Section 2)"
   ]
  },
  {
   "cell_type": "markdown",
   "id": "3a97e3b0",
   "metadata": {},
   "source": [
    "Verify the minimal polynomials used in the proof of Lemma 2.3."
   ]
  },
  {
   "cell_type": "code",
   "execution_count": 5,
   "id": "0b3b0adb",
   "metadata": {},
   "outputs": [
    {
     "data": {
      "text/plain": [
       "[x^2 + (eta - 1)*x - 2*eta,\n",
       " x^2 + (-eta^2 - 2*eta - 1)*x + 4*eta^2,\n",
       " x^2 + (eta^3 + 3*eta^2 - 3*eta - 1)*x - 8*eta^3,\n",
       " x^2 + (-eta^4 - 4*eta^3 + 2*eta^2 - 4*eta - 1)*x + 16*eta^4]"
      ]
     },
     "execution_count": 5,
     "metadata": {},
     "output_type": "execute_result"
    }
   ],
   "source": [
    "P.<eta> = QQ[]\n",
    "K = P.fraction_field()\n",
    "Q.<x> = K[]\n",
    "L.<alpha> = K.extension(x^2 + (eta-1)*x -2*eta)\n",
    "[(alpha^i).minpoly() for i in range(1,5)]"
   ]
  },
  {
   "cell_type": "markdown",
   "id": "d74c1fa6",
   "metadata": {},
   "source": [
    "## Constant extensions (Section 3)"
   ]
  },
  {
   "cell_type": "markdown",
   "id": "653be225",
   "metadata": {},
   "source": [
    "Check the assertion \"at most two... do likewise\" from the proof of Lemma 3.1."
   ]
  },
  {
   "cell_type": "code",
   "execution_count": 3,
   "id": "49414b39",
   "metadata": {},
   "outputs": [
    {
     "name": "stdout",
     "output_type": "stream",
     "text": [
      "7 7 3\n",
      "7 7 3\n",
      "5 30 2\n",
      "5 30 2\n"
     ]
    }
   ],
   "source": [
    "for (d,n) in [(7,7), (5,30)]:\n",
    "    K.<eta> = CyclotomicField(n*d)\n",
    "    Q.<x> = K[]\n",
    "    pol = x^2 + (eta^d-1)*x -2*eta^d\n",
    "    for (pol1, _) in pol.factor():\n",
    "        L.<alpha> = K.extension(pol1)\n",
    "        ct = 0\n",
    "        for i in range(d):\n",
    "            alpha2 = alpha*eta^(i*n)\n",
    "            eta2 = (alpha2^2 - alpha2)/(2-alpha2)\n",
    "            if eta2.multiplicative_order() is not Infinity:\n",
    "                ct += 1\n",
    "        print(d,n,ct)"
   ]
  },
  {
   "cell_type": "markdown",
   "id": "36c399ba",
   "metadata": {},
   "source": [
    "## Bounds on rational points on curves (Section 4)"
   ]
  },
  {
   "cell_type": "markdown",
   "id": "1661ec58",
   "metadata": {},
   "source": [
    "Implement the functions $\\psi_d$ associated to a trigonometric polynomial $f(\\theta)$ as per equation (5.3.4) in Serre, *Rational Points on Curves over Finite Fields*. Namely, for\n",
    "$$\n",
    "f(\\theta) = 1 + 2 \\sum_{n=1}^\\infty c_n \\cos n\\theta\n",
    "$$\n",
    "(input as the list `l` consisting of $c_1, c_2,\\dots$) we have\n",
    "$$\n",
    "\\psi_d(t) = \\sum_{n \\equiv 0 \\pmod{d}} c_n t^n.\n",
    "$$"
   ]
  },
  {
   "cell_type": "code",
   "execution_count": 2,
   "id": "877ee4fa",
   "metadata": {},
   "outputs": [],
   "source": [
    "RIF = RealIntervalField()"
   ]
  },
  {
   "cell_type": "code",
   "execution_count": 3,
   "id": "51b0c72e",
   "metadata": {},
   "outputs": [],
   "source": [
    "def psi(t, l, n=1):\n",
    "    P.<z> = LaurentPolynomialRing(RIF)\n",
    "    c = 1 + 2*sum(i^2 for i in l)\n",
    "    f = 1/c*(1 + sum(l[i]*(z^(i+1)+z^(-i-1)) for i in range(len(l))))^2\n",
    "    d = f.degree()\n",
    "    s = f.coefficients()\n",
    "    return sum(RIF(t)^i*s[d+i] for i in range(1, d+1) if i%n==0)"
   ]
  },
  {
   "cell_type": "markdown",
   "id": "f36de79c",
   "metadata": {},
   "source": [
    "Compute constants in a bound of the form\n",
    "$$\n",
    "    \\#C(\\mathbb{F}_q) \\leq c_0 g + c_1\n",
    "$$\n",
    "where $C$ is a curve of genus $g$ over $\\mathbb{F}_q$. We use interval arithmetic to ensure that the bound is rigorous."
   ]
  },
  {
   "cell_type": "code",
   "execution_count": 4,
   "id": "f0752fbe",
   "metadata": {},
   "outputs": [
    {
     "name": "stdout",
     "output_type": "stream",
     "text": [
      "0.82595088321150? 5.3452734670778?\n",
      "1.15251691701742? 11.6683862113728?\n",
      "1.43462897526502? 21.7491166077739?\n"
     ]
    }
   ],
   "source": [
    "l = [RIF(1), RIF(.7), RIF(.2)]\n",
    "for q in [RIF(2),RIF(3),RIF(4)]:\n",
    "    print(1/psi(q^-RIF(0.5), l), 1 + psi(q^RIF(0.5), l)/psi(q^-RIF(0.5), l))"
   ]
  },
  {
   "cell_type": "markdown",
   "id": "0c05ea18",
   "metadata": {},
   "source": [
    "Compute constants in a bound of the form\n",
    "$$\n",
    "    a_1 + c_2 (2a_2) + c_3 (3a_3) + c_4 (4a_4) \\leq c_0 g + c_1\n",
    "$$\n",
    "where $a_i$ is the number of degree $i$-places on some curve of genus $g$ over $\\mathbb{F}_2$. For convenience, in practice we will round $c_0$ and $c_1$ up and round $c_2,c_3,c_4$ down."
   ]
  },
  {
   "cell_type": "code",
   "execution_count": 5,
   "id": "eec8d871",
   "metadata": {},
   "outputs": [
    {
     "name": "stdout",
     "output_type": "stream",
     "text": [
      "[0.80412436234252?, 5.6189349732825?]\n",
      "[1.00000000000000?, 0.336683087433209?, 0.138237240714109?, 0.053776916464099?]\n"
     ]
    }
   ],
   "source": [
    "l = [RIF(1), RIF(0.85), RIF(0.25)]\n",
    "c = [1/psi(1/2^RIF(0.5), l), psi(2^RIF(0.5), l)/psi(1/2^RIF(0.5), l)+1]\n",
    "print(c)\n",
    "c = [psi(1/2^RIF(0.5), l, i)/psi(1/2^RIF(0.5), l) for i in range(1,5)]\n",
    "print(c)"
   ]
  },
  {
   "cell_type": "markdown",
   "id": "4d4edd78",
   "metadata": {},
   "source": [
    "## Numerical estimates (Section 5)"
   ]
  },
  {
   "cell_type": "code",
   "execution_count": 6,
   "id": "2dd11c77",
   "metadata": {},
   "outputs": [
    {
     "data": {
      "text/plain": [
       "7.94260963724959"
      ]
     },
     "execution_count": 6,
     "metadata": {},
     "output_type": "execute_result"
    }
   ],
   "source": [
    "q = 3\n",
    "(11.67 + q)/(q - 1.153)"
   ]
  },
  {
   "cell_type": "code",
   "execution_count": 7,
   "id": "d9f4093d",
   "metadata": {},
   "outputs": [
    {
     "data": {
      "text/plain": [
       "10.0389863547758"
      ]
     },
     "execution_count": 7,
     "metadata": {},
     "output_type": "execute_result"
    }
   ],
   "source": [
    "q = 4\n",
    "(21.75 + q)/(q - 1.435)"
   ]
  },
  {
   "cell_type": "markdown",
   "id": "1d243a9a",
   "metadata": {},
   "source": [
    "Table of Weil polynomials of simple abelian varieties of order 1 and dimension at most 6, taken from LMFDB."
   ]
  },
  {
   "cell_type": "code",
   "execution_count": 8,
   "id": "8a83e35a",
   "metadata": {},
   "outputs": [],
   "source": [
    "P.<T> = QQ[]\n",
    "simple_poly = {'1.2.ac': T^2 - 2*T + 2,\n",
    "               '2.2.a_ae': T^4 - 4*T^2 + 4,\n",
    "               '2.2.ad_f': T^4 - 3*T^3 + 5*T^2 - 6*T + 4,\n",
    "               '2.2.ac_c': T^4 - 2*T^3 + 2*T^2 - 4*T + 4,\n",
    "               '2.2.ab_ab': T^4 - T^3 - T^2 - 2*T + 4,\n",
    "               '3.2.ad_c_b': T^6 - 3*T^5 + 2*T^4 + T^3 + 4*T^2 - 12*T + 8,\n",
    "               '3.2.ae_j_ap': T^6 - 4*T^5 + 9*T^4 - 15*T^3 + 18*T^2 - 16*T + 8,\n",
    "               '4.2.af_m_au_bd': T^8 - 5*T^7 + 12*T^6 - 20*T^5 + 29*T^4 - 40*T^3 + 48*T^2 - 40*T + 16,\n",
    "               '4.2.ae_g_ae_c': T^8 - 4*T^7 + 6*T^6 - 4*T^5 + 2*T^4 - 8*T^3 + 24*T^2 - 32*T + 16,\n",
    "               '4.2.ad_c_a_b': T^8 - 3*T^7 + 2*T^6 + T^4 + 8*T^2 - 24*T + 16,\n",
    "               '4.2.ae_f_c_al': T^8 - 4*T^7 + 5*T^6 + 2*T^5 - 11*T^4 + 4*T^3 + 20*T^2 - 32*T + 16,\n",
    "               '4.2.ae_e_h_av': T^8 - 4*T^7 + 4*T^6 + 7*T^5 - 21*T^4 + 14*T^3 + 16*T^2 - 32*T + 16,\n",
    "               '4.2.af_n_az_bn': T^8 - 5*T^7 + 13*T^6 - 25*T^5 + 39*T^4 - 50*T^3 + 52*T^2 - 40*T + 16,\n",
    "               '6.2.ag_p_av_y_abn_cn': T^12 - 6*T^11 + 15*T^10 - 21*T^9 + 24*T^8 - 39*T^7 + 65*T^6 - 78*T^5 + 96*T^4 - 168*T^3 + 240*T^2 - 192*T + 64,\n",
    "               '6.2.af_j_ah_d_ab_ab': T^12 - 5*T^11 + 9*T^10 - 7*T^9 + 3*T^8 - T^7 - T^6 - 2*T^5 + 12*T^4 - 56*T^3 + 144*T^2 - 160*T + 64,\n",
    "               '6.2.ag_p_at_g_bb_acj': T^12 - 6*T^11 + 15*T^10 - 19*T^9 + 6*T^8 + 27*T^7 - 61*T^6 + 54*T^5 + 24*T^4 - 152*T^3 + 240*T^2 - 192*T + 64\n",
    "              }"
   ]
  },
  {
   "cell_type": "markdown",
   "id": "c11a9028",
   "metadata": {},
   "source": [
    "Compute statistics about simple abelian varieties of order 1, including the *excess* (see Lemma 5.6)."
   ]
  },
  {
   "cell_type": "code",
   "execution_count": 9,
   "id": "6223b0f9",
   "metadata": {},
   "outputs": [],
   "source": [
    "def trace_from_weil_poly(u, n):\n",
    "    Q.<t> = PowerSeriesRing(QQ)\n",
    "    v = u.reverse()(t).log()\n",
    "    l = v.list()\n",
    "    while len(l) <= n+1:\n",
    "        l.append(0)\n",
    "    return [-l[i]*i for i in range(1, n+1)]"
   ]
  },
  {
   "cell_type": "code",
   "execution_count": 10,
   "id": "cff304bf",
   "metadata": {},
   "outputs": [
    {
     "name": "stdout",
     "output_type": "stream",
     "text": [
      "1.56120000000000\n"
     ]
    }
   ],
   "source": [
    "cc = [0.8042, 5.619, 1, 0.3366, 0.1137, 0.0537]\n",
    "min_excess = 5\n",
    "for u in simple_poly.values():\n",
    "    d = u.degree() // 2\n",
    "    tmp = trace_from_weil_poly(u, 4)\n",
    "    excess = (1 + cc[3])*tmp[0] + cc[3]*tmp[1] + cc[4]*(tmp[2]-tmp[0]) + cc[5]*(tmp[3]-tmp[1])\n",
    "    excess_scaled = excess / d\n",
    "    excess_scaled = (excess_scaled*10^4).trunc() * 10.0^(-4)\n",
    "    min_excess = min(min_excess, excess_scaled)\n",
    "print(min_excess)"
   ]
  },
  {
   "cell_type": "markdown",
   "id": "7cf7897a",
   "metadata": {},
   "source": [
    "Generate LaTeX source for Table 2."
   ]
  },
  {
   "cell_type": "code",
   "execution_count": 11,
   "id": "c67585ca",
   "metadata": {},
   "outputs": [
    {
     "name": "stdout",
     "output_type": "stream",
     "text": [
      "\\begin{tabular}{c||c||c|c|c|c||c|c|c|c}\n",
      "Label & $n$ & $T_{A,2}$ & $T_{A,4}$ & $T_{A,8}$ & $T_{A,16}$ & $T_{A,2} + T_{A,4}$ & $2T_{A,2} + T_{A,4}$ & $3 T_{A,2} + T_{A,4} $ & excess\\\\\n",
      "\\hline\n",
      "\\hline\n",
      "\\avlink{1.2.ac} & $2$ & $2$ & $0$ & $-4$ & $-8$ & $2$ & $4$ & $6$ & 0.0002 \\\\\n",
      "\\hline\n",
      "\\avlink{2.2.a\\_ae} & $1$ & $0$ & $8$ & $0$ & $16$ & $8$ & $8$ & $8$ & 0.0000 \\\\\n",
      "\\avlink{2.2.ad\\_f} & $3$ & $3$ & $-1$ & $0$ & $7$ & $2$ & $5$ & $8$ & 0.6393 \\\\\n",
      "\\avlink{2.2.ac\\_c} & $4$ & $2$ & $0$ & $8$ & $8$ & $2$ & $4$ & $6$ & 0.6626 \\\\\n",
      "\\avlink{2.2.ab\\_ab} & $6$ & $1$ & $3$ & $10$ & $-1$ & $4$ & $5$ & $6$ & 0.0325 \\\\\n",
      "\\hline\n",
      "\\avlink{3.2.ad\\_c\\_b} & $7$ & $3$ & $5$ & $6$ & $-11$ & $8$ & $11$ & $14$ & 0.4911 \\\\\n",
      "\\avlink{3.2.ae\\_j\\_ap} & $7$ & $4$ & $-2$ & $1$ & $10$ & $2$ & $6$ & $10$ & 0.2929 \\\\\n",
      "\\hline\n",
      "\\avlink{4.2.af\\_m\\_au\\_bd} & $5$ & $5$ & $1$ & $5$ & $-3$ & $6$ & $11$ & $16$ & 0.5600 \\\\\n",
      "\\avlink{4.2.ae\\_g\\_ae\\_c} & $8$ & $4$ & $4$ & $4$ & $0$ & $8$ & $12$ & $16$ & 0.2332 \\\\\n",
      "\\avlink{4.2.ad\\_c\\_a\\_b} & $10$ & $3$ & $5$ & $9$ & $13$ & $8$ & $11$ & $14$ & 0.5598 \\\\\n",
      "\\avlink{4.2.ae\\_f\\_c\\_al} & $12$ & $4$ & $6$ & $-2$ & $-2$ & $10$ & $14$ & $18$ & 0.0094 \\\\\n",
      "\\avlink{4.2.ae\\_e\\_h\\_av} & $30$ & $4$ & $8$ & $-5$ & $4$ & $12$ & $16$ & $20$ & 0.5563 \\\\\n",
      "\\avlink{4.2.af\\_n\\_az\\_bn} & $30$ & $5$ & $-1$ & $5$ & $7$ & $4$ & $9$ & $14$ & 0.5312 \\\\\n",
      "\\hline\n",
      "\\avlink{6.2.ag\\_p\\_av\\_y\\_abn\\_cn} & $9$ & $6$ & $6$ & $9$ & $-6$ & $12$ & $18$ & $24$ & 0.3687 \\\\\n",
      "\\avlink{6.2.af\\_j\\_ah\\_d\\_ab\\_ab} & $14$ & $5$ & $7$ & $11$ & $15$ & $12$ & $17$ & $22$ & 0.7838 \\\\\n",
      "\\avlink{6.2.ag\\_p\\_at\\_g\\_bb\\_acj} & $18$ & $6$ & $6$ & $3$ & $18$ & $12$ & $18$ & $24$ & 0.9753 \\\\\n",
      "\\end{tabular}\n"
     ]
    }
   ],
   "source": [
    "import re\n",
    "\n",
    "print(r'\\begin{tabular}{c||c||c|c|c|c||c|c|c|c}')\n",
    "print(r'Label & $n$ & $T_{A,2}$ & $T_{A,4}$ & $T_{A,8}$ & $T_{A,16}$ & $T_{A,2} + T_{A,4}$ & $2T_{A,2} + T_{A,4}$ & $3 T_{A,2} + T_{A,4} $ & excess\\\\')\n",
    "print(r'\\hline')\n",
    "d0 = 0\n",
    "for label, u in simple_poly.items():\n",
    "    tmp = u.factor()\n",
    "    assert len(tmp) == 1\n",
    "    F.<a> = NumberField(tmp[0][0])\n",
    "    eta = (a^2-a)/(2-a)\n",
    "    n = eta.multiplicative_order()\n",
    "    assert (n < Infinity)\n",
    "    tmp = trace_from_weil_poly(u, 4)\n",
    "    excess = (1 + cc[3])*tmp[0] + cc[3]*tmp[1] + cc[4]*(tmp[2]-tmp[0]) + cc[5]*(tmp[3]-tmp[1])\n",
    "    excess = (excess*10^4).round() * 10.0^(-4)\n",
    "    d = u.degree() // 2\n",
    "    if d0 < d:\n",
    "        print(r'\\hline')\n",
    "        d0 = d\n",
    "    excess = excess - d*min_excess\n",
    "    ans = (n, tmp[0], tmp[1], tmp[2], tmp[3], tmp[0]+tmp[1], 2*tmp[0]+tmp[1], 3*tmp[0]+tmp[1])\n",
    "    ans = ' & '.join('$' + str(i) + '$' for i in ans)\n",
    "    ans = r'\\avlink{' + re.sub(r'_', r'\\_', label) + '} & ' + ans + ' & ' + f'{excess:.4f}'\n",
    "    print(ans + r' \\\\')\n",
    "print(r'\\end{tabular}')"
   ]
  },
  {
   "cell_type": "markdown",
   "id": "0d479c77",
   "metadata": {},
   "source": [
    "Compute a lower bound on the excess for $g=8$."
   ]
  },
  {
   "cell_type": "code",
   "execution_count": 12,
   "id": "98218f66",
   "metadata": {},
   "outputs": [],
   "source": [
    "# Values from Lemma 2.3\n",
    "tr = [[1, -1, 0, 0, 0],\n",
    "      [1, 2, 1, 0, 0],\n",
    "      [1, 3, -3, -1, 0],\n",
    "      [1, 4, -2, 4, 1]]\n",
    "tr = [vector(v) for v in tr]"
   ]
  },
  {
   "cell_type": "code",
   "execution_count": 13,
   "id": "ea99a9fe",
   "metadata": {},
   "outputs": [
    {
     "data": {
      "text/plain": [
       "(0.112000000000000, -0.101200000000000, -0.165600000000000, 0.101100000000000, 0.0537000000000000)"
      ]
     },
     "execution_count": 13,
     "metadata": {},
     "output_type": "execute_result"
    }
   ],
   "source": [
    "v = 1.3366*tr[0] + 0.3366*tr[1] + 0.1137*(tr[2]-tr[0]) + 0.0537*(tr[3]-tr[1]) - vector([1.5612,0,0,0,0])\n",
    "v"
   ]
  },
  {
   "cell_type": "code",
   "execution_count": 14,
   "id": "54fe1e7d",
   "metadata": {},
   "outputs": [
    {
     "data": {
      "text/plain": [
       "[15, 16, 20, 24, 30]"
      ]
     },
     "execution_count": 14,
     "metadata": {},
     "output_type": "execute_result"
    }
   ],
   "source": [
    "tmp = [n for n in range(1, 1000) if euler_phi(n) == 8]\n",
    "tmp"
   ]
  },
  {
   "cell_type": "code",
   "execution_count": 15,
   "id": "0f8f3a87",
   "metadata": {},
   "outputs": [
    {
     "name": "stdout",
     "output_type": "stream",
     "text": [
      "0.480700000000001\n",
      "0.896000000000001\n",
      "0.457400000000001\n",
      "1.11080000000000\n",
      "1.08750000000000\n"
     ]
    }
   ],
   "source": [
    "for n in tmp:\n",
    "    trs = [euler_phi(n) / euler_phi(n/gcd(n,d)) * moebius(n/gcd(n,d)) for d in range(1, 5)]\n",
    "    print(8*v[0] + sum(trs[i-1]*v[i] for i in range(1, 5)))"
   ]
  },
  {
   "cell_type": "markdown",
   "id": "c7515ce2",
   "metadata": {},
   "source": [
    "Compute a lower bound on the excess for $g \\geq 9$."
   ]
  },
  {
   "cell_type": "code",
   "execution_count": 16,
   "id": "4b93252d",
   "metadata": {},
   "outputs": [
    {
     "data": {
      "text/plain": [
       "-0.950500000000000"
      ]
     },
     "execution_count": 16,
     "metadata": {},
     "output_type": "execute_result"
    }
   ],
   "source": [
    "c = -abs(v[1]) - 2*abs(v[2]) - 3*abs(v[3]) - 4*abs(v[4])\n",
    "c"
   ]
  },
  {
   "cell_type": "code",
   "execution_count": 17,
   "id": "9039a8ea",
   "metadata": {},
   "outputs": [
    {
     "data": {
      "text/plain": [
       "0.0575000000000010"
      ]
     },
     "execution_count": 17,
     "metadata": {},
     "output_type": "execute_result"
    }
   ],
   "source": [
    "9*v[0] + c"
   ]
  },
  {
   "cell_type": "markdown",
   "id": "09df5cb9",
   "metadata": {},
   "source": [
    "Compute upper bounds on $g$ and $g'$ for $q=2$ with no restriction on $d$."
   ]
  },
  {
   "cell_type": "code",
   "execution_count": 18,
   "id": "d1b39c41",
   "metadata": {},
   "outputs": [
    {
     "data": {
      "text/plain": [
       "(0.431206764027671, 1.51511657699206, 3.59915449654112)"
      ]
     },
     "execution_count": 18,
     "metadata": {},
     "output_type": "execute_result"
    }
   ],
   "source": [
    ".6732 / 1.5612, 1 + .8042/1.5612, 5.619/1.5612"
   ]
  },
  {
   "cell_type": "code",
   "execution_count": 19,
   "id": "115f458e",
   "metadata": {},
   "outputs": [],
   "source": [
    "def f(g, d):\n",
    "    ct = 0.6272*g + 9.562\n",
    "    return 0.4313*ct + (d+2.6) - (d-1.5152)*g"
   ]
  },
  {
   "cell_type": "code",
   "execution_count": 20,
   "id": "01d5d950",
   "metadata": {},
   "outputs": [
    {
     "data": {
      "text/plain": [
       "(-0.0617436399999960, 0.152545000000003)"
      ]
     },
     "execution_count": 20,
     "metadata": {},
     "output_type": "execute_result"
    }
   ],
   "source": [
    "f(41,2), f(40,2)"
   ]
  },
  {
   "cell_type": "markdown",
   "id": "3d07f9e0",
   "metadata": {},
   "source": [
    "Improve these bounds using better upper bounds on point counts, taken from Table 1."
   ]
  },
  {
   "cell_type": "code",
   "execution_count": 21,
   "id": "8d9905a0",
   "metadata": {},
   "outputs": [
    {
     "data": {
      "text/plain": [
       "(-1.20450716000000, 0.00978148000000090)"
      ]
     },
     "execution_count": 21,
     "metadata": {},
     "output_type": "execute_result"
    }
   ],
   "source": [
    "f(9,3), f(8,3)"
   ]
  },
  {
   "cell_type": "code",
   "execution_count": 22,
   "id": "b7043ad7",
   "metadata": {},
   "outputs": [],
   "source": [
    "point_count_bounds = {1: 5, 2: 6, 3: 7, 4: 8, 5: 9, 6: 10, 7:10, 8:11}"
   ]
  },
  {
   "cell_type": "code",
   "execution_count": 23,
   "id": "76c71eb5",
   "metadata": {},
   "outputs": [],
   "source": [
    "def f(g, d):\n",
    "    ct = point_count_bounds[g]\n",
    "    return 0.4313*ct + (d+2.6) - (d-1.5152)*g"
   ]
  },
  {
   "cell_type": "code",
   "execution_count": 24,
   "id": "214f464e",
   "metadata": {},
   "outputs": [
    {
     "data": {
      "text/plain": [
       "(-1.53410000000000, -0.480599999999999, 1.00420000000000)"
      ]
     },
     "execution_count": 24,
     "metadata": {},
     "output_type": "execute_result"
    }
   ],
   "source": [
    "f(8,3), f(7,3), f(6,3)"
   ]
  },
  {
   "cell_type": "code",
   "execution_count": 25,
   "id": "2c73b904",
   "metadata": {},
   "outputs": [
    {
     "data": {
      "text/plain": [
       "(-3.99580000000000, -1.94230000000000, 0.111200000000000)"
      ]
     },
     "execution_count": 25,
     "metadata": {},
     "output_type": "execute_result"
    }
   ],
   "source": [
    "f(6,4), f(5,4), f(4,4)"
   ]
  },
  {
   "cell_type": "code",
   "execution_count": 26,
   "id": "3badaadd",
   "metadata": {},
   "outputs": [
    {
     "data": {
      "text/plain": [
       "(-2.88880000000000, 0.164700000000000)"
      ]
     },
     "execution_count": 26,
     "metadata": {},
     "output_type": "execute_result"
    }
   ],
   "source": [
    "f(4,5), f(3,5)"
   ]
  },
  {
   "cell_type": "code",
   "execution_count": 27,
   "id": "5020abd9",
   "metadata": {},
   "outputs": [
    {
     "data": {
      "text/plain": [
       "(-1.83530000000000, 2.21820000000000)"
      ]
     },
     "execution_count": 27,
     "metadata": {},
     "output_type": "execute_result"
    }
   ],
   "source": [
    "f(3,6), f(2,6)"
   ]
  }
 ],
 "metadata": {
  "kernelspec": {
   "display_name": "SageMath 9.6",
   "language": "sage",
   "name": "sagemath"
  },
  "language_info": {
   "codemirror_mode": {
    "name": "ipython",
    "version": 3
   },
   "file_extension": ".py",
   "mimetype": "text/x-python",
   "name": "python",
   "nbconvert_exporter": "python",
   "pygments_lexer": "ipython3",
   "version": "3.10.4"
  }
 },
 "nbformat": 4,
 "nbformat_minor": 5
}
