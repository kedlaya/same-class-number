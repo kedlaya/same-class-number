{
 "cells": [
  {
   "cell_type": "markdown",
   "metadata": {},
   "source": [
    "This notebook is associated with the paper \"The relative class number one problem for function fields, I\" by K.S. Kedlaya. It runs in SageMath (tested using version 9.4) and depends on Magma (tested using version\n",
    "2.25-5).\n",
    "\n",
    "In this notebook, we identify non-hyperelliptic, non-trigonal candidates for the curve $C'$ in a purely geometric extensions $F'/F$ of relative class number 1 in which $g_F = 1$, $g_{F'} = 5$. Allow 3 hours for completion."
   ]
  },
  {
   "cell_type": "code",
   "execution_count": 18,
   "metadata": {},
   "outputs": [],
   "source": [
    "import itertools\n",
    "from collections import defaultdict"
   ]
  },
  {
   "cell_type": "markdown",
   "metadata": {},
   "source": [
    "Construct the points of $\\mathbb{P}^4$ over $\\mathbb{F}_2$, $\\mathbb{F}_4$, $\\mathbb{F}_8$, and $\\mathbb{F}_{16}$."
   ]
  },
  {
   "cell_type": "code",
   "execution_count": 2,
   "metadata": {},
   "outputs": [],
   "source": [
    "F = GF(2)\n",
    "P.<x0,x1,x2,x3,x4> = F[]"
   ]
  },
  {
   "cell_type": "code",
   "execution_count": 3,
   "metadata": {},
   "outputs": [
    {
     "data": {
      "text/plain": [
       "31"
      ]
     },
     "execution_count": 3,
     "metadata": {},
     "output_type": "execute_result"
    }
   ],
   "source": [
    "S = [vector(F,t) for t in itertools.product(F, repeat=5) if not all(i==0 for i in t)]\n",
    "for v in S:\n",
    "    v.set_immutable()\n",
    "len(S)"
   ]
  },
  {
   "cell_type": "code",
   "execution_count": 37,
   "metadata": {},
   "outputs": [
    {
     "data": {
      "text/plain": [
       "341"
      ]
     },
     "execution_count": 37,
     "metadata": {},
     "output_type": "execute_result"
    }
   ],
   "source": [
    "F4 = GF(4)\n",
    "S4 = [vector(F4,t) for t in itertools.product(F4, repeat=5) if not all(i==0 for i in t) and t[min(i for i in range(5) if t[i])] == 1]\n",
    "for v in S4:\n",
    "    v.set_immutable()\n",
    "len(S4)"
   ]
  },
  {
   "cell_type": "code",
   "execution_count": 85,
   "metadata": {},
   "outputs": [
    {
     "data": {
      "text/plain": [
       "4681"
      ]
     },
     "execution_count": 85,
     "metadata": {},
     "output_type": "execute_result"
    }
   ],
   "source": [
    "F8 = GF(8)\n",
    "S8 = [vector(F8,t) for t in itertools.product(F8, repeat=5) if not all(i==0 for i in t) and t[min(i for i in range(5) if t[i])] == 1]\n",
    "for v in S8:\n",
    "    v.set_immutable()\n",
    "len(S8)"
   ]
  },
  {
   "cell_type": "code",
   "execution_count": 125,
   "metadata": {},
   "outputs": [
    {
     "data": {
      "text/plain": [
       "69905"
      ]
     },
     "execution_count": 125,
     "metadata": {},
     "output_type": "execute_result"
    }
   ],
   "source": [
    "F16 = GF(16)\n",
    "S16 = [vector(F16,t) for t in itertools.product(F16, repeat=5) if not all(i==0 for i in t) and t[min(i for i in range(5) if t[i])] == 1]\n",
    "for v in S16:\n",
    "    v.set_immutable()\n",
    "len(S16)"
   ]
  },
  {
   "cell_type": "markdown",
   "metadata": {},
   "source": [
    "Construct equivalence class of nondegenerate quadratic forms."
   ]
  },
  {
   "cell_type": "code",
   "execution_count": 4,
   "metadata": {},
   "outputs": [
    {
     "data": {
      "text/plain": [
       "15"
      ]
     },
     "execution_count": 4,
     "metadata": {},
     "output_type": "execute_result"
    }
   ],
   "source": [
    "monos2 = [prod(t) for t in itertools.combinations_with_replacement(P.gens(), 2)]\n",
    "len(monos2)"
   ]
  },
  {
   "cell_type": "code",
   "execution_count": 5,
   "metadata": {},
   "outputs": [],
   "source": [
    "coords2 = {x: vector(mu(*x) for mu in monos2) for x in S}"
   ]
  },
  {
   "cell_type": "code",
   "execution_count": 150,
   "metadata": {},
   "outputs": [],
   "source": [
    "quads = {1: [], 2: [], 3: [], 4: []}\n",
    "for t in itertools.product(F, repeat=15):\n",
    "    v = vector(t)\n",
    "    v.set_immutable()\n",
    "    gen = sum(t[i]*monos2[i] for i in range(15))\n",
    "    if gen == 0: \n",
    "        continue\n",
    "    fac = gen.factor()\n",
    "    if len(fac) > 1 or fac[0][1] > 1:\n",
    "        continue\n",
    "    pts = [x for x in S if gen(*x) == 0]\n",
    "    if len(pts) == 19:\n",
    "        quads[2].append(v)\n",
    "    elif len(pts) == 11:\n",
    "        quads[3].append(v)\n",
    "    elif len(pts) == 15:\n",
    "        J = P.ideal([gen]) + gen.jacobian_ideal()\n",
    "        if J.dimension() == 0:\n",
    "            quads[4].append(v)\n",
    "        else:\n",
    "            quads[1].append(v)"
   ]
  },
  {
   "cell_type": "code",
   "execution_count": 151,
   "metadata": {},
   "outputs": [
    {
     "data": {
      "text/plain": [
       "[4340, 8680, 5208, 13888]"
      ]
     },
     "execution_count": 151,
     "metadata": {},
     "output_type": "execute_result"
    }
   ],
   "source": [
    "[len(quads[i]) for i in range(1,5)]"
   ]
  },
  {
   "cell_type": "code",
   "execution_count": 172,
   "metadata": {},
   "outputs": [],
   "source": [
    "quads_lookup = {v: i for i in quads for v in quads[i]}\n",
    "for t in itertools.product(F, repeat=15):\n",
    "    v = vector(t)\n",
    "    v.set_immutable()\n",
    "    if v not in quads_lookup:\n",
    "        quads_lookup[v] = 0"
   ]
  },
  {
   "cell_type": "markdown",
   "metadata": {},
   "source": [
    "For one representative of each quadratic form, find the $\\mathbb{F}_2$-points of the corresponding hypersurface."
   ]
  },
  {
   "cell_type": "code",
   "execution_count": 159,
   "metadata": {},
   "outputs": [],
   "source": [
    "d = {}\n",
    "for i in range(1, 5):\n",
    "    v = quads[i][0]\n",
    "    gen1 = sum(v[i]*monos2[i] for i in range(15))\n",
    "    d[v] = [x for x in S if gen1(*x) == 0]"
   ]
  },
  {
   "cell_type": "markdown",
   "metadata": {},
   "source": [
    "Identify our target point counts."
   ]
  },
  {
   "cell_type": "code",
   "execution_count": 160,
   "metadata": {},
   "outputs": [],
   "source": [
    "targets = [(0,0,9,12,50),\n",
    "           (0,0,12,16,60),\n",
    "           (0,2,6,18,30),\n",
    "           (0,2,3,42,30),\n",
    "           (0,4,0,16,20),\n",
    "           (0,4,0,28,25),\n",
    "           (0,6,0,18,25),\n",
    "           (1,1,1,25,1)]\n",
    "targets2 = [tuple(t[:2]) for t in targets]\n",
    "targets3 = [tuple(t[:3]) for t in targets]\n",
    "targets4 = [tuple(t[:4]) for t in targets]"
   ]
  },
  {
   "cell_type": "markdown",
   "metadata": {},
   "source": [
    "Loop through triples of quadrics $X_1, X_2, X_3$. Notes:\n",
    "\n",
    "- All of the quadrics in the pencil must be nondegenerate.\n",
    "- We may assume that $X_1$ is the first listed representative in its equivalence classes, and that $X_2, X_3$ are in later equivalence classes.\n",
    "- Given $X_1, X_2$, we solve a linear equation to find candidates for $X_3$ so that $(X_1 \\cap X_2 \\cap X_3)(\\mathbb{F}_2)$ consists of at most one point (which are free to specify).\n",
    "- Once we have a candidate with the right $\\mathbb{F}_2$-point, we then check the counts over $\\mathbb{F}_4$, $\\mathbb{F}_8$, $\\mathbb{F}_{16}$ in turn. The code is set up so that we compute the points of $X_1 \\cap X_2$ at most once for each choice of $X_1, X_2$ (and only if it is needed)."
   ]
  },
  {
   "cell_type": "code",
   "execution_count": 194,
   "metadata": {},
   "outputs": [
    {
     "name": "stdout",
     "output_type": "stream",
     "text": [
      "x3^2 + x2*x4\n",
      "(0, 0, 0, 0, 0, 0, 0, 0, 0, 0, 0, 0, 0, 0, 0)\n",
      "(0, 0, 0, 0, 0, 0, 0, 0, 1, 0, 0, 0, 0, 0, 0)\n",
      "(0, 0, 0, 0, 0, 0, 0, 0, 0, 1, 0, 0, 0, 0, 0)\n",
      "0 4 0 16\n",
      "0 0 9 12\n",
      "0 0 12 16\n",
      "(0, 0, 0, 0, 0, 0, 0, 0, 1, 1, 0, 0, 0, 0, 0)\n",
      "(0, 0, 0, 0, 0, 0, 0, 0, 0, 0, 1, 0, 0, 0, 0)\n",
      "(0, 0, 0, 0, 0, 0, 0, 0, 1, 0, 1, 0, 0, 0, 0)\n",
      "(0, 0, 0, 0, 0, 0, 0, 0, 0, 1, 1, 0, 0, 0, 0)\n",
      "(0, 0, 0, 0, 0, 0, 0, 0, 1, 1, 1, 0, 0, 0, 0)\n",
      "(0, 0, 0, 0, 0, 0, 0, 0, 0, 0, 0, 1, 0, 0, 0)\n",
      "(0, 0, 0, 0, 0, 0, 0, 0, 1, 0, 0, 1, 0, 0, 0)\n",
      "(0, 0, 0, 0, 0, 0, 0, 0, 0, 1, 0, 1, 0, 0, 0)\n",
      "(0, 0, 0, 0, 0, 0, 0, 0, 1, 1, 0, 1, 0, 0, 0)\n",
      "(0, 0, 0, 0, 0, 0, 0, 0, 0, 0, 1, 1, 0, 0, 0)\n",
      "(0, 0, 0, 0, 0, 0, 0, 0, 1, 0, 1, 1, 0, 0, 0)\n",
      "(0, 0, 0, 0, 0, 0, 0, 0, 0, 1, 1, 1, 0, 0, 0)\n",
      "(0, 0, 0, 0, 0, 0, 0, 0, 1, 1, 1, 1, 0, 0, 0)\n",
      "(0, 0, 0, 0, 0, 0, 0, 0, 0, 0, 0, 0, 0, 1, 0)\n",
      "(0, 0, 0, 0, 0, 0, 0, 0, 1, 0, 0, 0, 0, 1, 0)\n",
      "(0, 0, 0, 0, 0, 0, 0, 0, 0, 1, 0, 0, 0, 1, 0)\n",
      "(0, 0, 0, 0, 0, 0, 0, 0, 1, 1, 0, 0, 0, 1, 0)\n",
      "(0, 0, 0, 0, 0, 0, 0, 0, 0, 0, 1, 0, 0, 1, 0)\n",
      "(0, 0, 0, 0, 0, 0, 0, 0, 1, 0, 1, 0, 0, 1, 0)\n",
      "(0, 0, 0, 0, 0, 0, 0, 0, 0, 1, 1, 0, 0, 1, 0)\n",
      "(0, 0, 0, 0, 0, 0, 0, 0, 1, 1, 1, 0, 0, 1, 0)\n",
      "(0, 0, 0, 0, 0, 0, 0, 0, 0, 0, 0, 1, 0, 1, 0)\n",
      "(0, 0, 0, 0, 0, 0, 0, 0, 1, 0, 0, 1, 0, 1, 0)\n",
      "(0, 0, 0, 0, 0, 0, 0, 0, 0, 1, 0, 1, 0, 1, 0)\n",
      "(0, 0, 0, 0, 0, 0, 0, 0, 1, 1, 0, 1, 0, 1, 0)\n",
      "(0, 0, 0, 0, 0, 0, 0, 0, 0, 0, 1, 1, 0, 1, 0)\n",
      "(0, 0, 0, 0, 0, 0, 0, 0, 1, 0, 1, 1, 0, 1, 0)\n",
      "(0, 0, 0, 0, 0, 0, 0, 0, 0, 1, 1, 1, 0, 1, 0)\n",
      "(0, 0, 0, 0, 0, 0, 0, 0, 1, 1, 1, 1, 0, 1, 0)\n",
      "(0, 0, 0, 0, 0, 0, 0, 0, 0, 0, 0, 0, 0, 0, 1)\n",
      "(0, 0, 0, 0, 0, 0, 0, 0, 1, 0, 0, 0, 0, 0, 1)\n",
      "(0, 0, 0, 0, 0, 0, 0, 0, 0, 1, 0, 0, 0, 0, 1)\n",
      "(0, 0, 0, 0, 0, 0, 0, 0, 1, 1, 0, 0, 0, 0, 1)\n",
      "(0, 0, 0, 0, 0, 0, 0, 0, 0, 0, 1, 0, 0, 0, 1)\n",
      "(0, 0, 0, 0, 0, 0, 0, 0, 1, 0, 1, 0, 0, 0, 1)\n",
      "(0, 0, 0, 0, 0, 0, 0, 0, 0, 1, 1, 0, 0, 0, 1)\n",
      "(0, 0, 0, 0, 0, 0, 0, 0, 1, 1, 1, 0, 0, 0, 1)\n",
      "(0, 0, 0, 0, 0, 0, 0, 0, 0, 0, 0, 1, 0, 0, 1)\n",
      "(0, 0, 0, 0, 0, 0, 0, 0, 1, 0, 0, 1, 0, 0, 1)\n",
      "(0, 0, 0, 0, 0, 0, 0, 0, 0, 1, 0, 1, 0, 0, 1)\n",
      "(0, 0, 0, 0, 0, 0, 0, 0, 1, 1, 0, 1, 0, 0, 1)\n",
      "(0, 0, 0, 0, 0, 0, 0, 0, 0, 0, 1, 1, 0, 0, 1)\n",
      "(0, 0, 0, 0, 0, 0, 0, 0, 1, 0, 1, 1, 0, 0, 1)\n",
      "(0, 0, 0, 0, 0, 0, 0, 0, 0, 1, 1, 1, 0, 0, 1)\n",
      "(0, 0, 0, 0, 0, 0, 0, 0, 1, 1, 1, 1, 0, 0, 1)\n",
      "(0, 0, 0, 0, 0, 0, 0, 0, 0, 0, 0, 0, 0, 1, 1)\n",
      "(0, 0, 0, 0, 0, 0, 0, 0, 1, 0, 0, 0, 0, 1, 1)\n",
      "(0, 0, 0, 0, 0, 0, 0, 0, 0, 1, 0, 0, 0, 1, 1)\n",
      "(0, 0, 0, 0, 0, 0, 0, 0, 1, 1, 0, 0, 0, 1, 1)\n",
      "(0, 0, 0, 0, 0, 0, 0, 0, 0, 0, 1, 0, 0, 1, 1)\n",
      "(0, 0, 0, 0, 0, 0, 0, 0, 1, 0, 1, 0, 0, 1, 1)\n",
      "(0, 0, 0, 0, 0, 0, 0, 0, 0, 1, 1, 0, 0, 1, 1)\n",
      "(0, 0, 0, 0, 0, 0, 0, 0, 1, 1, 1, 0, 0, 1, 1)\n",
      "(0, 0, 0, 0, 0, 0, 0, 0, 0, 0, 0, 1, 0, 1, 1)\n",
      "(0, 0, 0, 0, 0, 0, 0, 0, 1, 0, 0, 1, 0, 1, 1)\n",
      "(0, 0, 0, 0, 0, 0, 0, 0, 0, 1, 0, 1, 0, 1, 1)\n",
      "(0, 0, 0, 0, 0, 0, 0, 0, 1, 1, 0, 1, 0, 1, 1)\n",
      "(0, 0, 0, 0, 0, 0, 0, 0, 0, 0, 1, 1, 0, 1, 1)\n",
      "(0, 0, 0, 0, 0, 0, 0, 0, 1, 0, 1, 1, 0, 1, 1)\n",
      "(0, 0, 0, 0, 0, 0, 0, 0, 0, 1, 1, 1, 0, 1, 1)\n",
      "(0, 0, 0, 0, 0, 0, 0, 0, 1, 1, 1, 1, 0, 1, 1)\n",
      "x2*x3 + x1*x4\n",
      "(0, 0, 0, 0, 0, 0, 0, 0, 0, 0, 0, 0, 0, 0, 0)\n",
      "(0, 0, 0, 0, 0, 0, 0, 0, 1, 0, 0, 0, 0, 0, 0)\n",
      "(0, 0, 0, 0, 0, 0, 0, 0, 0, 1, 0, 0, 0, 0, 0)\n",
      "(0, 0, 0, 0, 0, 0, 0, 0, 1, 1, 0, 0, 0, 0, 0)\n",
      "(0, 0, 0, 0, 0, 0, 0, 0, 0, 0, 0, 1, 0, 0, 0)\n",
      "(0, 0, 0, 0, 0, 0, 0, 0, 1, 0, 0, 1, 0, 0, 0)\n",
      "(0, 0, 0, 0, 0, 0, 0, 0, 0, 1, 0, 1, 0, 0, 0)\n",
      "(0, 0, 0, 0, 0, 0, 0, 0, 1, 1, 0, 1, 0, 0, 0)\n",
      "(0, 0, 0, 0, 0, 0, 0, 0, 0, 0, 0, 0, 1, 0, 0)\n",
      "(0, 0, 0, 0, 0, 0, 0, 0, 1, 0, 0, 0, 1, 0, 0)\n",
      "(0, 0, 0, 0, 0, 0, 0, 0, 0, 1, 0, 0, 1, 0, 0)\n",
      "(0, 0, 0, 0, 0, 0, 0, 0, 1, 1, 0, 0, 1, 0, 0)\n",
      "(0, 0, 0, 0, 0, 0, 0, 0, 0, 0, 0, 1, 1, 0, 0)\n",
      "(0, 0, 0, 0, 0, 0, 0, 0, 1, 0, 0, 1, 1, 0, 0)\n",
      "(0, 0, 0, 0, 0, 0, 0, 0, 0, 1, 0, 1, 1, 0, 0)\n",
      "(0, 0, 0, 0, 0, 0, 0, 0, 1, 1, 0, 1, 1, 0, 0)\n",
      "(0, 0, 0, 0, 0, 0, 0, 0, 0, 0, 0, 0, 0, 1, 0)\n",
      "(0, 0, 0, 0, 0, 0, 0, 0, 1, 0, 0, 0, 0, 1, 0)\n",
      "(0, 0, 0, 0, 0, 0, 0, 0, 0, 1, 0, 0, 0, 1, 0)\n",
      "(0, 0, 0, 0, 0, 0, 0, 0, 1, 1, 0, 0, 0, 1, 0)\n",
      "(0, 0, 0, 0, 0, 0, 0, 0, 0, 0, 0, 1, 0, 1, 0)\n",
      "(0, 0, 0, 0, 0, 0, 0, 0, 1, 0, 0, 1, 0, 1, 0)\n",
      "(0, 0, 0, 0, 0, 0, 0, 0, 0, 1, 0, 1, 0, 1, 0)\n",
      "(0, 0, 0, 0, 0, 0, 0, 0, 1, 1, 0, 1, 0, 1, 0)\n",
      "(0, 0, 0, 0, 0, 0, 0, 0, 0, 0, 0, 0, 1, 1, 0)\n",
      "(0, 0, 0, 0, 0, 0, 0, 0, 1, 0, 0, 0, 1, 1, 0)\n",
      "(0, 0, 0, 0, 0, 0, 0, 0, 0, 1, 0, 0, 1, 1, 0)\n",
      "(0, 0, 0, 0, 0, 0, 0, 0, 1, 1, 0, 0, 1, 1, 0)\n",
      "(0, 0, 0, 0, 0, 0, 0, 0, 0, 0, 0, 1, 1, 1, 0)\n",
      "(0, 0, 0, 0, 0, 0, 0, 0, 1, 0, 0, 1, 1, 1, 0)\n",
      "(0, 0, 0, 0, 0, 0, 0, 0, 0, 1, 0, 1, 1, 1, 0)\n",
      "(0, 0, 0, 0, 0, 0, 0, 0, 1, 1, 0, 1, 1, 1, 0)\n",
      "(0, 0, 0, 0, 0, 0, 0, 0, 0, 0, 0, 0, 0, 0, 1)\n",
      "(0, 0, 0, 0, 0, 0, 0, 0, 1, 0, 0, 0, 0, 0, 1)\n",
      "(0, 0, 0, 0, 0, 0, 0, 0, 0, 1, 0, 0, 0, 0, 1)\n",
      "(0, 0, 0, 0, 0, 0, 0, 0, 1, 1, 0, 0, 0, 0, 1)\n",
      "(0, 0, 0, 0, 0, 0, 0, 0, 0, 0, 0, 1, 0, 0, 1)\n",
      "(0, 0, 0, 0, 0, 0, 0, 0, 1, 0, 0, 1, 0, 0, 1)\n",
      "(0, 0, 0, 0, 0, 0, 0, 0, 0, 1, 0, 1, 0, 0, 1)\n",
      "(0, 0, 0, 0, 0, 0, 0, 0, 1, 1, 0, 1, 0, 0, 1)\n",
      "(0, 0, 0, 0, 0, 0, 0, 0, 0, 0, 0, 0, 1, 0, 1)\n",
      "(0, 0, 0, 0, 0, 0, 0, 0, 1, 0, 0, 0, 1, 0, 1)\n",
      "(0, 0, 0, 0, 0, 0, 0, 0, 0, 1, 0, 0, 1, 0, 1)\n",
      "(0, 0, 0, 0, 0, 0, 0, 0, 1, 1, 0, 0, 1, 0, 1)\n",
      "(0, 0, 0, 0, 0, 0, 0, 0, 0, 0, 0, 1, 1, 0, 1)\n",
      "(0, 0, 0, 0, 0, 0, 0, 0, 1, 0, 0, 1, 1, 0, 1)\n",
      "(0, 0, 0, 0, 0, 0, 0, 0, 0, 1, 0, 1, 1, 0, 1)\n",
      "(0, 0, 0, 0, 0, 0, 0, 0, 1, 1, 0, 1, 1, 0, 1)\n",
      "(0, 0, 0, 0, 0, 0, 0, 0, 0, 0, 0, 0, 0, 1, 1)\n",
      "(0, 0, 0, 0, 0, 0, 0, 0, 1, 0, 0, 0, 0, 1, 1)\n",
      "(0, 0, 0, 0, 0, 0, 0, 0, 0, 1, 0, 0, 0, 1, 1)\n",
      "(0, 0, 0, 0, 0, 0, 0, 0, 1, 1, 0, 0, 0, 1, 1)\n",
      "(0, 0, 0, 0, 0, 0, 0, 0, 0, 0, 0, 1, 0, 1, 1)\n",
      "(0, 0, 0, 0, 0, 0, 0, 0, 1, 0, 0, 1, 0, 1, 1)\n",
      "(0, 0, 0, 0, 0, 0, 0, 0, 0, 1, 0, 1, 0, 1, 1)\n",
      "(0, 0, 0, 0, 0, 0, 0, 0, 1, 1, 0, 1, 0, 1, 1)\n",
      "(0, 0, 0, 0, 0, 0, 0, 0, 0, 0, 0, 0, 1, 1, 1)\n",
      "(0, 0, 0, 0, 0, 0, 0, 0, 1, 0, 0, 0, 1, 1, 1)\n",
      "(0, 0, 0, 0, 0, 0, 0, 0, 0, 1, 0, 0, 1, 1, 1)\n",
      "(0, 0, 0, 0, 0, 0, 0, 0, 1, 1, 0, 0, 1, 1, 1)\n",
      "(0, 0, 0, 0, 0, 0, 0, 0, 0, 0, 0, 1, 1, 1, 1)\n",
      "(0, 0, 0, 0, 0, 0, 0, 0, 1, 0, 0, 1, 1, 1, 1)\n",
      "(0, 0, 0, 0, 0, 0, 0, 0, 0, 1, 0, 1, 1, 1, 1)\n",
      "(0, 0, 0, 0, 0, 0, 0, 0, 1, 1, 0, 1, 1, 1, 1)\n",
      "x2^2 + x2*x3 + x3^2 + x1*x4\n",
      "(0, 0, 0, 0, 0, 0, 0, 0, 0, 0, 0, 0, 0, 0, 0)\n",
      "(0, 0, 0, 0, 0, 0, 0, 0, 1, 0, 0, 0, 0, 0, 0)\n",
      "(0, 0, 0, 0, 0, 0, 0, 0, 0, 1, 0, 0, 0, 0, 0)\n",
      "(0, 0, 0, 0, 0, 0, 0, 0, 1, 1, 0, 0, 0, 0, 0)\n",
      "(0, 0, 0, 0, 0, 0, 0, 0, 0, 0, 1, 0, 0, 0, 0)\n",
      "(0, 0, 0, 0, 0, 0, 0, 0, 1, 0, 1, 0, 0, 0, 0)\n",
      "(0, 0, 0, 0, 0, 0, 0, 0, 0, 1, 1, 0, 0, 0, 0)\n",
      "(0, 0, 0, 0, 0, 0, 0, 0, 1, 1, 1, 0, 0, 0, 0)\n",
      "(0, 0, 0, 0, 0, 0, 0, 0, 0, 0, 0, 1, 0, 0, 0)\n",
      "(0, 0, 0, 0, 0, 0, 0, 0, 1, 0, 0, 1, 0, 0, 0)\n",
      "(0, 0, 0, 0, 0, 0, 0, 0, 0, 1, 0, 1, 0, 0, 0)\n",
      "(0, 0, 0, 0, 0, 0, 0, 0, 1, 1, 0, 1, 0, 0, 0)\n",
      "(0, 0, 0, 0, 0, 0, 0, 0, 0, 0, 1, 1, 0, 0, 0)\n",
      "(0, 0, 0, 0, 0, 0, 0, 0, 1, 0, 1, 1, 0, 0, 0)\n",
      "(0, 0, 0, 0, 0, 0, 0, 0, 0, 1, 1, 1, 0, 0, 0)\n",
      "(0, 0, 0, 0, 0, 0, 0, 0, 1, 1, 1, 1, 0, 0, 0)\n",
      "(0, 0, 0, 0, 0, 0, 0, 0, 0, 0, 0, 0, 0, 1, 0)\n",
      "(0, 0, 0, 0, 0, 0, 0, 0, 1, 0, 0, 0, 0, 1, 0)\n",
      "(0, 0, 0, 0, 0, 0, 0, 0, 0, 1, 0, 0, 0, 1, 0)\n",
      "(0, 0, 0, 0, 0, 0, 0, 0, 1, 1, 0, 0, 0, 1, 0)\n",
      "(0, 0, 0, 0, 0, 0, 0, 0, 0, 0, 1, 0, 0, 1, 0)\n",
      "(0, 0, 0, 0, 0, 0, 0, 0, 1, 0, 1, 0, 0, 1, 0)\n",
      "(0, 0, 0, 0, 0, 0, 0, 0, 0, 1, 1, 0, 0, 1, 0)\n",
      "(0, 0, 0, 0, 0, 0, 0, 0, 1, 1, 1, 0, 0, 1, 0)\n",
      "(0, 0, 0, 0, 0, 0, 0, 0, 0, 0, 0, 1, 0, 1, 0)\n",
      "(0, 0, 0, 0, 0, 0, 0, 0, 1, 0, 0, 1, 0, 1, 0)\n",
      "(0, 0, 0, 0, 0, 0, 0, 0, 0, 1, 0, 1, 0, 1, 0)\n",
      "(0, 0, 0, 0, 0, 0, 0, 0, 1, 1, 0, 1, 0, 1, 0)\n",
      "(0, 0, 0, 0, 0, 0, 0, 0, 0, 0, 1, 1, 0, 1, 0)\n",
      "(0, 0, 0, 0, 0, 0, 0, 0, 1, 0, 1, 1, 0, 1, 0)\n",
      "(0, 0, 0, 0, 0, 0, 0, 0, 0, 1, 1, 1, 0, 1, 0)\n",
      "(0, 0, 0, 0, 0, 0, 0, 0, 1, 1, 1, 1, 0, 1, 0)\n",
      "(0, 0, 0, 0, 0, 0, 0, 0, 0, 0, 0, 0, 0, 0, 1)\n",
      "(0, 0, 0, 0, 0, 0, 0, 0, 1, 0, 0, 0, 0, 0, 1)\n",
      "(0, 0, 0, 0, 0, 0, 0, 0, 0, 1, 0, 0, 0, 0, 1)\n",
      "(0, 0, 0, 0, 0, 0, 0, 0, 1, 1, 0, 0, 0, 0, 1)\n",
      "(0, 0, 0, 0, 0, 0, 0, 0, 0, 0, 1, 0, 0, 0, 1)\n",
      "(0, 0, 0, 0, 0, 0, 0, 0, 1, 0, 1, 0, 0, 0, 1)\n",
      "(0, 0, 0, 0, 0, 0, 0, 0, 0, 1, 1, 0, 0, 0, 1)\n",
      "(0, 0, 0, 0, 0, 0, 0, 0, 1, 1, 1, 0, 0, 0, 1)\n",
      "(0, 0, 0, 0, 0, 0, 0, 0, 0, 0, 0, 1, 0, 0, 1)\n",
      "(0, 0, 0, 0, 0, 0, 0, 0, 1, 0, 0, 1, 0, 0, 1)\n",
      "(0, 0, 0, 0, 0, 0, 0, 0, 0, 1, 0, 1, 0, 0, 1)\n",
      "(0, 0, 0, 0, 0, 0, 0, 0, 1, 1, 0, 1, 0, 0, 1)\n",
      "(0, 0, 0, 0, 0, 0, 0, 0, 0, 0, 1, 1, 0, 0, 1)\n",
      "(0, 0, 0, 0, 0, 0, 0, 0, 1, 0, 1, 1, 0, 0, 1)\n",
      "(0, 0, 0, 0, 0, 0, 0, 0, 0, 1, 1, 1, 0, 0, 1)\n",
      "(0, 0, 0, 0, 0, 0, 0, 0, 1, 1, 1, 1, 0, 0, 1)\n",
      "(0, 0, 0, 0, 0, 0, 0, 0, 0, 0, 0, 0, 0, 1, 1)\n"
     ]
    },
    {
     "name": "stdout",
     "output_type": "stream",
     "text": [
      "(0, 0, 0, 0, 0, 0, 0, 0, 1, 0, 0, 0, 0, 1, 1)\n",
      "(0, 0, 0, 0, 0, 0, 0, 0, 0, 1, 0, 0, 0, 1, 1)\n",
      "(0, 0, 0, 0, 0, 0, 0, 0, 1, 1, 0, 0, 0, 1, 1)\n",
      "(0, 0, 0, 0, 0, 0, 0, 0, 0, 0, 1, 0, 0, 1, 1)\n",
      "(0, 0, 0, 0, 0, 0, 0, 0, 1, 0, 1, 0, 0, 1, 1)\n",
      "(0, 0, 0, 0, 0, 0, 0, 0, 0, 1, 1, 0, 0, 1, 1)\n",
      "(0, 0, 0, 0, 0, 0, 0, 0, 1, 1, 1, 0, 0, 1, 1)\n",
      "(0, 0, 0, 0, 0, 0, 0, 0, 0, 0, 0, 1, 0, 1, 1)\n",
      "(0, 0, 0, 0, 0, 0, 0, 0, 1, 0, 0, 1, 0, 1, 1)\n",
      "(0, 0, 0, 0, 0, 0, 0, 0, 0, 1, 0, 1, 0, 1, 1)\n",
      "(0, 0, 0, 0, 0, 0, 0, 0, 1, 1, 0, 1, 0, 1, 1)\n",
      "(0, 0, 0, 0, 0, 0, 0, 0, 0, 0, 1, 1, 0, 1, 1)\n",
      "(0, 0, 0, 0, 0, 0, 0, 0, 1, 0, 1, 1, 0, 1, 1)\n",
      "(0, 0, 0, 0, 0, 0, 0, 0, 0, 1, 1, 1, 0, 1, 1)\n",
      "(0, 0, 0, 0, 0, 0, 0, 0, 1, 1, 1, 1, 0, 1, 1)\n",
      "x2^2 + x1*x3 + x0*x4\n",
      "(0, 0, 0, 0, 0, 0, 0, 0, 0, 0, 0, 0, 0, 0, 0)\n",
      "(0, 0, 0, 0, 0, 0, 0, 0, 1, 0, 0, 0, 0, 0, 0)\n",
      "(0, 0, 0, 0, 0, 0, 0, 0, 0, 0, 1, 0, 0, 0, 0)\n",
      "(0, 0, 0, 0, 0, 0, 0, 0, 1, 0, 1, 0, 0, 0, 0)\n",
      "(0, 0, 0, 0, 0, 0, 0, 0, 0, 0, 0, 1, 0, 0, 0)\n",
      "(0, 0, 0, 0, 0, 0, 0, 0, 1, 0, 0, 1, 0, 0, 0)\n",
      "(0, 0, 0, 0, 0, 0, 0, 0, 0, 0, 1, 1, 0, 0, 0)\n",
      "(0, 0, 0, 0, 0, 0, 0, 0, 1, 0, 1, 1, 0, 0, 0)\n",
      "(0, 0, 0, 0, 0, 0, 0, 0, 0, 0, 0, 0, 1, 0, 0)\n",
      "(0, 0, 0, 0, 0, 0, 0, 0, 1, 0, 0, 0, 1, 0, 0)\n",
      "(0, 0, 0, 0, 0, 0, 0, 0, 0, 0, 1, 0, 1, 0, 0)\n",
      "(0, 0, 0, 0, 0, 0, 0, 0, 1, 0, 1, 0, 1, 0, 0)\n",
      "(0, 0, 0, 0, 0, 0, 0, 0, 0, 0, 0, 1, 1, 0, 0)\n",
      "(0, 0, 0, 0, 0, 0, 0, 0, 1, 0, 0, 1, 1, 0, 0)\n",
      "(0, 0, 0, 0, 0, 0, 0, 0, 0, 0, 1, 1, 1, 0, 0)\n",
      "(0, 0, 0, 0, 0, 0, 0, 0, 1, 0, 1, 1, 1, 0, 0)\n",
      "(0, 0, 0, 0, 0, 0, 0, 0, 0, 0, 0, 0, 0, 1, 0)\n",
      "(0, 0, 0, 0, 0, 0, 0, 0, 1, 0, 0, 0, 0, 1, 0)\n",
      "(0, 0, 0, 0, 0, 0, 0, 0, 0, 0, 1, 0, 0, 1, 0)\n",
      "(0, 0, 0, 0, 0, 0, 0, 0, 1, 0, 1, 0, 0, 1, 0)\n",
      "(0, 0, 0, 0, 0, 0, 0, 0, 0, 0, 0, 1, 0, 1, 0)\n",
      "(0, 0, 0, 0, 0, 0, 0, 0, 1, 0, 0, 1, 0, 1, 0)\n",
      "(0, 0, 0, 0, 0, 0, 0, 0, 0, 0, 1, 1, 0, 1, 0)\n",
      "(0, 0, 0, 0, 0, 0, 0, 0, 1, 0, 1, 1, 0, 1, 0)\n",
      "(0, 0, 0, 0, 0, 0, 0, 0, 0, 0, 0, 0, 1, 1, 0)\n",
      "(0, 0, 0, 0, 0, 0, 0, 0, 1, 0, 0, 0, 1, 1, 0)\n",
      "(0, 0, 0, 0, 0, 0, 0, 0, 0, 0, 1, 0, 1, 1, 0)\n",
      "(0, 0, 0, 0, 0, 0, 0, 0, 1, 0, 1, 0, 1, 1, 0)\n",
      "(0, 0, 0, 0, 0, 0, 0, 0, 0, 0, 0, 1, 1, 1, 0)\n",
      "(0, 0, 0, 0, 0, 0, 0, 0, 1, 0, 0, 1, 1, 1, 0)\n",
      "(0, 0, 0, 0, 0, 0, 0, 0, 0, 0, 1, 1, 1, 1, 0)\n",
      "(0, 0, 0, 0, 0, 0, 0, 0, 1, 0, 1, 1, 1, 1, 0)\n",
      "(0, 0, 0, 0, 0, 0, 0, 0, 0, 0, 0, 0, 0, 0, 1)\n",
      "(0, 0, 0, 0, 0, 0, 0, 0, 1, 0, 0, 0, 0, 0, 1)\n",
      "(0, 0, 0, 0, 0, 0, 0, 0, 0, 0, 1, 0, 0, 0, 1)\n",
      "(0, 0, 0, 0, 0, 0, 0, 0, 1, 0, 1, 0, 0, 0, 1)\n",
      "(0, 0, 0, 0, 0, 0, 0, 0, 0, 0, 0, 1, 0, 0, 1)\n",
      "(0, 0, 0, 0, 0, 0, 0, 0, 1, 0, 0, 1, 0, 0, 1)\n",
      "(0, 0, 0, 0, 0, 0, 0, 0, 0, 0, 1, 1, 0, 0, 1)\n",
      "(0, 0, 0, 0, 0, 0, 0, 0, 1, 0, 1, 1, 0, 0, 1)\n",
      "(0, 0, 0, 0, 0, 0, 0, 0, 0, 0, 0, 0, 1, 0, 1)\n",
      "(0, 0, 0, 0, 0, 0, 0, 0, 1, 0, 0, 0, 1, 0, 1)\n",
      "(0, 0, 0, 0, 0, 0, 0, 0, 0, 0, 1, 0, 1, 0, 1)\n",
      "(0, 0, 0, 0, 0, 0, 0, 0, 1, 0, 1, 0, 1, 0, 1)\n",
      "(0, 0, 0, 0, 0, 0, 0, 0, 0, 0, 0, 1, 1, 0, 1)\n",
      "(0, 0, 0, 0, 0, 0, 0, 0, 1, 0, 0, 1, 1, 0, 1)\n",
      "(0, 0, 0, 0, 0, 0, 0, 0, 0, 0, 1, 1, 1, 0, 1)\n",
      "(0, 0, 0, 0, 0, 0, 0, 0, 1, 0, 1, 1, 1, 0, 1)\n",
      "(0, 0, 0, 0, 0, 0, 0, 0, 0, 0, 0, 0, 0, 1, 1)\n",
      "(0, 0, 0, 0, 0, 0, 0, 0, 1, 0, 0, 0, 0, 1, 1)\n",
      "(0, 0, 0, 0, 0, 0, 0, 0, 0, 0, 1, 0, 0, 1, 1)\n",
      "(0, 0, 0, 0, 0, 0, 0, 0, 1, 0, 1, 0, 0, 1, 1)\n",
      "(0, 0, 0, 0, 0, 0, 0, 0, 0, 0, 0, 1, 0, 1, 1)\n",
      "(0, 0, 0, 0, 0, 0, 0, 0, 1, 0, 0, 1, 0, 1, 1)\n",
      "(0, 0, 0, 0, 0, 0, 0, 0, 0, 0, 1, 1, 0, 1, 1)\n",
      "(0, 0, 0, 0, 0, 0, 0, 0, 1, 0, 1, 1, 0, 1, 1)\n",
      "(0, 0, 0, 0, 0, 0, 0, 0, 0, 0, 0, 0, 1, 1, 1)\n",
      "(0, 0, 0, 0, 0, 0, 0, 0, 1, 0, 0, 0, 1, 1, 1)\n",
      "(0, 0, 0, 0, 0, 0, 0, 0, 0, 0, 1, 0, 1, 1, 1)\n",
      "(0, 0, 0, 0, 0, 0, 0, 0, 1, 0, 1, 0, 1, 1, 1)\n",
      "(0, 0, 0, 0, 0, 0, 0, 0, 0, 0, 0, 1, 1, 1, 1)\n",
      "(0, 0, 0, 0, 0, 0, 0, 0, 1, 0, 0, 1, 1, 1, 1)\n",
      "(0, 0, 0, 0, 0, 0, 0, 0, 0, 0, 1, 1, 1, 1, 1)\n",
      "(0, 0, 0, 0, 0, 0, 0, 0, 1, 0, 1, 1, 1, 1, 1)\n"
     ]
    }
   ],
   "source": [
    "d2 = defaultdict(list)\n",
    "for i1 in range(1, 5):\n",
    "    v1 = quads[i1][0]\n",
    "    gen1 = sum(v1[i]*monos2[i] for i in range(15))\n",
    "    print(gen1)\n",
    "    pts21 = [x for x in S4 if gen1(*x) == 0]\n",
    "    pts31 = [x for x in S8 if gen1(*x) == 0]\n",
    "    pts41 = [x for x in S16 if gen1(*x) == 0]\n",
    "    b = []\n",
    "    for v in identity_matrix(F, 15).rows():\n",
    "        if Matrix([v1,v] + b).rank() > Matrix([v1] + b).rank():\n",
    "            b.append(v)\n",
    "    for v2 in Matrix(b).row_space():\n",
    "#        if all(v2[i] == 0 for i in range(8)):\n",
    "#            print(v2)\n",
    "        v2.set_immutable()\n",
    "        i2 = quads_lookup[v2]\n",
    "        v = v1+v2\n",
    "        v.set_immutable()\n",
    "        if i2 < i1 or quads_lookup[v] < i1:\n",
    "            continue\n",
    "        gen2 = sum(v2[i]*monos2[i] for i in range(15))\n",
    "        pts = [x for x in d[v1] if v2*coords2[x] == 0]\n",
    "        perp = Matrix([coords2[x] for x in pts])\n",
    "        target = vector(F(1) for x in pts)\n",
    "        try:\n",
    "            v3 = perp.solve_right(target)\n",
    "        except ValueError:\n",
    "            continue\n",
    "        W = perp.right_kernel()\n",
    "        b = []\n",
    "        for v in W.basis():\n",
    "            if Matrix([v1,v2,v] + b).rank() > Matrix([v1,v2] + b).rank():\n",
    "                b.append(v)\n",
    "        W = W.subspace(b)\n",
    "        pts2 = 0\n",
    "        pts3 = 0\n",
    "        pts4 = 0\n",
    "        for w in W:\n",
    "            tmp = [v3+w+v1*j1+v2*j2 for j1 in F for j2 in F]\n",
    "            for v in tmp:\n",
    "                v.set_immutable()\n",
    "            if any(quads_lookup[v] < i2 for v in tmp):\n",
    "                continue\n",
    "            if pts2 == 0:\n",
    "                pts2 = [x for x in pts21 if gen2(*x) == 0]\n",
    "            gen3 = sum((v3+w)[i]*monos2[i] for i in range(15))\n",
    "            s = 0\n",
    "            s2 = sum(1 for x in pts2 if gen3(*x) == 0)\n",
    "            if (s,s2) in targets2:\n",
    "                if pts3 == 0:\n",
    "                    pts3 = [x for x in pts31 if gen2(*x) == 0]\n",
    "                s3 = sum(1 for x in pts3 if gen3(*x) == 0)\n",
    "                if (s,s2,s3) in targets3:\n",
    "                    if pts4 == 0:\n",
    "                        pts4 = [x for x in pts41 if gen2(*x) == 0]\n",
    "                    s4 = sum(1 for x in pts4 if gen3(*x) == 0)\n",
    "                    if (s,s2,s3,s4) in targets4 and M not in d2[(s,s2,s3,s4)]:\n",
    "                        if len(d2[(s,s2,s3,s4)]) == 0:\n",
    "                            print(s,s2,s3,s4)\n",
    "                        M = Matrix([v1,v2,v3+w]).echelon_form()\n",
    "                        d2[(s,s2,s3,s4)].append(M)"
   ]
  },
  {
   "cell_type": "code",
   "execution_count": 195,
   "metadata": {},
   "outputs": [
    {
     "data": {
      "text/plain": [
       "{(0, 0, 9, 12): 1183, (0, 0, 12, 16): 56, (0, 4, 0, 16): 1177}"
      ]
     },
     "execution_count": 195,
     "metadata": {},
     "output_type": "execute_result"
    }
   ],
   "source": [
    "d3 = {}\n",
    "for s in targets4:\n",
    "    if s in d2:\n",
    "        d3[s] = [[sum(v[i]*monos2[i] for i in range(15)) for v in M.rows()] for M in d2[s]]\n",
    "{s: len(d3[s]) for s in d3}"
   ]
  },
  {
   "cell_type": "markdown",
   "metadata": {},
   "source": [
    "Use Magma to compute the full zeta functions of the resulting curves, and compare these to our targets."
   ]
  },
  {
   "cell_type": "code",
   "execution_count": 196,
   "metadata": {},
   "outputs": [
    {
     "name": "stdout",
     "output_type": "stream",
     "text": [
      "(0, 0, 9, 12, 50)\n",
      "(0, 0, 12, 16, 60)\n",
      "(0, 4, 0, 16, 20)\n"
     ]
    }
   ],
   "source": [
    "counts = defaultdict(list)\n",
    "proj = magma.ProjectiveSpace(P)\n",
    "for s in d3:\n",
    "    for gens in d3[s]:\n",
    "        X = proj.Scheme(gens)\n",
    "        if X.Dimension() != 1 or str(X.IsIrreducible()) == \"false\" or str(X.IsNonsingular()) == \"false\":\n",
    "            continue\n",
    "        C = X.Curve()\n",
    "        ct = tuple(Integer(C.NumberOfPlacesOfDegreeOneECF(i)) for i in range(1, 6))\n",
    "        if ct in targets and not counts[ct]:\n",
    "            print(ct)\n",
    "        counts[ct].append(gens)\n",
    "        if all(t in counts for t in targets if t[:3] == s):\n",
    "            break\n",
    "    for t in targets:\n",
    "        if t[:3] == s and t not in counts:\n",
    "             print(\"Counts not found: {}\".format(t))"
   ]
  },
  {
   "cell_type": "code",
   "execution_count": 197,
   "metadata": {},
   "outputs": [
    {
     "data": {
      "text/plain": [
       "{(0, 0, 9, 12, 50): 1,\n",
       " (0, 0, 12, 16, 60): 1,\n",
       " (0, 2, 6, 18, 30): 0,\n",
       " (0, 2, 3, 42, 30): 0,\n",
       " (0, 4, 0, 16, 20): 1,\n",
       " (0, 4, 0, 28, 25): 0,\n",
       " (0, 6, 0, 18, 25): 0,\n",
       " (1, 1, 1, 25, 1): 0}"
      ]
     },
     "execution_count": 197,
     "metadata": {},
     "output_type": "execute_result"
    }
   ],
   "source": [
    "{t: len(counts[t]) for t in targets}"
   ]
  },
  {
   "cell_type": "code",
   "execution_count": null,
   "metadata": {},
   "outputs": [],
   "source": [
    "print(\"All tests completed!\")"
   ]
  }
 ],
 "metadata": {
  "kernelspec": {
   "display_name": "SageMath 9.4",
   "language": "sage",
   "name": "sagemath"
  },
  "language_info": {
   "codemirror_mode": {
    "name": "ipython",
    "version": 3
   },
   "file_extension": ".py",
   "mimetype": "text/x-python",
   "name": "python",
   "nbconvert_exporter": "python",
   "pygments_lexer": "ipython3",
   "version": "3.9.5"
  }
 },
 "nbformat": 4,
 "nbformat_minor": 4
}
