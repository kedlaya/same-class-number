{
 "cells": [
  {
   "cell_type": "markdown",
   "id": "acfa3cfb",
   "metadata": {},
   "source": [
    "This notebook is associated with the paper \"The relative class number one problem for function fields, I\" by K.S. Kedlaya. It runs in SageMath (tested using version 9.5) and also depends on Magma (tested using version\n",
    "2.26-9).\n",
    "\n",
    "In this notebook, we run the exhaustion over Weil polynomials for $q=3$ and $q=4$, and compute all cyclic covers with relative class number 1. Equations for curves with a given Weil polynomial are taken from LMFDB."
   ]
  },
  {
   "cell_type": "code",
   "execution_count": 244,
   "id": "874c709a",
   "metadata": {},
   "outputs": [],
   "source": [
    "load(\"../Shared/weil_poly_utils.sage\")\n",
    "load(\"../Shared/cyclic_covers.sage\")\n",
    "from collections import defaultdict\n",
    "import re"
   ]
  },
  {
   "cell_type": "markdown",
   "id": "4df25597",
   "metadata": {},
   "source": [
    "Collect candidate Weil polynomials for $C$ based on $q,d,g,g'$."
   ]
  },
  {
   "cell_type": "code",
   "execution_count": 222,
   "id": "6e4d9204",
   "metadata": {},
   "outputs": [],
   "source": [
    "P.<T> = QQ[]"
   ]
  },
  {
   "cell_type": "code",
   "execution_count": 223,
   "id": "1b493e11",
   "metadata": {},
   "outputs": [],
   "source": [
    "candidates = {t: [] for t in [(3,2,2,3), (3,2,2,4), (3,2,3,5), \\\n",
    "                              (3,2,3,6), (3,2,4,7), (3,3,2,4), \\\n",
    "                              (4,2,2,3), (4,2,2,4), (4,2,3,5), (4,3,2,4)]}"
   ]
  },
  {
   "cell_type": "code",
   "execution_count": 224,
   "id": "0a7df803",
   "metadata": {},
   "outputs": [
    {
     "name": "stdout",
     "output_type": "stream",
     "text": [
      "Number of eligible Weil polynomials for (q,g) = (3, 2): 52\n",
      "Candidates for t = (3, 2, 2, 3): ['2.3.c_g', '2.3.b_e', '2.3.b_c', '2.3.a_g', '2.3.a_e', '2.3.a_c', '2.3.ab_e', '2.3.ab_c', '2.3.ab_a']\n",
      "Candidates for t = (3, 2, 2, 4): ['2.3.c_h', '2.3.c_g', '2.3.c_f']\n",
      "Candidates for t = (3, 3, 2, 4): ['2.3.c_g', '2.3.c_d']\n",
      "Number of eligible Weil polynomials for (q,g) = (3, 3): 556\n",
      "Candidates for t = (3, 2, 3, 5): ['3.3.c_j_m', '3.3.c_i_k', '3.3.c_h_m', '3.3.c_h_k', '3.3.c_h_i', '3.3.c_g_m', '3.3.c_g_k', '3.3.c_g_i']\n",
      "Candidates for t = (3, 2, 3, 6): []\n",
      "Number of eligible Weil polynomials for (q,g) = (3, 4): 9315\n",
      "Candidates for t = (3, 2, 4, 7): []\n",
      "Number of eligible Weil polynomials for (q,g) = (4, 2): 87\n",
      "Candidates for t = (4, 2, 2, 3): ['2.4.d_i', '2.4.b_g', '2.4.b_e', '2.4.b_c', '2.4.ab_g', '2.4.ab_e', '2.4.ab_c', '2.4.ab_a']\n",
      "Candidates for t = (4, 2, 2, 4): []\n",
      "Candidates for t = (4, 3, 2, 4): ['2.4.g_q', '2.4.f_m', '2.4.e_l', '2.4.e_i', '2.4.d_h', '2.4.d_e']\n",
      "Number of eligible Weil polynomials for (q,g) = (4, 3): 1459\n",
      "Candidates for t = (4, 2, 3, 5): ['3.4.d_m_y', '3.4.d_m_w', '3.4.d_m_u']\n"
     ]
    }
   ],
   "source": [
    "for q in [3,4]:\n",
    "    for g in [2,3,4]:\n",
    "        tmp = [s for s in candidates if s[0] == q and s[2] == g]\n",
    "        if not tmp:\n",
    "            continue\n",
    "        l = P.weil_polynomials(q=q,d=2*g)\n",
    "        # Check resultant criterion.\n",
    "        l = [u for u in l if not _nojac_serre(u, q=q)]\n",
    "        # Check positivity for q^3-points.\n",
    "        l = [u for u in l if check_curve_positivity(u, 3, q=q)]\n",
    "        print('Number of eligible Weil polynomials for (q,g) = {}: {}'.format((q,g), len(l)))\n",
    "        for s in tmp:\n",
    "            d = s[1]\n",
    "            g1 = s[3]\n",
    "            delta = g1 - g - (d-1)*(g-1)\n",
    "            if delta == 0:\n",
    "                t = 0\n",
    "            elif delta == 1 and d == 2 and q == 3:\n",
    "                t = 2\n",
    "            elif delta == 1 and d == 2 and q == 4:\n",
    "                t = 1\n",
    "            else:\n",
    "                raise ValueError\n",
    "            for u in l:\n",
    "                tmp2 = point_count_from_weil_poly(u, 3, q=q)\n",
    "                # Check (5.3) for i=1.\n",
    "                if not (tmp2[0] >= q*(g1-g)):\n",
    "                    continue\n",
    "                # Check (7.6) for i=1.\n",
    "                if d == 2 and not (tmp2[1] >= 2*tmp2[0] + q*(q-2)*(g1-g) - t):\n",
    "                    continue\n",
    "                # Check (7.5).\n",
    "                if delta == 0 and not (u(1)%d == 0):\n",
    "                    continue\n",
    "                # Check (7.2).\n",
    "                if q == 4 and d == 2 and not all(u[i]%2 == 0 for i in range(2, g+1)):\n",
    "                    continue\n",
    "                if q == 3 and d == 3 and not all(u[i]%3 == 0 for i in range(2, g+1)):\n",
    "                    continue\n",
    "                candidates[s].append(label_from_weil_poly(u))\n",
    "            print(\"Candidates for t = {}: {}\".format(s, candidates[s]))"
   ]
  },
  {
   "cell_type": "markdown",
   "id": "f393ef99",
   "metadata": {},
   "source": [
    "Tabulate curves with a given Weil polynomial from LMFDB."
   ]
  },
  {
   "cell_type": "code",
   "execution_count": 225,
   "id": "0b7b693c",
   "metadata": {},
   "outputs": [],
   "source": [
    "curves_by_poly = {}"
   ]
  },
  {
   "cell_type": "code",
   "execution_count": 234,
   "id": "df8adc18",
   "metadata": {},
   "outputs": [],
   "source": [
    "Q0.<w> = PolynomialRing(GF(3))\n",
    "curves_by_poly[3,2] = {\n",
    "    '2.3.ab_a': [2*w^6+w^4+2*w],\n",
    "    '2.3.ab_c': [w^6+w^5+2*w^3+w^2+w+2, 2*w^5+w^2+2*w],\n",
    "    '2.3.ab_e': [2*w^6+2*w^4+w^3+2*w^2+w],\n",
    "    '2.3.a_c': [w^5+w, w^6+w^5+2*w^3+w+2],\n",
    "    '2.3.a_e': [w^6+2*w^5+w+2],\n",
    "    '2.3.a_g': [],\n",
    "    '2.3.b_c': [2*w^6+2*w^5+w^3+2*w^2+2*w+1, w^5+2*w^2+w],\n",
    "    '2.3.b_e': [w^6+w^4+2*w^3+w^2+2*w],\n",
    "    '2.3.c_d': [w^6+w^4+2*w^3+2*w+1, w^6+w^5+2*w^4+2*w^2+w+1],\n",
    "    '2.3.c_f': [w^6+2*w^5+w^3+w^2+2*w+1],\n",
    "    '2.3.c_g': [w^5+2*w^4+w^3+2*w^2+w, w^6+w^5+2*w^4+2*w^3+2*w^2+w+1],\n",
    "    '2.3.c_h': [w^6+2*w^4+w^3+2*w^2+1]\n",
    "}"
   ]
  },
  {
   "cell_type": "code",
   "execution_count": 227,
   "id": "e2fa1dc8",
   "metadata": {},
   "outputs": [],
   "source": [
    "Q1.<x,y,z> = PolynomialRing(GF(3))\n",
    "curves_by_poly[3,3] = {\n",
    "    '3.3.c_g_i': [[2*w^8+2*w^7+w^5+w^3+w^2+2*w+1, \n",
    "                   w^8+2*w^7+2*w^5+w^4+2*w^3+2*w+1,\n",
    "                   w^8+2*w^7+2*w^5+2*w^3+w^2+w,\n",
    "                   w^8+w^7+w^4+2*w^3+w+1, \n",
    "                   w^7+2*w^6+w^5+2*w^3+2*w^2+2*w],\n",
    "                  [2*x^3*z+x^2*y^2+x*y*z^2+x*z^3+y^4, \n",
    "                   x^3*y+x^3*z+2*x^2*y^2+2*x^2*y*z+x*y^2*z+x*y*z^2+x*z^3+y^3*z,\n",
    "                   x^3*y+2*x^3*z+2*x^2*y^2+2*x*y^2*z+x*y*z^2+x*z^3+y^3*z, \n",
    "                   x^4+x^3*z+x^2*y^2+x*y^3+x*z^3+y^2*z^2,\n",
    "                   x^3*y+x^3*z+x^2*y^2+x^2*y*z+x^2*z^2+x*y^3+x*z^3+y^2*z^2]],\n",
    "    '3.3.c_g_k': [[], \n",
    "                  [x^4+2*x^2*y^2+x*y^2*z+x*y*z^2+x*z^3+y^3*z]],\n",
    "    '3.3.c_g_m': [[2*w^7+w^5+2*w^4+2*w^3+2*w^2+1,\n",
    "                   w^8+2*w^7+w^4+2*w],\n",
    "                  [x^3*y+x^3*z+2*x^2*z^2+x*y*z^2+x*z^3+y^4,\n",
    "                   x^3*y+x^2*y^2+x^2*z^2+2*x*y^2*z+x*z^3+y^3*z]],\n",
    "    '3.3.c_h_i': [[w^8+w^4+2],\n",
    "                  [2*x^4+2*x^3*y+x^3*z+2*x^2*y^2+x^2*y*z+x*y^2*z+x*y*z^2+x*z^3+y^3*z,\n",
    "                   x^4+2*x^3*z+2*x^2*y^2+2*x^2*y*z+2*x*y^2*z+x*y*z^2+x*z^3+y^3*z,\n",
    "                   x^3*y+x^3*z+2*x^2*y^2+2*x^2*z^2+x*y^3+x*z^3+y^2*z^2]],\n",
    "    '3.3.c_h_k': [[w^8+2*w^7+w^6+w^5+2*w^4+2*w^3+w^2+w+2], \n",
    "                  []],\n",
    "    '3.3.c_h_m': [[w^8+w^6+2, \n",
    "                   w^8+2*w^7+2*w^6+w^5+w^4+w^3+w^2+w+1], \n",
    "                  [x^4+x^3*z+x^2*z^2+x*y^2*z+x*z^3+y^4]],\n",
    "    '3.3.c_i_k': [[], \n",
    "                  [2*x^4+x^3*z+2*x^2*z^2+2*x*y^2*z+x*z^3+y^4,\n",
    "                   x^4+2*x^3*y+x^3*z+x*y^2*z+x*y*z^2+x*z^3+y^3*z]],\n",
    "    '3.3.c_j_m': [[], [2*x^4+x^3*y+x^3*z+x*y^3+x*z^3+y^2*z^2]]\n",
    "}"
   ]
  },
  {
   "cell_type": "code",
   "execution_count": 228,
   "id": "944862c2",
   "metadata": {},
   "outputs": [],
   "source": [
    "curves_by_poly[3,4] = {\n",
    "    '4.3.f_v_ca_eg': [[], []]\n",
    "}"
   ]
  },
  {
   "cell_type": "code",
   "execution_count": 240,
   "id": "e5244485",
   "metadata": {},
   "outputs": [],
   "source": [
    "K.<a> = GF(4)\n",
    "Q0.<w> = PolynomialRing(K)\n",
    "curves_by_poly[4,2] = {\n",
    "    '2.4.ab_a': [(w, w^5+a*w^3+w)],\n",
    "    '2.4.ab_c': [(w, a*w^5+a*w^2+w)],\n",
    "    '2.4.ab_e': [(w, w^5+w)],\n",
    "    '2.4.ab_g': [(w, a*w^5+a*w^3+a*w^2+w)],\n",
    "    '2.4.b_ab': [(w^3+a+1, a*w^6+(a+1)*w^4+a*w^3+a*w+a)],\n",
    "    '2.4.b_c': [(w, a*w^5+w), (w, (a+1)*w^5+w)],\n",
    "    '2.4.b_e': [(w, w^5+a*w^2+w)],\n",
    "    '2.4.b_f': [(w^3+w+1, w^3+w+1), (w^3+a, a*w^4+(a+1)*w)],\n",
    "    '2.4.b_g': [(w, a*w^5+a*w^3+w), (w, (a+1)*w^5+(a+1)*w^3+w)],\n",
    "    '2.4.c_d': [(w^2+w+a, a*w^5+(a+1)*w^4+w^3+(a+1)*w^2+(a+1)*w+a+1),\n",
    "                (w^2+w+a+1, (a+1)*w^5+(a+1)*w^4+w^3+(a+1)*w^2+a*w),\n",
    "                (w^2+w+a, a*w^5+a+1)],\n",
    "    '2.4.d_e': [],\n",
    "    '2.4.d_h': [(w^3+w+1, a*w^5+a*w^4+a*w^3+a*w), (w^3+w+1, a*w^5+a*w^4+(a+1)*w^3+(a+1)*w+1)],\n",
    "    '2.4.d_i': [(w, w^5+w^3+w)],\n",
    "    '2.4.e_i': [(Q0(1), w^5+w^4)],\n",
    "    '2.4.e_l': [(w^2+w+a+1, w^5+w^3+(a+1)*w^2+w+a), (w^2+w+a+1, w^5+(a+1)*w^4+w^3+w^2)],\n",
    "    '2.4.f_m': [],\n",
    "    '2.4.g_q': [],\n",
    "}"
   ]
  },
  {
   "cell_type": "code",
   "execution_count": 230,
   "id": "068829ed",
   "metadata": {},
   "outputs": [],
   "source": [
    "Q1.<x,y,z> = PolynomialRing(K)\n",
    "curves_by_poly[4,3] = {\n",
    "    '3.4.d_m_u': [[], [a*x^4+a*x^3*y+a*x^3*z+a*x^2*y^2+a*x^2*y*z+x^2*z^2+x*y*z^2+x*z^3+y^3*z,\n",
    "                  a^2*x^4+a^2*x^3*y+a^2*x^3*z+a^2*x^2*y^2+a^2*x^2*y*z+x^2*z^2+x*y*z^2+x*z^3+y^3*z,\n",
    "                  a^2*x^4+x^3*y+x^3*z+a*x^2*y*z+x*y^3+x*y^2*z+x*y*z^2+x*z^3+y^2*z^2,\n",
    "                  a*x^4+x^3*y+x^3*z+a^2*x^2*y*z+x*y^3+x*y^2*z+x*y*z^2+x*z^3+y^2*z^2]],\n",
    "    '3.4.d_m_w': [[], []],\n",
    "    '3.4.d_m_y': [[], [a^2*x^4+a*x^3*y+a*x^3*z+x^2*y*z+x*y^3+x*y^2*z+x*y*z^2+x*z^3+y^2*z^2,\n",
    "                  a*x^4+a^2*x^3*y+a^2*x^3*z+x^2*y*z+x*y^3+x*y^2*z+x*y*z^2+x*z^3+y^2*z^2]],    \n",
    "}"
   ]
  },
  {
   "cell_type": "markdown",
   "id": "e5742b48",
   "metadata": {},
   "source": [
    "Convert representations of curves to Magma function fields."
   ]
  },
  {
   "cell_type": "code",
   "execution_count": 231,
   "id": "d47a2a4d",
   "metadata": {},
   "outputs": [],
   "source": [
    "def function_fields_by_weil_poly(s):\n",
    "    l = s.split(\".\")\n",
    "    g = Integer(l[0])\n",
    "    q = Integer(l[1])\n",
    "    ans = []\n",
    "    # Hyperelliptics.\n",
    "    m = curves_by_poly[q,g][s] if g == 2 else curves_by_poly[q,g][s][0]\n",
    "    for u in m:\n",
    "        if q == 3:\n",
    "            u = [u]\n",
    "        yield magma.HyperellipticCurve(*reversed(u)).FunctionField().AlgorithmicFunctionField()\n",
    "    # Plane quartics for g=3.\n",
    "    if g == 3:\n",
    "        for u in curves_by_poly[q,g][s][1]:\n",
    "            proj = magma.ProjectiveSpace(u.parent())\n",
    "            yield proj.Scheme([u]).FunctionField().AlgorithmicFunctionField()\n",
    "    # Genus 4 curves.\n",
    "    if g == 4:\n",
    "        assert not curves_by_poly[q,g][s][1]"
   ]
  },
  {
   "cell_type": "markdown",
   "id": "3cf9fce1",
   "metadata": {},
   "source": [
    "Check the transcription by verifying that the Weil polynomials are correctly assigned."
   ]
  },
  {
   "cell_type": "code",
   "execution_count": 232,
   "id": "1db92dbd",
   "metadata": {},
   "outputs": [],
   "source": [
    "for (q,g) in curves_by_poly:\n",
    "    for s in curves_by_poly[q,g]:\n",
    "        for F in function_fields_by_weil_poly(s):\n",
    "            u = F.ZetaFunction().Numerator().sage()(T).reverse()\n",
    "            assert label_from_weil_poly(u) == s"
   ]
  },
  {
   "cell_type": "markdown",
   "id": "53bcd2bd",
   "metadata": {},
   "source": [
    "Exhaust over unramified abelian extensions of a Magma function field of a fixed prime degree to find instances of a particular relative Weil polynomial."
   ]
  },
  {
   "cell_type": "code",
   "execution_count": 265,
   "id": "4305e255",
   "metadata": {},
   "outputs": [
    {
     "name": "stdout",
     "output_type": "stream",
     "text": [
      "3 2 2 3\n",
      "3 2 2 4\n",
      "3 2 3 5\n",
      "3 2 3 6\n",
      "3 2 4 7\n",
      "3 3 2 4\n",
      "4 2 2 3\n",
      "4 2 2 4\n",
      "4 2 3 5\n",
      "4 3 2 4\n"
     ]
    }
   ],
   "source": [
    "covers_by_poly = defaultdict(dict)\n",
    "for (q,d,g,g1) in candidates:\n",
    "    print(q,d,g,g1)\n",
    "    for s in candidates[q,d,g,g1]:\n",
    "        for F in function_fields_by_weil_poly(s):\n",
    "            delta = g1-g-(d-1)*(g-1)\n",
    "            if q == 3 and d == 2:\n",
    "                delta *= 2\n",
    "            tmp = match_weil_poly(F, d, delta=delta, q=q)\n",
    "            if tmp:\n",
    "                if s not in covers_by_poly[q,g,g,g1]:\n",
    "                    covers_by_poly[q,d,g,g1][s] = []\n",
    "                covers_by_poly[q,d,g,g1][s] += tmp"
   ]
  },
  {
   "cell_type": "markdown",
   "id": "c7db31be",
   "metadata": {},
   "source": [
    "Generate a LaTeX-formatted table of results."
   ]
  },
  {
   "cell_type": "code",
   "execution_count": 270,
   "id": "684b8111",
   "metadata": {},
   "outputs": [
    {
     "name": "stdout",
     "output_type": "stream",
     "text": [
      "\\begin{tabular}{c|c|c|c|c|l}\n",
      "$q_F$ & $d$ & $g_F$ & $g_{F'}$ & $J(C)$ & $F$ \\\\\n",
      "\\hline\n",
      "$3$ & $2$ & $2$ & $3$ & $\\avlink{2.3.ab\\_c}$ & $y^{2} + x^{5} + 2 x^{2} + x$ \\\\\n",
      "$3$ & $2$ & $2$ & $3$ & $\\avlink{2.3.ab\\_e}$ & $y^{2} + x^{6} + x^{4} + 2 x^{3} + x^{2} + 2 x$ \\\\\n",
      "$3$ & $2$ & $2$ & $3$ & $\\avlink{2.3.b\\_c}$ & $y^{2} + 2 x^{5} + x^{2} + 2 x$ \\\\\n",
      "$3$ & $2$ & $2$ & $3$ & $\\avlink{2.3.b\\_e}$ & $y^{2} + 2 x^{6} + 2 x^{4} + x^{3} + 2 x^{2} + x$ \\\\\n",
      "\\hline\n",
      "$3$ & $2$ & $2$ & $4$ & $\\avlink{2.3.c\\_h}$ & $y^{2} + 2 x^{6} + x^{4} + 2 x^{3} + x^{2} + 2$ \\\\\n",
      "\\hline\n",
      "$3$ & $2$ & $3$ & $5$ & $\\avlink{3.3.c\\_g\\_i}$ & $y^{2} + 2 x^{8} + x^{7} + x^{5} + x^{3} + 2 x^{2} + 2 x$ \\\\\n",
      "$3$ & $2$ & $3$ & $5$ & $\\avlink{3.3.c\\_g\\_m}$ & $y^{2} + x^{7} + 2 x^{5} + x^{4} + x^{3} + x^{2} + 2$ \\\\\n",
      "\\hline\n",
      "$3$ & $3$ & $2$ & $4$ & $\\avlink{2.3.c\\_d}$ & $y^{2} + 2 x^{6} + 2 x^{4} + x^{3} + x + 2$ \\\\\n",
      "$3$ & $3$ & $2$ & $4$ & $\\avlink{2.3.c\\_g}$ & $y^{2} + 2 x^{6} + 2 x^{5} + x^{4} + x^{3} + x^{2} + 2 x + 2$ \\\\\n",
      "\\hline\n",
      "\\hline\n",
      "$4$ & $2$ & $2$ & $3$ & $\\avlink{2.4.ab\\_e}$ & $y^{2} + x y + x^{5} + x$ \\\\\n",
      "$4$ & $2$ & $2$ & $3$ & $\\avlink{2.4.b\\_e}$ & $y^{2} + x y + x^{5} + a x^{2} + x$ \\\\\n",
      "\\hline\n",
      "$4$ & $3$ & $2$ & $4$ & $\\avlink{2.4.d\\_h}$ & $y^{2} + \\left(x^{3} + x + 1\\right) y + a x^{5} + a x^{4} + a x^{3} + a x$ \\\\\n",
      "\\end{tabular}\n"
     ]
    }
   ],
   "source": [
    "print(r'\\begin{tabular}{c|c|c|c|c|l}')\n",
    "print(r\"$q_F$ & $d$ & $g_F$ & $g_{F'}$ & $J(C)$ & $F$ \\\\\")\n",
    "for (q,d,g,g1) in sorted(candidates.keys()):\n",
    "    if not covers_by_poly[q,d,g,g1]:\n",
    "        continue\n",
    "    if (q,d,g,g1) == (4,2,2,3):\n",
    "        print(r'\\hline')\n",
    "    print(r'\\hline')\n",
    "    for s in sorted(covers_by_poly[q,d,g,g1]):\n",
    "        s1 = r\"\\avlink{{{}}}\".format(s)\n",
    "        for (F, _) in covers_by_poly[q,d,g,g1][s]:\n",
    "            F1 = F.RationalExtensionRepresentation()\n",
    "            u = F1.DefiningPolynomial().sage()\n",
    "            P0 = PolynomialRing(u.base_ring().base_ring(), names='x')\n",
    "            u1 = u.change_ring(P0)\n",
    "            u2 = PolynomialRing(u1.base_ring(), names='y')(u1)\n",
    "            print(r'${}$ & ${}$ & ${}$ & ${}$ & ${}$ & ${}$ \\\\'.format(q, d, g, g1, \n",
    "                                                        re.sub('_', r'\\_', s1),\n",
    "                                                        latex(u2)))\n",
    "print(r'\\end{tabular}')"
   ]
  }
 ],
 "metadata": {
  "kernelspec": {
   "display_name": "SageMath 9.5",
   "language": "sage",
   "name": "sagemath"
  },
  "language_info": {
   "codemirror_mode": {
    "name": "ipython",
    "version": 3
   },
   "file_extension": ".py",
   "mimetype": "text/x-python",
   "name": "python",
   "nbconvert_exporter": "python",
   "pygments_lexer": "ipython3",
   "version": "3.9.7"
  }
 },
 "nbformat": 4,
 "nbformat_minor": 5
}
