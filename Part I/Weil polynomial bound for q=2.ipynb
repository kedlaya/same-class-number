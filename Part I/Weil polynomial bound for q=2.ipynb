{
 "cells": [
  {
   "cell_type": "markdown",
   "id": "200db950",
   "metadata": {},
   "source": [
    "This notebook is associated with the paper \"The relative class number one problem for function fields, I\" by K.S. Kedlaya. It runs in SageMath (tested using version 9.5rc2); it also requires the pandas and openpyxl libraries (`sage --pip install openpyxl/pandas`).\n",
    "\n",
    "In this notebook, we run the exhaustion over Weil polynomials for $q=2$; this requires the input file `genus5byweilpoly.txt` produced by `Genus 5 data.ipynb`. Allow 1 hours for completion."
   ]
  },
  {
   "cell_type": "code",
   "execution_count": 1,
   "id": "99fd6340",
   "metadata": {},
   "outputs": [],
   "source": [
    "load(\"../Shared/weil_poly_utils.sage\")"
   ]
  },
  {
   "cell_type": "markdown",
   "id": "fa313762",
   "metadata": {},
   "source": [
    "# Setup"
   ]
  },
  {
   "cell_type": "markdown",
   "id": "57290093",
   "metadata": {},
   "source": [
    "Bounds on rational points on curves over $\\mathbb{F}_2$ and $\\mathbb{F}_4$."
   ]
  },
  {
   "cell_type": "code",
   "execution_count": 2,
   "id": "171b96ce",
   "metadata": {},
   "outputs": [],
   "source": [
    "point_count_bounds = [(3,5), (5,9), (6,10), (7,14), (8,15), (9, 17), \\\n",
    "                      (10, 20), (10, 21), (11, 23), (12, 26), (13, 27)]"
   ]
  },
  {
   "cell_type": "markdown",
   "id": "9304b641",
   "metadata": {},
   "source": [
    "Table of Weil polynomials of simple abelian varieties of order 1 and dimension at most 6, taken from LMFDB."
   ]
  },
  {
   "cell_type": "code",
   "execution_count": 3,
   "id": "b3f97901",
   "metadata": {},
   "outputs": [],
   "source": [
    "P.<T> = QQ[]\n",
    "simple_poly = {'1.2.ac': T^2 - 2*T + 2,\n",
    "               '2.2.a_ae': T^4 - 4*T^2 + 4,\n",
    "               '2.2.ad_f': T^4 - 3*T^3 + 5*T^2 - 6*T + 4,\n",
    "               '2.2.ac_c': T^4 - 2*T^3 + 2*T^2 - 4*T + 4,\n",
    "               '2.2.ab_ab': T^4 - T^3 - T^2 - 2*T + 4,\n",
    "               '3.2.ad_c_b': T^6 - 3*T^5 + 2*T^4 + T^3 + 4*T^2 - 12*T + 8,\n",
    "               '3.2.ae_j_ap': T^6 - 4*T^5 + 9*T^4 - 15*T^3 + 18*T^2 - 16*T + 8,\n",
    "               '4.2.af_m_au_bd': T^8 - 5*T^7 + 12*T^6 - 20*T^5 + 29*T^4 - 40*T^3 + 48*T^2 - 40*T + 16,\n",
    "               '4.2.ae_g_ae_c': T^8 - 4*T^7 + 6*T^6 - 4*T^5 + 2*T^4 - 8*T^3 + 24*T^2 - 32*T + 16,\n",
    "               '4.2.ad_c_a_b': T^8 - 3*T^7 + 2*T^6 + T^4 + 8*T^2 - 24*T + 16,\n",
    "               '4.2.ae_f_c_al': T^8 - 4*T^7 + 5*T^6 + 2*T^5 - 11*T^4 + 4*T^3 + 20*T^2 - 32*T + 16,\n",
    "               '4.2.ae_e_h_av': T^8 - 4*T^7 + 4*T^6 + 7*T^5 - 21*T^4 + 14*T^3 + 16*T^2 - 32*T + 16,\n",
    "               '4.2.af_n_az_bn': T^8 - 5*T^7 + 13*T^6 - 25*T^5 + 39*T^4 - 50*T^3 + 52*T^2 - 40*T + 16,\n",
    "               '6.2.ag_p_av_y_abn_cn': T^12 - 6*T^11 + 15*T^10 - 21*T^9 + 24*T^8 - 39*T^7 + 65*T^6 - 78*T^5 + 96*T^4 - 168*T^3 + 240*T^2 - 192*T + 64,\n",
    "               '6.2.af_j_ah_d_ab_ab': T^12 - 5*T^11 + 9*T^10 - 7*T^9 + 3*T^8 - T^7 - T^6 - 2*T^5 + 12*T^4 - 56*T^3 + 144*T^2 - 160*T + 64,\n",
    "               '6.2.ag_p_at_g_bb_acj': T^12 - 6*T^11 + 15*T^10 - 19*T^9 + 6*T^8 + 27*T^7 - 61*T^6 + 54*T^5 + 24*T^4 - 152*T^3 + 240*T^2 - 192*T + 64\n",
    "              }"
   ]
  },
  {
   "cell_type": "markdown",
   "id": "9fbdf316",
   "metadata": {},
   "source": [
    "Generate Weil polynomials corresponding to simple abelian varieties of order 1 of larger dimension."
   ]
  },
  {
   "cell_type": "code",
   "execution_count": 4,
   "id": "fea11717",
   "metadata": {},
   "outputs": [],
   "source": [
    "def generate_poly(n):\n",
    "    P.<alpha,eta> = QQ[]\n",
    "    u = alpha^2 + (eta-1)*alpha - 2*eta\n",
    "    v = cyclotomic_polynomial(n)(eta)\n",
    "    w = u.resultant(v, eta)\n",
    "    Q.<T> = QQ[]\n",
    "    return w(T, 0)"
   ]
  },
  {
   "cell_type": "code",
   "execution_count": 5,
   "id": "4c86801c",
   "metadata": {},
   "outputs": [],
   "source": [
    "simple_pols = {g: [u for u in simple_poly.values() if u.degree() == 2*g] for g in range(1, 7)}"
   ]
  },
  {
   "cell_type": "code",
   "execution_count": 6,
   "id": "297745e6",
   "metadata": {},
   "outputs": [],
   "source": [
    "for n in range(1, 500):\n",
    "    t = euler_phi(n)\n",
    "    if t >= 8 and t <= 18 and n != 30:\n",
    "        if t not in simple_pols:\n",
    "            simple_pols[t] = []\n",
    "        simple_pols[t].append(generate_poly(n)(T))"
   ]
  },
  {
   "cell_type": "markdown",
   "id": "6fbf2fb6",
   "metadata": {},
   "source": [
    "Generate Weil polynomials corresponding to arbitrary abelian varieties of order 1."
   ]
  },
  {
   "cell_type": "code",
   "execution_count": 7,
   "id": "c3c0a7da",
   "metadata": {},
   "outputs": [],
   "source": [
    "pols = {}\n",
    "l = list(simple_pols.keys())\n",
    "temp = []\n",
    "degs = []\n",
    "for i in l:\n",
    "    temp += simple_pols[i]\n",
    "    degs += [i] * len(simple_pols[i])\n",
    "for g in range(1,17):\n",
    "    vects = WeightedIntegerVectors(g, degs)\n",
    "    pols[g] = [prod(temp[i]**v[i] for i in range(len(v))) for v in vects]\n",
    "assert all(u.degree() == 2*g for g in simple_pols for u in simple_pols[g])"
   ]
  },
  {
   "cell_type": "code",
   "execution_count": 8,
   "id": "16602b24",
   "metadata": {},
   "outputs": [],
   "source": [
    "P.<T> = QQ[]\n",
    "Q.<U,V> = QQ[]\n",
    "pols_extended = {}\n",
    "for m in range(2,3):\n",
    "    for i in range(1,7):\n",
    "        pols_extended[i,m] = [(u(U).resultant(U^m-V))(0,T) for u in pols[i]]"
   ]
  },
  {
   "cell_type": "markdown",
   "id": "9cb21cd0",
   "metadata": {},
   "source": [
    "Generate Weil polynomials with specified dimension and point counts over $\\mathbb{F}_2$ and $\\mathbb{F}_4$,\n",
    "then filter for positivity and the resultant criterion."
   ]
  },
  {
   "cell_type": "code",
   "execution_count": 9,
   "id": "a89cbeb2",
   "metadata": {},
   "outputs": [],
   "source": [
    "weil_polys_by_counts = {}\n",
    "\n",
    "def generate_weil_polys_by_counts(g, i, j):\n",
    "    if (i-j)%2:\n",
    "        return []\n",
    "    if (g, i, j) not in weil_polys_by_counts:\n",
    "        P.<T> = QQ[]\n",
    "        Q.<t> = PowerSeriesRing(QQ)\n",
    "        v = i*t + j*t^2/2\n",
    "        u = (exp(v)*(1-t)*(1-2*t)).list()\n",
    "        if g == 1:\n",
    "            if u[2] != 2:\n",
    "                l = []\n",
    "            else:\n",
    "                l = P.weil_polynomials(q=2,d=2*g,lead=[ZZ(_) for _ in u[:2]])\n",
    "        else:\n",
    "            l = P.weil_polynomials(q=2,d=2*g,lead=[ZZ(_) for _ in u[:3]])\n",
    "        weil_polys_by_counts[g, i, j] = []\n",
    "        for w in l:\n",
    "            if check_curve_positivity(w, 8) and not _nojac_serre(w):\n",
    "                weil_polys_by_counts[g, i, j].append(w)\n",
    "    return weil_polys_by_counts[g, i, j]"
   ]
  },
  {
   "cell_type": "markdown",
   "id": "66f1d1f0",
   "metadata": {},
   "source": [
    "Exhaust over Weil polynomials based on the bounds on $\\#C(\\mathbb{F}_2)$ and $\\#C(\\mathbb{F}_4)$. If $d$ is specified, we add extra constraints based on the value of $d$. Additional optional arguments:\n",
    "- `hyperelliptic`: assume that $C'$ is hyperelliptic (only relevant if $d=2$).\n",
    "- `verbose`: print additional internal data.\n",
    "- `blocklist`: if not None, must be a dictionary in which `blocklist[d]` is a list of Weil polynomials known not to occur for Jacobians of curves of genus `d`. (The similar term \"blacklist\" is deprecated for social justice reasons.)\n",
    "- `real`: if True, returns real Weil polynomials instead of ordinary Weil polynomials (for shorter output).\n",
    "- `update`: if True, updates `candidate_polys` as a side effect.\n",
    "- `easy`: if True, uses only the \"easy\" criteria."
   ]
  },
  {
   "cell_type": "code",
   "execution_count": 10,
   "id": "b54cd480",
   "metadata": {},
   "outputs": [],
   "source": [
    "candidate_polys = {}"
   ]
  },
  {
   "cell_type": "code",
   "execution_count": 51,
   "id": "167c07dd",
   "metadata": {},
   "outputs": [],
   "source": [
    "def count_bounds(g,g1,d=None,hyperelliptic=False,verbose=False,\n",
    "                 blocklist=None,real=False,update=False,easy=False):\n",
    "    # Identify L-polynomials for A with suitably small point counts and excess.\n",
    "    delta = g1 - d*g + d-1 if d else None\n",
    "    bound1 = 6 if (d==2 and hyperelliptic) else point_count_bounds[g][0]\n",
    "    bound2 = 10 if (d==2 and hyperelliptic) else point_count_bounds[g][1]\n",
    "    pols2 = []\n",
    "    for u1 in pols[g1-g]:\n",
    "        tmp = trace_from_weil_poly(u1, 4)\n",
    "        c = tmp[0]+tmp[1]-delta if d == 2 else tmp[1]-tmp[0]\n",
    "        if tmp[0] <= bound1 and c+tmp[0] <= bound2 and \\\n",
    "            (tmp[0] + 0.3366*c + 0.1137*(tmp[2]-tmp[0]) + 0.0537*(tmp[3]-tmp[1]) <= 0.8042*g + 5.619):\n",
    "            pols2.append(u1)\n",
    "    if verbose:\n",
    "        print('Number of polynomials for A: {}'.format(len(pols2)))\n",
    "    if not pols2:\n",
    "        return {}\n",
    "    # Identify possible first two point counts for C.\n",
    "    l = {}\n",
    "    for u1 in pols2:\n",
    "        tmp = trace_from_weil_poly(u1, 4)\n",
    "        if d == 2 and not hyperelliptic:\n",
    "            tmp2 = min(bound1, tmp[0] + delta)\n",
    "        else:\n",
    "            tmp2 = bound1\n",
    "        for i in range(tmp[0], tmp2+1):\n",
    "            for j in range(2*tmp[0]+tmp[1]-delta if d == 2 else tmp[0], bound2+1):\n",
    "                if (i-j) % 2 == 0:\n",
    "                    l[i,j] = []\n",
    "    if verbose:\n",
    "        print(l)\n",
    "    # Compile L-polynomials for C, sorted by their first two point counts.\n",
    "    for (i,j) in l:\n",
    "        l[i,j] = generate_weil_polys_by_counts(g, i, j)\n",
    "    # If d=2 and delta=0, filter for required divisibility in #J(C)(F_2).\n",
    "    if d == 2 and delta==0:\n",
    "        l = {(i,j): [u for u in l[i,j] if u(1)%2 == 0] for (i,j) in l}\n",
    "    l = {(i,j): l[i,j] for (i,j) in l if l[i,j]}    \n",
    "    if verbose:\n",
    "        print('Number of polynomials for C: {}'.format(sum(len(l[i,j]) for (i,j) in l)))\n",
    "    if not l:\n",
    "        return {}\n",
    "    # For each possible Weil polynomial for C, run over choices for A to check:\n",
    "    # - the appropriate numerical bounds on point counts of C and C';\n",
    "    # - positivity and the Serre resultant condition for C';\n",
    "    # - if delta=1, C'(F_2) >= 1; if delta=2, C'(F_4) >= 1;\n",
    "    # - if d=2, #J(C)(F_2) is even;\n",
    "    # - if d=2, the Deuring-Shafarevich formula;\n",
    "    # - if d=2, positivity and the resultant condition for the relative quadratic twist.\n",
    "    # - if d=3, either #J(C)(F_2) is even or #J(C)(F_4) is divisible by 3.\n",
    "    traces = {u1: trace_from_weil_poly(u1, 12) for u1 in pols2}\n",
    "    l2 = {}\n",
    "    for (i,j) in l:\n",
    "        for u in l[i,j]:\n",
    "            if blocklist and ((g in blocklist and u in blocklist[g]) or _nojac_serre(u, blocklist=blocklist)):\n",
    "                continue\n",
    "            u_real = prod(f for (f, _) in u.trace_polynomial()[0].factor())\n",
    "            tmp = point_count_from_weil_poly(u, 12)\n",
    "            tmp3 = []\n",
    "            for u1 in pols2:\n",
    "                u1_real = prod(f for (f, _) in u1.trace_polynomial()[0].factor())\n",
    "                tmp2 = [tmp[i] - traces[u1][i] for i in range(12)]\n",
    "                # Early abort (based on positivity) using i and j.\n",
    "                if not (i >= traces[u1][0] and j >= traces[u1][1]):\n",
    "                    continue\n",
    "                # Early abort for d=2.\n",
    "                if d == 2 and not (j >= 2*traces[u1][0] + traces[u1][1] - delta):\n",
    "                    continue\n",
    "                # Check positivity and the resultant condition.\n",
    "                v  = u*u1\n",
    "                if (not check_curve_positivity(v, 12)) or _nojac_serre(v, blocklist=blocklist):\n",
    "                    continue\n",
    "                # Check C against the blocklist.\n",
    "                if blocklist and g1 in blocklist and v in blocklist[g1]:\n",
    "                    continue\n",
    "                # Check condition depending on delta.        \n",
    "                if delta == 1:\n",
    "                    if not (tmp2[0] >= 1):\n",
    "                        continue\n",
    "                elif not easy and delta == 2:\n",
    "                    if not (tmp2[1] >= 1):\n",
    "                        continue\n",
    "                # Check resultant condition for a degree-d cover.\n",
    "                if not easy and d and gcd(d, modified_reduced_resultant(u_real, u1_real)) == 1:\n",
    "                    continue\n",
    "                # Check conditions depending on d.\n",
    "                if d == 2:\n",
    "                    # Parity constraint.\n",
    "                    if delta == 0 and u(1)%2:\n",
    "                        continue\n",
    "                    # Deuring-Shafarevich constraints.\n",
    "                    ds_ram = v.newton_slopes(2).count(0) - 2*u.newton_slopes(2).count(0)+1\n",
    "                    if not (ds_ram in ([delta] if delta in [0,1] else range(1,delta+1))):\n",
    "                        continue\n",
    "                    if not all(tmp2[2*i-1] >= 2*tmp[i-1]-ds_ram for i in range(1,4)):\n",
    "                        continue\n",
    "                    if not easy and ds_ram == 1 and not (tmp2[0] >= 1):\n",
    "                        continue\n",
    "                    if not easy and ds_ram == 2 and not (tmp2[1] >= 2):\n",
    "                        continue\n",
    "                    # Upper bound on #C'(F_2) based on delta when C' is not hyperelliptic.\n",
    "                    if not easy and not (hyperelliptic or (tmp2[0] in range(delta+1))):\n",
    "                        continue\n",
    "                    # Positivity and the resultant criterion for the relative quadratic twist.\n",
    "                    v2 = u*u1(-u1.parent().gen())\n",
    "                    if not easy and ((not check_curve_positivity(v2, 12)) or _nojac_serre(v2, blocklist=blocklist)):\n",
    "                        continue\n",
    "                    # Check C' against the blocklist.\n",
    "                    if not easy and blocklist and g1 in blocklist and v2 in blocklist[g1]:\n",
    "                        continue\n",
    "                    # If t <= 2, parity condition on odd-degree point counts.\n",
    "                    if not easy and ds_ram <= 2 and not all((tmp2[i] - tmp2[0])%2 == 0 for i in range(2, 12, 2)):\n",
    "                        continue\n",
    "                    if not easy and ds_ram <= 2 and tmp2[2] - tmp2[0] > 2*(tmp[2] - tmp[0]):\n",
    "                        continue\n",
    "                if d == 3:\n",
    "                    if not (tmp[2] >= tmp[0] + 2*traces[u1][0] + traces[u1][2] and \\\n",
    "                            tmp[5] >= tmp[1] + 2*traces[u1][1] + traces[u1][5]):\n",
    "                        continue\n",
    "                    if delta == 2 and not (tmp2[1] >= 2):\n",
    "                        continue\n",
    "                    if not easy and delta == 0 and not (u(1)%3 == 0 or u(-1)%3 == 0 or u(1)%2 == 0):\n",
    "                        continue\n",
    "                if d == 4:\n",
    "                    if not (tmp[3] >= 4*traces[u1][0]  + traces[u1][3] - 2*delta):\n",
    "                        continue\n",
    "                # Record this candidate.\n",
    "                if verbose:\n",
    "                    print(tmp, point_count_from_weil_poly(v, 12), v(1))\n",
    "                tmp3.append(u1)\n",
    "            if tmp3:\n",
    "                if real:\n",
    "                    l2[label_from_weil_poly(u)] = (u.trace_polynomial()[0], [v.trace_polynomial()[0] for v in tmp3])\n",
    "                else:\n",
    "                    l2[label_from_weil_poly(u)] = (u, tmp3)\n",
    "    if update:\n",
    "        if (d, g, g1) not in candidate_polys:\n",
    "            candidate_polys[d, g, g1] = []\n",
    "        for s in l2:\n",
    "            (u, tmp) = l2[s]\n",
    "            for v in tmp:\n",
    "                if (u,v) not in candidate_polys[d, g, g1]:\n",
    "                    candidate_polys[d, g, g1].append((u,v))\n",
    "    return(l2)"
   ]
  },
  {
   "cell_type": "markdown",
   "id": "044f104e",
   "metadata": {},
   "source": [
    "# Excluded Weil polynomials"
   ]
  },
  {
   "cell_type": "markdown",
   "id": "b80f4532",
   "metadata": {},
   "source": [
    "Define a \"blocklist\" of Weil polynomials which are known not to occur for Jacobians (based on LMFDB)."
   ]
  },
  {
   "cell_type": "code",
   "execution_count": 45,
   "id": "b07639f5",
   "metadata": {},
   "outputs": [],
   "source": [
    "not_jac = {\n",
    "    1: [],\n",
    "    2: [T^4 - 4*T^3 + 8*T^2 - 8*T + 4],\n",
    "    3: [T^6 - T^5 + T^4 - 2*T^3 + 2*T^2 - 4*T + 8,\n",
    "        T^6 - 2*T^5 + 2*T^4 + 4*T^2 - 8*T + 8],\n",
    "    4: [T^8 - 3*T^7 + 2*T^6 + 6*T^5 - 16*T^4 + 12*T^3 + 8*T^2 - 24*T + 16,\n",
    "        T^8 - 3*T^7 + 4*T^6 + 2*T^5 - 8*T^4 + 4*T^3 + 16*T^2 - 24*T + 16,\n",
    "        T^8 - 2*T^7 + 4*T^5 - 8*T^4 + 8*T^3 - 16*T + 16,\n",
    "        T^8 - 2*T^7 + 3*T^6 - 5*T^5 + 6*T^4 - 10*T^3 + 12*T^2 - 16*T + 16,\n",
    "        T^8 + 3*T^7 + 5*T^6 + 9*T^5 + 16*T^4 + 18*T^3 + 20*T^2 + 24*T + 16,\n",
    "        T^8 + 3*T^7 + 6*T^6 + 12*T^5 + 20*T^4 + 24*T^3 + 24*T^2 + 24*T + 16,\n",
    "        T^8 - 3*T^7 + 6*T^6 - 12*T^5 + 20*T^4 - 24*T^3 + 24*T^2 - 24*T + 16,\n",
    "        T^8 + T^7 + 2*T^6 + 4*T^5 + 8*T^4 + 8*T^3 + 8*T^2 + 8*T + 16,\n",
    "        T^8 + T^7 + 2*T^6 + 4*T^5 + 6*T^4 + 8*T^3 + 8*T^2 + 8*T + 16,\n",
    "        T^8 + 4*T^6 + 11*T^4 + 16*T^2 + 16,\n",
    "        T^8 + 4*T^6 + 9*T^4 + 16*T^2 + 16,\n",
    "        T^8 + 4*T^6 - T^5 + 10*T^4 - 2*T^3 + 16*T^2 + 16],\n",
    "    5: [],\n",
    "    6: [],\n",
    "    7: [],\n",
    "    8: [],\n",
    "    9: []\n",
    "}"
   ]
  },
  {
   "cell_type": "markdown",
   "id": "2aef7092",
   "metadata": {},
   "source": [
    "Add genus 5 data from Dragutinović to the blocklist."
   ]
  },
  {
   "cell_type": "code",
   "execution_count": 13,
   "id": "113d742e",
   "metadata": {
    "scrolled": true
   },
   "outputs": [
    {
     "data": {
      "text/plain": [
       "4088"
      ]
     },
     "execution_count": 13,
     "metadata": {},
     "output_type": "execute_result"
    }
   ],
   "source": [
    "with open(\"genus5byweilpoly.txt\", \"r\") as f:\n",
    "    s = f.read()\n",
    "tmp0.<x> = GF(2)[]\n",
    "tmp1.<x0,x1,x2,x3,x4> = GF(2)[]\n",
    "tmp = sage_eval(s, locals={'T': P.gen(), 'x':tmp0.gen(), 'x0': tmp1.gens()[0],'x1': tmp1.gens()[0], \n",
    "                           'x2': tmp1.gens()[0], 'x3': tmp1.gens()[0],  'x4': tmp1.gens()[0]})\n",
    "not_jac[5] = [u for u in P.weil_polynomials(10, 2) if check_curve_positivity(u, 5) and not _nojac_serre(u) and u not in tmp]\n",
    "len(not_jac[5])"
   ]
  },
  {
   "cell_type": "markdown",
   "id": "6f9a93f7",
   "metadata": {},
   "source": [
    "# Exhaustion over Weil polynomials (section 6)"
   ]
  },
  {
   "cell_type": "markdown",
   "id": "6d362f74",
   "metadata": {},
   "source": [
    "Run the exhaustion over Weil polynomials in some cases that yield no results."
   ]
  },
  {
   "cell_type": "code",
   "execution_count": 15,
   "id": "52bfb950",
   "metadata": {},
   "outputs": [],
   "source": [
    "assert not count_bounds(6, 17, easy=True)"
   ]
  },
  {
   "cell_type": "code",
   "execution_count": 16,
   "id": "d44d334f",
   "metadata": {},
   "outputs": [],
   "source": [
    "assert not count_bounds(5, 15, easy=True)"
   ]
  },
  {
   "cell_type": "code",
   "execution_count": 17,
   "id": "1c50d5ec",
   "metadata": {},
   "outputs": [],
   "source": [
    "assert not count_bounds(4, 13, easy=True)"
   ]
  },
  {
   "cell_type": "code",
   "execution_count": 18,
   "id": "f4725b68",
   "metadata": {},
   "outputs": [],
   "source": [
    "assert not count_bounds(3, 11, easy=True)"
   ]
  },
  {
   "cell_type": "code",
   "execution_count": 19,
   "id": "64b48446",
   "metadata": {},
   "outputs": [],
   "source": [
    "assert not count_bounds(2, 9, easy=True)"
   ]
  },
  {
   "cell_type": "code",
   "execution_count": 20,
   "id": "cf53fabf",
   "metadata": {},
   "outputs": [],
   "source": [
    "assert not count_bounds(1, 7, easy=True)"
   ]
  },
  {
   "cell_type": "markdown",
   "id": "35bfc6b4",
   "metadata": {},
   "source": [
    "Run the exhaustive search in all remaining cases with $g=1$."
   ]
  },
  {
   "cell_type": "code",
   "execution_count": 21,
   "id": "d8a14b6d",
   "metadata": {},
   "outputs": [
    {
     "data": {
      "text/plain": [
       "{'1.2.c': (T^2 + 2*T + 2,\n",
       "  [T^10 - 5*T^9 + 10*T^8 - 10*T^7 + 5*T^6 - 2*T^5 + 10*T^4 - 40*T^3 + 80*T^2 - 80*T + 32]),\n",
       " '1.2.b': (T^2 + T + 2,\n",
       "  [T^10 - 4*T^9 + 4*T^8 + 4*T^7 - 12*T^6 + 16*T^5 - 24*T^4 + 16*T^3 + 32*T^2 - 64*T + 32])}"
      ]
     },
     "execution_count": 21,
     "metadata": {},
     "output_type": "execute_result"
    }
   ],
   "source": [
    "count_bounds(1, 6)"
   ]
  },
  {
   "cell_type": "code",
   "execution_count": 16,
   "id": "170a0146",
   "metadata": {},
   "outputs": [
    {
     "data": {
      "text/plain": [
       "{'1.2.b': (T^2 + T + 2,\n",
       "  [T^8 - 4*T^7 + 4*T^6 + 7*T^5 - 21*T^4 + 14*T^3 + 16*T^2 - 32*T + 16,\n",
       "   T^8 - 4*T^7 + 6*T^6 - 4*T^5 + 2*T^4 - 8*T^3 + 24*T^2 - 32*T + 16,\n",
       "   T^8 - 4*T^7 + 4*T^6 + 8*T^5 - 24*T^4 + 16*T^3 + 16*T^2 - 32*T + 16])}"
      ]
     },
     "execution_count": 16,
     "metadata": {},
     "output_type": "execute_result"
    }
   ],
   "source": [
    "count_bounds(1, 5, blocklist=not_jac)"
   ]
  },
  {
   "cell_type": "code",
   "execution_count": 39,
   "id": "a81f38bb",
   "metadata": {},
   "outputs": [
    {
     "data": {
      "text/plain": [
       "{'1.2.c': (T^2 + 2*T + 2,\n",
       "  [T^6 - 4*T^5 + 8*T^4 - 12*T^3 + 16*T^2 - 16*T + 8,\n",
       "   T^6 - 5*T^5 + 13*T^4 - 22*T^3 + 26*T^2 - 20*T + 8]),\n",
       " '1.2.a': (T^2 + 2,\n",
       "  [T^6 - 3*T^5 + 2*T^4 + T^3 + 4*T^2 - 12*T + 8,\n",
       "   T^6 - 3*T^5 + 3*T^4 - 2*T^3 + 6*T^2 - 12*T + 8])}"
      ]
     },
     "execution_count": 39,
     "metadata": {},
     "output_type": "execute_result"
    }
   ],
   "source": [
    "count_bounds(1, 4, blocklist=not_jac)"
   ]
  },
  {
   "cell_type": "code",
   "execution_count": 47,
   "id": "c118b784",
   "metadata": {},
   "outputs": [
    {
     "data": {
      "text/plain": [
       "{'1.2.ac': (T^2 - 2*T + 2, [T^4 - T^3 - T^2 - 2*T + 4]),\n",
       " '1.2.ab': (T^2 - T + 2,\n",
       "  [T^4 - T^3 - T^2 - 2*T + 4, T^4 - 2*T^3 + 2*T^2 - 4*T + 4]),\n",
       " '1.2.b': (T^2 + T + 2,\n",
       "  [T^4 - 3*T^3 + 5*T^2 - 6*T + 4, T^4 - 4*T^3 + 8*T^2 - 8*T + 4])}"
      ]
     },
     "execution_count": 47,
     "metadata": {},
     "output_type": "execute_result"
    }
   ],
   "source": [
    "count_bounds(1, 3, blocklist=not_jac)"
   ]
  },
  {
   "cell_type": "code",
   "execution_count": 25,
   "id": "29d1513f",
   "metadata": {},
   "outputs": [
    {
     "data": {
      "text/plain": [
       "{'1.2.a': (T^2 + 2, [T^2 - 2*T + 2]),\n",
       " '1.2.b': (T^2 + T + 2, [T^2 - 2*T + 2]),\n",
       " '1.2.c': (T^2 + 2*T + 2, [T^2 - 2*T + 2])}"
      ]
     },
     "execution_count": 25,
     "metadata": {},
     "output_type": "execute_result"
    }
   ],
   "source": [
    "count_bounds(1,2)"
   ]
  },
  {
   "cell_type": "markdown",
   "id": "477c9d72",
   "metadata": {},
   "source": [
    "Run the exhaustive search in a few cases with $d=2$ that yield no results."
   ]
  },
  {
   "cell_type": "code",
   "execution_count": 26,
   "id": "7063aaf2",
   "metadata": {},
   "outputs": [
    {
     "name": "stdout",
     "output_type": "stream",
     "text": [
      "Number of polynomials for A: 17\n",
      "{(8, 26): [], (10, 24): [], (10, 26): [], (6, 24): [], (6, 26): [], (6, 22): [], (5, 25): [], (9, 25): [], (8, 20): [], (8, 22): [], (8, 24): [], (7, 23): [], (7, 25): [], (11, 23): [], (11, 25): [], (4, 20): [], (4, 22): [], (4, 24): [], (4, 26): [], (3, 23): [], (3, 25): [], (2, 26): []}\n",
      "Number of polynomials for C: 45328\n"
     ]
    }
   ],
   "source": [
    "assert not count_bounds(9, 17, d=2) #long"
   ]
  },
  {
   "cell_type": "code",
   "execution_count": 27,
   "id": "767a1cf7",
   "metadata": {},
   "outputs": [],
   "source": [
    "assert not count_bounds(9, 17, d=2, hyperelliptic=True)"
   ]
  },
  {
   "cell_type": "code",
   "execution_count": 28,
   "id": "0be37733",
   "metadata": {},
   "outputs": [],
   "source": [
    "assert not count_bounds(8, 15, d=2) #long"
   ]
  },
  {
   "cell_type": "code",
   "execution_count": 29,
   "id": "e763c18b",
   "metadata": {},
   "outputs": [],
   "source": [
    "assert not count_bounds(8, 15, d=2, hyperelliptic=True)"
   ]
  },
  {
   "cell_type": "code",
   "execution_count": 30,
   "id": "0516ed6f",
   "metadata": {},
   "outputs": [],
   "source": [
    "assert not count_bounds(7, 14, d=2)"
   ]
  },
  {
   "cell_type": "code",
   "execution_count": 31,
   "id": "bafa11dc",
   "metadata": {},
   "outputs": [],
   "source": [
    "assert not count_bounds(7, 14, d=2, hyperelliptic=True)"
   ]
  },
  {
   "cell_type": "code",
   "execution_count": 32,
   "id": "1798dd02",
   "metadata": {},
   "outputs": [],
   "source": [
    "assert not count_bounds(6, 13, d=2)"
   ]
  },
  {
   "cell_type": "code",
   "execution_count": 33,
   "id": "a86204bb",
   "metadata": {},
   "outputs": [],
   "source": [
    "assert not count_bounds(6, 13, d=2, hyperelliptic=True)"
   ]
  },
  {
   "cell_type": "code",
   "execution_count": 34,
   "id": "4e94e1bf",
   "metadata": {},
   "outputs": [],
   "source": [
    "assert not count_bounds(6, 12, d=2)"
   ]
  },
  {
   "cell_type": "code",
   "execution_count": 35,
   "id": "722b38cf",
   "metadata": {},
   "outputs": [],
   "source": [
    "assert not count_bounds(6, 12, d=2, hyperelliptic=True)"
   ]
  },
  {
   "cell_type": "code",
   "execution_count": 36,
   "id": "dacee37a",
   "metadata": {},
   "outputs": [],
   "source": [
    "assert not count_bounds(5, 11, d=2)"
   ]
  },
  {
   "cell_type": "code",
   "execution_count": 37,
   "id": "01202535",
   "metadata": {},
   "outputs": [],
   "source": [
    "assert not count_bounds(5, 11, d=2, hyperelliptic=True)"
   ]
  },
  {
   "cell_type": "code",
   "execution_count": 38,
   "id": "61395d3f",
   "metadata": {},
   "outputs": [],
   "source": [
    "assert not count_bounds(5, 10, d=2)"
   ]
  },
  {
   "cell_type": "code",
   "execution_count": 39,
   "id": "c41d16f4",
   "metadata": {},
   "outputs": [],
   "source": [
    "assert not count_bounds(5, 10, d=2, hyperelliptic=True)"
   ]
  },
  {
   "cell_type": "code",
   "execution_count": 40,
   "id": "65700038",
   "metadata": {},
   "outputs": [],
   "source": [
    "assert not count_bounds(4, 11, d=2)"
   ]
  },
  {
   "cell_type": "code",
   "execution_count": 41,
   "id": "f72aa98a",
   "metadata": {},
   "outputs": [],
   "source": [
    "assert not count_bounds(4, 11, d=2, hyperelliptic=True)"
   ]
  },
  {
   "cell_type": "code",
   "execution_count": 42,
   "id": "56f6af81",
   "metadata": {},
   "outputs": [],
   "source": [
    "assert not count_bounds(4, 10, d=2)"
   ]
  },
  {
   "cell_type": "code",
   "execution_count": 43,
   "id": "97bb3531",
   "metadata": {},
   "outputs": [],
   "source": [
    "assert not count_bounds(4, 10, d=2, hyperelliptic=True)"
   ]
  },
  {
   "cell_type": "code",
   "execution_count": 44,
   "id": "458378de",
   "metadata": {},
   "outputs": [],
   "source": [
    "assert not count_bounds(4, 9, d=2)"
   ]
  },
  {
   "cell_type": "code",
   "execution_count": 45,
   "id": "ceddd250",
   "metadata": {},
   "outputs": [],
   "source": [
    "assert not count_bounds(4, 9, d=2, hyperelliptic=True)"
   ]
  },
  {
   "cell_type": "code",
   "execution_count": 46,
   "id": "f3135aef",
   "metadata": {},
   "outputs": [],
   "source": [
    "assert not count_bounds(3, 9, d=2)"
   ]
  },
  {
   "cell_type": "code",
   "execution_count": 47,
   "id": "5ad42ee1",
   "metadata": {},
   "outputs": [],
   "source": [
    "assert not count_bounds(3, 9, d=2, hyperelliptic=True)"
   ]
  },
  {
   "cell_type": "code",
   "execution_count": 48,
   "id": "8a67c4d0",
   "metadata": {},
   "outputs": [],
   "source": [
    "assert not count_bounds(3, 8, d=2)"
   ]
  },
  {
   "cell_type": "code",
   "execution_count": 49,
   "id": "bbe12fa0",
   "metadata": {},
   "outputs": [],
   "source": [
    "assert not count_bounds(3, 8, d=2, hyperelliptic=True)"
   ]
  },
  {
   "cell_type": "code",
   "execution_count": 50,
   "id": "355cfc5d",
   "metadata": {},
   "outputs": [],
   "source": [
    "assert not count_bounds(3, 7, d=2)"
   ]
  },
  {
   "cell_type": "code",
   "execution_count": 51,
   "id": "62a85ab6",
   "metadata": {},
   "outputs": [],
   "source": [
    "assert not count_bounds(3, 7, d=2, hyperelliptic=True)"
   ]
  },
  {
   "cell_type": "code",
   "execution_count": 52,
   "id": "51fb9849",
   "metadata": {},
   "outputs": [],
   "source": [
    "assert not count_bounds(2, 6, d=2, hyperelliptic=True)"
   ]
  },
  {
   "cell_type": "code",
   "execution_count": 53,
   "id": "336f15c5",
   "metadata": {},
   "outputs": [],
   "source": [
    "assert not count_bounds(2, 7, d=2, hyperelliptic=True)"
   ]
  },
  {
   "cell_type": "markdown",
   "id": "98159d64",
   "metadata": {},
   "source": [
    "Run the exhaustive search in a few cases with $d=3$ that yield no results, or only results that can be explained away."
   ]
  },
  {
   "cell_type": "code",
   "execution_count": 54,
   "id": "6dac7699",
   "metadata": {},
   "outputs": [],
   "source": [
    "assert not count_bounds(6, 16, d=3)"
   ]
  },
  {
   "cell_type": "code",
   "execution_count": 55,
   "id": "62bb51d4",
   "metadata": {},
   "outputs": [],
   "source": [
    "assert not count_bounds(5, 14, d=3)"
   ]
  },
  {
   "cell_type": "code",
   "execution_count": 56,
   "id": "40fc867d",
   "metadata": {},
   "outputs": [],
   "source": [
    "assert not count_bounds(5, 13, d=3)"
   ]
  },
  {
   "cell_type": "code",
   "execution_count": 57,
   "id": "4d4277e5",
   "metadata": {},
   "outputs": [],
   "source": [
    "assert not count_bounds(4, 12, d=3)"
   ]
  },
  {
   "cell_type": "code",
   "execution_count": 58,
   "id": "6bf531be",
   "metadata": {},
   "outputs": [],
   "source": [
    "assert not count_bounds(4, 11, d=3)"
   ]
  },
  {
   "cell_type": "code",
   "execution_count": 59,
   "id": "30f8ae30",
   "metadata": {},
   "outputs": [],
   "source": [
    "assert not count_bounds(3, 10, d=3)"
   ]
  },
  {
   "cell_type": "code",
   "execution_count": 60,
   "id": "e8e395e4",
   "metadata": {},
   "outputs": [],
   "source": [
    "assert not count_bounds(3, 9, d=3)"
   ]
  },
  {
   "cell_type": "code",
   "execution_count": 61,
   "id": "bf5c98fb",
   "metadata": {},
   "outputs": [],
   "source": [
    "assert not count_bounds(3, 8, d=3)"
   ]
  },
  {
   "cell_type": "code",
   "execution_count": 62,
   "id": "a9647040",
   "metadata": {},
   "outputs": [],
   "source": [
    "assert not count_bounds(2, 8, d=3)"
   ]
  },
  {
   "cell_type": "code",
   "execution_count": 63,
   "id": "cf16041f",
   "metadata": {},
   "outputs": [],
   "source": [
    "assert not count_bounds(2, 7, d=3)"
   ]
  },
  {
   "cell_type": "code",
   "execution_count": 50,
   "id": "a44d899d",
   "metadata": {},
   "outputs": [
    {
     "name": "stdout",
     "output_type": "stream",
     "text": [
      "Number of polynomials for A: 7\n",
      "{(4, 4): [], (4, 6): [], (4, 8): [], (4, 10): [], (5, 5): [], (5, 7): [], (5, 9): [], (6, 4): [], (6, 6): [], (6, 8): [], (6, 10): [], (3, 3): [], (3, 5): [], (3, 7): [], (3, 9): [], (5, 3): [], (2, 2): [], (2, 4): [], (2, 6): [], (2, 8): [], (2, 10): [], (4, 2): [], (6, 2): []}\n",
      "Number of polynomials for C: 16\n",
      "[5, 5, 17, 9, 25, 65, 145, 289, 449, 1025, 1985, 4353] [2, 2, 11, 18, 22, 47, 142, 226, 407, 1082, 1982, 4575] 13\n",
      "[5, 5, 17, 9, 25, 65, 145, 289, 449, 1025, 1985, 4353] [1, 5, 13, 9, 41, 65, 113, 289, 481, 1025, 2113, 4737] 13\n"
     ]
    },
    {
     "data": {
      "text/plain": [
       "{'2.2.c_c': (T^4 + 2*T^3 + 2*T^2 + 4*T + 4,\n",
       "  [T^6 - 3*T^5 + 3*T^4 - 2*T^3 + 6*T^2 - 12*T + 8,\n",
       "   T^6 - 4*T^5 + 8*T^4 - 12*T^3 + 16*T^2 - 16*T + 8])}"
      ]
     },
     "execution_count": 50,
     "metadata": {},
     "output_type": "execute_result"
    }
   ],
   "source": [
    "count_bounds(2, 5, d=3, verbose=True)"
   ]
  },
  {
   "cell_type": "markdown",
   "id": "5fe8d426",
   "metadata": {},
   "source": [
    "Run the exhaustive search in a few cases with $d=4$ that yield no results, or only results that can be explained away."
   ]
  },
  {
   "cell_type": "code",
   "execution_count": 65,
   "id": "91ef05c3",
   "metadata": {},
   "outputs": [],
   "source": [
    "assert not count_bounds(3, 10, d=4)"
   ]
  },
  {
   "cell_type": "code",
   "execution_count": 66,
   "id": "b5ac3c5b",
   "metadata": {},
   "outputs": [],
   "source": [
    "assert not count_bounds(2, 8, d=4)"
   ]
  },
  {
   "cell_type": "code",
   "execution_count": 67,
   "id": "74fa3a7c",
   "metadata": {},
   "outputs": [],
   "source": [
    "assert not count_bounds(2, 7, d=4)"
   ]
  },
  {
   "cell_type": "code",
   "execution_count": 68,
   "id": "8e082710",
   "metadata": {},
   "outputs": [
    {
     "name": "stdout",
     "output_type": "stream",
     "text": [
      "Number of polynomials for A: 19\n",
      "{(5, 5): [], (5, 7): [], (5, 9): [], (6, 6): [], (6, 8): [], (6, 10): [], (4, 4): [], (4, 6): [], (4, 8): [], (4, 10): [], (6, 4): [], (3, 3): [], (3, 5): [], (3, 7): [], (3, 9): [], (5, 3): [], (2, 2): [], (2, 4): [], (2, 6): [], (2, 8): [], (2, 10): [], (4, 2): [], (6, 2): []}\n",
      "Number of polynomials for C: 16\n",
      "[5, 9, 5, 17, 25, 81, 145, 193, 545, 1089, 1985, 4097] [1, 5, 1, 17, 1, 89, 169, 209, 577, 945, 1937, 4097] 15\n",
      "[5, 9, 5, 17, 25, 81, 145, 193, 545, 1089, 1985, 4097] [1, 1, 13, 17, 41, 49, 113, 65, 481, 961, 2113, 4097] 15\n",
      "[6, 6, 9, 10, 36, 87, 90, 274, 513, 1086, 1920, 4111] [1, 3, 7, 27, 41, 69, 71, 179, 439, 1143, 1981, 4461] 19\n"
     ]
    },
    {
     "data": {
      "text/plain": [
       "{'2.2.c_e': (T^4 + 2*T^3 + 4*T^2 + 4*T + 4,\n",
       "  [T^8 - 4*T^7 + 6*T^6 - 4*T^5 + 2*T^4 - 8*T^3 + 24*T^2 - 32*T + 16,\n",
       "   T^8 - 4*T^7 + 4*T^6 + 8*T^5 - 24*T^4 + 16*T^3 + 16*T^2 - 32*T + 16]),\n",
       " '2.2.d_f': (T^4 + 3*T^3 + 5*T^2 + 6*T + 4,\n",
       "  [T^8 - 5*T^7 + 11*T^6 - 14*T^5 + 16*T^4 - 28*T^3 + 44*T^2 - 40*T + 16])}"
      ]
     },
     "execution_count": 68,
     "metadata": {},
     "output_type": "execute_result"
    }
   ],
   "source": [
    "count_bounds(2, 6, d=4, verbose=True)"
   ]
  },
  {
   "cell_type": "markdown",
   "id": "9bc8ab3b",
   "metadata": {},
   "source": [
    "Run the exhaustive search in a few cases with $d \\geq 5$ that yield no results."
   ]
  },
  {
   "cell_type": "code",
   "execution_count": 69,
   "id": "b81589e6",
   "metadata": {},
   "outputs": [],
   "source": [
    "assert not count_bounds(2, 8, d=5)"
   ]
  },
  {
   "cell_type": "code",
   "execution_count": 70,
   "id": "3b47e4b5",
   "metadata": {},
   "outputs": [],
   "source": [
    "assert not count_bounds(2, 7, d=5)"
   ]
  },
  {
   "cell_type": "code",
   "execution_count": 71,
   "id": "f61b63ee",
   "metadata": {},
   "outputs": [],
   "source": [
    "assert not count_bounds(2, 8, d=6)"
   ]
  },
  {
   "cell_type": "markdown",
   "id": "27485dad",
   "metadata": {},
   "source": [
    "# More exhaustion (section 9)"
   ]
  },
  {
   "cell_type": "markdown",
   "id": "1729f7c3",
   "metadata": {},
   "source": [
    "Run exhaustive searches in the remaining cases, compiling the results for further analysis."
   ]
  },
  {
   "cell_type": "code",
   "execution_count": 76,
   "id": "a7ad8686",
   "metadata": {},
   "outputs": [],
   "source": [
    "count_bounds(7, 13, d=2, blocklist=not_jac, real=True, update=True); #long"
   ]
  },
  {
   "cell_type": "code",
   "execution_count": 77,
   "id": "812f798b",
   "metadata": {},
   "outputs": [],
   "source": [
    "count_bounds(7, 13, d=2, blocklist=not_jac, hyperelliptic=True, real=True, update=True);"
   ]
  },
  {
   "cell_type": "code",
   "execution_count": 78,
   "id": "74455389",
   "metadata": {},
   "outputs": [],
   "source": [
    "count_bounds(6, 11, d=2, blocklist=not_jac, real=True, update=True);"
   ]
  },
  {
   "cell_type": "code",
   "execution_count": 79,
   "id": "abf65228",
   "metadata": {},
   "outputs": [],
   "source": [
    "count_bounds(6, 11, d=2, blocklist=not_jac, hyperelliptic=True, real=True, update=True);"
   ]
  },
  {
   "cell_type": "code",
   "execution_count": 80,
   "id": "eaf52fc4",
   "metadata": {},
   "outputs": [],
   "source": [
    "count_bounds(5, 9, d=2, blocklist=not_jac, real=True, update=True);"
   ]
  },
  {
   "cell_type": "code",
   "execution_count": 81,
   "id": "5bff9e96",
   "metadata": {},
   "outputs": [],
   "source": [
    "count_bounds(5, 9, d=2, blocklist=not_jac, hyperelliptic=True, real=True, update=True);"
   ]
  },
  {
   "cell_type": "code",
   "execution_count": 82,
   "id": "a9cd6af1",
   "metadata": {},
   "outputs": [],
   "source": [
    "count_bounds(4, 8, d=2, blocklist=not_jac, real=True, update=True);"
   ]
  },
  {
   "cell_type": "code",
   "execution_count": 83,
   "id": "3f8a0d09",
   "metadata": {},
   "outputs": [],
   "source": [
    "count_bounds(4, 8, d=2, blocklist=not_jac, hyperelliptic=True, real=True, update=True);"
   ]
  },
  {
   "cell_type": "code",
   "execution_count": 84,
   "id": "d040590e",
   "metadata": {},
   "outputs": [],
   "source": [
    "count_bounds(4, 7, d=2, blocklist=not_jac, real=True, update=True);"
   ]
  },
  {
   "cell_type": "code",
   "execution_count": 85,
   "id": "e983bc01",
   "metadata": {},
   "outputs": [],
   "source": [
    "count_bounds(4, 7, d=2, blocklist=not_jac, hyperelliptic=True, real=True, update=True);"
   ]
  },
  {
   "cell_type": "code",
   "execution_count": 86,
   "id": "87aba007",
   "metadata": {},
   "outputs": [],
   "source": [
    "count_bounds(3, 6, d=2, blocklist=not_jac, real=True, update=True);"
   ]
  },
  {
   "cell_type": "code",
   "execution_count": 87,
   "id": "06c93b53",
   "metadata": {},
   "outputs": [],
   "source": [
    "count_bounds(3, 6, d=2, blocklist=not_jac, hyperelliptic=True, real=True, update=True);"
   ]
  },
  {
   "cell_type": "code",
   "execution_count": 88,
   "id": "6f54fc3f",
   "metadata": {},
   "outputs": [],
   "source": [
    "count_bounds(3, 5, d=2, blocklist=not_jac, real=True, update=True);"
   ]
  },
  {
   "cell_type": "code",
   "execution_count": 89,
   "id": "cba725c0",
   "metadata": {},
   "outputs": [],
   "source": [
    "count_bounds(3, 5, d=2, blocklist=not_jac, hyperelliptic=True, real=True, update=True);"
   ]
  },
  {
   "cell_type": "code",
   "execution_count": 90,
   "id": "752d087d",
   "metadata": {},
   "outputs": [],
   "source": [
    "count_bounds(2, 5, d=2, blocklist=not_jac, hyperelliptic=True, real=True, update=True);"
   ]
  },
  {
   "cell_type": "code",
   "execution_count": 91,
   "id": "2747b9a7",
   "metadata": {},
   "outputs": [],
   "source": [
    "count_bounds(2, 4, d=2, blocklist=not_jac, hyperelliptic=True, real=True, update=True);"
   ]
  },
  {
   "cell_type": "code",
   "execution_count": 92,
   "id": "72d5f0ab",
   "metadata": {},
   "outputs": [],
   "source": [
    "count_bounds(2, 3, d=2, blocklist=not_jac, hyperelliptic=True, real=True, update=True);"
   ]
  },
  {
   "cell_type": "code",
   "execution_count": 93,
   "id": "7c22ae08",
   "metadata": {},
   "outputs": [],
   "source": [
    "count_bounds(4, 10, d=3, blocklist=not_jac, real=True, update=True);"
   ]
  },
  {
   "cell_type": "code",
   "execution_count": 94,
   "id": "c7cfe2ba",
   "metadata": {},
   "outputs": [],
   "source": [
    "count_bounds(3, 7, d=3, blocklist=not_jac, real=True, update=True);"
   ]
  },
  {
   "cell_type": "code",
   "execution_count": 95,
   "id": "70a884a2",
   "metadata": {},
   "outputs": [],
   "source": [
    "count_bounds(2, 6, d=3, blocklist=not_jac, real=True, update=True);"
   ]
  },
  {
   "cell_type": "code",
   "execution_count": 96,
   "id": "0f9c6818",
   "metadata": {},
   "outputs": [],
   "source": [
    "count_bounds(2, 4, d=3, blocklist=not_jac, real=True, update=True);"
   ]
  },
  {
   "cell_type": "code",
   "execution_count": 97,
   "id": "517bd1fd",
   "metadata": {},
   "outputs": [],
   "source": [
    "count_bounds(3, 9, d=4, blocklist=not_jac, real=True, update=True);"
   ]
  },
  {
   "cell_type": "code",
   "execution_count": 98,
   "id": "7d3d8831",
   "metadata": {},
   "outputs": [],
   "source": [
    "count_bounds(2, 5, d=4, blocklist=not_jac, real=True, update=True);"
   ]
  },
  {
   "cell_type": "code",
   "execution_count": 99,
   "id": "aeb1733a",
   "metadata": {},
   "outputs": [],
   "source": [
    "count_bounds(2, 6, d=5, blocklist=not_jac, real=True, update=True);"
   ]
  },
  {
   "cell_type": "code",
   "execution_count": 100,
   "id": "afd0aba3",
   "metadata": {},
   "outputs": [],
   "source": [
    "count_bounds(2, 7, d=6, blocklist=not_jac, real=True, update=True);"
   ]
  },
  {
   "cell_type": "code",
   "execution_count": 101,
   "id": "855fec1e",
   "metadata": {},
   "outputs": [],
   "source": [
    "count_bounds(2, 8, d=7, blocklist=not_jac, real=True, update=True);"
   ]
  },
  {
   "cell_type": "code",
   "execution_count": 102,
   "id": "14882705",
   "metadata": {},
   "outputs": [
    {
     "data": {
      "text/plain": [
       "213"
      ]
     },
     "execution_count": 102,
     "metadata": {},
     "output_type": "execute_result"
    }
   ],
   "source": [
    "sum(len(l) for l in candidate_polys.values())"
   ]
  },
  {
   "cell_type": "code",
   "execution_count": 103,
   "id": "c658fc33",
   "metadata": {},
   "outputs": [
    {
     "data": {
      "text/plain": [
       "40"
      ]
     },
     "execution_count": 103,
     "metadata": {},
     "output_type": "execute_result"
    }
   ],
   "source": [
    "len(candidate_polys[2,7,13])+len(candidate_polys[2,6,11])"
   ]
  },
  {
   "cell_type": "markdown",
   "id": "5cc565b5",
   "metadata": {},
   "source": [
    "# Populate the spreadsheet"
   ]
  },
  {
   "cell_type": "markdown",
   "id": "ad090fa7",
   "metadata": {},
   "source": [
    "Write output to an Excel spreadsheet."
   ]
  },
  {
   "cell_type": "code",
   "execution_count": 104,
   "id": "b2b1e0bc",
   "metadata": {},
   "outputs": [],
   "source": [
    "l = []\n",
    "for (d, g, g1) in candidate_polys:\n",
    "    for (u, v) in candidate_polys[d, g, g1]:\n",
    "        u1 = u.reciprocal_transform(q=2)\n",
    "        v1 = v.reciprocal_transform(q=2)\n",
    "        ct1 = point_count_from_weil_poly(u1, 13)\n",
    "        ct2 = point_count_from_weil_poly(u1*v1, 13)\n",
    "        t = [d, g, g1, ct1, ct2, \\\n",
    "             label_from_weil_poly(u.reciprocal_transform(q=2)), u1(1), u1(1)*u1(-1)]\n",
    "        l.append(t)\n",
    "l.sort()"
   ]
  },
  {
   "cell_type": "code",
   "execution_count": 105,
   "id": "41f89157",
   "metadata": {},
   "outputs": [],
   "source": [
    "import pandas\n",
    "di = {\"d\": [],\n",
    "     \"g\": [],\n",
    "     \"g'\": [],\n",
    "     \"Label of J(C)\": [],\n",
    "     \"#J(C)(F_2)\": [],\n",
    "     \"#J(C)(F_4)\": [],\n",
    "     \"Counts of C\": [],\n",
    "     \"Counts of C'\": []\n",
    "     }\n",
    "for t in l:\n",
    "    di[\"d\"].append(t[0])\n",
    "    di[\"g\"].append(t[1])\n",
    "    di[\"g'\"].append(t[2])\n",
    "    di[\"Counts of C\"].append(t[3])\n",
    "    di[\"Counts of C'\"].append(t[4])\n",
    "    di[\"Label of J(C)\"].append(t[5])\n",
    "    di[\"#J(C)(F_2)\"].append(t[6])\n",
    "    di[\"#J(C)(F_4)\"].append(t[7])\n",
    "for s in di.keys():\n",
    "    di[s] = pandas.Series(di[s], dtype='object')"
   ]
  },
  {
   "cell_type": "code",
   "execution_count": 106,
   "id": "af6f91a8",
   "metadata": {},
   "outputs": [],
   "source": [
    "df = pandas.DataFrame(di)\n",
    "df.to_excel('../Shared/polys.xlsx')"
   ]
  },
  {
   "cell_type": "markdown",
   "id": "c7d3154a",
   "metadata": {},
   "source": [
    "# Optional"
   ]
  },
  {
   "cell_type": "markdown",
   "id": "f41a7b11",
   "metadata": {},
   "source": [
    "Check that at least one degree-1 place lifts to a degree-$d$ place."
   ]
  },
  {
   "cell_type": "code",
   "execution_count": 107,
   "id": "3cd56754",
   "metadata": {},
   "outputs": [
    {
     "name": "stdout",
     "output_type": "stream",
     "text": [
      "5 2 6 [5, 2, 0, 2, 4] [0, 5, 0, 0, 5]\n"
     ]
    }
   ],
   "source": [
    "for (d, g, g1) in candidate_polys:\n",
    "    if d > 2:\n",
    "        for (a,b) in candidate_polys[d,g,g1]:\n",
    "            u = a.reciprocal_transform(q=2)\n",
    "            v = b.reciprocal_transform(q=2)\n",
    "            ct1 = place_count_from_weil_poly(u, 5)\n",
    "            ct2 = place_count_from_weil_poly(u*v, 5)\n",
    "            if not (ct1[0] > sum(ct2[i] for i in range((d-1)//2)) + (0 if d%2 else 1/2*ct2[d//2-1])):\n",
    "                print(d,g,g1,ct1,ct2)\n",
    "                assert (ct2[0] == 0 and ct2[2] == 0)"
   ]
  }
 ],
 "metadata": {
  "kernelspec": {
   "display_name": "SageMath 9.5.rc2",
   "language": "sage",
   "name": "sagemath"
  },
  "language_info": {
   "codemirror_mode": {
    "name": "ipython",
    "version": 3
   },
   "file_extension": ".py",
   "mimetype": "text/x-python",
   "name": "python",
   "nbconvert_exporter": "python",
   "pygments_lexer": "ipython3",
   "version": "3.9.7"
  }
 },
 "nbformat": 4,
 "nbformat_minor": 5
}
