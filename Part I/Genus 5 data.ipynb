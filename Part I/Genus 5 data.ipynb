{
 "cells": [
  {
   "cell_type": "markdown",
   "id": "e26f6c09",
   "metadata": {},
   "source": [
    "This notebook is associated with the paper \"The relative class number one problem for function fields, I\" by K.S. Kedlaya. It runs in SageMath (tested using version 9.5rc2) and depends on Magma (tested using version 2.26-9).\n",
    "\n",
    "In this notebook, we read the data files of Dragutinović tabulating curves of genus 5 and produce a new output file `genus5byweilpoly.txt`. The latter is a dictionary of curves of genus 5 keyed by their Weil polynomial (in the variable `T`). \n",
    "- Each hyperelliptic curve is represented as a pair $(f,h)$ as in Sage, in the variable `x`.\n",
    "- Each trigonal curve is represented as a singular plane curve in the variables `x0, x1, x2`.\n",
    "- Each complete intersection is represented as a triple of generators in the variables `x0, x1, x2, x3, x4`.\n",
    "\n",
    "Allow 5 minutes for completion."
   ]
  },
  {
   "cell_type": "code",
   "execution_count": 1,
   "id": "14577a27",
   "metadata": {},
   "outputs": [],
   "source": [
    "load(\"../Shared/weil_poly_utils.sage\")\n",
    "import itertools\n",
    "from collections import defaultdict"
   ]
  },
  {
   "cell_type": "markdown",
   "id": "7d2f485a",
   "metadata": {},
   "source": [
    "Read and process data on hyperelliptic curves, computing zeta functions using Sage."
   ]
  },
  {
   "cell_type": "code",
   "execution_count": 2,
   "id": "a5e841ff",
   "metadata": {},
   "outputs": [],
   "source": [
    "P.<T> = QQ[]\n",
    "hyperelliptic_curves_by_poly = defaultdict(list)\n",
    "trigonal_curves_by_poly = defaultdict(list)\n",
    "ci_curves_by_poly = defaultdict(list)"
   ]
  },
  {
   "cell_type": "code",
   "execution_count": 3,
   "id": "a5ff39a9",
   "metadata": {},
   "outputs": [],
   "source": [
    "P1.<x> = GF(2)[]\n",
    "with open(\"HyperellipticCurvesData.txt\", \"r\") as f:\n",
    "    s = f.read()\n",
    "    l = sage_eval(s, locals={'x':P1.gen()})\n",
    "for (h, g) in l:\n",
    "    C = HyperellipticCurve(g,h)\n",
    "    assert C.genus() == 5\n",
    "    u = C.frobenius_polynomial()(T)\n",
    "    hyperelliptic_curves_by_poly[u].append((h,g))"
   ]
  },
  {
   "cell_type": "markdown",
   "id": "66362cb7",
   "metadata": {},
   "source": [
    "Read and process data on trigonal curves, represented as plane quintics with a single double point (not necessarily a node), computing zeta functions using Magma."
   ]
  },
  {
   "cell_type": "code",
   "execution_count": 4,
   "id": "839cc0a8",
   "metadata": {},
   "outputs": [],
   "source": [
    "P3.<x0,x1,x2> = GF(2)[]\n",
    "with open(\"TrigonalCurvesWithAutomorphisms.txt\", \"r\") as f:\n",
    "    s = f.read()\n",
    "    l = sage_eval(s)\n",
    "monos5 = [prod(t) for t in itertools.combinations_with_replacement(P3.gens(), 5)]\n",
    "proj = magma.ProjectiveSpace(P3)\n",
    "for (v, _) in l:\n",
    "    gen = sum(v[i]*monos5[i] for i in range(len(monos5)))\n",
    "    X = proj.Scheme([gen])\n",
    "    assert X.Dimension() == 1\n",
    "    C = X.Curve()\n",
    "    assert C.Genus() == 5\n",
    "    ct = tuple(Integer(C.NumberOfPlacesOfDegreeOneECF(i)) for i in range(1, 6))\n",
    "    u = weil_poly_from_point_count(ct, 5)(T)\n",
    "    trigonal_curves_by_poly[u].append(gen)"
   ]
  },
  {
   "cell_type": "markdown",
   "id": "8fe9cc5e",
   "metadata": {},
   "source": [
    "Read and process data on complete intersections of type $(2,2,2)$ in $\\mathbb{P}^4$, using precomputed zeta functions. These will be verified elsewhere."
   ]
  },
  {
   "cell_type": "code",
   "execution_count": 5,
   "id": "adb85989",
   "metadata": {},
   "outputs": [],
   "source": [
    "P5.<x0,x1,x2,x3,x4> = GF(2)[]\n",
    "with open(\"Complete_Intersections.txt\", \"r\") as f:\n",
    "    s = f.read()\n",
    "    l1 = sage_eval(s)\n",
    "with open(\"Pts_Count_Complete_Intersections.txt\", \"r\") as f:\n",
    "    s = f.read()\n",
    "    l2 = sage_eval(s)\n",
    "monos2 = [prod(t) for t in itertools.combinations_with_replacement(P5.gens(), 2)]\n",
    "for i in range(len(l1)):\n",
    "    gens = [sum(v[j]*monos2[j] for j in range(len(monos2))) for v in l1[i]]\n",
    "    u = weil_poly_from_point_count(l2[i], 5)(T)\n",
    "    ci_curves_by_poly[u].append(gens)"
   ]
  },
  {
   "cell_type": "markdown",
   "id": "c7fb16dc",
   "metadata": {},
   "source": [
    "Generate the output file."
   ]
  },
  {
   "cell_type": "code",
   "execution_count": 6,
   "id": "64e210b7",
   "metadata": {},
   "outputs": [],
   "source": [
    "d = {u: [hyperelliptic_curves_by_poly[u], trigonal_curves_by_poly[u], ci_curves_by_poly[u]] \\\n",
    "     for u in set(hyperelliptic_curves_by_poly) | set(trigonal_curves_by_poly) | set(ci_curves_by_poly)}\n",
    "with open(\"genus5byweilpoly.txt\", \"w\") as f:\n",
    "    f.write(str(d))"
   ]
  },
  {
   "cell_type": "code",
   "execution_count": 8,
   "id": "8c6df8ac",
   "metadata": {},
   "outputs": [
    {
     "name": "stdout",
     "output_type": "stream",
     "text": [
      "5.2.b_b_ab_a_a [[], [x0^4*x1 + x0*x1^4 + x1^5 + x0*x1^3*x2 + x0^2*x1*x2^2 + x0*x1^2*x2^2 + x0^2*x2^3 + x0*x1*x2^3, x0^4*x1 + x0^3*x1^2 + x0^2*x1^3 + x0*x1^4 + x1^5 + x0^3*x1*x2 + x0^2*x2^3 + x0*x1*x2^3], [[x1^2 + x1*x2 + x2^2 + x0*x3 + x2*x3, x0^2 + x1^2 + x2^2 + x0*x3 + x0*x4 + x1*x4 + x3*x4, x0^2 + x0*x1 + x1^2 + x0*x2 + x2^2 + x2*x3 + x3^2 + x2*x4 + x3*x4 + x4^2]]]\n",
      "5.2.b_b_ab_a_a [[], [x0^4*x1 + x0*x1^4 + x1^5 + x0*x1^3*x2 + x0^2*x1*x2^2 + x0*x1^2*x2^2 + x0^2*x2^3 + x0*x1*x2^3, x0^4*x1 + x0^3*x1^2 + x0^2*x1^3 + x0*x1^4 + x1^5 + x0^3*x1*x2 + x0^2*x2^3 + x0*x1*x2^3], [[x1^2 + x1*x2 + x2^2 + x0*x3 + x2*x3, x0^2 + x1^2 + x2^2 + x0*x3 + x0*x4 + x1*x4 + x3*x4, x0^2 + x0*x1 + x1^2 + x0*x2 + x2^2 + x2*x3 + x3^2 + x2*x4 + x3*x4 + x4^2]]]\n",
      "5.2.b_b_ab_a_a [[], [x0^4*x1 + x0*x1^4 + x1^5 + x0*x1^3*x2 + x0^2*x1*x2^2 + x0*x1^2*x2^2 + x0^2*x2^3 + x0*x1*x2^3, x0^4*x1 + x0^3*x1^2 + x0^2*x1^3 + x0*x1^4 + x1^5 + x0^3*x1*x2 + x0^2*x2^3 + x0*x1*x2^3], [[x1^2 + x1*x2 + x2^2 + x0*x3 + x2*x3, x0^2 + x1^2 + x2^2 + x0*x3 + x0*x4 + x1*x4 + x3*x4, x0^2 + x0*x1 + x1^2 + x0*x2 + x2^2 + x2*x3 + x3^2 + x2*x4 + x3*x4 + x4^2]]]\n"
     ]
    }
   ],
   "source": [
    "l = [[0,0,9,12,50], [0,0,12,16,60], [0,4,0,16,20]]\n",
    "for t in l:\n",
    "    u = weil_poly_from_point_count(ct, 5)(T)\n",
    "    s = label_from_weil_poly(u)\n",
    "    print(s, d[u])"
   ]
  }
 ],
 "metadata": {
  "kernelspec": {
   "display_name": "SageMath 9.5.rc2",
   "language": "sage",
   "name": "sagemath"
  },
  "language_info": {
   "codemirror_mode": {
    "name": "ipython",
    "version": 3
   },
   "file_extension": ".py",
   "mimetype": "text/x-python",
   "name": "python",
   "nbconvert_exporter": "python",
   "pygments_lexer": "ipython3",
   "version": "3.9.7"
  }
 },
 "nbformat": 4,
 "nbformat_minor": 5
}
