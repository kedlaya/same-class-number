{
 "cells": [
  {
   "cell_type": "markdown",
   "metadata": {},
   "source": [
    "This notebook is associated with the paper \"The relative class number one problem for function fields, I\" by K.S. Kedlaya. It runs in SageMath (tested using version 9.4) and depends on Magma (tested using version\n",
    "2.25-5); it also requires the pandas and openpyxl libraries (`sage --pip install openpyxl/pandas`).\n",
    "\n",
    "In this notebook, we compute cyclic purely geometric extensions with $q=2$ using the upper bound on Weil polynomials. This depends on the exhaustion over Weil polynomials performed in the notebook \"Weil polynomial bound for q=2\" in this repository, the tabulation of curves of genus $\\leq 4$ in LMFDB (including data by Xarles in genus 4), and data files of Dragutinović tabulating curves of genus 5. Allow 1.5 hours for completion."
   ]
  },
  {
   "cell_type": "code",
   "execution_count": 1,
   "metadata": {},
   "outputs": [],
   "source": [
    "load(\"../Shared/weil_poly_utils.sage\")\n",
    "load(\"../Shared/cyclic_covers.sage\")"
   ]
  },
  {
   "cell_type": "markdown",
   "metadata": {},
   "source": [
    "Read data about the exhaustion from an Excel spreadsheet. Note that we only use the data about base curves $C$, not covering curves $C'$ (except at the end to match up the results)."
   ]
  },
  {
   "cell_type": "code",
   "execution_count": 2,
   "metadata": {},
   "outputs": [],
   "source": [
    "import pandas, itertools\n",
    "from collections import defaultdict"
   ]
  },
  {
   "cell_type": "code",
   "execution_count": 3,
   "metadata": {},
   "outputs": [],
   "source": [
    "df = pandas.read_excel('../Shared/polys.xlsx', index_col=int(0))"
   ]
  },
  {
   "cell_type": "code",
   "execution_count": 4,
   "metadata": {},
   "outputs": [
    {
     "name": "stdout",
     "output_type": "stream",
     "text": [
      "['d', 'g', \"g'\", 'Label of J(C)', '#J(C)(F_2)', '#J(C)(F_4)', 'Counts of C', \"Counts of C'\"]\n"
     ]
    }
   ],
   "source": [
    "if \"Unnamed: 0\" in df:\n",
    "    del df[\"Unnamed: 0\"]\n",
    "if \"Cyclic\" in df:\n",
    "    del df[\"Cyclic\"]\n",
    "print(list(df))"
   ]
  },
  {
   "cell_type": "code",
   "execution_count": 5,
   "metadata": {},
   "outputs": [],
   "source": [
    "candidates = {}\n",
    "for i in range(len(df)):\n",
    "    r = df.iloc[i]\n",
    "    d = r[\"d\"]\n",
    "    g = r[\"g\"]\n",
    "    g1 = r[\"g'\"]\n",
    "    if (d,g,g1) not in candidates:\n",
    "        candidates[d,g,g1] = []\n",
    "    s = r[\"Label of J(C)\"]\n",
    "    if s not in candidates[d,g,g1]:\n",
    "        candidates[d,g,g1].append(s)"
   ]
  },
  {
   "cell_type": "markdown",
   "metadata": {},
   "source": [
    "Table of curves with a given Weil polynomial, taken from LMFDB."
   ]
  },
  {
   "cell_type": "code",
   "execution_count": 6,
   "metadata": {},
   "outputs": [],
   "source": [
    "curves_by_poly = {}"
   ]
  },
  {
   "cell_type": "code",
   "execution_count": 7,
   "metadata": {},
   "outputs": [],
   "source": [
    "P1.<x> = GF(2)[]\n",
    "curves_by_poly[1] = {\n",
    "    '1.2.ac': [(P1(1), x^3+x+1)],\n",
    "    '1.2.ab': [(x, x^3+x^2+1)],\n",
    "    '1.2.a': [(P1(1), x^3)],\n",
    "    '1.2.b': [(x, x^3+1)],\n",
    "    '1.2.c': [(P1(1), x^3+x)]\n",
    "}"
   ]
  },
  {
   "cell_type": "code",
   "execution_count": 8,
   "metadata": {},
   "outputs": [],
   "source": [
    "curves_by_poly[2] = {\n",
    "    '2.2.ab_a': [(x,x^5+x^2+x)],\n",
    "    '2.2.ab_c': [(x, x^5+x^3+x)],\n",
    "    '2.2.ab_d': [(x^3+x+1, x^5+x^4+1)],\n",
    "    '2.2.ac_e': [(P1(1), x^5+x^4+1)],\n",
    "    '2.2.a_ab': [(x^2+x, x^5+x^3+x^2+x)],\n",
    "    '2.2.a_a': [(P1(1), x^5)],\n",
    "    '2.2.a_b': [(x^2+x+1, x^5+x^3+x^2+1)],\n",
    "    '2.2.a_c': [(P1(1), x^5+x^4+x^3)],\n",
    "    '2.2.b_a': [(x, x^5+x)],\n",
    "    '2.2.b_b': [(x^3+x+1, x^6+x^3+x^2+x)],\n",
    "    '2.2.b_c': [(x, x^5+x^3+x^2+x)],\n",
    "    '2.2.b_d': [(x^3+x+1, x^6+x^5+x^4+x^2)],\n",
    "    '2.2.c_c': [(P1(1), x^5+x^3)],\n",
    "    '2.2.c_d': [(x^2+x+1, x^5+x^4+x^2+x)], \n",
    "    '2.2.c_e': [(P1(1),x^5+x^4)],\n",
    "    '2.2.d_f': [(x^3+x+1,x^5+x^4+x^3+x)],\n",
    "}"
   ]
  },
  {
   "cell_type": "code",
   "execution_count": 9,
   "metadata": {},
   "outputs": [],
   "source": [
    "P3.<x0,x1,x2> = GF(2)[]\n",
    "curves_by_poly[3] = {\n",
    "    '3.2.ad_g_ai': [[(x^4+x^2+1,x^8+x+1)], []],\n",
    "    '3.2.ac_c_ab': [[(x^4+x^2+x+1, x^8+x^7+x^5+x^3+x^2+1)],\n",
    "                    [x0^4+x0^3*x1+x0^2*x2^2+x0*x2^3+x1^4+x1^3*x2+x1^2*x2^2]],\n",
    "    '3.2.ac_e_af': [[(x^4+x^2+x,x^8+x^7+x^5+x^4+x)], []],\n",
    "    '3.2.ab_a_a': [[(x, x^7+x^6+x), (x^4+x^2,x^8+x^5+x^3+x)],\n",
    "                   [x0^4+x0^3*x1+x0^2*x1*x2+x0*x2^3+x1^4]],\n",
    "    '3.2.ab_a_c': [[(x, x^7+x^6+x^5+x^2+x)], \n",
    "                   [x0^3*x1+x0^2*x1^2+x0^2*x1*x2+x0*x2^3+x1^4,\n",
    "                    x0^3*x1+x0^2*x1^2+x0*x1^2*x2+x0*x2^3+x1^4]],\n",
    "    '3.2.ab_a_e': [[], \n",
    "                   [x0^4+x0^3*x1+x0^3*x2+x0^2*x1*x2+x0*x1^3+x0*x1^2*x2+x0*x1*x2^2+x0*x2^3+x1^2*x2^2]],\n",
    "    '3.2.ab_c_ac': [[(x, x^7+x^5+x), (x^4+x^2+1, x^5+x+1)],\n",
    "                    [x0^4+x0^2*x1^2+x0^2*x1*x2+x0*x2^3+x1^4]],\n",
    "    '3.2.ab_c_ab': [[], \n",
    "                    [x0^4+x0^3*x1+x0^2*x1*x2+x0*x2^3+x1^4+x1^3*x2+x1^2*x2^2]],\n",
    "    '3.2.ab_c_a': [[(x^4+x^2,x^8+x)], []],\n",
    "    '3.2.a_a_ab': [[(x^3+x+1, x^7+x^5+x^4+x^3+x+1)], []],\n",
    "    '3.2.a_a_b': [[(x^3+x+1, x^7+x^6+x^5+x^4+x^3+x^2+x)],\n",
    "                  [x0^4+x0^3*x2+x0^2*x1^2+x0^2*x1*x2+x0*x1*x2^2+x0*x2^3+x1^3*x2]],\n",
    "    '3.2.a_a_d': [[], [x0^4+x0^3*x1+x0^3*x2+x0^2*x1*x2+x0*x1^3+x0*x1^2*x2+x0*x2^3+x1^4,\n",
    "                       x0^3*x2+x0^2*x1^2+x0^2*x1*x2+x0^2*x2^2+x0*x1*x2^2+x0*x2^3+x1^3*x2]],\n",
    "    '3.2.a_a_f': [[], [x0^3*x1+x0*x2^3+x1^3*x2]],\n",
    "    '3.2.a_b_a': [[(x^2+x, x^7+x^5+x^2+x), (x^2+x+1, x^7+x^5+x^3+x^2+x+1)],\n",
    "                  [x0^4+x0*x1^3+x0*x2^3+x1^4]],\n",
    "    '3.2.a_b_d': [[], [x0^4+x0^3*x1+x0^3*x2+x0^2*x1^2+x0*x2^3+x1^3*x2, \n",
    "                       x0^4+x0^3*x1+x0^3*x2+x0^2*x1^2+x0*x2^3+x1^3*x2+x1^2*x2^2]],\n",
    "    '3.2.a_c_ab': [[(x^4+x^2+x+1, x^8+x^7+x^4+x^2),\n",
    "                    (x^4+x^2+x+1, x^6+x^5+x^2+1)],\n",
    "                   [x0^4+x0^2*x1*x2+x0*x1^3+x0*x1^2*x2+x0*x2^3+x1^4]],\n",
    "    '3.2.a_c_b': [[(x^4+x^2+x+1, x^7+1), (x^4+x^2+x+1, x^8+x^6+x^5+x^4)],\n",
    "                  [x0^4+x0^3*x2+x0^2*x1*x2+x0*x1^3+x0*x1^2*x2+x0*x2^3+x1^2*x2^2]],\n",
    "    '3.2.b_b_b': [[(x^4+x+1, x^8+x^7+x^5+x^3)],\n",
    "                    [x0^3*x2+x0^2*x1*x2+x0*x1^3+x0*x2^3+x1^4]],\n",
    "    '3.2.b_b_e': [[], [x0^3*x2+x0^2*x1^2+x0^2*x1*x2+x0*x2^3+x1^3*x2]],\n",
    "    '3.2.b_c_a': [[(x^4+x^2,x^4+x)], []],\n",
    "    '3.2.b_c_b': [[], [x0^3*x1+x0^2*x1*x2+x0*x2^3+x1^3*x2]],\n",
    "    '3.2.b_c_c': [[(x,x^7+x^5+x^2+x), (x^4+x^2+1, x^8+x^5+x^4+x)],\n",
    "                  [x0^4+x0^3*x1+x0^2*x1^2+x0*x1^2*x2+x0*x2^3+x1^4]],\n",
    "    '3.2.b_c_d': [[], [x0^4+x0^3*x1+x0^2*x1^2+x0*x1*x2^2+x0*x2^3+x1^3*x2]],\n",
    "    '3.2.b_c_e': [[(x, x^7+x), (x^4+x^2, x^2+x), (x^4+x^2+1, x^8+x^4+x^2+x)],\n",
    "                  [x0^4+x0^2*x1*x2+x0*x2^3+x1^4]],\n",
    "    '3.2.b_d_c': [[], [x0^4+x0^3*x2+x0^2*x1^2+x0^2*x1*x2+x0^2*x2^2+x0*x2^3+x1^3*x2]],\n",
    "    '3.2.b_d_e': [[], [x0^4+x0^3*x2+x0*x1^3+x0*x1^2*x2+x0*x2^3+x1^2*x2^2]],\n",
    "    '3.2.b_e_d': [[], [x0^4+x0^3*x1+x0^2*x1^2+x0^2*x1*x2+x0*x2^3+x1^3*x2]],\n",
    "    '3.2.b_e_e': [[], [x0^4+x0^2*x1^2+x0*x1*x2^2+x0*x2^3+x1^3*x2]],\n",
    "    '3.2.c_d_d': [[], [x0^3*x1+x0^3*x2+x0*x2^3+x1^3*x2]],\n",
    "    '3.2.c_d_f': [[], [x0^3*x1+x0^3*x2+x0^2*x1^2+x0^2*x2^2+x0*x2^3+x1^3*x2]],\n",
    "    '3.2.c_e_e': [[], [x0^3*x1+x0^3*x2+x0*x2^3+x1^4]],\n",
    "    '3.2.c_e_f': [[(x^4+x^2+x, x^7+x^5+x^2+x)],\n",
    "                    [x0^3*x1+x0^2*x1^2+x0^2*x2^2+x0*x2^3+x1^3*x2]],\n",
    "    '3.2.c_e_g': [[(P1(1), x^7+x^4)], [x0^4+x0^2*x1^2+x0*x2^3+x1^3*x2]],\n",
    "    '3.2.c_e_h': [[(x^4+x^2+x+1, x^5+x^3+x^2+x)], []],\n",
    "    '3.2.d_g_i': [[(x^4+x^2+1, x^4+x)], []],\n",
    "    '3.2.d_g_k': [[(x^4+x^2+1, x^5+x^2)], []],\n",
    "    '3.2.d_h_l': [[(x^4+x+1,x^6+x^5+x^3+x)], []],\n",
    "}"
   ]
  },
  {
   "cell_type": "code",
   "execution_count": 10,
   "metadata": {},
   "outputs": [],
   "source": [
    "P4.<x0,x1,x2,x3> = GF(2)[]\n",
    "curves_by_poly[4] = {\n",
    "    '4.2.a_c_ab_c': [[(x^3+x+1, x^9+x^7+x^2)],\n",
    "                     [(x0*x1+x3^2, x0^3+x1^3+x0*x1*x2+x2^3+x0*x1*x3+x0*x2*x3),\n",
    "                      (x0*x1+x3^2, x0^3+x0^2*x1+x1^3+x0*x1*x2+x2^3+x0*x1*x3+x0*x2*x3)]],\n",
    "    '4.2.a_c_ab_e': [[(x^3+x+1, x^9+x^6+x^2)], \n",
    "                     [(x0^2+x0*x1+x1^2+x2*x3, x0^2*x2+x0*x1*x2+x1^2*x2+x0*x2^2+x0*x1*x3+x0*x3^2)]],\n",
    "    '4.2.a_c_ab_g': [[(x^3+x+1, x^9+x^7+x+1)],\n",
    "                     [(x0*x1+x3^2, x1^3+x0*x1*x2+x2^3+x0^2*x3+x0*x1*x3+x0*x2*x3),\n",
    "                      (x0^2+x0*x1+x1^2+x2*x3, x0^3+x0^2*x1+x1^3+x1^2*x2+x0*x2^2+x0*x1*x3+x0*x3^2)]],\n",
    "    '4.2.a_c_b_c': [[(x^3+x+1, x^9+x^7+x^6+1)],\n",
    "                    [(x0*x1+x2*x3, x0^3+x1^3+x0^2*x2+x1^2*x2+x0*x2^2+x1*x2^2+x0*x3^2),\n",
    "                     (x0*x1+x2*x3, x0*x1^2+x1^3+x0^2*x2+x0*x1*x2+x1^2*x2+x0*x2^2+x2^3+x0^2*x3+x0*x3^2),\n",
    "                     (x0*x1+x3^2, x0^3+x1^3+x0*x1*x2+x1^2*x2+x2^3+x0*x2*x3),\n",
    "                     (x0^2+x0*x1+x1^2+x2*x3, x0^2*x1+x0*x1^2+x1*x2^2+x0^2*x3+x0*x3^2)]],\n",
    "    '4.2.a_c_b_e': [[(x^3+x+1, x^9+1)],\n",
    "                    [(x0^2+x0*x1+x1^2+x2*x3, x0^3+x0^2*x1+x0*x1^2+x1^2*x2+x0*x2^2+x0^2*x3+x0*x3^2),\n",
    "                     (x0^2+x0*x1+x1^2+x2*x3, x0^2*x1+x0*x1^2+x0^2*x2+x1*x2^2+x0^2*x3+x0*x3^2)]],\n",
    "    '4.2.a_c_b_g': [[(x^3+x+1, x^9+x^7+x^6+x^2+x)],\n",
    "                    [(x0^2+x0*x1+x1^2+x2*x3, x1^3+x0^2*x2+x0*x2^2+x0*x3^2)]],\n",
    "    '4.2.a_c_d_a': [[], [(x0^2+x0*x1+x1^2+x2*x3, x0^3+x0^2*x1+x0*x1^2+x1*x2^2+x0^2*x3+x0*x3^2)]],\n",
    "    '4.2.a_c_d_c': [[], [(x0^2+x0*x1+x1^2+x2*x3, x0^3+x1^3+x0^2*x2+x0*x1*x2+x0*x2^2+x0*x1*x3+x0*x3^2)]],\n",
    "    '4.2.a_d_ab_f': [[], [(x0^2+x0*x1+x1^2+x2*x3, x0^3+x0^2*x1+x0^2*x2+x1^2*x2+x0*x2^2+x0*x1*x3+x0*x3^2)]],\n",
    "    '4.2.a_d_ab_h': [[], [(x0*x1+x3^2, x0^3+x0^2*x1+x0*x1^2+x1^3+x0*x1*x2+x2^3+x1^2*x3+x0*x2*x3)]],\n",
    "    '4.2.a_d_b_f': [[],\n",
    "                    [(x0*x1+x2*x3, x0^3+x0*x1^2+x1^3+x0^2*x2+x0*x1*x2+x1^2*x2+x0*x2^2+x1*x2^2+x0*x3^2),\n",
    "                     (x0*x1+x3^2, x0^3+x0*x1*x2+x2^3+x0^2*x3+x1^2*x3+x0*x2*x3),\n",
    "                     (x0*x1+x3^2, x0^3+x1^3+x0*x1*x2+x2^3+x1^2*x3+x0*x2*x3),\n",
    "                     (x0*x1+x3^2, x0^3+x0^2*x1+x1^3+x0*x1*x2+x2^3+x1^2*x3+x0*x2*x3),\n",
    "                     (x0^2+x0*x1+x1^2+x2*x3, x0^3+x0^2*x1+x1^3+x0^2*x2+x0*x1*x2+x0*x2^2+x0*x3^2)]],\n",
    "    '4.2.a_d_b_h': [[], [(x0*x1+x2*x3, x0^3+x0*x1^2+x1^3+x0^2*x2+x1^2*x2+x0*x2^2+x0^2*x3+x0*x1*x3+x0*x3^2),\n",
    "                          (x0^2+x0*x1+x1^2+x2*x3, x0^3+x0^2*x1+x1^2*x2+x0*x2^2+x0*x1*x3+x0*x3^2),\n",
    "                          (x0^2+x0*x1+x1^2+x2*x3, x0^3+x1^3+x0*x1*x2+x1^2*x2+x0*x2^2+x0*x1*x3+x0*x3^2)]],\n",
    "    '4.2.a_d_d_f': [[], [(x0*x1+x3^2, x0^2*x1+x1^3+x0^2*x2+x0*x1*x2+x2^3+x1^2*x3+x0*x2*x3)]],\n",
    "    '4.2.a_e_b_k': [[], [(x0*x1+x3^2, x0^3+x0^2*x1+x1^3+x0*x1*x2+x2^3+x0^2*x3+x0*x1*x3+x0*x2*x3)]],\n",
    "    '4.2.b_b_a_b': [[], [(x0*x1+x3^2, x0^2*x1+x1^2*x2+x2^3+x0^2*x3+x1^2*x3+x0*x2*x3)]],\n",
    "    '4.2.b_b_a_d': [[], [(x0*x1+x2*x3, x0^3+x0^2*x1+x1^3+x0^2*x2+x0*x1*x2+x1^2*x2+x0*x2^2+x0*x1*x3+x0*x3^2)]],\n",
    "    '4.2.b_b_c_d': [[], [(x0*x1+x2*x3, x0*x1^2+x1^3+x0^2*x2+x0*x1*x2+x0*x2^2+x0*x1*x3+x0*x3^2),\n",
    "                         (x0*x1+x3^2, x0^2*x2+x1^2*x2+x2^3+x1^2*x3+x0*x2*x3)]],\n",
    "    '4.2.b_b_c_f': [[], [(x0*x1+x2*x3, x0^2*x1+x0*x1^2+x1^3+x0^2*x2+x0*x1*x2+x0*x2^2+x0*x3^2),\n",
    "                         (x0*x1+x3^2, x0^3+x0^2*x1+x0^2*x2+x1^2*x2+x2^3+x0^2*x3+x1^2*x3+x0*x2*x3)]],\n",
    "    '4.2.b_b_c_h': [[], [(x0*x1+x3^2, x0^3+x1^2*x2+x2^3+x1^2*x3+x0*x2*x3),\n",
    "                         (x0^2+x0*x1+x1^2+x2*x3, x1^3+x0*x1*x2+x0*x2^2+x0*x3^2)]],\n",
    "    '4.2.b_b_a_b': [[], [(x0*x1+x3^2, x0^2*x1+x1^2*x2+x2^3+x0^2*x3+x1^2*x3+x0*x2*x3)]],\n",
    "    '4.2.b_b_a_d': [[], [(x0*x1+x2*x3, x0^3+x0^2*x1+x1^3+x0^2*x2+x0*x1*x2+x1^2*x2+x0*x2^2+x0*x1*x3+x0*x3^2)]],\n",
    "    '4.2.b_c_a_a': [[(x^2, x^9+x^7+x+1)], []],\n",
    "    '4.2.b_c_a_c': [[(x, x^9+x^7+x^5+x^3+x^2+1)], []],\n",
    "    '4.2.b_c_a_e': [[], [(x0^2+x0*x1+x1^2+x2*x3, x0*x1*x2+x1^2*x2+x0*x2^2+x0*x3^2)]],\n",
    "    '4.2.b_c_c_c': [[(x, x^9+x^7+x^3+1)], []],\n",
    "    '4.2.b_c_c_e': [[(x^2, x^9+x^5+x^4+x), (x^2, x^9+x^4+x+1)], []],\n",
    "    '4.2.b_c_c_g': [[(x, x^9+1)],\n",
    "                    [(x0*x1+x2*x3, x0^3+x0*x1^2+x0^2*x2+x1^2*x2+x0*x2^2+x1^2*x3+x0*x3^2),\n",
    "                     (x0*x1+x2*x3, x1^3+x0^2*x2+x0*x1*x2+x1^2*x2+x1*x2^2+x0^2*x3+x0*x3^2),\n",
    "                     (x0*x1+x3^2, x1^3+x0^2*x2+x0*x1*x2+x2^3+x0^2*x3),\n",
    "                     (x0^2+x0*x1+x1^2+x2*x3, x0^3+x0^2*x1+x1^3+x0^2*x2+x0*x1*x2+x0*x2^2+x0*x1*x3+x0*x3^2)]],\n",
    "    '4.2.b_b_c_h': [[], [(x0*x1+x3^2, x0^3+x1^2*x2+x2^3+x1^2*x3+x0*x2*x3),\n",
    "                         (x0^2+x0*x1+x1^2+x2*x3, x1^3+x0*x1*x2+x0*x2^2+x0*x3^2)]],\n",
    "    '4.2.b_c_d_h': [[(x^4+x^2+x, x^9+x^8+x^2+1)], \n",
    "                    [(x0*x1+x2*x3, x0^3+x0*x1^2+x1^3+x0*x1*x2+x0*x2^2+x0*x1*x3+x0*x3^2),\n",
    "                     (x0^2+x0*x1+x1^2+x2*x3, x0^2*x1+x1^3+x0*x1*x2+x1^2*x2+x0*x2^2+x0*x1*x3+x0*x3^2)]],\n",
    "    '4.2.b_c_d_j': [[], [(x0*x1+x3^2, x0^3+x0^2*x1+x2^3+x0^2*x3+x1^2*x3+x0*x2*x3)]],\n",
    "    '4.2.b_c_e_e': [[(x^2, x^9+x^7+x^5+x)], []],\n",
    "    '4.2.b_d_c_h': [[], [(x0*x1+x2*x3, x0^3+x0^2*x1+x0*x1^2+x0*x1*x2+x1^2*x2+x0*x2^2+x0^2*x3+x1^2*x3+x0*x3^2),\n",
    "                         (x0*x1+x2*x3, x0^3+x1^3+x0^2*x2+x0*x1*x2+x1^2*x2+x0*x2^2+x0^2*x3+x1^2*x3+x0*x3^2),\n",
    "                         (x0*x1+x3^2, x0^3+x0^2*x1+x0*x1^2+x1^3+x2^3+x0*x1*x3+x1^2*x3+x0*x2*x3)]],\n",
    "    '4.2.b_d_e_j': [[], [(x0*x1+x3^2, x0^3+x1^3+x2^3+x0*x1*x3+x1^2*x3+x0*x2*x3)]],\n",
    "    '4.2.b_e_c_i': [[], [(x0*x1+x3^2, x0^3+x1^3+x2^3+x0*x2*x3)]],\n",
    "    '4.2.b_e_e_k': [[], [(x0*x1+x3^2, x0^2*x1+x1^3+x0^2*x2+x0*x1*x2+x2^3+x0^2*x3),\n",
    "                         (x0^2+x0*x1+x1^2+x2*x3, x0^2*x1+x1^3+x0^2*x2+x0*x1*x2+x1^2*x2+x0*x2^2+x0*x1*x3+x0*x3^2)]],\n",
    "    '4.2.c_e_h_k': [[(x^3+x+1, x^9+x^7)], []],\n",
    "    '4.2.c_g_i_q': [[], \n",
    "                    [(x0*x1+x2*x3,x0^3+x0*x1^2+x0^2*x2+x1^2*x2+x0*x2^2+x1*x2^2+x0^2*x3+x0*x1*x3+x1^2*x3+x0*x3^2),\n",
    "                     (x0*x1+x2*x3,x1^3+x0*x1*x2+x1^2*x2+x0*x2^2+x1*x2^2+x0^2*x3+x0*x1*x3+x1^2*x3+x0*x3^2)]],\n",
    "    '4.2.d_f_i_n': [[], [(x0*x1+x2*x3, x0^2*x1+x0*x1^2+x0^2*x2+x0*x1*x2+x1^2*x2+x1*x2^2+x0^2*x3+x1^2*x3+x0*x3^2)]],\n",
    "    '4.2.d_f_k_s': [[], \n",
    "                    [(x0*x1+x3^2, x0^2*x1+x0^2*x2+x0*x1*x2+x1^2*x2+x2^3+x0^2*x3+x0*x1*x3+x1^2*x3)]],\n",
    "    '4.2.d_h_l_r': [[(x^5+x^2+1, x^4+x^2)], \n",
    "                    [(x0*x1+x2*x3,x0^2*x1+x0*x1^2+x1^3+x0*x1*x2+x1^2*x2+x0*x2^2+x0^2*x3+x1^2*x3+x0*x3^2)]],\n",
    "    '4.2.d_i_o_x': [[],\n",
    "                    [(x0*x1+x2*x3,x0^2*x2+x0*x1*x2+x0*x2^2+x1*x2^2+x0^2*x3+x1^2*x3+x0*x3^2)]],\n",
    "    '4.2.e_j_q_z': [[], [(x0*x1+x2*x3, x0^2*x1+x1^3+x0*x1*x2+x1^2*x2+x0*x2^2+x0^2*x3+x1^2*x3+x0*x3^2)]],\n",
    "    '4.2.e_k_u_bg': [[], [(x0*x1+x2*x3, x0^2*x2+x1^2*x2+x1*x2^2+x0^2*x3+x1^2*x3+x0*x3^2)]],\n",
    "    '4.2.f_o_bc_bs': [[], [(x0*x1+x2*x3, x0*x1^2+x1^3+x0^2*x2+x1^2*x2+x0*x2^2+x0^2*x3+x1^2*x3+x0*x3^2)]]\n",
    "}"
   ]
  },
  {
   "cell_type": "markdown",
   "metadata": {},
   "source": [
    "Populate the table in genus 5 using data from Dragutinović."
   ]
  },
  {
   "cell_type": "code",
   "execution_count": 11,
   "metadata": {},
   "outputs": [],
   "source": [
    "curves_by_poly[5] = {}\n",
    "with open(\"HyperellipticCurvesData.txt\", \"r\") as f:\n",
    "    s = f.read()\n",
    "    l = sage_eval(s, locals={'x':P1.gen()})\n",
    "for (h, g) in l:\n",
    "    C = HyperellipticCurve(g,h)\n",
    "    assert C.genus() == 5\n",
    "    u = C.frobenius_polynomial()\n",
    "    s = label_from_weil_poly(u)\n",
    "    if s not in curves_by_poly[5]: \n",
    "        curves_by_poly[5][s] = [[],[],[]]\n",
    "    curves_by_poly[5][s][0].append((h,g))"
   ]
  },
  {
   "cell_type": "code",
   "execution_count": 12,
   "metadata": {},
   "outputs": [],
   "source": [
    "with open(\"TrigonalCurvesWithAutomorphisms.txt\", \"r\") as f:\n",
    "    s = f.read()\n",
    "    l = sage_eval(s)\n",
    "monos5 = [prod(t) for t in itertools.combinations_with_replacement(P3.gens(), 5)]\n",
    "proj = magma.ProjectiveSpace(P3)\n",
    "for (v, _) in l:\n",
    "    gen = sum(v[i]*monos5[i] for i in range(len(monos5)))\n",
    "    X = proj.Scheme([gen])\n",
    "    assert X.Dimension() == 1\n",
    "    C = X.Curve()\n",
    "    assert C.Genus() == 5\n",
    "    ct = tuple(Integer(C.NumberOfPlacesOfDegreeOneECF(i)) for i in range(1, 6))\n",
    "    u = weil_poly_from_point_count(ct, 5)\n",
    "    s = label_from_weil_poly(u)\n",
    "    if s not in curves_by_poly[5]: \n",
    "        curves_by_poly[5][s] = [[],[],[]]\n",
    "    curves_by_poly[5][s][1].append(gen)"
   ]
  },
  {
   "cell_type": "code",
   "execution_count": 13,
   "metadata": {},
   "outputs": [],
   "source": [
    "with open(\"Complete_Intersections.txt\", \"r\") as f:\n",
    "    s = f.read()\n",
    "    l1 = sage_eval(s)\n",
    "with open(\"Pts_Count_Complete_Intersections.txt\", \"r\") as f:\n",
    "    s = f.read()\n",
    "    l2 = sage_eval(s)\n",
    "P5.<x0,x1,x2,x3,x4> = GF(2)[]\n",
    "monos2 = [prod(t) for t in itertools.combinations_with_replacement(P5.gens(), 2)]\n",
    "for i in range(len(l1)):\n",
    "    gens = [sum(v[j]*monos2[j] for j in range(len(monos2))) for v in l1[i]]\n",
    "    u = weil_poly_from_point_count(l2[i], 5)\n",
    "    s = label_from_weil_poly(u)\n",
    "    if s not in curves_by_poly[5]: \n",
    "        curves_by_poly[5][s] = [[],[],[]]\n",
    "    curves_by_poly[5][s][2].append(gens)"
   ]
  },
  {
   "cell_type": "markdown",
   "metadata": {},
   "source": [
    "Produce Magma function fields of curves with a given zeta function."
   ]
  },
  {
   "cell_type": "code",
   "execution_count": 14,
   "metadata": {},
   "outputs": [],
   "source": [
    "def function_fields_by_weil_poly(s, m=1):\n",
    "    if m == 1:\n",
    "        F0 = magma.FunctionField(GF(2))\n",
    "    else:\n",
    "        K.<a> = GF(2^m)\n",
    "        F0 = magma.FunctionField(K)\n",
    "    F0.AssignNames('x')\n",
    "    S = magma.PolynomialRing(F0)\n",
    "    S.AssignNames('y')\n",
    "    l = s.split(\".\")\n",
    "    g = Integer(l[0])\n",
    "    if s in curves_by_poly[g]:\n",
    "        ans = []\n",
    "        # Hyperelliptics.\n",
    "        m = curves_by_poly[g][s] if g <= 2 else curves_by_poly[g][s][0]\n",
    "        for (u,v) in m:\n",
    "            yield magma.HyperellipticCurve(v,u).FunctionField().AlgorithmicFunctionField()\n",
    "        # Plane quartics for g=3.\n",
    "        if g == 3:\n",
    "            proj = magma.ProjectiveSpace(P3)\n",
    "            for u in curves_by_poly[g][s][1]:\n",
    "                yield proj.Scheme([u]).FunctionField().AlgorithmicFunctionField()\n",
    "        # Genus 4 curves.\n",
    "        if g == 4:\n",
    "            proj = magma.ProjectiveSpace(P4)\n",
    "            for (u,v) in curves_by_poly[g][s][1]:\n",
    "                yield proj.Scheme([u,v]).FunctionField().AlgorithmicFunctionField()\n",
    "        # Genus 5 curves.\n",
    "        if g == 5:\n",
    "            proj = magma.ProjectiveSpace(P3)\n",
    "            for u in curves_by_poly[g][s][1]:\n",
    "                yield proj.Scheme([u]).FunctionField().AlgorithmicFunctionField()        \n",
    "            proj = magma.ProjectiveSpace(P5)        \n",
    "            for (u,v,w) in curves_by_poly[g][s][2]:\n",
    "                yield proj.Scheme([u,v,w]).FunctionField().AlgorithmicFunctionField()"
   ]
  },
  {
   "cell_type": "markdown",
   "metadata": {},
   "source": [
    "Check that the zeta functions of these curves are as indicated."
   ]
  },
  {
   "cell_type": "code",
   "execution_count": 15,
   "metadata": {},
   "outputs": [],
   "source": [
    "P.<T> = QQ[]\n",
    "for g in range(1, 6):\n",
    "    for s in curves_by_poly[g]:\n",
    "        for F in function_fields_by_weil_poly(s):\n",
    "            u = F.ZetaFunction().Numerator().sage()(T).reverse()\n",
    "            assert label_from_weil_poly(u) == s"
   ]
  },
  {
   "cell_type": "markdown",
   "metadata": {},
   "source": [
    "Check the genus 5 data for cases which can occur as a cover of a genus-1 curve with relative class number 1."
   ]
  },
  {
   "cell_type": "code",
   "execution_count": 16,
   "metadata": {},
   "outputs": [
    {
     "name": "stdout",
     "output_type": "stream",
     "text": [
      "['5.2.ad_c_d_ag_h', '5.2.ad_c_e_ai_i', '5.2.ad_e_ag_k_ao']\n"
     ]
    }
   ],
   "source": [
    "targets = [[0,0,9,12,50],\n",
    "           [0,0,12,16,60],\n",
    "           [0,2,6,18,30],\n",
    "           [0,2,3,42,30],\n",
    "           [0,4,0,16,20],\n",
    "           [0,4,0,28,25],\n",
    "           [0,6,0,18,25],\n",
    "           [1,1,1,25,1]]\n",
    "ans = []\n",
    "for t in targets:\n",
    "    u = weil_poly_from_point_count(t, 5)\n",
    "    s = label_from_weil_poly(u)\n",
    "    if s in curves_by_poly[5]:\n",
    "        ans.append(s)\n",
    "print(ans)"
   ]
  },
  {
   "cell_type": "markdown",
   "metadata": {},
   "source": [
    "Construct extensions with relative class number 1."
   ]
  },
  {
   "cell_type": "code",
   "execution_count": 17,
   "metadata": {},
   "outputs": [],
   "source": [
    "covers_by_poly = {}"
   ]
  },
  {
   "cell_type": "code",
   "execution_count": 18,
   "metadata": {},
   "outputs": [],
   "source": [
    "def match_weil_poly_general(s, d, delta=0, verbose=False):\n",
    "    l = s.split(\".\")\n",
    "    g = Integer(l[0])\n",
    "    g1 = g + (d-1)*(g-1) + delta\n",
    "    ans = []\n",
    "    for F in function_fields_by_weil_poly(s):\n",
    "        ans.append((s, match_weil_poly(F, d, delta=delta, verbose=verbose)))\n",
    "    if ans:\n",
    "        if (d, g, g1) not in covers_by_poly:\n",
    "            covers_by_poly[d, g, g1] = {}\n",
    "        if s not in covers_by_poly[d, g, g1]:\n",
    "            covers_by_poly[d, g, g1][s] = {}\n",
    "        for (_, l) in ans:\n",
    "            for (F, F1) in l:\n",
    "                if F not in covers_by_poly[d, g, g1][s]:\n",
    "                    covers_by_poly[d, g, g1][s][F] = []\n",
    "                if F1 not in covers_by_poly[d, g, g1][s][F]:\n",
    "                    covers_by_poly[d, g, g1][s][F].append(F1)\n",
    "    return ans"
   ]
  },
  {
   "cell_type": "code",
   "execution_count": 19,
   "metadata": {},
   "outputs": [
    {
     "name": "stdout",
     "output_type": "stream",
     "text": [
      "2 2 3\n",
      "2 2 4\n",
      "2 2 5\n",
      "2 3 5\n",
      "2 3 6\n",
      "2 4 7\n",
      "2 4 8\n",
      "2 5 9\n",
      "2 6 11\n",
      "2 7 13\n",
      "3 2 4\n",
      "3 2 6\n",
      "3 3 7\n",
      "3 4 10\n",
      "4 2 5\n",
      "4 3 9\n",
      "5 2 6\n",
      "6 2 7\n",
      "7 2 8\n"
     ]
    }
   ],
   "source": [
    "for (d, g, g1) in candidates:\n",
    "    print(d, g, g1)\n",
    "    delta = g1-g-(d-1)*(g-1)\n",
    "    if g <= 5:\n",
    "        covers_by_poly[d, g, g1] = {}\n",
    "        for s in candidates[d,g,g1]:\n",
    "            match_weil_poly_general(s, d, delta=g1-g-(d-1)*(g-1))"
   ]
  },
  {
   "cell_type": "markdown",
   "metadata": {},
   "source": [
    "List isomorphism class representatives for the base fields."
   ]
  },
  {
   "cell_type": "code",
   "execution_count": 20,
   "metadata": {},
   "outputs": [
    {
     "name": "stdout",
     "output_type": "stream",
     "text": [
      "2 2 3\n",
      "2.2.ab_c [Algebraic function field defined over Univariate rational function field over GF(2) by\n",
      "y^2 + x*y + x^5 + x^3 + x]\n",
      "2.2.b_c [Algebraic function field defined over Univariate rational function field over GF(2) by\n",
      "y^2 + x*y + x^5 + x^3 + x^2 + x]\n",
      "2 2 4\n",
      "2.2.a_a [Algebraic function field defined over Univariate rational function field over GF(2) by\n",
      "y^2 + y + x^5]\n",
      "2.2.a_c [Algebraic function field defined over Univariate rational function field over GF(2) by\n",
      "y^2 + y + x^5 + x^4 + x^3]\n",
      "2.2.b_b [Algebraic function field defined over Univariate rational function field over GF(2) by\n",
      "y^2 + (x^3 + x + 1)*y + x^6 + x^3 + x^2 + x]\n",
      "2 2 5\n",
      "2.2.b_d [Algebraic function field defined over Univariate rational function field over GF(2) by\n",
      "y^2 + (x^3 + x + 1)*y + x^6 + x^5 + x^4 + x^2]\n",
      "2.2.c_e [Algebraic function field defined over Univariate rational function field over GF(2) by\n",
      "y^2 + y + x^5 + x^4]\n",
      "2 3 5\n",
      "3.2.ad_g_ai [Algebraic function field defined over Univariate rational function field over GF(2) by\n",
      "y^2 + (x^4 + x^2 + 1)*y + x^8 + x + 1]\n",
      "3.2.ab_a_c [Algebraic function field defined over Univariate rational function field over GF(2) by\n",
      "x*y^3 + (x^2 + x)*y^2 + y + x^4, Algebraic function field defined over Univariate rational function field over GF(2) by\n",
      "x*y^3 + x^2*y^2 + (x^2 + 1)*y + x^4]\n",
      "3.2.ab_c_ac [Algebraic function field defined over Univariate rational function field over GF(2) by\n",
      "y^2 + x*y + x^7 + x^5 + x]\n",
      "3.2.a_a_f [Algebraic function field defined over Univariate rational function field over GF(2) by\n",
      "x*y^3 + y + x^3]\n",
      "3.2.a_c_ab [Algebraic function field defined over Univariate rational function field over GF(2) by\n",
      "y^2 + (x^4 + x^2 + x + 1)*y + x^6 + x^5 + x^2 + 1]\n",
      "3.2.a_c_b [Algebraic function field defined over Univariate rational function field over GF(2) by\n",
      "y^2 + (x^4 + x^2 + x + 1)*y + x^8 + x^6 + x^5 + x^4]\n",
      "3.2.b_c_c [Algebraic function field defined over Univariate rational function field over GF(2) by\n",
      "y^2 + x*y + x^7 + x^5 + x^2 + x]\n",
      "3.2.b_c_e [Algebraic function field defined over Univariate rational function field over GF(2) by\n",
      "y^2 + (x^4 + x^2)*y + x^2 + x]\n",
      "2 3 6\n",
      "3.2.b_d_c [Algebraic function field defined over Univariate rational function field over GF(2) by\n",
      "y^3 + x^2*y^2 + x^2*y + x^4 + x^3 + x^2 + x]\n",
      "3.2.b_d_e [Algebraic function field defined over Univariate rational function field over GF(2) by\n",
      "x*y^3 + (x + 1)*y^2 + x^4 + x^3 + x]\n",
      "3.2.b_e_d [Algebraic function field defined over Univariate rational function field over GF(2) by\n",
      "y^3 + x^2*y^2 + (x^3 + x^2)*y + x^4 + x]\n",
      "3.2.c_d_d [Algebraic function field defined over Univariate rational function field over GF(2) by\n",
      "(x + 1)*y^3 + y + x^3]\n",
      "2 4 7\n",
      "4.2.a_c_ab_c [Algebraic function field defined over Univariate rational function field over GF(2) by\n",
      "x^3*y^3 + (x^3 + x^2)*y + x^6 + x^3 + 1]\n",
      "4.2.a_c_ab_g [Algebraic function field defined over Univariate rational function field over GF(2) by\n",
      "(x^2 + 1)*y^4 + (x^3 + x^2 + x + 1)*y^3 + (x^5 + x^4)*y + x^6 + x^3 + x^2]\n",
      "4.2.a_c_b_c [Algebraic function field defined over Univariate rational function field over GF(2) by\n",
      "x^2*y^4 + (x^3 + 1)*y^2 + (x^3 + x^2 + x + 1)*y + x^6 + x^5 + x^3 + x^2]\n",
      "4.2.a_c_d_c [Algebraic function field defined over Univariate rational function field over GF(2) by\n",
      "(x^2 + x + 1)*y^4 + (x^3 + x^2)*y^3 + (x^4 + x^3 + 1)*y^2 + (x^4 + x^3 + x^2)*y + x^5 + x^4 + x^3 + x]\n",
      "4.2.a_d_b_f [Algebraic function field defined over Univariate rational function field over GF(2) by\n",
      "x^3*y^3 + (x^3 + x^2)*y + x^6 + x^5 + 1]\n",
      "4.2.a_d_b_h [Algebraic function field defined over Univariate rational function field over GF(2) by\n",
      "(x^2 + x + 1)*y^4 + x^3*y^3 + (x^4 + x^2 + 1)*y^2 + x^5 + x^3 + x]\n",
      "4.2.b_b_c_f [Algebraic function field defined over Univariate rational function field over GF(2) by\n",
      "(x + 1)*y^3 + (x^2 + x)*y^2 + (x^3 + x)*y + x^5]\n",
      "4.2.b_c_a_a [Algebraic function field defined over Univariate rational function field over GF(2) by\n",
      "y^2 + x^2*y + x^9 + x^7 + x + 1]\n",
      "4.2.c_e_h_k [Algebraic function field defined over Univariate rational function field over GF(2) by\n",
      "y^2 + (x^3 + x + 1)*y + x^9 + x^7]\n",
      "2 4 8\n",
      "4.2.d_i_o_x [Algebraic function field defined over Univariate rational function field over GF(2) by\n",
      "(x + 1)*y^3 + (x^3 + x^2 + 1)*y^2 + x*y + x^4]\n",
      "2 5 9\n",
      "5.2.ab_d_b_b_j [Algebraic function field defined over Univariate rational function field over GF(2) by\n",
      "(x^4 + x^3 + x^2)*y^4 + (x^5 + x^3 + x)*y^3 + (x^3 + 1)*y^2 + (x^7 + x + 1)*y + x^7 + x^4 + x + 1]\n",
      "5.2.b_c_e_i_i [Algebraic function field defined over Univariate rational function field over GF(2) by\n",
      "y^2 + x^3*y + x^11 + x^9 + x^5 + x^3 + x^2 + x, Algebraic function field defined over Univariate rational function field over GF(2) by\n",
      "y^4 + (x^4 + x^2)*y^2 + (x^4 + x^2 + 1)*y + x^8 + x^6 + x^4 + x]\n",
      "5.2.b_f_f_p_l [Algebraic function field defined over Univariate rational function field over GF(2) by\n",
      "(x^4 + x^3 + x^2)*y^4 + (x^5 + x^3 + x^2)*y^3 + (x^6 + x^3 + x^2 + x + 1)*y^2 + (x^7 + x^5 + x^4 + x^3 + 1)*y + x^5 + x^4 + x^3 + x^2 + x + 1]\n",
      "5.2.b_f_f_p_p [Algebraic function field defined over Univariate rational function field over GF(2) by\n",
      "y^4 + x^2*y^3 + (x^4 + x^3 + x)*y^2 + (x^5 + 1)*y + x^3 + x^2 + x + 1]\n",
      "5.2.c_e_f_k_o [Algebraic function field defined over Univariate rational function field over GF(2) by\n",
      "y^2 + (x^3 + x + 1)*y + x^12 + x^11 + x^10 + x^7 + x^5 + x^3]\n",
      "5.2.c_f_i_n_r [Algebraic function field defined over Univariate rational function field over GF(2) by\n",
      "y^4 + (x^2 + x)*y^3 + (x^4 + x^3 + x^2 + 1)*y^2 + (x^6 + x^5 + x^4 + 1)*y + x^7 + x^6 + x + 1]\n",
      "5.2.c_f_i_p_t [Algebraic function field defined over Univariate rational function field over GF(2) by\n",
      "(x^4 + x^2 + x)*y^4 + (x^4 + x^3 + x + 1)*y^3 + (x^6 + x^2)*y^2 + (x^6 + x^3 + x^2 + x)*y + x^6 + x^5 + 1]\n",
      "5.2.c_f_i_p_v [Algebraic function field defined over Univariate rational function field over GF(2) by\n",
      "(x^2 + x + 1)*y^6 + x*y^5 + (x^4 + x)*y^4 + (x^5 + x^4 + x^3 + x^2 + x + 1)*y^3 + (x^5 + x^3 + 1)*y^2 + (x^6 + x^4 + x^2)*y + x^8 + x^7 + x^6 + x^5 + x^4 + x^3 + x^2 + x]\n",
      "5.2.c_g_j_q_u [Algebraic function field defined over Algebraic function field defined over Univariate rational function field over GF(2) by\n",
      "y^2 + y + x^3 + 1 by\n",
      "$.1^2 + ($.1 + (x^2 + 1))*$.1 + $.1 + x^3]\n",
      "5.2.d_h_n_z_bl [Algebraic function field defined over Univariate rational function field over GF(2) by\n",
      "y^2 + (x^6 + x^5 + x^4 + x^3 + x^2 + x + 1)*y + x^10 + x^6 + x^4 + x^3]\n",
      "5.2.d_i_q_bc_bs [Algebraic function field defined over Univariate rational function field over GF(2) by\n",
      "y^4 + (x^4 + x^2)*y^2 + (x^4 + x^2 + 1)*y + x^6 + x^5]\n",
      "3 2 4\n",
      "2.2.ac_e [Algebraic function field defined over Univariate rational function field over GF(2) by\n",
      "y^2 + y + x^5 + x^4 + 1]\n",
      "2.2.b_b [Algebraic function field defined over Univariate rational function field over GF(2) by\n",
      "y^2 + (x^3 + x + 1)*y + x^6 + x^3 + x^2 + x]\n",
      "3 2 6\n",
      "2.2.a_c [Algebraic function field defined over Univariate rational function field over GF(2) by\n",
      "y^2 + y + x^5 + x^4 + x^3]\n",
      "2.2.b_c [Algebraic function field defined over Univariate rational function field over GF(2) by\n",
      "y^2 + x*y + x^5 + x^3 + x^2 + x]\n",
      "2.2.b_d [Algebraic function field defined over Univariate rational function field over GF(2) by\n",
      "y^2 + (x^3 + x + 1)*y + x^6 + x^5 + x^4 + x^2]\n",
      "3 3 7\n",
      "3.2.a_b_a [Algebraic function field defined over Univariate rational function field over GF(2) by\n",
      "y^4 + (x^3 + 1)*y + x^4]\n",
      "3.2.a_b_d [Algebraic function field defined over Univariate rational function field over GF(2) by\n",
      "y^3 + x^2*y^2 + x^3*y + x^4 + x^3 + x]\n",
      "3.2.b_b_b [Algebraic function field defined over Univariate rational function field over GF(2) by\n",
      "y^3 + x*y^2 + (x^3 + 1)*y + x^4]\n",
      "3.2.b_b_e [Algebraic function field defined over Univariate rational function field over GF(2) by\n",
      "y^3 + (x^2 + x)*y^2 + y + x^3]\n",
      "3.2.b_c_b [Algebraic function field defined over Univariate rational function field over GF(2) by\n",
      "x*y^3 + x*y^2 + y + x^3]\n",
      "3.2.b_c_e [Algebraic function field defined over Univariate rational function field over GF(2) by\n",
      "y^4 + x*y^2 + y + x^4]\n",
      "3.2.b_e_e [Algebraic function field defined over Univariate rational function field over GF(2) by\n",
      "y^3 + x^2*y^2 + x*y + x^4 + x]\n",
      "3 4 10\n",
      "4.2.d_f_k_s [Algebraic function field defined over Univariate rational function field over GF(2) by\n",
      "x^2*y^3 + (x^4 + x^2 + 1)*y + x^4 + x^2 + x + 1]\n"
     ]
    },
    {
     "name": "stdout",
     "output_type": "stream",
     "text": [
      "4.2.e_j_q_z [Algebraic function field defined over Univariate rational function field over GF(2) by\n",
      "x*y^3 + (x^2 + x + 1)*y^2 + (x^4 + x)*y + x^5 + x^4]\n",
      "4 2 5\n",
      "2.2.ab_c [Algebraic function field defined over Univariate rational function field over GF(2) by\n",
      "y^2 + x*y + x^5 + x^3 + x]\n",
      "4 3 9\n",
      "5 2 6\n",
      "2.2.a_a [Algebraic function field defined over Univariate rational function field over GF(2) by\n",
      "y^2 + y + x^5]\n",
      "2.2.b_c [Algebraic function field defined over Univariate rational function field over GF(2) by\n",
      "y^2 + x*y + x^5 + x^3 + x^2 + x]\n",
      "2.2.c_e [Algebraic function field defined over Univariate rational function field over GF(2) by\n",
      "y^2 + y + x^5 + x^4]\n",
      "6 2 7\n",
      "7 2 8\n",
      "2.2.c_d [Algebraic function field defined over Univariate rational function field over GF(2) by\n",
      "y^2 + (x^2 + x + 1)*y + x^5 + x^4 + x^2 + x]\n"
     ]
    }
   ],
   "source": [
    "for (d, g, g1) in covers_by_poly:\n",
    "    print(d,g,g1)\n",
    "    for s in covers_by_poly[d,g,g1]:\n",
    "        if covers_by_poly[d,g,g1][s]:\n",
    "            l = isomorphism_class_reps(list(covers_by_poly[d,g,g1][s].keys()))\n",
    "            print(s, l)"
   ]
  },
  {
   "cell_type": "markdown",
   "metadata": {},
   "source": [
    "Check that no covers that occur for $d=4, g=2, g'=5$ are dihedral, by comparing options for the intermediate covers with $(d,g,g') = (2,2,3)$ and $(d,g,g') = (2,3,5)$."
   ]
  },
  {
   "cell_type": "code",
   "execution_count": 21,
   "metadata": {},
   "outputs": [
    {
     "data": {
      "text/plain": [
       "{Algebraic function field defined over Univariate rational function field over GF(2) by\n",
       " y^2 + x*y + x^5 + x^3 + x: [Algebraic function field defined over Algebraic function field defined over Univariate rational function field over GF(2) by\n",
       "  y^2 + x*y + x^5 + x^3 + x by\n",
       "  $.1^2 + $.1 + x^3 + x + 1]}"
      ]
     },
     "execution_count": 21,
     "metadata": {},
     "output_type": "execute_result"
    }
   ],
   "source": [
    "covers_by_poly[2,2,3]['2.2.ab_c']"
   ]
  },
  {
   "cell_type": "code",
   "execution_count": 22,
   "metadata": {},
   "outputs": [
    {
     "data": {
      "text/plain": [
       "{Algebraic function field defined over Univariate rational function field over GF(2) by\n",
       " y^2 + (x^4 + x^2 + 1)*y + x^8 + x + 1: [Algebraic function field defined over Algebraic function field defined over Univariate rational function field over GF(2) by\n",
       "  y^2 + (x^4 + x^2 + 1)*y + x^8 + x + 1 by\n",
       "  $.1^2 + $.1 + $.1 + x^2 + 1,\n",
       "  Algebraic function field defined over Algebraic function field defined over Univariate rational function field over GF(2) by\n",
       "  y^2 + (x^4 + x^2 + 1)*y + x^8 + x + 1 by\n",
       "  $.1^2 + $.1 + $.1 + x^2]}"
      ]
     },
     "execution_count": 22,
     "metadata": {},
     "output_type": "execute_result"
    }
   ],
   "source": [
    "covers_by_poly[2,3,5]['3.2.ad_g_ai']"
   ]
  },
  {
   "cell_type": "code",
   "execution_count": 23,
   "metadata": {},
   "outputs": [
    {
     "data": {
      "text/plain": [
       "{Algebraic function field defined over Univariate rational function field over GF(2) by\n",
       " y^2 + x*y + x^5 + x^3 + x: [Algebraic function field defined over Algebraic function field defined over Univariate rational function field over GF(2) by\n",
       "  y^2 + x*y + x^5 + x^3 + x by\n",
       "  $.1^4 + (x^3 + x)*$.1^2 + (x^3 + x + 1)*$.1 + (x^4 + x)*$.1 + x^10 + x^8 + x^7 + x^3 + x^2 + x + 1,\n",
       "  Algebraic function field defined over Algebraic function field defined over Univariate rational function field over GF(2) by\n",
       "  y^2 + x*y + x^5 + x^3 + x by\n",
       "  $.1^4 + (x^3 + x)*$.1^2 + (x^3 + x + 1)*$.1 + (x^4 + x)*$.1 + x^10 + x^8 + x^7 + x^2 + 1]}"
      ]
     },
     "execution_count": 23,
     "metadata": {},
     "output_type": "execute_result"
    }
   ],
   "source": [
    "covers_by_poly[4,2,5]['2.2.ab_c']"
   ]
  },
  {
   "cell_type": "code",
   "execution_count": 24,
   "metadata": {},
   "outputs": [
    {
     "name": "stdout",
     "output_type": "stream",
     "text": [
      "true\n",
      "true\n",
      "true\n",
      "true\n"
     ]
    }
   ],
   "source": [
    "for _, l1 in covers_by_poly[2,3,5]['3.2.ad_g_ai'].items():\n",
    "    for _, l2 in covers_by_poly[4,2,5]['2.2.ab_c'].items():\n",
    "        for F1 in l1:\n",
    "            for F2 in l2:\n",
    "                print(F1.IsIsomorphic(F2))"
   ]
  },
  {
   "cell_type": "markdown",
   "metadata": {},
   "source": [
    "Identify base curves $C$ when $(d,g,g') = (2,7,13)$ and $\\#C(\\mathbb{F}_2) = 6$."
   ]
  },
  {
   "cell_type": "code",
   "execution_count": 25,
   "metadata": {},
   "outputs": [],
   "source": [
    "P.<T> = QQ[]\n",
    "u0 = T^6 + 3*T^5 - 3*T^4 - 11*T^3 + 3*T^2 + 9*T - 4\n",
    "l1 = []\n",
    "for F in function_fields_by_weil_poly('1.2.a'):\n",
    "    places3 = [i for i in F.Places(3)]\n",
    "    z = F.DivisorGroup().Identity()\n",
    "    M = z + 2*places3[0] + 2*places3[1]\n",
    "    for F1 in cyclic_covers_by_ramification(F, 2, M, delta=6):\n",
    "        s = magma_poly_list(F1.ZetaFunction().Numerator() // F.ZetaFunction().Numerator())\n",
    "        u = P(s).reverse()\n",
    "        u1 = u.trace_polynomial()[0]\n",
    "        if u1 == u0:\n",
    "            l1 += match_weil_poly(F1, 2)"
   ]
  },
  {
   "cell_type": "code",
   "execution_count": 26,
   "metadata": {},
   "outputs": [
    {
     "name": "stdout",
     "output_type": "stream",
     "text": [
      "[(Algebraic function field defined over Algebraic function field defined over Univariate rational function field over GF(2) by\n",
      "y^2 + y + x^3 by\n",
      "$.1^2 + $.1 + x^2/(x^3 + x^2 + 1), Algebraic function field defined over Algebraic function field defined over Algebraic function field defined over Univariate rational function field over GF(2) by\n",
      "y^2 + y + x^3 by\n",
      "$.1^2 + $.1 + x^2/(x^3 + x^2 + 1) by\n",
      "$.1^2 + $.1 + ((x^6 + x^4 + x^3 + x^2)*$.1 + (x^9 + x^7 + x^4 + x))*w + (x^5 + x^2 + x)*$.1 + x^8 + x^2 + x + 1)]\n"
     ]
    }
   ],
   "source": [
    "print(l1)"
   ]
  },
  {
   "cell_type": "code",
   "execution_count": 27,
   "metadata": {},
   "outputs": [],
   "source": [
    "covers_by_poly[2, 7, 13] = {}\n",
    "for (F, F1) in l1:\n",
    "    u = P(magma_poly_list(F.ZetaFunction().Numerator())).reverse()\n",
    "    s = label_from_weil_poly(u)\n",
    "    if s not in covers_by_poly[2, 7, 13]:\n",
    "        covers_by_poly[2, 7, 13][s] = {}\n",
    "    if F not in covers_by_poly[2, 7, 13][s]:\n",
    "        covers_by_poly[2, 7, 13][s][F] = []\n",
    "    if F1 not in covers_by_poly[2, 7, 13][s][F]:\n",
    "        covers_by_poly[2, 7, 13][s][F].append(F1)"
   ]
  },
  {
   "cell_type": "markdown",
   "metadata": {},
   "source": [
    "Convert the covers into numerical data in preparation for writing out to the spreadsheet."
   ]
  },
  {
   "cell_type": "code",
   "execution_count": 28,
   "metadata": {},
   "outputs": [
    {
     "name": "stdout",
     "output_type": "stream",
     "text": [
      "2 2 3\n",
      "2 2 4\n",
      "2 2 5\n",
      "2 3 5\n",
      "2 3 6\n",
      "2 4 7\n",
      "2 4 8\n",
      "2 5 9\n",
      "2 6 11\n",
      "2 7 13\n",
      "3 2 4\n",
      "3 2 6\n",
      "3 3 7\n",
      "3 4 10\n",
      "4 2 5\n",
      "4 3 9\n",
      "5 2 6\n",
      "6 2 7\n",
      "7 2 8\n"
     ]
    }
   ],
   "source": [
    "l = []\n",
    "for (d, g, g1) in candidates:\n",
    "    print(d, g, g1)\n",
    "    if (d, g, g1) in covers_by_poly:\n",
    "        for s in covers_by_poly[d, g, g1]:\n",
    "            for F in covers_by_poly[d, g, g1][s]:\n",
    "                for F1 in covers_by_poly[d, g, g1][s][F]:\n",
    "                    u1 = T.parent()(magma_poly_list(F.ZetaFunction().Numerator())).reverse()\n",
    "                    v1 = T.parent()(magma_poly_list(F1.ZetaFunction().Numerator())).reverse()\n",
    "                    l.append((d, g, g1, point_count_from_weil_poly(u1, 13),\n",
    "                              point_count_from_weil_poly(v1, 13)))"
   ]
  },
  {
   "cell_type": "markdown",
   "metadata": {},
   "source": [
    "Write the results back to the spreadsheet. In the process, we check that every covering we found gives a pair of Weil polynomials from our original list."
   ]
  },
  {
   "cell_type": "code",
   "execution_count": 29,
   "metadata": {},
   "outputs": [],
   "source": [
    "df['Cyclic'] = 'No'\n",
    "used_pols = []\n",
    "for i in range(len(df)):\n",
    "    r = df.iloc[i]\n",
    "    d = r[\"d\"]\n",
    "    g = r[\"g\"]\n",
    "    g1 = r[\"g'\"]\n",
    "    ct1 = eval(r[\"Counts of C\"])\n",
    "    ct2 = eval(r[\"Counts of C'\"])\n",
    "    if (d, g, g1, ct1, ct2) in l:\n",
    "        df.loc[i, \"Cyclic\"] = \"Yes\"\n",
    "        used_pols.append((d, g, g1, ct1, ct2))\n",
    "    elif d == 2 and (g == 6 or g == 7):\n",
    "        df.loc[i, \"Cyclic\"] = \"Unknown\"\n",
    "assert all(t in used_pols for t in l)"
   ]
  },
  {
   "cell_type": "code",
   "execution_count": 30,
   "metadata": {},
   "outputs": [],
   "source": [
    "df.to_excel('../Shared/polys.xlsx', sheet_name='Weil polynomials', merge_cells=True, freeze_panes=(int(1),int(1)))"
   ]
  }
 ],
 "metadata": {
  "kernelspec": {
   "display_name": "SageMath 9.4",
   "language": "sage",
   "name": "sagemath"
  },
  "language_info": {
   "codemirror_mode": {
    "name": "ipython",
    "version": 3
   },
   "file_extension": ".py",
   "mimetype": "text/x-python",
   "name": "python",
   "nbconvert_exporter": "python",
   "pygments_lexer": "ipython3",
   "version": "3.9.5"
  }
 },
 "nbformat": 4,
 "nbformat_minor": 5
}
