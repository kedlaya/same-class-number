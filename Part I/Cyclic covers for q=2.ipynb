{
 "cells": [
  {
   "cell_type": "markdown",
   "id": "57a2410b",
   "metadata": {},
   "source": [
    "This notebook is associated with the paper \"The relative class number one problem for function fields, I\" by K.S. Kedlaya. It runs in SageMath (tested using version 9.5) and depends on Magma (tested using version\n",
    "2.26-9); it also requires the pandas and openpyxl libraries (`sage --pip install openpyxl/pandas`).\n",
    "\n",
    "In this notebook, we compute cyclic purely geometric extensions with $q=2$ using the upper bound on Weil polynomials. This depends on the exhaustion over Weil polynomials performed in the notebook \"Weil polynomial bound for q=2\" in this repository, the tabulation of curves of genus $\\leq 4$ in LMFDB (including data by Xarles in genus 4), and the data file \"genus5byweilpoly.txt\" created by the notebook \"Genus 5 curves.ipynb\" based on the data of Dragutinović in genus 5. \n",
    "\n",
    "Allow 1 hour for completion when `long == False`. When `long == True`, we run a consistency check where we try all possible base curves instead of using the calculated possibilities."
   ]
  },
  {
   "cell_type": "code",
   "execution_count": 1,
   "id": "0dc3cb42",
   "metadata": {},
   "outputs": [],
   "source": [
    "load(\"../Shared/weil_poly_utils.sage\")\n",
    "load(\"../Shared/cyclic_covers.sage\")\n",
    "load(\"../Shared/function_fields.sage\")"
   ]
  },
  {
   "cell_type": "code",
   "execution_count": 2,
   "id": "16791227",
   "metadata": {},
   "outputs": [],
   "source": [
    "long = False"
   ]
  },
  {
   "cell_type": "markdown",
   "id": "80907588",
   "metadata": {},
   "source": [
    "# Setup"
   ]
  },
  {
   "cell_type": "markdown",
   "id": "223af62a",
   "metadata": {},
   "source": [
    "Read data about the exhaustion from an Excel spreadsheet. Note that we only use the data about base curves $C$, not covering curves $C'$ (except at the end to match up the results)."
   ]
  },
  {
   "cell_type": "code",
   "execution_count": 3,
   "id": "9850875a",
   "metadata": {},
   "outputs": [],
   "source": [
    "import pandas, itertools, re, pickle\n",
    "from collections import defaultdict"
   ]
  },
  {
   "cell_type": "code",
   "execution_count": 4,
   "id": "cb3ca7d6",
   "metadata": {},
   "outputs": [],
   "source": [
    "df = pandas.read_excel('../Shared/polys.xlsx', index_col=int(0))"
   ]
  },
  {
   "cell_type": "code",
   "execution_count": 5,
   "id": "7561188e",
   "metadata": {},
   "outputs": [
    {
     "name": "stdout",
     "output_type": "stream",
     "text": [
      "['d', 'g', \"g'\", 'Label of J(C)', '#J(C)(F_2)', '#J(C)(F_4)', 'Counts of C', \"Counts of C'\"]\n"
     ]
    }
   ],
   "source": [
    "if \"Unnamed: 0\" in df:\n",
    "    del df[\"Unnamed: 0\"]\n",
    "if \"Cyclic\" in df:\n",
    "    del df[\"Cyclic\"]\n",
    "print(list(df))"
   ]
  },
  {
   "cell_type": "code",
   "execution_count": 6,
   "id": "28c64b64",
   "metadata": {},
   "outputs": [],
   "source": [
    "candidates = {}\n",
    "for i in range(len(df)):\n",
    "    r = df.iloc[i]\n",
    "    d = r[\"d\"]\n",
    "    g = r[\"g\"]\n",
    "    g1 = r[\"g'\"]\n",
    "    if (d,g,g1) not in candidates:\n",
    "        candidates[d,g,g1] = []\n",
    "    s = r[\"Label of J(C)\"]\n",
    "    if s not in candidates[d,g,g1]:\n",
    "        candidates[d,g,g1].append(s)"
   ]
  },
  {
   "cell_type": "markdown",
   "id": "5897e74b",
   "metadata": {},
   "source": [
    "# Construction of extensions"
   ]
  },
  {
   "cell_type": "markdown",
   "id": "815dbad8",
   "metadata": {},
   "source": [
    "Construct extensions with relative class number 1.\n",
    "\n",
    "If `long == True`, ignore the Weil polynomial bound and instead try *all* base curves of the specified genus."
   ]
  },
  {
   "cell_type": "code",
   "execution_count": 7,
   "id": "861d4445",
   "metadata": {},
   "outputs": [],
   "source": [
    "def match_weil_poly_general(s, d, delta=0, verbose=False):\n",
    "    l = s.split(\".\")\n",
    "    g = Integer(l[0])\n",
    "    g1 = g + (d-1)*(g-1) + delta\n",
    "    ans = []\n",
    "    for F in function_fields_by_weil_poly(s):\n",
    "        ans.append((s, match_weil_poly(F, d, delta=delta, verbose=verbose)))\n",
    "    if ans:\n",
    "        if (d, g, g1) not in covers_by_poly:\n",
    "            covers_by_poly[d, g, g1] = {}\n",
    "        if s not in covers_by_poly[d, g, g1]:\n",
    "            covers_by_poly[d, g, g1][s] = {}\n",
    "        for (_, l) in ans:\n",
    "            for (F, F1) in l:\n",
    "                if F not in covers_by_poly[d, g, g1][s]:\n",
    "                    covers_by_poly[d, g, g1][s][F] = []\n",
    "                if F1 not in covers_by_poly[d, g, g1][s][F]:\n",
    "                    covers_by_poly[d, g, g1][s][F].append(F1)\n",
    "    return ans"
   ]
  },
  {
   "cell_type": "code",
   "execution_count": 8,
   "id": "05548a12",
   "metadata": {},
   "outputs": [],
   "source": [
    "covers_by_poly = {}"
   ]
  },
  {
   "cell_type": "code",
   "execution_count": 9,
   "id": "a222f327",
   "metadata": {},
   "outputs": [
    {
     "name": "stdout",
     "output_type": "stream",
     "text": [
      "2 2 3\n",
      "2 2 4\n",
      "2 2 5\n",
      "2 3 5\n",
      "2 3 6\n",
      "2 4 7\n",
      "2 4 8\n",
      "2 5 9\n",
      "2 6 11\n",
      "2 7 13\n",
      "3 2 4\n",
      "3 2 6\n",
      "3 3 7\n",
      "3 4 10\n",
      "4 2 5\n",
      "4 2 6\n",
      "4 3 9\n",
      "5 2 6\n",
      "6 2 7\n",
      "7 2 8\n"
     ]
    }
   ],
   "source": [
    "P.<T> = QQ[]\n",
    "for (d, g, g1) in candidates:\n",
    "    print(d, g, g1)\n",
    "    delta = g1-g-(d-1)*(g-1)\n",
    "    covers_by_poly[d, g, g1] = {}\n",
    "    for s in curves_by_poly[g] if long else candidates[d,g,g1]:\n",
    "        u = weil_poly_from_label(P, s)\n",
    "        if delta or (u(1) % d == 0):\n",
    "            match_weil_poly_general(s, d, delta=g1-g-(d-1)*(g-1))"
   ]
  },
  {
   "cell_type": "markdown",
   "id": "3312ca56",
   "metadata": {},
   "source": [
    "Verify that no base field is repeated."
   ]
  },
  {
   "cell_type": "code",
   "execution_count": 10,
   "id": "b83f8337",
   "metadata": {},
   "outputs": [
    {
     "name": "stdout",
     "output_type": "stream",
     "text": [
      "2 2 3\n",
      "2 2 4\n",
      "2 2 5\n",
      "2 3 5\n",
      "2 3 6\n",
      "2 4 7\n",
      "2 4 8\n",
      "2 5 9\n",
      "2 6 11\n",
      "2 7 13\n",
      "3 2 4\n",
      "3 2 6\n",
      "3 3 7\n",
      "3 4 10\n",
      "4 2 5\n",
      "4 2 6\n",
      "4 3 9\n",
      "5 2 6\n",
      "6 2 7\n",
      "7 2 8\n"
     ]
    }
   ],
   "source": [
    "for (d, g, g1) in covers_by_poly:\n",
    "    print(d,g,g1)\n",
    "    for s in covers_by_poly[d,g,g1]:\n",
    "        if covers_by_poly[d,g,g1][s]:\n",
    "            l1 = list(covers_by_poly[d,g,g1][s].keys())\n",
    "            l2 = isomorphism_class_reps(l1)\n",
    "            assert len(l1) == len(l2)"
   ]
  },
  {
   "cell_type": "markdown",
   "id": "4576c17b",
   "metadata": {},
   "source": [
    "Verify that each base curve gives rise to a unique cover of the specified degree and genus."
   ]
  },
  {
   "cell_type": "code",
   "execution_count": 11,
   "id": "131c9228",
   "metadata": {},
   "outputs": [
    {
     "name": "stdout",
     "output_type": "stream",
     "text": [
      "2 2 3\n",
      "2 2 4\n",
      "2 2 5\n",
      "2 3 5\n",
      "2 3 6\n",
      "2 4 7\n",
      "2 4 8\n",
      "2 5 9\n",
      "2 6 11\n",
      "2 7 13\n",
      "3 2 4\n",
      "3 2 6\n",
      "3 3 7\n",
      "3 4 10\n",
      "4 2 5\n",
      "4 2 6\n",
      "4 3 9\n",
      "5 2 6\n",
      "6 2 7\n",
      "7 2 8\n"
     ]
    }
   ],
   "source": [
    "for (d, g, g1) in covers_by_poly:\n",
    "    print(d,g,g1)\n",
    "    for s in covers_by_poly[d,g,g1]:\n",
    "        for F, l1 in covers_by_poly[d,g,g1][s].items():\n",
    "            if len(l1) > 1:\n",
    "                assert len(l1) == 2\n",
    "                F1 = l1[0].RationalExtensionRepresentation()\n",
    "                F2 = l1[1].RationalExtensionRepresentation()\n",
    "                assert F1.IsIsomorphic(F2)"
   ]
  },
  {
   "cell_type": "markdown",
   "id": "5043ca37",
   "metadata": {},
   "source": [
    "Count cyclic covers arising from this calculation."
   ]
  },
  {
   "cell_type": "code",
   "execution_count": 12,
   "id": "23bc361c",
   "metadata": {},
   "outputs": [
    {
     "data": {
      "text/plain": [
       "64"
      ]
     },
     "execution_count": 12,
     "metadata": {},
     "output_type": "execute_result"
    }
   ],
   "source": [
    "sum(1 for (d,g,g1) in covers_by_poly for s in covers_by_poly[d,g,g1] for l1 in covers_by_poly[d,g,g1][s].values() if l1)"
   ]
  },
  {
   "cell_type": "markdown",
   "id": "a251dee5",
   "metadata": {},
   "source": [
    "# Populating the spreadsheet"
   ]
  },
  {
   "cell_type": "markdown",
   "id": "5b15e865",
   "metadata": {},
   "source": [
    "Convert the covers into numerical data in preparation for writing out to the spreadsheet."
   ]
  },
  {
   "cell_type": "code",
   "execution_count": 13,
   "id": "acee2601",
   "metadata": {},
   "outputs": [
    {
     "name": "stdout",
     "output_type": "stream",
     "text": [
      "2 2 3\n"
     ]
    },
    {
     "ename": "KeyError",
     "evalue": "Algebraic function field defined over Univariate rational function field over GF(2) by\ny^2 + x*y + x^5 + x^3 + x",
     "output_type": "error",
     "traceback": [
      "\u001b[0;31m---------------------------------------------------------------------------\u001b[0m",
      "\u001b[0;31mKeyError\u001b[0m                                  Traceback (most recent call last)",
      "\u001b[0;32m/tmp/ipykernel_74361/2223400683.py\u001b[0m in \u001b[0;36m<module>\u001b[0;34m\u001b[0m\n\u001b[1;32m      5\u001b[0m         \u001b[0;32mfor\u001b[0m \u001b[0ms\u001b[0m \u001b[0;32min\u001b[0m \u001b[0mcovers_by_poly\u001b[0m\u001b[0;34m[\u001b[0m\u001b[0md\u001b[0m\u001b[0;34m,\u001b[0m \u001b[0mg\u001b[0m\u001b[0;34m,\u001b[0m \u001b[0mg1\u001b[0m\u001b[0;34m]\u001b[0m\u001b[0;34m:\u001b[0m\u001b[0;34m\u001b[0m\u001b[0;34m\u001b[0m\u001b[0m\n\u001b[1;32m      6\u001b[0m             \u001b[0;32mfor\u001b[0m \u001b[0mF\u001b[0m \u001b[0;32min\u001b[0m \u001b[0mcovers_by_poly\u001b[0m\u001b[0;34m[\u001b[0m\u001b[0md\u001b[0m\u001b[0;34m,\u001b[0m \u001b[0mg\u001b[0m\u001b[0;34m,\u001b[0m \u001b[0mg1\u001b[0m\u001b[0;34m]\u001b[0m\u001b[0;34m[\u001b[0m\u001b[0ms\u001b[0m\u001b[0;34m]\u001b[0m\u001b[0;34m:\u001b[0m\u001b[0;34m\u001b[0m\u001b[0;34m\u001b[0m\u001b[0m\n\u001b[0;32m----> 7\u001b[0;31m                 \u001b[0;32mfor\u001b[0m \u001b[0mF1\u001b[0m \u001b[0;32min\u001b[0m \u001b[0mcovers_by_poly\u001b[0m\u001b[0;34m[\u001b[0m\u001b[0md\u001b[0m\u001b[0;34m,\u001b[0m \u001b[0mg\u001b[0m\u001b[0;34m,\u001b[0m \u001b[0mg1\u001b[0m\u001b[0;34m]\u001b[0m\u001b[0;34m[\u001b[0m\u001b[0ms\u001b[0m\u001b[0;34m]\u001b[0m\u001b[0;34m[\u001b[0m\u001b[0mF\u001b[0m\u001b[0;34m]\u001b[0m\u001b[0;34m:\u001b[0m\u001b[0;34m\u001b[0m\u001b[0;34m\u001b[0m\u001b[0m\n\u001b[0m\u001b[1;32m      8\u001b[0m                     \u001b[0mu1\u001b[0m \u001b[0;34m=\u001b[0m \u001b[0mT\u001b[0m\u001b[0;34m.\u001b[0m\u001b[0mparent\u001b[0m\u001b[0;34m(\u001b[0m\u001b[0;34m)\u001b[0m\u001b[0;34m(\u001b[0m\u001b[0mmagma_poly_list\u001b[0m\u001b[0;34m(\u001b[0m\u001b[0mF\u001b[0m\u001b[0;34m.\u001b[0m\u001b[0mZetaFunction\u001b[0m\u001b[0;34m(\u001b[0m\u001b[0;34m)\u001b[0m\u001b[0;34m.\u001b[0m\u001b[0mNumerator\u001b[0m\u001b[0;34m(\u001b[0m\u001b[0;34m)\u001b[0m\u001b[0;34m)\u001b[0m\u001b[0;34m)\u001b[0m\u001b[0;34m.\u001b[0m\u001b[0mreverse\u001b[0m\u001b[0;34m(\u001b[0m\u001b[0;34m)\u001b[0m\u001b[0;34m\u001b[0m\u001b[0;34m\u001b[0m\u001b[0m\n\u001b[1;32m      9\u001b[0m                     \u001b[0mv1\u001b[0m \u001b[0;34m=\u001b[0m \u001b[0mT\u001b[0m\u001b[0;34m.\u001b[0m\u001b[0mparent\u001b[0m\u001b[0;34m(\u001b[0m\u001b[0;34m)\u001b[0m\u001b[0;34m(\u001b[0m\u001b[0mmagma_poly_list\u001b[0m\u001b[0;34m(\u001b[0m\u001b[0mF1\u001b[0m\u001b[0;34m.\u001b[0m\u001b[0mZetaFunction\u001b[0m\u001b[0;34m(\u001b[0m\u001b[0;34m)\u001b[0m\u001b[0;34m.\u001b[0m\u001b[0mNumerator\u001b[0m\u001b[0;34m(\u001b[0m\u001b[0;34m)\u001b[0m\u001b[0;34m)\u001b[0m\u001b[0;34m)\u001b[0m\u001b[0;34m.\u001b[0m\u001b[0mreverse\u001b[0m\u001b[0;34m(\u001b[0m\u001b[0;34m)\u001b[0m\u001b[0;34m\u001b[0m\u001b[0;34m\u001b[0m\u001b[0m\n",
      "\u001b[0;31mKeyError\u001b[0m: Algebraic function field defined over Univariate rational function field over GF(2) by\ny^2 + x*y + x^5 + x^3 + x"
     ]
    }
   ],
   "source": [
    "l = []\n",
    "for (d, g, g1) in candidates:\n",
    "    print(d, g, g1)\n",
    "    if (d, g, g1) in covers_by_poly:\n",
    "        for s in covers_by_poly[d, g, g1]:\n",
    "            for F in covers_by_poly[d, g, g1][s]:\n",
    "                for F1 in covers_by_poly[d, g, g1][s][F]:\n",
    "                    u1 = T.parent()(magma_poly_list(F.ZetaFunction().Numerator())).reverse()\n",
    "                    v1 = T.parent()(magma_poly_list(F1.ZetaFunction().Numerator())).reverse()\n",
    "                    l.append((d, g, g1, point_count_from_weil_poly(u1, 13),\n",
    "                              point_count_from_weil_poly(v1, 13)))"
   ]
  },
  {
   "cell_type": "code",
   "execution_count": null,
   "id": "5fe9d226",
   "metadata": {},
   "outputs": [],
   "source": [
    "covers_by_poly[2,2,3]['2.2.b_c']"
   ]
  },
  {
   "cell_type": "markdown",
   "id": "6c9cf6db",
   "metadata": {},
   "source": [
    "Write the results back to the spreadsheet. In the process, we check that every covering we found gives a pair of Weil polynomials from our original list."
   ]
  },
  {
   "cell_type": "code",
   "execution_count": null,
   "id": "7d337cac",
   "metadata": {},
   "outputs": [],
   "source": [
    "df['Cyclic'] = 'No'\n",
    "used_pols = []\n",
    "for i in range(len(df)):\n",
    "    r = df.iloc[i]\n",
    "    d = r[\"d\"]\n",
    "    g = r[\"g\"]\n",
    "    g1 = r[\"g'\"]\n",
    "    ct1 = eval(r[\"Counts of C\"])\n",
    "    ct2 = eval(r[\"Counts of C'\"])\n",
    "    if (d, g, g1, ct1, ct2) in l:\n",
    "        df.loc[i, \"Cyclic\"] = \"Yes\"\n",
    "        used_pols.append((d, g, g1, ct1, ct2))\n",
    "assert all(t in used_pols for t in l)"
   ]
  },
  {
   "cell_type": "code",
   "execution_count": null,
   "id": "64d6996d",
   "metadata": {},
   "outputs": [],
   "source": [
    "df.to_excel('../Shared/polys.xlsx', sheet_name='Weil polynomials', merge_cells=True, freeze_panes=(int(1),int(1)))"
   ]
  },
  {
   "cell_type": "markdown",
   "id": "eefa1e16",
   "metadata": {},
   "source": [
    "# Tables"
   ]
  },
  {
   "cell_type": "markdown",
   "id": "750da00b",
   "metadata": {},
   "source": [
    "Generate LaTeX-formatted tables of the data for $d=2$ and $d>2$."
   ]
  },
  {
   "cell_type": "code",
   "execution_count": null,
   "id": "82b8cd1a",
   "metadata": {},
   "outputs": [],
   "source": [
    "R0.<x> = GF(2)[]\n",
    "R1.<y> = R0[]\n",
    "print(r'\\begin{tabular}{c|c|c|c|c}')\n",
    "print(r\"$d$ & $g_F$ & $g_{F'}$ & $J(C)$ & $F$ \\\\\")\n",
    "for (d, g, g1) in candidates:\n",
    "    if d > 2:\n",
    "        if any(covers_by_poly[d, g, g1][s] for s in covers_by_poly[d, g, g1]):\n",
    "            print(r'\\hline')\n",
    "            for s in covers_by_poly[d, g, g1]:\n",
    "                if covers_by_poly[d,g,g1][s]:\n",
    "                    for F in covers_by_poly[d, g, g1][s]:\n",
    "                        F1 = F.RationalExtensionRepresentation()\n",
    "                        try:\n",
    "                            u = F1.DefiningPolynomial().sage()\n",
    "                        except SyntaxError:\n",
    "                            u = magma_poly_list(F.DefiningPolynomial())\n",
    "                            u = [R0(magma_poly_list(i.Numerator())) / R0(magma_poly_list(i.Denominator())) for i in u]\n",
    "                            u = R1(u)\n",
    "                        print(r'${}$ & ${}$ & ${}$ & $\\avlink{{{}}}$ & ${}$ \\\\'.format(d, g, g1,\n",
    "                                                        re.sub('_', r'\\_', s),\n",
    "                                                        latex(u)))\n",
    "print(r'\\end{tabular}')"
   ]
  },
  {
   "cell_type": "code",
   "execution_count": null,
   "id": "be07bfa7",
   "metadata": {},
   "outputs": [],
   "source": [
    "R0.<x> = GF(2)[]\n",
    "R1.<y> = R0[]\n",
    "print(r'\\begin{tabular}{c|c|c|p{7.5cm}}')\n",
    "print(r\"$g_F$ & $g_{F'}$ & $J(C)$ & $F$ \\\\\")\n",
    "for (d, g, g1) in candidates:\n",
    "    if d == 2:\n",
    "        if covers_by_poly[d, g, g1]:\n",
    "            print(r'\\hline')\n",
    "            if g == 6:\n",
    "                print(r'\\hline')\n",
    "            for s in covers_by_poly[d, g, g1]:\n",
    "                if covers_by_poly[d,g,g1][s]:\n",
    "                    for F in covers_by_poly[d, g, g1][s]:\n",
    "                        F1 = F.RationalExtensionRepresentation()\n",
    "                        try:\n",
    "                            u = F1.DefiningPolynomial().sage()\n",
    "                        except SyntaxError:\n",
    "                            u = magma_poly_list(F1.DefiningPolynomial())\n",
    "                            u = [R0(magma_poly_list(i.Numerator())) / R0(magma_poly_list(i.Denominator())) for i in u]\n",
    "                            u = R1(u)\n",
    "                        if g < 7: \n",
    "                            s1 = r\"\\avlink{{{}}}\".format(s)\n",
    "                        else:\n",
    "                            s1 = str(tuple(Integer(F.NumberOfPlacesOfDegreeOneECF(i)) for i in range(1, g+1)))\n",
    "                        print(r'${}$ & ${}$ & ${}$ & ${}$ \\\\'.format(g, g1,\n",
    "                                                        re.sub('_', r'\\_', s1),\n",
    "                                                        latex(u)))\n",
    "print(r'\\end{tabular}')"
   ]
  }
 ],
 "metadata": {
  "kernelspec": {
   "display_name": "SageMath 9.5",
   "language": "sage",
   "name": "sagemath"
  },
  "language_info": {
   "codemirror_mode": {
    "name": "ipython",
    "version": 3
   },
   "file_extension": ".py",
   "mimetype": "text/x-python",
   "name": "python",
   "nbconvert_exporter": "python",
   "pygments_lexer": "ipython3",
   "version": "3.9.7"
  }
 },
 "nbformat": 4,
 "nbformat_minor": 5
}
