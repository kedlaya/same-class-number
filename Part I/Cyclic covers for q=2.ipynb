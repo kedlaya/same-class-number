{
 "cells": [
  {
   "cell_type": "markdown",
   "id": "57a2410b",
   "metadata": {},
   "source": [
    "This notebook is associated with the paper \"The relative class number one problem for function fields, I\" by K.S. Kedlaya. It runs in SageMath (tested using version 9.5) and depends on Magma (tested using version\n",
    "2.26-9); it also requires the pandas and openpyxl libraries (`sage --pip install openpyxl/pandas`).\n",
    "\n",
    "In this notebook, we compute cyclic purely geometric extensions with $q=2$ using the upper bound on Weil polynomials. This depends on the exhaustion over Weil polynomials performed in the notebook \"Weil polynomial bound for q=2\" in this repository, the tabulation of curves of genus $\\leq 4$ in LMFDB (including data by Xarles in genus 4), and the data file \"genus5byweilpoly.txt\" created by the notebook \"Genus 5 curves.ipynb\" based on the data of Dragutinović in genus 5. \n",
    "\n",
    "Allow 1 hour for completion when `long == False`. When `long == True`, we run a consistency check where we try all possible base curves instead of using the calculated possibilities; allow 14 hours for this."
   ]
  },
  {
   "cell_type": "code",
   "execution_count": 1,
   "id": "0dc3cb42",
   "metadata": {},
   "outputs": [],
   "source": [
    "load(\"../Shared/weil_poly_utils.sage\")\n",
    "load(\"../Shared/cyclic_covers.sage\")\n",
    "load(\"../Shared/function_fields.sage\")"
   ]
  },
  {
   "cell_type": "code",
   "execution_count": 2,
   "id": "16791227",
   "metadata": {},
   "outputs": [],
   "source": [
    "long = False"
   ]
  },
  {
   "cell_type": "markdown",
   "id": "80907588",
   "metadata": {},
   "source": [
    "# Setup"
   ]
  },
  {
   "cell_type": "markdown",
   "id": "223af62a",
   "metadata": {},
   "source": [
    "Read data about the exhaustion from an Excel spreadsheet. Note that we only use the data about base curves $C$, not covering curves $C'$ (except at the end to match up the results)."
   ]
  },
  {
   "cell_type": "code",
   "execution_count": 3,
   "id": "9850875a",
   "metadata": {},
   "outputs": [],
   "source": [
    "import pandas, itertools, re\n",
    "from collections import defaultdict"
   ]
  },
  {
   "cell_type": "code",
   "execution_count": 4,
   "id": "cb3ca7d6",
   "metadata": {},
   "outputs": [],
   "source": [
    "df = pandas.read_excel('../Shared/polys.xlsx', index_col=int(0))"
   ]
  },
  {
   "cell_type": "code",
   "execution_count": 5,
   "id": "7561188e",
   "metadata": {},
   "outputs": [
    {
     "name": "stdout",
     "output_type": "stream",
     "text": [
      "['d', 'g', \"g'\", 'Label of J(C)', '#J(C)(F_2)', '#J(C)(F_4)', 'Counts of C', \"Counts of C'\"]\n"
     ]
    }
   ],
   "source": [
    "if \"Unnamed: 0\" in df:\n",
    "    del df[\"Unnamed: 0\"]\n",
    "if \"Cyclic\" in df:\n",
    "    del df[\"Cyclic\"]\n",
    "print(list(df))"
   ]
  },
  {
   "cell_type": "code",
   "execution_count": 6,
   "id": "28c64b64",
   "metadata": {},
   "outputs": [],
   "source": [
    "candidates = {}\n",
    "for i in range(len(df)):\n",
    "    r = df.iloc[i]\n",
    "    d = r[\"d\"]\n",
    "    g = r[\"g\"]\n",
    "    g1 = r[\"g'\"]\n",
    "    if (d,g,g1) not in candidates:\n",
    "        candidates[d,g,g1] = []\n",
    "    s = r[\"Label of J(C)\"]\n",
    "    if s not in candidates[d,g,g1]:\n",
    "        candidates[d,g,g1].append(s)"
   ]
  },
  {
   "cell_type": "markdown",
   "id": "5897e74b",
   "metadata": {},
   "source": [
    "# Construction of extensions"
   ]
  },
  {
   "cell_type": "markdown",
   "id": "815dbad8",
   "metadata": {},
   "source": [
    "Construct extensions with relative class number 1.\n",
    "\n",
    "If `long == True`, ignore the Weil polynomial bound and instead try *all* base curves of the specified genus."
   ]
  },
  {
   "cell_type": "code",
   "execution_count": 7,
   "id": "861d4445",
   "metadata": {},
   "outputs": [],
   "source": [
    "def match_weil_poly_general(s, d, delta=0, verbose=False):\n",
    "    l = s.split(\".\")\n",
    "    g = Integer(l[0])\n",
    "    g1 = g + (d-1)*(g-1) + delta\n",
    "    ans = []\n",
    "    for F in function_fields_by_weil_poly(s):\n",
    "        F1 = F.RationalExtensionRepresentation()\n",
    "        ans.append((s, match_weil_poly(F1, d, delta=delta, verbose=verbose)))\n",
    "    if ans:\n",
    "        if (d, g, g1) not in covers_by_poly:\n",
    "            covers_by_poly[d, g, g1] = {}\n",
    "        if s not in covers_by_poly[d, g, g1]:\n",
    "            covers_by_poly[d, g, g1][s] = {}\n",
    "        for (_, l) in ans:\n",
    "            for (F, F1) in l:\n",
    "                if F not in covers_by_poly[d, g, g1][s]:\n",
    "                    covers_by_poly[d, g, g1][s][F] = []\n",
    "                if F1 not in covers_by_poly[d, g, g1][s][F]:\n",
    "                    covers_by_poly[d, g, g1][s][F].append(F1)\n",
    "    return ans"
   ]
  },
  {
   "cell_type": "code",
   "execution_count": 8,
   "id": "05548a12",
   "metadata": {},
   "outputs": [],
   "source": [
    "covers_by_poly = {}"
   ]
  },
  {
   "cell_type": "code",
   "execution_count": 9,
   "id": "a222f327",
   "metadata": {},
   "outputs": [
    {
     "name": "stdout",
     "output_type": "stream",
     "text": [
      "2 2 3\n",
      "2 2 4\n",
      "2 2 5\n",
      "2 3 5\n",
      "2 3 6\n",
      "2 4 7\n",
      "2 4 8\n",
      "2 5 9\n",
      "2 6 11\n",
      "2 7 13\n",
      "3 2 4\n",
      "3 2 6\n",
      "3 3 7\n",
      "3 4 10\n",
      "4 2 5\n",
      "4 2 6\n",
      "4 3 9\n",
      "5 2 6\n",
      "6 2 7\n",
      "7 2 8\n"
     ]
    }
   ],
   "source": [
    "P.<T> = QQ[]\n",
    "for (d, g, g1) in candidates:\n",
    "    delta = g1-g-(d-1)*(g-1)\n",
    "    covers_by_poly[d, g, g1] = {}\n",
    "    print(d, g, g1)\n",
    "    for s in curves_by_poly[g] if long else candidates[d,g,g1]:\n",
    "        u = weil_poly_from_label(P, s)\n",
    "        if delta or (u(1) % d == 0):\n",
    "            ans = match_weil_poly_general(s, d, delta=delta)\n",
    "            if long and any(i[1] for i in ans):\n",
    "                assert s in candidates[d,g,g1]"
   ]
  },
  {
   "cell_type": "markdown",
   "id": "3312ca56",
   "metadata": {},
   "source": [
    "Verify that no base field is repeated."
   ]
  },
  {
   "cell_type": "code",
   "execution_count": 10,
   "id": "b83f8337",
   "metadata": {},
   "outputs": [
    {
     "name": "stdout",
     "output_type": "stream",
     "text": [
      "2 2 3\n",
      "2 2 4\n",
      "2 2 5\n",
      "2 3 5\n",
      "2 3 6\n",
      "2 4 7\n",
      "2 4 8\n",
      "2 5 9\n",
      "2 6 11\n",
      "2 7 13\n",
      "3 2 4\n",
      "3 2 6\n",
      "3 3 7\n",
      "3 4 10\n",
      "4 2 5\n",
      "4 2 6\n",
      "4 3 9\n",
      "5 2 6\n",
      "6 2 7\n",
      "7 2 8\n"
     ]
    }
   ],
   "source": [
    "for (d, g, g1) in covers_by_poly:\n",
    "    print(d,g,g1)\n",
    "    for s in covers_by_poly[d,g,g1]:\n",
    "        if covers_by_poly[d,g,g1][s]:\n",
    "            l1 = list(covers_by_poly[d,g,g1][s].keys())\n",
    "            l2 = isomorphism_class_reps(l1)\n",
    "            assert len(l1) == len(l2)"
   ]
  },
  {
   "cell_type": "markdown",
   "id": "4576c17b",
   "metadata": {},
   "source": [
    "Verify that each base curve gives rise to a unique cover of the specified degree and genus."
   ]
  },
  {
   "cell_type": "code",
   "execution_count": 11,
   "id": "131c9228",
   "metadata": {},
   "outputs": [
    {
     "name": "stdout",
     "output_type": "stream",
     "text": [
      "2 2 3\n",
      "2 2 4\n",
      "2 2 5\n",
      "2 3 5\n",
      "2 3 6\n",
      "2 4 7\n",
      "2 4 8\n",
      "2 5 9\n",
      "2 6 11\n",
      "2 7 13\n",
      "3 2 4\n",
      "3 2 6\n",
      "3 3 7\n",
      "3 4 10\n",
      "4 2 5\n",
      "4 2 6\n",
      "4 3 9\n",
      "5 2 6\n",
      "6 2 7\n",
      "7 2 8\n"
     ]
    }
   ],
   "source": [
    "for (d, g, g1) in covers_by_poly:\n",
    "    print(d,g,g1)\n",
    "    for s in covers_by_poly[d,g,g1]:\n",
    "        for F, l1 in covers_by_poly[d,g,g1][s].items():\n",
    "            if len(l1) > 1:\n",
    "                assert len(l1) == 2\n",
    "                F1 = l1[0].RationalExtensionRepresentation()\n",
    "                F2 = l1[1].RationalExtensionRepresentation()\n",
    "                assert F1.IsIsomorphic(F2)"
   ]
  },
  {
   "cell_type": "markdown",
   "id": "5043ca37",
   "metadata": {},
   "source": [
    "Count cyclic covers arising from this calculation."
   ]
  },
  {
   "cell_type": "code",
   "execution_count": 12,
   "id": "23bc361c",
   "metadata": {},
   "outputs": [
    {
     "data": {
      "text/plain": [
       "64"
      ]
     },
     "execution_count": 12,
     "metadata": {},
     "output_type": "execute_result"
    }
   ],
   "source": [
    "sum(1 for (d,g,g1) in covers_by_poly for s in covers_by_poly[d,g,g1] for l1 in covers_by_poly[d,g,g1][s].values() if l1)"
   ]
  },
  {
   "cell_type": "markdown",
   "id": "a251dee5",
   "metadata": {},
   "source": [
    "# Populating the spreadsheet"
   ]
  },
  {
   "cell_type": "markdown",
   "id": "5b15e865",
   "metadata": {},
   "source": [
    "Convert the covers into numerical data in preparation for writing out to the spreadsheet."
   ]
  },
  {
   "cell_type": "code",
   "execution_count": 13,
   "id": "acee2601",
   "metadata": {},
   "outputs": [
    {
     "name": "stdout",
     "output_type": "stream",
     "text": [
      "2 2 3\n",
      "2 2 4\n",
      "2 2 5\n",
      "2 3 5\n",
      "2 3 6\n",
      "2 4 7\n",
      "2 4 8\n",
      "2 5 9\n",
      "2 6 11\n",
      "2 7 13\n",
      "3 2 4\n",
      "3 2 6\n",
      "3 3 7\n",
      "3 4 10\n",
      "4 2 5\n",
      "4 2 6\n",
      "4 3 9\n",
      "5 2 6\n",
      "6 2 7\n",
      "7 2 8\n"
     ]
    }
   ],
   "source": [
    "l = []\n",
    "for (d, g, g1) in candidates:\n",
    "    print(d, g, g1)\n",
    "    if (d, g, g1) in covers_by_poly:\n",
    "        for s in covers_by_poly[d, g, g1]:\n",
    "            for F, tmp in covers_by_poly[d, g, g1][s].items():\n",
    "                for F1 in tmp:\n",
    "                    u1 = T.parent()(magma_poly_list(F.ZetaFunction().Numerator())).reverse()\n",
    "                    v1 = T.parent()(magma_poly_list(F1.ZetaFunction().Numerator())).reverse()\n",
    "                    l.append((d, g, g1, point_count_from_weil_poly(u1, 13),\n",
    "                              point_count_from_weil_poly(v1, 13)))"
   ]
  },
  {
   "cell_type": "code",
   "execution_count": 14,
   "id": "5fe9d226",
   "metadata": {},
   "outputs": [
    {
     "data": {
      "text/plain": [
       "dict_items([('2.2.c_d', {Algebraic function field defined over Univariate rational function field over GF(2) by\n",
       "y^2 + (x^2 + x + 1)*y + x^5 + x^4 + x^2 + x: [Algebraic function field defined over Algebraic function field defined over Univariate rational function field over GF(2) by\n",
       "y^2 + (x^2 + x + 1)*y + x^5 + x^4 + x^2 + x by\n",
       "$.1^7 + ((x + 1)*$.1 + (x^4 + x^3 + x^2 + 1))*$.1^3 + ((x^2 + 1)*$.1 + (x^4 + x^3 + x))*$.1 + (x^4 + x^3 + x^2 + x)*$.1 + x^7 + x^4 + x^3 + x^2 + 1, Algebraic function field defined over Algebraic function field defined over Univariate rational function field over GF(2) by\n",
       "y^2 + (x^2 + x + 1)*y + x^5 + x^4 + x^2 + x by\n",
       "$.1^7 + ((x + 1)*$.1 + (x^4 + x^2))*$.1^3 + ((x^2 + 1)*$.1 + 1)*$.1 + (x^4 + x^3 + x^2 + x)*$.1 + x^7 + x^6 + x^2 + x + 1]})])"
      ]
     },
     "execution_count": 14,
     "metadata": {},
     "output_type": "execute_result"
    }
   ],
   "source": [
    "covers_by_poly[d,g,g1].items()"
   ]
  },
  {
   "cell_type": "markdown",
   "id": "6c9cf6db",
   "metadata": {},
   "source": [
    "Write the results back to the spreadsheet. In the process, we check that every covering we found gives a pair of Weil polynomials from our original list."
   ]
  },
  {
   "cell_type": "code",
   "execution_count": 15,
   "id": "7d337cac",
   "metadata": {},
   "outputs": [],
   "source": [
    "df['Cyclic'] = 'No'\n",
    "used_pols = []\n",
    "for i in range(len(df)):\n",
    "    r = df.iloc[i]\n",
    "    d = r[\"d\"]\n",
    "    g = r[\"g\"]\n",
    "    g1 = r[\"g'\"]\n",
    "    ct1 = eval(r[\"Counts of C\"])\n",
    "    ct2 = eval(r[\"Counts of C'\"])\n",
    "    if (d, g, g1, ct1, ct2) in l:\n",
    "        df.loc[i, \"Cyclic\"] = \"Yes\"\n",
    "        used_pols.append((d, g, g1, ct1, ct2))\n",
    "assert all(t in used_pols for t in l)"
   ]
  },
  {
   "cell_type": "code",
   "execution_count": 16,
   "id": "64d6996d",
   "metadata": {},
   "outputs": [],
   "source": [
    "df.to_excel('../Shared/polys.xlsx', sheet_name='Weil polynomials', merge_cells=True, freeze_panes=(int(1),int(1)))"
   ]
  },
  {
   "cell_type": "markdown",
   "id": "eefa1e16",
   "metadata": {},
   "source": [
    "# Tables"
   ]
  },
  {
   "cell_type": "markdown",
   "id": "750da00b",
   "metadata": {},
   "source": [
    "Generate LaTeX-formatted tables of the data for $d=2$ and $d>2$."
   ]
  },
  {
   "cell_type": "code",
   "execution_count": 17,
   "id": "82b8cd1a",
   "metadata": {},
   "outputs": [
    {
     "name": "stdout",
     "output_type": "stream",
     "text": [
      "\\begin{tabular}{c|c|c|c|c}\n",
      "$d$ & $g_F$ & $g_{F'}$ & $J(C)$ & $F$ \\\\\n",
      "\\hline\n",
      "$3$ & $2$ & $4$ & $\\avlink{2.2.ac\\_e}$ & $y^{2} + y + x^{5} + x^{4} + 1$ \\\\\n",
      "$3$ & $2$ & $4$ & $\\avlink{2.2.b\\_b}$ & $y^{2} + \\left(x^{3} + x + 1\\right) y + x^{6} + x^{3} + x^{2} + x$ \\\\\n",
      "\\hline\n",
      "$3$ & $2$ & $6$ & $\\avlink{2.2.a\\_c}$ & $y^{2} + y + x^{5} + x^{4} + x^{3}$ \\\\\n",
      "$3$ & $2$ & $6$ & $\\avlink{2.2.b\\_c}$ & $y^{2} + x y + x^{5} + x^{3} + x^{2} + x$ \\\\\n",
      "$3$ & $2$ & $6$ & $\\avlink{2.2.b\\_d}$ & $y^{2} + \\left(x^{3} + x + 1\\right) y + x^{6} + x^{5} + x^{4} + x^{2}$ \\\\\n",
      "\\hline\n",
      "$3$ & $3$ & $7$ & $\\avlink{3.2.a\\_b\\_a}$ & $y^{4} + \\left(x^{3} + 1\\right) y + x^{4}$ \\\\\n",
      "$3$ & $3$ & $7$ & $\\avlink{3.2.a\\_b\\_d}$ & $y^{3} + x^{2} y^{2} + x^{3} y + x^{4} + x^{3} + x$ \\\\\n",
      "$3$ & $3$ & $7$ & $\\avlink{3.2.b\\_b\\_b}$ & $y^{3} + x y^{2} + \\left(x^{3} + 1\\right) y + x^{4}$ \\\\\n",
      "$3$ & $3$ & $7$ & $\\avlink{3.2.b\\_b\\_e}$ & $y^{3} + \\left(x^{2} + x\\right) y^{2} + y + x^{3}$ \\\\\n",
      "$3$ & $3$ & $7$ & $\\avlink{3.2.b\\_c\\_b}$ & $x y^{3} + x y^{2} + y + x^{3}$ \\\\\n",
      "$3$ & $3$ & $7$ & $\\avlink{3.2.b\\_c\\_e}$ & $y^{4} + x y^{2} + y + x^{4}$ \\\\\n",
      "$3$ & $3$ & $7$ & $\\avlink{3.2.b\\_e\\_e}$ & $y^{3} + x^{2} y^{2} + x y + x^{4} + x$ \\\\\n",
      "\\hline\n",
      "$3$ & $4$ & $10$ & $\\avlink{4.2.d\\_f\\_k\\_s}$ & $x^{2} y^{3} + \\left(x^{4} + x^{2} + 1\\right) y + x^{4} + x^{2} + x + 1$ \\\\\n",
      "$3$ & $4$ & $10$ & $\\avlink{4.2.e\\_j\\_q\\_z}$ & $x y^{3} + \\left(x^{2} + x + 1\\right) y^{2} + \\left(x^{4} + x\\right) y + x^{5} + x^{4}$ \\\\\n",
      "\\hline\n",
      "$4$ & $2$ & $5$ & $\\avlink{2.2.ab\\_c}$ & $y^{2} + x y + x^{5} + x^{3} + x$ \\\\\n",
      "\\hline\n",
      "$5$ & $2$ & $6$ & $\\avlink{2.2.a\\_a}$ & $y^{2} + y + x^{5}$ \\\\\n",
      "$5$ & $2$ & $6$ & $\\avlink{2.2.b\\_c}$ & $y^{2} + x y + x^{5} + x^{3} + x^{2} + x$ \\\\\n",
      "$5$ & $2$ & $6$ & $\\avlink{2.2.c\\_e}$ & $y^{2} + y + x^{5} + x^{4}$ \\\\\n",
      "\\hline\n",
      "$7$ & $2$ & $8$ & $\\avlink{2.2.c\\_d}$ & $y^{2} + \\left(x^{2} + x + 1\\right) y + x^{5} + x^{4} + x^{2} + x$ \\\\\n",
      "\\end{tabular}\n"
     ]
    }
   ],
   "source": [
    "R0.<x> = GF(2)[]\n",
    "R1.<y> = R0[]\n",
    "print(r'\\begin{tabular}{c|c|c|c|c}')\n",
    "print(r\"$d$ & $g_F$ & $g_{F'}$ & $J(C)$ & $F$ \\\\\")\n",
    "for (d, g, g1) in candidates:\n",
    "    if d > 2:\n",
    "        if any(covers_by_poly[d, g, g1][s] for s in covers_by_poly[d, g, g1]):\n",
    "            print(r'\\hline')\n",
    "            for s in covers_by_poly[d, g, g1]:\n",
    "                if covers_by_poly[d,g,g1][s]:\n",
    "                    for F in covers_by_poly[d, g, g1][s]:\n",
    "                        F1 = F.RationalExtensionRepresentation()\n",
    "                        try:\n",
    "                            u = F1.DefiningPolynomial().sage()\n",
    "                        except SyntaxError:\n",
    "                            u = magma_poly_list(F.DefiningPolynomial())\n",
    "                            u = [R0(magma_poly_list(i.Numerator())) / R0(magma_poly_list(i.Denominator())) for i in u]\n",
    "                            u = R1(u)\n",
    "                        print(r'${}$ & ${}$ & ${}$ & $\\avlink{{{}}}$ & ${}$ \\\\'.format(d, g, g1,\n",
    "                                                        re.sub('_', r'\\_', s),\n",
    "                                                        latex(u)))\n",
    "print(r'\\end{tabular}')"
   ]
  },
  {
   "cell_type": "code",
   "execution_count": 18,
   "id": "be07bfa7",
   "metadata": {},
   "outputs": [
    {
     "name": "stdout",
     "output_type": "stream",
     "text": [
      "\\begin{tabular}{c|c|c|p{7.5cm}}\n",
      "$g_F$ & $g_{F'}$ & $J(C)$ & $F$ \\\\\n",
      "\\hline\n",
      "$2$ & $3$ & $\\avlink{2.2.ab\\_c}$ & $y^{2} + x y + x^{5} + x^{3} + x$ \\\\\n",
      "$2$ & $3$ & $\\avlink{2.2.b\\_c}$ & $y^{2} + x y + x^{5} + x^{3} + x^{2} + x$ \\\\\n",
      "\\hline\n",
      "$2$ & $4$ & $\\avlink{2.2.a\\_a}$ & $y^{2} + y + x^{5}$ \\\\\n",
      "$2$ & $4$ & $\\avlink{2.2.a\\_c}$ & $y^{2} + y + x^{5} + x^{4} + x^{3}$ \\\\\n",
      "$2$ & $4$ & $\\avlink{2.2.b\\_b}$ & $y^{2} + \\left(x^{3} + x + 1\\right) y + x^{6} + x^{3} + x^{2} + x$ \\\\\n",
      "\\hline\n",
      "$2$ & $5$ & $\\avlink{2.2.b\\_d}$ & $y^{2} + \\left(x^{3} + x + 1\\right) y + x^{6} + x^{5} + x^{4} + x^{2}$ \\\\\n",
      "$2$ & $5$ & $\\avlink{2.2.c\\_e}$ & $y^{2} + y + x^{5} + x^{4}$ \\\\\n",
      "\\hline\n",
      "$3$ & $5$ & $\\avlink{3.2.ad\\_g\\_ai}$ & $y^{2} + \\left(x^{4} + x^{2} + 1\\right) y + x^{8} + x + 1$ \\\\\n",
      "$3$ & $5$ & $\\avlink{3.2.ab\\_a\\_c}$ & $x y^{3} + \\left(x^{2} + x\\right) y^{2} + y + x^{4}$ \\\\\n",
      "$3$ & $5$ & $\\avlink{3.2.ab\\_a\\_c}$ & $x y^{3} + x^{2} y^{2} + \\left(x^{2} + 1\\right) y + x^{4}$ \\\\\n",
      "$3$ & $5$ & $\\avlink{3.2.ab\\_c\\_ac}$ & $y^{2} + x y + x^{7} + x^{5} + x$ \\\\\n",
      "$3$ & $5$ & $\\avlink{3.2.a\\_a\\_f}$ & $x y^{3} + y + x^{3}$ \\\\\n",
      "$3$ & $5$ & $\\avlink{3.2.a\\_c\\_ab}$ & $y^{2} + \\left(x^{4} + x^{2} + x + 1\\right) y + x^{6} + x^{5} + x^{2} + 1$ \\\\\n",
      "$3$ & $5$ & $\\avlink{3.2.a\\_c\\_b}$ & $y^{2} + \\left(x^{4} + x^{2} + x + 1\\right) y + x^{8} + x^{6} + x^{5} + x^{4}$ \\\\\n",
      "$3$ & $5$ & $\\avlink{3.2.b\\_c\\_c}$ & $y^{2} + x y + x^{7} + x^{5} + x^{2} + x$ \\\\\n",
      "$3$ & $5$ & $\\avlink{3.2.b\\_c\\_e}$ & $y^{2} + \\left(x^{4} + x^{2}\\right) y + x^{2} + x$ \\\\\n",
      "\\hline\n",
      "$3$ & $6$ & $\\avlink{3.2.b\\_d\\_c}$ & $y^{3} + x^{2} y^{2} + x^{2} y + x^{4} + x^{3} + x^{2} + x$ \\\\\n",
      "$3$ & $6$ & $\\avlink{3.2.b\\_d\\_e}$ & $x y^{3} + \\left(x + 1\\right) y^{2} + x^{4} + x^{3} + x$ \\\\\n",
      "$3$ & $6$ & $\\avlink{3.2.b\\_e\\_d}$ & $y^{3} + x^{2} y^{2} + \\left(x^{3} + x^{2}\\right) y + x^{4} + x$ \\\\\n",
      "$3$ & $6$ & $\\avlink{3.2.c\\_d\\_d}$ & $\\left(x + 1\\right) y^{3} + y + x^{3}$ \\\\\n",
      "\\hline\n",
      "$4$ & $7$ & $\\avlink{4.2.a\\_c\\_ab\\_c}$ & $x^{3} y^{3} + \\left(x^{3} + x^{2}\\right) y + x^{6} + x^{3} + 1$ \\\\\n",
      "$4$ & $7$ & $\\avlink{4.2.a\\_c\\_ab\\_g}$ & $\\left(x^{2} + 1\\right) y^{4} + \\left(x^{3} + x^{2} + x + 1\\right) y^{3} + \\left(x^{5} + x^{4}\\right) y + x^{6} + x^{3} + x^{2}$ \\\\\n",
      "$4$ & $7$ & $\\avlink{4.2.a\\_c\\_b\\_c}$ & $x^{2} y^{4} + \\left(x^{3} + 1\\right) y^{2} + \\left(x^{3} + x^{2} + x + 1\\right) y + x^{6} + x^{5} + x^{3} + x^{2}$ \\\\\n",
      "$4$ & $7$ & $\\avlink{4.2.a\\_c\\_d\\_c}$ & $\\left(x^{2} + x + 1\\right) y^{4} + \\left(x^{3} + x^{2}\\right) y^{3} + \\left(x^{4} + x^{3} + 1\\right) y^{2} + \\left(x^{4} + x^{3} + x^{2}\\right) y + x^{5} + x^{4} + x^{3} + x$ \\\\\n",
      "$4$ & $7$ & $\\avlink{4.2.a\\_d\\_b\\_f}$ & $x^{3} y^{3} + \\left(x^{3} + x^{2}\\right) y + x^{6} + x^{5} + 1$ \\\\\n",
      "$4$ & $7$ & $\\avlink{4.2.a\\_d\\_b\\_h}$ & $\\left(x^{2} + x + 1\\right) y^{4} + x^{3} y^{3} + \\left(x^{4} + x^{2} + 1\\right) y^{2} + x^{5} + x^{3} + x$ \\\\\n",
      "$4$ & $7$ & $\\avlink{4.2.b\\_b\\_c\\_f}$ & $\\left(x + 1\\right) y^{3} + \\left(x^{2} + x\\right) y^{2} + \\left(x^{3} + x\\right) y + x^{5}$ \\\\\n",
      "$4$ & $7$ & $\\avlink{4.2.b\\_c\\_a\\_a}$ & $y^{2} + x^{2} y + x^{9} + x^{7} + x + 1$ \\\\\n",
      "$4$ & $7$ & $\\avlink{4.2.c\\_e\\_h\\_k}$ & $y^{2} + \\left(x^{3} + x + 1\\right) y + x^{9} + x^{7}$ \\\\\n",
      "\\hline\n",
      "$4$ & $8$ & $\\avlink{4.2.d\\_i\\_o\\_x}$ & $\\left(x + 1\\right) y^{3} + \\left(x^{3} + x^{2} + 1\\right) y^{2} + x y + x^{4}$ \\\\\n",
      "\\hline\n",
      "$5$ & $9$ & $\\avlink{5.2.ab\\_d\\_b\\_b\\_j}$ & $\\left(x^{4} + x^{3} + x^{2}\\right) y^{4} + \\left(x^{5} + x^{3} + x\\right) y^{3} + \\left(x^{3} + 1\\right) y^{2} + \\left(x^{7} + x + 1\\right) y + x^{7} + x^{4} + x + 1$ \\\\\n",
      "$5$ & $9$ & $\\avlink{5.2.b\\_c\\_e\\_i\\_i}$ & $y^{2} + x^{3} y + x^{11} + x^{9} + x^{5} + x^{3} + x^{2} + x$ \\\\\n",
      "$5$ & $9$ & $\\avlink{5.2.b\\_c\\_e\\_i\\_i}$ & $y^{4} + \\left(x^{4} + x^{2}\\right) y^{2} + \\left(x^{4} + x^{2} + 1\\right) y + x^{8} + x^{6} + x^{4} + x$ \\\\\n",
      "$5$ & $9$ & $\\avlink{5.2.b\\_f\\_f\\_p\\_l}$ & $\\left(x^{4} + x^{3} + x^{2}\\right) y^{4} + \\left(x^{5} + x^{3} + x^{2}\\right) y^{3} + \\left(x^{6} + x^{3} + x^{2} + x + 1\\right) y^{2} + \\left(x^{7} + x^{5} + x^{4} + x^{3} + 1\\right) y + x^{5} + x^{4} + x^{3} + x^{2} + x + 1$ \\\\\n",
      "$5$ & $9$ & $\\avlink{5.2.b\\_f\\_f\\_p\\_p}$ & $y^{4} + x^{2} y^{3} + \\left(x^{4} + x^{3} + x\\right) y^{2} + \\left(x^{5} + 1\\right) y + x^{3} + x^{2} + x + 1$ \\\\\n",
      "$5$ & $9$ & $\\avlink{5.2.c\\_e\\_f\\_k\\_o}$ & $y^{2} + \\left(x^{3} + x + 1\\right) y + x^{12} + x^{11} + x^{10} + x^{7} + x^{5} + x^{3}$ \\\\\n",
      "$5$ & $9$ & $\\avlink{5.2.c\\_f\\_i\\_n\\_r}$ & $y^{4} + \\left(x^{2} + x\\right) y^{3} + \\left(x^{4} + x^{3} + x^{2} + 1\\right) y^{2} + \\left(x^{6} + x^{5} + x^{4} + 1\\right) y + x^{7} + x^{6} + x + 1$ \\\\\n",
      "$5$ & $9$ & $\\avlink{5.2.c\\_f\\_i\\_p\\_t}$ & $\\left(x^{4} + x^{2} + x\\right) y^{4} + \\left(x^{4} + x^{3} + x + 1\\right) y^{3} + \\left(x^{6} + x^{2}\\right) y^{2} + \\left(x^{6} + x^{3} + x^{2} + x\\right) y + x^{6} + x^{5} + 1$ \\\\\n",
      "$5$ & $9$ & $\\avlink{5.2.c\\_f\\_i\\_p\\_v}$ & $\\left(x^{2} + x + 1\\right) y^{6} + x y^{5} + \\left(x^{4} + x\\right) y^{4} + \\left(x^{5} + x^{4} + x^{3} + x^{2} + x + 1\\right) y^{3} + \\left(x^{5} + x^{3} + 1\\right) y^{2} + \\left(x^{6} + x^{4} + x^{2}\\right) y + x^{8} + x^{7} + x^{6} + x^{5} + x^{4} + x^{3} + x^{2} + x$ \\\\\n",
      "$5$ & $9$ & $\\avlink{5.2.c\\_g\\_j\\_q\\_u}$ & $y^{4} + y^{3} + \\left(x^{4} + x^{3} + x^{2}\\right) y^{2} + \\left(x^{3} + x^{2} + 1\\right) y + x^{6} + 1$ \\\\\n",
      "$5$ & $9$ & $\\avlink{5.2.d\\_h\\_n\\_z\\_bl}$ & $y^{2} + \\left(x^{6} + x^{5} + x^{4} + x^{3} + x^{2} + x + 1\\right) y + x^{10} + x^{6} + x^{4} + x^{3}$ \\\\\n",
      "$5$ & $9$ & $\\avlink{5.2.d\\_i\\_q\\_bc\\_bs}$ & $y^{4} + \\left(x^{4} + x^{2}\\right) y^{2} + \\left(x^{4} + x^{2} + 1\\right) y + x^{6} + x^{5}$ \\\\\n",
      "\\hline\n",
      "\\hline\n",
      "$6$ & $11$ & $\\avlink{6.2.c\\_h\\_k\\_z\\_bd\\_cg}$ & $x^{2} y^{5} + \\left(x^{3} + x\\right) y^{4} + x^{4} y^{3} + \\left(x^{5} + x^{4} + x^{3} + x^{2} + x + 1\\right) y^{2} + \\left(x^{6} + x^{3} + x^{2}\\right) y + x^{7} + x^{3} + x + 1$ \\\\\n",
      "$6$ & $11$ & $\\avlink{6.2.d\\_j\\_t\\_bn\\_cl\\_du}$ & $\\left(x^{2} + x + 1\\right) y^{4} + \\left(x^{3} + x + 1\\right) y^{3} + \\left(x^{4} + x^{2} + 1\\right) y^{2} + \\left(x^{5} + x^{4} + 1\\right) y + x^{5} + x^{4} + x^{3} + x$ \\\\\n",
      "\\hline\n",
      "$7$ & $13$ & $(6, 18, 12, 18, 6, 60, 174)$ & $y^{4} + \\left(x^{6} + x^{4} + x^{3} + x^{2} + 1\\right) y^{2} + \\left(x^{6} + x^{4} + x^{3} + x^{2}\\right) y + x^{10} + x^{9} + x^{7} + x^{6}$ \\\\\n",
      "\\end{tabular}\n"
     ]
    }
   ],
   "source": [
    "R0.<x> = GF(2)[]\n",
    "R1.<y> = R0[]\n",
    "print(r'\\begin{tabular}{c|c|c|p{7.5cm}}')\n",
    "print(r\"$g_F$ & $g_{F'}$ & $J(C)$ & $F$ \\\\\")\n",
    "for (d, g, g1) in candidates:\n",
    "    if d == 2:\n",
    "        if covers_by_poly[d, g, g1]:\n",
    "            print(r'\\hline')\n",
    "            if g == 6:\n",
    "                print(r'\\hline')\n",
    "            for s in covers_by_poly[d, g, g1]:\n",
    "                if covers_by_poly[d,g,g1][s]:\n",
    "                    for F in covers_by_poly[d, g, g1][s]:\n",
    "                        F1 = F.RationalExtensionRepresentation()\n",
    "                        try:\n",
    "                            u = F1.DefiningPolynomial().sage()\n",
    "                        except SyntaxError:\n",
    "                            u = magma_poly_list(F1.DefiningPolynomial())\n",
    "                            u = [R0(magma_poly_list(i.Numerator())) / R0(magma_poly_list(i.Denominator())) for i in u]\n",
    "                            u = R1(u)\n",
    "                        if g < 7: \n",
    "                            s1 = r\"\\avlink{{{}}}\".format(s)\n",
    "                        else:\n",
    "                            s1 = str(tuple(Integer(F.NumberOfPlacesOfDegreeOneECF(i)) for i in range(1, g+1)))\n",
    "                        print(r'${}$ & ${}$ & ${}$ & ${}$ \\\\'.format(g, g1,\n",
    "                                                        re.sub('_', r'\\_', s1),\n",
    "                                                        latex(u)))\n",
    "print(r'\\end{tabular}')"
   ]
  }
 ],
 "metadata": {
  "kernelspec": {
   "display_name": "SageMath 9.5",
   "language": "sage",
   "name": "sagemath"
  },
  "language_info": {
   "codemirror_mode": {
    "name": "ipython",
    "version": 3
   },
   "file_extension": ".py",
   "mimetype": "text/x-python",
   "name": "python",
   "nbconvert_exporter": "python",
   "pygments_lexer": "ipython3",
   "version": "3.9.7"
  }
 },
 "nbformat": 4,
 "nbformat_minor": 5
}
