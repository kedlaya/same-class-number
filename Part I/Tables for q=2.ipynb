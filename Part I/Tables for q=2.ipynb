{
 "cells": [
  {
   "cell_type": "markdown",
   "id": "ce965ac3",
   "metadata": {},
   "source": [
    "This notebook is associated with the paper \"The relative class number one problem for function fields, I\" by K.S. Kedlaya. It runs in SageMath (tested using version 9.6); it also requires the pandas and openpyxl libraries (`sage --pip install openpyxl/pandas`).\n",
    "\n",
    "In this notebook, we generate LaTeX-formatted tables representing the using the upper bound on Weil polynomials for $q=2$."
   ]
  },
  {
   "cell_type": "code",
   "execution_count": 1,
   "id": "5be15de9",
   "metadata": {},
   "outputs": [],
   "source": [
    "load(\"../Shared/weil_poly_utils.sage\")"
   ]
  },
  {
   "cell_type": "code",
   "execution_count": 2,
   "id": "1e4db494",
   "metadata": {},
   "outputs": [],
   "source": [
    "import pandas, itertools, re\n",
    "from collections import defaultdict"
   ]
  },
  {
   "cell_type": "code",
   "execution_count": 3,
   "id": "c4a6c4f1",
   "metadata": {},
   "outputs": [],
   "source": [
    "df = pandas.read_excel('../Shared/polys.xlsx', index_col=int(0))"
   ]
  },
  {
   "cell_type": "code",
   "execution_count": 4,
   "id": "8f941b1b",
   "metadata": {},
   "outputs": [
    {
     "name": "stdout",
     "output_type": "stream",
     "text": [
      "['d', 'g', \"g'\", 'Label of J(C)', '#J(C)(F_2)', '#J(C)(F_4)', 'Counts of C', \"Counts of C'\"]\n"
     ]
    }
   ],
   "source": [
    "if \"Unnamed: 0\" in df:\n",
    "    del df[\"Unnamed: 0\"]\n",
    "if \"Cyclic\" in df:\n",
    "    del df[\"Cyclic\"]\n",
    "print(list(df))"
   ]
  },
  {
   "cell_type": "code",
   "execution_count": 5,
   "id": "fc1c70b3",
   "metadata": {},
   "outputs": [],
   "source": [
    "candidates = {}\n",
    "for i in range(len(df)):\n",
    "    r = df.iloc[i]\n",
    "    d = r[\"d\"]\n",
    "    g = r[\"g\"]\n",
    "    g1 = r[\"g'\"]\n",
    "    if (d,g,g1) not in candidates:\n",
    "        candidates[d,g,g1] = []\n",
    "    counts1 = eval(r[\"Counts of C\"])\n",
    "    counts2 = eval(r[\"Counts of C'\"])\n",
    "    traces = [counts1[i] - counts2[i] for i in range(len(counts1))]\n",
    "    candidates[d,g,g1].append((counts1[:g], counts2[:g1], traces[:g1-g]))"
   ]
  },
  {
   "cell_type": "code",
   "execution_count": 6,
   "id": "1ca5cd1e",
   "metadata": {},
   "outputs": [],
   "source": [
    "def format_label(u):\n",
    "    g = u.degree() // 2\n",
    "    if g > 6:\n",
    "        return str(tuple(point_count_from_weil_poly(u, g, q=2)))\n",
    "    s = label_from_weil_poly(u)\n",
    "    s1 = re.sub('_', r'\\_', s)\n",
    "    return r\"\\avlink{\" + s1 + \"}\""
   ]
  },
  {
   "cell_type": "markdown",
   "id": "70bb561b",
   "metadata": {},
   "source": [
    "Generate Table 7, part 1."
   ]
  },
  {
   "cell_type": "code",
   "execution_count": 7,
   "id": "9f75c53f",
   "metadata": {},
   "outputs": [
    {
     "name": "stdout",
     "output_type": "stream",
     "text": [
      "\\begin{tabular}{c|c|c}\n",
      "$(g,g')$ & $A$ & $J(C)$ \\\\\n",
      "\\hline\n",
      "$(2, 3)$ & $\\avlink{1.2.ac}$ & $\\avlink{2.2.ab\\_c},\\avlink{2.2.b\\_c}$ \\\\\n",
      "\\hline\n",
      "$(2, 4)$ & $\\avlink{2.2.ab\\_ab}$ & $\\avlink{2.2.ab\\_d}$ \\\\\n",
      "$(2, 4)$ & $\\avlink{2.2.ac\\_c}$ & $\\avlink{2.2.a\\_a},\\avlink{2.2.a\\_c}$ \\\\\n",
      "$(2, 4)$ & $\\avlink{2.2.ad\\_f}$ & $\\avlink{2.2.b\\_b}$ \\\\\n",
      "\\hline\n",
      "$(2, 5)$ & $\\avlink{3.2.ad\\_d\\_ac}$ & $\\avlink{2.2.b\\_d}$ \\\\\n",
      "$(2, 5)$ & $\\avlink{3.2.ae\\_i\\_am}$ & $\\avlink{2.2.c\\_e}$ \\\\\n",
      "\\hline\n",
      "$(3, 5)$ & $\\avlink{2.2.a\\_ae}$ & $\\avlink{3.2.ad\\_g\\_ai}$ \\\\\n",
      "$(3, 5)$ & $\\avlink{2.2.ac\\_c}$ & $\\avlink{3.2.ab\\_a\\_c},\\avlink{3.2.ab\\_c\\_ac},\\avlink{3.2.b\\_c\\_c}$ \\\\\n",
      "$(3, 5)$ & $\\avlink{2.2.ad\\_f}$ & $\\avlink{3.2.a\\_a\\_f},\\avlink{3.2.a\\_c\\_ab},\\avlink{3.2.a\\_c\\_b},\\avlink{3.2.c\\_e\\_f}$ \\\\\n",
      "$(3, 5)$ & $\\avlink{2.2.ae\\_i}$ & $\\avlink{3.2.b\\_c\\_e}$ \\\\\n",
      "\\hline\n",
      "$(3, 6)$ & $\\avlink{3.2.ad\\_c\\_b}$ & $\\avlink{3.2.b\\_e\\_d}$ \\\\\n",
      "$(3, 6)$ & $\\avlink{3.2.ad\\_d\\_ac}$ & $\\avlink{3.2.b\\_d\\_c},\\avlink{3.2.b\\_d\\_e}$ \\\\\n",
      "$(3, 6)$ & $\\avlink{3.2.ae\\_i\\_am}$ & $\\avlink{3.2.c\\_e\\_e},\\avlink{3.2.c\\_e\\_g}$ \\\\\n",
      "$(3, 6)$ & $\\avlink{3.2.ae\\_j\\_ap}$ & $\\avlink{3.2.c\\_d\\_d}$ \\\\\n",
      "\\hline\n",
      "$(4, 7)$ & $\\avlink{3.2.ad\\_c\\_b}$ & $\\avlink{4.2.a\\_d\\_ab\\_f},\\avlink{4.2.a\\_d\\_ab\\_h},\\avlink{4.2.a\\_d\\_b\\_f},\\avlink{4.2.a\\_d\\_b\\_h},\\avlink{4.2.a\\_d\\_d\\_f}$ \\\\\n",
      "$(4, 7)$ & $\\avlink{3.2.ad\\_d\\_ac}$ & $\\avlink{4.2.a\\_c\\_ab\\_c},\\avlink{4.2.a\\_c\\_ab\\_e},\\avlink{4.2.a\\_c\\_ab\\_g},\\avlink{4.2.a\\_c\\_b\\_c},\\avlink{4.2.a\\_c\\_b\\_e}$ \\\\\n",
      "$(4, 7)$ & $\\avlink{3.2.ad\\_d\\_ac}$ & $\\avlink{4.2.a\\_c\\_b\\_g},\\avlink{4.2.a\\_c\\_d\\_a},\\avlink{4.2.a\\_c\\_d\\_c},\\avlink{4.2.a\\_e\\_b\\_k},\\avlink{4.2.c\\_g\\_j\\_q}$ \\\\\n",
      "$(4, 7)$ & $\\avlink{3.2.ae\\_i\\_am}$ & $\\avlink{4.2.b\\_c\\_a\\_a},\\avlink{4.2.b\\_c\\_a\\_c},\\avlink{4.2.b\\_c\\_a\\_e},\\avlink{4.2.b\\_c\\_c\\_c}$ \\\\\n",
      "$(4, 7)$ & $\\avlink{3.2.ae\\_i\\_am}$ & $\\avlink{4.2.b\\_c\\_c\\_e},\\avlink{4.2.b\\_c\\_c\\_g},\\avlink{4.2.b\\_c\\_e\\_e},\\avlink{4.2.b\\_e\\_c\\_i},\\avlink{4.2.b\\_e\\_e\\_k}$ \\\\\n",
      "$(4, 7)$ & $\\avlink{3.2.ae\\_j\\_ap}$ & $\\avlink{4.2.b\\_b\\_a\\_b},\\avlink{4.2.b\\_b\\_a\\_d},\\avlink{4.2.b\\_b\\_c\\_d},\\avlink{4.2.b\\_b\\_c\\_f},\\avlink{4.2.b\\_b\\_c\\_h},\\avlink{4.2.b\\_d\\_c\\_h},\\avlink{4.2.b\\_d\\_e\\_j}$ \\\\\n",
      "$(4, 7)$ & $\\avlink{3.2.af\\_n\\_aw}$ & $\\avlink{4.2.c\\_e\\_h\\_k},\\avlink{4.2.c\\_e\\_h\\_m}$ \\\\\n",
      "\\hline\n",
      "$(4, 8)$ & $\\avlink{4.2.ae\\_g\\_ae\\_c}$ & $\\avlink{4.2.c\\_g\\_i\\_q}$ \\\\\n",
      "$(4, 8)$ & $\\avlink{4.2.af\\_m\\_au\\_bd}$ & $\\avlink{4.2.d\\_i\\_o\\_x}$ \\\\\n",
      "$(4, 8)$ & $\\avlink{4.2.af\\_n\\_az\\_bn}$ & $\\avlink{4.2.d\\_h\\_l\\_r}$ \\\\\n",
      "\\hline\n",
      "$(5, 9)$ & $\\avlink{4.2.ac\\_ab\\_ac\\_n}$ & $\\avlink{5.2.ab\\_d\\_b\\_b\\_j}$ \\\\\n",
      "$(5, 9)$ & $\\avlink{4.2.ad\\_c\\_a\\_b}$ & $\\avlink{5.2.a\\_d\\_c\\_j\\_d}$ \\\\\n",
      "$(5, 9)$ & $\\avlink{4.2.ad\\_d\\_ag\\_o}$ & $\\avlink{5.2.a\\_c\\_d\\_e\\_g}$ \\\\\n",
      "$(5, 9)$ & $\\avlink{4.2.ae\\_f\\_c\\_al}$ & $\\avlink{5.2.b\\_f\\_f\\_p\\_l},\\avlink{5.2.b\\_f\\_f\\_p\\_n},\\avlink{5.2.b\\_f\\_f\\_p\\_p}$ \\\\\n",
      "$(5, 9)$ & $\\avlink{4.2.ae\\_g\\_ae\\_c}$ & $\\avlink{5.2.b\\_e\\_c\\_i\\_a},\\avlink{5.2.b\\_e\\_c\\_i\\_c},\\avlink{5.2.b\\_e\\_c\\_k\\_e},\\avlink{5.2.b\\_e\\_e\\_k\\_i}$ \\\\\n",
      "$(5, 9)$ & $\\avlink{4.2.ae\\_g\\_ae\\_c}$ & $\\avlink{5.2.b\\_e\\_e\\_k\\_k},\\avlink{5.2.b\\_e\\_e\\_k\\_m},\\avlink{5.2.b\\_e\\_e\\_m\\_k},\\avlink{5.2.b\\_e\\_e\\_m\\_m},\\avlink{5.2.b\\_e\\_g\\_m\\_q}$ \\\\\n",
      "$(5, 9)$ & $\\avlink{4.2.ae\\_h\\_ak\\_p}$ & $\\avlink{5.2.b\\_d\\_d\\_h\\_d},\\avlink{5.2.b\\_d\\_d\\_h\\_f},\\avlink{5.2.b\\_d\\_d\\_h\\_h},\\avlink{5.2.b\\_d\\_d\\_h\\_j}$ \\\\\n",
      "$(5, 9)$ & $\\avlink{4.2.ae\\_h\\_ak\\_p}$ & $\\avlink{5.2.b\\_d\\_d\\_j\\_h},\\avlink{5.2.b\\_d\\_d\\_j\\_j},\\avlink{5.2.b\\_d\\_d\\_j\\_l},\\avlink{5.2.b\\_d\\_f\\_j\\_j},\\avlink{5.2.b\\_d\\_f\\_j\\_l}$ \\\\\n",
      "$(5, 9)$ & $\\avlink{4.2.ae\\_i\\_aq\\_bc}$ & $\\avlink{5.2.b\\_c\\_e\\_i\\_i}$ \\\\\n",
      "$(5, 9)$ & $\\avlink{4.2.af\\_l\\_ao\\_q}$ & $\\avlink{5.2.c\\_g\\_j\\_q\\_u},\\avlink{5.2.c\\_g\\_j\\_s\\_w},\\avlink{5.2.c\\_g\\_j\\_u\\_y},\\avlink{5.2.c\\_g\\_l\\_u\\_bc}$ \\\\\n",
      "$(5, 9)$ & $\\avlink{4.2.af\\_m\\_au\\_bd}$ & $\\avlink{5.2.c\\_f\\_g\\_l\\_l},\\avlink{5.2.c\\_f\\_g\\_n\\_p},\\avlink{5.2.c\\_f\\_i\\_n\\_r},\\avlink{5.2.c\\_f\\_i\\_n\\_t},\\avlink{5.2.c\\_f\\_i\\_p\\_t},\\avlink{5.2.c\\_f\\_i\\_p\\_v},\\avlink{5.2.c\\_f\\_k\\_r\\_z}$ \\\\\n",
      "$(5, 9)$ & $\\avlink{4.2.af\\_n\\_aba\\_bq}$ & $\\avlink{5.2.c\\_e\\_f\\_k\\_m},\\avlink{5.2.c\\_e\\_f\\_k\\_o},\\avlink{5.2.c\\_e\\_f\\_m\\_q}$ \\\\\n",
      "$(5, 9)$ & $\\avlink{4.2.af\\_n\\_az\\_bn}$ & $\\avlink{5.2.c\\_e\\_e\\_g\\_f},\\avlink{5.2.c\\_e\\_e\\_g\\_h},\\avlink{5.2.c\\_e\\_e\\_i\\_j},\\avlink{5.2.c\\_e\\_e\\_k\\_n},\\avlink{5.2.c\\_e\\_g\\_k\\_l},\\avlink{5.2.c\\_e\\_g\\_k\\_n},\\avlink{5.2.c\\_e\\_g\\_k\\_p}$ \\\\\n",
      "$(5, 9)$ & $\\avlink{4.2.af\\_n\\_az\\_bn}$ & $\\avlink{5.2.c\\_e\\_g\\_k\\_r},\\avlink{5.2.c\\_e\\_g\\_m\\_p},\\avlink{5.2.c\\_e\\_g\\_m\\_r},\\avlink{5.2.c\\_e\\_g\\_m\\_t},\\avlink{5.2.c\\_e\\_i\\_o\\_t},\\avlink{5.2.c\\_e\\_i\\_o\\_v},\\avlink{5.2.c\\_g\\_i\\_s\\_v}$ \\\\\n",
      "$(5, 9)$ & $\\avlink{4.2.ag\\_s\\_abk\\_ce}$ & $\\avlink{5.2.d\\_i\\_q\\_bc\\_bs}$ \\\\\n",
      "$(5, 9)$ & $\\avlink{4.2.ag\\_t\\_abp\\_co}$ & $\\avlink{5.2.d\\_h\\_o\\_z\\_bk},\\avlink{5.2.d\\_h\\_o\\_z\\_bm}$ \\\\\n",
      "$(5, 9)$ & $\\avlink{4.2.ag\\_t\\_abq\\_cr}$ & $\\avlink{5.2.d\\_h\\_n\\_z\\_bl}$ \\\\\n",
      "\\hline\n",
      "$(6, 11)$ & $\\avlink{5.2.ae\\_e\\_a\\_l\\_abh}$ & $\\avlink{6.2.b\\_g\\_i\\_v\\_ba\\_bz}$ \\\\\n",
      "$(6, 11)$ & $\\avlink{5.2.ae\\_f\\_ae\\_p\\_abi}$ & $\\avlink{6.2.b\\_f\\_h\\_p\\_t\\_bk},\\avlink{6.2.b\\_f\\_h\\_p\\_v\\_bi},\\avlink{6.2.b\\_f\\_h\\_r\\_v\\_bq}$ \\\\\n",
      "$(6, 11)$ & $\\avlink{5.2.af\\_k\\_ak\\_f\\_ac}$ & $\\avlink{6.2.c\\_h\\_k\\_z\\_bd\\_cg}$ \\\\\n",
      "$(6, 11)$ & $\\avlink{5.2.af\\_l\\_as\\_bg\\_aca}$ & $\\avlink{6.2.c\\_g\\_l\\_w\\_bg\\_ca},\\avlink{6.2.c\\_g\\_l\\_w\\_bg\\_cc},\\avlink{6.2.c\\_g\\_l\\_w\\_bg\\_ce},\\avlink{6.2.c\\_g\\_l\\_w\\_bi\\_ca},\\avlink{6.2.c\\_g\\_l\\_w\\_bi\\_cc},\\avlink{6.2.c\\_g\\_l\\_w\\_bi\\_ce}$ \\\\\n",
      "$(6, 11)$ & $\\avlink{5.2.af\\_m\\_aw\\_bk\\_acb}$ & $\\avlink{6.2.c\\_f\\_i\\_q\\_v\\_bh},\\avlink{6.2.c\\_f\\_i\\_q\\_v\\_bj},\\avlink{6.2.c\\_f\\_i\\_q\\_v\\_bl},\\avlink{6.2.c\\_f\\_i\\_q\\_x\\_bj},\\avlink{6.2.c\\_f\\_i\\_q\\_x\\_bl}$ \\\\\n",
      "$(6, 11)$ & $\\avlink{5.2.af\\_m\\_aw\\_bk\\_acb}$ & $\\avlink{6.2.c\\_f\\_i\\_q\\_x\\_bn},\\avlink{6.2.c\\_f\\_i\\_q\\_x\\_bp},\\avlink{6.2.c\\_f\\_i\\_q\\_z\\_bn},\\avlink{6.2.c\\_f\\_i\\_q\\_z\\_bp},\\avlink{6.2.c\\_f\\_i\\_s\\_z\\_bp},\\avlink{6.2.c\\_f\\_i\\_s\\_z\\_br}$ \\\\\n",
      "$(6, 11)$ & $\\avlink{5.2.ag\\_r\\_abg\\_bx\\_acs}$ & $\\avlink{6.2.d\\_j\\_r\\_bh\\_bx\\_cy},\\avlink{6.2.d\\_j\\_r\\_bh\\_bx\\_da},\\avlink{6.2.d\\_j\\_r\\_bh\\_bz\\_dc},\\avlink{6.2.d\\_j\\_r\\_bj\\_cb\\_di}$ \\\\\n",
      "$(6, 11)$ & $\\avlink{5.2.ag\\_r\\_abg\\_bx\\_acs}$ & $\\avlink{6.2.d\\_j\\_r\\_bj\\_cd\\_dm},\\avlink{6.2.d\\_j\\_t\\_bn\\_cl\\_ds},\\avlink{6.2.d\\_j\\_t\\_bn\\_cl\\_du},\\avlink{6.2.d\\_j\\_t\\_bn\\_cl\\_dw}$ \\\\\n",
      "$(6, 11)$ & $\\avlink{5.2.ag\\_t\\_abt\\_di\\_afe}$ & $\\avlink{6.2.d\\_h\\_m\\_x\\_bi\\_ca},\\avlink{6.2.d\\_h\\_m\\_x\\_bk\\_ce},\\avlink{6.2.d\\_h\\_m\\_x\\_bm\\_ci}$ \\\\\n",
      "\\hline\n",
      "$(7, 13)$ & $\\avlink{6.2.ag\\_p\\_aw\\_bh\\_acu\\_ey}$ & $(6, 18, 12, 18, 6, 60, 174),(6, 18, 12, 18, 6, 72, 132),(6, 18, 12, 18, 6, 84, 90)$ \\\\\n",
      "$(7, 13)$ & $\\avlink{6.2.ah\\_y\\_ace\\_ea\\_agn\\_jq}$ & $(7, 15, 7, 31, 12, 69, 126),(7, 15, 7, 31, 22, 45, 112),(7, 15, 7, 31, 22, 57, 70),(7, 15, 7, 31, 22, 57, 84)$ \\\\\n",
      "\\end{tabular}\n"
     ]
    }
   ],
   "source": [
    "print(r'\\begin{tabular}{c|c|c}')\n",
    "print(r\"$(g,g')$ & $A$ & $J(C)$ \\\\\")\n",
    "for (d,g,g1) in sorted(candidates):\n",
    "    if d != 2:\n",
    "        continue\n",
    "    print(r'\\hline')\n",
    "    tmp = defaultdict(list)\n",
    "    for counts1, counts2, _ in candidates[d,g,g1]:\n",
    "        u = weil_poly_from_point_count(counts1, g, q=2)\n",
    "        s = format_label(u)\n",
    "        u1 = weil_poly_from_point_count(counts2, g1, q=2)\n",
    "        s1 = format_label(u1//u)\n",
    "        tmp[s1].append(s)\n",
    "    for s1 in sorted(tmp):\n",
    "        l = sorted(tmp[s1])\n",
    "        if len(l) <= 7:\n",
    "            l1 = [l]\n",
    "        else:\n",
    "            l1 = [l[:len(l)//2], l[len(l)//2:]]\n",
    "        for l2 in l1:\n",
    "            print(r'${}$ & ${}$ & ${}$ \\\\'.format((g,g1),s1, \",\".join(l2)))\n",
    "print(r'\\end{tabular}')"
   ]
  },
  {
   "cell_type": "markdown",
   "id": "aa22688c",
   "metadata": {},
   "source": [
    "Generate Table 7, part 2."
   ]
  },
  {
   "cell_type": "code",
   "execution_count": 8,
   "id": "0d971233",
   "metadata": {},
   "outputs": [
    {
     "name": "stdout",
     "output_type": "stream",
     "text": [
      "\\begin{tabular}{c|c|c}\n",
      "$(g,g')$ & $A$ & $J(C)$ \\\\\n",
      "\\hline\n",
      "$(2, 4)$ & $\\avlink{2.2.ab\\_ab}$ & $\\avlink{2.2.ac\\_e}$ \\\\\n",
      "$(2, 4)$ & $\\avlink{2.2.ad\\_f}$ & $\\avlink{2.2.a\\_ab},\\avlink{2.2.a\\_c}$ \\\\\n",
      "$(2, 4)$ & $\\avlink{2.2.ae\\_i}$ & $\\avlink{2.2.b\\_b},\\avlink{2.2.c\\_c}$ \\\\\n",
      "\\hline\n",
      "$(2, 6)$ & $\\avlink{4.2.ad\\_b\\_g\\_am}$ & $\\avlink{2.2.a\\_c}$ \\\\\n",
      "$(2, 6)$ & $\\avlink{4.2.ae\\_e\\_h\\_av}$ & $\\avlink{2.2.b\\_d}$ \\\\\n",
      "$(2, 6)$ & $\\avlink{4.2.ae\\_f\\_c\\_al}$ & $\\avlink{2.2.b\\_c}$ \\\\\n",
      "$(2, 6)$ & $\\avlink{4.2.af\\_l\\_ao\\_q}$ & $\\avlink{2.2.c\\_c}$ \\\\\n",
      "\\hline\n",
      "$(3, 7)$ & $\\avlink{4.2.ac\\_ac\\_e\\_a}$ & $\\avlink{3.2.ab\\_c\\_a}$ \\\\\n",
      "$(3, 7)$ & $\\avlink{4.2.ad\\_b\\_g\\_am}$ & $\\avlink{3.2.a\\_b\\_a},\\avlink{3.2.a\\_b\\_d}$ \\\\\n",
      "$(3, 7)$ & $\\avlink{4.2.ae\\_e\\_h\\_av}$ & $\\avlink{3.2.b\\_c\\_b},\\avlink{3.2.b\\_c\\_e}$ \\\\\n",
      "$(3, 7)$ & $\\avlink{4.2.ae\\_e\\_i\\_ay}$ & $\\avlink{3.2.b\\_c\\_a},\\avlink{3.2.b\\_c\\_d},\\avlink{3.2.b\\_d\\_e},\\avlink{3.2.c\\_e\\_h},\\avlink{3.2.d\\_h\\_l}$ \\\\\n",
      "$(3, 7)$ & $\\avlink{4.2.ae\\_f\\_c\\_al}$ & $\\avlink{3.2.b\\_b\\_b},\\avlink{3.2.b\\_b\\_e},\\avlink{3.2.b\\_c\\_d},\\avlink{3.2.b\\_e\\_e},\\avlink{3.2.c\\_d\\_f},\\avlink{3.2.c\\_e\\_h}$ \\\\\n",
      "\\hline\n",
      "$(4, 10)$ & $\\avlink{6.2.ag\\_p\\_ar\\_ag\\_cg\\_aei}$ & $\\avlink{4.2.d\\_f\\_i\\_n}$ \\\\\n",
      "$(4, 10)$ & $\\avlink{6.2.ag\\_p\\_at\\_g\\_bb\\_acj}$ & $\\avlink{4.2.d\\_f\\_k\\_s}$ \\\\\n",
      "$(4, 10)$ & $\\avlink{6.2.ah\\_v\\_abe\\_a\\_dk\\_ahc}$ & $\\avlink{4.2.e\\_j\\_q\\_z},\\avlink{4.2.e\\_k\\_u\\_bg}$ \\\\\n",
      "$(4, 10)$ & $\\avlink{6.2.ai\\_bc\\_abw\\_m\\_ey\\_alc}$ & $\\avlink{4.2.f\\_o\\_bc\\_bs}$ \\\\\n",
      "\\end{tabular}\n"
     ]
    }
   ],
   "source": [
    "print(r'\\begin{tabular}{c|c|c}')\n",
    "print(r\"$(g,g')$ & $A$ & $J(C)$ \\\\\")\n",
    "for (d,g,g1) in sorted(candidates):\n",
    "    if d != 3:\n",
    "        continue\n",
    "    print(r'\\hline')\n",
    "    tmp = defaultdict(list)\n",
    "    for counts1, counts2, _ in candidates[d,g,g1]:\n",
    "        u = weil_poly_from_point_count(counts1, g, q=2)\n",
    "        s = format_label(u)\n",
    "        u1 = weil_poly_from_point_count(counts2, g1, q=2)\n",
    "        s1 = format_label(u1//u)\n",
    "        tmp[s1].append(s)\n",
    "    for s1 in sorted(tmp):\n",
    "        l = sorted(tmp[s1])\n",
    "        if len(l) <= 7:\n",
    "            l1 = [l]\n",
    "        else:\n",
    "            l1 = [l[:len(l)//2], l[len(l)//2:]]\n",
    "        for l2 in l1:\n",
    "            print(r'${}$ & ${}$ & ${}$ \\\\'.format((g,g1),s1, \",\".join(l2)))\n",
    "print(r'\\end{tabular}')"
   ]
  },
  {
   "cell_type": "markdown",
   "id": "d6b22a11",
   "metadata": {},
   "source": [
    "Generate Table 7, part 3."
   ]
  },
  {
   "cell_type": "code",
   "execution_count": 9,
   "id": "b83800d9",
   "metadata": {},
   "outputs": [
    {
     "name": "stdout",
     "output_type": "stream",
     "text": [
      "\\begin{tabular}{c|c|c}\n",
      "$(d,g,g')$ & $A$ & $J(C)$ \\\\\n",
      "\\hline\n",
      "$(4, 2, 5)$ & $\\avlink{3.2.ac\\_ac\\_i}$ & $\\avlink{2.2.ab\\_c}$ \\\\\n",
      "$(4, 2, 5)$ & $\\avlink{3.2.ae\\_i\\_am}$ & $\\avlink{2.2.b\\_a},\\avlink{2.2.b\\_c},\\avlink{2.2.c\\_e}$ \\\\\n",
      "\\hline\n",
      "$(4, 2, 6)$ & $\\avlink{4.2.ae\\_e\\_i\\_ay}$ & $\\avlink{2.2.c\\_e}$ \\\\\n",
      "\\hline\n",
      "$(4, 3, 9)$ & $\\avlink{6.2.af\\_i\\_ab\\_ag\\_an\\_br}$ & $\\avlink{3.2.c\\_e\\_f}$ \\\\\n",
      "$(4, 3, 9)$ & $\\avlink{6.2.ag\\_o\\_am\\_am\\_bw\\_adc}$ & $\\avlink{3.2.d\\_g\\_i}$ \\\\\n",
      "\\hline\n",
      "$(5, 2, 6)$ & $\\avlink{4.2.ad\\_b\\_g\\_am}$ & $\\avlink{2.2.a\\_b}$ \\\\\n",
      "$(5, 2, 6)$ & $\\avlink{4.2.ad\\_c\\_a\\_b}$ & $\\avlink{2.2.a\\_a}$ \\\\\n",
      "$(5, 2, 6)$ & $\\avlink{4.2.ae\\_e\\_h\\_av}$ & $\\avlink{2.2.b\\_c}$ \\\\\n",
      "$(5, 2, 6)$ & $\\avlink{4.2.ae\\_e\\_i\\_ay}$ & $\\avlink{2.2.b\\_d}$ \\\\\n",
      "$(5, 2, 6)$ & $\\avlink{4.2.ae\\_h\\_ak\\_p}$ & $\\avlink{2.2.b\\_c}$ \\\\\n",
      "$(5, 2, 6)$ & $\\avlink{4.2.af\\_l\\_ao\\_q}$ & $\\avlink{2.2.c\\_e},\\avlink{2.2.d\\_f}$ \\\\\n",
      "$(5, 2, 6)$ & $\\avlink{4.2.af\\_n\\_az\\_bn}$ & $\\avlink{2.2.c\\_e}$ \\\\\n",
      "\\hline\n",
      "$(6, 2, 7)$ & $\\avlink{5.2.ae\\_e\\_e\\_am\\_q}$ & $\\avlink{2.2.b\\_c},\\avlink{2.2.c\\_e}$ \\\\\n",
      "$(6, 2, 7)$ & $\\avlink{5.2.af\\_k\\_ak\\_f\\_ac}$ & $\\avlink{2.2.c\\_c},\\avlink{2.2.c\\_d}$ \\\\\n",
      "$(6, 2, 7)$ & $\\avlink{5.2.af\\_l\\_as\\_bg\\_aca}$ & $\\avlink{2.2.c\\_c}$ \\\\\n",
      "$(6, 2, 7)$ & $\\avlink{5.2.ag\\_q\\_aba\\_bh\\_abr}$ & $\\avlink{2.2.d\\_f}$ \\\\\n",
      "$(6, 2, 7)$ & $\\avlink{5.2.ag\\_r\\_abg\\_bx\\_acs}$ & $\\avlink{2.2.d\\_f}$ \\\\\n",
      "\\hline\n",
      "$(7, 2, 8)$ & $\\avlink{6.2.af\\_j\\_ah\\_d\\_ab\\_ab}$ & $\\avlink{2.2.c\\_d}$ \\\\\n",
      "\\end{tabular}\n"
     ]
    }
   ],
   "source": [
    "print(r'\\begin{tabular}{c|c|c}')\n",
    "print(r\"$(d,g,g')$ & $A$ & $J(C)$ \\\\\")\n",
    "for (d,g,g1) in sorted(candidates):\n",
    "    if d <= 3:\n",
    "        continue\n",
    "    print(r'\\hline')\n",
    "    tmp = defaultdict(list)\n",
    "    for counts1, counts2, _ in candidates[d,g,g1]:\n",
    "        u = weil_poly_from_point_count(counts1, g, q=2)\n",
    "        s = format_label(u)\n",
    "        u1 = weil_poly_from_point_count(counts2, g1, q=2)\n",
    "        s1 = format_label(u1//u)\n",
    "        tmp[s1].append(s)\n",
    "    for s1 in sorted(tmp):\n",
    "        l = sorted(tmp[s1])\n",
    "        if len(l) <= 7:\n",
    "            l1 = [l]\n",
    "        else:\n",
    "            l1 = [l[:len(l)//2], l[len(l)//2:]]\n",
    "        for l2 in l1:\n",
    "            print(r'${}$ & ${}$ & ${}$ \\\\'.format((d,g,g1),s1, \",\".join(l2)))\n",
    "print(r'\\end{tabular}')"
   ]
  },
  {
   "cell_type": "markdown",
   "id": "81852f37",
   "metadata": {},
   "source": [
    "Generate Table 5."
   ]
  },
  {
   "cell_type": "code",
   "execution_count": 10,
   "id": "a6e6c169",
   "metadata": {},
   "outputs": [
    {
     "name": "stdout",
     "output_type": "stream",
     "text": [
      "\\begin{tabular}{c|c|c|c|c}\n",
      "$d$ & $g_F$ & $g_{F'}$ & $(\\#C(\\FF_{2^i}))$ & $(T_{A,2^i})$ \\\\\n",
      "\\hline\n",
      "$3$ & $2$ & $4$ & $1, 9$ & $1, 3$ \\\\\n",
      "$3$ & $2$ & $4$ & $3, 3$ & $3, -1$ \\\\\n",
      "$3$ & $2$ & $4$ & $3, 9$ & $3, -1$ \\\\\n",
      "$3$ & $2$ & $4$ & $4, 6$ & $4, 0$ \\\\\n",
      "$3$ & $2$ & $4$ & $5, 5$ & $4, 0$ \\\\\n",
      "\\hline\n",
      "$3$ & $2$ & $6$ & $3, 9$ & $3, 7, 0, 23$ \\\\\n",
      "$3$ & $2$ & $6$ & $4, 8$ & $4, 6, -2, -2$ \\\\\n",
      "$3$ & $2$ & $6$ & $4, 10$ & $4, 8, -5, 4$ \\\\\n",
      "$3$ & $2$ & $6$ & $5, 5$ & $5, 3, 2, -17$ \\\\\n",
      "\\hline\n",
      "$3$ & $3$ & $7$ & $2, 8, 14$ & $2, 8, 8, 24$ \\\\\n",
      "$3$ & $3$ & $7$ & $3, 7, 9$ & $3, 7, 0, 23$ \\\\\n",
      "$3$ & $3$ & $7$ & $3, 7, 18$ & $3, 7, 0, 23$ \\\\\n",
      "$3$ & $3$ & $7$ & $4, 6, 10$ & $4, 6, -2, -2$ \\\\\n",
      "$3$ & $3$ & $7$ & $4, 6, 19$ & $4, 6, -2, -2$ \\\\\n",
      "$3$ & $3$ & $7$ & $4, 8, 4$ & $4, 8, -8, 0$ \\\\\n",
      "$3$ & $3$ & $7$ & $4, 8, 7$ & $4, 8, -5, 4$ \\\\\n",
      "$3$ & $3$ & $7$ & $4, 8, 13$ & $4, 8, -8, 0$ \\\\\n",
      "$3$ & $3$ & $7$ & $4, 8, 13$ & $4, 6, -2, -2$ \\\\\n",
      "$3$ & $3$ & $7$ & $4, 8, 16$ & $4, 8, -5, 4$ \\\\\n",
      "$3$ & $3$ & $7$ & $4, 10, 13$ & $4, 8, -8, 0$ \\\\\n",
      "$3$ & $3$ & $7$ & $4, 12, 10$ & $4, 6, -2, -2$ \\\\\n",
      "$3$ & $3$ & $7$ & $5, 7, 14$ & $4, 6, -2, -2$ \\\\\n",
      "$3$ & $3$ & $7$ & $5, 9, 14$ & $4, 8, -8, 0$ \\\\\n",
      "$3$ & $3$ & $7$ & $5, 9, 14$ & $4, 6, -2, -2$ \\\\\n",
      "$3$ & $3$ & $7$ & $6, 10, 6$ & $4, 8, -8, 0$ \\\\\n",
      "\\hline\n",
      "$3$ & $4$ & $10$ & $6, 6, 15, 22$ & $6, 6, -3, 18, 1, 45$ \\\\\n",
      "$3$ & $4$ & $10$ & $6, 6, 21, 18$ & $6, 6, 3, 18, 6, -9$ \\\\\n",
      "$3$ & $4$ & $10$ & $7, 7, 13, 19$ & $7, 7, -8, 7, -13, 10$ \\\\\n",
      "$3$ & $4$ & $10$ & $7, 9, 13, 9$ & $7, 7, -8, 7, -13, 10$ \\\\\n",
      "$3$ & $4$ & $10$ & $8, 8, 8, 16$ & $8, 8, -16, -16, -32, 32$ \\\\\n",
      "\\hline\n",
      "$4$ & $2$ & $5$ & $2, 8$ & $2, 8, -4$ \\\\\n",
      "$4$ & $2$ & $5$ & $4, 4$ & $4, 0, 4$ \\\\\n",
      "$4$ & $2$ & $5$ & $4, 8$ & $4, 0, 4$ \\\\\n",
      "$4$ & $2$ & $5$ & $5, 9$ & $4, 0, 4$ \\\\\n",
      "\\hline\n",
      "$4$ & $2$ & $6$ & $5, 9$ & $4, 8, -8, 0$ \\\\\n",
      "\\hline\n",
      "$4$ & $3$ & $9$ & $5, 9, 8$ & $5, 9, 8, -3, 25, 18$ \\\\\n",
      "$4$ & $3$ & $9$ & $6, 8, 6$ & $6, 8, 0, 8, -24, 32$ \\\\\n",
      "\\hline\n",
      "$5$ & $2$ & $6$ & $3, 5$ & $3, 5, 9, 13$ \\\\\n",
      "$5$ & $2$ & $6$ & $3, 7$ & $3, 7, 0, 23$ \\\\\n",
      "$5$ & $2$ & $6$ & $4, 8$ & $4, 8, -5, 4$ \\\\\n",
      "$5$ & $2$ & $6$ & $4, 8$ & $4, 2, 10, 6$ \\\\\n",
      "$5$ & $2$ & $6$ & $4, 10$ & $4, 8, -8, 0$ \\\\\n",
      "$5$ & $2$ & $6$ & $5, 9$ & $5, 3, 2, -17$ \\\\\n",
      "$5$ & $2$ & $6$ & $5, 9$ & $5, -1, 5, 7$ \\\\\n",
      "$5$ & $2$ & $6$ & $6, 6$ & $5, 3, 2, -17$ \\\\\n",
      "\\hline\n",
      "$6$ & $2$ & $7$ & $4, 8$ & $4, 8, 4, 16, -16$ \\\\\n",
      "$6$ & $2$ & $7$ & $5, 5$ & $5, 5, 5, 5, 10$ \\\\\n",
      "$6$ & $2$ & $7$ & $5, 5$ & $5, 3, 14, -1, -5$ \\\\\n",
      "$6$ & $2$ & $7$ & $5, 7$ & $5, 5, 5, 5, 10$ \\\\\n",
      "$6$ & $2$ & $7$ & $5, 9$ & $4, 8, 4, 16, -16$ \\\\\n",
      "$6$ & $2$ & $7$ & $6, 6$ & $6, 4, 6, -4, 1$ \\\\\n",
      "$6$ & $2$ & $7$ & $6, 6$ & $6, 2, 6, -2, 6$ \\\\\n",
      "\\hline\n",
      "$7$ & $2$ & $8$ & $5, 7$ & $5, 7, 11, 15, 15, 7$ \\\\\n",
      "\\end{tabular}\n"
     ]
    }
   ],
   "source": [
    "print(r'\\begin{tabular}{c|c|c|c|c}')\n",
    "print(r\"$d$ & $g_F$ & $g_{F'}$ & $(\\#C(\\FF_{2^i}))$ & $(T_{A,2^i})$ \\\\\")\n",
    "for (d,g,g1) in sorted(candidates):\n",
    "    if d > 2:\n",
    "        print(r'\\hline')\n",
    "        for counts1, _, traces in candidates[d,g,g1]:\n",
    "            s1 = str(tuple(counts1))\n",
    "            s2 = str(tuple(traces))\n",
    "            print(r'${}$ & ${}$ & ${}$ & ${}$ & ${}$ \\\\'.format(d,g,g1,s1[1:-1], s2[1:-1]))\n",
    "print(r'\\end{tabular}')"
   ]
  }
 ],
 "metadata": {
  "kernelspec": {
   "display_name": "SageMath 10.5.beta2",
   "language": "sage",
   "name": "sagemath"
  },
  "language_info": {
   "codemirror_mode": {
    "name": "ipython",
    "version": 3
   },
   "file_extension": ".py",
   "mimetype": "text/x-python",
   "name": "python",
   "nbconvert_exporter": "python",
   "pygments_lexer": "ipython3",
   "version": "3.12.3"
  }
 },
 "nbformat": 4,
 "nbformat_minor": 5
}
